{
 "cells": [
  {
   "cell_type": "code",
   "execution_count": 5,
   "id": "96dd7d4a",
   "metadata": {},
   "outputs": [
    {
     "name": "stdout",
     "output_type": "stream",
     "text": [
      "Hello\n",
      "5\n"
     ]
    },
    {
     "data": {
      "text/plain": [
       "5"
      ]
     },
     "execution_count": 5,
     "metadata": {},
     "output_type": "execute_result"
    }
   ],
   "source": [
    "def moja_funkcija(x, y):\n",
    "    print(\"Hello\")\n",
    "    sum_ = x+y\n",
    "    print(sum_)\n",
    "    return sum_\n",
    "    \n",
    "funkcija = moja_funkcija\n",
    "\n",
    "funkcija(2,3 )"
   ]
  },
  {
   "cell_type": "code",
   "execution_count": 8,
   "id": "463c6bf3",
   "metadata": {},
   "outputs": [
    {
     "name": "stdout",
     "output_type": "stream",
     "text": [
      "Hello, Janez\n"
     ]
    }
   ],
   "source": [
    "def hello(name):\n",
    "    print(f\"Hello, {name}\")\n",
    "    \n",
    "func = [hello, 1, 2, 3, \"Janez\"]\n",
    "\n",
    "func[0](func[-1]) # hello(\"Janez\")"
   ]
  },
  {
   "cell_type": "markdown",
   "id": "7333c6a5",
   "metadata": {},
   "source": [
    "<div class=\"alert alert-block alert-info\">\n",
    "<h1><b>Naloga: </b></h1>\n",
    "\n",
    "Ustvarite funkcijo, ki kot parametra vzeme list številk in neko število <b>m</b>, ki predstavlja zgornjo mejo.\n",
    "    \n",
    "Funkcija naj se sprehodi skozi podan list in vsako število, ki je večje od m, spremeni v m.\n",
    "    \n",
    "Funkcija naj na koncu vrne spremenjen list.\n",
    "</div>\n",
    "\n",
    "Primeri:\n",
    "```python\n",
    "Input:\n",
    "funkcija([1,12,-3,54,12,-22,65,32], 33)\n",
    "\n",
    "Output:\n",
    "[1, 12, -3, 33, 12, -22, 33, 32]\n",
    "```\n"
   ]
  },
  {
   "cell_type": "code",
   "execution_count": 12,
   "id": "c34b35dc",
   "metadata": {},
   "outputs": [
    {
     "name": "stdout",
     "output_type": "stream",
     "text": [
      "[1, 12, -3, 33, 12, -22, 33, 32]\n"
     ]
    }
   ],
   "source": [
    "def funkcija(list_, m):\n",
    "    result = []\n",
    "    for value in list_:\n",
    "        if value >= m:\n",
    "            result.append(m)\n",
    "        else:\n",
    "            result.append(value)\n",
    "    \n",
    "    return result\n",
    "\n",
    "nov_list = funkcija([1,12,-3,54,12,-22,65,32], 33)\n",
    "print(nov_list)"
   ]
  },
  {
   "cell_type": "markdown",
   "id": "43c9544a",
   "metadata": {},
   "source": [
    "<div class=\"alert alert-block alert-info\">\n",
    "<h1><b>Naloga: </b></h1>\n",
    "\n",
    "Ustvari funkcijo, ki uredi list po vrstnem redu. Sprejme naj list in ukaz **asc** (naraščajoči vrstni red) ali **desc** (padajoči vrstni red). List naj nato ustrezno uredi. V kolikor ukaz ni posredovan naj bo default vrednost **asc**.\n",
    "</div>\n",
    "\n",
    "Primeri:\n",
    "```python\n",
    "Input:\n",
    "fun_03([1,4,2,8,4,0], ukaz=\"desc\")\n",
    "\n",
    "Output:\n",
    "[8, 4, 4, 2, 1, 0]\n",
    "\n",
    "\n",
    "Input:\n",
    "fun_03([1,4,2,8,4,0], ukaz=\"asc\")\n",
    "\n",
    "Output:\n",
    "[0, 1, 2, 4, 4, 8]\n",
    "\n",
    "\n",
    "Input:\n",
    "fun_03([5,8,-2,13,6,-6])\n",
    "\n",
    "Output:\n",
    "[-6, -2, 5, 6, 8, 13]\n",
    "```\n"
   ]
  },
  {
   "cell_type": "code",
   "execution_count": 22,
   "id": "250ce46f",
   "metadata": {},
   "outputs": [
    {
     "name": "stdout",
     "output_type": "stream",
     "text": [
      "Razvrsti od največje do najumanjše\n",
      "[8, 4, 4, 2, 1, 0]\n",
      "[0, 1, 2, 4, 4, 8]\n",
      "[-6, -2, 5, 6, 8, 13]\n"
     ]
    }
   ],
   "source": [
    "def fun_03(list_, ukaz=\"asc\"):\n",
    "    new_list = []\n",
    "    \n",
    "    if ukaz == \"asc\":\n",
    "        while list_:\n",
    "            minimum = min(list_)\n",
    "            new_list.append(minimum)\n",
    "            list_.remove(minimum)\n",
    "    elif ukaz == \"desc\":\n",
    "        print(\"Razvrsti od največje do najumanjše\")\n",
    "        while list_:\n",
    "            maximum = max(list_)\n",
    "            new_list.append(maximum)\n",
    "            list_.remove(maximum)\n",
    "    else:\n",
    "        print(\"Napačna vrednost!\")\n",
    "    return new_list\n",
    "\n",
    "print(fun_03([1,4,2,8,4,0], ukaz=\"desc\"))\n",
    "#[8, 4, 4, 2, 1, 0]\n",
    "\n",
    "print(fun_03([1,4,2,8,4,0], ukaz=\"asc\"))\n",
    "#[0, 1, 2, 4, 4, 8]\n",
    "\n",
    "print(fun_03([5,8,-2,13,6,-6]))\n",
    "# [-6, -2, 5, 6, 8, 13]"
   ]
  },
  {
   "cell_type": "code",
   "execution_count": 23,
   "id": "fdc241a0",
   "metadata": {},
   "outputs": [
    {
     "name": "stdout",
     "output_type": "stream",
     "text": [
      "[8, 4, 4, 2, 1, 0]\n",
      "[0, 1, 2, 4, 4, 8]\n",
      "[-6, -2, 5, 6, 8, 13]\n"
     ]
    }
   ],
   "source": [
    "def fun_03(list_, ukaz=\"asc\"):\n",
    "    if ukaz == \"asc\":\n",
    "        return sorted(list_, reverse=False)\n",
    "    elif ukaz == \"desc\":\n",
    "        return sorted(list_, reverse=True)\n",
    "\n",
    "print(fun_03([1,4,2,8,4,0], ukaz=\"desc\"))\n",
    "#[8, 4, 4, 2, 1, 0]\n",
    "\n",
    "print(fun_03([1,4,2,8,4,0], ukaz=\"asc\"))\n",
    "#[0, 1, 2, 4, 4, 8]\n",
    "\n",
    "print(fun_03([5,8,-2,13,6,-6]))\n",
    "# [-6, -2, 5, 6, 8, 13]"
   ]
  },
  {
   "cell_type": "markdown",
   "id": "5c498d65",
   "metadata": {},
   "source": [
    "# Lambda functions"
   ]
  },
  {
   "cell_type": "code",
   "execution_count": 25,
   "id": "64e239d9",
   "metadata": {},
   "outputs": [
    {
     "data": {
      "text/plain": [
       "5"
      ]
     },
     "execution_count": 25,
     "metadata": {},
     "output_type": "execute_result"
    }
   ],
   "source": [
    "(lambda x,y: x+y)(2,3)"
   ]
  },
  {
   "cell_type": "code",
   "execution_count": 27,
   "id": "5b9bf51c",
   "metadata": {},
   "outputs": [
    {
     "name": "stdout",
     "output_type": "stream",
     "text": [
      "5\n"
     ]
    }
   ],
   "source": [
    "add = lambda x, y: x+y\n",
    "print(add(2,3))"
   ]
  },
  {
   "cell_type": "code",
   "execution_count": 28,
   "id": "3be41fb0",
   "metadata": {},
   "outputs": [
    {
     "name": "stdout",
     "output_type": "stream",
     "text": [
      "5\n"
     ]
    }
   ],
   "source": [
    "def add(x,y):\n",
    "    return x+y\n",
    "\n",
    "print(add(2,3))"
   ]
  },
  {
   "cell_type": "code",
   "execution_count": 32,
   "id": "3d4ac4c0",
   "metadata": {},
   "outputs": [
    {
     "data": {
      "text/plain": [
       "[{'id': 'bitcoin',\n",
       "  'symbol': 'btc',\n",
       "  'name': 'Bitcoin',\n",
       "  'image': 'https://assets.coingecko.com/coins/images/1/large/bitcoin.png?1547033579',\n",
       "  'current_price': 47553,\n",
       "  'market_cap': 901453728232,\n",
       "  'total_volume': 47427138554,\n",
       "  'high_24h': 51131,\n",
       "  'low_24h': 48056},\n",
       " {'id': 'ethereum',\n",
       "  'symbol': 'eth',\n",
       "  'name': 'Ethereum',\n",
       "  'image': 'https://assets.coingecko.com/coins/images/279/large/ethereum.png?1595348880',\n",
       "  'current_price': 1479.97,\n",
       "  'market_cap': 172447578072,\n",
       "  'total_volume': 24709055087,\n",
       "  'high_24h': 1597.13,\n",
       "  'low_24h': 1493},\n",
       " {'id': 'binancecoin',\n",
       "  'symbol': 'bnb',\n",
       "  'name': 'Binance Coin',\n",
       "  'image': 'https://assets.coingecko.com/coins/images/825/large/binance-coin-logo.png?1547034615',\n",
       "  'current_price': 212.03,\n",
       "  'market_cap': 33015186690,\n",
       "  'total_volume': 2490184836,\n",
       "  'high_24h': 230.59,\n",
       "  'low_24h': 210.87},\n",
       " {'id': 'tether',\n",
       "  'symbol': 'usdt',\n",
       "  'name': 'Tether',\n",
       "  'image': 'https://assets.coingecko.com/coins/images/325/large/Tether-logo.png?1598003707',\n",
       "  'current_price': 0.83869,\n",
       "  'market_cap': 32307660438,\n",
       "  'total_volume': 82854947322,\n",
       "  'high_24h': 0.843104,\n",
       "  'low_24h': 0.832594},\n",
       " {'id': 'polkadot',\n",
       "  'symbol': 'dot',\n",
       "  'name': 'Polkadot',\n",
       "  'image': 'https://assets.coingecko.com/coins/images/12171/large/aJGBjJFU_400x400.jpg?1597804776',\n",
       "  'current_price': 29.28,\n",
       "  'market_cap': 28856989783,\n",
       "  'total_volume': 1266769267,\n",
       "  'high_24h': 32.2,\n",
       "  'low_24h': 29.54},\n",
       " {'id': 'cardano',\n",
       "  'symbol': 'ada',\n",
       "  'name': 'Cardano',\n",
       "  'image': 'https://assets.coingecko.com/coins/images/975/large/cardano.png?1547034860',\n",
       "  'current_price': 0.84514,\n",
       "  'market_cap': 27210647217,\n",
       "  'total_volume': 3204270671,\n",
       "  'high_24h': 0.919055,\n",
       "  'low_24h': 0.843236},\n",
       " {'id': 'ripple',\n",
       "  'symbol': 'xrp',\n",
       "  'name': 'XRP',\n",
       "  'image': 'https://assets.coingecko.com/coins/images/44/large/xrp-symbol-white-128.png?1605778731',\n",
       "  'current_price': 0.360658,\n",
       "  'market_cap': 16580549437,\n",
       "  'total_volume': 2357746464,\n",
       "  'high_24h': 0.381072,\n",
       "  'low_24h': 0.358941},\n",
       " {'id': 'uniswap',\n",
       "  'symbol': 'uni',\n",
       "  'name': 'Uniswap',\n",
       "  'image': 'https://assets.coingecko.com/coins/images/12504/large/uniswap-uni.png?1600306604',\n",
       "  'current_price': 24.94,\n",
       "  'market_cap': 13099199643,\n",
       "  'total_volume': 939432128,\n",
       "  'high_24h': 27.92,\n",
       "  'low_24h': 24.78},\n",
       " {'id': 'litecoin',\n",
       "  'symbol': 'ltc',\n",
       "  'name': 'Litecoin',\n",
       "  'image': 'https://assets.coingecko.com/coins/images/2/large/litecoin.png?1547033580',\n",
       "  'current_price': 171.49,\n",
       "  'market_cap': 11561005268,\n",
       "  'total_volume': 4950077782,\n",
       "  'high_24h': 187.34,\n",
       "  'low_24h': 172.45}]"
      ]
     },
     "execution_count": 32,
     "metadata": {},
     "output_type": "execute_result"
    }
   ],
   "source": [
    "data = [\n",
    "  {\n",
    "    \"id\": \"binancecoin\",\n",
    "    \"symbol\": \"bnb\",\n",
    "    \"name\": \"Binance Coin\",\n",
    "    \"image\": \"https://assets.coingecko.com/coins/images/825/large/binance-coin-logo.png?1547034615\",\n",
    "    \"current_price\": 212.03,\n",
    "    \"market_cap\": 33015186690,\n",
    "    \"total_volume\": 2490184836,\n",
    "    \"high_24h\": 230.59,\n",
    "    \"low_24h\": 210.87,\n",
    "  },\n",
    "  {\n",
    "    \"id\": \"bitcoin\",\n",
    "    \"symbol\": \"btc\",\n",
    "    \"name\": \"Bitcoin\",\n",
    "    \"image\": \"https://assets.coingecko.com/coins/images/1/large/bitcoin.png?1547033579\",\n",
    "    \"current_price\": 47553,\n",
    "    \"market_cap\": 901453728232,\n",
    "    \"total_volume\": 47427138554,\n",
    "    \"high_24h\": 51131,\n",
    "    \"low_24h\": 48056,\n",
    "  },\n",
    "  {\n",
    "    \"id\": \"cardano\",\n",
    "    \"symbol\": \"ada\",\n",
    "    \"name\": \"Cardano\",\n",
    "    \"image\": \"https://assets.coingecko.com/coins/images/975/large/cardano.png?1547034860\",\n",
    "    \"current_price\": 0.84514,\n",
    "    \"market_cap\": 27210647217,\n",
    "    \"total_volume\": 3204270671,\n",
    "    \"high_24h\": 0.919055,\n",
    "    \"low_24h\": 0.843236,\n",
    "  },\n",
    "  {\n",
    "    \"id\": \"ethereum\",\n",
    "    \"symbol\": \"eth\",\n",
    "    \"name\": \"Ethereum\",\n",
    "    \"image\": \"https://assets.coingecko.com/coins/images/279/large/ethereum.png?1595348880\",\n",
    "    \"current_price\": 1479.97,\n",
    "    \"market_cap\": 172447578072,\n",
    "    \"total_volume\": 24709055087,\n",
    "    \"high_24h\": 1597.13,\n",
    "    \"low_24h\": 1493,\n",
    "  },\n",
    "  {\n",
    "    \"id\": \"litecoin\",\n",
    "    \"symbol\": \"ltc\",\n",
    "    \"name\": \"Litecoin\",\n",
    "    \"image\": \"https://assets.coingecko.com/coins/images/2/large/litecoin.png?1547033580\",\n",
    "    \"current_price\": 171.49,\n",
    "    \"market_cap\": 11561005268,\n",
    "    \"total_volume\": 4950077782,\n",
    "    \"high_24h\": 187.34,\n",
    "    \"low_24h\": 172.45,\n",
    "  },\n",
    "  {\n",
    "    \"id\": \"polkadot\",\n",
    "    \"symbol\": \"dot\",\n",
    "    \"name\": \"Polkadot\",\n",
    "    \"image\": \"https://assets.coingecko.com/coins/images/12171/large/aJGBjJFU_400x400.jpg?1597804776\",\n",
    "    \"current_price\": 29.28,\n",
    "    \"market_cap\": 28856989783,\n",
    "    \"total_volume\": 1266769267,\n",
    "    \"high_24h\": 32.2,\n",
    "    \"low_24h\": 29.54,\n",
    "  },\n",
    "  {\n",
    "    \"id\": \"ripple\",\n",
    "    \"symbol\": \"xrp\",\n",
    "    \"name\": \"XRP\",\n",
    "    \"image\": \"https://assets.coingecko.com/coins/images/44/large/xrp-symbol-white-128.png?1605778731\",\n",
    "    \"current_price\": 0.360658,\n",
    "    \"market_cap\": 16580549437,\n",
    "    \"total_volume\": 2357746464,\n",
    "    \"high_24h\": 0.381072,\n",
    "    \"low_24h\": 0.358941,\n",
    "  },\n",
    "  {\n",
    "    \"id\": \"tether\",\n",
    "    \"symbol\": \"usdt\",\n",
    "    \"name\": \"Tether\",\n",
    "    \"image\": \"https://assets.coingecko.com/coins/images/325/large/Tether-logo.png?1598003707\",\n",
    "    \"current_price\": 0.83869,\n",
    "    \"market_cap\": 32307660438,\n",
    "    \"total_volume\": 82854947322,\n",
    "    \"high_24h\": 0.843104,\n",
    "    \"low_24h\": 0.832594,\n",
    "  },\n",
    "  {\n",
    "    \"id\": \"uniswap\",\n",
    "    \"symbol\": \"uni\",\n",
    "    \"name\": \"Uniswap\",\n",
    "    \"image\": \"https://assets.coingecko.com/coins/images/12504/large/uniswap-uni.png?1600306604\",\n",
    "    \"current_price\": 24.94,\n",
    "    \"market_cap\": 13099199643,\n",
    "    \"total_volume\": 939432128,\n",
    "    \"high_24h\": 27.92,\n",
    "    \"low_24h\": 24.78,\n",
    "  }\n",
    "]\n",
    "\n",
    "\n",
    "def sort_funkcija(x):\n",
    "    return x[\"market_cap\"]\n",
    "\n",
    "\n",
    "#sorted(data, key=sort_funkcija, reverse=True)\n",
    "\n",
    "sorted(data, key= lambda x: x[\"market_cap\"], reverse=True)"
   ]
  },
  {
   "cell_type": "markdown",
   "id": "dbd0d73e",
   "metadata": {},
   "source": [
    "# http://collabedit.com/v3w5p"
   ]
  },
  {
   "cell_type": "markdown",
   "id": "09991386",
   "metadata": {},
   "source": [
    "<div class=\"alert alert-block alert-info\">\n",
    "<h1><b>Naloga: </b></h1>\n",
    "Imamo podatke o GDP Evropskih držav od leta 2010 do 2020.\n",
    "    \n",
    "Uporabite funkcijo <b>sorted()</b> in določite takšno <b>lambda funkcijo</b>, da razvrstimo države po GDP leta 2020 od največje do najmanjše.\n",
    "    \n",
    "Izpišite imena držav od največje do najmanjše.\n",
    "</div>\n",
    "\n",
    "Primeri:\n",
    "```python\n",
    "Input:\n",
    "data = [[\"Austria\", 392.623, 431.515, 409.652, 430.203, 442.698, 381.998, 394.215, 417.721, 456.166, 447.718, 432.894],\n",
    "[\"Belgium\", 484.450, 527.492,498.161, 521.090, 531.651, 456.067, 469.931, 495.953, 532.268, 517.609, 503.416],\n",
    "[\"Bosnia\", 17.164, 18.629, 17.207, 18.155, 18.522, 16.210, 16.910, 18.081, 20.162, 20.106, 18.893],\n",
    "[\"Bulgaria\", 50.611, 57.420, 53.901, 55.557, 56.815, 50.201, 53.236, 58.342, 65.197, 66.250, 67.917],\n",
    "[\"Croatia\", 59.866, 62.399, 56.549, 58.158, 57.683, 49.519, 51.623, 55.201, 60.805, 60.702, 56.768],\n",
    "[\"Cyprus\", 25.608, 27.454, 25.055, 24.094, 23.401, 19.691, 20.461, 22.189, 24.493, 24.280, 23.246],\n",
    "[\"Czech Republic\", 207.478, 227.948, 207.376, 209.402, 207.818, 186.830, 195.090, 215.914, 245.226, 246.953, 241.975],\n",
    "[\"Denmark\",321.995,344.003,327.149,343.584, 352.994,302.673,311.988,329.866,352.058,347.176,339.626],\n",
    "[\"Estonia\",19.536,23.191,23.057,25.145, 26.658, 22.916,23.994,26.850,30.761,31.038,30.468],\n",
    "[\"Finland\",248.262,273.925,256.849,270.065,273.042,232.582,239.150,252.867,274.210,269.654,267.856],\n",
    "[\"France\",2647.537,2864.030,2685.311,2811.957,2856.697,2439.435,2466.152,2591.775,2780.152,2707.074,2551.451],\n",
    "[\"Germany\",3423.466,3761.142,3545.946,3753.687,3904.921,3383.091,3496.606,3664.511,3951.340,3863.344,3780.553],\n",
    "[\"Greece\",299.919,288.062,245.807,239.937,237.406,196.690,195.303,203.493,218.230,214.012,194.376],\n",
    "[\"Hungary\",130.923,140.782,127.857,135.221,140.083,123.074,126.008, 139.844,161.182,170.407,149.939],\n",
    "[\"Iceland\",13.684,15.159,14.724,16.034, 17.758,17.389,20.618,24.457,25.965, 23.918,20.805],\n",
    "[\"Ireland\",222.533,238.088, 225.140,238.708,259.200,290.858,301.968,335.211,382.754,384.940,399.064],\n",
    "[\"Italy\",2129.021,2278.376,2073.971,2131.159,2155.151,1833.195,1869.973,1950.703,2075.856,2001.440,1848.222],\n",
    "[\"Latvia\",23.809,28.496,28.141,30.260,31.385,26.986,27.707,30.528,34.882,35.045,33.015],\n",
    "[\"Liechtenstein\",5.082,5.740,5.456,6.392,6.657,6.268,6.215],\n",
    "[\"Lithuania\",37.200,43.564, 42.887,46.423,48.632,41.538,42.991,47.645,53.302,53.641,55.064],\n",
    "[\"Luxembourg\",53.312,60.060,56.709,61.759,66.209,57.233,58.985,62.449,69.553,69.453,68.613],\n",
    "[\"Malta\",8.757,9.511,9.215,10.154,11.302,10.701,11.446,12.764,14.560,14.859,14.290],\n",
    "[\"Montenegro\",4.147,4.543,4.090,4.466,4.595,4.055,4.376,4.855,5.457,5.424,4.943],\n",
    "[\"Netherlands\",848.133,904.915,839.436, 877.198,892.397,765.650,783.852,833.575,914.519,902.355,886.339],\n",
    "[\"Norway\",429.131,498.832,510.229,523.502,499.338,386.663,371.345,398.394,434.167,417.627,366.386],\n",
    "[\"Poland\",479.161,528.571,500.846,524.399,545.284,477.568,471.843,526.749,585.816,565.854,580.894],\n",
    "[\"Portugal\",238.748,245.119,216.488,226.144,229.995,199.521,206.361,221.280,240.901,236.408,221.716],\n",
    "[\"Romania\",166.225, 183.443,171.196,190.948,199.628,177.895,188.495,211.407,239.552,243.698,248.624],\n",
    "[\"Serbia\",41.369,49.280,43.300, 48.394,47.062,39.629,40.630,44.120, 50.509,51.523,51.999],\n",
    "[\"Slovakia\",89.668, 98.271,93.466,98.509,101.109,87.814,89.885,95.821,106.573,106.552,101.892],\n",
    "[\"Slovenia\",48.103,51.338,46.378,48.131,49.969,43.124,44.660,48.545,54.059,54.154,51.802],\n",
    "[\"Spain\",1434.286,1489.431,1336.759,1362.280,1379.098,1199.688,1238.010, 1317.104,1427.533,1397.870,1247.464],\n",
    "[\"Sweden\",488.909,563.797,544.482,579.361,574.413,498.118,512.205,540.545,556.073,528.929,529.054],\n",
    "[\"Switzerland\",583.053, 699.670,667.890,688.747,709.496,679.721,670.247,680.029,705.546,715.360,707.868],\n",
    "[\"Turkey\",772.290,832.497,873.696,950.328,934.075,859.449,863.390,852.648,771.274,743.708,649.436],\n",
    "[\"United Kingdom\",2455.309,2635.799,2677.082,2755.356,3036.310,2897.060,2669.107,2640.067,2828.833,2743.586,2638.296]]\n",
    "\n",
    "\n",
    "\n",
    "Output:\n",
    "Germany\n",
    "United Kingdom\n",
    "France\n",
    "Italy\n",
    "Spain\n",
    "Netherlands\n",
    "Switzerland\n",
    "Turkey\n",
    "Poland\n",
    "Sweden\n",
    "Belgium\n",
    "Austria\n",
    "Ireland\n",
    "Norway\n",
    "Denmark\n",
    "Finland\n",
    "Romania\n",
    "Czech Republic\n",
    "Portugal\n",
    "Greece\n",
    "Hungary\n",
    "Slovakia\n",
    "Luxembourg\n",
    "Bulgaria\n",
    "Croatia\n",
    "Lithuania\n",
    "Serbia\n",
    "Slovenia\n",
    "Latvia\n",
    "Estonia\n",
    "Cyprus\n",
    "Iceland\n",
    "Bosnia\n",
    "Malta\n",
    "Liechtenstein\n",
    "Montenegro\n",
    "\n",
    "    \n",
    "```\n"
   ]
  },
  {
   "cell_type": "code",
   "execution_count": 35,
   "id": "3269e6e6",
   "metadata": {},
   "outputs": [
    {
     "name": "stdout",
     "output_type": "stream",
     "text": [
      "Germany\n",
      "United Kingdom\n",
      "France\n",
      "Italy\n",
      "Spain\n",
      "Netherlands\n",
      "Switzerland\n",
      "Turkey\n",
      "Poland\n",
      "Sweden\n",
      "Belgium\n",
      "Austria\n",
      "Ireland\n",
      "Norway\n",
      "Denmark\n",
      "Finland\n",
      "Romania\n",
      "Czech Republic\n",
      "Portugal\n",
      "Greece\n",
      "Hungary\n",
      "Slovakia\n",
      "Luxembourg\n",
      "Bulgaria\n",
      "Croatia\n",
      "Lithuania\n",
      "Serbia\n",
      "Slovenia\n",
      "Latvia\n",
      "Estonia\n",
      "Cyprus\n",
      "Iceland\n",
      "Bosnia\n",
      "Malta\n",
      "Liechtenstein\n",
      "Montenegro\n"
     ]
    }
   ],
   "source": [
    "data = [[\"Austria\", 392.623, 431.515, 409.652, 430.203, 442.698, 381.998, 394.215, 417.721, 456.166, 447.718, 432.894],\n",
    "[\"Belgium\", 484.450, 527.492,498.161, 521.090, 531.651, 456.067, 469.931, 495.953, 532.268, 517.609, 503.416],\n",
    "[\"Bosnia\", 17.164, 18.629, 17.207, 18.155, 18.522, 16.210, 16.910, 18.081, 20.162, 20.106, 18.893],\n",
    "[\"Bulgaria\", 50.611, 57.420, 53.901, 55.557, 56.815, 50.201, 53.236, 58.342, 65.197, 66.250, 67.917],\n",
    "[\"Croatia\", 59.866, 62.399, 56.549, 58.158, 57.683, 49.519, 51.623, 55.201, 60.805, 60.702, 56.768],\n",
    "[\"Cyprus\", 25.608, 27.454, 25.055, 24.094, 23.401, 19.691, 20.461, 22.189, 24.493, 24.280, 23.246],\n",
    "[\"Czech Republic\", 207.478, 227.948, 207.376, 209.402, 207.818, 186.830, 195.090, 215.914, 245.226, 246.953, 241.975],\n",
    "[\"Denmark\",321.995,344.003,327.149,343.584, 352.994,302.673,311.988,329.866,352.058,347.176,339.626],\n",
    "[\"Estonia\",19.536,23.191,23.057,25.145, 26.658, 22.916,23.994,26.850,30.761,31.038,30.468],\n",
    "[\"Finland\",248.262,273.925,256.849,270.065,273.042,232.582,239.150,252.867,274.210,269.654,267.856],\n",
    "[\"France\",2647.537,2864.030,2685.311,2811.957,2856.697,2439.435,2466.152,2591.775,2780.152,2707.074,2551.451],\n",
    "[\"Germany\",3423.466,3761.142,3545.946,3753.687,3904.921,3383.091,3496.606,3664.511,3951.340,3863.344,3780.553],\n",
    "[\"Greece\",299.919,288.062,245.807,239.937,237.406,196.690,195.303,203.493,218.230,214.012,194.376],\n",
    "[\"Hungary\",130.923,140.782,127.857,135.221,140.083,123.074,126.008, 139.844,161.182,170.407,149.939],\n",
    "[\"Iceland\",13.684,15.159,14.724,16.034, 17.758,17.389,20.618,24.457,25.965, 23.918,20.805],\n",
    "[\"Ireland\",222.533,238.088, 225.140,238.708,259.200,290.858,301.968,335.211,382.754,384.940,399.064],\n",
    "[\"Italy\",2129.021,2278.376,2073.971,2131.159,2155.151,1833.195,1869.973,1950.703,2075.856,2001.440,1848.222],\n",
    "[\"Latvia\",23.809,28.496,28.141,30.260,31.385,26.986,27.707,30.528,34.882,35.045,33.015],\n",
    "[\"Liechtenstein\",5.082,5.740,5.456,6.392,6.657,6.268,6.215],\n",
    "[\"Lithuania\",37.200,43.564, 42.887,46.423,48.632,41.538,42.991,47.645,53.302,53.641,55.064],\n",
    "[\"Luxembourg\",53.312,60.060,56.709,61.759,66.209,57.233,58.985,62.449,69.553,69.453,68.613],\n",
    "[\"Malta\",8.757,9.511,9.215,10.154,11.302,10.701,11.446,12.764,14.560,14.859,14.290],\n",
    "[\"Montenegro\",4.147,4.543,4.090,4.466,4.595,4.055,4.376,4.855,5.457,5.424,4.943],\n",
    "[\"Netherlands\",848.133,904.915,839.436, 877.198,892.397,765.650,783.852,833.575,914.519,902.355,886.339],\n",
    "[\"Norway\",429.131,498.832,510.229,523.502,499.338,386.663,371.345,398.394,434.167,417.627,366.386],\n",
    "[\"Poland\",479.161,528.571,500.846,524.399,545.284,477.568,471.843,526.749,585.816,565.854,580.894],\n",
    "[\"Portugal\",238.748,245.119,216.488,226.144,229.995,199.521,206.361,221.280,240.901,236.408,221.716],\n",
    "[\"Romania\",166.225, 183.443,171.196,190.948,199.628,177.895,188.495,211.407,239.552,243.698,248.624],\n",
    "[\"Serbia\",41.369,49.280,43.300, 48.394,47.062,39.629,40.630,44.120, 50.509,51.523,51.999],\n",
    "[\"Slovakia\",89.668, 98.271,93.466,98.509,101.109,87.814,89.885,95.821,106.573,106.552,101.892],\n",
    "[\"Slovenia\",48.103,51.338,46.378,48.131,49.969,43.124,44.660,48.545,54.059,54.154,51.802],\n",
    "[\"Spain\",1434.286,1489.431,1336.759,1362.280,1379.098,1199.688,1238.010, 1317.104,1427.533,1397.870,1247.464],\n",
    "[\"Sweden\",488.909,563.797,544.482,579.361,574.413,498.118,512.205,540.545,556.073,528.929,529.054],\n",
    "[\"Switzerland\",583.053, 699.670,667.890,688.747,709.496,679.721,670.247,680.029,705.546,715.360,707.868],\n",
    "[\"Turkey\",772.290,832.497,873.696,950.328,934.075,859.449,863.390,852.648,771.274,743.708,649.436],\n",
    "[\"United Kingdom\",2455.309,2635.799,2677.082,2755.356,3036.310,2897.060,2669.107,2640.067,2828.833,2743.586,2638.296]]\n",
    "\n",
    "\n",
    "new_list = sorted(data, key= lambda x: x[-1], reverse = True)\n",
    "for i in new_list:\n",
    "    print(i[0])"
   ]
  },
  {
   "cell_type": "markdown",
   "id": "9e847709",
   "metadata": {},
   "source": [
    "# Generatorji"
   ]
  },
  {
   "cell_type": "code",
   "execution_count": 42,
   "id": "2f1b52a2",
   "metadata": {},
   "outputs": [
    {
     "name": "stdout",
     "output_type": "stream",
     "text": [
      "<generator object moj_range at 0x7feeac02f970>\n",
      "<class 'generator'>\n",
      "Start creating moj range\n",
      "5\n",
      "6\n",
      "7\n",
      "8\n",
      "9\n",
      "Stop generator\n"
     ]
    },
    {
     "ename": "StopIteration",
     "evalue": "",
     "output_type": "error",
     "traceback": [
      "\u001b[0;31m---------------------------------------------------------------------------\u001b[0m",
      "\u001b[0;31mStopIteration\u001b[0m                             Traceback (most recent call last)",
      "\u001b[0;32m<ipython-input-42-0d8f079af07f>\u001b[0m in \u001b[0;36m<module>\u001b[0;34m\u001b[0m\n\u001b[1;32m     15\u001b[0m \u001b[0mprint\u001b[0m\u001b[0;34m(\u001b[0m\u001b[0mnext\u001b[0m\u001b[0;34m(\u001b[0m\u001b[0mval\u001b[0m\u001b[0;34m)\u001b[0m\u001b[0;34m)\u001b[0m\u001b[0;34m\u001b[0m\u001b[0;34m\u001b[0m\u001b[0m\n\u001b[1;32m     16\u001b[0m \u001b[0mprint\u001b[0m\u001b[0;34m(\u001b[0m\u001b[0mnext\u001b[0m\u001b[0;34m(\u001b[0m\u001b[0mval\u001b[0m\u001b[0;34m)\u001b[0m\u001b[0;34m)\u001b[0m\u001b[0;34m\u001b[0m\u001b[0;34m\u001b[0m\u001b[0m\n\u001b[0;32m---> 17\u001b[0;31m \u001b[0mprint\u001b[0m\u001b[0;34m(\u001b[0m\u001b[0mnext\u001b[0m\u001b[0;34m(\u001b[0m\u001b[0mval\u001b[0m\u001b[0;34m)\u001b[0m\u001b[0;34m)\u001b[0m\u001b[0;34m\u001b[0m\u001b[0;34m\u001b[0m\u001b[0m\n\u001b[0m",
      "\u001b[0;31mStopIteration\u001b[0m: "
     ]
    }
   ],
   "source": [
    "def moj_range(n):\n",
    "    print(\"Start creating moj range\")\n",
    "    while n<10:\n",
    "        yield n\n",
    "        n += 1\n",
    "    print(\"Stop generator\")\n",
    "    \n",
    "val = moj_range(5)\n",
    "print(val)\n",
    "print(type(val))\n",
    "\n",
    "print(next(val))\n",
    "print(next(val))\n",
    "print(next(val))\n",
    "print(next(val))\n",
    "print(next(val))\n",
    "print(next(val))"
   ]
  },
  {
   "cell_type": "code",
   "execution_count": 46,
   "id": "02f6a547",
   "metadata": {},
   "outputs": [
    {
     "name": "stdout",
     "output_type": "stream",
     "text": [
      "5\n",
      "8\n",
      "11\n",
      "14\n",
      "17\n",
      "Nadlajevanje programa\n"
     ]
    }
   ],
   "source": [
    "def moj_range(start, stop, step=1):\n",
    "    while start<stop:\n",
    "        yield start\n",
    "        start += step\n",
    "    \n",
    "for i in moj_range(5, 20, 3):\n",
    "    print(i)\n",
    "    \n",
    "print(\"Nadlajevanje programa\")"
   ]
  },
  {
   "cell_type": "code",
   "execution_count": 48,
   "id": "b16841bf",
   "metadata": {},
   "outputs": [
    {
     "name": "stdout",
     "output_type": "stream",
     "text": [
      "[5, 8, 11, 14, 17]\n"
     ]
    }
   ],
   "source": [
    "def moj_range(start, stop, step=1):\n",
    "    while start < stop:\n",
    "        yield start\n",
    "        start += step\n",
    "        \n",
    "val = moj_range(5, 20, 3)\n",
    "print(list(val))"
   ]
  },
  {
   "cell_type": "markdown",
   "id": "379ed7b9",
   "metadata": {},
   "source": [
    "# List comprehensions"
   ]
  },
  {
   "cell_type": "code",
   "execution_count": 55,
   "id": "aa2b3bff",
   "metadata": {},
   "outputs": [
    {
     "name": "stdout",
     "output_type": "stream",
     "text": [
      "[1, 4, 9, 16, 25, 36, 49, 64, 81, 100]\n"
     ]
    }
   ],
   "source": [
    "a = [1,2,3,4,5,6,7,8,9,10]\n",
    "squares = []\n",
    "\n",
    "for value in a:\n",
    "    squares.append(value**2)\n",
    "    \n",
    "print(squares)"
   ]
  },
  {
   "cell_type": "code",
   "execution_count": 52,
   "id": "43270f56",
   "metadata": {},
   "outputs": [
    {
     "name": "stdout",
     "output_type": "stream",
     "text": [
      "[1, 4, 9, 16, 25, 36, 49, 64, 81, 100]\n"
     ]
    }
   ],
   "source": [
    "a = [1,2,3,4,5,6,7,8,9,10]\n",
    "squares = [r**2 for r in a]\n",
    "print(squares)"
   ]
  },
  {
   "cell_type": "code",
   "execution_count": 61,
   "id": "b50c7d71",
   "metadata": {},
   "outputs": [
    {
     "name": "stdout",
     "output_type": "stream",
     "text": [
      "[36, 144]\n"
     ]
    }
   ],
   "source": [
    "a = [1,2,3,4,5,6,7,8,9,10,11,12,13,14]\n",
    "sqaures = [value**2 for value in a if value%2==0 and value%3==0]\n",
    "print(sqaures)"
   ]
  },
  {
   "cell_type": "code",
   "execution_count": 63,
   "id": "106f5617",
   "metadata": {},
   "outputs": [
    {
     "name": "stdout",
     "output_type": "stream",
     "text": [
      "{64, 1, 4, 36, 100, 9, 16, 49, 81, 25}\n"
     ]
    }
   ],
   "source": [
    "a = {1,2,3,4,5,6,7,8,9,10}\n",
    "squares = {value**2 for value in a}\n",
    "print(squares)"
   ]
  },
  {
   "cell_type": "code",
   "execution_count": 65,
   "id": "7a920c98",
   "metadata": {},
   "outputs": [
    {
     "name": "stdout",
     "output_type": "stream",
     "text": [
      "{'a': 2, 'b': 4, 'c': 6, 'd': 8}\n"
     ]
    }
   ],
   "source": [
    "dict_ = {\"a\": 1, \"b\": 2, \"c\": 3, \"d\": 4}\n",
    "sq_ = {k:v*2 for (k,v) in dict_.items()}\n",
    "print(sq_)"
   ]
  },
  {
   "cell_type": "markdown",
   "id": "cb265171",
   "metadata": {},
   "source": [
    "# Variable scope"
   ]
  },
  {
   "cell_type": "code",
   "execution_count": 68,
   "id": "ef1cf294",
   "metadata": {},
   "outputs": [
    {
     "name": "stdout",
     "output_type": "stream",
     "text": [
      "Spr1: 5\n",
      "Spr2: 10\n"
     ]
    },
    {
     "ename": "NameError",
     "evalue": "name 'spr2' is not defined",
     "output_type": "error",
     "traceback": [
      "\u001b[0;31m---------------------------------------------------------------------------\u001b[0m",
      "\u001b[0;31mNameError\u001b[0m                                 Traceback (most recent call last)",
      "\u001b[0;32m<ipython-input-68-edee94a16e22>\u001b[0m in \u001b[0;36m<module>\u001b[0;34m\u001b[0m\n\u001b[1;32m      6\u001b[0m \u001b[0mfunkcija\u001b[0m\u001b[0;34m(\u001b[0m\u001b[0;36m5\u001b[0m\u001b[0;34m)\u001b[0m\u001b[0;34m\u001b[0m\u001b[0;34m\u001b[0m\u001b[0m\n\u001b[1;32m      7\u001b[0m \u001b[0;31m#print(f\"Spr1: {spr1}\")\u001b[0m\u001b[0;34m\u001b[0m\u001b[0;34m\u001b[0m\u001b[0;34m\u001b[0m\u001b[0m\n\u001b[0;32m----> 8\u001b[0;31m \u001b[0mprint\u001b[0m\u001b[0;34m(\u001b[0m\u001b[0;34mf\"Spr2: {spr2}\"\u001b[0m\u001b[0;34m)\u001b[0m\u001b[0;34m\u001b[0m\u001b[0;34m\u001b[0m\u001b[0m\n\u001b[0m",
      "\u001b[0;31mNameError\u001b[0m: name 'spr2' is not defined"
     ]
    }
   ],
   "source": [
    "def funkcija(spr1):\n",
    "    spr2=10\n",
    "    print(f\"Spr1: {spr1}\")\n",
    "    print(f\"Spr2: {spr2}\")\n",
    "    \n",
    "funkcija(5)\n",
    "#print(f\"Spr1: {spr1}\")\n",
    "print(f\"Spr2: {spr2}\")"
   ]
  },
  {
   "cell_type": "code",
   "execution_count": 74,
   "id": "453f228d",
   "metadata": {},
   "outputs": [
    {
     "name": "stdout",
     "output_type": "stream",
     "text": [
      "Spr1: 6\n",
      "Spr1: 6\n"
     ]
    },
    {
     "ename": "NameError",
     "evalue": "name 'spr4' is not defined",
     "output_type": "error",
     "traceback": [
      "\u001b[0;31m---------------------------------------------------------------------------\u001b[0m",
      "\u001b[0;31mNameError\u001b[0m                                 Traceback (most recent call last)",
      "\u001b[0;32m<ipython-input-74-250aead8ab51>\u001b[0m in \u001b[0;36m<module>\u001b[0;34m\u001b[0m\n\u001b[1;32m     11\u001b[0m     \u001b[0mprint\u001b[0m\u001b[0;34m(\u001b[0m\u001b[0;34mf\"Spr3: {spr3}\"\u001b[0m\u001b[0;34m)\u001b[0m\u001b[0;34m\u001b[0m\u001b[0;34m\u001b[0m\u001b[0m\n\u001b[1;32m     12\u001b[0m \u001b[0;34m\u001b[0m\u001b[0m\n\u001b[0;32m---> 13\u001b[0;31m \u001b[0mfunkcija\u001b[0m\u001b[0;34m(\u001b[0m\u001b[0;34m)\u001b[0m\u001b[0;34m\u001b[0m\u001b[0;34m\u001b[0m\u001b[0m\n\u001b[0m\u001b[1;32m     14\u001b[0m \u001b[0mprint\u001b[0m\u001b[0;34m(\u001b[0m\u001b[0;34m)\u001b[0m\u001b[0;34m\u001b[0m\u001b[0;34m\u001b[0m\u001b[0m\n\u001b[1;32m     15\u001b[0m \u001b[0;34m\u001b[0m\u001b[0m\n",
      "\u001b[0;32m<ipython-input-74-250aead8ab51>\u001b[0m in \u001b[0;36mfunkcija\u001b[0;34m()\u001b[0m\n\u001b[1;32m      8\u001b[0m     \u001b[0mspr3\u001b[0m \u001b[0;34m=\u001b[0m \u001b[0;36m200\u001b[0m\u001b[0;34m\u001b[0m\u001b[0;34m\u001b[0m\u001b[0m\n\u001b[1;32m      9\u001b[0m     \u001b[0mprint\u001b[0m\u001b[0;34m(\u001b[0m\u001b[0;34mf\"Spr1: {spr1}\"\u001b[0m\u001b[0;34m)\u001b[0m\u001b[0;34m\u001b[0m\u001b[0;34m\u001b[0m\u001b[0m\n\u001b[0;32m---> 10\u001b[0;31m     \u001b[0mprint\u001b[0m\u001b[0;34m(\u001b[0m\u001b[0;34mf\"Spr2: {spr4}\"\u001b[0m\u001b[0;34m)\u001b[0m\u001b[0;34m\u001b[0m\u001b[0;34m\u001b[0m\u001b[0m\n\u001b[0m\u001b[1;32m     11\u001b[0m     \u001b[0mprint\u001b[0m\u001b[0;34m(\u001b[0m\u001b[0;34mf\"Spr3: {spr3}\"\u001b[0m\u001b[0;34m)\u001b[0m\u001b[0;34m\u001b[0m\u001b[0;34m\u001b[0m\u001b[0m\n\u001b[1;32m     12\u001b[0m \u001b[0;34m\u001b[0m\u001b[0m\n",
      "\u001b[0;31mNameError\u001b[0m: name 'spr4' is not defined"
     ]
    }
   ],
   "source": [
    "spr1 = 6\n",
    "print(f\"Spr1: {spr1}\")\n",
    "\n",
    "if spr1 == 5:\n",
    "    spr4 = 10\n",
    "    \n",
    "def funkcija():\n",
    "    spr3 = 200\n",
    "    print(f\"Spr1: {spr1}\")\n",
    "    print(f\"Spr2: {spr4}\")\n",
    "    print(f\"Spr3: {spr3}\")\n",
    "    \n",
    "funkcija()\n",
    "print()\n",
    "\n",
    "print(f\"Spr1: {spr1}\")\n",
    "print(f\"Spr2: {spr4}\")\n",
    "print(f\"Spr3: {spr3}\")"
   ]
  },
  {
   "cell_type": "code",
   "execution_count": 77,
   "id": "ccc55e40",
   "metadata": {},
   "outputs": [
    {
     "name": "stdout",
     "output_type": "stream",
     "text": [
      "Spr1: 5\n",
      "Spr1: 100\n",
      "Spr1: 5\n"
     ]
    }
   ],
   "source": [
    "spr1 = 5\n",
    "print(f\"Spr1: {spr1}\")\n",
    "\n",
    "def funkcija(spr1):\n",
    "    #spr1 = 100\n",
    "    print(f\"Spr1: {spr1}\")\n",
    "\n",
    "funkcija(100)\n",
    "print(f\"Spr1: {spr1}\")"
   ]
  },
  {
   "cell_type": "code",
   "execution_count": 80,
   "id": "856b58b4",
   "metadata": {},
   "outputs": [
    {
     "name": "stdout",
     "output_type": "stream",
     "text": [
      "[1, 2, 3, 4]\n",
      "\n",
      "[1, 2, 3, 4]\n",
      "[100, 2, 3, 4]\n",
      "\n",
      "[100, 2, 3, 4]\n"
     ]
    }
   ],
   "source": [
    "seznam = [1,2,3,4]\n",
    "print(seznam)\n",
    "print()\n",
    "\n",
    "def funkcija(l):\n",
    "    print(l)\n",
    "    l[0] = 100\n",
    "    print(l)\n",
    "    \n",
    "funkcija(seznam)\n",
    "print()\n",
    "print(seznam)"
   ]
  },
  {
   "cell_type": "code",
   "execution_count": null,
   "id": "13552e07",
   "metadata": {},
   "outputs": [],
   "source": []
  },
  {
   "cell_type": "code",
   "execution_count": null,
   "id": "bf20150d",
   "metadata": {},
   "outputs": [],
   "source": []
  },
  {
   "cell_type": "code",
   "execution_count": null,
   "id": "e2bcd38c",
   "metadata": {},
   "outputs": [],
   "source": []
  },
  {
   "cell_type": "markdown",
   "id": "2b6539da",
   "metadata": {},
   "source": [
    "<div class=\"alert alert-block alert-info\">\n",
    "<h1><b>Naloga: </b></h1>\n",
    "\n",
    "Napišite funkcijo, kjer lahko igramo <b>vislice</b>.\n",
    "    \n",
    "Funkcija <b>vislice()</b> naj ima 2 parametra. Prvi je besedo katero se ugiba in drugi število možnih ugibov. Če števila ugibov ne podamo naj bo default vrednost 10.\n",
    "    \n",
    "Uporabnika konstantno sprašujte naj vnese črko.\n",
    "Nato izpišite iskano besedo. Črke katere je uporabnik uganil izpišite normalno, črke katere še ni uganil pa nadomestite z <b>_</b>.\n",
    "    \n",
    "Dodatno zraven prikazujte katere vse črke je uporabnik že preizkusil.\n",
    "    \n",
    "Če uporabnik besedo uspešno ugani v danih poizkusih naj funkcija vrne vrednost True. V nasprotnem primeru naj vrne vrednost False.\n",
    "</div>\n",
    "\n",
    "Primeri:\n",
    "```python\n",
    "Input:\n",
    "vislice(\"jabolko\")\n",
    "\n",
    "Output:\n",
    "Guesses so far []. \n",
    "What is your guess? a\n",
    "_ a_ _ _ _ _ \n",
    "\n",
    "Guesses so far ['a']. \n",
    "What is your guess? e\n",
    "_ a_ _ _ _ _ \n",
    "\n",
    "Guesses so far ['a', 'e']. \n",
    "What is your guess? o\n",
    "_ a_ o_ _ o\n",
    "\n",
    "Guesses so far ['a', 'e', 'o']. \n",
    "What is your guess? p\n",
    "_ a_ o_ _ o\n",
    "\n",
    "Guesses so far ['a', 'e', 'o', 'p']. \n",
    "What is your guess? r\n",
    "_ a_ o_ _ o\n",
    "\n",
    "Guesses so far ['a', 'e', 'o', 'p', 'r']. \n",
    "What is your guess? l\n",
    "_ a_ ol_ o\n",
    "\n",
    "Guesses so far ['a', 'e', 'o', 'p', 'r', 'l']. \n",
    "What is your guess? k\n",
    "_ a_ olko\n",
    "\n",
    "Guesses so far ['a', 'e', 'o', 'p', 'r', 'l', 'k']. \n",
    "What is your guess? j\n",
    "ja_ olko\n",
    "\n",
    "Guesses so far ['a', 'e', 'o', 'p', 'r', 'l', 'k', 'j']. \n",
    "What is your guess? b\n",
    "jabolko\n",
    "KONEC\n",
    "True\n",
    "\n",
    "```\n"
   ]
  },
  {
   "cell_type": "code",
   "execution_count": 103,
   "id": "590c92cd",
   "metadata": {},
   "outputs": [
    {
     "name": "stdout",
     "output_type": "stream",
     "text": [
      "Ugibaj črko: j\n",
      "j\n",
      "Ugibal si:  ['j']\n",
      "j _ _ _ _ _ _\n",
      "Ugibaj črko: a\n",
      "a\n",
      "Ugibal si:  ['j', 'a']\n",
      "j a _ _ _ _ _\n",
      "Ugibaj črko: b\n",
      "b\n",
      "Ugibal si:  ['j', 'a', 'b']\n",
      "j a b _ _ _ _\n",
      "Ugibaj črko: o\n",
      "o\n",
      "Ugibal si:  ['j', 'a', 'b', 'o']\n",
      "j a b o _ _ o\n",
      "Ugibaj črko: l\n",
      "l\n",
      "Ugibal si:  ['j', 'a', 'b', 'o', 'l']\n",
      "j a b o l _ o\n",
      "Ugibaj črko: k\n",
      "k\n"
     ]
    },
    {
     "data": {
      "text/plain": [
       "True"
      ]
     },
     "execution_count": 103,
     "metadata": {},
     "output_type": "execute_result"
    }
   ],
   "source": [
    "def vislice(beseda, n=10):\n",
    "    \n",
    "    list_ = [\"_\" for i in beseda]\n",
    "    guesses = []\n",
    "    \n",
    "    counter = 0\n",
    "    while counter < n:\n",
    "        ugib = input(\"Ugibaj črko: \")\n",
    "        print(ugib)\n",
    "        guesses.append(ugib)\n",
    "        # Preizkusi ali sm pravilno uganil\n",
    "        if ugib in beseda:\n",
    "            #print(\"Pravilno uganil\")\n",
    "            # Logika če sm pravilno uganil\n",
    "            for i, crka in enumerate(beseda):\n",
    "                if crka == ugib:\n",
    "                    #print(f\"Index {i}, črka {crka}\")\n",
    "                    list_[i] = ugib\n",
    "            \n",
    "        if beseda == \"\".join(list_):\n",
    "            return True\n",
    "        \n",
    "        # Izpis besede\n",
    "        print(\"Ugibal si: \", guesses)\n",
    "        print(\" \".join(list_))\n",
    "        counter += 1\n",
    "    return False\n",
    "\n",
    "vislice(\"jabolko\")"
   ]
  },
  {
   "cell_type": "code",
   "execution_count": null,
   "id": "a6bfe344",
   "metadata": {},
   "outputs": [],
   "source": []
  },
  {
   "cell_type": "markdown",
   "id": "f5853357",
   "metadata": {},
   "source": [
    "<div class=\"alert alert-block alert-info\">\n",
    "<h1><b>Naloga: </b></h1>\n",
    "\n",
    "Ustvarite program <b>Križci in Krožci</b>\n",
    "    \n",
    "Igralno polje lahko predstavite kot liste znotraj lista, kjer *E* predstavlja prazno polje.\n",
    "    \n",
    "    board = [[\"X\", \"E\", \"E\"],\n",
    "             [\"O\", \"E\", \"E\"],\n",
    "             [\"E\", \"E\", \"E\"]]\n",
    "    \n",
    "Od igralcev nato izmenično zahtevajte polje v katerega želijo postaviti svoj znak. Privzememo lahko, da bodo igralci igrali pravično in vpisovali samo prazna polja.\n",
    "</div>\n",
    "\n",
    "Primeri:\n",
    "```python\n",
    "\n",
    "Output:\n",
    "['E', 'E', 'E']\n",
    "['E', 'E', 'E']\n",
    "['E', 'E', 'E']\n",
    "It's X's turn. Make a move (exp: 12): '00\n",
    "\n",
    "['X', 'E', 'E']\n",
    "['E', 'E', 'E']\n",
    "['E', 'E', 'E']\n",
    "It's O's turn. Make a move (exp: 12): '12\n",
    "\n",
    "['X', 'E', 'E']\n",
    "['E', 'E', 'O']\n",
    "['E', 'E', 'E']\n",
    "It's X's turn. Make a move (exp: 12): '10\n",
    "\n",
    "['X', 'E', 'E']\n",
    "['X', 'E', 'O']\n",
    "['E', 'E', 'E']\n",
    "It's O's turn. Make a move (exp: 12): '12\n",
    "\n",
    "['X', 'E', 'E']\n",
    "['X', 'E', 'O']\n",
    "['E', 'E', 'E']\n",
    "It's X's turn. Make a move (exp: 12): '20\n",
    "X je ZMAGOVALEC!\n",
    "\n",
    "```\n"
   ]
  },
  {
   "cell_type": "code",
   "execution_count": 115,
   "id": "cd2ff39e",
   "metadata": {},
   "outputs": [
    {
     "name": "stdout",
     "output_type": "stream",
     "text": [
      "['E', 'E', 'E']\n",
      "['E', 'E', 'E']\n",
      "['E', 'E', 'E']\n",
      "Na vrsti je igralec: X\n",
      "Vnesi vrstico: 0\n",
      "Vnesi stolpec: 0\n",
      "['X', 'E', 'E']\n",
      "['E', 'E', 'E']\n",
      "['E', 'E', 'E']\n",
      "Na vrsti je igralec: O\n",
      "Vnesi vrstico: 1\n",
      "Vnesi stolpec: 1\n",
      "['X', 'E', 'E']\n",
      "['E', 'O', 'E']\n",
      "['E', 'E', 'E']\n",
      "Na vrsti je igralec: X\n",
      "Vnesi vrstico: 0\n",
      "Vnesi stolpec: 1\n",
      "['X', 'X', 'E']\n",
      "['E', 'O', 'E']\n",
      "['E', 'E', 'E']\n",
      "Na vrsti je igralec: O\n",
      "Vnesi vrstico: 2\n",
      "Vnesi stolpec: 2\n",
      "['X', 'X', 'E']\n",
      "['E', 'O', 'E']\n",
      "['E', 'E', 'O']\n",
      "Na vrsti je igralec: X\n",
      "Vnesi vrstico: 0\n",
      "Vnesi stolpec: 2\n",
      "ZMAGOVALEC!: X\n"
     ]
    }
   ],
   "source": [
    "def display_board(board):\n",
    "    # prikazi board\n",
    "    for row in board:\n",
    "        print(row)\n",
    "\n",
    "def make_move(znak, board):\n",
    "    # uprašaj za vrstico in stolpec kamor naj se da znak\n",
    "    # shrani v board\n",
    "    row = int(input(\"Vnesi vrstico: \"))\n",
    "    col = int(input(\"Vnesi stolpec: \"))\n",
    "    board[row][col] = znak\n",
    "\n",
    "def is_game_over(board):\n",
    "    # potem ko igralec nrdi potezo se vsakič preveri ali je igre konec\n",
    "    # return Ture če je konec in kdo je zmagovalec\n",
    "    # return false če še ni konec\n",
    "    for row in board:\n",
    "        if row[0] != \"E\":\n",
    "            if row[0] == row[1] and row[0] == row[2]:\n",
    "                return True\n",
    "            \n",
    "    for i in range(3):\n",
    "        if board[0][i] != \"E\":\n",
    "            if board[0][i] == board[1][i] and board[0][i] == board[2][i]:\n",
    "                return True\n",
    "    \n",
    "    if board[0][0] != \"E\":\n",
    "        if board[0][0] == board[1][1] and board[0][0] == board[2][2]:\n",
    "            return True\n",
    "        \n",
    "    if board[0][2] != \"E\":\n",
    "        if board[0][2] == board[1][1] and board[0][2] == board[2][0]:\n",
    "            return True\n",
    "        \n",
    "    return False\n",
    "    \n",
    "def play():\n",
    "    # ustvari board\n",
    "    board = [[\"E\", \"E\", \"E\"],\n",
    "             [\"E\", \"E\", \"E\"],\n",
    "             [\"E\", \"E\", \"E\"]]\n",
    "    \n",
    "    znak = \"X\"\n",
    "    while True:\n",
    "        display_board(board)\n",
    "        print(f\"Na vrsti je igralec: {znak}\")\n",
    "        make_move(znak, board)       \n",
    "        if is_game_over(board):\n",
    "            print(f\"ZMAGOVALEC!: {znak}\")\n",
    "            break\n",
    "        if znak == \"X\":\n",
    "            znak = \"O\"\n",
    "        elif znak == \"O\":\n",
    "            znak = \"X\" \n",
    "    \n",
    "play()"
   ]
  },
  {
   "cell_type": "code",
   "execution_count": null,
   "id": "811c05d6",
   "metadata": {},
   "outputs": [],
   "source": []
  },
  {
   "cell_type": "code",
   "execution_count": null,
   "id": "2905c2f3",
   "metadata": {},
   "outputs": [],
   "source": []
  },
  {
   "cell_type": "code",
   "execution_count": 83,
   "id": "a215a2ae",
   "metadata": {},
   "outputs": [
    {
     "data": {
      "text/plain": [
       "3"
      ]
     },
     "execution_count": 83,
     "metadata": {},
     "output_type": "execute_result"
    }
   ],
   "source": [
    "moj_str = \"jabolko\"\n",
    "moj_str.index(\"o\")"
   ]
  },
  {
   "cell_type": "code",
   "execution_count": 89,
   "id": "6d1352e1",
   "metadata": {},
   "outputs": [
    {
     "data": {
      "text/plain": [
       "'_!_!b!_'"
      ]
     },
     "execution_count": 89,
     "metadata": {},
     "output_type": "execute_result"
    }
   ],
   "source": [
    "\"!\".join([\"_\", \"_\", \"b\", \"_\"])"
   ]
  },
  {
   "cell_type": "code",
   "execution_count": null,
   "id": "f4ac4f9b",
   "metadata": {},
   "outputs": [],
   "source": []
  },
  {
   "cell_type": "code",
   "execution_count": null,
   "id": "366ba54e",
   "metadata": {},
   "outputs": [],
   "source": []
  },
  {
   "cell_type": "code",
   "execution_count": null,
   "id": "e893b1ec",
   "metadata": {},
   "outputs": [],
   "source": []
  },
  {
   "cell_type": "code",
   "execution_count": null,
   "id": "e338a457",
   "metadata": {},
   "outputs": [],
   "source": []
  },
  {
   "cell_type": "code",
   "execution_count": null,
   "id": "d94e2659",
   "metadata": {},
   "outputs": [],
   "source": []
  },
  {
   "cell_type": "code",
   "execution_count": null,
   "id": "73daca0f",
   "metadata": {},
   "outputs": [],
   "source": []
  },
  {
   "cell_type": "code",
   "execution_count": null,
   "id": "fde5fda6",
   "metadata": {},
   "outputs": [],
   "source": []
  }
 ],
 "metadata": {
  "kernelspec": {
   "display_name": "Python 3",
   "language": "python",
   "name": "python3"
  },
  "language_info": {
   "codemirror_mode": {
    "name": "ipython",
    "version": 3
   },
   "file_extension": ".py",
   "mimetype": "text/x-python",
   "name": "python",
   "nbconvert_exporter": "python",
   "pygments_lexer": "ipython3",
   "version": "3.8.8"
  }
 },
 "nbformat": 4,
 "nbformat_minor": 5
}
