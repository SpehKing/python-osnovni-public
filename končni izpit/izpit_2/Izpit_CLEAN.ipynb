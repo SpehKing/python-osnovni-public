{
 "cells": [
  {
   "cell_type": "markdown",
   "id": "17c41758",
   "metadata": {},
   "source": [
    "# Izpit\n",
    "\n",
    "Tekom izpita boste napisali svoj modul. Poimenujte ga **Ime_Priimek**. Ko končate z izpitom ga pošljite na \n",
    "gregor.balkovec@ltfe.org\n"
   ]
  },
  {
   "cell_type": "markdown",
   "id": "2dfc4020",
   "metadata": {},
   "source": [
    "# Naloga 01\n",
    "\n",
    "**Točka: / 5**\n",
    "\n",
    "Napišite funkcijo `funkcija01`, ki kot prvi parameter sprejme premer krogle. Funkcija naj vrne izračunano prostornino krogle.\n",
    "\n",
    "\"π\" najdete v built-in knjižnjici **math**.\n",
    "\n",
    "```python\n",
    "import math\n",
    "print(math.pi)\n",
    "```\n",
    "\n",
    "```python\n",
    "funkcija01(3)  ==>  14.1371\n",
    "```\n"
   ]
  },
  {
   "cell_type": "code",
   "execution_count": null,
   "id": "ec60a6a2",
   "metadata": {},
   "outputs": [],
   "source": [
    "# Rešitev\n"
   ]
  },
  {
   "cell_type": "code",
   "execution_count": null,
   "id": "6a8e29f0",
   "metadata": {},
   "outputs": [],
   "source": [
    "# Test\n",
    "\n",
    "print(funkcija01(3))"
   ]
  },
  {
   "cell_type": "code",
   "execution_count": null,
   "id": "aab3577d",
   "metadata": {},
   "outputs": [],
   "source": []
  },
  {
   "cell_type": "markdown",
   "id": "ab0fe4ef",
   "metadata": {},
   "source": [
    "# Naloga 02\n",
    "\n",
    "**Točke: / 5**\n",
    "\n",
    "Napišite funkcijo `funkcija02`, ki prejme list.\n",
    "\n",
    "Vsak element v listu je tuple. Prvi element v tuplu je znamka avta. Drugi element je leto prve registracije avta. Tretji element je število prevoženih kilometrov.\n",
    "\n",
    "Funkcija naj vrne list znamk avtomobilov, ki imajo leto prve registracije večje od 2015 in število prevoženih kilometrov manjše od 200 000.\n",
    "\n",
    "```python\n",
    "l = [(\"ŠKODA OCTAVIA\", 2015, 265_000), (\"VOLKSWAGEN PASSAT\", 2014, 199_000), \n",
    "     (\"RENAULT CLIO\", 2016, 211_000), (\"CITROEN XSARA PICASSO\", 2017, 120_000), \n",
    "     (\"BMW 318\", 2016, 300_000), (\"KIA CEED\", 2016, 154_000)]\n",
    "\n",
    "print(funkcija02(l)) ==> ['CITROEN XSARA PICASSO', 'KIA CEED']\n",
    "```"
   ]
  },
  {
   "cell_type": "code",
   "execution_count": null,
   "id": "57ea8161",
   "metadata": {},
   "outputs": [],
   "source": [
    "l = [(\"ŠKODA OCTAVIA\", 2015, 265_000), (\"VOLKSWAGEN PASSAT\", 2014, 199_000), \n",
    "     (\"RENAULT CLIO\", 2016, 211_000), (\"CITROEN XSARA PICASSO\", 2017, 120_000), \n",
    "     (\"BMW 318\", 2016, 300_000), (\"KIA CEED\", 2016, 154_000)]"
   ]
  },
  {
   "cell_type": "code",
   "execution_count": null,
   "id": "5746afea",
   "metadata": {},
   "outputs": [],
   "source": [
    "# Rešitev\n"
   ]
  },
  {
   "cell_type": "code",
   "execution_count": null,
   "id": "a26c3a7f",
   "metadata": {},
   "outputs": [],
   "source": [
    "# Test\n",
    "l = [(\"ŠKODA OCTAVIA\", 2015, 265_000), (\"VOLKSWAGEN PASSAT\", 2014, 199_000), \n",
    "     (\"RENAULT CLIO\", 2016, 211_000), (\"CITROEN XSARA PICASSO\", 2017, 120_000), \n",
    "     (\"BMW 318\", 2016, 300_000), (\"KIA CEED\", 2016, 154_000)]\n",
    "print(funkcija02(l))"
   ]
  },
  {
   "cell_type": "code",
   "execution_count": null,
   "id": "5f9a85e1",
   "metadata": {},
   "outputs": [],
   "source": []
  },
  {
   "cell_type": "markdown",
   "id": "6b7533e1",
   "metadata": {},
   "source": [
    "# Naloga 03\n",
    "\n",
    "**Točke: / 5**\n",
    "\n",
    "Napišite funkcijo `funkcija03`, ki prejme dictionary oglasov nepremičnin v ljubljani.\n",
    "\n",
    "Funkcija naj najde kateri oglas ima najugodnejšo ceno na kvadratni meter.\n",
    "\n",
    "Funkcija naj nato vrne tuple 3 vrednosti:\n",
    "* id oglasa (int)\n",
    "* ime prodajalaca (string) \n",
    "* ceno kvadratnega metra (float)\n",
    "\n",
    "```python\n",
    "d = {\n",
    "    \"dravlje-stanovanje_6448914\":{\n",
    "        \"cena\": 311_000,\n",
    "        \"m2\": 75.12,\n",
    "        \"prodajalec\": \"MESTO NEPREMIČNIN d.o.o.\",\n",
    "        \"id\": 6448914\n",
    "    },\n",
    "    \"fuzine-dvigalo-balkon-stanovanje_6451032\": {\n",
    "        \"cena\": 229_900,\n",
    "        \"m2\": 70,\n",
    "        \"prodajalec\": \"STAN nepremičnine d.o.o., Ljubljana\",\n",
    "        \"id\": 6451032\n",
    "    },\n",
    "    \"kodeljevo-funkcionalno-stanovanje-z-vrtom-stanovanje_6437495\": {\n",
    "        \"cena\": 145_000,\n",
    "        \"m2\": 39.1,\n",
    "        \"prodajalec\": \"ABC nepremičnine d.o.o.\",\n",
    "        \"id\": 6437495\n",
    "    },\n",
    "    \"lj-bezigrad-stanovanje_6446295\": {\n",
    "        \"cena\": 125_000,\n",
    "        \"m2\": 29.2,\n",
    "        \"prodajalec\": \"Mreža nepremičnin d.o.o.\",\n",
    "        \"id\": 6446295\n",
    "    },\n",
    "    \"lj-bezigrad-stanovanje_6447284\": {\n",
    "        \"cena\": 620_000,\n",
    "        \"m2\": 84.9,\n",
    "        \"prodajalec\": \"Mreža nepremičnin d.o.o.\",\n",
    "        \"id\": 6447284\n",
    "    },\n",
    "    \"lj-bezigrad-ekskluzivno-petsobno-stanovanje-v-situli-stanovanje_6359990\": {\n",
    "        \"cena\": 750_000,\n",
    "        \"m2\": 188.9,\n",
    "        \"prodajalec\": \"ABC nepremičnine d.o.o.\",\n",
    "        \"id\": 6359990\n",
    "    }\n",
    "}\n",
    "\n",
    "best_id, best_prodajalec, best_price_v_m2 = funkcija03(d)\n",
    "print((f\"Najboljša ponudba je ID:{best_id}, pri prodajalcu {best_prodajalec} z ceno na kvadrat {best_price_v_m2:.2f} €\"))\n",
    "\n",
    "==> Najboljša ponudba je ID:6451032, pri prodajalcu STAN nepremičnine d.o.o., Ljubljana z ceno na kvadrat 3284.29 €\n",
    "```"
   ]
  },
  {
   "cell_type": "code",
   "execution_count": null,
   "id": "6a8b1f90",
   "metadata": {},
   "outputs": [],
   "source": [
    "d = {\n",
    "    \"dravlje-stanovanje_6448914\":{\n",
    "        \"cena\": 311_000,\n",
    "        \"m2\": 75.12,\n",
    "        \"prodajalec\": \"MESTO NEPREMIČNIN d.o.o.\",\n",
    "        \"id\": 6448914\n",
    "    },\n",
    "    \"fuzine-dvigalo-balkon-stanovanje_6451032\": {\n",
    "        \"cena\": 229_900,\n",
    "        \"m2\": 70,\n",
    "        \"prodajalec\": \"STAN nepremičnine d.o.o., Ljubljana\",\n",
    "        \"id\": 6451032\n",
    "    },\n",
    "    \"kodeljevo-funkcionalno-stanovanje-z-vrtom-stanovanje_6437495\": {\n",
    "        \"cena\": 145_000,\n",
    "        \"m2\": 39.1,\n",
    "        \"prodajalec\": \"ABC nepremičnine d.o.o.\",\n",
    "        \"id\": 6437495\n",
    "    },\n",
    "    \"lj-bezigrad-stanovanje_6446295\": {\n",
    "        \"cena\": 125_000,\n",
    "        \"m2\": 29.2,\n",
    "        \"prodajalec\": \"Mreža nepremičnin d.o.o.\",\n",
    "        \"id\": 6446295\n",
    "    },\n",
    "    \"lj-bezigrad-stanovanje_6447284\": {\n",
    "        \"cena\": 620_000,\n",
    "        \"m2\": 84.9,\n",
    "        \"prodajalec\": \"Mreža nepremičnin d.o.o.\",\n",
    "        \"id\": 6447284\n",
    "    },\n",
    "    \"lj-bezigrad-ekskluzivno-petsobno-stanovanje-v-situli-stanovanje_6359990\": {\n",
    "        \"cena\": 750_000,\n",
    "        \"m2\": 188.9,\n",
    "        \"prodajalec\": \"ABC nepremičnine d.o.o.\",\n",
    "        \"id\": 6359990\n",
    "    }\n",
    "}"
   ]
  },
  {
   "cell_type": "code",
   "execution_count": null,
   "id": "33129f30",
   "metadata": {},
   "outputs": [],
   "source": [
    "# Rešitev\n"
   ]
  },
  {
   "cell_type": "code",
   "execution_count": null,
   "id": "79e11582",
   "metadata": {},
   "outputs": [],
   "source": [
    "# Test\n",
    "best_id, best_prodajalec, best_price_v_m2 = funkcija03(d)\n",
    "print((f\"Najboljša ponudba je ID:{best_id}, pri prodajalcu {best_prodajalec} z ceno na kvadrat {best_price_v_m2:.2f} €\"))"
   ]
  },
  {
   "cell_type": "code",
   "execution_count": null,
   "id": "8858a17b",
   "metadata": {},
   "outputs": [],
   "source": []
  },
  {
   "cell_type": "markdown",
   "id": "6d98fa77",
   "metadata": {},
   "source": [
    "# Naloga 04\n",
    "**Točke: /5**\n",
    "\n",
    "Napišite funkcijo `funkcija04`. Funkcija naj odpre datoteko `input.txt` v kateri imamo napisan recept za peko palačink vendar pa so koraki v napačnem zaporedju.\n",
    "\n",
    "Funkcija na korake razporedi v pravilni zaporedje in jih nato zapiše v datoteko `output.txt`.\n",
    "\n",
    "Lahko privzamete, da bo številka koraka vedno zavzela prvi dve mesti vrstice.\n",
    "\n",
    "```\n",
    "INPUT:\n",
    "03. Segrejte ponev in nanjo vlijte olje.\n",
    "01. Zmešajte 0.5l mleka, 2 jajci in 1 žlico olja.\n",
    "04. Na ponev zlijte 1 zajemalko mase.\n",
    "06. Palačinko namažite s čokolado ali pa marmelado in kislo smetano.\n",
    "05. Palačinko popecite na obeh straneh, da pridobi zlato-rjavo barvo.\n",
    "02. Masi dodajte 25dkg bele moke in sol.\n",
    "\n",
    "\n",
    "OUTPUT:\n",
    "01. Zmešajte 0.5l mleka, 2 jajci in 1 žlico olja.\n",
    "02. Masi dodajte 25dkg bele moke in sol.\n",
    "03. Segrejte ponev in nanjo vlijte olje.\n",
    "04. Na ponev zlijte 1 zajemalko mase.\n",
    "05. Palačinko popecite na obeh straneh, da pridobi zlato-rjavo barvo.\n",
    "06. Palačinko namažite s čokolado ali pa marmelado in kislo smetano.\n",
    "```"
   ]
  },
  {
   "cell_type": "code",
   "execution_count": null,
   "id": "2dcd1d5c",
   "metadata": {},
   "outputs": [],
   "source": [
    "# Rešitev\n"
   ]
  },
  {
   "cell_type": "code",
   "execution_count": null,
   "id": "3260e78b",
   "metadata": {},
   "outputs": [],
   "source": [
    "# Test\n",
    "funkcija04()\n",
    "with open(\"output.txt\") as f:\n",
    "    for line in f.readlines():\n",
    "        print(line)"
   ]
  },
  {
   "cell_type": "code",
   "execution_count": null,
   "id": "3d254adc",
   "metadata": {},
   "outputs": [],
   "source": []
  },
  {
   "cell_type": "markdown",
   "id": "4b426d24",
   "metadata": {},
   "source": [
    "# Naloga 05\n",
    "**Točke: /5**\n",
    "\n",
    "Napišite razred `Volk`. Ko ustvarimo novo instanco razreda, vanj shranimo ime in njegovo hitrost.\n",
    "\n",
    "Napišite tudi razred `Trop`. Ko ustvarimo novo instanco razreda lahko kot argument pošljemo list volkov v tropu ali pa tudi ne.\n",
    "\n",
    "Trop naj ima spremenljivko `volkovi`, ki je list volkov, ki se nahajajo v tropu.\n",
    "\n",
    "Trop naj ima funkcijo `dodaj_volka`, ki kot argument prejme instanco razreda Volk in le-tega doda v svoj list volkov.\n",
    "\n",
    "Trop naj ima funkcijo `najhitrejsi_volk`, ki naj vrne ime najhitrejšega volka.\n",
    "\n",
    "Trop naj ima funkcijo `razvrsti_po_hitrosti`, ki naj volkove razvrsti od najpočasnejšega do najhitrejšega. Nato naj funkcija vrne list samo imen volkov v pravilnem vrstnem redu.\n",
    "\n",
    "```python\n",
    "rex = Volk(\"Rex\", 51)\n",
    "milo = Volk(\"Milo\", 55)\n",
    "leo = Volk(\"Leo\", 59)\n",
    "\n",
    "trop = Trop([rex, milo, leo])\n",
    "print(trop.najhitrejsi_volk())    ==> Leo\n",
    "\n",
    "chip = Volk(\"Chip\", 49)\n",
    "bruce = Volk(\"Bruce\", 62)\n",
    "\n",
    "trop.dodaj_volka(chip)\n",
    "trop.dodaj_volka(bruce)\n",
    "print(trop.najhitrejsi_volk())    ==> Bruce\n",
    "print(trop.razvrsti_po_hitrosti())    ==> ['Chip', 'Rex', 'Milo', 'Leo', 'Bruce']\n",
    "```"
   ]
  },
  {
   "cell_type": "code",
   "execution_count": null,
   "id": "d11cc987",
   "metadata": {},
   "outputs": [],
   "source": [
    "# Rešitev\n"
   ]
  },
  {
   "cell_type": "code",
   "execution_count": null,
   "id": "2c195f78",
   "metadata": {},
   "outputs": [],
   "source": [
    "# Test\n",
    "rex = Volk(\"Rex\", 51)\n",
    "milo = Volk(\"Milo\", 55)\n",
    "leo = Volk(\"Leo\", 59)\n",
    "\n",
    "trop = Trop([rex, milo, leo])\n",
    "print(trop.najhitrejsi_volk())\n",
    "\n",
    "chip = Volk(\"Chip\", 49)\n",
    "bruce = Volk(\"Bruce\", 62)\n",
    "\n",
    "trop.dodaj_volka(chip)\n",
    "trop.dodaj_volka(bruce)\n",
    "print(trop.najhitrejsi_volk())\n",
    "print(trop.razvrsti_po_hitrosti())"
   ]
  },
  {
   "cell_type": "code",
   "execution_count": null,
   "id": "1c57cdf4",
   "metadata": {},
   "outputs": [],
   "source": []
  },
  {
   "cell_type": "code",
   "execution_count": null,
   "id": "7914f45d",
   "metadata": {},
   "outputs": [],
   "source": []
  },
  {
   "cell_type": "code",
   "execution_count": null,
   "id": "b808f496",
   "metadata": {},
   "outputs": [],
   "source": []
  }
 ],
 "metadata": {
  "kernelspec": {
   "display_name": "Python 3",
   "language": "python",
   "name": "python3"
  },
  "language_info": {
   "codemirror_mode": {
    "name": "ipython",
    "version": 3
   },
   "file_extension": ".py",
   "mimetype": "text/x-python",
   "name": "python",
   "nbconvert_exporter": "python",
   "pygments_lexer": "ipython3",
   "version": "3.8.8"
  }
 },
 "nbformat": 4,
 "nbformat_minor": 5
}
