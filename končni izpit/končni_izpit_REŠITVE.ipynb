{
 "cells": [
  {
   "cell_type": "markdown",
   "metadata": {},
   "source": [
    "* def in pravilno poimenovanje funkcije. 1 točka\n",
    "* Sprejetje argumenta pravilno. 1 točke\n",
    "* Logika pravilno implementirana. 2 točka\n",
    "* Pravilno vrne rezultat. 1 točka"
   ]
  },
  {
   "cell_type": "markdown",
   "metadata": {},
   "source": [
    "# Izpit\n",
    "\n",
    "Tekom izpita boste napisali svoj modul. Poimenujte ga **Ime_Priimek**. Ko končate z izpitom ga pošljite na leon.stefanic@ltfe.org, gregor.balkovec@ltfe.org\n"
   ]
  },
  {
   "cell_type": "markdown",
   "metadata": {},
   "source": [
    "# Naloga 01\n",
    "\n",
    "**Točka: / 5**\n",
    "\n",
    "Napišite funkcijo `funkcija01(a=None,b=None,c=None)`, ki s pomočjo pitagorevega izreka izračuna preostalo stranico v pravokotnem trikotniku (eden od argumentov bo vedno nepodan). Argumenta `a` in `b` predstavljata krajši stranici, argument `c` pa daljšo oziroma hipotenuzo. Funkcija naj vrne float vrednosti vsake od stranic v _dictionary-u_ oblike:\n",
    "```python\n",
    "{\n",
    "    'a': ...,\n",
    "    'b': ...,\n",
    "    'c': ...\n",
    "}\n",
    "```\n",
    "namig: kvadratni koren se lahko naredi tako, da se potencira z 0.5\n",
    "```python\n",
    "funkcija01(a=1.3,b=1) ==> {'a': 1.3, 'b': 1.0, 'c': 1.6401219466856727}\n",
    "funkcija01(a=1.8,c=1.96) ==> {'a': 1.8, 'b': 0.7756287771866123, 'c': 1.96}\n",
    "funkcija01(c=5.7,b=3.37) ==> {'a': 4.597075157097173, 'b': 3.37, 'c': 5.7}\n",
    "funkcija01(a=46.99,b=99) ==> {'a': 46.99, 'b': 99.0, 'c': 109.5858572079445}\n",
    "funkcija01(b=33,c=33) ==> {'a': 0.0, 'b': 33.0, 'c': 33.0}\n",
    "```"
   ]
  },
  {
   "cell_type": "code",
   "execution_count": 4,
   "metadata": {},
   "outputs": [],
   "source": [
    "# Rešitev\n",
    "def funkcija01(a=None,b=None,c=None):\n",
    "    if c == None:\n",
    "        return {\"a\":float(a),\"b\":float(b),\"c\":float((a**2+b**2)**0.5)}\n",
    "    elif a == None:\n",
    "        return {\"a\":float((c**2-b**2)**0.5),\"b\":float(b),\"c\":float(c)}\n",
    "    else:\n",
    "        return {\"a\":float(a),\"b\":float((c**2-a**2)**0.5),\"c\":float(c)}"
   ]
  },
  {
   "cell_type": "code",
   "execution_count": 5,
   "metadata": {},
   "outputs": [
    {
     "name": "stdout",
     "output_type": "stream",
     "text": [
      "funkcija01(a=1.3,b=1,c=None)\tvrne pravilno rešitev.\n",
      "funkcija01(a=1.8,b=None,c=1.96)\tvrne pravilno rešitev.\n",
      "funkcija01(a=None,b=3.37,c=5.7)\tvrne pravilno rešitev.\n",
      "funkcija01(a=46.99,b=99,c=None)\tvrne pravilno rešitev.\n",
      "funkcija01(a=None,b=33,c=33)\tvrne pravilno rešitev.\n"
     ]
    }
   ],
   "source": [
    "# Test\n",
    "def test01(a=None,b=None,c=None, resitev=None):\n",
    "    if funkcija01(a=a,b=b,c=c) == resitev:\n",
    "        print(f\"funkcija01(a={a},b={b},c={c})\\tvrne pravilno rešitev.\")\n",
    "    else:\n",
    "        print(f\"funkcija01(a={a},b={b},c={c})\\tvrne NAPAČNO rešitev.\")\n",
    "test01(a=1.3,b=1,resitev={'a': 1.3, 'b': 1.0, 'c': 1.6401219466856727})\n",
    "test01(a=1.8,c=1.96,resitev={'a': 1.8, 'b': 0.7756287771866123, 'c': 1.96})\n",
    "test01(c=5.7,b=3.37,resitev={'a': 4.597075157097173, 'b': 3.37, 'c': 5.7})\n",
    "test01(a=46.99,b=99,resitev={'a': 46.99, 'b': 99.0, 'c': 109.5858572079445})\n",
    "test01(b=33,c=33,resitev={'a': 0.0, 'b': 33.0, 'c': 33.0})"
   ]
  },
  {
   "cell_type": "code",
   "execution_count": null,
   "metadata": {},
   "outputs": [],
   "source": []
  },
  {
   "cell_type": "markdown",
   "metadata": {},
   "source": [
    "# Naloga 02\n",
    "\n",
    "**Točke: / 5**\n",
    "\n",
    "Napišite funkcijo `funkcija02`, ki iz podanega _dictionary-a_ (v argumentu) izpiše stavke (vsak stavek v svojo vrstico) z vsemi osebami, ki so dobili določeno oceno (1,2,3,4,5).\n",
    "\n",
    "Pravila:\n",
    "* če ni nihče dobil določene ocene izpišite: _\"Nihče ni dobil ocene \\<ocena\\>.\"_\n",
    "* če je samo 1 oseba dobila določeno oceno: _\"\\<ime\\> je dobil/a oceno \\<ocena\\>.\"_\n",
    "* če je sta 2 osebi dobila določeno oceno: _\"\\<ime1\\> in \\<ime2\\> sta dobila oceno \\<ocena\\>.\"_\n",
    "* če je več (3+) oseb dobilo določeno oceno: _\"\\<ime1\\>, \\<ime2\\>, \\<ime3\\> in \\<ime4\\> so dobili oceno \\<ocena\\>.\"_\n",
    "* osebe v stavkih naj bodo izpisane po vrsti, kot so podane v dictionariju\n",
    "\n",
    "Primer:\n",
    "```python\n",
    "funkcija02({\"Nejc\":1,\"Nika\":5,\"Tilen\":5,\"Tim\":3,\"Janez\":2,\"Simon\":1,\"Jože\":1})\n",
    "```\n",
    "izpis primera:\n",
    "```txt\n",
    "Nejc, Simon in Jože so dobili oceno 1.\n",
    "Janez je dobil/a oceno 2.\n",
    "Tim je dobil/a oceno 3.\n",
    "Nihče ni dobil ocene 4.\n",
    "Nika in Tilen sta dobila oceno 5.\n",
    "```"
   ]
  },
  {
   "cell_type": "code",
   "execution_count": 10,
   "metadata": {},
   "outputs": [],
   "source": [
    "# Rešitev\n",
    "def funkcija02(grades):\n",
    "    for grade in range(1,6):\n",
    "        names_with_1 = [key for key in grades if grades[key]==grade]\n",
    "        if len(names_with_1)==0:\n",
    "            print(f\"Nihče ni dobil ocene {grade}.\")\n",
    "        elif len(names_with_1)==1:\n",
    "            print(f\"{names_with_1[0]} je dobil/a oceno {grade}.\")\n",
    "        elif len(names_with_1)==2:\n",
    "            print(f\"{names_with_1[0]} in {names_with_1[1]} sta dobila oceno {grade}.\")\n",
    "        else:\n",
    "            names = \"\"\n",
    "            for name in names_with_1[:-2]:\n",
    "                names += f\"{name}, \"\n",
    "            names += f\"{names_with_1[-2]} in {names_with_1[-1]} so dobili oceno {grade}\"\n",
    "            print(names)"
   ]
  },
  {
   "cell_type": "code",
   "execution_count": 14,
   "metadata": {},
   "outputs": [
    {
     "name": "stdout",
     "output_type": "stream",
     "text": [
      "Nejc, Simon in Jože so dobili oceno 1\n",
      "Janez je dobil/a oceno 2.\n",
      "Tim je dobil/a oceno 3.\n",
      "Nihče ni dobil ocene 4.\n",
      "Nika in Tilen sta dobila oceno 5.\n",
      "- - - - - - - - - - - - - - - - - - - - - - - - - - - - - - \n",
      "Nihče ni dobil ocene 1.\n",
      "Nihče ni dobil ocene 2.\n",
      "Nihče ni dobil ocene 3.\n",
      "Lojze je dobil/a oceno 4.\n",
      "Nihče ni dobil ocene 5.\n",
      "- - - - - - - - - - - - - - - - - - - - - - - - - - - - - - \n",
      "Nihče ni dobil ocene 1.\n",
      "Nihče ni dobil ocene 2.\n",
      "Nihče ni dobil ocene 3.\n",
      "Nihče ni dobil ocene 4.\n",
      "Nihče ni dobil ocene 5.\n"
     ]
    }
   ],
   "source": [
    "# Test\n",
    "funkcija02({\"Nejc\":1,\"Nika\":5,\"Tilen\":5,\"Tim\":3,\"Janez\":2,\"Simon\":1,\"Jože\":1})\n",
    "# Nejc, Simon in Jože so dobili oceno 1.\n",
    "# Janez je dobil/a oceno 2.\n",
    "# Tim je dobil/a oceno 3.\n",
    "# Nihče ni dobil ocene 4.\n",
    "# Nika in Tilen sta dobila oceno 5.\n",
    "print(\"- \"*30)\n",
    "funkcija02({\"Lojze\":4})\n",
    "# Nihče ni dobil ocene 1.\n",
    "# Nihče ni dobil ocene 2.\n",
    "# Nihče ni dobil ocene 3.\n",
    "# Lojze je dobil/a oceno 4.\n",
    "# Nihče ni dobil ocene 5.\n",
    "print(\"- \"*30)\n",
    "funkcija02({})\n",
    "# Nihče ni dobil ocene 1.\n",
    "# Nihče ni dobil ocene 2.\n",
    "# Nihče ni dobil ocene 3.\n",
    "# Nihče ni dobil ocene 4.\n",
    "# Nihče ni dobil ocene 5."
   ]
  },
  {
   "cell_type": "code",
   "execution_count": null,
   "metadata": {},
   "outputs": [],
   "source": []
  },
  {
   "cell_type": "markdown",
   "metadata": {},
   "source": [
    "# Naloga 03\n",
    "**Točke: /5**\n",
    "\n",
    "Napiši funkcijo `funkcija03`, ki simulira izvajanje enostavnega kalkulatorja. Uporabnik mora vnesti število `a`, string `operator` ter število `b` (kot je prikazano na spodnjh primerih). Med operatorji lahko uporabnik izbira med množenjem (`*`), deljenjem (`/`), seštevanjem (`+`) in odštevanjem (`-`). Ob napačnem vnosu kateregakoli podatka (naprimer, da za število vnese \"sdfkndsf\" ali pa za operator vnese \"-+\"), naj program sporoči uporabniku da vnosa ni mogel interpretirati in mu ponudi ponoven vnos, dokler vnos ni pravilen. Za števila upoštevajte, da so možna tudi števila z decimalnim mestom (float).\n",
    "\n",
    "Na koncu izpišite enačbo in njen rezultat v obliki: `<a> <operator> <b> = <rezultat>`\n",
    "\n",
    "Primer delovanja 1:\n",
    "```\n",
    "a:  +\n",
    "Vnešene vrednosti nisem mogel interpretirati. Prosim poskusite ponovno.\n",
    "a:  +\n",
    "Vnešene vrednosti nisem mogel interpretirati. Prosim poskusite ponovno.\n",
    "a:  +\n",
    "Vnešene vrednosti nisem mogel interpretirati. Prosim poskusite ponovno.\n",
    "a:  1\n",
    "operator:  p\n",
    "Vnešene vrednosti nisem mogel interpretirati. Prosim poskusite ponovno.\n",
    "operator:  2\n",
    "Vnešene vrednosti nisem mogel interpretirati. Prosim poskusite ponovno.\n",
    "operator:  2\n",
    "Vnešene vrednosti nisem mogel interpretirati. Prosim poskusite ponovno.\n",
    "operator:  2+\n",
    "Vnešene vrednosti nisem mogel interpretirati. Prosim poskusite ponovno.\n",
    "operator:  +\n",
    "b:  45366475786898\n",
    "1.0 + 45366475786898.0 = 45366475786899.0\n",
    "```\n",
    "Primer delovanja 2:\n",
    "```\n",
    "a:  1\n",
    "operator:  /\n",
    "b:  7.58992\n",
    "1.0 / 7.58992 = 0.13175369437359022\n",
    "```\n",
    "Primer delovanja 2:\n",
    "```\n",
    "a:  3.0\n",
    "operator:  *\n",
    "b:  4\n",
    "3.0 * 4.0 = 12.0\n",
    "```\n"
   ]
  },
  {
   "cell_type": "code",
   "execution_count": 19,
   "metadata": {},
   "outputs": [
    {
     "name": "stdout",
     "output_type": "stream",
     "text": [
      "a: a\n",
      "Vnešene vrednosti nisem mogel interpretirati. Prosim poskusite ponovno.\n",
      "a: 1\n",
      "operator: +\n",
      "b: a\n",
      "Vnešene vrednosti nisem mogel interpretirati. Prosim poskusite ponovno.\n",
      "b: 2\n",
      "1.0 + 2.0 = 3.0\n"
     ]
    }
   ],
   "source": [
    "# Rešitev\n",
    "def get_num(naziv):\n",
    "    while True:\n",
    "        num = input(naziv).strip()\n",
    "        try:\n",
    "            num = float(num)\n",
    "            return num\n",
    "        except:\n",
    "            print(\"Vnešene vrednosti nisem mogel interpretirati. Prosim poskusite ponovno.\")\n",
    "def get_operator(naziv):\n",
    "    while True:\n",
    "        operator = input(naziv).strip()\n",
    "        if operator == \"*\":\n",
    "            return operator, lambda x,y: x*y\n",
    "        elif operator == \"/\":\n",
    "            return operator, lambda x,y: x/y\n",
    "        elif operator == \"+\":\n",
    "            return operator, lambda x,y: x+y\n",
    "        elif operator == \"-\":\n",
    "            return operator, lambda x,y: x-y\n",
    "        else:\n",
    "            print(\"Vnešene vrednosti nisem mogel interpretirati. Prosim poskusite ponovno.\")\n",
    "def funkcija03():\n",
    "    a = get_num(\"a: \")\n",
    "    operator, fun = get_operator(\"operator: \")\n",
    "    b = get_num(\"b: \")\n",
    "    print(f\"{a} {operator} {b} = {fun(a,b)}\")\n",
    "    \n",
    "    \n",
    "funkcija03()"
   ]
  },
  {
   "cell_type": "code",
   "execution_count": null,
   "metadata": {},
   "outputs": [],
   "source": []
  },
  {
   "cell_type": "markdown",
   "metadata": {},
   "source": [
    "# Naloga 04\n",
    "**Točke: /5**\n",
    "\n",
    "Napišite funkcijo `funkcija04`, ki prebere datoteko `naloga04_input.txt`, kjer so podatki razpisani v vsaki vrstici in ločeni z vejicami.\n",
    "Oblika vrstic: `<ID>; <naslov knjige>; <avtor>; <leto>`\n",
    "\n",
    "Ustvarite novo datoteko `naloga04_output.txt` (če datoteka že obstaja, jo prepišite oz. _override_ ) in vanj zapišite vrstice iz datoteke `naloga04_input.txt` v urejenem vrstnem redu glede na `<ID>` vsake knjige, ki so cela števila. Vrsice naj ostanejo identične kot v prvotni datoteki.\n",
    "\n",
    "...ko odpirate datoteke uporabite `encoding=\"utf-8\"`"
   ]
  },
  {
   "cell_type": "code",
   "execution_count": 20,
   "metadata": {},
   "outputs": [],
   "source": [
    "# Rešitev\n",
    "def funkcija04():\n",
    "    with open(\"naloga04_input.txt\",\"r\",encoding=\"utf-8\") as f:\n",
    "        rows = f.readlines()\n",
    "    new_rows = sorted(rows,key=lambda x: int(x.split(\";\")[0]))\n",
    "    with open(\"naloga04_output.txt\",\"w\",encoding=\"utf-8\") as f:\n",
    "        f.writelines(new_rows)\n",
    "funkcija04()"
   ]
  },
  {
   "cell_type": "code",
   "execution_count": 21,
   "metadata": {},
   "outputs": [
    {
     "name": "stdout",
     "output_type": "stream",
     "text": [
      "Pravilno!\n"
     ]
    }
   ],
   "source": [
    "# Test\n",
    "with open(\"naloga04_output.txt\",\"r\",encoding=\"utf-8\") as f1:\n",
    "    with open(\"naloga04_output_za_preverjanje.txt\", \"r\", encoding=\"utf-8\") as f2:\n",
    "        temp = []\n",
    "        for line1,line2 in zip(f1,f2):\n",
    "            temp.append(line1.strip()==line2.strip())\n",
    "        if all(temp):\n",
    "            print(\"Pravilno!\")\n",
    "        else:\n",
    "            print(f\"Napaka!\\nVrstice, ki se ne ujemajo: {[i+1 for i,el in enumerate(temp)]}\")"
   ]
  },
  {
   "cell_type": "code",
   "execution_count": null,
   "metadata": {},
   "outputs": [],
   "source": []
  },
  {
   "cell_type": "code",
   "execution_count": null,
   "metadata": {},
   "outputs": [],
   "source": []
  },
  {
   "cell_type": "markdown",
   "metadata": {},
   "source": [
    "# Naloga 05\n",
    "**Točke: /5**\n",
    "\n",
    "Napišite razred `Gorivo`, ki ima shranjeno `ime` (String), `euro_na_liter` (float) in `litrov_na_100km` (float). Podatke podamo kot atribute v `__init__(self)` funkcijo (vrstni red isti kot zgoraj).\n",
    "\n",
    "Napišite razred `Crpalka`, ki ima shranjen seznam `goriva` (list) v ponudbi na tej črpalki. Temu razredu implementirajte tudi sledeče funkcije:\n",
    "* _`najcenejse_gorivo(self)`_ --> vrne ime goriva, ki je najceneše glede na količino\n",
    "* _`najdrazje_gorivo(self)`_ --> vrne ime goriva, ki je najdražje glede na količino\n",
    "* _`najbolj_ekonomsko_gorivo(self)`_ --> vrne ime goriva, ki je najcenejša glede na prevoženo razdaljo\n",
    "* _`najmanj_ekonomsko_gorivo(self)`_ --> vrne ime goriva, ki je najdražja glede na prevoženo razdaljo\n",
    "* _`dodaj_gorivo(self,novo_gorivo)`_ --> doda novo_gorivo v seznam, če gorivo s takim imenom še ne obstaja na tej črpalki\n",
    "* _`odstrani_gorivo(self,ime)`_ --> odstrani gorivo z določenim imenom iz seznama te črpalke\n",
    "* _`vsa_goriva(self)`_ --> vrne seznam imen goriv na tej črpalki\n",
    "* _`primerjaj_s_crpalko(self,druga_crpalka)`_ --> vrne tuple treh seznamov (\\<imena goriv ki sta pri obeh\\>, \\<imena goriv ki so samo tukaj\\>, \\<imena goriv ki so samo pri druga_crpalka\"\\>)\n",
    "\n",
    "...lahko predpostavite, da bo samo 1 gorivo, ki bo najcenejše/najdražje"
   ]
  },
  {
   "cell_type": "code",
   "execution_count": 27,
   "metadata": {},
   "outputs": [],
   "source": [
    "# Rešitev\n",
    "class Gorivo:\n",
    "    def __init__(self, ime, euro_na_liter, litrov_na_100km):\n",
    "        self.ime = ime\n",
    "        self.euro_na_liter = euro_na_liter\n",
    "        self.litrov_na_100km = litrov_na_100km\n",
    "        \n",
    "    \n",
    "class Crpalka:\n",
    "    def __init__(self):\n",
    "        self.goriva = []\n",
    "        \n",
    "    def najcenejse_gorivo(self):\n",
    "        min_ = 10_000\n",
    "        ime = None\n",
    "        for gorivo in self.goriva:\n",
    "            if min_ >= gorivo.euro_na_liter:\n",
    "                min_ = gorivo.euro_na_liter\n",
    "                ime = gorivo.ime\n",
    "        return ime\n",
    "    \n",
    "    def najdrazje_gorivo(self):\n",
    "        max_ = 0\n",
    "        ime = None\n",
    "        for gorivo in self.goriva:\n",
    "            if max_ <= gorivo.euro_na_liter:\n",
    "                max_ = gorivo.euro_na_liter\n",
    "                ime = gorivo.ime\n",
    "        return ime\n",
    "    \n",
    "    def najbolj_ekonomsko_gorivo(self):\n",
    "        x = 10_000\n",
    "        ime = None\n",
    "        for gorivo in self.goriva:\n",
    "            if x >= gorivo.litrov_na_100km:\n",
    "                x = gorivo.litrov_na_100km\n",
    "                ime = gorivo.ime\n",
    "        return ime\n",
    "    \n",
    "    def najmanj_ekonomsko_gorivo(self):\n",
    "        x = 0\n",
    "        ime = None\n",
    "        for gorivo in self.goriva:\n",
    "            if x <= gorivo.litrov_na_100km:\n",
    "                x = gorivo.litrov_na_100km\n",
    "                ime = gorivo.ime\n",
    "        return ime\n",
    "    \n",
    "    def dodaj_gorivo(self, novo_gorivo):\n",
    "        for gorivo in self.goriva:\n",
    "            if gorivo.ime == novo_gorivo.ime:\n",
    "                return None\n",
    "        self.goriva.append(novo_gorivo)\n",
    "    \n",
    "    def odstrani_gorivo(self, ime):\n",
    "        for gorivo in self.goriva:\n",
    "            if gorivo.ime == ime:\n",
    "                self.goriva.remove(gorivo)\n",
    "    \n",
    "    def vsa_goriva(self):\n",
    "        return [gorivo.ime for gorivo in self.goriva]\n",
    "    \n",
    "    def primerjaj_s_crpalko(self, druga_crpalka):\n",
    "        imena_prve = set([gorivo.ime for gorivo in self.goriva])\n",
    "        imena_druga = set([gorivo.ime for gorivo in druga_crpalka.goriva])\n",
    "        v_obeh = list(imena_prve.intersection(imena_druga))\n",
    "        samo_tukaj = list(imena_prve.difference(imena_druga))\n",
    "        samo_tam = list(imena_druga.difference(imena_prve))\n",
    "        return (v_obeh, samo_tukaj, samo_tam)"
   ]
  },
  {
   "cell_type": "code",
   "execution_count": 31,
   "metadata": {},
   "outputs": [
    {
     "name": "stdout",
     "output_type": "stream",
     "text": [
      "bencin-100\n",
      "nafta-3\n",
      "dizel-100\n",
      "bencin-100\n",
      "['bencin-7', 'nafta-3', 'bencin-100', 'dizel-100']\n",
      "(['bencin-7'], ['bencin-100', 'dizel-100', 'nafta-3'], ['plin-13', 'dizel-1'])\n",
      "['bencin-7', 'nafta-3', 'bencin-100', 'dizel-100']\n"
     ]
    }
   ],
   "source": [
    "# Test\n",
    "crp = Crpalka()\n",
    "crp.dodaj_gorivo(Gorivo(\"dizel-1\",2.9999,10))\n",
    "crp.dodaj_gorivo(Gorivo(\"bencin-7\",3.864,7))\n",
    "crp.dodaj_gorivo(Gorivo(\"nafta-3\",4.3333,6))\n",
    "crp.dodaj_gorivo(Gorivo(\"bencin-100\",3.1,9))\n",
    "crp.dodaj_gorivo(Gorivo(\"dizel-100\",3.4,6))\n",
    "\n",
    "crp2 = Crpalka()\n",
    "crp2.dodaj_gorivo(Gorivo(\"dizel-1\",2.9999,10))\n",
    "crp2.dodaj_gorivo(Gorivo(\"bencin-7\",3.864,7))\n",
    "crp2.dodaj_gorivo(Gorivo(\"plin-13\",1.345,20))\n",
    "                  \n",
    "crp.odstrani_gorivo(\"dizel-1\")\n",
    "\n",
    "print(crp.najcenejse_gorivo()) # 'bencin-100'\n",
    "print(crp.najdrazje_gorivo()) # 'nafta-3'\n",
    "print(crp.najbolj_ekonomsko_gorivo()) # 'dizel-100'\n",
    "print(crp.najmanj_ekonomsko_gorivo()) # 'bencin-100'\n",
    "print(crp.vsa_goriva()) # ['bencin-7', 'nafta-3', 'bencin-100', 'dizel-100']\n",
    "print(crp.primerjaj_s_crpalko(crp2)) # (['bencin-7'], ['dizel-100', 'nafta-3', 'bencin-100'], ['plin-13', 'dizel-1'])\n",
    "print(crp.vsa_goriva()) # ['bencin-7', 'nafta-3', 'bencin-100', 'dizel-100']"
   ]
  },
  {
   "cell_type": "code",
   "execution_count": null,
   "metadata": {},
   "outputs": [],
   "source": []
  },
  {
   "cell_type": "code",
   "execution_count": null,
   "metadata": {},
   "outputs": [],
   "source": []
  }
 ],
 "metadata": {
  "kernelspec": {
   "display_name": "Python 3",
   "language": "python",
   "name": "python3"
  },
  "language_info": {
   "codemirror_mode": {
    "name": "ipython",
    "version": 3
   },
   "file_extension": ".py",
   "mimetype": "text/x-python",
   "name": "python",
   "nbconvert_exporter": "python",
   "pygments_lexer": "ipython3",
   "version": "3.8.8"
  },
  "toc": {
   "base_numbering": 1,
   "nav_menu": {},
   "number_sections": true,
   "sideBar": true,
   "skip_h1_title": false,
   "title_cell": "Table of Contents",
   "title_sidebar": "Contents",
   "toc_cell": false,
   "toc_position": {},
   "toc_section_display": true,
   "toc_window_display": false
  }
 },
 "nbformat": 4,
 "nbformat_minor": 4
}
