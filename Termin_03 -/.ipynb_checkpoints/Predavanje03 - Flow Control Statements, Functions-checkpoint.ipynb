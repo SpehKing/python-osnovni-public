{
 "cells": [
  {
   "cell_type": "markdown",
   "metadata": {},
   "source": [
    "## While\n",
    "\n",
    "While zanka deluje na podoben princip kot if. While izvaja blok kode, dokler je \"expression\" True.\n",
    "\n",
    "``` python\n",
    "while <expr>:\n",
    "    <statement(s)>\n",
    "```"
   ]
  },
  {
   "cell_type": "code",
   "execution_count": 26,
   "metadata": {
    "scrolled": true
   },
   "outputs": [
    {
     "name": "stdout",
     "output_type": "stream",
     "text": [
      "Vreme je lepo.\n"
     ]
    }
   ],
   "source": [
    "lepo_vreme = True\n",
    "while lepo_vreme:\n",
    "  print('Vreme je lepo.')\n",
    "  lepo_vreme = False"
   ]
  },
  {
   "cell_type": "code",
   "execution_count": 14,
   "metadata": {
    "collapsed": true
   },
   "outputs": [],
   "source": [
    "#the body should be able to change the condition’s value, because if the condition is \n",
    "#True at the beginning, the body might run continuously to infinity\n",
    "#while True:\n",
    "#    print(\"Neskončna zanka. Se ne ustavim.\")\n",
    "\n",
    "#ustavimo v CTRL + C"
   ]
  },
  {
   "cell_type": "markdown",
   "metadata": {},
   "source": [
    "While zanko se lahko uporabi za ponovitev bloka kode določenega števila korakov."
   ]
  },
  {
   "cell_type": "code",
   "execution_count": 27,
   "metadata": {},
   "outputs": [
    {
     "name": "stdout",
     "output_type": "stream",
     "text": [
      "Repeated 0 times\n",
      "Repeated 1 times\n",
      "Repeated 2 times\n",
      "Repeated 3 times\n",
      "Repeated 4 times\n",
      "Repeated 5 times\n",
      "Repeated 6 times\n",
      "Repeated 7 times\n",
      "Repeated 8 times\n",
      "Repeated 9 times\n"
     ]
    }
   ],
   "source": [
    "i = 0\n",
    "while i < 10:\n",
    "    print(f'Repeated {i} times')\n",
    "    i += 1"
   ]
  },
  {
   "cell_type": "code",
   "execution_count": 16,
   "metadata": {},
   "outputs": [
    {
     "name": "stdout",
     "output_type": "stream",
     "text": [
      "Heating...\n",
      "Heating...\n",
      "Heating...\n",
      "Heating...\n",
      "Heating...\n"
     ]
    }
   ],
   "source": [
    "#A common use of the while loop is to do things like these:\n",
    "\n",
    "temperature = 15\n",
    "\n",
    "while temperature < 20:\n",
    "    print('Heating...')\n",
    "    temperature += 1\n",
    "\n",
    "#Only instead of the temperature increasing continuously, we would e.g. get it from a sensor.\n",
    "#Remember to always have a way of exiting the loop! Otherwise it will run endlessly!"
   ]
  },
  {
   "cell_type": "markdown",
   "metadata": {},
   "source": [
    "Obstaja tud while else.\n",
    "\n",
    "```python\n",
    "while <expr>:\n",
    "    <statement(s)>\n",
    "else:\n",
    "    <additional_statement(s)>\n",
    "    \n",
    "The <additional_statement(s)> specified in the else clause will be executed when the while loop terminates.\n",
    "About now, you may be thinking, “How is that useful?” You could accomplish the same thing by putting those statements immediately after the while loop, without the else:\n",
    "\n",
    "What’s the difference?\n",
    "\n",
    "In the latter case, without the else clause, <additional_statement(s)> will be executed after the while loop terminates, no matter what.\n",
    "\n",
    "When <additional_statement(s)> are placed in an else clause, they will be executed only if the loop terminates “by exhaustion”—that is, if the loop iterates until the controlling condition becomes false. If the loop is exited by a break statement, the else clause won’t be executed.\n",
    "\n",
    "```"
   ]
  },
  {
   "cell_type": "code",
   "execution_count": 10,
   "metadata": {},
   "outputs": [
    {
     "name": "stdout",
     "output_type": "stream",
     "text": [
      "Counter:  1\n",
      "Counter:  2\n",
      "Counter:  3\n",
      "Nadaljevanje programa\n"
     ]
    }
   ],
   "source": [
    "counter = 1\n",
    "while counter<5:\n",
    "    print(\"Counter: \", counter)\n",
    "    if counter == 3: break # comment or uncomment to see how it affects the program\n",
    "    counter+=1\n",
    "else:\n",
    "    print(\"Else statement\")\n",
    "    \n",
    "print(\"Nadaljevanje programa\")"
   ]
  },
  {
   "cell_type": "markdown",
   "metadata": {},
   "source": [
    "## Vaja 01\n",
    "\n",
    "Napišite program, ki izpiše prvih 10 sodih števil."
   ]
  },
  {
   "cell_type": "code",
   "execution_count": null,
   "metadata": {},
   "outputs": [],
   "source": [
    "counter = 0\n",
    "number = 1\n",
    "\n",
    "while counter<10:\n",
    "    if number%2 == 0:\n",
    "        print(number)\n",
    "        counter += 1\n",
    "    number += 1"
   ]
  },
  {
   "cell_type": "markdown",
   "metadata": {},
   "source": [
    "## Vaja 02\n",
    "\n",
    "Uporabnik naj vnese željeno dolžino Fibonaccijevega zaporedja. Program naj nato to zaporedje shrani v list in ga na koncu izpiše.\n",
    "\n",
    "```python\n",
    "Fibonacci sequence\n",
    "\n",
    "0, 1, 1, 2, 3, 5, 8, 13, 21, 34\n",
    "```"
   ]
  },
  {
   "cell_type": "code",
   "execution_count": null,
   "metadata": {},
   "outputs": [],
   "source": [
    "x = int(input(\"Dolžina Fibonnacijevega zaporedja: \"))\n",
    "fibonacci = [0, 1]\n",
    "counter = 2\n",
    "\n",
    "while counter < x: # while len(fibonacci) < x  bi tud šlo\n",
    "    fibonacci.append(fibonacci[-1] + fibonacci[-2])\n",
    "    counter += 1\n",
    "print(fibonacci)"
   ]
  },
  {
   "cell_type": "markdown",
   "metadata": {},
   "source": [
    "## For loop\n",
    "\n",
    "Uporablja se kadar hočemo izvesti blok kode za vnaprej določeno število ponovitev.\n",
    "\n",
    "Primer: kadar hočemo izvesti blok kode za vsak element v list-u.\n",
    "\n",
    "```python\n",
    "for <var> in <iterable>:\n",
    "    <statement(s)>\n",
    "```\n"
   ]
  },
  {
   "cell_type": "code",
   "execution_count": 8,
   "metadata": {},
   "outputs": [
    {
     "name": "stdout",
     "output_type": "stream",
     "text": [
      "2 is  a prime number.\n",
      "3 is  a prime number.\n",
      "5 is  a prime number.\n",
      "7 is  a prime number.\n",
      "11 is  a prime number.\n"
     ]
    }
   ],
   "source": [
    "primes = [2, 3, 5, 7, 11] #itrable\n",
    "for prime in primes:\n",
    "    print(f'{prime} is  a prime number.')"
   ]
  },
  {
   "cell_type": "code",
   "execution_count": 9,
   "metadata": {},
   "outputs": [
    {
     "name": "stdout",
     "output_type": "stream",
     "text": [
      "I have a 3 year old kid.\n",
      "I have a 7 year old kid.\n",
      "I have a 12 year old kid.\n"
     ]
    }
   ],
   "source": [
    "kid_ages = (3, 7, 12)\n",
    "for age in kid_ages: \n",
    "    print(f'I have a {age} year old kid.')"
   ]
  },
  {
   "cell_type": "markdown",
   "metadata": {},
   "source": [
    "Velikokrat se skupaj z for-loop uporablja funkcija range().\n",
    "\n",
    "```python\n",
    "range(start, stop, step)\n",
    "```\n",
    "* start - Optional. An integer number specifying at which position to start. Default is 0\n",
    "* stop  - An integer number specifying at which position to end, excluding this number.\n",
    "* step  - Optional. An integer number specifying the incrementation. Default is 1\n",
    "\n",
    "\n",
    "Funkcija range nam zgenerira list števil."
   ]
  },
  {
   "cell_type": "code",
   "execution_count": 15,
   "metadata": {},
   "outputs": [
    {
     "name": "stdout",
     "output_type": "stream",
     "text": [
      "<class 'range'>\n",
      "range(-5, 10)\n",
      "[-5, -4, -3, -2, -1, 0, 1, 2, 3, 4, 5, 6, 7, 8, 9]\n"
     ]
    }
   ],
   "source": [
    "x = range(-5, 10, 1)\n",
    "print(type(x))\n",
    "print(x)\n",
    "print(list(x))"
   ]
  },
  {
   "cell_type": "code",
   "execution_count": 41,
   "metadata": {},
   "outputs": [
    {
     "name": "stdout",
     "output_type": "stream",
     "text": [
      "macka je star/a 6 let.\n",
      "pes je star/a 12 let.\n",
      "krava je star/a 20 let.\n"
     ]
    }
   ],
   "source": [
    "# Primer: Iteracija čez dictionary\n",
    "pets = {\n",
    "    'macka': 6,\n",
    "    'pes': 12,\n",
    "    'krava': 20\n",
    "}\n",
    "\n",
    "for pet, years in pets.items():\n",
    "    print(f'{pet} je star/a {years} let.')"
   ]
  },
  {
   "cell_type": "markdown",
   "metadata": {},
   "source": [
    ">**Nasveti**\n",
    "- Use the enumerate function in loops instead of creating an “index” variable"
   ]
  },
  {
   "cell_type": "markdown",
   "metadata": {},
   "source": [
    "Programmers coming from other languages are used to explicitly declaring a variable\n",
    "to track the index of a container in a loop. For example, in C++:\n",
    "\n",
    "```C++\n",
    "for (int i=0; i < container.size(); ++i)\n",
    "{\n",
    "// Do stuff\n",
    "}\n",
    "```\n",
    "In Python, the enumerate built-in function handles this role."
   ]
  },
  {
   "cell_type": "code",
   "execution_count": 7,
   "metadata": {},
   "outputs": [
    {
     "name": "stdout",
     "output_type": "stream",
     "text": [
      "0 Anže\n",
      "1 Luka\n",
      "2 Mojca\n"
     ]
    }
   ],
   "source": [
    "moj_list = [\"Anže\", \"Luka\", \"Mojca\"]\n",
    "index = 0\n",
    "for element in moj_list:\n",
    "    print (f'{index} {element}')\n",
    "    index += 1"
   ]
  },
  {
   "cell_type": "code",
   "execution_count": 6,
   "metadata": {},
   "outputs": [
    {
     "name": "stdout",
     "output_type": "stream",
     "text": [
      "0 Anže\n",
      "1 Luka\n",
      "2 Mojca\n"
     ]
    }
   ],
   "source": [
    "#Idiomatic\n",
    "moj_list = [\"Anže\", \"Luka\", \"Mojca\"]\n",
    "for index, element in enumerate(moj_list):\n",
    "    print (f'{index} {element}')"
   ]
  },
  {
   "cell_type": "markdown",
   "metadata": {},
   "source": [
    "### Break\n",
    "\n",
    "Break keyword terminira najbolj notranjo zanko v kateri se nahaja."
   ]
  },
  {
   "cell_type": "code",
   "execution_count": 44,
   "metadata": {},
   "outputs": [
    {
     "name": "stdout",
     "output_type": "stream",
     "text": [
      "Avto je ok.\n",
      "Naslednji korak zanke\n",
      "Avto je ok.\n",
      "Naslednji korak zanke\n",
      "Avto je ok.\n",
      "Naslednji korak zanke\n",
      "Avto je zanič.\n",
      "End\n"
     ]
    }
   ],
   "source": [
    "avti = [\"ok\", \"ok\", \"ok\", \"slab\", \"ok\"]\n",
    "\n",
    "for avto in avti:\n",
    "    if avto == \"slab\":\n",
    "        print(\"Avto je zanič.\")\n",
    "        break\n",
    "    print(\"Avto je ok.\")\n",
    "    print(\"Naslednji korak zanke\")\n",
    "print(\"End\")"
   ]
  },
  {
   "cell_type": "markdown",
   "metadata": {},
   "source": [
    "### Continue\n",
    "\n",
    "Continue keyword izpusti kodo, ki se more še izvesti, in skoči na naslednjo iteracijo zanke ."
   ]
  },
  {
   "cell_type": "code",
   "execution_count": 45,
   "metadata": {},
   "outputs": [
    {
     "name": "stdout",
     "output_type": "stream",
     "text": [
      "Avto je ok.\n",
      "Naslednji korak zanke\n",
      "Avto je ok.\n",
      "Naslednji korak zanke\n",
      "Avto je ok.\n",
      "Naslednji korak zanke\n",
      "Avto je zanič.\n",
      "Avto je ok.\n",
      "Naslednji korak zanke\n",
      "End\n"
     ]
    }
   ],
   "source": [
    "avti = [\"ok\", \"ok\", \"ok\", \"slab\", \"ok\"]\n",
    "\n",
    "for avto in avti:\n",
    "    if avto == \"slab\":\n",
    "        print(\"Avto je zanič.\")\n",
    "        continue #continue #lah pokažeš še primer k je stvar zakomentirana\n",
    "    print(\"Avto je ok.\")\n",
    "    print(\"Naslednji korak zanke\")\n",
    "print(\"End\")"
   ]
  },
  {
   "cell_type": "markdown",
   "metadata": {},
   "source": [
    "## Vaja 01\n",
    "\n",
    "Iz danega dictionary izpišite vse ključe, katerih vrednost vsebuje črko **r**.\n",
    "\n",
    "```python\n",
    "d = {\n",
    "    \"mačka\": \"Micka\",\n",
    "    \"pes\": \"Fido\",\n",
    "    \"volk\": \"Rex\",\n",
    "    \"medved\": \"Žan\",\n",
    "    \"slon\": \"Jan\",\n",
    "    \"žirafa\": \"Helga\",\n",
    "    \"lev\": \"Gašper\",\n",
    "    \"tiger\": \"Anže\",\n",
    "    \"papagaj\": \"Črt\",\n",
    "    \"ribica\": \"Elena\",\n",
    "    \"krokodil\": \"Kasper\",\n",
    "    \"zajec\": \"Lars\",\n",
    "    \"kamela\": \"Manca\" \n",
    "}\n",
    "```"
   ]
  },
  {
   "cell_type": "code",
   "execution_count": null,
   "metadata": {},
   "outputs": [],
   "source": [
    "d = {\n",
    "    \"mačka\": \"Micka\",\n",
    "    \"pes\": \"Fido\",\n",
    "    \"volk\": \"Rex\",\n",
    "    \"medved\": \"Žan\",\n",
    "    \"slon\": \"Jan\",\n",
    "    \"žirafa\": \"Helga\",\n",
    "    \"lev\": \"Gašper\",\n",
    "    \"tiger\": \"Anže\",\n",
    "    \"papagaj\": \"Črt\",\n",
    "    \"ribica\": \"Elena\",\n",
    "    \"krokodil\": \"Kasper\",\n",
    "    \"zajec\": \"Lars\",\n",
    "    \"kamela\": \"Manca\" \n",
    "}\n",
    "\n",
    "\n",
    "for key,value in d.items():\n",
    "    if \"r\" in value or \"R\" in value:\n",
    "        print(f\"{key}\")"
   ]
  },
  {
   "cell_type": "code",
   "execution_count": null,
   "metadata": {},
   "outputs": [],
   "source": []
  },
  {
   "cell_type": "markdown",
   "metadata": {},
   "source": [
    "## Vaja 02\n",
    "\n",
    "Poiščite vsa praštevila med 2 in 30."
   ]
  },
  {
   "cell_type": "code",
   "execution_count": null,
   "metadata": {},
   "outputs": [],
   "source": [
    "for num in range(2,51):\n",
    "    prime = True\n",
    "    for i in range(2,num):\n",
    "        #print(f\"{num} / {i}. Ostanek je {num%i}\")\n",
    "        if (num%i==0):\n",
    "            prime = False\n",
    "            break\n",
    "    if prime:\n",
    "        print(f\"{num} JE praštevilo!\")\n",
    "    #else:\n",
    "        #print(f\"{num} NI praštevilo.\")"
   ]
  },
  {
   "cell_type": "code",
   "execution_count": null,
   "metadata": {},
   "outputs": [],
   "source": []
  },
  {
   "cell_type": "markdown",
   "metadata": {},
   "source": [
    "## Funkcije\n",
    "\n",
    "Funkcija je blok kode, ki izvede specifično operacijo in jo lahko večkrat uporabimo.\n",
    "> Za primer, če v programu večkrat uporabniku rečemo, naj vnese celo število med 1 in 20. Od njega zahtevamo vnos s pomočjo **input** in nato to spremenimo v celo število z uporabo **int**. Nato preverimo ali je število v pravilnem rangu. To zaporedje kode v programu večkrat ponovimo.\n",
    "\n",
    "> Če se sedaj odločimo, da naj uporabnik vnese celo število v rangu med 1 in 100, moramo popraviti vsako vrstico posebej, kar hitro lahko privede do napake.\n",
    "\n",
    "> Za lažje pisanje programa lahko to zaporedje kode shranimo v funkcijo. Če sedaj spremenimo rang, le-tega popravimo samo enkrat, znotraj naše funkcije.\n",
    "\n",
    "Funkcije nam omogočajo uporabo tuje kode brez globjega razumevanja kako le-ta deluje. Z njihovo pomočjo lahko zelo kompleksne probleme razbijemo na majhne in bolj obvladljive komponente."
   ]
  },
  {
   "cell_type": "markdown",
   "metadata": {},
   "source": [
    "#### Defining a Function\n",
    "\n",
    "Funkcijo definiramo z uporabo def keyword kateri sledi ime funkcije in oglati oklepaji (). Zaključi se jo z \" : \".\n",
    "\n",
    "Blok kode, katero želimo, da naša funkcija izvede zapišemo z ustreznim zamikom.\n",
    "\n",
    "```python\n",
    "def ime_funkcije():\n",
    "    # Naš blok kode katero želimo izvesti\n",
    "    x = input(\"...\")\n",
    "    y = int(x) + 5\n",
    "    ...\n",
    "```\n",
    "\n",
    "Po priporočilih se imena funkcije piše na snake_case način (vse male črke, med besedami podčrtaj _ )"
   ]
  },
  {
   "cell_type": "markdown",
   "metadata": {},
   "source": [
    "Funkcijo nato uporabimo tako, da jo pokličemo po imenu in dodamo zraven ().\n",
    "```python\n",
    "ime_funkcije() # Klic naše funkcije\n",
    "```"
   ]
  },
  {
   "cell_type": "code",
   "execution_count": 28,
   "metadata": {},
   "outputs": [
    {
     "name": "stdout",
     "output_type": "stream",
     "text": [
      "Začetek programa\n",
      "Hello, World!\n",
      "Nadaljevanje programa\n"
     ]
    }
   ],
   "source": [
    "def hello():\n",
    "    print(\"Hello, World!\")\n",
    "\n",
    "print(\"Začetek programa\")\n",
    "hello()\n",
    "print(\"Nadaljevanje programa\")\n",
    "#pokažemo, da moremo funkcijo klicat po definiciji.\n",
    "#pazt, če to kažeš v jupyter notebooku, k tm se shranjo stvari v ozadju"
   ]
  },
  {
   "cell_type": "markdown",
   "metadata": {},
   "source": [
    "Funkcije je v kodi potrebno ustvariti, še predno jo kličemo."
   ]
  },
  {
   "cell_type": "code",
   "execution_count": 30,
   "metadata": {},
   "outputs": [
    {
     "name": "stdout",
     "output_type": "stream",
     "text": [
      "Začetek programa\n"
     ]
    },
    {
     "ename": "NameError",
     "evalue": "name 'hello2' is not defined",
     "output_type": "error",
     "traceback": [
      "\u001b[1;31m---------------------------------------------------------------------------\u001b[0m",
      "\u001b[1;31mNameError\u001b[0m                                 Traceback (most recent call last)",
      "\u001b[1;32m<ipython-input-30-d0c6cd4e0154>\u001b[0m in \u001b[0;36m<module>\u001b[1;34m\u001b[0m\n\u001b[0;32m      1\u001b[0m \u001b[0mprint\u001b[0m\u001b[1;33m(\u001b[0m\u001b[1;34m\"Začetek programa\"\u001b[0m\u001b[1;33m)\u001b[0m\u001b[1;33m\u001b[0m\u001b[1;33m\u001b[0m\u001b[0m\n\u001b[1;32m----> 2\u001b[1;33m \u001b[0mhello2\u001b[0m\u001b[1;33m(\u001b[0m\u001b[1;33m)\u001b[0m\u001b[1;33m\u001b[0m\u001b[1;33m\u001b[0m\u001b[0m\n\u001b[0m\u001b[0;32m      3\u001b[0m \u001b[0mprint\u001b[0m\u001b[1;33m(\u001b[0m\u001b[1;34m\"Nadaljevanje programa\"\u001b[0m\u001b[1;33m)\u001b[0m\u001b[1;33m\u001b[0m\u001b[1;33m\u001b[0m\u001b[0m\n\u001b[0;32m      4\u001b[0m \u001b[1;33m\u001b[0m\u001b[0m\n\u001b[0;32m      5\u001b[0m \u001b[1;32mdef\u001b[0m \u001b[0mhello2\u001b[0m\u001b[1;33m(\u001b[0m\u001b[1;33m)\u001b[0m\u001b[1;33m:\u001b[0m\u001b[1;33m\u001b[0m\u001b[1;33m\u001b[0m\u001b[0m\n",
      "\u001b[1;31mNameError\u001b[0m: name 'hello2' is not defined"
     ]
    }
   ],
   "source": [
    "print(\"Začetek programa\")\n",
    "hello2()\n",
    "print(\"Nadaljevanje programa\")\n",
    "\n",
    "def hello2():\n",
    "    print(\"Hello, World!\")"
   ]
  },
  {
   "cell_type": "code",
   "execution_count": null,
   "metadata": {},
   "outputs": [],
   "source": []
  },
  {
   "cell_type": "code",
   "execution_count": null,
   "metadata": {},
   "outputs": [],
   "source": []
  },
  {
   "cell_type": "code",
   "execution_count": null,
   "metadata": {},
   "outputs": [],
   "source": []
  },
  {
   "cell_type": "markdown",
   "metadata": {},
   "source": [
    "<div class=\"alert alert-block alert-info\">\n",
    "<h1><b>Naloga: </b></h1>\n",
    "Napišite funkcijo, ki od uporabnika zahteva naj vnese svojo EMŠO število.\n",
    "    \n",
    "Funkcija naj nato izpiše koliko let je uporabnik star.\n",
    "\n",
    "EMŠO ima 14 številk XXXXyyyXXXXXXX. 5.,6.,7. številka predstavljajo letnico rojstva (999 -> 1999 leto rojstva). \n",
    "</div>\n",
    "\n",
    "Primeri:\n",
    "```python\n",
    "Input:\n",
    "Vnesi emšo: 0102999500111\n",
    "\n",
    "Output:\n",
    "Star si 22 let\n",
    "\n",
    "Input:\n",
    "Vnesi emšo: 0104986505555\n",
    "\n",
    "Output:\n",
    "Star si 35 let\n",
    "\n",
    "```"
   ]
  },
  {
   "cell_type": "code",
   "execution_count": null,
   "metadata": {},
   "outputs": [],
   "source": [
    "# Rešitev\n",
    "def fun():\n",
    "    emšo = input(\"Vnesi emšo: \")\n",
    "    \n",
    "    letnica = int(emšo[4:7]) + 1000\n",
    "    print(f\"Star si {2021-letnica} let\")\n",
    "\n",
    "fun()"
   ]
  },
  {
   "cell_type": "markdown",
   "metadata": {},
   "source": [
    "#### Working with Parameters\n",
    "\n",
    "Funkciji lahko pošljemo določene spremenljivke, katere želimo uporabiti v funkciji.\n",
    "> Primer: Če vemo ime uporabnika, ga lahko kličemo po imenu, kadar od njega zahtevamo input.\n",
    "\n",
    "Vrednost, ki jo pošljemo v funkcijo, se reče **argument**. To funkcija sprejme kot **parameter**.\n",
    "* Parameters are the name within the function definition.\n",
    "* Arguments are the values passed in when the function is called.\n",
    "\n",
    "\n",
    "Parametre funkcije definiramo znotraj njenih \"( )\".\n",
    "```python\n",
    "def funkcija_1(x, y, z): # x, y, z are parameters\n",
    "    pass\n",
    "\n",
    "funkcija_1(1, 2, 3) # 1, 2, 3 are arguments\n",
    "\n"
   ]
  },
  {
   "cell_type": "code",
   "execution_count": 9,
   "metadata": {},
   "outputs": [
    {
     "name": "stdout",
     "output_type": "stream",
     "text": [
      "X vrednost: 1\n",
      "Y vrednost: 2\n",
      "Z vrednost: 3\n"
     ]
    }
   ],
   "source": [
    "def funkcija_1(x, y, z):\n",
    "    print(f\"X vrednost: {x}\")\n",
    "    print(f\"Y vrednost: {y}\")\n",
    "    print(f\"Z vrednost: {z}\")\n",
    "    \n",
    "funkcija_1(1,2,3)"
   ]
  },
  {
   "cell_type": "markdown",
   "metadata": {},
   "source": [
    "V zgornjem primeru se ob klicu funkcije:\n",
    "* vrednost 1 shrani v spremenljivko x\n",
    "* vrednost 2 shrani v spremenljivko y\n",
    "* vrednost 3 shrani v spremenljivko z\n",
    "\n",
    "Zato je vrstni red argumentov pomemben!"
   ]
  },
  {
   "cell_type": "code",
   "execution_count": 10,
   "metadata": {},
   "outputs": [
    {
     "name": "stdout",
     "output_type": "stream",
     "text": [
      "X vrednost: 1\n",
      "Y vrednost: 2\n",
      "Z vrednost: 3\n",
      "Zamenjajmo vrstni red.\n",
      "X vrednost: 3\n",
      "Y vrednost: 2\n",
      "Z vrednost: 1\n"
     ]
    }
   ],
   "source": [
    "def funkcija_1(x, y, z):\n",
    "    print(f\"X vrednost: {x}\")\n",
    "    print(f\"Y vrednost: {y}\")\n",
    "    print(f\"Z vrednost: {z}\")\n",
    "    \n",
    "funkcija_1(1, 2, 3)\n",
    "print(\"Zamenjajmo vrstni red.\")\n",
    "funkcija_1(3, 2, 1)"
   ]
  },
  {
   "cell_type": "markdown",
   "metadata": {},
   "source": [
    "Pomembno je tudi, da podamo pravilno število argumentov!\n",
    "\n",
    "Če funkcija pričakuje 3 argumente, ji moramo podatki 3 argumente. Nič več. nič manj. V nasprotnem primeru dobimo napako."
   ]
  },
  {
   "cell_type": "code",
   "execution_count": 18,
   "metadata": {},
   "outputs": [
    {
     "ename": "TypeError",
     "evalue": "funkcija_1() missing 1 required positional argument: 'z'",
     "output_type": "error",
     "traceback": [
      "\u001b[1;31m---------------------------------------------------------------------------\u001b[0m",
      "\u001b[1;31mTypeError\u001b[0m                                 Traceback (most recent call last)",
      "\u001b[1;32m<ipython-input-18-e9b6b54ff80a>\u001b[0m in \u001b[0;36m<module>\u001b[1;34m\u001b[0m\n\u001b[0;32m      4\u001b[0m     \u001b[0mprint\u001b[0m\u001b[1;33m(\u001b[0m\u001b[1;34mf\"Z vrednost: {z}\"\u001b[0m\u001b[1;33m)\u001b[0m\u001b[1;33m\u001b[0m\u001b[1;33m\u001b[0m\u001b[0m\n\u001b[0;32m      5\u001b[0m \u001b[1;33m\u001b[0m\u001b[0m\n\u001b[1;32m----> 6\u001b[1;33m \u001b[0mfunkcija_1\u001b[0m\u001b[1;33m(\u001b[0m\u001b[1;36m1\u001b[0m\u001b[1;33m,\u001b[0m \u001b[1;36m2\u001b[0m\u001b[1;33m)\u001b[0m\u001b[1;33m\u001b[0m\u001b[1;33m\u001b[0m\u001b[0m\n\u001b[0m",
      "\u001b[1;31mTypeError\u001b[0m: funkcija_1() missing 1 required positional argument: 'z'"
     ]
    }
   ],
   "source": [
    "# Primer, ko podamo premalo argumentov\n",
    "def funkcija_1(x, y, z):\n",
    "    print(f\"X vrednost: {x}\")\n",
    "    print(f\"Y vrednost: {y}\")\n",
    "    print(f\"Z vrednost: {z}\")\n",
    "    \n",
    "funkcija_1(1, 2)"
   ]
  },
  {
   "cell_type": "code",
   "execution_count": 19,
   "metadata": {},
   "outputs": [
    {
     "ename": "TypeError",
     "evalue": "funkcija_1() takes 3 positional arguments but 4 were given",
     "output_type": "error",
     "traceback": [
      "\u001b[1;31m---------------------------------------------------------------------------\u001b[0m",
      "\u001b[1;31mTypeError\u001b[0m                                 Traceback (most recent call last)",
      "\u001b[1;32m<ipython-input-19-271e80339153>\u001b[0m in \u001b[0;36m<module>\u001b[1;34m\u001b[0m\n\u001b[0;32m      4\u001b[0m     \u001b[0mprint\u001b[0m\u001b[1;33m(\u001b[0m\u001b[1;34mf\"Z vrednost: {z}\"\u001b[0m\u001b[1;33m)\u001b[0m\u001b[1;33m\u001b[0m\u001b[1;33m\u001b[0m\u001b[0m\n\u001b[0;32m      5\u001b[0m \u001b[1;33m\u001b[0m\u001b[0m\n\u001b[1;32m----> 6\u001b[1;33m \u001b[0mfunkcija_1\u001b[0m\u001b[1;33m(\u001b[0m\u001b[1;36m1\u001b[0m\u001b[1;33m,\u001b[0m \u001b[1;36m2\u001b[0m\u001b[1;33m,\u001b[0m \u001b[1;36m3\u001b[0m\u001b[1;33m,\u001b[0m \u001b[1;36m4\u001b[0m\u001b[1;33m)\u001b[0m\u001b[1;33m\u001b[0m\u001b[1;33m\u001b[0m\u001b[0m\n\u001b[0m",
      "\u001b[1;31mTypeError\u001b[0m: funkcija_1() takes 3 positional arguments but 4 were given"
     ]
    }
   ],
   "source": [
    "# Primer, ko podamo preveč argumentov\n",
    "def funkcija_1(x, y, z):\n",
    "    print(f\"X vrednost: {x}\")\n",
    "    print(f\"Y vrednost: {y}\")\n",
    "    print(f\"Z vrednost: {z}\")\n",
    "    \n",
    "funkcija_1(1, 2, 3, 4)"
   ]
  },
  {
   "cell_type": "markdown",
   "metadata": {},
   "source": [
    "<div class=\"alert alert-block alert-info\">\n",
    "<h1><b>Naloga: </b></h1>\n",
    "\n",
    "Napiši funkcijo, ki sprejme 3 argumente.\n",
    "\n",
    "Funkcija naj izpiše kateri ima največjo vrednost in koliko je ta vrednost.\n",
    "</div>\n",
    "\n",
    "Primeri:\n",
    "```python\n",
    "Input:\n",
    "fun_01(0,-5,6)\n",
    "\n",
    "Output:\n",
    "Tretji argument je največji. Vrednost: 6\n",
    "\n",
    "Input:\n",
    "fun_01(1, 50, -50)\n",
    "\n",
    "Output:\n",
    "Drugi argument je največji. Vrednost: 50\n",
    "\n",
    "```\n"
   ]
  },
  {
   "cell_type": "code",
   "execution_count": null,
   "metadata": {},
   "outputs": [],
   "source": [
    "# Rešitev\n",
    "def fun_01(a, b, c):\n",
    "    if a>=b and a>=c:\n",
    "        print(f\"Prvi argument je največji. Vrednost: {a}\")\n",
    "    if b>=a and b>=c:\n",
    "        print(f\"Drugi argument je največji. Vrednost: {b}\")\n",
    "    if c>=b and c>=b:\n",
    "        print(f\"Tretji argument je največji. Vrednost: {c}\")\n",
    "    \n",
    "    \n",
    "fun_01(0,-5,6)\n",
    "fun_01(1, 50, -50)"
   ]
  },
  {
   "cell_type": "markdown",
   "metadata": {},
   "source": [
    "#### Keyword Arguments\n",
    "\n",
    "Naše argumente lahko poimenujemo s pravilnim imenom parametra in tako, ko naslednjič kličemo funkcijo, ne potrebujemo argumente podati v pravilnem vrstnem redu.\n",
    "\n",
    "```python\n",
    "def pozdrav(naslavljanje, ime, priimek):\n",
    "    print(f\"Pozdravljeni {naslavljanje} {ime} {priimek}.\")\n",
    "    \n",
    "pozdrav(priimek=\"Novak\", naslavljanje=\"gospod\", ime=\"Miha\")\n",
    "```"
   ]
  },
  {
   "cell_type": "code",
   "execution_count": 46,
   "metadata": {},
   "outputs": [
    {
     "name": "stdout",
     "output_type": "stream",
     "text": [
      "Pozdravljeni gospod Miha Novak.\n",
      "\n",
      "Uporaba Keyword arguments\n",
      "\n",
      "Pozdravljeni gospod Miha Novak.\n"
     ]
    }
   ],
   "source": [
    "def pozdrav(naslavljanje, ime, priimek):\n",
    "    print(f\"Pozdravljeni {naslavljanje} {ime} {priimek}.\")\n",
    "    \n",
    "pozdrav(\"gospod\", \"Miha\", \"Novak\")\n",
    "print(\"\\nUporaba Keyword arguments\\n\")\n",
    "pozdrav(priimek=\"Novak\", naslavljanje=\"gospod\", ime=\"Miha\")"
   ]
  },
  {
   "cell_type": "markdown",
   "metadata": {},
   "source": [
    "Če podamo napačno ime, dobimo napako."
   ]
  },
  {
   "cell_type": "code",
   "execution_count": 47,
   "metadata": {},
   "outputs": [
    {
     "ename": "TypeError",
     "evalue": "pozdrav() got an unexpected keyword argument 'zadnje_ime'",
     "output_type": "error",
     "traceback": [
      "\u001b[1;31m---------------------------------------------------------------------------\u001b[0m",
      "\u001b[1;31mTypeError\u001b[0m                                 Traceback (most recent call last)",
      "\u001b[1;32m<ipython-input-47-89652f3d516a>\u001b[0m in \u001b[0;36m<module>\u001b[1;34m\u001b[0m\n\u001b[0;32m      2\u001b[0m     \u001b[0mprint\u001b[0m\u001b[1;33m(\u001b[0m\u001b[1;34mf\"Pozdravljeni {naslavljanje} {ime} {priimek}.\"\u001b[0m\u001b[1;33m)\u001b[0m\u001b[1;33m\u001b[0m\u001b[1;33m\u001b[0m\u001b[0m\n\u001b[0;32m      3\u001b[0m \u001b[1;33m\u001b[0m\u001b[0m\n\u001b[1;32m----> 4\u001b[1;33m \u001b[0mpozdrav\u001b[0m\u001b[1;33m(\u001b[0m\u001b[0mzadnje_ime\u001b[0m\u001b[1;33m=\u001b[0m\u001b[1;34m\"Novak\"\u001b[0m\u001b[1;33m,\u001b[0m \u001b[0mnaslavljanje\u001b[0m\u001b[1;33m=\u001b[0m\u001b[1;34m\"gospod\"\u001b[0m\u001b[1;33m,\u001b[0m \u001b[0mime\u001b[0m\u001b[1;33m=\u001b[0m\u001b[1;34m\"Miha\"\u001b[0m\u001b[1;33m)\u001b[0m\u001b[1;33m\u001b[0m\u001b[1;33m\u001b[0m\u001b[0m\n\u001b[0m",
      "\u001b[1;31mTypeError\u001b[0m: pozdrav() got an unexpected keyword argument 'zadnje_ime'"
     ]
    }
   ],
   "source": [
    "def pozdrav(naslavljanje, ime, priimek):\n",
    "    print(f\"Pozdravljeni {naslavljanje} {ime} {priimek}.\")\n",
    "\n",
    "pozdrav(zadnje_ime=\"Novak\", naslavljanje=\"gospod\", ime=\"Miha\")"
   ]
  },
  {
   "cell_type": "markdown",
   "metadata": {},
   "source": [
    "Pri klicanju funkcije lahko uporabimo oba načina podajanja argumentov. Vendar je pomemben vrstni red."
   ]
  },
  {
   "cell_type": "code",
   "execution_count": 48,
   "metadata": {},
   "outputs": [
    {
     "name": "stdout",
     "output_type": "stream",
     "text": [
      "Pozdravljeni gospod Miha Novak.\n"
     ]
    }
   ],
   "source": [
    "def pozdrav(naslavljanje, ime, priimek):\n",
    "    print(f\"Pozdravljeni {naslavljanje} {ime} {priimek}.\")\n",
    "\n",
    "pozdrav(\"gospod\", \"Miha\", priimek=\"Novak\")"
   ]
  },
  {
   "cell_type": "code",
   "execution_count": 49,
   "metadata": {},
   "outputs": [
    {
     "ename": "SyntaxError",
     "evalue": "positional argument follows keyword argument (<ipython-input-49-d1b39220fd0c>, line 4)",
     "output_type": "error",
     "traceback": [
      "\u001b[1;36m  File \u001b[1;32m\"<ipython-input-49-d1b39220fd0c>\"\u001b[1;36m, line \u001b[1;32m4\u001b[0m\n\u001b[1;33m    pozdrav(\"gospod\", priimek=\"Novak\", \"Miha\")\u001b[0m\n\u001b[1;37m                                       ^\u001b[0m\n\u001b[1;31mSyntaxError\u001b[0m\u001b[1;31m:\u001b[0m positional argument follows keyword argument\n"
     ]
    }
   ],
   "source": [
    "def pozdrav(naslavljanje, ime, priimek):\n",
    "    print(f\"Pozdravljeni {naslavljanje} {ime} {priimek}.\")\n",
    "\n",
    "pozdrav(\"gospod\", priimek=\"Novak\", \"Miha\")"
   ]
  },
  {
   "cell_type": "markdown",
   "metadata": {},
   "source": [
    "#### Default Argument Values\n",
    "\n",
    "Za naše parametre lahko določimo default vrednost, v primeru, da ob klicu funkcije argumenta ne podamo.\n",
    "\n",
    "```python\n",
    "def funkcija(x=1, y=2):\n",
    "    print(x + y)\n",
    "    \n",
    "funkcija() # Funkcijo kličemo brez argumentov\n",
    "\n",
    "Output: 3 # Privzeti vrednosti sta x=1 in y=2\n",
    "```"
   ]
  },
  {
   "cell_type": "code",
   "execution_count": 56,
   "metadata": {},
   "outputs": [
    {
     "name": "stdout",
     "output_type": "stream",
     "text": [
      "Pozdravljeni gospod Miha Novak.\n",
      "Pozdravljeni g. Andrej Kovač.\n",
      "Pozdravljeni gospod Gregor Novak.\n"
     ]
    }
   ],
   "source": [
    "def pozdrav(naslavljanje=\"gospod\", ime=\"Miha\", priimek=\"Novak\"):\n",
    "    print(f\"Pozdravljeni {naslavljanje} {ime} {priimek}.\")\n",
    "\n",
    "pozdrav()\n",
    "    \n",
    "pozdrav(\"g.\", \"Andrej\", \"Kovač\")\n",
    "pozdrav(ime=\"Gregor\")"
   ]
  },
  {
   "cell_type": "markdown",
   "metadata": {},
   "source": [
    "Potrebno je paziti, da so parametri z default vrednostjo definirani za parametri brez default vrednosti."
   ]
  },
  {
   "cell_type": "code",
   "execution_count": 60,
   "metadata": {},
   "outputs": [
    {
     "name": "stdout",
     "output_type": "stream",
     "text": [
      "3\n"
     ]
    }
   ],
   "source": [
    "def funkcija(x, y, z=0):\n",
    "    print(x + y + z)\n",
    "    \n",
    "funkcija(1, 2)"
   ]
  },
  {
   "cell_type": "code",
   "execution_count": 62,
   "metadata": {},
   "outputs": [
    {
     "ename": "SyntaxError",
     "evalue": "non-default argument follows default argument (<ipython-input-62-d290ea3a79c4>, line 1)",
     "output_type": "error",
     "traceback": [
      "\u001b[1;36m  File \u001b[1;32m\"<ipython-input-62-d290ea3a79c4>\"\u001b[1;36m, line \u001b[1;32m1\u001b[0m\n\u001b[1;33m    def funkcija(x, y=0, z):\u001b[0m\n\u001b[1;37m                 ^\u001b[0m\n\u001b[1;31mSyntaxError\u001b[0m\u001b[1;31m:\u001b[0m non-default argument follows default argument\n"
     ]
    }
   ],
   "source": [
    "def funkcija(x, y=0, z):\n",
    "    print(x + y + z)\n",
    "    \n",
    "funkcija(1, 2, 3)"
   ]
  },
  {
   "cell_type": "markdown",
   "metadata": {},
   "source": [
    "<div class=\"alert alert-block alert-info\">\n",
    "<h1><b>Naloga: </b></h1>\n",
    "Napišite funkcijo, ki izpiše prvih N največjih vrednosti v podanem listu.\n",
    "    \n",
    "Funkcija naj ima dva parametra. Prvi parameter je list, znotraj katerega bomo iskali največje vrednosti. Drugi parameter število, ki nam pove koliko prvih največjih števil naj izpišemo. Če vrednost ni podana, naj se izpiše prvih 5 največjih števil.\n",
    "</div>\n",
    "\n",
    "Primeri:\n",
    "```python\n",
    "Input:\n",
    "vaja([1,5,7,-2,3,8,2-5,12,-22])\n",
    "\n",
    "Output:\n",
    "12\n",
    "8\n",
    "7\n",
    "5\n",
    "3\n",
    "\n",
    "Input:\n",
    "vaja([1,5,7,-2,3,8,2-5,12,-22], 3)\n",
    "\n",
    "Output:\n",
    "12\n",
    "8\n",
    "7\n",
    "\n",
    "```\n"
   ]
  },
  {
   "cell_type": "code",
   "execution_count": null,
   "metadata": {},
   "outputs": [],
   "source": [
    "# Rešitev\n",
    "\n",
    "def vaja(l, n=5):\n",
    "    for _ in range(n):\n",
    "        max_ = max(l)\n",
    "        print(max_)\n",
    "        l.remove(max_)\n",
    "        \n",
    "        \n",
    "vaja([1,5,7,-2,3,8,2-5,12,-22])\n",
    "print()\n",
    "vaja([1,5,7,-2,3,8,2-5,12,-22], 3)\n"
   ]
  },
  {
   "cell_type": "code",
   "execution_count": null,
   "metadata": {},
   "outputs": [],
   "source": []
  },
  {
   "cell_type": "markdown",
   "metadata": {},
   "source": [
    "### \\*args and \\*\\*kwargs\n",
    "\n",
    "Ta dva parametra nam omogočata, da funkciji pošljemo poljubno število argumentov.\n",
    "\n",
    "\\*args nam pove, da naj neznane argumente zapakira v touple imenovan args.\n",
    "\n",
    "\\*\\*kwargs nam pove, da naj neznane argumente zapakira v dictionary imenovan kwargs. \n",
    "\n",
    "> http://book.pythontips.com/en/latest/args_and_kwargs.html\n",
    "\n",
    "> The idiom is also useful when maintaining backwards compatibility in an API.\n",
    "If our function accepts arbitrary arguments, we are free to add new arguments in\n",
    "a new version while not breaking existing code using fewer arguments. As long as\n",
    "everything is properly documented, the “actual” parameters of a function are not\n",
    "of much consequence.\n",
    "\n",
    "> First of all let me tell you that it is not necessary to write \\*args or \\*\\*kwargs. Only the \\* (asterisk) is necessary. You could have also written \\*var and \\*\\*vars. Writing \\*args and  \\*\\*kwargs is just a convention."
   ]
  },
  {
   "cell_type": "code",
   "execution_count": 77,
   "metadata": {},
   "outputs": [
    {
     "name": "stdout",
     "output_type": "stream",
     "text": [
      "a = \t 1\n",
      "b = \t 2\n",
      "c = \t 3\n",
      "args = \t (4, 5, 6, 7, 8, 9)\n"
     ]
    }
   ],
   "source": [
    "def test_args(a, b, c, *args):\n",
    "    print(f\"a = \\t {a}\")\n",
    "    print(f\"b = \\t {b}\")\n",
    "    print(f\"c = \\t {c}\")\n",
    "    print(f\"args = \\t {args}\")\n",
    "\n",
    "test_args(1, 2, 3, 4, 5, 6, 7, 8, 9)"
   ]
  },
  {
   "cell_type": "code",
   "execution_count": 75,
   "metadata": {},
   "outputs": [
    {
     "name": "stdout",
     "output_type": "stream",
     "text": [
      "6\n",
      "45\n"
     ]
    }
   ],
   "source": [
    "# Primer *ARGS\n",
    "\n",
    "def sestevalnik(*args):\n",
    "    value = 0\n",
    "    for ele in args:\n",
    "        value += ele\n",
    "    print(value)\n",
    "    \n",
    "sestevalnik(1, 2, 3)\n",
    "\n",
    "sestevalnik(1, 2, 3, 4, 5, 6, 7, 8, 9)"
   ]
  },
  {
   "cell_type": "code",
   "execution_count": null,
   "metadata": {},
   "outputs": [],
   "source": []
  },
  {
   "cell_type": "code",
   "execution_count": 78,
   "metadata": {},
   "outputs": [
    {
     "name": "stdout",
     "output_type": "stream",
     "text": [
      "a = \t 1\n",
      "b = \t 2\n",
      "c = \t 3\n",
      "kwargs = \t {'d': 4, 'e': 5, 'f': 6, 'g': 7, 'h': 8, 'i': 9}\n"
     ]
    }
   ],
   "source": [
    "def test_kwargs(a, b, c, **kwargs):\n",
    "    print(f\"a = \\t {a}\")\n",
    "    print(f\"b = \\t {b}\")\n",
    "    print(f\"c = \\t {c}\")\n",
    "    print(f\"kwargs = \\t {kwargs}\")\n",
    "\n",
    "\n",
    "test_kwargs(a=1, b=2, c=3, d=4, e=5, f=6, g=7, h=8, i=9)"
   ]
  },
  {
   "cell_type": "markdown",
   "metadata": {},
   "source": [
    "\\*\\*kwargs pridejo prav pri posodabljanju kode in ohranjanju podpore za starejše verzije kode.\n",
    "\n",
    "Primer: ustvarimo funkcijo **moja_funkcija**, ki ima parameter *barva_grafa*. Drugi programerij uporabijo mojo funkcijo.\n",
    "\n",
    "Kasneje se odločim posodobiti mojo funkcijo tako, da spremenim ime parametra v *barva*. Sedaj bi morali vsi drugi programerij, ki so uporabili mojo funkcijo prav tako posodobiti njihovo kodo. Z uporabo \\*\\*kwargs pa lahko še vedno zajamemo njihove argumente."
   ]
  },
  {
   "cell_type": "code",
   "execution_count": 86,
   "metadata": {},
   "outputs": [
    {
     "name": "stdout",
     "output_type": "stream",
     "text": [
      "Barva grafa je rdeča.\n"
     ]
    }
   ],
   "source": [
    "def moja_funkcija(podatki, barva_grafa=\"črna\"):\n",
    "    print(f\"Barva grafa je {barva_grafa}.\")\n",
    "    \n",
    "moja_funkcija([1,2,3], barva_grafa=\"rdeča\")"
   ]
  },
  {
   "cell_type": "code",
   "execution_count": 87,
   "metadata": {},
   "outputs": [
    {
     "ename": "TypeError",
     "evalue": "moja_funkcija() got an unexpected keyword argument 'barva_grafa'",
     "output_type": "error",
     "traceback": [
      "\u001b[1;31m---------------------------------------------------------------------------\u001b[0m",
      "\u001b[1;31mTypeError\u001b[0m                                 Traceback (most recent call last)",
      "\u001b[1;32m<ipython-input-87-8300209fd37d>\u001b[0m in \u001b[0;36m<module>\u001b[1;34m\u001b[0m\n\u001b[0;32m      3\u001b[0m     \u001b[0mprint\u001b[0m\u001b[1;33m(\u001b[0m\u001b[1;34mf\"Barva grafa je {barva_grafa}.\"\u001b[0m\u001b[1;33m)\u001b[0m\u001b[1;33m\u001b[0m\u001b[1;33m\u001b[0m\u001b[0m\n\u001b[0;32m      4\u001b[0m \u001b[1;33m\u001b[0m\u001b[0m\n\u001b[1;32m----> 5\u001b[1;33m \u001b[0mmoja_funkcija\u001b[0m\u001b[1;33m(\u001b[0m\u001b[1;33m[\u001b[0m\u001b[1;36m1\u001b[0m\u001b[1;33m,\u001b[0m\u001b[1;36m2\u001b[0m\u001b[1;33m,\u001b[0m\u001b[1;36m3\u001b[0m\u001b[1;33m]\u001b[0m\u001b[1;33m,\u001b[0m \u001b[0mbarva_grafa\u001b[0m\u001b[1;33m=\u001b[0m\u001b[1;34m\"rdeča\"\u001b[0m\u001b[1;33m)\u001b[0m\u001b[1;33m\u001b[0m\u001b[1;33m\u001b[0m\u001b[0m\n\u001b[0m",
      "\u001b[1;31mTypeError\u001b[0m: moja_funkcija() got an unexpected keyword argument 'barva_grafa'"
     ]
    }
   ],
   "source": [
    "# Želi se posodobit to funcijo\n",
    "def moja_funkcija(podatki, barva=\"črna\"):\n",
    "    print(f\"Barva grafa je {barva_grafa}.\")\n",
    "\n",
    "moja_funkcija([1,2,3], barva_grafa=\"rdeča\")"
   ]
  },
  {
   "cell_type": "code",
   "execution_count": 89,
   "metadata": {},
   "outputs": [
    {
     "name": "stdout",
     "output_type": "stream",
     "text": [
      "Barva grafa je rdeča.\n"
     ]
    }
   ],
   "source": [
    "# Želi se posodobit to funcijo\n",
    "def moja_funkcija(podatki, barva=\"črna\", **kwargs):\n",
    "    if \"barva_grafa\" in kwargs.keys():\n",
    "        print(f\"Barva grafa je {kwargs['barva_grafa']}.\")\n",
    "    else:\n",
    "        print(f\"Barva grafa je {barva}.\")\n",
    "\n",
    "moja_funkcija([1,2,3], barva_grafa=\"rdeča\")"
   ]
  },
  {
   "cell_type": "code",
   "execution_count": null,
   "metadata": {},
   "outputs": [],
   "source": []
  },
  {
   "cell_type": "code",
   "execution_count": null,
   "metadata": {},
   "outputs": [],
   "source": []
  },
  {
   "cell_type": "markdown",
   "metadata": {},
   "source": [
    "#### Returning a Value\n",
    "\n",
    "Vsaka funkcija tudi vrne določeno vrednost.\n",
    "\n",
    "Če funkciji nismo eksplicitno določili katero vrednost naj vrne, vrne vrednost **None**."
   ]
  },
  {
   "cell_type": "code",
   "execution_count": 90,
   "metadata": {},
   "outputs": [
    {
     "name": "stdout",
     "output_type": "stream",
     "text": [
      "Pozdrav\n",
      "None\n"
     ]
    }
   ],
   "source": [
    "def funkcija():\n",
    "    print(\"Pozdrav\")\n",
    "    \n",
    "x = funkcija()\n",
    "print(x)"
   ]
  },
  {
   "cell_type": "markdown",
   "metadata": {},
   "source": [
    "Da vrnemo specifično vrednost uporabimo besedo **return**.\n",
    "\n",
    "```python\n",
    "def sestevalnik(x, y):\n",
    "    vsota = x + y\n",
    "    return vsota\n",
    "\n",
    "x = sestevalnik(1, 2)\n",
    "print(x)\n",
    "\n",
    "Output: 3\n",
    "```"
   ]
  },
  {
   "cell_type": "code",
   "execution_count": 93,
   "metadata": {},
   "outputs": [
    {
     "name": "stdout",
     "output_type": "stream",
     "text": [
      "Seštevam...\n",
      "3\n"
     ]
    }
   ],
   "source": [
    "def sestevalnik(x, y):\n",
    "    print(\"Seštevam...\")\n",
    "    vsota = x + y\n",
    "    return vsota\n",
    "\n",
    "x = sestevalnik(1, 2)\n",
    "print(x)"
   ]
  },
  {
   "cell_type": "markdown",
   "metadata": {},
   "source": [
    "Ko se izvede ukaz **return** se vrne vrednost in koda znotraj funkcije se neha izvajati."
   ]
  },
  {
   "cell_type": "code",
   "execution_count": 94,
   "metadata": {},
   "outputs": [
    {
     "name": "stdout",
     "output_type": "stream",
     "text": [
      "Seštevam...\n",
      "3\n"
     ]
    }
   ],
   "source": [
    "def sestevalnik(x, y):\n",
    "    print(\"Seštevam...\")\n",
    "    vsota = x + y\n",
    "    return vsota\n",
    "    print(\"Končano\")\n",
    "\n",
    "x = sestevalnik(1, 2)\n",
    "print(x)"
   ]
  },
  {
   "cell_type": "markdown",
   "metadata": {},
   "source": [
    "Znotraj funkcije imamo lahko tudi več **return** statements, ki vrnejo različne vrednosti, glede na logiko funkcije."
   ]
  },
  {
   "cell_type": "code",
   "execution_count": 98,
   "metadata": {},
   "outputs": [
    {
     "name": "stdout",
     "output_type": "stream",
     "text": [
      "False\n",
      "True\n"
     ]
    }
   ],
   "source": [
    "def vecje_od_5(x):\n",
    "    if x > 5:\n",
    "        return True\n",
    "    elif x <= 5:\n",
    "        return False\n",
    "    \n",
    "print(vecje_od_5(1))\n",
    "print(vecje_od_5(10))"
   ]
  },
  {
   "cell_type": "code",
   "execution_count": null,
   "metadata": {},
   "outputs": [],
   "source": []
  },
  {
   "cell_type": "markdown",
   "metadata": {},
   "source": [
    "**Returning Multiple Values** \n",
    "\n",
    "Funkcija lahko vrne le eno vrednost (bolje rečeno: le en objekt).\n",
    "\n",
    "Če želimo vrniti več vrednosti jih preprosto zapakiramo v list, touple, dictionary in posredujemo tega."
   ]
  },
  {
   "cell_type": "code",
   "execution_count": 100,
   "metadata": {},
   "outputs": [
    {
     "name": "stdout",
     "output_type": "stream",
     "text": [
      "(3, 4, 5)\n",
      "<class 'tuple'>\n"
     ]
    }
   ],
   "source": [
    "def add_numbers(x, y, z):\n",
    "    a = x + y\n",
    "    b = x + z\n",
    "    c = y + z\n",
    "    return a, b, c # isto kot return (a, b, c)\n",
    "\n",
    "sums = add_numbers(1, 2, 3)\n",
    "print(sums)\n",
    "print(type(sums))"
   ]
  },
  {
   "cell_type": "markdown",
   "metadata": {},
   "source": [
    "<div class=\"alert alert-block alert-info\">\n",
    "<h1><b>Naloga: </b></h1>\n",
    "Napišite funkcijo, ki sprejme nabor podatkov v obliki dictionary in vrne največjo vrednost vsakega ključa.\n",
    "</div>\n",
    "\n",
    "Primeri:\n",
    "```python\n",
    "Input:\n",
    "data = {\"prices\": [41970, 40721, 41197, 41137, 43033],\n",
    "       \"volume\": [49135346712, 50768369805, 47472016405, 34809039137, 38700661463]}\n",
    "funkcija(data)\n",
    "\n",
    "Output:\n",
    "[43033, 50768369805]\n",
    "\n",
    "```\n"
   ]
  },
  {
   "cell_type": "code",
   "execution_count": 1,
   "metadata": {},
   "outputs": [
    {
     "name": "stdout",
     "output_type": "stream",
     "text": [
      "[43033, 50768369805]\n"
     ]
    }
   ],
   "source": [
    "data = {\"prices\": [41970, 40721, 41197, 41137, 43033],\n",
    "       \"volume\": [49135346712, 50768369805, 47472016405, 34809039137, 38700661463]}\n",
    "\n",
    "def funkcija(data):\n",
    "    r = []\n",
    "    for key, value in data.items():\n",
    "        #print(key, value)\n",
    "        r.append(max(value))\n",
    "    return r\n",
    "\n",
    "print(funkcija(data))"
   ]
  },
  {
   "cell_type": "code",
   "execution_count": null,
   "metadata": {},
   "outputs": [],
   "source": []
  }
 ],
 "metadata": {
  "anaconda-cloud": {},
  "kernelspec": {
   "display_name": "Python 3",
   "language": "python",
   "name": "python3"
  },
  "language_info": {
   "codemirror_mode": {
    "name": "ipython",
    "version": 3
   },
   "file_extension": ".py",
   "mimetype": "text/x-python",
   "name": "python",
   "nbconvert_exporter": "python",
   "pygments_lexer": "ipython3",
   "version": "3.8.5"
  },
  "toc": {
   "base_numbering": 1,
   "nav_menu": {},
   "number_sections": true,
   "sideBar": true,
   "skip_h1_title": false,
   "title_cell": "Table of Contents",
   "title_sidebar": "Contents",
   "toc_cell": false,
   "toc_position": {},
   "toc_section_display": true,
   "toc_window_display": false
  }
 },
 "nbformat": 4,
 "nbformat_minor": 2
}
