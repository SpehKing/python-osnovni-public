{
 "cells": [
  {
   "cell_type": "markdown",
   "metadata": {},
   "source": [
    "<div class=\"alert alert-block alert-info\">\n",
    "<h1><b>Naloga: </b></h1>\n",
    "\n",
    "Ustvarite funkcijo, ki kot parametra vzeme list številk in neko število <b>m</b>, ki predstavlja zgornjo mejo.\n",
    "    \n",
    "Funkcija naj se sprehodi skozi podan list in vsako število, ki je večje od m, spremeni v m.\n",
    "    \n",
    "Funkcija naj na koncu vrne spremenjen list.\n",
    "</div>\n",
    "\n",
    "Primeri:\n",
    "```python\n",
    "Input:\n",
    "funkcija([1,12,-3,54,12,-22,65,32], 33)\n",
    "\n",
    "Output:\n",
    "[1, 12, -3, 33, 12, -22, 33, 32]\n",
    "```\n"
   ]
  },
  {
   "cell_type": "code",
   "execution_count": null,
   "metadata": {},
   "outputs": [],
   "source": [
    "# Rešitev\n"
   ]
  },
  {
   "cell_type": "markdown",
   "metadata": {},
   "source": [
    "<div class=\"alert alert-block alert-info\">\n",
    "<h1><b>Naloga: </b></h1>\n",
    "\n",
    "Ustvarite funkcijo, ki prejme list cen v $ in valuto v katero naj spremeni cene.\n",
    "\n",
    "Funkcija naj odstrani $ in nepotrebne presledke in naj na koncu cene doda podano valuto (ni potrebno računati pravilen menjalni tečaj).\n",
    "    \n",
    "Posodobljene cene naj funkcija vrne.\n",
    "</div>\n",
    "\n",
    "Primeri:\n",
    "```python\n",
    "Input:\n",
    "prices = [\"$53\", \"$  120\", \"$ 1222\", \"$$342\", \" $ 91\", \" $ 51\", \"39$\"]\n",
    "funkcija(prices, \"€\")\n",
    "\n",
    "Output:\n",
    "['53€', '120€', '1222€', '342€', '91€', '51€', '39€']\n",
    "```\n"
   ]
  },
  {
   "cell_type": "code",
   "execution_count": 8,
   "metadata": {},
   "outputs": [],
   "source": [
    "# Rešitev\n",
    "prices = [\"$53\", \"$  120\", \"$ 1222\", \"$$342\", \" $ 91\", \" $ 51\", \"39$\"]\n",
    "\n"
   ]
  },
  {
   "cell_type": "code",
   "execution_count": null,
   "metadata": {},
   "outputs": [],
   "source": []
  },
  {
   "cell_type": "markdown",
   "metadata": {},
   "source": [
    "<div class=\"alert alert-block alert-info\">\n",
    "<h1><b>Naloga: </b></h1>\n",
    "Ustvarite dve funkciji, ki bosta delovali kot <a href=\"https://en.wikipedia.org/wiki/Caesar_cipher\">\"Cesar's cipher\"</a>.\n",
    "\n",
    "Cesar's encryption si lahko predstavljamo tako, da položimo dve abecedi eno na drugo, kjer je ena zamaknjena za določeno število črk. V danem primeru imamo zamik v desno za 3 črke.\n",
    "    \n",
    "<table class=\"wikitable\"><tbody><tr style=\"vertical-align:top\"><th scope=\"row\">  Plain</th><td>  A</td><td>B</td><td>C</td><td>D</td><td>E</td><td>F</td><td>G</td><td>H</td><td>I</td><td>J</td><td>K</td><td>L</td><td>M</td><td>N</td><td>O</td><td>P</td><td>Q</td><td>R</td><td>S</td><td>T</td><td>U</td><td>V</td><td>W</td><td>X</td><td>Y</td><td>Z</td></tr><tr style=\"vertical-align:top\"><th scope=\"row\">  Cipher</th><td> X</td><td>Y</td><td>Z</td><td>A</td><td>B</td><td>C</td><td>D</td><td>E</td><td>F</td><td>G</td><td>H</td><td>I</td><td>J</td><td>K</td><td>L</td><td>M</td><td>N</td><td>O</td><td>P</td><td>Q</td><td>R</td><td>S</td><td>T</td><td>U</td><td>V</td><td>W</td></tr></tbody></table>\n",
    "\n",
    "\n",
    "Ko besedilo kriptiramo pogledamo črko našega sporočila v \"plain\" delu naše tabele in vzamemo črko, ki se nahaja pod njo v \"cipher\" delu.\n",
    "\n",
    "    PRIMER:\n",
    "    Plaintext:  THE QUICK BROWN FOX JUMPS OVER THE LAZY DOG\n",
    "    Ciphertext: QEB NRFZH YOLTK CLU GRJMP LSBO QEB IXWV ALD\n",
    "\n",
    "    \n",
    "Prva funkcija naj bo imenovana <b>cesars_encryption</b>. Ima dva parametra. Prvi parameter je besedilo katerega želimo ekriptirati. Drugi parameter je številka, ki nam pove za koliko zamaknemo drugo abecedo. Default vrednost naj bo 3.\n",
    "Funkcija naj vrne ekriptirano sporočilo.\n",
    "\n",
    "<br>\n",
    "    \n",
    "Druga funkcija naj bo imenovana <b>cesars_decryption</b>. Ima dva parametra. Prvi parameter je kriptirano sporočilo. Drugi parameter je številka, ki nam pove za koliko zamaknemo drugo abecedo. Default vrednost naj bo 3.\n",
    "Funkcija naj vrne dekriptirano sporočilo.    \n",
    "</div>\n",
    "\n",
    "Primeri:\n",
    "```python\n",
    "Input:\n",
    "message = \"THE QUICK BROWN FOX JUMPS OVER THE LAZY DOG\"\n",
    "cesars_encryption(message)\n",
    "\n",
    "Output:\n",
    "QEB NRFZH YOLTK CLU GRJMP LSBO QEB IXWV ALD\n",
    "\n",
    "\n",
    "Input:\n",
    "code = \"QEB NRFZH YOLTK CLU GRJMP LSBO QEB IXWV ALD\"\n",
    "cesars_decryption(code)\n",
    "\n",
    "Output:\n",
    "THE QUICK BROWN FOX JUMPS OVER THE LAZY DOG\n",
    "\n",
    "\n",
    "Input:\n",
    "message2 = \"ATTACK AT DAWN\"\n",
    "cesars_encryption(message2, 7)\n",
    "\n",
    "Output:\n",
    "TMMTVD TM WTPG\n",
    "```"
   ]
  },
  {
   "cell_type": "code",
   "execution_count": null,
   "metadata": {},
   "outputs": [],
   "source": [
    "# Rešitev\n",
    "message = \"THE QUICK BROWN FOX JUMPS OVER THE LAZY DOG\"\n",
    "message2 = \"ATTACK AT DAWN\""
   ]
  },
  {
   "cell_type": "code",
   "execution_count": null,
   "metadata": {},
   "outputs": [],
   "source": []
  }
 ],
 "metadata": {
  "kernelspec": {
   "display_name": "Python 3",
   "language": "python",
   "name": "python3"
  },
  "language_info": {
   "codemirror_mode": {
    "name": "ipython",
    "version": 3
   },
   "file_extension": ".py",
   "mimetype": "text/x-python",
   "name": "python",
   "nbconvert_exporter": "python",
   "pygments_lexer": "ipython3",
   "version": "3.8.5"
  }
 },
 "nbformat": 4,
 "nbformat_minor": 4
}
