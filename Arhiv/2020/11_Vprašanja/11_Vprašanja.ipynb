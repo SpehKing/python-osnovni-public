{
 "cells": [
  {
   "cell_type": "markdown",
   "metadata": {},
   "source": [
    "# Vprašanja"
   ]
  },
  {
   "cell_type": "markdown",
   "metadata": {},
   "source": [
    "### 1) Uporaba self-a"
   ]
  },
  {
   "cell_type": "code",
   "execution_count": 1,
   "metadata": {},
   "outputs": [],
   "source": [
    "class Animal:\n",
    "    def __init__(self, animal_type, height, speed):\n",
    "        self.animal_type = animal_type\n",
    "        self.height = height\n",
    "        self.speed = speed\n",
    "        \n",
    "    def hitrost_km_h(self):\n",
    "        return self.speed * 3,14\n"
   ]
  },
  {
   "cell_type": "code",
   "execution_count": 2,
   "metadata": {},
   "outputs": [],
   "source": [
    "animal1 = Animal('sesalec', 123, 45)"
   ]
  },
  {
   "cell_type": "code",
   "execution_count": 3,
   "metadata": {},
   "outputs": [
    {
     "data": {
      "text/plain": [
       "'sesalec'"
      ]
     },
     "execution_count": 3,
     "metadata": {},
     "output_type": "execute_result"
    }
   ],
   "source": [
    "animal1.animal_type"
   ]
  },
  {
   "cell_type": "code",
   "execution_count": 4,
   "metadata": {},
   "outputs": [
    {
     "data": {
      "text/plain": [
       "(135, 14)"
      ]
     },
     "execution_count": 4,
     "metadata": {},
     "output_type": "execute_result"
    }
   ],
   "source": [
    "animal1.hitrost_km_h()"
   ]
  },
  {
   "cell_type": "code",
   "execution_count": 5,
   "metadata": {},
   "outputs": [],
   "source": [
    "animal2 = Animal('riba', 545, 95)"
   ]
  },
  {
   "cell_type": "code",
   "execution_count": 7,
   "metadata": {},
   "outputs": [
    {
     "data": {
      "text/plain": [
       "'riba'"
      ]
     },
     "execution_count": 7,
     "metadata": {},
     "output_type": "execute_result"
    }
   ],
   "source": [
    "animal2.animal_type"
   ]
  },
  {
   "cell_type": "code",
   "execution_count": 8,
   "metadata": {},
   "outputs": [
    {
     "data": {
      "text/plain": [
       "(285, 14)"
      ]
     },
     "execution_count": 8,
     "metadata": {},
     "output_type": "execute_result"
    }
   ],
   "source": [
    "animal2.hitrost_km_h()"
   ]
  },
  {
   "cell_type": "markdown",
   "metadata": {},
   "source": [
    "### Predlagam še kak primer na temo list comprehension z razširjeno sintakso if/else.\n"
   ]
  },
  {
   "cell_type": "code",
   "execution_count": 9,
   "metadata": {},
   "outputs": [
    {
     "name": "stdout",
     "output_type": "stream",
     "text": [
      "[0, 1, 4, 9, 16, 25, 36, 49, 64, 81]\n"
     ]
    }
   ],
   "source": [
    "squares = []\n",
    "for i in range(10):\n",
    "    squares.append(i * i)\n",
    "\n",
    "print(squares)"
   ]
  },
  {
   "cell_type": "code",
   "execution_count": 11,
   "metadata": {},
   "outputs": [
    {
     "name": "stdout",
     "output_type": "stream",
     "text": [
      "[0, 1, 4, 9, 16, 25, 36, 49, 64, 81]\n"
     ]
    }
   ],
   "source": [
    "squares = [i * i for i in range(10)]\n",
    "print(squares)"
   ]
  },
  {
   "cell_type": "code",
   "execution_count": 28,
   "metadata": {},
   "outputs": [],
   "source": [
    "def izracun_davka(cena):\n",
    "    cena_z_davkom = cena * 1.22\n",
    "    return round(cena_z_davkom, 2)"
   ]
  },
  {
   "cell_type": "code",
   "execution_count": 25,
   "metadata": {
    "scrolled": true
   },
   "outputs": [
    {
     "name": "stdout",
     "output_type": "stream",
     "text": [
      "12.2\n"
     ]
    }
   ],
   "source": [
    "nova_cena = izracun_davka(10)\n",
    "print(nova_cena)"
   ]
  },
  {
   "cell_type": "markdown",
   "metadata": {},
   "source": [
    "#### Filtriranje (vrednost odstranimo)\n",
    "\n",
    "    new_list = [expression for member in iterable (if conditional)]"
   ]
  },
  {
   "cell_type": "code",
   "execution_count": 29,
   "metadata": {},
   "outputs": [
    {
     "name": "stdout",
     "output_type": "stream",
     "text": [
      "[28.74, 70.56, 5.56, 8.27]\n"
     ]
    }
   ],
   "source": [
    "cene = [1.09, 23.56, 57.84, 4.56, 6.78]\n",
    "konce_cene = [izracun_davka(cena) for cena in cene if cena > 3]\n",
    "print(konce_cene)"
   ]
  },
  {
   "cell_type": "markdown",
   "metadata": {},
   "source": [
    "#### Pogojno spremenimo vse vrednosti (vrednosti ostanejo)\n",
    "\n",
    "    new_list = [expression (if conditional) for member in iterable]"
   ]
  },
  {
   "cell_type": "code",
   "execution_count": 32,
   "metadata": {},
   "outputs": [
    {
     "name": "stdout",
     "output_type": "stream",
     "text": [
      "[1.09, 28.74, 70.56, 5.56, 8.27]\n"
     ]
    }
   ],
   "source": [
    "konce_cene = [izracun_davka(cena) if cena > 3 else cena for cena in cene]\n",
    "print(konce_cene)"
   ]
  },
  {
   "cell_type": "markdown",
   "metadata": {},
   "source": [
    "### Praktična naloga parsanja IPjev"
   ]
  },
  {
   "cell_type": "code",
   "execution_count": 37,
   "metadata": {},
   "outputs": [],
   "source": [
    "def read_ips(file_name):\n",
    "    with open(file_name, 'rt') as ip_file:\n",
    "        ips = ip_file.readlines()\n",
    "    ips = [ip.strip() for ip in ips]\n",
    "    return ips"
   ]
  },
  {
   "cell_type": "code",
   "execution_count": 38,
   "metadata": {},
   "outputs": [
    {
     "name": "stdout",
     "output_type": "stream",
     "text": [
      "['9.73.60.221', '14.95.158.181', '14.29.2.76', '15.224.36.13', '13.76.19.129', '19.94.81.41', '16.223.150.176', '7.21.170.24']\n"
     ]
    }
   ],
   "source": [
    "ips = read_ips('ips.txt')\n",
    "ips_lower_20 = [ip for ip in ips if int(ip.split('.')[0]) <= 20]\n",
    "print(ips_lower_20)"
   ]
  },
  {
   "cell_type": "markdown",
   "metadata": {},
   "source": [
    "## Generatorji"
   ]
  },
  {
   "cell_type": "markdown",
   "metadata": {},
   "source": [
    "#### Branje velikih filov"
   ]
  },
  {
   "cell_type": "code",
   "execution_count": 40,
   "metadata": {},
   "outputs": [],
   "source": [
    "def gen_file_reader(file_name):\n",
    "    with open(file_name, 'rt') as file:\n",
    "        for row in file:\n",
    "            yield row"
   ]
  },
  {
   "cell_type": "code",
   "execution_count": 41,
   "metadata": {},
   "outputs": [],
   "source": [
    "gen_file = gen_file_reader('ips.txt')"
   ]
  },
  {
   "cell_type": "code",
   "execution_count": 43,
   "metadata": {},
   "outputs": [
    {
     "data": {
      "text/plain": [
       "'150.133.170.9\\n'"
      ]
     },
     "execution_count": 43,
     "metadata": {},
     "output_type": "execute_result"
    }
   ],
   "source": [
    "next(gen_file)"
   ]
  },
  {
   "cell_type": "code",
   "execution_count": 44,
   "metadata": {},
   "outputs": [
    {
     "data": {
      "text/plain": [
       "'9.73.60.221\\n'"
      ]
     },
     "execution_count": 44,
     "metadata": {},
     "output_type": "execute_result"
    }
   ],
   "source": [
    "next(gen_file)"
   ]
  },
  {
   "cell_type": "code",
   "execution_count": 45,
   "metadata": {},
   "outputs": [
    {
     "name": "stdout",
     "output_type": "stream",
     "text": [
      "100\n"
     ]
    }
   ],
   "source": [
    "gen_file = gen_file_reader('ips.txt')\n",
    "\n",
    "total_lines = 0\n",
    "for _ in gen_file:\n",
    "    total_lines += 1\n",
    "print(total_lines)    "
   ]
  },
  {
   "cell_type": "markdown",
   "metadata": {},
   "source": [
    "#### Generiranje neskončnih zaporedji"
   ]
  },
  {
   "cell_type": "code",
   "execution_count": 47,
   "metadata": {},
   "outputs": [],
   "source": [
    "def naskoncno_zaporedje():\n",
    "    num = 0\n",
    "    while True:\n",
    "        yield num \n",
    "        num += 1"
   ]
  },
  {
   "cell_type": "code",
   "execution_count": 48,
   "metadata": {},
   "outputs": [],
   "source": [
    "nesk_zap = naskoncno_zaporedje()"
   ]
  },
  {
   "cell_type": "code",
   "execution_count": 50,
   "metadata": {},
   "outputs": [
    {
     "data": {
      "text/plain": [
       "0"
      ]
     },
     "execution_count": 50,
     "metadata": {},
     "output_type": "execute_result"
    }
   ],
   "source": [
    "next(nesk_zap)"
   ]
  },
  {
   "cell_type": "code",
   "execution_count": 51,
   "metadata": {},
   "outputs": [
    {
     "data": {
      "text/plain": [
       "1"
      ]
     },
     "execution_count": 51,
     "metadata": {},
     "output_type": "execute_result"
    }
   ],
   "source": [
    "next(nesk_zap)"
   ]
  },
  {
   "cell_type": "code",
   "execution_count": 52,
   "metadata": {},
   "outputs": [
    {
     "data": {
      "text/plain": [
       "2"
      ]
     },
     "execution_count": 52,
     "metadata": {},
     "output_type": "execute_result"
    }
   ],
   "source": [
    "next(nesk_zap)"
   ]
  },
  {
   "cell_type": "markdown",
   "metadata": {},
   "source": [
    "### Novi iteracijski postopki"
   ]
  },
  {
   "cell_type": "code",
   "execution_count": 58,
   "metadata": {},
   "outputs": [
    {
     "name": "stdout",
     "output_type": "stream",
     "text": [
      "[3, 6, 9, 12, 15, 18, 21, 24, 27, 30, 33]\n"
     ]
    }
   ],
   "source": [
    "a = list(range(3, 34, 3))\n",
    "print(a)"
   ]
  },
  {
   "cell_type": "code",
   "execution_count": 59,
   "metadata": {},
   "outputs": [],
   "source": [
    "def frange(start, stop, increment):\n",
    "    x = start\n",
    "    while x < stop:\n",
    "        yield x\n",
    "        x+= increment"
   ]
  },
  {
   "cell_type": "code",
   "execution_count": 61,
   "metadata": {},
   "outputs": [
    {
     "name": "stdout",
     "output_type": "stream",
     "text": [
      "[3, 3.5, 4.0, 4.5, 5.0, 5.5, 6.0, 6.5, 7.0, 7.5, 8.0, 8.5, 9.0, 9.5]\n"
     ]
    }
   ],
   "source": [
    "a = list(frange(3, 10, 0.5))\n",
    "print(a)"
   ]
  },
  {
   "cell_type": "markdown",
   "metadata": {},
   "source": [
    "### Generator za naključna števila"
   ]
  },
  {
   "cell_type": "code",
   "execution_count": 63,
   "metadata": {},
   "outputs": [],
   "source": [
    "import random\n",
    "\n",
    "def gen_rand_number(seed=None):\n",
    "    if seed:\n",
    "        random.seed(seed)\n",
    "    while True:\n",
    "        num = random.random()\n",
    "        yield num "
   ]
  },
  {
   "cell_type": "code",
   "execution_count": 75,
   "metadata": {},
   "outputs": [],
   "source": [
    "nak_zap = gen_rand_number()\n",
    "\n",
    "abc = [next(nak_zap) for _ in range(10)]"
   ]
  },
  {
   "cell_type": "code",
   "execution_count": 81,
   "metadata": {},
   "outputs": [
    {
     "data": {
      "text/plain": [
       "1"
      ]
     },
     "execution_count": 81,
     "metadata": {},
     "output_type": "execute_result"
    }
   ],
   "source": [
    "abc.index(max(abc))"
   ]
  },
  {
   "cell_type": "code",
   "execution_count": 83,
   "metadata": {},
   "outputs": [],
   "source": [
    "import numpy as np"
   ]
  },
  {
   "cell_type": "code",
   "execution_count": 87,
   "metadata": {},
   "outputs": [],
   "source": [
    "abc_np = np.array(abc)"
   ]
  },
  {
   "cell_type": "code",
   "execution_count": 88,
   "metadata": {},
   "outputs": [
    {
     "data": {
      "text/plain": [
       "1"
      ]
     },
     "execution_count": 88,
     "metadata": {},
     "output_type": "execute_result"
    }
   ],
   "source": [
    "abc_np.argmax()"
   ]
  },
  {
   "cell_type": "markdown",
   "metadata": {},
   "source": [
    "###  Kdaj in kako je najbolj smiselno uporabljati lambda funkcije?\n"
   ]
  },
  {
   "cell_type": "markdown",
   "metadata": {},
   "source": [
    "    map, filter, reduce"
   ]
  },
  {
   "cell_type": "code",
   "execution_count": 91,
   "metadata": {},
   "outputs": [],
   "source": [
    "podatki = [('abcd', 121),('erre', 231),('re', 148), ('kkrr',221)]"
   ]
  },
  {
   "cell_type": "code",
   "execution_count": 92,
   "metadata": {},
   "outputs": [
    {
     "data": {
      "text/plain": [
       "[('abcd', 121), ('erre', 231), ('kkrr', 221), ('re', 148)]"
      ]
     },
     "execution_count": 92,
     "metadata": {},
     "output_type": "execute_result"
    }
   ],
   "source": [
    "sorted(podatki)"
   ]
  },
  {
   "cell_type": "code",
   "execution_count": 94,
   "metadata": {},
   "outputs": [],
   "source": [
    "def extract_second_index(t):\n",
    "    return t[1]"
   ]
  },
  {
   "cell_type": "code",
   "execution_count": 96,
   "metadata": {},
   "outputs": [
    {
     "data": {
      "text/plain": [
       "[('abcd', 121), ('re', 148), ('kkrr', 221), ('erre', 231)]"
      ]
     },
     "execution_count": 96,
     "metadata": {},
     "output_type": "execute_result"
    }
   ],
   "source": [
    "sorted(podatki, key=extract_second_index)"
   ]
  },
  {
   "cell_type": "code",
   "execution_count": 97,
   "metadata": {},
   "outputs": [
    {
     "data": {
      "text/plain": [
       "[('abcd', 121), ('re', 148), ('kkrr', 221), ('erre', 231)]"
      ]
     },
     "execution_count": 97,
     "metadata": {},
     "output_type": "execute_result"
    }
   ],
   "source": [
    "sorted(podatki, key=lambda t: t[1])"
   ]
  },
  {
   "cell_type": "markdown",
   "metadata": {},
   "source": [
    "### Katera knjižnica se uporablja za obdelavo števičnih podatkov z npr. več kot 100 000 vrstic (excel oz. txt datoteka) in izrise?"
   ]
  },
  {
   "cell_type": "markdown",
   "metadata": {},
   "source": [
    "https://pandas.pydata.org/"
   ]
  },
  {
   "cell_type": "markdown",
   "metadata": {},
   "source": [
    "https://github.com/codeforamerica/ohana-api/blob/master/data/sample-csv/phones.csv"
   ]
  },
  {
   "cell_type": "code",
   "execution_count": 98,
   "metadata": {},
   "outputs": [],
   "source": [
    "import pandas as pd"
   ]
  },
  {
   "cell_type": "code",
   "execution_count": 99,
   "metadata": {},
   "outputs": [],
   "source": [
    "phones = pd.read_csv('phones.csv')"
   ]
  },
  {
   "cell_type": "code",
   "execution_count": 101,
   "metadata": {},
   "outputs": [
    {
     "name": "stdout",
     "output_type": "stream",
     "text": [
      "<class 'pandas.core.frame.DataFrame'>\n",
      "RangeIndex: 54 entries, 0 to 53\n",
      "Data columns (total 11 columns):\n",
      " #   Column           Non-Null Count  Dtype  \n",
      "---  ------           --------------  -----  \n",
      " 0   id               54 non-null     int64  \n",
      " 1   contact_id       6 non-null      float64\n",
      " 2   location_id      44 non-null     float64\n",
      " 3   organization_id  1 non-null      float64\n",
      " 4   service_id       3 non-null      float64\n",
      " 5   country_prefix   2 non-null      float64\n",
      " 6   department       17 non-null     object \n",
      " 7   extension        11 non-null     float64\n",
      " 8   number           54 non-null     object \n",
      " 9   number_type      54 non-null     object \n",
      " 10  vanity_number    2 non-null      object \n",
      "dtypes: float64(6), int64(1), object(4)\n",
      "memory usage: 4.8+ KB\n"
     ]
    }
   ],
   "source": [
    "phones.info()"
   ]
  },
  {
   "cell_type": "code",
   "execution_count": 102,
   "metadata": {},
   "outputs": [
    {
     "data": {
      "text/html": [
       "<div>\n",
       "<style scoped>\n",
       "    .dataframe tbody tr th:only-of-type {\n",
       "        vertical-align: middle;\n",
       "    }\n",
       "\n",
       "    .dataframe tbody tr th {\n",
       "        vertical-align: top;\n",
       "    }\n",
       "\n",
       "    .dataframe thead th {\n",
       "        text-align: right;\n",
       "    }\n",
       "</style>\n",
       "<table border=\"1\" class=\"dataframe\">\n",
       "  <thead>\n",
       "    <tr style=\"text-align: right;\">\n",
       "      <th></th>\n",
       "      <th>id</th>\n",
       "      <th>contact_id</th>\n",
       "      <th>location_id</th>\n",
       "      <th>organization_id</th>\n",
       "      <th>service_id</th>\n",
       "      <th>country_prefix</th>\n",
       "      <th>extension</th>\n",
       "    </tr>\n",
       "  </thead>\n",
       "  <tbody>\n",
       "    <tr>\n",
       "      <th>count</th>\n",
       "      <td>54.000000</td>\n",
       "      <td>6.000000</td>\n",
       "      <td>44.000000</td>\n",
       "      <td>1.0</td>\n",
       "      <td>3.0</td>\n",
       "      <td>2.0</td>\n",
       "      <td>11.000000</td>\n",
       "    </tr>\n",
       "    <tr>\n",
       "      <th>mean</th>\n",
       "      <td>28.944444</td>\n",
       "      <td>31.166667</td>\n",
       "      <td>11.681818</td>\n",
       "      <td>8.0</td>\n",
       "      <td>22.0</td>\n",
       "      <td>1.0</td>\n",
       "      <td>1471.000000</td>\n",
       "    </tr>\n",
       "    <tr>\n",
       "      <th>std</th>\n",
       "      <td>17.413307</td>\n",
       "      <td>2.786874</td>\n",
       "      <td>6.600820</td>\n",
       "      <td>NaN</td>\n",
       "      <td>0.0</td>\n",
       "      <td>0.0</td>\n",
       "      <td>1884.895116</td>\n",
       "    </tr>\n",
       "    <tr>\n",
       "      <th>min</th>\n",
       "      <td>1.000000</td>\n",
       "      <td>29.000000</td>\n",
       "      <td>1.000000</td>\n",
       "      <td>8.0</td>\n",
       "      <td>22.0</td>\n",
       "      <td>1.0</td>\n",
       "      <td>101.000000</td>\n",
       "    </tr>\n",
       "    <tr>\n",
       "      <th>25%</th>\n",
       "      <td>14.250000</td>\n",
       "      <td>29.000000</td>\n",
       "      <td>6.000000</td>\n",
       "      <td>8.0</td>\n",
       "      <td>22.0</td>\n",
       "      <td>1.0</td>\n",
       "      <td>123.000000</td>\n",
       "    </tr>\n",
       "    <tr>\n",
       "      <th>50%</th>\n",
       "      <td>28.500000</td>\n",
       "      <td>30.500000</td>\n",
       "      <td>11.500000</td>\n",
       "      <td>8.0</td>\n",
       "      <td>22.0</td>\n",
       "      <td>1.0</td>\n",
       "      <td>202.000000</td>\n",
       "    </tr>\n",
       "    <tr>\n",
       "      <th>75%</th>\n",
       "      <td>41.750000</td>\n",
       "      <td>32.000000</td>\n",
       "      <td>17.000000</td>\n",
       "      <td>8.0</td>\n",
       "      <td>22.0</td>\n",
       "      <td>1.0</td>\n",
       "      <td>2661.500000</td>\n",
       "    </tr>\n",
       "    <tr>\n",
       "      <th>max</th>\n",
       "      <td>60.000000</td>\n",
       "      <td>36.000000</td>\n",
       "      <td>22.000000</td>\n",
       "      <td>8.0</td>\n",
       "      <td>22.0</td>\n",
       "      <td>1.0</td>\n",
       "      <td>4500.000000</td>\n",
       "    </tr>\n",
       "  </tbody>\n",
       "</table>\n",
       "</div>"
      ],
      "text/plain": [
       "              id  contact_id  location_id  organization_id  service_id  \\\n",
       "count  54.000000    6.000000    44.000000              1.0         3.0   \n",
       "mean   28.944444   31.166667    11.681818              8.0        22.0   \n",
       "std    17.413307    2.786874     6.600820              NaN         0.0   \n",
       "min     1.000000   29.000000     1.000000              8.0        22.0   \n",
       "25%    14.250000   29.000000     6.000000              8.0        22.0   \n",
       "50%    28.500000   30.500000    11.500000              8.0        22.0   \n",
       "75%    41.750000   32.000000    17.000000              8.0        22.0   \n",
       "max    60.000000   36.000000    22.000000              8.0        22.0   \n",
       "\n",
       "       country_prefix    extension  \n",
       "count             2.0    11.000000  \n",
       "mean              1.0  1471.000000  \n",
       "std               0.0  1884.895116  \n",
       "min               1.0   101.000000  \n",
       "25%               1.0   123.000000  \n",
       "50%               1.0   202.000000  \n",
       "75%               1.0  2661.500000  \n",
       "max               1.0  4500.000000  "
      ]
     },
     "execution_count": 102,
     "metadata": {},
     "output_type": "execute_result"
    }
   ],
   "source": [
    "phones.describe()"
   ]
  },
  {
   "cell_type": "code",
   "execution_count": 103,
   "metadata": {},
   "outputs": [
    {
     "data": {
      "text/html": [
       "<div>\n",
       "<style scoped>\n",
       "    .dataframe tbody tr th:only-of-type {\n",
       "        vertical-align: middle;\n",
       "    }\n",
       "\n",
       "    .dataframe tbody tr th {\n",
       "        vertical-align: top;\n",
       "    }\n",
       "\n",
       "    .dataframe thead th {\n",
       "        text-align: right;\n",
       "    }\n",
       "</style>\n",
       "<table border=\"1\" class=\"dataframe\">\n",
       "  <thead>\n",
       "    <tr style=\"text-align: right;\">\n",
       "      <th></th>\n",
       "      <th>id</th>\n",
       "      <th>contact_id</th>\n",
       "      <th>location_id</th>\n",
       "      <th>organization_id</th>\n",
       "      <th>service_id</th>\n",
       "      <th>country_prefix</th>\n",
       "      <th>department</th>\n",
       "      <th>extension</th>\n",
       "      <th>number</th>\n",
       "      <th>number_type</th>\n",
       "      <th>vanity_number</th>\n",
       "    </tr>\n",
       "  </thead>\n",
       "  <tbody>\n",
       "    <tr>\n",
       "      <th>0</th>\n",
       "      <td>1</td>\n",
       "      <td>NaN</td>\n",
       "      <td>1.0</td>\n",
       "      <td>NaN</td>\n",
       "      <td>NaN</td>\n",
       "      <td>NaN</td>\n",
       "      <td>NaN</td>\n",
       "      <td>NaN</td>\n",
       "      <td>650 780-7525</td>\n",
       "      <td>voice</td>\n",
       "      <td>NaN</td>\n",
       "    </tr>\n",
       "    <tr>\n",
       "      <th>1</th>\n",
       "      <td>2</td>\n",
       "      <td>NaN</td>\n",
       "      <td>1.0</td>\n",
       "      <td>NaN</td>\n",
       "      <td>NaN</td>\n",
       "      <td>NaN</td>\n",
       "      <td>NaN</td>\n",
       "      <td>NaN</td>\n",
       "      <td>650 701-0856</td>\n",
       "      <td>fax</td>\n",
       "      <td>NaN</td>\n",
       "    </tr>\n",
       "    <tr>\n",
       "      <th>2</th>\n",
       "      <td>3</td>\n",
       "      <td>NaN</td>\n",
       "      <td>2.0</td>\n",
       "      <td>NaN</td>\n",
       "      <td>NaN</td>\n",
       "      <td>NaN</td>\n",
       "      <td>NaN</td>\n",
       "      <td>4385.0</td>\n",
       "      <td>650 403-4300</td>\n",
       "      <td>voice</td>\n",
       "      <td>NaN</td>\n",
       "    </tr>\n",
       "    <tr>\n",
       "      <th>3</th>\n",
       "      <td>4</td>\n",
       "      <td>NaN</td>\n",
       "      <td>2.0</td>\n",
       "      <td>NaN</td>\n",
       "      <td>NaN</td>\n",
       "      <td>NaN</td>\n",
       "      <td>NaN</td>\n",
       "      <td>NaN</td>\n",
       "      <td>650 403-4302</td>\n",
       "      <td>fax</td>\n",
       "      <td>NaN</td>\n",
       "    </tr>\n",
       "    <tr>\n",
       "      <th>4</th>\n",
       "      <td>5</td>\n",
       "      <td>NaN</td>\n",
       "      <td>3.0</td>\n",
       "      <td>NaN</td>\n",
       "      <td>NaN</td>\n",
       "      <td>NaN</td>\n",
       "      <td>English</td>\n",
       "      <td>NaN</td>\n",
       "      <td>650 403-4300</td>\n",
       "      <td>voice</td>\n",
       "      <td>NaN</td>\n",
       "    </tr>\n",
       "    <tr>\n",
       "      <th>5</th>\n",
       "      <td>6</td>\n",
       "      <td>NaN</td>\n",
       "      <td>3.0</td>\n",
       "      <td>NaN</td>\n",
       "      <td>NaN</td>\n",
       "      <td>NaN</td>\n",
       "      <td>NaN</td>\n",
       "      <td>NaN</td>\n",
       "      <td>650 403-4303</td>\n",
       "      <td>fax</td>\n",
       "      <td>NaN</td>\n",
       "    </tr>\n",
       "    <tr>\n",
       "      <th>6</th>\n",
       "      <td>7</td>\n",
       "      <td>NaN</td>\n",
       "      <td>4.0</td>\n",
       "      <td>NaN</td>\n",
       "      <td>NaN</td>\n",
       "      <td>NaN</td>\n",
       "      <td>NaN</td>\n",
       "      <td>4500.0</td>\n",
       "      <td>650 403-4300</td>\n",
       "      <td>voice</td>\n",
       "      <td>NaN</td>\n",
       "    </tr>\n",
       "    <tr>\n",
       "      <th>7</th>\n",
       "      <td>8</td>\n",
       "      <td>NaN</td>\n",
       "      <td>4.0</td>\n",
       "      <td>NaN</td>\n",
       "      <td>NaN</td>\n",
       "      <td>NaN</td>\n",
       "      <td>NaN</td>\n",
       "      <td>NaN</td>\n",
       "      <td>650 403-4303</td>\n",
       "      <td>fax</td>\n",
       "      <td>NaN</td>\n",
       "    </tr>\n",
       "    <tr>\n",
       "      <th>8</th>\n",
       "      <td>9</td>\n",
       "      <td>NaN</td>\n",
       "      <td>5.0</td>\n",
       "      <td>NaN</td>\n",
       "      <td>NaN</td>\n",
       "      <td>NaN</td>\n",
       "      <td>NaN</td>\n",
       "      <td>4100.0</td>\n",
       "      <td>650 403-4300</td>\n",
       "      <td>voice</td>\n",
       "      <td>NaN</td>\n",
       "    </tr>\n",
       "    <tr>\n",
       "      <th>9</th>\n",
       "      <td>10</td>\n",
       "      <td>NaN</td>\n",
       "      <td>5.0</td>\n",
       "      <td>NaN</td>\n",
       "      <td>NaN</td>\n",
       "      <td>NaN</td>\n",
       "      <td>NaN</td>\n",
       "      <td>NaN</td>\n",
       "      <td>650 403-4303</td>\n",
       "      <td>fax</td>\n",
       "      <td>NaN</td>\n",
       "    </tr>\n",
       "  </tbody>\n",
       "</table>\n",
       "</div>"
      ],
      "text/plain": [
       "   id  contact_id  location_id  organization_id  service_id  country_prefix  \\\n",
       "0   1         NaN          1.0              NaN         NaN             NaN   \n",
       "1   2         NaN          1.0              NaN         NaN             NaN   \n",
       "2   3         NaN          2.0              NaN         NaN             NaN   \n",
       "3   4         NaN          2.0              NaN         NaN             NaN   \n",
       "4   5         NaN          3.0              NaN         NaN             NaN   \n",
       "5   6         NaN          3.0              NaN         NaN             NaN   \n",
       "6   7         NaN          4.0              NaN         NaN             NaN   \n",
       "7   8         NaN          4.0              NaN         NaN             NaN   \n",
       "8   9         NaN          5.0              NaN         NaN             NaN   \n",
       "9  10         NaN          5.0              NaN         NaN             NaN   \n",
       "\n",
       "  department  extension        number number_type vanity_number  \n",
       "0        NaN        NaN  650 780-7525       voice           NaN  \n",
       "1        NaN        NaN  650 701-0856         fax           NaN  \n",
       "2        NaN     4385.0  650 403-4300       voice           NaN  \n",
       "3        NaN        NaN  650 403-4302         fax           NaN  \n",
       "4    English        NaN  650 403-4300       voice           NaN  \n",
       "5        NaN        NaN  650 403-4303         fax           NaN  \n",
       "6        NaN     4500.0  650 403-4300       voice           NaN  \n",
       "7        NaN        NaN  650 403-4303         fax           NaN  \n",
       "8        NaN     4100.0  650 403-4300       voice           NaN  \n",
       "9        NaN        NaN  650 403-4303         fax           NaN  "
      ]
     },
     "execution_count": 103,
     "metadata": {},
     "output_type": "execute_result"
    }
   ],
   "source": [
    "phones.head(10)"
   ]
  },
  {
   "cell_type": "code",
   "execution_count": 106,
   "metadata": {},
   "outputs": [
    {
     "data": {
      "text/plain": [
       "16181.0"
      ]
     },
     "execution_count": 106,
     "metadata": {},
     "output_type": "execute_result"
    }
   ],
   "source": [
    "phones[phones[\"extension\"].notnull()][\"extension\"].sum()"
   ]
  },
  {
   "cell_type": "code",
   "execution_count": 109,
   "metadata": {},
   "outputs": [
    {
     "data": {
      "text/plain": [
       "voice      26\n",
       "fax        24\n",
       "sms         2\n",
       "hotline     1\n",
       "tty         1\n",
       "Name: number_type, dtype: int64"
      ]
     },
     "execution_count": 109,
     "metadata": {},
     "output_type": "execute_result"
    }
   ],
   "source": [
    "phones[\"number_type\"].value_counts()"
   ]
  },
  {
   "cell_type": "code",
   "execution_count": 114,
   "metadata": {},
   "outputs": [],
   "source": [
    "wxt =phones[phones[\"extension\"].notnull()][\"extension\"]"
   ]
  },
  {
   "cell_type": "code",
   "execution_count": 115,
   "metadata": {},
   "outputs": [
    {
     "data": {
      "text/plain": [
       "<AxesSubplot:>"
      ]
     },
     "execution_count": 115,
     "metadata": {},
     "output_type": "execute_result"
    },
    {
     "data": {
      "image/png": "[encoded data removed]",
      "text/plain": [
       "<Figure size 432x288 with 1 Axes>"
      ]
     },
     "metadata": {
      "needs_background": "light"
     },
     "output_type": "display_data"
    }
   ],
   "source": [
    "wxt.plot()"
   ]
  },
  {
   "cell_type": "code",
   "execution_count": 120,
   "metadata": {},
   "outputs": [
    {
     "data": {
      "text/plain": [
       "0     6507807525\n",
       "1     6507010856\n",
       "2     6504034300\n",
       "3     6504034302\n",
       "4     6504034300\n",
       "5     6504034303\n",
       "6     6504034300\n",
       "7     6504034303\n",
       "8     6504034300\n",
       "9     6504034303\n",
       "10    6503262025\n",
       "11    6503269547\n",
       "12    6503220126\n",
       "13    6503224067\n",
       "14    6503232022\n",
       "15    6503269547\n",
       "16    6507807261\n",
       "17    6505693371\n",
       "18    6507807018\n",
       "19    6507807069\n",
       "20    6507807010\n",
       "21    6507807077\n",
       "22    6507807004\n",
       "23    6507805740\n",
       "24    6503684643\n",
       "25    6503641712\n",
       "26    4156438000\n",
       "27    4152851391\n",
       "28    4087200420\n",
       "29    4087208075\n",
       "30    6502664591\n",
       "31    6502662594\n",
       "32    6502664594\n",
       "33    6508391447\n",
       "34    6508391457\n",
       "35    6505780400\n",
       "36    6505780440\n",
       "37    7035551212\n",
       "38    2025551212\n",
       "39    1234567890\n",
       "40    2025551212\n",
       "41    6503726200\n",
       "42    6506278244\n",
       "43    8003726200\n",
       "44    6503726200\n",
       "45    7035551212\n",
       "46    1234567890\n",
       "47    7034441234\n",
       "48    6505551212\n",
       "49    6503653738\n",
       "50    1234567890\n",
       "51    7894561230\n",
       "52    6502225555\n",
       "53    6505551212\n",
       "Name: number, dtype: int64"
      ]
     },
     "execution_count": 120,
     "metadata": {},
     "output_type": "execute_result"
    }
   ],
   "source": [
    "phones[\"number\"].str.replace(\"-\", \" \").str.replace(\" \", \"\").astype('int')"
   ]
  },
  {
   "cell_type": "code",
   "execution_count": null,
   "metadata": {},
   "outputs": [],
   "source": []
  },
  {
   "cell_type": "markdown",
   "metadata": {},
   "source": [
    "Knjižnjica za grafični prikaz podatkov.\n",
    "\n",
    "https://matplotlib.org/"
   ]
  },
  {
   "cell_type": "code",
   "execution_count": 3,
   "metadata": {},
   "outputs": [],
   "source": [
    "import matplotlib.pyplot as plt\n",
    "import numpy as np"
   ]
  },
  {
   "cell_type": "code",
   "execution_count": 4,
   "metadata": {},
   "outputs": [
    {
     "data": {
      "image/png": "[encoded data removed]",
      "text/plain": [
       "<Figure size 432x288 with 1 Axes>"
      ]
     },
     "metadata": {
      "needs_background": "light"
     },
     "output_type": "display_data"
    }
   ],
   "source": [
    "#x-os\n",
    "X = np.linspace(-np.pi, np.pi, 256) # dobimo 256 vrednosti od -pi do vključno pi\n",
    "\n",
    "#y-os, potrebujemo vrednsoti Cos(x) in sin(x)\n",
    "C = np.cos(X)\n",
    "S = np.sin(X)\n",
    "\n",
    "plt.plot(X,C, color=\"r\")\n",
    "plt.plot(X,S, linestyle=\"--\", color=\"black\", label=\"Podatki1\")\n",
    "plt.xlim(0, 1)\n",
    "plt.yticks([-1, 0, 0.5])\n",
    "\n",
    "plt.legend(loc=\"upper left\")\n",
    "\n",
    "plt.show()"
   ]
  },
  {
   "cell_type": "code",
   "execution_count": 5,
   "metadata": {},
   "outputs": [
    {
     "data": {
      "image/png": "[encoded data removed]",
      "text/plain": [
       "<Figure size 432x288 with 1 Axes>"
      ]
     },
     "metadata": {},
     "output_type": "display_data"
    }
   ],
   "source": [
    "import numpy as np\n",
    "import matplotlib.pyplot as plt\n",
    "#%matplotlib notebook\n",
    "\n",
    "n = 1024\n",
    "X = np.random.normal(0,1,n)\n",
    "Y = np.random.normal(0,1,n)\n",
    "T = np.arctan2(Y,X)\n",
    "\n",
    "plt.axes([0.025,0.025,0.95,0.95])\n",
    "plt.scatter(X,Y, s=75, c=T, alpha=.5)\n",
    "\n",
    "plt.xlim(-1.5,1.5), plt.xticks([])\n",
    "plt.ylim(-1.5,1.5), plt.yticks([])\n",
    "# savefig('../figures/scatter_ex.png',dpi=48)\n",
    "plt.show()"
   ]
  },
  {
   "cell_type": "code",
   "execution_count": null,
   "metadata": {},
   "outputs": [],
   "source": []
  },
  {
   "cell_type": "markdown",
   "metadata": {},
   "source": [
    "### Kakšni so načini oziroma ukazi za preskakovanje dela kode naprej ali nazaj.\n",
    "Primer: če je določen pogoj izpolnjen se vrnemo nazaj ali preskočimo del kode."
   ]
  },
  {
   "cell_type": "markdown",
   "metadata": {},
   "source": [
    "Python te funkcionalnosti ne ponuja!\n",
    "To funkcionalnost je mogoče videti pri nižje-nivojskih jezikih ter starejših jezikih.\n",
    "\n",
    "Tako funkcionalnost je možno v pythonu implementirati na drugačne načine, le oraganizirati si moramo arhitekturo programa."
   ]
  },
  {
   "cell_type": "code",
   "execution_count": 10,
   "metadata": {},
   "outputs": [],
   "source": [
    "def fun1():\n",
    "    # kar hočemo v 1. koraku\n",
    "    pass\n",
    "\n",
    "def fun2():\n",
    "    # kar hočemo v 2. koraku\n",
    "    pass\n",
    "    \n",
    "def fun3():\n",
    "    # kar hočemo v 3. koraku\n",
    "    pass"
   ]
  },
  {
   "cell_type": "markdown",
   "metadata": {},
   "source": [
    "Paziti treba na rekurzijo"
   ]
  },
  {
   "cell_type": "code",
   "execution_count": 16,
   "metadata": {},
   "outputs": [],
   "source": [
    "statusPremika = 0\n",
    "while True:\n",
    "    if statusPremika <= 0:\n",
    "        # kar hočemo narediti ob začetku\n",
    "        pass\n",
    "    \n",
    "    if statusPremika <= 1:\n",
    "        # kaj hočemo narediti če preskočimo na status 1\n",
    "        pass\n",
    "    \n",
    "    if statusPremika <= 2:\n",
    "        # kaj hočemo narediti če preskočimo na status 2\n",
    "        pass\n",
    "    \n",
    "    # pogoj in skok na status + continue\n",
    "    if statusPremika == 0:\n",
    "        statusPremika = 2\n",
    "        continue\n",
    "        \n",
    "    print(\"Nekaj\")\n",
    "    \n",
    "    if statusPremika == 2:\n",
    "        statusPremika = 1\n",
    "        continue\n",
    "    \n",
    "    if statusPremika == 1:\n",
    "        break"
   ]
  },
  {
   "cell_type": "code",
   "execution_count": null,
   "metadata": {},
   "outputs": [],
   "source": []
  },
  {
   "cell_type": "markdown",
   "metadata": {},
   "source": [
    "### Ali je kakšna metoda (postopek) reševanja naloge (problema) ki zmanjša možnosti da zaidemo in zapravimo preveč časa.\n",
    "Mogoče, postaviti kodo v grobem (shematski prikaz) potem se lotiti podrobno."
   ]
  },
  {
   "cell_type": "markdown",
   "metadata": {},
   "source": [
    "primer: **aplikacija za sprehajanje psov** (samo primera)"
   ]
  },
  {
   "cell_type": "markdown",
   "metadata": {},
   "source": [
    "#### Razredni diagram:\n",
    "\n",
    "![](./razredniDiagram.PNG)"
   ]
  },
  {
   "cell_type": "markdown",
   "metadata": {},
   "source": [
    "#### Brisanje profila tok poteka:\n",
    "![](brisanjeProfila.PNG)"
   ]
  },
  {
   "cell_type": "markdown",
   "metadata": {},
   "source": [
    "### Kako vemo / izberemo kaj damo v __ init __ funkcijo v classu?\n"
   ]
  },
  {
   "cell_type": "code",
   "execution_count": 1,
   "metadata": {},
   "outputs": [
    {
     "name": "stdout",
     "output_type": "stream",
     "text": [
      "Objekt <Oseba> ima atribut <ime> 'Jan' in <priimek> 'Novak'\n"
     ]
    }
   ],
   "source": [
    "class Oseba:\n",
    "    \n",
    "    def __init__(self, ime, priimek):\n",
    "        self.ime = ime\n",
    "        self.priimek = priimek\n",
    "        \n",
    "    def izpis(self):\n",
    "        print(f\"Objekt <Oseba> ima atribut <ime> '{self.ime}' in <priimek> '{self.priimek}'\")\n",
    "        \n",
    "os = Oseba(\"Jan\",\"Novak\")\n",
    "os.izpis()"
   ]
  },
  {
   "cell_type": "markdown",
   "metadata": {},
   "source": [
    "Ko imamo objekt in ga ustvarimo, se vprašamo, katere informacije mora ta objekt imeti že takoj ko ga ustvarimo.\n",
    "\n",
    "Vendar to NI nujno, lahko se to naredi tudi posebej.\n",
    "\n",
    "`__init__` se uporablja tudi za \"resetiranje\" objekta, torej v `__inti__` definiramo katere so vrednosti ki predstavljajo objekt \"na začetku\" lahko se razmišlja tudi tako, da so atributi samo podatki ki se ne bodo spreminjali (kar ni obvezno, ampak lahko se tako omejimo)\n",
    "\n",
    "primer: `Oseba(Ime, Priimek, DatumRojstva)` --> ti podatki se ne bodo spreminjal, ampak lahko z lahkoto damo tudi atribute ki se bodo spreminjali (kot na primer `DatumZadnjeOddaneNaloge`)"
   ]
  },
  {
   "cell_type": "code",
   "execution_count": null,
   "metadata": {},
   "outputs": [],
   "source": []
  },
  {
   "cell_type": "markdown",
   "metadata": {},
   "source": [
    "### 6. Ali je naloga rešena narobe, če je v classu samo ena funcija?"
   ]
  },
  {
   "cell_type": "markdown",
   "metadata": {},
   "source": [
    "Predvidevamo da se naloga nanaša na domače naloge/izpit.\n",
    "\n",
    "\n",
    "---\n",
    "\n",
    "\n",
    "Odvisno.\n",
    "\n",
    "Če je naloga že definirana, in so funkcije že podane, potem uporabite tiste funkcije. Lahko dodate še kašne svoje, vendar naj bodo podane funkcije prisotne (lahko njih uporabite da kličete svoje funkcije).\n",
    "\n",
    "Če pa niso, pa lahko uporabite karkoli hočete."
   ]
  },
  {
   "cell_type": "markdown",
   "metadata": {},
   "source": []
  },
  {
   "cell_type": "code",
   "execution_count": null,
   "metadata": {},
   "outputs": [],
   "source": []
  },
  {
   "cell_type": "markdown",
   "metadata": {},
   "source": [
    "### Kako primerjati float spremenljivki enakih vrednosti, da bo rezultat logičen oz. true?\n"
   ]
  },
  {
   "cell_type": "code",
   "execution_count": 6,
   "metadata": {},
   "outputs": [
    {
     "name": "stdout",
     "output_type": "stream",
     "text": [
      "True\n",
      "False\n",
      "True\n",
      "False\n",
      "\n",
      "True\n",
      "False\n"
     ]
    }
   ],
   "source": [
    "import math\n",
    "\n",
    "a = 5.0\n",
    "b = 4.999_97\n",
    "\n",
    "# Relative tolerance is the maximum allowed difference between isclose arguments, relative to the larger absolute value\n",
    "print(math.isclose(a, b, rel_tol=1e-5))\n",
    "print(math.isclose(a, b, rel_tol=1e-6))\n",
    "print(math.isclose(a, b, rel_tol=0.000_006))\n",
    "print(math.isclose(a, b, rel_tol=0.000_0059))\n",
    "\n",
    "\n",
    "print()\n",
    "\n",
    "# abs_tol: is a minimum absolute tolerance level -- useful for comparisons near zero.\n",
    "print(math.isclose(a, b, abs_tol=0.000_03))\n",
    "print(math.isclose(a, b, abs_tol=0.000_01))"
   ]
  },
  {
   "cell_type": "code",
   "execution_count": null,
   "metadata": {},
   "outputs": [],
   "source": []
  },
  {
   "cell_type": "markdown",
   "metadata": {},
   "source": [
    "### Ali lahko ponovimo f-strings in kakšne uporabne primere zanje?"
   ]
  },
  {
   "cell_type": "markdown",
   "metadata": {},
   "source": [
    "S prihodom Python3.6 verzije se stringe izpisuje s pomočjo f-string\n",
    "\n",
    "```python\n",
    "f'Besedilo {spremenljivka1:format1}, besedilo naprej{spremenljivka2:format2}, besedilo naprej....'\n",
    "```\n",
    "\n",
    "[Dokumentacija f-string](https://docs.python.org/3.6/library/string.html#formatspec)"
   ]
  },
  {
   "cell_type": "code",
   "execution_count": 7,
   "metadata": {},
   "outputs": [
    {
     "name": "stdout",
     "output_type": "stream",
     "text": [
      "Anže je 10 let star\n"
     ]
    }
   ],
   "source": [
    "ime = \"Anže\"\n",
    "starost = 10\n",
    "print(f'{ime} je {starost} let star')"
   ]
  },
  {
   "cell_type": "code",
   "execution_count": 8,
   "metadata": {},
   "outputs": [
    {
     "name": "stdout",
     "output_type": "stream",
     "text": [
      "---Anže--- je ****10.000 let star, oziroma 1.200000e+02 mesecev.\n"
     ]
    }
   ],
   "source": [
    "ime = \"Anže\"\n",
    "starost = 10\n",
    "print(f'{ime:-^10} je {starost:*>10.3f} let star, oziroma {starost*12:e} mesecev.')\n",
    "# {ime:-^10} ime -> spremenljivka, \"-\" -> znak s katerim zapolni mesta, \"^\" -> naj bo sredinska poravnava, 10 -> 10 znakov\n",
    "# {starost:*>10.3f} starost -> ime spremenljivke, \"*\" -> znak s katerim zapolni mesta, \">\" -> poravnava desno, \"10\" -> 10 znakov za zapis, \".3\" -> naj ima 3 decimalna mesta, \"f\" -> naj bo to float \n",
    "# {starost*12:e} starost*12 -> spremenljivka ki jo želimo izpisat, \"e\" -> naj bo stvar izpisana kot eksponenet (100 -> 1.00e2 ->)"
   ]
  },
  {
   "cell_type": "markdown",
   "metadata": {},
   "source": [
    "Bolj konkreten primer:\n",
    "\n",
    "Imamo datoteko **coingecko_ids.txt**. Znotraj imamo id kriptovalut. Za vsako hočemo pridobiti trenutno ceno s platforme CoinGecko."
   ]
  },
  {
   "cell_type": "code",
   "execution_count": 11,
   "metadata": {},
   "outputs": [
    {
     "name": "stdout",
     "output_type": "stream",
     "text": [
      "kattana\n",
      "https://api.coingecko.com/api/v3/simple/price?ids=kattana&vs_currencies=eur&include_market_cap=false&include_24hr_vol=false&include_24hr_change=false&include_last_updated_at=false\n",
      "{'kattana': {'eur': 14.65}}\n",
      "\n",
      "boson-protocol\n",
      "https://api.coingecko.com/api/v3/simple/price?ids=boson-protocol&vs_currencies=eur&include_market_cap=false&include_24hr_vol=false&include_24hr_change=false&include_last_updated_at=false\n",
      "{'boson-protocol': {'eur': 2.11}}\n",
      "\n",
      "tokocrypto\n",
      "https://api.coingecko.com/api/v3/simple/price?ids=tokocrypto&vs_currencies=eur&include_market_cap=false&include_24hr_vol=false&include_24hr_change=false&include_last_updated_at=false\n",
      "{'tokocrypto': {'eur': 2.67}}\n",
      "\n"
     ]
    }
   ],
   "source": [
    "import requests\n",
    "\n",
    "with open(\"coingecko_ids.txt\", \"r\") as f:\n",
    "    coingecko_ids = f.readlines()\n",
    "\n",
    "    \n",
    "for id_ in coingecko_ids[:3]:\n",
    "    \n",
    "    id_ = id_.strip()\n",
    "    print(id_)\n",
    "    \n",
    "    #url = \"https://api.coingecko.com/api/v3/simple/price?ids=\" + id_ +\"&vs_currencies=eur&include_market_cap=false&include_24hr_vol=false&include_24hr_change=false&include_last_updated_at=false\"\n",
    "    url = f\"https://api.coingecko.com/api/v3/simple/price?ids={id_}&vs_currencies=eur&include_market_cap=false&include_24hr_vol=false&include_24hr_change=false&include_last_updated_at=false\"\n",
    "    print(url)\n",
    "    r = requests.get(url)\n",
    "    \n",
    "    data = r.json()\n",
    "    print(data)\n",
    "    print()"
   ]
  },
  {
   "cell_type": "code",
   "execution_count": null,
   "metadata": {},
   "outputs": [],
   "source": []
  },
  {
   "cell_type": "code",
   "execution_count": null,
   "metadata": {},
   "outputs": [],
   "source": []
  }
 ],
 "metadata": {
  "kernelspec": {
   "display_name": "Python 3",
   "language": "python",
   "name": "python3"
  },
  "language_info": {
   "codemirror_mode": {
    "name": "ipython",
    "version": 3
   },
   "file_extension": ".py",
   "mimetype": "text/x-python",
   "name": "python",
   "nbconvert_exporter": "python",
   "pygments_lexer": "ipython3",
   "version": "3.8.5"
  }
 },
 "nbformat": 4,
 "nbformat_minor": 5
}
