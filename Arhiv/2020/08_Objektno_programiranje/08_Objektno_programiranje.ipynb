{
 "cells": [
  {
   "cell_type": "markdown",
   "id": "indirect-margin",
   "metadata": {},
   "source": [
    "# Uvod v objekte"
   ]
  },
  {
   "cell_type": "code",
   "execution_count": 1,
   "id": "sapphire-conviction",
   "metadata": {},
   "outputs": [
    {
     "data": {
      "text/plain": [
       "True"
      ]
     },
     "execution_count": 1,
     "metadata": {},
     "output_type": "execute_result"
    }
   ],
   "source": [
    "isinstance(23, int)"
   ]
  },
  {
   "cell_type": "code",
   "execution_count": 2,
   "id": "integral-photographer",
   "metadata": {},
   "outputs": [
    {
     "data": {
      "text/plain": [
       "True"
      ]
     },
     "execution_count": 2,
     "metadata": {},
     "output_type": "execute_result"
    }
   ],
   "source": [
    "isinstance(23, object)"
   ]
  },
  {
   "cell_type": "markdown",
   "id": "latter-address",
   "metadata": {},
   "source": [
    "### Primerjava objketov (is, vs ==)"
   ]
  },
  {
   "cell_type": "code",
   "execution_count": 3,
   "id": "palestinian-player",
   "metadata": {},
   "outputs": [],
   "source": [
    "x = 1"
   ]
  },
  {
   "cell_type": "code",
   "execution_count": 4,
   "id": "greater-festival",
   "metadata": {},
   "outputs": [
    {
     "data": {
      "text/plain": [
       "140329768646960"
      ]
     },
     "execution_count": 4,
     "metadata": {},
     "output_type": "execute_result"
    }
   ],
   "source": [
    "id(x)"
   ]
  },
  {
   "cell_type": "code",
   "execution_count": 5,
   "id": "accessory-mambo",
   "metadata": {},
   "outputs": [],
   "source": [
    "x = \"Rad imam Python!\"\n",
    "y = \"Rad imam Python!\""
   ]
  },
  {
   "cell_type": "code",
   "execution_count": 6,
   "id": "constitutional-concentration",
   "metadata": {},
   "outputs": [
    {
     "data": {
      "text/plain": [
       "True"
      ]
     },
     "execution_count": 6,
     "metadata": {},
     "output_type": "execute_result"
    }
   ],
   "source": [
    "x == y"
   ]
  },
  {
   "cell_type": "code",
   "execution_count": 7,
   "id": "american-distributor",
   "metadata": {},
   "outputs": [
    {
     "data": {
      "text/plain": [
       "140329413386768"
      ]
     },
     "execution_count": 7,
     "metadata": {},
     "output_type": "execute_result"
    }
   ],
   "source": [
    "id(x)"
   ]
  },
  {
   "cell_type": "code",
   "execution_count": 8,
   "id": "lonely-lodging",
   "metadata": {},
   "outputs": [
    {
     "data": {
      "text/plain": [
       "140329413387008"
      ]
     },
     "execution_count": 8,
     "metadata": {},
     "output_type": "execute_result"
    }
   ],
   "source": [
    "id(y)"
   ]
  },
  {
   "cell_type": "code",
   "execution_count": 9,
   "id": "rough-illinois",
   "metadata": {},
   "outputs": [
    {
     "data": {
      "text/plain": [
       "False"
      ]
     },
     "execution_count": 9,
     "metadata": {},
     "output_type": "execute_result"
    }
   ],
   "source": [
    "x is y"
   ]
  },
  {
   "cell_type": "code",
   "execution_count": 10,
   "id": "stuffed-defense",
   "metadata": {},
   "outputs": [],
   "source": [
    "x = \"Rad imam Python!\"\n",
    "z = x"
   ]
  },
  {
   "cell_type": "code",
   "execution_count": 11,
   "id": "bronze-surrey",
   "metadata": {},
   "outputs": [
    {
     "data": {
      "text/plain": [
       "True"
      ]
     },
     "execution_count": 11,
     "metadata": {},
     "output_type": "execute_result"
    }
   ],
   "source": [
    "x is z"
   ]
  },
  {
   "cell_type": "code",
   "execution_count": 12,
   "id": "scenic-dutch",
   "metadata": {
    "scrolled": true
   },
   "outputs": [
    {
     "data": {
      "text/plain": [
       "True"
      ]
     },
     "execution_count": 12,
     "metadata": {},
     "output_type": "execute_result"
    }
   ],
   "source": [
    "id(x) == id(z)"
   ]
  },
  {
   "cell_type": "code",
   "execution_count": 13,
   "id": "legislative-martial",
   "metadata": {},
   "outputs": [],
   "source": [
    "x = \"a\""
   ]
  },
  {
   "cell_type": "code",
   "execution_count": 17,
   "id": "accepting-stone",
   "metadata": {},
   "outputs": [
    {
     "data": {
      "text/plain": [
       "'Rad imam Python!'"
      ]
     },
     "execution_count": 17,
     "metadata": {},
     "output_type": "execute_result"
    }
   ],
   "source": [
    "z"
   ]
  },
  {
   "cell_type": "markdown",
   "id": "instructional-fellowship",
   "metadata": {},
   "source": [
    "### Mutable and immutable objects in Python"
   ]
  },
  {
   "cell_type": "markdown",
   "id": "ready-giving",
   "metadata": {},
   "source": [
    "<img style=\"-webkit-user-select: none;margin: auto;background-color: hsl(0, 0%, 90%);transition: background-color 300ms;\" src=\"https://miro.medium.com/max/630/1*Znpn5KLh_Q_-jvJOllPxfQ.png\">"
   ]
  },
  {
   "cell_type": "markdown",
   "id": "another-active",
   "metadata": {},
   "source": [
    "#### Immutable objects"
   ]
  },
  {
   "cell_type": "code",
   "execution_count": 19,
   "id": "congressional-somerset",
   "metadata": {},
   "outputs": [
    {
     "data": {
      "text/plain": [
       "24601"
      ]
     },
     "execution_count": 19,
     "metadata": {},
     "output_type": "execute_result"
    }
   ],
   "source": [
    "x = 24601\n",
    "x"
   ]
  },
  {
   "cell_type": "code",
   "execution_count": 21,
   "id": "inclusive-fisher",
   "metadata": {},
   "outputs": [
    {
     "data": {
      "text/plain": [
       "24602"
      ]
     },
     "execution_count": 21,
     "metadata": {},
     "output_type": "execute_result"
    }
   ],
   "source": [
    "x = 24602\n",
    "x"
   ]
  },
  {
   "cell_type": "code",
   "execution_count": 22,
   "id": "massive-saudi",
   "metadata": {},
   "outputs": [
    {
     "data": {
      "text/plain": [
       "140329403001936"
      ]
     },
     "execution_count": 22,
     "metadata": {},
     "output_type": "execute_result"
    }
   ],
   "source": [
    "x = 24601\n",
    "id(x)"
   ]
  },
  {
   "cell_type": "code",
   "execution_count": 23,
   "id": "sharp-reason",
   "metadata": {},
   "outputs": [
    {
     "data": {
      "text/plain": [
       "140329403002192"
      ]
     },
     "execution_count": 23,
     "metadata": {},
     "output_type": "execute_result"
    }
   ],
   "source": [
    "x = 24602\n",
    "id(x)"
   ]
  },
  {
   "cell_type": "code",
   "execution_count": 24,
   "id": "appreciated-substance",
   "metadata": {},
   "outputs": [],
   "source": [
    "my_tuple = (1,2,3)"
   ]
  },
  {
   "cell_type": "code",
   "execution_count": 25,
   "id": "attractive-activation",
   "metadata": {},
   "outputs": [
    {
     "data": {
      "text/plain": [
       "140329417773312"
      ]
     },
     "execution_count": 25,
     "metadata": {},
     "output_type": "execute_result"
    }
   ],
   "source": [
    "id(my_tuple)"
   ]
  },
  {
   "cell_type": "code",
   "execution_count": 26,
   "id": "forced-draft",
   "metadata": {},
   "outputs": [
    {
     "data": {
      "text/plain": [
       "140329422685904"
      ]
     },
     "execution_count": 26,
     "metadata": {},
     "output_type": "execute_result"
    }
   ],
   "source": [
    "my_tuple = (1,2,3,4)\n",
    "id(my_tuple)"
   ]
  },
  {
   "cell_type": "code",
   "execution_count": 27,
   "id": "authorized-judge",
   "metadata": {},
   "outputs": [
    {
     "ename": "TypeError",
     "evalue": "'tuple' object does not support item assignment",
     "output_type": "error",
     "traceback": [
      "\u001b[0;31m---------------------------------------------------------------------------\u001b[0m",
      "\u001b[0;31mTypeError\u001b[0m                                 Traceback (most recent call last)",
      "\u001b[0;32m<ipython-input-27-7202c080a1da>\u001b[0m in \u001b[0;36m<module>\u001b[0;34m\u001b[0m\n\u001b[0;32m----> 1\u001b[0;31m \u001b[0mmy_tuple\u001b[0m\u001b[0;34m[\u001b[0m\u001b[0;36m0\u001b[0m\u001b[0;34m]\u001b[0m \u001b[0;34m=\u001b[0m \u001b[0;36m5\u001b[0m\u001b[0;34m\u001b[0m\u001b[0;34m\u001b[0m\u001b[0m\n\u001b[0m",
      "\u001b[0;31mTypeError\u001b[0m: 'tuple' object does not support item assignment"
     ]
    }
   ],
   "source": [
    "my_tuple[0] = 5"
   ]
  },
  {
   "cell_type": "markdown",
   "id": "micro-exception",
   "metadata": {},
   "source": [
    "#### Mutable objects in Python"
   ]
  },
  {
   "cell_type": "code",
   "execution_count": 30,
   "id": "weighted-longitude",
   "metadata": {},
   "outputs": [
    {
     "data": {
      "text/plain": [
       "140329415960704"
      ]
     },
     "execution_count": 30,
     "metadata": {},
     "output_type": "execute_result"
    }
   ],
   "source": [
    "my_list = [1,2,3]\n",
    "id(my_list)"
   ]
  },
  {
   "cell_type": "code",
   "execution_count": 32,
   "id": "jewish-virginia",
   "metadata": {},
   "outputs": [
    {
     "data": {
      "text/plain": [
       "['vrednost', 2, 3]"
      ]
     },
     "execution_count": 32,
     "metadata": {},
     "output_type": "execute_result"
    }
   ],
   "source": [
    "my_list[0] = 'vrednost'\n",
    "my_list"
   ]
  },
  {
   "cell_type": "code",
   "execution_count": 33,
   "id": "married-affiliation",
   "metadata": {},
   "outputs": [
    {
     "data": {
      "text/plain": [
       "140329415960704"
      ]
     },
     "execution_count": 33,
     "metadata": {},
     "output_type": "execute_result"
    }
   ],
   "source": [
    "id(my_list)"
   ]
  },
  {
   "cell_type": "code",
   "execution_count": 34,
   "id": "center-ethnic",
   "metadata": {},
   "outputs": [],
   "source": [
    "y = my_list"
   ]
  },
  {
   "cell_type": "code",
   "execution_count": 35,
   "id": "polar-maximum",
   "metadata": {},
   "outputs": [
    {
     "data": {
      "text/plain": [
       "140329415960704"
      ]
     },
     "execution_count": 35,
     "metadata": {},
     "output_type": "execute_result"
    }
   ],
   "source": [
    "id(y)"
   ]
  },
  {
   "cell_type": "code",
   "execution_count": 36,
   "id": "sustainable-jenny",
   "metadata": {},
   "outputs": [],
   "source": [
    "my_list.append('aaaaa')"
   ]
  },
  {
   "cell_type": "code",
   "execution_count": 37,
   "id": "catholic-vegetable",
   "metadata": {},
   "outputs": [
    {
     "data": {
      "text/plain": [
       "['vrednost', 2, 3, 'aaaaa']"
      ]
     },
     "execution_count": 37,
     "metadata": {},
     "output_type": "execute_result"
    }
   ],
   "source": [
    "my_list"
   ]
  },
  {
   "cell_type": "code",
   "execution_count": 38,
   "id": "assured-kelly",
   "metadata": {},
   "outputs": [
    {
     "data": {
      "text/plain": [
       "['vrednost', 2, 3, 'aaaaa']"
      ]
     },
     "execution_count": 38,
     "metadata": {},
     "output_type": "execute_result"
    }
   ],
   "source": [
    "y"
   ]
  },
  {
   "cell_type": "markdown",
   "id": "synthetic-snake",
   "metadata": {},
   "source": [
    "### Mutable Default Arguments"
   ]
  },
  {
   "cell_type": "code",
   "execution_count": 47,
   "id": "separate-grill",
   "metadata": {},
   "outputs": [],
   "source": [
    "def izracun_vzorca(inputs=[]):\n",
    "    inputs.append(\"neki\")\n",
    "    vzorec = [\"nek list\"] + inputs\n",
    "    return vzorec"
   ]
  },
  {
   "cell_type": "code",
   "execution_count": 40,
   "id": "female-overall",
   "metadata": {},
   "outputs": [
    {
     "data": {
      "text/plain": [
       "['nek list', 'neki']"
      ]
     },
     "execution_count": 40,
     "metadata": {},
     "output_type": "execute_result"
    }
   ],
   "source": [
    "izracun_vzorca()"
   ]
  },
  {
   "cell_type": "code",
   "execution_count": 41,
   "id": "sustainable-surname",
   "metadata": {},
   "outputs": [
    {
     "data": {
      "text/plain": [
       "['nek list', 'neki', 'neki']"
      ]
     },
     "execution_count": 41,
     "metadata": {},
     "output_type": "execute_result"
    }
   ],
   "source": [
    "izracun_vzorca()"
   ]
  },
  {
   "cell_type": "code",
   "execution_count": 42,
   "id": "ecological-louis",
   "metadata": {},
   "outputs": [
    {
     "data": {
      "text/plain": [
       "['nek list', 'neki', 'neki', 'neki']"
      ]
     },
     "execution_count": 42,
     "metadata": {},
     "output_type": "execute_result"
    }
   ],
   "source": [
    "izracun_vzorca()"
   ]
  },
  {
   "cell_type": "code",
   "execution_count": 43,
   "id": "alert-polymer",
   "metadata": {},
   "outputs": [],
   "source": [
    "def izracun_vzorca(inputs=None):\n",
    "    if inputs is None:\n",
    "        inputs = []\n",
    "    inputs.append(\"neki\")\n",
    "    vzorec = [\"nek list\"] + inputs\n",
    "    return vzorec"
   ]
  },
  {
   "cell_type": "code",
   "execution_count": 44,
   "id": "assigned-television",
   "metadata": {},
   "outputs": [
    {
     "data": {
      "text/plain": [
       "['nek list', 'neki']"
      ]
     },
     "execution_count": 44,
     "metadata": {},
     "output_type": "execute_result"
    }
   ],
   "source": [
    "izracun_vzorca()"
   ]
  },
  {
   "cell_type": "code",
   "execution_count": 45,
   "id": "pleased-fraud",
   "metadata": {},
   "outputs": [
    {
     "data": {
      "text/plain": [
       "['nek list', 'neki']"
      ]
     },
     "execution_count": 45,
     "metadata": {},
     "output_type": "execute_result"
    }
   ],
   "source": [
    "izracun_vzorca()"
   ]
  },
  {
   "cell_type": "code",
   "execution_count": 46,
   "id": "colonial-enterprise",
   "metadata": {},
   "outputs": [
    {
     "data": {
      "text/plain": [
       "['nek list', 'neki']"
      ]
     },
     "execution_count": 46,
     "metadata": {},
     "output_type": "execute_result"
    }
   ],
   "source": [
    "izracun_vzorca()"
   ]
  },
  {
   "cell_type": "markdown",
   "id": "gentle-oakland",
   "metadata": {},
   "source": [
    "#### Kloniranje objektov"
   ]
  },
  {
   "cell_type": "code",
   "execution_count": 51,
   "id": "returning-geography",
   "metadata": {},
   "outputs": [
    {
     "data": {
      "text/plain": [
       "140329415711104"
      ]
     },
     "execution_count": 51,
     "metadata": {},
     "output_type": "execute_result"
    }
   ],
   "source": [
    "new_list = [1,2,3,4]\n",
    "id(new_list)"
   ]
  },
  {
   "cell_type": "code",
   "execution_count": 49,
   "id": "cosmetic-wayne",
   "metadata": {},
   "outputs": [],
   "source": [
    "def dodaj_element(seznam, element):\n",
    "    seznam.append(element)\n",
    "    return seznam"
   ]
  },
  {
   "cell_type": "code",
   "execution_count": 52,
   "id": "offshore-election",
   "metadata": {},
   "outputs": [
    {
     "data": {
      "text/plain": [
       "[1, 2, 3, 4, 5]"
      ]
     },
     "execution_count": 52,
     "metadata": {},
     "output_type": "execute_result"
    }
   ],
   "source": [
    "novi_list = dodaj_element(new_list, 5)\n",
    "novi_list"
   ]
  },
  {
   "cell_type": "code",
   "execution_count": 53,
   "id": "apparent-missile",
   "metadata": {},
   "outputs": [
    {
     "data": {
      "text/plain": [
       "140329415711104"
      ]
     },
     "execution_count": 53,
     "metadata": {},
     "output_type": "execute_result"
    }
   ],
   "source": [
    "id(novi_list)"
   ]
  },
  {
   "cell_type": "code",
   "execution_count": 56,
   "id": "north-bunch",
   "metadata": {},
   "outputs": [],
   "source": [
    "def prikazi_idje_objektov(moj_objekt):\n",
    "    for element in moj_objekt:\n",
    "        print(f\"{element} -> ID: {id(element)}\")"
   ]
  },
  {
   "cell_type": "code",
   "execution_count": 54,
   "id": "ranking-cornell",
   "metadata": {},
   "outputs": [],
   "source": [
    "new_list = [1, 2,3, (\"a\", \"b\"), [4,5,6]]\n",
    "\n",
    "def dodaj_element(seznam, element):\n",
    "    seznam.append(element)\n",
    "    return seznam"
   ]
  },
  {
   "cell_type": "code",
   "execution_count": 55,
   "id": "favorite-quarterly",
   "metadata": {},
   "outputs": [
    {
     "data": {
      "text/plain": [
       "140329413825792"
      ]
     },
     "execution_count": 55,
     "metadata": {},
     "output_type": "execute_result"
    }
   ],
   "source": [
    "id(new_list)"
   ]
  },
  {
   "cell_type": "code",
   "execution_count": 57,
   "id": "noticed-fancy",
   "metadata": {},
   "outputs": [
    {
     "name": "stdout",
     "output_type": "stream",
     "text": [
      "1 -> ID: 140329768646960\n",
      "2 -> ID: 140329768646992\n",
      "3 -> ID: 140329768647024\n",
      "('a', 'b') -> ID: 140329414693696\n",
      "[4, 5, 6] -> ID: 140329413697920\n"
     ]
    }
   ],
   "source": [
    "prikazi_idje_objektov(new_list)"
   ]
  },
  {
   "cell_type": "code",
   "execution_count": null,
   "id": "fluid-activity",
   "metadata": {},
   "outputs": [],
   "source": []
  },
  {
   "cell_type": "code",
   "execution_count": 59,
   "id": "early-action",
   "metadata": {},
   "outputs": [
    {
     "data": {
      "text/plain": [
       "140329415410496"
      ]
     },
     "execution_count": 59,
     "metadata": {},
     "output_type": "execute_result"
    }
   ],
   "source": [
    "novi_list = list(new_list)\n",
    "id(novi_list)"
   ]
  },
  {
   "cell_type": "code",
   "execution_count": 60,
   "id": "activated-width",
   "metadata": {},
   "outputs": [
    {
     "name": "stdout",
     "output_type": "stream",
     "text": [
      "1 -> ID: 140329768646960\n",
      "2 -> ID: 140329768646992\n",
      "3 -> ID: 140329768647024\n",
      "('a', 'b') -> ID: 140329414693696\n",
      "[4, 5, 6] -> ID: 140329413697920\n"
     ]
    }
   ],
   "source": [
    "prikazi_idje_objektov(novi_list)"
   ]
  },
  {
   "cell_type": "code",
   "execution_count": 63,
   "id": "bound-intermediate",
   "metadata": {},
   "outputs": [
    {
     "data": {
      "text/plain": [
       "140329768647088"
      ]
     },
     "execution_count": 63,
     "metadata": {},
     "output_type": "execute_result"
    }
   ],
   "source": [
    "id(novi_list[4][1])"
   ]
  },
  {
   "cell_type": "code",
   "execution_count": 61,
   "id": "temporal-browse",
   "metadata": {},
   "outputs": [],
   "source": [
    "import copy\n",
    "\n",
    "najnovejsilist= copy.deepcopy(new_list)"
   ]
  },
  {
   "cell_type": "code",
   "execution_count": 62,
   "id": "violent-latter",
   "metadata": {},
   "outputs": [
    {
     "name": "stdout",
     "output_type": "stream",
     "text": [
      "1 -> ID: 140329768646960\n",
      "2 -> ID: 140329768646992\n",
      "3 -> ID: 140329768647024\n",
      "('a', 'b') -> ID: 140329414693696\n",
      "[4, 5, 6] -> ID: 140329413243328\n"
     ]
    }
   ],
   "source": [
    "prikazi_idje_objektov(najnovejsilist)"
   ]
  },
  {
   "cell_type": "code",
   "execution_count": null,
   "id": "surprised-commerce",
   "metadata": {},
   "outputs": [],
   "source": [
    "new_list.copy()"
   ]
  },
  {
   "cell_type": "markdown",
   "id": "adverse-force",
   "metadata": {},
   "source": [
    "# Objektno programiranje"
   ]
  },
  {
   "cell_type": "code",
   "execution_count": 64,
   "id": "scheduled-superintendent",
   "metadata": {},
   "outputs": [],
   "source": [
    "class MojPrviRazred:\n",
    "    pass"
   ]
  },
  {
   "cell_type": "code",
   "execution_count": 65,
   "id": "supposed-tolerance",
   "metadata": {},
   "outputs": [],
   "source": [
    "moj_prvi_objekt = MojPrviRazred()"
   ]
  },
  {
   "cell_type": "code",
   "execution_count": 67,
   "id": "local-design",
   "metadata": {},
   "outputs": [
    {
     "data": {
      "text/plain": [
       "__main__.MojPrviRazred"
      ]
     },
     "execution_count": 67,
     "metadata": {},
     "output_type": "execute_result"
    }
   ],
   "source": [
    "type(moj_prvi_objekt)"
   ]
  },
  {
   "cell_type": "code",
   "execution_count": 68,
   "id": "existing-bolivia",
   "metadata": {},
   "outputs": [],
   "source": [
    "moj_prvi_objekt2 = MojPrviRazred()"
   ]
  },
  {
   "cell_type": "code",
   "execution_count": 69,
   "id": "received-apache",
   "metadata": {},
   "outputs": [
    {
     "data": {
      "text/plain": [
       "__main__.MojPrviRazred"
      ]
     },
     "execution_count": 69,
     "metadata": {},
     "output_type": "execute_result"
    }
   ],
   "source": [
    "type(moj_prvi_objekt)"
   ]
  },
  {
   "cell_type": "markdown",
   "id": "quiet-lightweight",
   "metadata": {},
   "source": [
    "### Stack (sklad)"
   ]
  },
  {
   "cell_type": "code",
   "execution_count": 75,
   "id": "regulated-iceland",
   "metadata": {},
   "outputs": [],
   "source": [
    "stack = []\n",
    "\n",
    "def push(val):\n",
    "    stack.append(val)\n",
    "\n",
    "def pop():\n",
    "    last_value = stack[-1]\n",
    "    del stack[-1]\n",
    "    return last_value"
   ]
  },
  {
   "cell_type": "code",
   "execution_count": 76,
   "id": "political-raleigh",
   "metadata": {},
   "outputs": [],
   "source": [
    "push(3)"
   ]
  },
  {
   "cell_type": "code",
   "execution_count": 77,
   "id": "funky-thesaurus",
   "metadata": {},
   "outputs": [],
   "source": [
    "push(2)"
   ]
  },
  {
   "cell_type": "code",
   "execution_count": 78,
   "id": "destroyed-wesley",
   "metadata": {},
   "outputs": [
    {
     "name": "stdout",
     "output_type": "stream",
     "text": [
      "[3, 2]\n"
     ]
    }
   ],
   "source": [
    "print(stack)"
   ]
  },
  {
   "cell_type": "code",
   "execution_count": 79,
   "id": "enhanced-printing",
   "metadata": {},
   "outputs": [
    {
     "name": "stdout",
     "output_type": "stream",
     "text": [
      "2\n"
     ]
    }
   ],
   "source": [
    "print(pop())"
   ]
  },
  {
   "cell_type": "code",
   "execution_count": null,
   "id": "removed-lindsay",
   "metadata": {},
   "outputs": [],
   "source": []
  },
  {
   "cell_type": "code",
   "execution_count": null,
   "id": "boxed-solid",
   "metadata": {},
   "outputs": [],
   "source": []
  },
  {
   "cell_type": "code",
   "execution_count": null,
   "id": "exterior-booth",
   "metadata": {},
   "outputs": [],
   "source": []
  },
  {
   "cell_type": "code",
   "execution_count": 117,
   "id": "corporate-thirty",
   "metadata": {},
   "outputs": [],
   "source": [
    "class Stack:\n",
    "    def __init__(self):\n",
    "        self.__stack_list = []\n",
    "        \n",
    "    def __len__(self): # dunder methods\n",
    "        \"\"\"Vrne dolžino objeka.\"\"\"\n",
    "        return len(self.__stack_list)\n",
    "        \n",
    "    def prikazi(self):\n",
    "        for el in reversed(self.__stack_list):\n",
    "            print(f\"--> {el}\")\n",
    "     \n",
    "    def push(self, val):\n",
    "        self.__stack_list.append(val)\n",
    "    \n",
    "    def pop(self):\n",
    "        last_value = self.__stack_list[-1]\n",
    "        del self.__stack_list[-1]\n",
    "        return last_value"
   ]
  },
  {
   "cell_type": "code",
   "execution_count": 118,
   "id": "important-assist",
   "metadata": {},
   "outputs": [
    {
     "name": "stdout",
     "output_type": "stream",
     "text": [
      "--> 67\n",
      "--> 6\n",
      "--> 34\n"
     ]
    }
   ],
   "source": [
    "moj_sklad = Stack()\n",
    "moj_sklad.push(34)\n",
    "moj_sklad.push(6)\n",
    "moj_sklad.push(67)\n",
    "moj_sklad.prikazi()"
   ]
  },
  {
   "cell_type": "code",
   "execution_count": null,
   "id": "broke-development",
   "metadata": {},
   "outputs": [],
   "source": [
    "#"
   ]
  },
  {
   "cell_type": "code",
   "execution_count": 119,
   "id": "smooth-honey",
   "metadata": {},
   "outputs": [
    {
     "data": {
      "text/plain": [
       "67"
      ]
     },
     "execution_count": 119,
     "metadata": {},
     "output_type": "execute_result"
    }
   ],
   "source": [
    "moj_sklad.pop()"
   ]
  },
  {
   "cell_type": "code",
   "execution_count": 120,
   "id": "future-maryland",
   "metadata": {},
   "outputs": [
    {
     "data": {
      "text/plain": [
       "2"
      ]
     },
     "execution_count": 120,
     "metadata": {},
     "output_type": "execute_result"
    }
   ],
   "source": [
    "len(moj_sklad)"
   ]
  },
  {
   "cell_type": "code",
   "execution_count": 121,
   "id": "utility-branch",
   "metadata": {},
   "outputs": [],
   "source": [
    "sklad2 = Stack()\n",
    "sklad2.push(45)\n",
    "sklad2.push(34)"
   ]
  },
  {
   "cell_type": "code",
   "execution_count": 122,
   "id": "broad-destination",
   "metadata": {},
   "outputs": [
    {
     "name": "stdout",
     "output_type": "stream",
     "text": [
      "--> 34\n",
      "--> 45\n"
     ]
    }
   ],
   "source": [
    "sklad2.prikazi()"
   ]
  },
  {
   "cell_type": "markdown",
   "id": "laden-newton",
   "metadata": {},
   "source": [
    "### Pravokotnik"
   ]
  },
  {
   "cell_type": "code",
   "execution_count": 127,
   "id": "preliminary-planning",
   "metadata": {},
   "outputs": [],
   "source": [
    "class Pravokotnik:\n",
    "    def __init__(self, dolzina, sirina):\n",
    "        self.dolzina = dolzina\n",
    "        self.sirina = sirina\n",
    "        \n",
    "    def povrsina(self):\n",
    "        return self.dolzina * self.sirina\n",
    "        \n",
    "    def obseg(self):\n",
    "        return self.dolzina*2 + self.sirina*2"
   ]
  },
  {
   "cell_type": "code",
   "execution_count": 128,
   "id": "gorgeous-frame",
   "metadata": {},
   "outputs": [],
   "source": [
    "pravokotnik1 = Pravokotnik(8,2)"
   ]
  },
  {
   "cell_type": "code",
   "execution_count": 129,
   "id": "fatal-cedar",
   "metadata": {},
   "outputs": [
    {
     "data": {
      "text/plain": [
       "8"
      ]
     },
     "execution_count": 129,
     "metadata": {},
     "output_type": "execute_result"
    }
   ],
   "source": [
    "pravokotnik1.dolzina"
   ]
  },
  {
   "cell_type": "code",
   "execution_count": 130,
   "id": "abroad-anatomy",
   "metadata": {},
   "outputs": [
    {
     "data": {
      "text/plain": [
       "16"
      ]
     },
     "execution_count": 130,
     "metadata": {},
     "output_type": "execute_result"
    }
   ],
   "source": [
    "pravokotnik1.povrsina()"
   ]
  },
  {
   "cell_type": "code",
   "execution_count": 131,
   "id": "perfect-pleasure",
   "metadata": {},
   "outputs": [
    {
     "data": {
      "text/plain": [
       "20"
      ]
     },
     "execution_count": 131,
     "metadata": {},
     "output_type": "execute_result"
    }
   ],
   "source": [
    "pravokotnik1.obseg()"
   ]
  },
  {
   "cell_type": "markdown",
   "id": "immune-march",
   "metadata": {},
   "source": [
    "### Notebook"
   ]
  },
  {
   "cell_type": "code",
   "execution_count": 132,
   "id": "expanded-wyoming",
   "metadata": {},
   "outputs": [],
   "source": [
    "class Note:\n",
    "    def __init__(self, note_id, text, tags=\"\"):\n",
    "        self.note_id = note_id\n",
    "        self.text = text\n",
    "        self.tags = tags\n",
    "    \n",
    "    def match(self, string_filter):\n",
    "        return string_filter in self.text or string_filter in self.tags"
   ]
  },
  {
   "cell_type": "code",
   "execution_count": 134,
   "id": "conditional-basic",
   "metadata": {},
   "outputs": [],
   "source": [
    "n1 = Note(1, \"hello first\", \"hello\")\n",
    "n2 = Note(2, \"hello second\", \"hello\")"
   ]
  },
  {
   "cell_type": "code",
   "execution_count": 135,
   "id": "helpful-declaration",
   "metadata": {},
   "outputs": [
    {
     "data": {
      "text/plain": [
       "1"
      ]
     },
     "execution_count": 135,
     "metadata": {},
     "output_type": "execute_result"
    }
   ],
   "source": [
    "n1.note_id"
   ]
  },
  {
   "cell_type": "code",
   "execution_count": 136,
   "id": "becoming-background",
   "metadata": {},
   "outputs": [
    {
     "data": {
      "text/plain": [
       "2"
      ]
     },
     "execution_count": 136,
     "metadata": {},
     "output_type": "execute_result"
    }
   ],
   "source": [
    "n2.note_id"
   ]
  },
  {
   "cell_type": "code",
   "execution_count": 137,
   "id": "headed-morrison",
   "metadata": {},
   "outputs": [
    {
     "data": {
      "text/plain": [
       "False"
      ]
     },
     "execution_count": 137,
     "metadata": {},
     "output_type": "execute_result"
    }
   ],
   "source": [
    "n1.match(\"zivjo\")"
   ]
  },
  {
   "cell_type": "markdown",
   "id": "intermediate-announcement",
   "metadata": {},
   "source": [
    "n1.match(\"first\")"
   ]
  },
  {
   "cell_type": "code",
   "execution_count": 154,
   "id": "grateful-woman",
   "metadata": {},
   "outputs": [],
   "source": [
    "class Notebook:\n",
    "    def __init__(self):\n",
    "        \"\"\"Initialize a notebook with an empty list.\"\"\"\n",
    "        self.notes = []\n",
    "        self._last_id = 1\n",
    "        \n",
    "    def new_note(self, text, tags=\"\"):\n",
    "        \"\"\"Create a new note and add it to the list.\"\"\"\n",
    "        self.notes.append(Note(self._last_id, text, tags))\n",
    "        self._last_id += 1\n",
    "        \n",
    "    def modify_text(self, note_id, text):\n",
    "        \"\"\"Find the note with the given id and change its\n",
    "        memo to the given value.\"\"\"\n",
    "        note = self.__find_note(note_id)\n",
    "        if note:\n",
    "            note.text = text\n",
    "            return True\n",
    "        return False\n",
    "        \n",
    "    def modify_tags(self, note_id, tags):\n",
    "        \"\"\"Find the note with the given id and change its\n",
    "        tags to the given value.\"\"\"\n",
    "        note = self.__find_note(note_id)\n",
    "        if note:\n",
    "            note.tags = tags\n",
    "            return True\n",
    "        return False\n",
    "        \n",
    "    def search(self, filter_string):\n",
    "        \"\"\"Find all notes that match the given filter\n",
    "        string.\"\"\"\n",
    "        return [note for note in self.notes if note.match(filter_string)]\n",
    "\n",
    "    def __find_note(self, note_id):\n",
    "        \"\"\"Locate the note with the given id.\"\"\"\n",
    "        for note in self.notes:\n",
    "            if str(note.note_id) == str(note_id):\n",
    "                return note\n",
    "        return None"
   ]
  },
  {
   "cell_type": "code",
   "execution_count": null,
   "id": "incident-physics",
   "metadata": {},
   "outputs": [],
   "source": []
  },
  {
   "cell_type": "code",
   "execution_count": 155,
   "id": "dominant-region",
   "metadata": {},
   "outputs": [],
   "source": [
    "n = Notebook()\n",
    "n.new_note(\"first note\", \"first\")\n",
    "n.new_note(\"second note\", \"sevond\")"
   ]
  },
  {
   "cell_type": "code",
   "execution_count": 156,
   "id": "sunset-independence",
   "metadata": {},
   "outputs": [
    {
     "data": {
      "text/plain": [
       "'first note'"
      ]
     },
     "execution_count": 156,
     "metadata": {},
     "output_type": "execute_result"
    }
   ],
   "source": [
    "n.notes[0].text"
   ]
  },
  {
   "cell_type": "code",
   "execution_count": 157,
   "id": "palestinian-hospital",
   "metadata": {},
   "outputs": [
    {
     "data": {
      "text/plain": [
       "[<__main__.Note at 0x7fa0fcfecbe0>]"
      ]
     },
     "execution_count": 157,
     "metadata": {},
     "output_type": "execute_result"
    }
   ],
   "source": [
    "n.search(\"first\")"
   ]
  },
  {
   "cell_type": "code",
   "execution_count": 158,
   "id": "prerequisite-annex",
   "metadata": {},
   "outputs": [
    {
     "data": {
      "text/plain": [
       "[<__main__.Note at 0x7fa0fcfecbe0>, <__main__.Note at 0x7fa0fca76c10>]"
      ]
     },
     "execution_count": 158,
     "metadata": {},
     "output_type": "execute_result"
    }
   ],
   "source": [
    "n.search(\"note\")"
   ]
  },
  {
   "cell_type": "code",
   "execution_count": 159,
   "id": "alternate-territory",
   "metadata": {},
   "outputs": [
    {
     "data": {
      "text/plain": [
       "True"
      ]
     },
     "execution_count": 159,
     "metadata": {},
     "output_type": "execute_result"
    }
   ],
   "source": [
    "n.modify_text(1, \"world\")"
   ]
  },
  {
   "cell_type": "code",
   "execution_count": 160,
   "id": "psychological-jaguar",
   "metadata": {},
   "outputs": [
    {
     "data": {
      "text/plain": [
       "'world'"
      ]
     },
     "execution_count": 160,
     "metadata": {},
     "output_type": "execute_result"
    }
   ],
   "source": [
    "n.notes[0].text"
   ]
  },
  {
   "cell_type": "code",
   "execution_count": null,
   "id": "eleven-damage",
   "metadata": {},
   "outputs": [],
   "source": []
  },
  {
   "cell_type": "code",
   "execution_count": null,
   "id": "initial-intelligence",
   "metadata": {},
   "outputs": [],
   "source": []
  }
 ],
 "metadata": {
  "kernelspec": {
   "display_name": "Python 3",
   "language": "python",
   "name": "python3"
  },
  "language_info": {
   "codemirror_mode": {
    "name": "ipython",
    "version": 3
   },
   "file_extension": ".py",
   "mimetype": "text/x-python",
   "name": "python",
   "nbconvert_exporter": "python",
   "pygments_lexer": "ipython3",
   "version": "3.9.1"
  }
 },
 "nbformat": 4,
 "nbformat_minor": 5
}
