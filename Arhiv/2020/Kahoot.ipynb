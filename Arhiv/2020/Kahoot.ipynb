{
 "cells": [
  {
   "cell_type": "markdown",
   "metadata": {},
   "source": [
    "# Kahoot\n",
    "Vprašanja in odgovori\n",
    "\n",
    "<span style=\"color:purple\">_**Za odgovore, najprej poženite spodnjo celico!**_</span>\n",
    "\n",
    "<span style=\"color:purple\">_**Pod vsakim vprašanjem je vrstica, ki jo lahko zaženete in vam bo podala pravilni odgovor!**_</span>\n",
    "\n",
    "Odgovori so šifrirani, tako da se lahko večkrat preizkusite v reševanju in ne boste podzavestno že videli odgovora."
   ]
  },
  {
   "cell_type": "code",
   "execution_count": 1,
   "metadata": {},
   "outputs": [],
   "source": [
    "# če želite odgovore, najprej poženite to celico\n",
    "def encode_to_hex(data_str):\n",
    "    return data_str.encode().hex()\n",
    "def decode_from_hex(data_hex):\n",
    "    return bytes.fromhex(data_hex).decode(\"utf-8\")\n",
    "answers = {\n",
    "    \"2-1\": \"66226d6f6a20737472696e6722\",\n",
    "    \"2-2\": \"54727565\",\n",
    "    \"2-3\": \"46616c7365\",\n",
    "    \"2-4\": \"5b5d204f676c617465206f6b6c6570616a65\",\n",
    "    \"2-5\": \"33\",\n",
    "    \"2-6\": \"46616c7365\",\n",
    "    \"2-7\": \"646963745f5b2263225d\",\n",
    "    \"2-8\": \"46616c7365\",\n",
    "    \n",
    "    \"3-1\": \"54727565\",\n",
    "    \"3-2\": \"567273746963612c206b69206a65207a616d616b6e6a656e612028696e64656e74656429206d616e6a206b6f74207072656ac5a16e6a612076727374696361\",\n",
    "    \"3-3\": \"312c322c34\",\n",
    "    \"3-4\": \"54727565\",\n",
    "    \"3-5\": \"6e65736b6f6ec48d6e6120697465726163696a61\",\n",
    "    \"3-6\": \"636f7267652c207175782c2062617a2c20446f6e652e\",\n",
    "    \"3-7\": \"54727565\",\n",
    "    \"3-8\": \"666f72207a616e6b61\",\n",
    "    \"3-9\": \"312c322c3131\",\n",
    "    \n",
    "    \"4-1\": \"646566\",\n",
    "    \"4-2\": \"5365206e65207a616b6c6a75c48d692e\",\n",
    "    \"4-3\": \"322031\",\n",
    "    \"4-4\": \"34343232\",\n",
    "    \"4-5\": \"46616c7365\",\n",
    "    \"4-6\": \"54727565\",\n",
    "    \"4-7\": \"687275c5a16b61206a61626f6c6b6f206d616c696e61\",\n",
    "    \n",
    "    \"5-1\": \"6e696d6120696d656e61\",\n",
    "    \"5-2\": \"6c616d626461\",\n",
    "    \"5-3\": \"2d2d2d2d2d3e205a616e696d697661207075c5a1c48d696361\",\n",
    "    \"5-4\": \"46616c7365\",\n",
    "    \"5-5\": \"6b6f2070727669c48d206b6c69c48d656d6f206e6578742829\",\n",
    "    \"5-6\": \"54696d6f74656a2053696d6f6e\",\n",
    "    \"5-7\": \"46616c7365\",\n",
    "    \"5-8\": \"3c636c6173732027736574273e\",\n",
    "    \"5-9\": \"5b312c20322c20375d\",\n",
    "    \"5-10\": \"54727565\",\n",
    "    \n",
    "    \"6-1\": \"636c617373\",\n",
    "    \"6-2\": \"5f5f696e69745f5f\",\n",
    "    \"6-3\": \"507269646520646f204572726f722d6a61\",\n",
    "    \"6-4\": \"73656c662e696d65203d20696d65\",\n",
    "    \"6-5\": \"53656d206176746f2e204d6f6a6520c5a1746576696c6f206b6f6c6573206a6520342e2053656d206d6f746f722e204d6f6a6520c5a1746576696c6f206b6f6c6573206a6520322e20\",\n",
    "    \n",
    "    \"7-1\": \"46616c7365\",\n",
    "    \"7-2\": \"4c6f6769c48d6e65206e6170616b6520284c6f676963616c206572726f727329\",\n",
    "    \"7-3\": \"657863657074\",\n",
    "    \"7-4\": \"4120432046\",\n",
    "    \"7-5\": \"46616c7365\",\n",
    "    \"7-6\": \"7261697365\",\n",
    "    \"7-7\": \"22776222\",\n",
    "    \"7-8\": \"4e61206b6f6e6563206461746f74656b6520646f646120224e6f76612220696e206e6172656469206e6f766f207672737469636f2e\"\n",
    "}"
   ]
  },
  {
   "cell_type": "markdown",
   "metadata": {},
   "source": [
    "## Termin 2"
   ]
  },
  {
   "cell_type": "markdown",
   "metadata": {},
   "source": [
    "1. Kako ustvarimo f-string?\n",
    "\n",
    "<span style=\"color:blue\">\n",
    "\n",
    "> \"moj string\".format()\n",
    "    \n",
    "> f\"moj string\"\n",
    "    \n",
    "> \"moj string %s\" % (str_)\n",
    "    \n",
    "> r\"moj string\"\n",
    "</span>"
   ]
  },
  {
   "cell_type": "code",
   "execution_count": 2,
   "metadata": {},
   "outputs": [],
   "source": [
    "# print(f\"Pravilni odgovor:\\n\\t{decode_from_hex(answers['2-1'])}\")"
   ]
  },
  {
   "cell_type": "markdown",
   "metadata": {},
   "source": [
    "2. Kaj bo vrednost izraza 5>=5 ?\n",
    "\n",
    "<span style=\"color:blue\">\n",
    "\n",
    "> True\n",
    "    \n",
    "> False\n",
    "</span>"
   ]
  },
  {
   "cell_type": "code",
   "execution_count": 3,
   "metadata": {},
   "outputs": [],
   "source": [
    "# print(f\"Pravilni odgovor:\\n\\t{decode_from_hex(answers['2-2'])}\")"
   ]
  },
  {
   "cell_type": "markdown",
   "metadata": {},
   "source": [
    "3. Kaj bo vrednost izraza: True AND False?\n",
    "\n",
    "<span style=\"color:blue\">\n",
    "\n",
    "> True\n",
    "    \n",
    "> False\n",
    "</span>"
   ]
  },
  {
   "cell_type": "code",
   "execution_count": 4,
   "metadata": {},
   "outputs": [],
   "source": [
    "# print(f\"Pravilni odgovor:\\n\\t{decode_from_hex(answers['2-3'])}\")"
   ]
  },
  {
   "cell_type": "markdown",
   "metadata": {},
   "source": [
    "4. Katere oklepaje uporablja za ustvarjanje list-ov?\n",
    "\n",
    "<span style=\"color:blue\">\n",
    "\n",
    "> () Navadne oklepaje\n",
    "    \n",
    "> [] Oglate oklepaje\n",
    "    \n",
    "> {} Zavite oklepaje\n",
    "    \n",
    "> €€ Evre\n",
    "</span>"
   ]
  },
  {
   "cell_type": "code",
   "execution_count": 5,
   "metadata": {},
   "outputs": [],
   "source": [
    "# print(f\"Pravilni odgovor:\\n\\t{decode_from_hex(answers['2-4'])}\")"
   ]
  },
  {
   "cell_type": "markdown",
   "metadata": {},
   "source": [
    "5. Na katerem indexu se nahaja vrednost 5 v listu [1,4,2,5,6] ?\n",
    "\n",
    "<span style=\"color:blue\">\n",
    "\n",
    "> 1\n",
    "    \n",
    "> 2\n",
    "    \n",
    "> 3\n",
    "    \n",
    "> 4\n",
    "</span>"
   ]
  },
  {
   "cell_type": "code",
   "execution_count": 6,
   "metadata": {},
   "outputs": [],
   "source": [
    "# print(f\"Pravilni odgovor:\\n\\t{decode_from_hex(answers['2-5'])}\")"
   ]
  },
  {
   "cell_type": "markdown",
   "metadata": {},
   "source": [
    "6. Ali lahko \"tuple\" spreminjamo (dodajamo elemente, brišemo elemente, itd.)?\n",
    "\n",
    "<span style=\"color:blue\">\n",
    "\n",
    "> True\n",
    "    \n",
    "> False\n",
    "</span>"
   ]
  },
  {
   "cell_type": "code",
   "execution_count": 7,
   "metadata": {},
   "outputs": [],
   "source": [
    "# print(f\"Pravilni odgovor:\\n\\t{decode_from_hex(answers['2-6'])}\")"
   ]
  },
  {
   "cell_type": "markdown",
   "metadata": {},
   "source": [
    "7. Kako bi dostopali do vrednosti 3, v sledečem dictionary?\n",
    "\n",
    "```python\n",
    "dict_ = {\n",
    "    \"a\": 1,\n",
    "    \"b\": 2,\n",
    "    \"c\": 3,\n",
    "    \"d\": 4\n",
    "}\n",
    "```\n",
    "\n",
    "<span style=\"color:blue\">\n",
    "\n",
    "> dict_[\"a\"]\n",
    "\n",
    "> dict_[3]\n",
    "\n",
    "> dict_[\"3\"]\n",
    "\n",
    "> dict_[\"c\"]\n",
    "</span>"
   ]
  },
  {
   "cell_type": "code",
   "execution_count": 8,
   "metadata": {},
   "outputs": [],
   "source": [
    "# print(f\"Pravilni odgovor:\\n\\t{decode_from_hex(answers['2-7'])}\")"
   ]
  },
  {
   "cell_type": "markdown",
   "metadata": {},
   "source": [
    "8. V set-u se lahko pojavljajo podvojene vrednosti?\n",
    "\n",
    "<span style=\"color:blue\">\n",
    "\n",
    "> True\n",
    "    \n",
    "> False\n",
    "</span>"
   ]
  },
  {
   "cell_type": "code",
   "execution_count": 9,
   "metadata": {},
   "outputs": [],
   "source": [
    "# print(f\"Pravilni odgovor:\\n\\t{decode_from_hex(answers['2-8'])}\")"
   ]
  },
  {
   "cell_type": "markdown",
   "metadata": {},
   "source": [
    "## Termin 3"
   ]
  },
  {
   "cell_type": "markdown",
   "metadata": {},
   "source": [
    "1. Ali se bo spodnja koda izvedla uspešno?\n",
    "\n",
    "```python\n",
    "if (1, 2):\n",
    "    print(\"foo\")\n",
    "```\n",
    "\n",
    "<span style=\"color:blue\">\n",
    "\n",
    "> True\n",
    "    \n",
    "> False\n",
    "</span>"
   ]
  },
  {
   "cell_type": "code",
   "execution_count": 10,
   "metadata": {},
   "outputs": [],
   "source": [
    "# print(f\"Pravilni odgovor:\\n\\t{decode_from_hex(answers['3-1'])}\")"
   ]
  },
  {
   "cell_type": "markdown",
   "metadata": {},
   "source": [
    "2. Kaj predstavlja konec bloka kode v Pythonu?\n",
    "\n",
    "<span style=\"color:blue\">\n",
    "\n",
    "> end\n",
    "    \n",
    "> komentar\n",
    "\n",
    "> }\n",
    "\n",
    "> Vrstica, ki je zamaknjena (indented) manj kot prejšnja vrstica\n",
    "</span>"
   ]
  },
  {
   "cell_type": "code",
   "execution_count": 11,
   "metadata": {},
   "outputs": [],
   "source": [
    "# print(f\"Pravilni odgovor:\\n\\t{decode_from_hex(answers['3-2'])}\")"
   ]
  },
  {
   "cell_type": "markdown",
   "metadata": {},
   "source": [
    "3. Katere številke izpiše spodnja koda?\n",
    "\n",
    "```python\n",
    "if \"bar\" in {\"foo\": 1, \"bar\": 2, \"baz\": 3}:\n",
    "    print(1)\n",
    "    print(2)\n",
    "    if 'a' in \"qux\":\n",
    "        print(3)\n",
    "    print(4)\n",
    "```\n",
    "\n",
    "<span style=\"color:blue\">\n",
    "    \n",
    "> 4\n",
    "    \n",
    "> 1,2,3,4\n",
    "\n",
    "> 1,2,4\n",
    "\n",
    "> ne izpiše ničesar\n",
    "</span>"
   ]
  },
  {
   "cell_type": "code",
   "execution_count": 12,
   "metadata": {},
   "outputs": [],
   "source": [
    "# print(f\"Pravilni odgovor:\\n\\t{decode_from_hex(answers['3-3'])}\")"
   ]
  },
  {
   "cell_type": "markdown",
   "metadata": {},
   "source": [
    "4. Ali se bo koda zagnala uspešno? (brez napake)\n",
    "\n",
    "```python\n",
    "d = {'a': 0, 'b': 1, 'c': 0}\n",
    "\n",
    "if d['a'] > 0:\n",
    "    print(\"ok\")\n",
    "elif d['b'] > 0:\n",
    "    print(\"ok\")\n",
    "elif d['c'] > 0:\n",
    "    print(\"ok\")\n",
    "elif d['d'] > 0:\n",
    "    print(\"ok\")\n",
    "else:\n",
    "    print(\"not ok\")\n",
    "```\n",
    "\n",
    "<span style=\"color:blue\">\n",
    "\n",
    "> dict_[\"a\"]\n",
    "    \n",
    "> dict_[3]\n",
    "    \n",
    "> dict_[\"3\"]\n",
    "    \n",
    "> dict_[\"c\"]\n",
    "</span>"
   ]
  },
  {
   "cell_type": "code",
   "execution_count": 13,
   "metadata": {},
   "outputs": [],
   "source": [
    "# print(f\"Pravilni odgovor:\\n\\t{decode_from_hex(answers['3-4'])}\")"
   ]
  },
  {
   "cell_type": "markdown",
   "metadata": {},
   "source": [
    "5. Za kateri tip iteracije uporabljamo v Python-u while zanko?\n",
    "\n",
    "<span style=\"color:blue\">\n",
    "\n",
    "> končna iteracija\n",
    "\n",
    "> neskončna iteracija\n",
    "    \n",
    "> diskriminantna iteracija\n",
    "    \n",
    "> indeterminantna iteracija\n",
    "</span>"
   ]
  },
  {
   "cell_type": "code",
   "execution_count": 14,
   "metadata": {},
   "outputs": [],
   "source": [
    "# print(f\"Pravilni odgovor:\\n\\t{decode_from_hex(answers['3-5'])}\")"
   ]
  },
  {
   "cell_type": "markdown",
   "metadata": {},
   "source": [
    "6. Kaj bo rezultat spodnje kode?\n",
    "\n",
    "```python\n",
    "a = [\"foo\", \"bar\", \"baz\", \"qux\", \"corge\"]\n",
    "while a:\n",
    "    if len(a) < 3:\n",
    "        break\n",
    "    print(a.pop())\n",
    "print(\"Done.\")\n",
    "```  \n",
    "\n",
    "<span style=\"color:blue\">\n",
    "\n",
    "> corge, qux, baz, Done.\n",
    "    \n",
    "> ne generira izpisa\n",
    "    \n",
    "> corge, qux, baz\n",
    "    \n",
    "> corge, qux, baz, bar, foo, Done.\n",
    "</span>"
   ]
  },
  {
   "cell_type": "code",
   "execution_count": 15,
   "metadata": {},
   "outputs": [],
   "source": [
    "# print(f\"Pravilni odgovor:\\n\\t{decode_from_hex(answers['3-6'])}\")"
   ]
  },
  {
   "cell_type": "markdown",
   "metadata": {},
   "source": [
    "7. Ali spodnja koda ustvari neskončno zanko? \n",
    "\n",
    "```python\n",
    "a = [\"foo\", \"bar\", \"baz\", \"qux\", \"corge\"]\n",
    "while a:\n",
    "    ...\n",
    "```\n",
    "<span style=\"color:blue\">\n",
    "\n",
    "> True\n",
    "    \n",
    "> False\n",
    "</span>"
   ]
  },
  {
   "cell_type": "code",
   "execution_count": 16,
   "metadata": {},
   "outputs": [],
   "source": [
    "# print(f\"Pravilni odgovor:\\n\\t{decode_from_hex(answers['3-7'])}\")"
   ]
  },
  {
   "cell_type": "markdown",
   "metadata": {},
   "source": [
    "8. Kako se najlažje sprehodimo skozi elemente lista?\n",
    "\n",
    "<span style=\"color:blue\">\n",
    "\n",
    "> for zanka\n",
    "    \n",
    "> while zanka\n",
    "    \n",
    "> if zanka\n",
    "    \n",
    "> switch zanka\n",
    "</span>"
   ]
  },
  {
   "cell_type": "code",
   "execution_count": 17,
   "metadata": {},
   "outputs": [],
   "source": [
    "# print(f\"Pravilni odgovor:\\n\\t{decode_from_hex(answers['3-8'])}\")"
   ]
  },
  {
   "cell_type": "markdown",
   "metadata": {},
   "source": [
    "9. Kaj bo izpis spodnje kode?\n",
    "\n",
    "```python\n",
    "for x in range(1,3):    #line 1\n",
    "    print(x)            #line 2\n",
    "                        #line 3\n",
    "print(5+2*3)            #line 4\n",
    "```\n",
    "\n",
    "<span style=\"color:blue\">\n",
    "\n",
    "> 1,2,11\n",
    "    \n",
    "> 1,2,21\n",
    "    \n",
    "> 1,2,3,11\n",
    "    \n",
    "> 1,2,3,21\n",
    "</span>"
   ]
  },
  {
   "cell_type": "code",
   "execution_count": 18,
   "metadata": {},
   "outputs": [],
   "source": [
    "# print(f\"Pravilni odgovor:\\n\\t{decode_from_hex(answers['3-9'])}\")"
   ]
  },
  {
   "cell_type": "markdown",
   "metadata": {},
   "source": [
    "# Termin 4"
   ]
  },
  {
   "cell_type": "markdown",
   "metadata": {},
   "source": [
    "1. S katerim keyword-om definiramo funkcijo?\n",
    "\n",
    "<span style=\"color:blue\">\n",
    "\n",
    "> fun\n",
    "    \n",
    "> function\n",
    "    \n",
    "> def\n",
    "    \n",
    "> loop\n",
    "</span>"
   ]
  },
  {
   "cell_type": "code",
   "execution_count": 19,
   "metadata": {},
   "outputs": [],
   "source": [
    "# print(f\"Pravilni odgovor:\\n\\t{decode_from_hex(answers['4-1'])}\")"
   ]
  },
  {
   "cell_type": "markdown",
   "metadata": {},
   "source": [
    "2. Kaj se zgodi z navedeno kodo?\n",
    "\n",
    "```python\n",
    "def fun_1(niz):\n",
    "    return True\n",
    "\n",
    "def fun_3(niz):\n",
    "    fun_2(niz)\n",
    "\n",
    "def fun_9(niz):\n",
    "    fun_3(niz)\n",
    "\n",
    "def fun_2(niz):\n",
    "    fun_9(niz)\n",
    "\n",
    "def fun_5(niz):\n",
    "    retur False\n",
    "\n",
    "print(fun_3(\"Ponedeljek))    \n",
    "```\n",
    "\n",
    "<span style=\"color:blue\">\n",
    "\n",
    "> Izpiše \"True\"\n",
    "\n",
    "> Izpiše \"False\"\n",
    "\n",
    "> Se ne zaključi.\n",
    "\n",
    "> Izpiše \"Ponedeljek\"\n",
    "</span>"
   ]
  },
  {
   "cell_type": "code",
   "execution_count": 20,
   "metadata": {},
   "outputs": [],
   "source": [
    "# print(f\"Pravilni odgovor:\\n\\t{decode_from_hex(answers['4-2'])}\")"
   ]
  },
  {
   "cell_type": "markdown",
   "metadata": {},
   "source": [
    "3. Kaj izpiše navedena koda?\n",
    "\n",
    "```python\n",
    "def neka_funkcija(a,b):\n",
    "    druga_funkcija(b,a)\n",
    "\n",
    "def druga_funkcija(a,b):\n",
    "    print(a,b)\n",
    "\n",
    "neka_funkcija(1,2)\n",
    "```\n",
    "\n",
    "<span style=\"color:blue\">\n",
    "    \n",
    "> 1 1\n",
    "\n",
    "> 1 2\n",
    "\n",
    "> 2 1\n",
    "\n",
    "> 2 2\n",
    "</span>"
   ]
  },
  {
   "cell_type": "code",
   "execution_count": 21,
   "metadata": {},
   "outputs": [],
   "source": [
    "# print(f\"Pravilni odgovor:\\n\\t{decode_from_hex(answers['4-3'])}\")"
   ]
  },
  {
   "cell_type": "markdown",
   "metadata": {},
   "source": [
    "4. Kaj izpiše navedena koda?\n",
    "\n",
    "```python\n",
    "def fun_to_return(number):\n",
    "    if number > 10:\n",
    "        print(1,end=\"\")\n",
    "    elif number > 7:\n",
    "        print(2,end=\"\")\n",
    "    elif number > 9:\n",
    "        print(3,end=\"\")\n",
    "    elif number > 5:\n",
    "        print(4,end=\"\")\n",
    "\n",
    "num = 5\n",
    "while num < 10:\n",
    "    fun_to_return(num)\n",
    "    num += 1\n",
    "```\n",
    "\n",
    "<span style=\"color:blue\">\n",
    "\n",
    "> 4142\n",
    "\n",
    "> 4223\n",
    "\n",
    "> 4422\n",
    "\n",
    "> 2144\n",
    "</span>"
   ]
  },
  {
   "cell_type": "code",
   "execution_count": 22,
   "metadata": {},
   "outputs": [],
   "source": [
    "# print(f\"Pravilni odgovor:\\n\\t{decode_from_hex(answers['4-4'])}\")"
   ]
  },
  {
   "cell_type": "markdown",
   "metadata": {},
   "source": [
    "5. Navedena koda je napisana pravilno.\n",
    "\n",
    "```python\n",
    "def neka_funkcija(a = 10, b):\n",
    "    return a*b\n",
    "\n",
    "print(neka_funkcija(b = 3))\n",
    "```\n",
    "\n",
    "<span style=\"color:blue\">\n",
    "\n",
    "> True\n",
    "\n",
    "> False\n",
    "</span>"
   ]
  },
  {
   "cell_type": "code",
   "execution_count": 23,
   "metadata": {},
   "outputs": [],
   "source": [
    "# print(f\"Pravilni odgovor:\\n\\t{decode_from_hex(answers['4-5'])}\")"
   ]
  },
  {
   "cell_type": "markdown",
   "metadata": {},
   "source": [
    "6. V eni funkciji je lahko zapisanih več \"return\" izrazov.\n",
    "\n",
    "<span style=\"color:blue\">\n",
    "\n",
    "> True\n",
    "\n",
    "> False\n",
    "</span>"
   ]
  },
  {
   "cell_type": "code",
   "execution_count": 24,
   "metadata": {},
   "outputs": [],
   "source": [
    "# print(f\"Pravilni odgovor:\\n\\t{decode_from_hex(answers['4-6'])}\")"
   ]
  },
  {
   "cell_type": "markdown",
   "metadata": {},
   "source": [
    "7. Kaj izpiše navedena koda?\n",
    "\n",
    "```python\n",
    "def to_print(niz = \"jabolko\"):\n",
    "    print(f\"{niz}\", end=\" \")\n",
    "\n",
    "to_print(\"hruška\")\n",
    "to_print()\n",
    "to_print(\"malina\")\n",
    "```\n",
    "\n",
    "<span style=\"color:blue\">\n",
    "\n",
    "> hruška malina\n",
    "\n",
    "> malina jabolko hruška\n",
    "\n",
    "> hruška jabolko malina\n",
    "\n",
    "> hruškamalina\n",
    "</span>"
   ]
  },
  {
   "cell_type": "code",
   "execution_count": 25,
   "metadata": {},
   "outputs": [],
   "source": [
    "# print(f\"Pravilni odgovor:\\n\\t{decode_from_hex(answers['4-7'])}\")"
   ]
  },
  {
   "cell_type": "markdown",
   "metadata": {},
   "source": [
    "# Termin 5"
   ]
  },
  {
   "cell_type": "markdown",
   "metadata": {},
   "source": [
    "1. Kaj pomeni, da je funkcija anonimna?\n",
    "\n",
    "<span style=\"color:blue\">\n",
    "\n",
    "> nima imena\n",
    "\n",
    "> nima pasuša\n",
    "\n",
    "> njena koda je posebej šifrirana\n",
    "\n",
    "> vidna je samo programerju, ki jo je napisal\n",
    "</span>"
   ]
  },
  {
   "cell_type": "code",
   "execution_count": 26,
   "metadata": {},
   "outputs": [],
   "source": [
    "# print(f\"Pravilni odgovor:\\n\\t{decode_from_hex(answers['5-1'])}\")"
   ]
  },
  {
   "cell_type": "markdown",
   "metadata": {},
   "source": [
    "2. Kateri keyword se uporablja, da definiramo anonimno funkcijo?\n",
    "\n",
    "<span style=\"color:blue\">\n",
    "\n",
    "> def\n",
    "\n",
    "> lambda\n",
    "\n",
    "> lamba\n",
    "\n",
    "> anonymous\n",
    "</span>"
   ]
  },
  {
   "cell_type": "code",
   "execution_count": 27,
   "metadata": {},
   "outputs": [],
   "source": [
    "# print(f\"Pravilni odgovor:\\n\\t{decode_from_hex(answers['5-2'])}\")"
   ]
  },
  {
   "cell_type": "markdown",
   "metadata": {},
   "source": [
    "3. Kaj izpiše spodnja koda?\n",
    "\n",
    "```python\n",
    "def arrow_print(how_many_minuses):\n",
    "    return lambda input_string : print(\"-\" * how_many_minuses + \"> \"+ input_string)\n",
    "\n",
    "new_print = arrow_print(5)\n",
    "new_print(\"Zanimiva puščica\")\n",
    "```\n",
    "\n",
    "<span style=\"color:blue\">\n",
    "\n",
    "> -> Zanimiva puščica\n",
    "\n",
    "> Zanimiva puščica\n",
    "\n",
    "> -5> Zanimiva puščica\n",
    "\n",
    "> -----> Zanimiva puščica\n",
    "</span>"
   ]
  },
  {
   "cell_type": "code",
   "execution_count": 28,
   "metadata": {},
   "outputs": [],
   "source": [
    "# print(f\"Pravilni odgovor:\\n\\t{decode_from_hex(answers['5-3'])}\")"
   ]
  },
  {
   "cell_type": "markdown",
   "metadata": {},
   "source": [
    "4. Keyword return ima enako funkcionalnost kot yield.\n",
    "\n",
    "<span style=\"color:blue\">\n",
    "\n",
    "> True\n",
    "\n",
    "> False\n",
    "</span>"
   ]
  },
  {
   "cell_type": "code",
   "execution_count": 29,
   "metadata": {},
   "outputs": [],
   "source": [
    "# print(f\"Pravilni odgovor:\\n\\t{decode_from_hex(answers['5-4'])}\")"
   ]
  },
  {
   "cell_type": "markdown",
   "metadata": {},
   "source": [
    "5. Kdaj se začne generator funkcija izvajati?\n",
    "\n",
    "<span style=\"color:blue\">\n",
    "\n",
    "> čez nekaj stotink\n",
    "\n",
    "> ko prvič kličemo funkcijo\n",
    "\n",
    "> ko prvič kličemo next()\n",
    "\n",
    "> ko prvič izvedemo print()\n",
    "</span>"
   ]
  },
  {
   "cell_type": "code",
   "execution_count": 30,
   "metadata": {},
   "outputs": [],
   "source": [
    "# print(f\"Pravilni odgovor:\\n\\t{decode_from_hex(answers['5-5'])}\")"
   ]
  },
  {
   "cell_type": "markdown",
   "metadata": {},
   "source": [
    "6. Kaj izpiše spodnja koda?\n",
    "\n",
    "```python\n",
    "ljudje = [(\"Matic\", 10),\n",
    "          (\"Nika\", 20), \n",
    "          (\"Timotej\",34), \n",
    "          (\"Anze\", 63), \n",
    "          (\"Janez\", 3), \n",
    "          (\"Simon\", 23),\n",
    "          (\"Luka\", 16)]\n",
    "def starejsi_ljudje_od(starost, ljudje):\n",
    "    for clovek in ljudje:\n",
    "        if clovek[1] > starost and clovek[0][0] != 'A':\n",
    "            yield clovek\n",
    "        else:\n",
    "            continue\n",
    "vrednost = starejsi_ljudje_od(20,ljudje)\n",
    "print(next(vrednost)[0], end=\" \")\n",
    "print(next(vrednost)[0], end=\"\")\n",
    "```\n",
    "\n",
    "<span style=\"color:blue\">\n",
    "\n",
    "> Timorej Anze\n",
    "\n",
    "> Se ne izvede, zaradi napake\n",
    "\n",
    "> Nika Timotej\n",
    "\n",
    "> Timotej Simon\n",
    "</span>"
   ]
  },
  {
   "cell_type": "code",
   "execution_count": 31,
   "metadata": {},
   "outputs": [],
   "source": [
    "# print(f\"Pravilni odgovor:\\n\\t{decode_from_hex(answers['5-6'])}\")"
   ]
  },
  {
   "cell_type": "markdown",
   "metadata": {},
   "source": [
    "7. Spodnja koda izpiše samo soda števila.\n",
    "\n",
    "```python\n",
    "numbers = [2,56,34,2,7,10,9,8,80,7]\n",
    "print([x for x if numbers in x % 2 == 0])\n",
    "```\n",
    "\n",
    "<span style=\"color:blue\">\n",
    "\n",
    "> True\n",
    "\n",
    "> False\n",
    "</span>"
   ]
  },
  {
   "cell_type": "code",
   "execution_count": 32,
   "metadata": {},
   "outputs": [],
   "source": [
    "# print(f\"Pravilni odgovor:\\n\\t{decode_from_hex(answers['5-7'])}\")"
   ]
  },
  {
   "cell_type": "markdown",
   "metadata": {},
   "source": [
    "8. Kaj izpiše spodnja koda?\n",
    "\n",
    "```python\n",
    "nekaj = {x**2 for x in range(5)}\n",
    "print(type(nekaj))\n",
    "```\n",
    "\n",
    "<span style=\"color:blue\">\n",
    "\n",
    "> <class 'int'>\n",
    "\n",
    "> <class 'set'>\n",
    "\n",
    "> <class 'generator'>\n",
    "\n",
    "> <class 'list'>\n",
    "</span>"
   ]
  },
  {
   "cell_type": "code",
   "execution_count": 33,
   "metadata": {},
   "outputs": [],
   "source": [
    "# print(f\"Pravilni odgovor:\\n\\t{decode_from_hex(answers['5-8'])}\")"
   ]
  },
  {
   "cell_type": "markdown",
   "metadata": {},
   "source": [
    "9. Kaj izpiše spodnja koda?\n",
    "\n",
    "```python\n",
    "nekaj2 = [1,2,3]\n",
    "\n",
    "def nekaj1(nekaj2):\n",
    "    nekaj2[2] = 7\n",
    "\n",
    "nekaj1(nekaj2)\n",
    "print(nekaj2)\n",
    "```\n",
    "\n",
    "<span style=\"color:blue\">\n",
    "\n",
    "> [1, 2, 7]\n",
    "\n",
    "> [1, 2, 3]\n",
    "\n",
    "> [1, 7, 3]\n",
    "\n",
    "> Se ne izvede\n",
    "</span>"
   ]
  },
  {
   "cell_type": "code",
   "execution_count": 34,
   "metadata": {},
   "outputs": [],
   "source": [
    "# print(f\"Pravilni odgovor:\\n\\t{decode_from_hex(answers['5-9'])}\")"
   ]
  },
  {
   "cell_type": "markdown",
   "metadata": {},
   "source": [
    "10. Z keywordom global definiramo, da je spremenljivka globalna.\n",
    "\n",
    "<span style=\"color:blue\">\n",
    "\n",
    "> True\n",
    "\n",
    "> False\n",
    "</span>"
   ]
  },
  {
   "cell_type": "code",
   "execution_count": 35,
   "metadata": {},
   "outputs": [],
   "source": [
    "# print(f\"Pravilni odgovor:\\n\\t{decode_from_hex(answers['5-10'])}\")"
   ]
  },
  {
   "cell_type": "markdown",
   "metadata": {},
   "source": [
    "# Termin 6"
   ]
  },
  {
   "cell_type": "markdown",
   "metadata": {},
   "source": [
    "1. Kateri \"keyword\" uporabimo, da ustvarimo razred?\n",
    "\n",
    "<span style=\"color:blue\">\n",
    "\n",
    "> def\n",
    "\n",
    "> obj\n",
    "\n",
    "> struct\n",
    "\n",
    "> class\n",
    "</span>"
   ]
  },
  {
   "cell_type": "code",
   "execution_count": 36,
   "metadata": {},
   "outputs": [],
   "source": [
    "# print(f\"Pravilni odgovor:\\n\\t{decode_from_hex(answers['6-1'])}\")"
   ]
  },
  {
   "cell_type": "markdown",
   "metadata": {},
   "source": [
    "2. Katera je metoda, ki se prva izvede, ko ustvarimo novo instanco razreda?\n",
    "\n",
    "<span style=\"color:blue\">\n",
    "\n",
    "> __ init __\n",
    "\n",
    "> __ create __\n",
    "\n",
    "> __ str __\n",
    "\n",
    "> __ del __\n",
    "</span>"
   ]
  },
  {
   "cell_type": "code",
   "execution_count": 37,
   "metadata": {},
   "outputs": [],
   "source": [
    "# print(f\"Pravilni odgovor:\\n\\t{decode_from_hex(answers['6-2'])}\")"
   ]
  },
  {
   "cell_type": "markdown",
   "metadata": {},
   "source": [
    "3. Kaj izpiše sledeča koda?\n",
    "\n",
    "```python\n",
    "class Kalkulator:\n",
    "    def add(a,b):\n",
    "        return a+b\n",
    "\n",
    "calc = Kalkulator()\n",
    "print(calc.add(3,7))\n",
    "```\n",
    "\n",
    "<span style=\"color:blue\">\n",
    "\n",
    "> 7\n",
    "\n",
    "> Pride do Error-ja\n",
    "\n",
    "> 10\n",
    "\n",
    "> <bound method Kalkulator.add of <__main__.Kalkulator object >> \n",
    "</span>"
   ]
  },
  {
   "cell_type": "code",
   "execution_count": 38,
   "metadata": {},
   "outputs": [],
   "source": [
    "# print(f\"Pravilni odgovor:\\n\\t{decode_from_hex(answers['6-3'])}\")"
   ]
  },
  {
   "cell_type": "markdown",
   "metadata": {},
   "source": [
    "4. Kaj moramo napisate namest <...>, da shranimo ime znotraj instance razreda?\n",
    "\n",
    "```python\n",
    "class Pes:\n",
    "    def __init__(self,ime):\n",
    "        ...\n",
    "```\n",
    "\n",
    "<span style=\"color:blue\">\n",
    "\n",
    "> self.ime = ime\n",
    "\n",
    "> ime = ime\n",
    "\n",
    "> global ime = ime\n",
    "\n",
    "> Pes.ime = ime\n",
    "</span>"
   ]
  },
  {
   "cell_type": "code",
   "execution_count": 39,
   "metadata": {},
   "outputs": [],
   "source": [
    "# print(f\"Pravilni odgovor:\\n\\t{decode_from_hex(answers['6-4'])}\")"
   ]
  },
  {
   "cell_type": "markdown",
   "metadata": {},
   "source": [
    "5. Kaj izpiše sledeča koda?\n",
    "\n",
    "```python\n",
    "class Vozilo:\n",
    "    def __init(self, vrsta, n):\n",
    "        self.vrsta = vrsta\n",
    "        self.n = n\n",
    "    \n",
    "    def opis(self):\n",
    "        print(f\"Sem {self.vrsta}. Moje število koles je {self.n}.\")\n",
    "\n",
    "v1 = Vozilo(\"avto\",4)\n",
    "v2 = Vozilo(\"motor\",2)\n",
    "\n",
    "v1.opis()\n",
    "v2.opis()\n",
    "```\n",
    "\n",
    "<span style=\"color:blue\">\n",
    "\n",
    "> Dobimo Error\n",
    "\n",
    "> Sem avto. Moje število koles je 4. Nato dobimo Error\n",
    "\n",
    "> Sem avto. Moje število koles je 4. Sem motor. Moje število koles je 2.\n",
    "\n",
    "> Sem avto. Sem motor.\n",
    "</span>"
   ]
  },
  {
   "cell_type": "code",
   "execution_count": 40,
   "metadata": {},
   "outputs": [],
   "source": [
    "# print(f\"Pravilni odgovor:\\n\\t{decode_from_hex(answers['6-5'])}\")"
   ]
  },
  {
   "cell_type": "markdown",
   "metadata": {},
   "source": [
    "# Termin 7"
   ]
  },
  {
   "cell_type": "markdown",
   "metadata": {},
   "source": [
    "1. Če ima program sintaktično napako se klub temu izvede, vendar samo do napake.\n",
    "\n",
    "<span style=\"color:blue\">\n",
    "\n",
    "> True\n",
    "\n",
    "> False\n",
    "</span>"
   ]
  },
  {
   "cell_type": "code",
   "execution_count": 41,
   "metadata": {},
   "outputs": [],
   "source": [
    "# print(f\"Pravilni odgovor:\\n\\t{decode_from_hex(answers['7-1'])}\")"
   ]
  },
  {
   "cell_type": "markdown",
   "metadata": {},
   "source": [
    "2. Katere napake je najtežje odpraviti?\n",
    "\n",
    "<span style=\"color:blue\">\n",
    "\n",
    "> Sintaktične napake (Syntax errors)\n",
    "\n",
    "> Napake med izvajanjem (Runtime errors)\n",
    "\n",
    "> Logične napake (Logical errors)\n",
    "\n",
    "> Napaka indeksiranja\n",
    "</span>"
   ]
  },
  {
   "cell_type": "code",
   "execution_count": 42,
   "metadata": {},
   "outputs": [],
   "source": [
    "# print(f\"Pravilni odgovor:\\n\\t{decode_from_hex(answers['7-2'])}\")"
   ]
  },
  {
   "cell_type": "markdown",
   "metadata": {},
   "source": [
    "3. Kateri keyword se uporablja za obravnavo specifičnih napak?\n",
    "\n",
    "<span style=\"color:blue\">\n",
    "\n",
    "> try\n",
    "\n",
    "> except\n",
    "\n",
    "> else\n",
    "\n",
    "> finally\n",
    "</span>"
   ]
  },
  {
   "cell_type": "code",
   "execution_count": 43,
   "metadata": {},
   "outputs": [],
   "source": [
    "# print(f\"Pravilni odgovor:\\n\\t{decode_from_hex(answers['7-3'])}\")"
   ]
  },
  {
   "cell_type": "markdown",
   "metadata": {},
   "source": [
    "4. Kaj izpiše spodnji program?\n",
    "\n",
    "```python\n",
    "try:\n",
    "    print(\"A\", end=\" \")\n",
    "    c = 1/0\n",
    "except NameError:\n",
    "    print(\"B\", end=\" \")\n",
    "except ZeroDevisionError:\n",
    "    print(\"C\", end=\" \")\n",
    "except:\n",
    "    print(\"D\", end=\" \")\n",
    "else:\n",
    "    print(\"E\", end=\" \")\n",
    "finally:\n",
    "    print(\"F\", end=\" \")\n",
    "```\n",
    "\n",
    "<span style=\"color:blue\">\n",
    "\n",
    "> B C D F\n",
    "\n",
    "> A C D F\n",
    "\n",
    "> A C F\n",
    "\n",
    "> Nič, ker pride do napake.\n",
    "</span>"
   ]
  },
  {
   "cell_type": "code",
   "execution_count": 44,
   "metadata": {},
   "outputs": [],
   "source": [
    "# print(f\"Pravilni odgovor:\\n\\t{decode_from_hex(answers['7-4'])}\")"
   ]
  },
  {
   "cell_type": "markdown",
   "metadata": {},
   "source": [
    "5. Spodnja koda se izvede brez napake.\n",
    "\n",
    "```python\n",
    "num1 = 100\n",
    "num2 = 0\n",
    "try:\n",
    "    rezultat = num1/num2\n",
    "except ZeroDevisionError:\n",
    "    print(\"Prišlo je do deljenja z nič!\")\n",
    "else:\n",
    "    print(\"Vse se je izvedlo odlično!\")\n",
    "finally:\n",
    "    print(f\"rezultat = {rezultat}\")\n",
    "```\n",
    "\n",
    "<span style=\"color:blue\">\n",
    "\n",
    "> True\n",
    "\n",
    "> False\n",
    "</span>"
   ]
  },
  {
   "cell_type": "code",
   "execution_count": 45,
   "metadata": {},
   "outputs": [],
   "source": [
    "# print(f\"Pravilni odgovor:\\n\\t{decode_from_hex(answers['7-5'])}\")"
   ]
  },
  {
   "cell_type": "markdown",
   "metadata": {},
   "source": [
    "6. Kateri keyword se uporablja, da sami pokličemo (katerokoli) napako?\n",
    "\n",
    "<span style=\"color:blue\">\n",
    "\n",
    "> assert\n",
    "\n",
    "> try\n",
    "\n",
    "> except\n",
    "\n",
    "> raise\n",
    "</span>"
   ]
  },
  {
   "cell_type": "code",
   "execution_count": 46,
   "metadata": {},
   "outputs": [],
   "source": [
    "# print(f\"Pravilni odgovor:\\n\\t{decode_from_hex(answers['7-6'])}\")"
   ]
  },
  {
   "cell_type": "markdown",
   "metadata": {},
   "source": [
    "7. Kaj moramo vnesti za \"mode\", da bo program omogočal binarno pisanje v datoteko?\n",
    "\n",
    "```python\n",
    "with open(\"testFileForKahoot.txt\", mode=???, encoding=\"utf-8\") as f:\n",
    "    pass\n",
    "```\n",
    "\n",
    "<span style=\"color:blue\">\n",
    "\n",
    "> \"wb\"\n",
    "\n",
    "> \"text write\"\n",
    "\n",
    "> \"rb\"\n",
    "\n",
    "> \"w\"\n",
    "</span>"
   ]
  },
  {
   "cell_type": "code",
   "execution_count": 47,
   "metadata": {},
   "outputs": [],
   "source": [
    "# print(f\"Pravilni odgovor:\\n\\t{decode_from_hex(answers['7-7'])}\")"
   ]
  },
  {
   "cell_type": "markdown",
   "metadata": {},
   "source": [
    "8. Kaj naredi spodnji program?\n",
    "\n",
    "```python\n",
    "tab = []\n",
    "with open(\"testFileForKahoot.txt\", encoding=\"utf-8\") as f:\n",
    "    for line in f:\n",
    "        tab.append(line)\n",
    "with open(\"testFileForKahoot.txt\", mode=\"wt\", encoding=\"utf-8\") as f:\n",
    "    for x in tab:\n",
    "        f.write(x)\n",
    "    f.write(\"Nova\\n\")\n",
    "```\n",
    "\n",
    "<span style=\"color:blue\">\n",
    "\n",
    "> Izbriše vse, kar je bilo zapisano in v 1. vrstico napiše \"Nova\".\n",
    "\n",
    "> Na konec datoteke doda \"Nova\" in naredi novo vrstico.\n",
    "\n",
    "> Ne naredi ničesar. Datoteka je ista kot na začetku.\n",
    "\n",
    "> Pri izvajanju pride vedno do napake.\n",
    "</span>"
   ]
  },
  {
   "cell_type": "code",
   "execution_count": 48,
   "metadata": {},
   "outputs": [],
   "source": [
    "# print(f\"Pravilni odgovor:\\n\\t{decode_from_hex(answers['7-8'])}\")"
   ]
  }
 ],
 "metadata": {
  "kernelspec": {
   "display_name": "Python 3",
   "language": "python",
   "name": "python3"
  },
  "language_info": {
   "codemirror_mode": {
    "name": "ipython",
    "version": 3
   },
   "file_extension": ".py",
   "mimetype": "text/x-python",
   "name": "python",
   "nbconvert_exporter": "python",
   "pygments_lexer": "ipython3",
   "version": "3.9.0"
  }
 },
 "nbformat": 4,
 "nbformat_minor": 4
}
