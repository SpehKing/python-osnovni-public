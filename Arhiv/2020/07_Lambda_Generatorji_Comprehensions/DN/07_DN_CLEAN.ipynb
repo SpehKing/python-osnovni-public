{
 "cells": [
  {
   "cell_type": "markdown",
   "metadata": {},
   "source": [
    "<div class=\"alert alert-block alert-info\">\n",
    "<h1><b>Naloga: </b></h1>\n",
    "Napišite lambda funkcijo, ki sprejme 2 lista in vrne vse elemente, ki se nahajajo v obeh listih.\n",
    "</div>\n",
    "\n",
    "Primeri:\n",
    "```python\n",
    "Input:\n",
    "l1 = [1, 3, 5, 7, 9]\n",
    "l2 = [1, 2, 3, 4, 5]\n",
    "\n",
    "Output:\n",
    "{1, 3, 5}\n",
    "```"
   ]
  },
  {
   "cell_type": "code",
   "execution_count": 2,
   "metadata": {},
   "outputs": [],
   "source": [
    "# Rešitev\n",
    "l1 = [1, 3, 5, 7, 9]\n",
    "l2 = [1, 2, 3, 4, 5]\n"
   ]
  },
  {
   "cell_type": "markdown",
   "metadata": {},
   "source": [
    "<div class=\"alert alert-block alert-info\">\n",
    "<h1><b>Naloga: </b></h1>\n",
    "Napiši generator <b>moj_generator</b>, ki igra igro BUM-BAM. Generator naj sprejme 1 argument, ki je številka s katero naj začne in igra do 21 (vključno 21). Nato naj vrača eno številko naenkrat.\n",
    "    \n",
    "Če je številka deljiva s 3 oziroma ima v sebi številko 3, naj vrne <b>BUM</b>.\n",
    "Če je številka deljiva s 7 oziroma ima v sebi številko 7, naj vrne <b>BUM</b>.\n",
    "\n",
    "Ča sta izpolnjena oba pogoja, naj vrne <b>BUM BAM</b>.\n",
    "    \n",
    "Če ni izpolnjen noben pogoj, naj vrne številko.\n",
    "</div>\n",
    "\n",
    "Primeri:\n",
    "```python\n",
    "Input:\n",
    "for i in moj_generator(1):\n",
    "    print(i)\n",
    "\n",
    "Output:\n",
    "1\n",
    "2\n",
    "BUM \n",
    "4\n",
    "5\n",
    "BUM \n",
    "BAM\n",
    "8\n",
    "BUM \n",
    "10\n",
    "11\n",
    "BUM \n",
    "BUM \n",
    "BAM\n",
    "BUM \n",
    "16\n",
    "BAM\n",
    "BUM \n",
    "19\n",
    "20\n",
    "BUM BAM\n",
    "\n",
    "\n",
    "Input:\n",
    "for i in moj_generator(12):\n",
    "    print(i)\n",
    "\n",
    "Output:\n",
    "BUM \n",
    "BUM \n",
    "BAM\n",
    "BUM \n",
    "16\n",
    "BAM\n",
    "BUM \n",
    "19\n",
    "20\n",
    "BUM BAM\n",
    "```"
   ]
  },
  {
   "cell_type": "code",
   "execution_count": 3,
   "metadata": {},
   "outputs": [],
   "source": [
    "# Rešitev\n"
   ]
  },
  {
   "cell_type": "markdown",
   "metadata": {},
   "source": [
    "<div class=\"alert alert-block alert-info\">\n",
    "<h1><b>Naloga: </b></h1>\n",
    "Podan imate dataset učencev in njihovih ocen.\n",
    "    \n",
    "S pomočjo <b>list comprehensions</b> ustvarite nov list v katerem so samo imena učencev\n",
    "</div>\n",
    "\n",
    "Primeri:\n",
    "```python\n",
    "Input:\n",
    "l1 = [1, 3, 5, 7, 9]\n",
    "l2 = [1, 2, 3, 4, 5]\n",
    "\n",
    "Output:\n",
    "{1, 3, 5}\n",
    "```"
   ]
  },
  {
   "cell_type": "code",
   "execution_count": 4,
   "metadata": {},
   "outputs": [],
   "source": [
    "# Rešitev\n",
    "students = [ [\"Ana\", 55], [\"Anže\", 96], [\"Andrej\", 67], [\"Bojan\", 88], [\"Črt\", 100], [\"Dajana\", 49], [\"Erika\", 79], [\"Francis\", 11] ]\n"
   ]
  },
  {
   "cell_type": "code",
   "execution_count": null,
   "metadata": {},
   "outputs": [],
   "source": []
  }
 ],
 "metadata": {
  "kernelspec": {
   "display_name": "Python 3",
   "language": "python",
   "name": "python3"
  },
  "language_info": {
   "codemirror_mode": {
    "name": "ipython",
    "version": 3
   },
   "file_extension": ".py",
   "mimetype": "text/x-python",
   "name": "python",
   "nbconvert_exporter": "python",
   "pygments_lexer": "ipython3",
   "version": "3.8.5"
  }
 },
 "nbformat": 4,
 "nbformat_minor": 4
}
