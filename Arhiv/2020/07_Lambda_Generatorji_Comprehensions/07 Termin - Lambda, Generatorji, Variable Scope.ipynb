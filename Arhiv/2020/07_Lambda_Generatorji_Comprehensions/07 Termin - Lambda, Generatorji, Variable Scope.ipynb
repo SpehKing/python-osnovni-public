{
 "cells": [
  {
   "cell_type": "markdown",
   "metadata": {},
   "source": [
    "## Lambda funkcija\n",
    "\n",
    "Lambda funkcije so anonimne funkcije, kar pomeni, da nimajo imena (niso vezane na spremenljivko)."
   ]
  },
  {
   "cell_type": "markdown",
   "metadata": {},
   "source": [
    "```python\n",
    "lambda x,y : x +y\n",
    "```\n",
    "\n",
    "Sestavljene so iz:\n",
    "* lambda - keyword\n",
    "* parametri so napisani med lambda in :\n",
    "* \"single expression\" (1 vrstica kode). Rezultat / vrednost tega \"single expression\" se vrne kot vrednost funkcije"
   ]
  },
  {
   "cell_type": "code",
   "execution_count": 1,
   "metadata": {},
   "outputs": [
    {
     "data": {
      "text/plain": [
       "5"
      ]
     },
     "execution_count": 1,
     "metadata": {},
     "output_type": "execute_result"
    }
   ],
   "source": [
    "(lambda x, y: x+y)(2, 3)"
   ]
  },
  {
   "cell_type": "code",
   "execution_count": 2,
   "metadata": {},
   "outputs": [
    {
     "name": "stdout",
     "output_type": "stream",
     "text": [
      "<function <lambda> at 0x000001D590FDDE50>\n",
      "<class 'function'>\n"
     ]
    }
   ],
   "source": [
    "add = lambda x, y: x + y\n",
    "print(add)\n",
    "print(type(add))"
   ]
  },
  {
   "cell_type": "code",
   "execution_count": 5,
   "metadata": {},
   "outputs": [
    {
     "data": {
      "text/plain": [
       "8"
      ]
     },
     "execution_count": 5,
     "metadata": {},
     "output_type": "execute_result"
    }
   ],
   "source": [
    "add(5,3)"
   ]
  },
  {
   "cell_type": "markdown",
   "metadata": {},
   "source": [
    "Primer, če bi zgornjo lambda funkcijo napisalo kot navadno funkcijo."
   ]
  },
  {
   "cell_type": "code",
   "execution_count": 6,
   "metadata": {},
   "outputs": [],
   "source": [
    "def add(x, y):\n",
    "    return x + y"
   ]
  },
  {
   "cell_type": "code",
   "execution_count": null,
   "metadata": {},
   "outputs": [],
   "source": []
  },
  {
   "cell_type": "markdown",
   "metadata": {},
   "source": [
    "Lambda funkcije pridejo najbolj do izraza, kjer je treba kot argument posredovati funkcijo. Namesto dejanske funkcije lahko posredujemo lambda funkcijo."
   ]
  },
  {
   "cell_type": "markdown",
   "metadata": {},
   "source": [
    "Za primer vzemimo funkcijo `sorted()`.\n",
    "\n",
    "https://docs.python.org/3/library/functions.html#sorted\n",
    "\n",
    "Naša naloga je sortirati sledeče vrednosti glede na **market_cap** vrednost, od največje do najmanjše."
   ]
  },
  {
   "cell_type": "code",
   "execution_count": 13,
   "metadata": {},
   "outputs": [],
   "source": [
    "data = [\n",
    "  {\n",
    "    \"id\": \"binancecoin\",\n",
    "    \"symbol\": \"bnb\",\n",
    "    \"name\": \"Binance Coin\",\n",
    "    \"image\": \"https://assets.coingecko.com/coins/images/825/large/binance-coin-logo.png?1547034615\",\n",
    "    \"current_price\": 212.03,\n",
    "    \"market_cap\": 33015186690,\n",
    "    \"total_volume\": 2490184836,\n",
    "    \"high_24h\": 230.59,\n",
    "    \"low_24h\": 210.87,\n",
    "  },\n",
    "  {\n",
    "    \"id\": \"bitcoin\",\n",
    "    \"symbol\": \"btc\",\n",
    "    \"name\": \"Bitcoin\",\n",
    "    \"image\": \"https://assets.coingecko.com/coins/images/1/large/bitcoin.png?1547033579\",\n",
    "    \"current_price\": 47553,\n",
    "    \"market_cap\": 901453728232,\n",
    "    \"total_volume\": 47427138554,\n",
    "    \"high_24h\": 51131,\n",
    "    \"low_24h\": 48056,\n",
    "  },\n",
    "  {\n",
    "    \"id\": \"cardano\",\n",
    "    \"symbol\": \"ada\",\n",
    "    \"name\": \"Cardano\",\n",
    "    \"image\": \"https://assets.coingecko.com/coins/images/975/large/cardano.png?1547034860\",\n",
    "    \"current_price\": 0.84514,\n",
    "    \"market_cap\": 27210647217,\n",
    "    \"total_volume\": 3204270671,\n",
    "    \"high_24h\": 0.919055,\n",
    "    \"low_24h\": 0.843236,\n",
    "  },\n",
    "  {\n",
    "    \"id\": \"ethereum\",\n",
    "    \"symbol\": \"eth\",\n",
    "    \"name\": \"Ethereum\",\n",
    "    \"image\": \"https://assets.coingecko.com/coins/images/279/large/ethereum.png?1595348880\",\n",
    "    \"current_price\": 1479.97,\n",
    "    \"market_cap\": 172447578072,\n",
    "    \"total_volume\": 24709055087,\n",
    "    \"high_24h\": 1597.13,\n",
    "    \"low_24h\": 1493,\n",
    "  },\n",
    "  {\n",
    "    \"id\": \"litecoin\",\n",
    "    \"symbol\": \"ltc\",\n",
    "    \"name\": \"Litecoin\",\n",
    "    \"image\": \"https://assets.coingecko.com/coins/images/2/large/litecoin.png?1547033580\",\n",
    "    \"current_price\": 171.49,\n",
    "    \"market_cap\": 11561005268,\n",
    "    \"total_volume\": 4950077782,\n",
    "    \"high_24h\": 187.34,\n",
    "    \"low_24h\": 172.45,\n",
    "  },\n",
    "  {\n",
    "    \"id\": \"polkadot\",\n",
    "    \"symbol\": \"dot\",\n",
    "    \"name\": \"Polkadot\",\n",
    "    \"image\": \"https://assets.coingecko.com/coins/images/12171/large/aJGBjJFU_400x400.jpg?1597804776\",\n",
    "    \"current_price\": 29.28,\n",
    "    \"market_cap\": 28856989783,\n",
    "    \"total_volume\": 1266769267,\n",
    "    \"high_24h\": 32.2,\n",
    "    \"low_24h\": 29.54,\n",
    "  },\n",
    "  {\n",
    "    \"id\": \"ripple\",\n",
    "    \"symbol\": \"xrp\",\n",
    "    \"name\": \"XRP\",\n",
    "    \"image\": \"https://assets.coingecko.com/coins/images/44/large/xrp-symbol-white-128.png?1605778731\",\n",
    "    \"current_price\": 0.360658,\n",
    "    \"market_cap\": 16580549437,\n",
    "    \"total_volume\": 2357746464,\n",
    "    \"high_24h\": 0.381072,\n",
    "    \"low_24h\": 0.358941,\n",
    "  },\n",
    "  {\n",
    "    \"id\": \"tether\",\n",
    "    \"symbol\": \"usdt\",\n",
    "    \"name\": \"Tether\",\n",
    "    \"image\": \"https://assets.coingecko.com/coins/images/325/large/Tether-logo.png?1598003707\",\n",
    "    \"current_price\": 0.83869,\n",
    "    \"market_cap\": 32307660438,\n",
    "    \"total_volume\": 82854947322,\n",
    "    \"high_24h\": 0.843104,\n",
    "    \"low_24h\": 0.832594,\n",
    "  },\n",
    "  {\n",
    "    \"id\": \"uniswap\",\n",
    "    \"symbol\": \"uni\",\n",
    "    \"name\": \"Uniswap\",\n",
    "    \"image\": \"https://assets.coingecko.com/coins/images/12504/large/uniswap-uni.png?1600306604\",\n",
    "    \"current_price\": 24.94,\n",
    "    \"market_cap\": 13099199643,\n",
    "    \"total_volume\": 939432128,\n",
    "    \"high_24h\": 27.92,\n",
    "    \"low_24h\": 24.78,\n",
    "  }\n",
    "]"
   ]
  },
  {
   "cell_type": "markdown",
   "metadata": {},
   "source": [
    "https://docs.python.org/3/library/functions.html#sorted\n",
    "```python\n",
    "sorted(iterable, *, key=None, reverse=False)\n",
    "```\n",
    "\n",
    "V dokumentaciji vidimo, da lahko kontroliramo katere vrednosti primerjamo z uporabo **key** parametra.\n",
    "\n",
    "Kot **key** lahko podamo našo funkcijo, ki sprejme 1 argument in vrne vrednost po kateri primerjamo."
   ]
  },
  {
   "cell_type": "code",
   "execution_count": 22,
   "metadata": {},
   "outputs": [
    {
     "name": "stdout",
     "output_type": "stream",
     "text": [
      "binancecoin    \t 33015186690\n",
      "bitcoin    \t 901453728232\n",
      "cardano    \t 27210647217\n",
      "ethereum    \t 172447578072\n",
      "litecoin    \t 11561005268\n",
      "polkadot    \t 28856989783\n",
      "ripple    \t 16580549437\n",
      "tether    \t 32307660438\n",
      "uniswap    \t 13099199643\n"
     ]
    },
    {
     "data": {
      "text/plain": [
       "[{'id': 'bitcoin',\n",
       "  'symbol': 'btc',\n",
       "  'name': 'Bitcoin',\n",
       "  'image': 'https://assets.coingecko.com/coins/images/1/large/bitcoin.png?1547033579',\n",
       "  'current_price': 47553,\n",
       "  'market_cap': 901453728232,\n",
       "  'total_volume': 47427138554,\n",
       "  'high_24h': 51131,\n",
       "  'low_24h': 48056},\n",
       " {'id': 'ethereum',\n",
       "  'symbol': 'eth',\n",
       "  'name': 'Ethereum',\n",
       "  'image': 'https://assets.coingecko.com/coins/images/279/large/ethereum.png?1595348880',\n",
       "  'current_price': 1479.97,\n",
       "  'market_cap': 172447578072,\n",
       "  'total_volume': 24709055087,\n",
       "  'high_24h': 1597.13,\n",
       "  'low_24h': 1493},\n",
       " {'id': 'binancecoin',\n",
       "  'symbol': 'bnb',\n",
       "  'name': 'Binance Coin',\n",
       "  'image': 'https://assets.coingecko.com/coins/images/825/large/binance-coin-logo.png?1547034615',\n",
       "  'current_price': 212.03,\n",
       "  'market_cap': 33015186690,\n",
       "  'total_volume': 2490184836,\n",
       "  'high_24h': 230.59,\n",
       "  'low_24h': 210.87},\n",
       " {'id': 'tether',\n",
       "  'symbol': 'usdt',\n",
       "  'name': 'Tether',\n",
       "  'image': 'https://assets.coingecko.com/coins/images/325/large/Tether-logo.png?1598003707',\n",
       "  'current_price': 0.83869,\n",
       "  'market_cap': 32307660438,\n",
       "  'total_volume': 82854947322,\n",
       "  'high_24h': 0.843104,\n",
       "  'low_24h': 0.832594},\n",
       " {'id': 'polkadot',\n",
       "  'symbol': 'dot',\n",
       "  'name': 'Polkadot',\n",
       "  'image': 'https://assets.coingecko.com/coins/images/12171/large/aJGBjJFU_400x400.jpg?1597804776',\n",
       "  'current_price': 29.28,\n",
       "  'market_cap': 28856989783,\n",
       "  'total_volume': 1266769267,\n",
       "  'high_24h': 32.2,\n",
       "  'low_24h': 29.54},\n",
       " {'id': 'cardano',\n",
       "  'symbol': 'ada',\n",
       "  'name': 'Cardano',\n",
       "  'image': 'https://assets.coingecko.com/coins/images/975/large/cardano.png?1547034860',\n",
       "  'current_price': 0.84514,\n",
       "  'market_cap': 27210647217,\n",
       "  'total_volume': 3204270671,\n",
       "  'high_24h': 0.919055,\n",
       "  'low_24h': 0.843236},\n",
       " {'id': 'ripple',\n",
       "  'symbol': 'xrp',\n",
       "  'name': 'XRP',\n",
       "  'image': 'https://assets.coingecko.com/coins/images/44/large/xrp-symbol-white-128.png?1605778731',\n",
       "  'current_price': 0.360658,\n",
       "  'market_cap': 16580549437,\n",
       "  'total_volume': 2357746464,\n",
       "  'high_24h': 0.381072,\n",
       "  'low_24h': 0.358941},\n",
       " {'id': 'uniswap',\n",
       "  'symbol': 'uni',\n",
       "  'name': 'Uniswap',\n",
       "  'image': 'https://assets.coingecko.com/coins/images/12504/large/uniswap-uni.png?1600306604',\n",
       "  'current_price': 24.94,\n",
       "  'market_cap': 13099199643,\n",
       "  'total_volume': 939432128,\n",
       "  'high_24h': 27.92,\n",
       "  'low_24h': 24.78},\n",
       " {'id': 'litecoin',\n",
       "  'symbol': 'ltc',\n",
       "  'name': 'Litecoin',\n",
       "  'image': 'https://assets.coingecko.com/coins/images/2/large/litecoin.png?1547033580',\n",
       "  'current_price': 171.49,\n",
       "  'market_cap': 11561005268,\n",
       "  'total_volume': 4950077782,\n",
       "  'high_24h': 187.34,\n",
       "  'low_24h': 172.45}]"
      ]
     },
     "execution_count": 22,
     "metadata": {},
     "output_type": "execute_result"
    }
   ],
   "source": [
    "def sort_funkcija(x):\n",
    "    print(f'{x[\"id\"]}    \\t {x[\"market_cap\"]}')\n",
    "    return x[\"market_cap\"]\n",
    "\n",
    "sorted(data, key=sort_funkcija, reverse=True)"
   ]
  },
  {
   "cell_type": "markdown",
   "metadata": {},
   "source": [
    "Isto sortiranje lahko dobimo z uporabo lambda funkcije."
   ]
  },
  {
   "cell_type": "code",
   "execution_count": 23,
   "metadata": {},
   "outputs": [
    {
     "data": {
      "text/plain": [
       "[{'id': 'bitcoin',\n",
       "  'symbol': 'btc',\n",
       "  'name': 'Bitcoin',\n",
       "  'image': 'https://assets.coingecko.com/coins/images/1/large/bitcoin.png?1547033579',\n",
       "  'current_price': 47553,\n",
       "  'market_cap': 901453728232,\n",
       "  'total_volume': 47427138554,\n",
       "  'high_24h': 51131,\n",
       "  'low_24h': 48056},\n",
       " {'id': 'ethereum',\n",
       "  'symbol': 'eth',\n",
       "  'name': 'Ethereum',\n",
       "  'image': 'https://assets.coingecko.com/coins/images/279/large/ethereum.png?1595348880',\n",
       "  'current_price': 1479.97,\n",
       "  'market_cap': 172447578072,\n",
       "  'total_volume': 24709055087,\n",
       "  'high_24h': 1597.13,\n",
       "  'low_24h': 1493},\n",
       " {'id': 'binancecoin',\n",
       "  'symbol': 'bnb',\n",
       "  'name': 'Binance Coin',\n",
       "  'image': 'https://assets.coingecko.com/coins/images/825/large/binance-coin-logo.png?1547034615',\n",
       "  'current_price': 212.03,\n",
       "  'market_cap': 33015186690,\n",
       "  'total_volume': 2490184836,\n",
       "  'high_24h': 230.59,\n",
       "  'low_24h': 210.87},\n",
       " {'id': 'tether',\n",
       "  'symbol': 'usdt',\n",
       "  'name': 'Tether',\n",
       "  'image': 'https://assets.coingecko.com/coins/images/325/large/Tether-logo.png?1598003707',\n",
       "  'current_price': 0.83869,\n",
       "  'market_cap': 32307660438,\n",
       "  'total_volume': 82854947322,\n",
       "  'high_24h': 0.843104,\n",
       "  'low_24h': 0.832594},\n",
       " {'id': 'polkadot',\n",
       "  'symbol': 'dot',\n",
       "  'name': 'Polkadot',\n",
       "  'image': 'https://assets.coingecko.com/coins/images/12171/large/aJGBjJFU_400x400.jpg?1597804776',\n",
       "  'current_price': 29.28,\n",
       "  'market_cap': 28856989783,\n",
       "  'total_volume': 1266769267,\n",
       "  'high_24h': 32.2,\n",
       "  'low_24h': 29.54},\n",
       " {'id': 'cardano',\n",
       "  'symbol': 'ada',\n",
       "  'name': 'Cardano',\n",
       "  'image': 'https://assets.coingecko.com/coins/images/975/large/cardano.png?1547034860',\n",
       "  'current_price': 0.84514,\n",
       "  'market_cap': 27210647217,\n",
       "  'total_volume': 3204270671,\n",
       "  'high_24h': 0.919055,\n",
       "  'low_24h': 0.843236},\n",
       " {'id': 'ripple',\n",
       "  'symbol': 'xrp',\n",
       "  'name': 'XRP',\n",
       "  'image': 'https://assets.coingecko.com/coins/images/44/large/xrp-symbol-white-128.png?1605778731',\n",
       "  'current_price': 0.360658,\n",
       "  'market_cap': 16580549437,\n",
       "  'total_volume': 2357746464,\n",
       "  'high_24h': 0.381072,\n",
       "  'low_24h': 0.358941},\n",
       " {'id': 'uniswap',\n",
       "  'symbol': 'uni',\n",
       "  'name': 'Uniswap',\n",
       "  'image': 'https://assets.coingecko.com/coins/images/12504/large/uniswap-uni.png?1600306604',\n",
       "  'current_price': 24.94,\n",
       "  'market_cap': 13099199643,\n",
       "  'total_volume': 939432128,\n",
       "  'high_24h': 27.92,\n",
       "  'low_24h': 24.78},\n",
       " {'id': 'litecoin',\n",
       "  'symbol': 'ltc',\n",
       "  'name': 'Litecoin',\n",
       "  'image': 'https://assets.coingecko.com/coins/images/2/large/litecoin.png?1547033580',\n",
       "  'current_price': 171.49,\n",
       "  'market_cap': 11561005268,\n",
       "  'total_volume': 4950077782,\n",
       "  'high_24h': 187.34,\n",
       "  'low_24h': 172.45}]"
      ]
     },
     "execution_count": 23,
     "metadata": {},
     "output_type": "execute_result"
    }
   ],
   "source": [
    "sorted(data, key=lambda x: x[\"market_cap\"], reverse=True)"
   ]
  },
  {
   "cell_type": "markdown",
   "metadata": {},
   "source": [
    "<div class=\"alert alert-block alert-info\">\n",
    "<h1><b>Naloga: </b></h1>\n",
    "Imamo podatke o GDP Evropskih držav od leta 2010 do 2020.\n",
    "    \n",
    "Uporabite funkcijo <b>sorted()</b> in določite takšno <b>lambda funkcijo</b>, da razvrstimo države po GDP leta 2020 od največje do najmanjše.\n",
    "    \n",
    "Izpišite imena držav od največje do najmanjše.\n",
    "</div>\n",
    "\n",
    "Primeri:\n",
    "```python\n",
    "Input:\n",
    "data = [[\"Austria\", 392.623, 431.515, 409.652, 430.203, 442.698, 381.998, 394.215, 417.721, 456.166, 447.718, 432.894],\n",
    "[\"Belgium\", 484.450, 527.492,498.161, 521.090, 531.651, 456.067, 469.931, 495.953, 532.268, 517.609, 503.416],\n",
    "[\"Bosnia\", 17.164, 18.629, 17.207, 18.155, 18.522, 16.210, 16.910, 18.081, 20.162, 20.106, 18.893],\n",
    "[\"Bulgaria\", 50.611, 57.420, 53.901, 55.557, 56.815, 50.201, 53.236, 58.342, 65.197, 66.250, 67.917],\n",
    "[\"Croatia\", 59.866, 62.399, 56.549, 58.158, 57.683, 49.519, 51.623, 55.201, 60.805, 60.702, 56.768],\n",
    "[\"Cyprus\", 25.608, 27.454, 25.055, 24.094, 23.401, 19.691, 20.461, 22.189, 24.493, 24.280, 23.246],\n",
    "[\"Czech Republic\", 207.478, 227.948, 207.376, 209.402, 207.818, 186.830, 195.090, 215.914, 245.226, 246.953, 241.975],\n",
    "[\"Denmark\",321.995,344.003,327.149,343.584, 352.994,302.673,311.988,329.866,352.058,347.176,339.626],\n",
    "[\"Estonia\",19.536,23.191,23.057,25.145, 26.658, 22.916,23.994,26.850,30.761,31.038,30.468],\n",
    "[\"Finland\",248.262,273.925,256.849,270.065,273.042,232.582,239.150,252.867,274.210,269.654,267.856],\n",
    "[\"France\",2647.537,2864.030,2685.311,2811.957,2856.697,2439.435,2466.152,2591.775,2780.152,2707.074,2551.451],\n",
    "[\"Germany\",3423.466,3761.142,3545.946,3753.687,3904.921,3383.091,3496.606,3664.511,3951.340,3863.344,3780.553],\n",
    "[\"Greece\",299.919,288.062,245.807,239.937,237.406,196.690,195.303,203.493,218.230,214.012,194.376],\n",
    "[\"Hungary\",130.923,140.782,127.857,135.221,140.083,123.074,126.008, 139.844,161.182,170.407,149.939],\n",
    "[\"Iceland\",13.684,15.159,14.724,16.034, 17.758,17.389,20.618,24.457,25.965, 23.918,20.805],\n",
    "[\"Ireland\",222.533,238.088, 225.140,238.708,259.200,290.858,301.968,335.211,382.754,384.940,399.064],\n",
    "[\"Italy\",2129.021,2278.376,2073.971,2131.159,2155.151,1833.195,1869.973,1950.703,2075.856,2001.440,1848.222],\n",
    "[\"Latvia\",23.809,28.496,28.141,30.260,31.385,26.986,27.707,30.528,34.882,35.045,33.015],\n",
    "[\"Liechtenstein\",5.082,5.740,5.456,6.392,6.657,6.268,6.215],\n",
    "[\"Lithuania\",37.200,43.564, 42.887,46.423,48.632,41.538,42.991,47.645,53.302,53.641,55.064],\n",
    "[\"Luxembourg\",53.312,60.060,56.709,61.759,66.209,57.233,58.985,62.449,69.553,69.453,68.613],\n",
    "[\"Malta\",8.757,9.511,9.215,10.154,11.302,10.701,11.446,12.764,14.560,14.859,14.290],\n",
    "[\"Montenegro\",4.147,4.543,4.090,4.466,4.595,4.055,4.376,4.855,5.457,5.424,4.943],\n",
    "[\"Netherlands\",848.133,904.915,839.436, 877.198,892.397,765.650,783.852,833.575,914.519,902.355,886.339],\n",
    "[\"Norway\",429.131,498.832,510.229,523.502,499.338,386.663,371.345,398.394,434.167,417.627,366.386],\n",
    "[\"Poland\",479.161,528.571,500.846,524.399,545.284,477.568,471.843,526.749,585.816,565.854,580.894],\n",
    "[\"Portugal\",238.748,245.119,216.488,226.144,229.995,199.521,206.361,221.280,240.901,236.408,221.716],\n",
    "[\"Romania\",166.225, 183.443,171.196,190.948,199.628,177.895,188.495,211.407,239.552,243.698,248.624],\n",
    "[\"Serbia\",41.369,49.280,43.300, 48.394,47.062,39.629,40.630,44.120, 50.509,51.523,51.999],\n",
    "[\"Slovakia\",89.668, 98.271,93.466,98.509,101.109,87.814,89.885,95.821,106.573,106.552,101.892],\n",
    "[\"Slovenia\",48.103,51.338,46.378,48.131,49.969,43.124,44.660,48.545,54.059,54.154,51.802],\n",
    "[\"Spain\",1434.286,1489.431,1336.759,1362.280,1379.098,1199.688,1238.010, 1317.104,1427.533,1397.870,1247.464],\n",
    "[\"Sweden\",488.909,563.797,544.482,579.361,574.413,498.118,512.205,540.545,556.073,528.929,529.054],\n",
    "[\"Switzerland\",583.053, 699.670,667.890,688.747,709.496,679.721,670.247,680.029,705.546,715.360,707.868],\n",
    "[\"Turkey\",772.290,832.497,873.696,950.328,934.075,859.449,863.390,852.648,771.274,743.708,649.436],\n",
    "[\"United Kingdom\",2455.309,2635.799,2677.082,2755.356,3036.310,2897.060,2669.107,2640.067,2828.833,2743.586,2638.296]]\n",
    "\n",
    "\n",
    "\n",
    "Output:\n",
    "Germany\n",
    "United Kingdom\n",
    "France\n",
    "Italy\n",
    "Spain\n",
    "Netherlands\n",
    "Switzerland\n",
    "Turkey\n",
    "Poland\n",
    "Sweden\n",
    "Belgium\n",
    "Austria\n",
    "Ireland\n",
    "Norway\n",
    "Denmark\n",
    "Finland\n",
    "Romania\n",
    "Czech Republic\n",
    "Portugal\n",
    "Greece\n",
    "Hungary\n",
    "Slovakia\n",
    "Luxembourg\n",
    "Bulgaria\n",
    "Croatia\n",
    "Lithuania\n",
    "Serbia\n",
    "Slovenia\n",
    "Latvia\n",
    "Estonia\n",
    "Cyprus\n",
    "Iceland\n",
    "Bosnia\n",
    "Malta\n",
    "Liechtenstein\n",
    "Montenegro\n",
    "\n",
    "    \n",
    "```\n"
   ]
  },
  {
   "cell_type": "code",
   "execution_count": 96,
   "metadata": {},
   "outputs": [],
   "source": [
    "data = [[\"Austria\", 392.623, 431.515, 409.652, 430.203, 442.698, 381.998, 394.215, 417.721, 456.166, 447.718, 432.894],\n",
    "[\"Belgium\", 484.450, 527.492,498.161, 521.090, 531.651, 456.067, 469.931, 495.953, 532.268, 517.609, 503.416],\n",
    "[\"Bosnia\", 17.164, 18.629, 17.207, 18.155, 18.522, 16.210, 16.910, 18.081, 20.162, 20.106, 18.893],\n",
    "[\"Bulgaria\", 50.611, 57.420, 53.901, 55.557, 56.815, 50.201, 53.236, 58.342, 65.197, 66.250, 67.917],\n",
    "[\"Croatia\", 59.866, 62.399, 56.549, 58.158, 57.683, 49.519, 51.623, 55.201, 60.805, 60.702, 56.768],\n",
    "[\"Cyprus\", 25.608, 27.454, 25.055, 24.094, 23.401, 19.691, 20.461, 22.189, 24.493, 24.280, 23.246],\n",
    "[\"Czech Republic\", 207.478, 227.948, 207.376, 209.402, 207.818, 186.830, 195.090, 215.914, 245.226, 246.953, 241.975],\n",
    "[\"Denmark\",321.995,344.003,327.149,343.584, 352.994,302.673,311.988,329.866,352.058,347.176,339.626],\n",
    "[\"Estonia\",19.536,23.191,23.057,25.145, 26.658, 22.916,23.994,26.850,30.761,31.038,30.468],\n",
    "[\"Finland\",248.262,273.925,256.849,270.065,273.042,232.582,239.150,252.867,274.210,269.654,267.856],\n",
    "[\"France\",2647.537,2864.030,2685.311,2811.957,2856.697,2439.435,2466.152,2591.775,2780.152,2707.074,2551.451],\n",
    "[\"Germany\",3423.466,3761.142,3545.946,3753.687,3904.921,3383.091,3496.606,3664.511,3951.340,3863.344,3780.553],\n",
    "[\"Greece\",299.919,288.062,245.807,239.937,237.406,196.690,195.303,203.493,218.230,214.012,194.376],\n",
    "[\"Hungary\",130.923,140.782,127.857,135.221,140.083,123.074,126.008, 139.844,161.182,170.407,149.939],\n",
    "[\"Iceland\",13.684,15.159,14.724,16.034, 17.758,17.389,20.618,24.457,25.965, 23.918,20.805],\n",
    "[\"Ireland\",222.533,238.088, 225.140,238.708,259.200,290.858,301.968,335.211,382.754,384.940,399.064],\n",
    "[\"Italy\",2129.021,2278.376,2073.971,2131.159,2155.151,1833.195,1869.973,1950.703,2075.856,2001.440,1848.222],\n",
    "[\"Latvia\",23.809,28.496,28.141,30.260,31.385,26.986,27.707,30.528,34.882,35.045,33.015],\n",
    "[\"Lithuania\",37.200,43.564, 42.887,46.423,48.632,41.538,42.991,47.645,53.302,53.641,55.064],\n",
    "[\"Luxembourg\",53.312,60.060,56.709,61.759,66.209,57.233,58.985,62.449,69.553,69.453,68.613],\n",
    "[\"Malta\",8.757,9.511,9.215,10.154,11.302,10.701,11.446,12.764,14.560,14.859,14.290],\n",
    "[\"Montenegro\",4.147,4.543,4.090,4.466,4.595,4.055,4.376,4.855,5.457,5.424,4.943],\n",
    "[\"Netherlands\",848.133,904.915,839.436, 877.198,892.397,765.650,783.852,833.575,914.519,902.355,886.339],\n",
    "[\"Norway\",429.131,498.832,510.229,523.502,499.338,386.663,371.345,398.394,434.167,417.627,366.386],\n",
    "[\"Poland\",479.161,528.571,500.846,524.399,545.284,477.568,471.843,526.749,585.816,565.854,580.894],\n",
    "[\"Portugal\",238.748,245.119,216.488,226.144,229.995,199.521,206.361,221.280,240.901,236.408,221.716],\n",
    "[\"Romania\",166.225, 183.443,171.196,190.948,199.628,177.895,188.495,211.407,239.552,243.698,248.624],\n",
    "[\"Serbia\",41.369,49.280,43.300, 48.394,47.062,39.629,40.630,44.120, 50.509,51.523,51.999],\n",
    "[\"Slovakia\",89.668, 98.271,93.466,98.509,101.109,87.814,89.885,95.821,106.573,106.552,101.892],\n",
    "[\"Slovenia\",48.103,51.338,46.378,48.131,49.969,43.124,44.660,48.545,54.059,54.154,51.802],\n",
    "[\"Spain\",1434.286,1489.431,1336.759,1362.280,1379.098,1199.688,1238.010, 1317.104,1427.533,1397.870,1247.464],\n",
    "[\"Sweden\",488.909,563.797,544.482,579.361,574.413,498.118,512.205,540.545,556.073,528.929,529.054],\n",
    "[\"Switzerland\",583.053, 699.670,667.890,688.747,709.496,679.721,670.247,680.029,705.546,715.360,707.868],\n",
    "[\"Turkey\",772.290,832.497,873.696,950.328,934.075,859.449,863.390,852.648,771.274,743.708,649.436],\n",
    "[\"United Kingdom\",2455.309,2635.799,2677.082,2755.356,3036.310,2897.060,2669.107,2640.067,2828.833,2743.586,2638.296]]"
   ]
  },
  {
   "cell_type": "code",
   "execution_count": 40,
   "metadata": {},
   "outputs": [
    {
     "name": "stdout",
     "output_type": "stream",
     "text": [
      "Germany\n",
      "United Kingdom\n",
      "France\n",
      "Italy\n",
      "Spain\n",
      "Netherlands\n",
      "Switzerland\n",
      "Turkey\n",
      "Poland\n",
      "Sweden\n",
      "Belgium\n",
      "Austria\n",
      "Ireland\n",
      "Norway\n",
      "Denmark\n",
      "Finland\n",
      "Romania\n",
      "Czech Republic\n",
      "Portugal\n",
      "Greece\n",
      "Hungary\n",
      "Slovakia\n",
      "Luxembourg\n",
      "Bulgaria\n",
      "Croatia\n",
      "Lithuania\n",
      "Serbia\n",
      "Slovenia\n",
      "Latvia\n",
      "Estonia\n",
      "Cyprus\n",
      "Iceland\n",
      "Bosnia\n",
      "Malta\n",
      "Montenegro\n"
     ]
    }
   ],
   "source": [
    "data_sorted = sorted(data, key=lambda x: x[-1], reverse=True)\n",
    "for i in data_sorted:\n",
    "    print(i[0])"
   ]
  },
  {
   "cell_type": "code",
   "execution_count": null,
   "metadata": {},
   "outputs": [],
   "source": []
  },
  {
   "cell_type": "markdown",
   "metadata": {},
   "source": [
    "# Generators"
   ]
  },
  {
   "cell_type": "markdown",
   "metadata": {},
   "source": [
    "Generatorji so funkcije namenjene generiranju iteratorjev (objekti, ki so lahko iterirani - list, itd..).\n",
    "\n",
    "Razlika je, da generatorji generiranjo vrednosti eno po eno, ne vse naenkrat, kar jih nrdi veliko bolj memory-efficient.\n",
    "\n",
    "Ustvarimo jih enako kot navadno funkcijo, le da namesto `return` uporbimo `yield`.\n",
    "\n",
    "`yield` pavzira funkcijo in shrani njeno stanje, tako da lahko kasneje nadaljujemo kjer smo končali."
   ]
  },
  {
   "cell_type": "code",
   "execution_count": 1,
   "metadata": {},
   "outputs": [
    {
     "name": "stdout",
     "output_type": "stream",
     "text": [
      "<generator object moj_range at 0x0000026B4F8F8A50>\n",
      "<class 'generator'>\n"
     ]
    }
   ],
   "source": [
    "def moj_range(n):\n",
    "    print(\"Start creating moj range\")\n",
    "    while n<10:\n",
    "        yield n\n",
    "        n += 1\n",
    "    print(\"Stop generator\")\n",
    "    \n",
    "val = moj_range(5)\n",
    "print(val)\n",
    "print(type(val))"
   ]
  },
  {
   "cell_type": "markdown",
   "metadata": {},
   "source": [
    "Ko prvič pokličemo `next()` se program začne izvajati na začetku funkcije in nadaljuje do `yield` kjer vrne vrednost.\n",
    "\n",
    "Naslednji klici `next()` nadaljujejo izvajanje programa od `yield` naprej do naslednjega `yield`.\n",
    "\n",
    "Če ne naleti na `yield` dvigne StopIteration exception."
   ]
  },
  {
   "cell_type": "code",
   "execution_count": 2,
   "metadata": {},
   "outputs": [
    {
     "name": "stdout",
     "output_type": "stream",
     "text": [
      "Start creating moj range\n",
      "5\n"
     ]
    }
   ],
   "source": [
    "print(next(val))"
   ]
  },
  {
   "cell_type": "code",
   "execution_count": 3,
   "metadata": {},
   "outputs": [
    {
     "data": {
      "text/plain": [
       "6"
      ]
     },
     "execution_count": 3,
     "metadata": {},
     "output_type": "execute_result"
    }
   ],
   "source": [
    "next(val)"
   ]
  },
  {
   "cell_type": "code",
   "execution_count": 4,
   "metadata": {},
   "outputs": [
    {
     "data": {
      "text/plain": [
       "7"
      ]
     },
     "execution_count": 4,
     "metadata": {},
     "output_type": "execute_result"
    }
   ],
   "source": [
    "next(val)"
   ]
  },
  {
   "cell_type": "code",
   "execution_count": 5,
   "metadata": {},
   "outputs": [],
   "source": [
    "#val = moj_range(5) # Če vmes ponovno kličemo generator bo šlo od začetka."
   ]
  },
  {
   "cell_type": "code",
   "execution_count": 6,
   "metadata": {},
   "outputs": [
    {
     "data": {
      "text/plain": [
       "8"
      ]
     },
     "execution_count": 6,
     "metadata": {},
     "output_type": "execute_result"
    }
   ],
   "source": [
    "next(val)"
   ]
  },
  {
   "cell_type": "code",
   "execution_count": 7,
   "metadata": {},
   "outputs": [
    {
     "data": {
      "text/plain": [
       "9"
      ]
     },
     "execution_count": 7,
     "metadata": {},
     "output_type": "execute_result"
    }
   ],
   "source": [
    "next(val)"
   ]
  },
  {
   "cell_type": "code",
   "execution_count": 8,
   "metadata": {},
   "outputs": [
    {
     "name": "stdout",
     "output_type": "stream",
     "text": [
      "Stop generator\n"
     ]
    },
    {
     "ename": "StopIteration",
     "evalue": "",
     "output_type": "error",
     "traceback": [
      "\u001b[1;31m---------------------------------------------------------------------------\u001b[0m",
      "\u001b[1;31mStopIteration\u001b[0m                             Traceback (most recent call last)",
      "\u001b[1;32m<ipython-input-8-a2a2bf9708c5>\u001b[0m in \u001b[0;36m<module>\u001b[1;34m\u001b[0m\n\u001b[1;32m----> 1\u001b[1;33m \u001b[0mnext\u001b[0m\u001b[1;33m(\u001b[0m\u001b[0mval\u001b[0m\u001b[1;33m)\u001b[0m\u001b[1;33m\u001b[0m\u001b[1;33m\u001b[0m\u001b[0m\n\u001b[0m",
      "\u001b[1;31mStopIteration\u001b[0m: "
     ]
    }
   ],
   "source": [
    "next(val)"
   ]
  },
  {
   "cell_type": "markdown",
   "metadata": {},
   "source": [
    "Z generatorjem lahko ustvarimo svojo `range()` funkcionalnost."
   ]
  },
  {
   "cell_type": "code",
   "execution_count": 9,
   "metadata": {},
   "outputs": [
    {
     "name": "stdout",
     "output_type": "stream",
     "text": [
      "Primer: moj_range\n",
      "1\n",
      "3\n",
      "5\n",
      "7\n",
      "9\n",
      "11\n",
      "13\n",
      "15\n",
      "17\n",
      "19\n",
      "Primer: range()\n",
      "1\n",
      "3\n",
      "5\n",
      "7\n",
      "9\n",
      "11\n",
      "13\n",
      "15\n",
      "17\n",
      "19\n"
     ]
    }
   ],
   "source": [
    "def moj_range(n, m, step=1):\n",
    "    while n<m:\n",
    "        yield n\n",
    "        n+=step\n",
    "\n",
    "print(\"Primer: moj_range\")\n",
    "for i in moj_range(1, 20, 2):\n",
    "    print(i)\n",
    "    \n",
    "    \n",
    "print(\"Primer: range()\")\n",
    "for i in range(1, 20, 2):\n",
    "    print(i)"
   ]
  },
  {
   "cell_type": "code",
   "execution_count": null,
   "metadata": {},
   "outputs": [],
   "source": []
  },
  {
   "cell_type": "markdown",
   "metadata": {},
   "source": [
    "# Comprehensions\n",
    "\n",
    "Poleg generatorjev, lahko za kreiranje listov uporabimo tudi **list comprehensions**.\n",
    "\n",
    "* List comprehensions so bolj berljivi od built-in funkcij, ki potrebujejo lambda expressions\n",
    "* List comprehensions nam dovolijo filtriranje elementov"
   ]
  },
  {
   "cell_type": "code",
   "execution_count": 69,
   "metadata": {},
   "outputs": [
    {
     "name": "stdout",
     "output_type": "stream",
     "text": [
      "[1, 2, 3, 4, 5, 6, 7, 8, 9, 10]\n",
      "[1, 4, 9, 16, 25, 36, 49, 64, 81, 100]\n"
     ]
    }
   ],
   "source": [
    "# Primer: želimo narediti list kvadratov iz lista a\n",
    "a = [1, 2, 3, 4, 5, 6, 7, 8, 9, 10]\n",
    "squares = [x**2 for x in a]\n",
    "print(a)\n",
    "print(squares)"
   ]
  },
  {
   "cell_type": "code",
   "execution_count": 70,
   "metadata": {},
   "outputs": [
    {
     "name": "stdout",
     "output_type": "stream",
     "text": [
      "[1, 2, 3, 4, 5, 6, 7, 8, 9, 10, 11, 12, 13]\n",
      "[36, 144]\n"
     ]
    }
   ],
   "source": [
    "# Primer: Filtriranje elementov\n",
    "a = [1, 2, 3, 4, 5, 6, 7, 8, 9, 10, 11, 12, 13]\n",
    "\n",
    "even_squares = [x**2 for x in a if x%2 == 0 and x%3==0]\n",
    "print(a)\n",
    "print(even_squares)"
   ]
  },
  {
   "cell_type": "markdown",
   "metadata": {},
   "source": [
    "#### set comprehensions"
   ]
  },
  {
   "cell_type": "code",
   "execution_count": 85,
   "metadata": {},
   "outputs": [
    {
     "name": "stdout",
     "output_type": "stream",
     "text": [
      "{64, 100, 4, 36, 16}\n",
      "<class 'set'>\n"
     ]
    }
   ],
   "source": [
    "a = {1, 2, 3, 4, 5, 6, 7, 8, 9, 10}\n",
    "even_squares = {x**2 for x in a if x % 2 == 0}\n",
    "print(even_squares)\n",
    "print(type(even_squares))"
   ]
  },
  {
   "cell_type": "markdown",
   "metadata": {},
   "source": [
    "#### Dictionary Comprehensions\n",
    "\n",
    "\n",
    "`ict_variable = {key:value for (key,value) in dictonary.items()}`"
   ]
  },
  {
   "cell_type": "code",
   "execution_count": 86,
   "metadata": {},
   "outputs": [
    {
     "name": "stdout",
     "output_type": "stream",
     "text": [
      "{'a': 2, 'b': 4, 'c': 6, 'd': 8, 'e': 10}\n"
     ]
    }
   ],
   "source": [
    "dict1 = {'a': 1, 'b': 2, 'c': 3, 'd': 4, 'e': 5}\n",
    "# Double each value in the dictionary\n",
    "double_dict1 = {k:v*2 for (k,v) in dict1.items()}\n",
    "print(double_dict1)"
   ]
  },
  {
   "cell_type": "markdown",
   "metadata": {},
   "source": [
    "#### Generator Expressions\n",
    "\n",
    "Podobno kot list comprehensions lahko zapišemo tudi generatorje. Razlika je, da oni vrnejo generator objekt in ne list-e."
   ]
  },
  {
   "cell_type": "code",
   "execution_count": 71,
   "metadata": {},
   "outputs": [
    {
     "name": "stdout",
     "output_type": "stream",
     "text": [
      "['a', 'b', 'c', 'd', 'e', 'f', 'g', 'h', 'i', 'j']\n",
      "<class 'list'>\n",
      "184\n",
      "\n",
      "{'d', 'j', 'f', 'g', 'i', 'a', 'b', 'c', 'e', 'h'}\n",
      "<class 'set'>\n",
      "728\n",
      "\n",
      "<generator object <genexpr> at 0x000001D5910FE900>\n",
      "<class 'generator'>\n",
      "112\n",
      "a\n",
      "b\n",
      "c\n",
      "d\n",
      "e\n",
      "f\n",
      "g\n",
      "h\n",
      "i\n",
      "j\n"
     ]
    }
   ],
   "source": [
    "import sys\n",
    "\n",
    "my_list = ['a', 'b', 'c', 'd', 'e', 'f', 'g', 'h', 'i', 'j']\n",
    "\n",
    "list_comprehension = [x for x in my_list]\n",
    "set_comprehension = {x for x in my_list}\n",
    "gen_expression = (x for x in my_list) # the language name for these is generator expressions, not generator comprehensions\n",
    "\n",
    "print(list_comprehension)\n",
    "print(type(list_comprehension))\n",
    "print(sys.getsizeof(list_comprehension))\n",
    "print()\n",
    "\n",
    "print(set_comprehension)\n",
    "print(type(set_comprehension))\n",
    "print(sys.getsizeof(set_comprehension))\n",
    "print()\n",
    "\n",
    "print(gen_expression)\n",
    "print(type(gen_expression))\n",
    "print(sys.getsizeof(gen_expression))\n",
    "for val in gen_expression:\n",
    "    print(val)"
   ]
  },
  {
   "cell_type": "markdown",
   "metadata": {},
   "source": [
    "Glavna razlika med `generator expressions` in `list comprehension` je, da so generatorji počasnejši ampak prišparajo na spominu."
   ]
  },
  {
   "cell_type": "markdown",
   "metadata": {},
   "source": [
    "# Variable scope\n",
    "\n",
    "Spremenljivke se razlikujejo tudi po tem koliko dolgo obstajajo (variable lifetime) in od kje lahko dostopamo do njih (variable scope)."
   ]
  },
  {
   "cell_type": "markdown",
   "metadata": {},
   "source": [
    "Spremenljivka definirana znotraj funkcije (kot parameter ali navadno) obstaja samo znotraj funkcije.\n",
    "\n",
    "Ko se izvajanje funkcije konča, spremenljivka neha obstajati."
   ]
  },
  {
   "cell_type": "code",
   "execution_count": 72,
   "metadata": {},
   "outputs": [
    {
     "name": "stdout",
     "output_type": "stream",
     "text": [
      "Spr1: 5\n",
      "Spr2: 10\n"
     ]
    },
    {
     "ename": "NameError",
     "evalue": "name 'spr1' is not defined",
     "output_type": "error",
     "traceback": [
      "\u001b[1;31m---------------------------------------------------------------------------\u001b[0m",
      "\u001b[1;31mNameError\u001b[0m                                 Traceback (most recent call last)",
      "\u001b[1;32m<ipython-input-72-d9649ca9516e>\u001b[0m in \u001b[0;36m<module>\u001b[1;34m\u001b[0m\n\u001b[0;32m      6\u001b[0m \u001b[1;33m\u001b[0m\u001b[0m\n\u001b[0;32m      7\u001b[0m \u001b[0mfunkcija\u001b[0m\u001b[1;33m(\u001b[0m\u001b[1;36m5\u001b[0m\u001b[1;33m)\u001b[0m\u001b[1;33m\u001b[0m\u001b[1;33m\u001b[0m\u001b[0m\n\u001b[1;32m----> 8\u001b[1;33m \u001b[0mprint\u001b[0m\u001b[1;33m(\u001b[0m\u001b[1;34mf\"Spr1: {spr1}\"\u001b[0m\u001b[1;33m)\u001b[0m\u001b[1;33m\u001b[0m\u001b[1;33m\u001b[0m\u001b[0m\n\u001b[0m\u001b[0;32m      9\u001b[0m \u001b[0mprint\u001b[0m\u001b[1;33m(\u001b[0m\u001b[1;34mf\"Spr2: {spr2}\"\u001b[0m\u001b[1;33m)\u001b[0m\u001b[1;33m\u001b[0m\u001b[1;33m\u001b[0m\u001b[0m\n",
      "\u001b[1;31mNameError\u001b[0m: name 'spr1' is not defined"
     ]
    }
   ],
   "source": [
    "def funkcija(spr1):\n",
    "    spr2 = 10\n",
    "    print(f\"Spr1: {spr1}\")\n",
    "    print(f\"Spr2: {spr2}\")\n",
    "    \n",
    "    \n",
    "funkcija(5)\n",
    "print(f\"Spr1: {spr1}\")\n",
    "print(f\"Spr2: {spr2}\")"
   ]
  },
  {
   "cell_type": "markdown",
   "metadata": {},
   "source": [
    "Spremenljivka definirana znotraj naše glavne kode (zunaj naših funkcij) je **globalna spremenljivka** in je dostopna skozi našo celotno kodo."
   ]
  },
  {
   "cell_type": "code",
   "execution_count": 73,
   "metadata": {},
   "outputs": [
    {
     "name": "stdout",
     "output_type": "stream",
     "text": [
      "Spr1: 5\n",
      "Spremenljivka2: 10\n",
      "\n",
      "Spr1: 5\n",
      "Spr2: 10\n",
      "Spr3: 200\n",
      "\n",
      "Spr1: 5\n",
      "Spr2: 10\n"
     ]
    }
   ],
   "source": [
    "spr1 = 5\n",
    "print(f\"Spr1: {spr1}\")\n",
    "\n",
    "if spr1 == 5:\n",
    "    spr2 = 10\n",
    "print(f\"Spremenljivka2: {spr2}\")\n",
    "print()\n",
    "\n",
    "def funkcija():\n",
    "    spr3 = 200\n",
    "    print(f\"Spr1: {spr1}\")\n",
    "    print(f\"Spr2: {spr2}\")\n",
    "    print(f\"Spr3: {spr3}\")\n",
    "    \n",
    "funkcija()\n",
    "print()\n",
    "\n",
    "print(f\"Spr1: {spr1}\")\n",
    "print(f\"Spr2: {spr2}\")"
   ]
  },
  {
   "cell_type": "markdown",
   "metadata": {},
   "source": [
    "Problem se lahko pojavi, če znotraj funkcije definiramo spremenljivko z enakim imenom, ki že obstaja kot globalna spremenljivka.\n",
    "\n",
    "V tem primeru bo python spremenljivki označil kot dve različni spremenljivki. Ena dostopna znotraj funkcije, druga dostopna zunaj funkcije."
   ]
  },
  {
   "cell_type": "code",
   "execution_count": 164,
   "metadata": {},
   "outputs": [
    {
     "name": "stdout",
     "output_type": "stream",
     "text": [
      "Spr1: 5\n",
      "Spr1: 100\n",
      "Spr1: 5\n"
     ]
    }
   ],
   "source": [
    "spr1 = 5\n",
    "print(f\"Spr1: {spr1}\")\n",
    "\n",
    "def funkcija():\n",
    "    spr1 = 100\n",
    "    print(f\"Spr1: {spr1}\")\n",
    "    \n",
    "funkcija()\n",
    "print(f\"Spr1: {spr1}\")"
   ]
  },
  {
   "cell_type": "markdown",
   "metadata": {},
   "source": [
    "Parameter se obnaša kot lokalna spremenljivka."
   ]
  },
  {
   "cell_type": "code",
   "execution_count": 175,
   "metadata": {},
   "outputs": [
    {
     "name": "stdout",
     "output_type": "stream",
     "text": [
      "Spr1: 5\n",
      "Spr1: 100\n",
      "Spr1: 5\n"
     ]
    }
   ],
   "source": [
    "spr1 = 5\n",
    "print(f\"Spr1: {spr1}\")\n",
    "\n",
    "def funkcija(spr1):\n",
    "    print(f\"Spr1: {spr1}\")\n",
    "    \n",
    "funkcija(100)\n",
    "print(f\"Spr1: {spr1}\")"
   ]
  },
  {
   "cell_type": "markdown",
   "metadata": {},
   "source": [
    "Paziti je potrebno, ko posredujemo list ali dictionary kot argument."
   ]
  },
  {
   "cell_type": "code",
   "execution_count": 74,
   "metadata": {},
   "outputs": [
    {
     "name": "stdout",
     "output_type": "stream",
     "text": [
      "[3, 7, 13]\n",
      "[100, 7, 13]\n"
     ]
    }
   ],
   "source": [
    "def funkcija(l):\n",
    "    print(l)\n",
    "    l[0] = 100\n",
    "\n",
    "seznam = [3, 7, 13]\n",
    "funkcija(seznam)\n",
    "print(seznam)"
   ]
  },
  {
   "cell_type": "code",
   "execution_count": 75,
   "metadata": {},
   "outputs": [
    {
     "name": "stdout",
     "output_type": "stream",
     "text": [
      "{'a': 5, 'b': 6, 'c': 7}\n",
      "{'a': 100, 'b': 6, 'c': 7}\n"
     ]
    }
   ],
   "source": [
    "def funkcija(d):\n",
    "    print(d)\n",
    "    d[\"a\"] = 100\n",
    "\n",
    "dict_ = {\"a\": 5, \"b\": 6, \"c\": 7}\n",
    "funkcija(dict_)\n",
    "print(dict_)"
   ]
  },
  {
   "cell_type": "code",
   "execution_count": null,
   "metadata": {},
   "outputs": [],
   "source": []
  },
  {
   "cell_type": "markdown",
   "metadata": {},
   "source": [
    "Če želimo spreminjati globalno spremenljivko znotraj funkcije (znotraj local scope) moramo uporabiti besedo **global**."
   ]
  },
  {
   "cell_type": "code",
   "execution_count": 76,
   "metadata": {},
   "outputs": [
    {
     "name": "stdout",
     "output_type": "stream",
     "text": [
      "Spr1: 5\n",
      "Spr1: 100\n",
      "Spr1: 100\n"
     ]
    }
   ],
   "source": [
    "spr1 = 5\n",
    "print(f\"Spr1: {spr1}\")\n",
    "\n",
    "def funkcija():\n",
    "    global spr1\n",
    "    spr1 = 100\n",
    "    print(f\"Spr1: {spr1}\")\n",
    "    \n",
    "funkcija()\n",
    "print(f\"Spr1: {spr1}\")"
   ]
  },
  {
   "cell_type": "markdown",
   "metadata": {},
   "source": [
    "S to besedo lahko tudi ustvarimo novo globalno spremenljivko, znotraj localnega scopa."
   ]
  },
  {
   "cell_type": "code",
   "execution_count": 77,
   "metadata": {},
   "outputs": [
    {
     "name": "stdout",
     "output_type": "stream",
     "text": [
      "Spr1: 5\n",
      "Spr1: 5\n"
     ]
    }
   ],
   "source": [
    "def funkcija():\n",
    "    global spr1\n",
    "    spr1 = 5\n",
    "    print(f\"Spr1: {spr1}\")\n",
    "    \n",
    "funkcija()\n",
    "print(f\"Spr1: {spr1}\")"
   ]
  },
  {
   "cell_type": "code",
   "execution_count": null,
   "metadata": {},
   "outputs": [],
   "source": []
  },
  {
   "cell_type": "markdown",
   "metadata": {},
   "source": [
    "<div class=\"alert alert-block alert-info\">\n",
    "<h1><b>Naloga: </b></h1>\n",
    "\n",
    "Napišite funkcijo, kjer lahko igramo <b>vislice</b>.\n",
    "    \n",
    "Funkcija <b>vislice()</b> naj ima 2 parametra. Prvi je besedo katero se ugiba in drugi število možnih ugibov. Če števila ugibov ne podamo naj bo default vrednost 10.\n",
    "    \n",
    "Uporabnika konstantno sprašujte naj vnese črko.\n",
    "Nato izpišite iskano besedo. Črke katere je uporabnik uganil izpišite normalno, črke katere še ni uganil pa nadomestite z <b>_</b>.\n",
    "    \n",
    "Dodatno zraven prikazujte katere vse črke je uporabnik že preizkusil.\n",
    "    \n",
    "Če uporabnik besedo uspešno ugani v danih poizkusih naj funkcija vrne vrednost True. V nasprotnem primeru naj vrne vrednost False.\n",
    "</div>\n",
    "\n",
    "Primeri:\n",
    "```python\n",
    "Input:\n",
    "vislice(\"jabolko\")\n",
    "\n",
    "Output:\n",
    "Guesses so far []. \n",
    "What is your guess? a\n",
    "_ a_ _ _ _ _ \n",
    "\n",
    "Guesses so far ['a']. \n",
    "What is your guess? e\n",
    "_ a_ _ _ _ _ \n",
    "\n",
    "Guesses so far ['a', 'e']. \n",
    "What is your guess? o\n",
    "_ a_ o_ _ o\n",
    "\n",
    "Guesses so far ['a', 'e', 'o']. \n",
    "What is your guess? p\n",
    "_ a_ o_ _ o\n",
    "\n",
    "Guesses so far ['a', 'e', 'o', 'p']. \n",
    "What is your guess? r\n",
    "_ a_ o_ _ o\n",
    "\n",
    "Guesses so far ['a', 'e', 'o', 'p', 'r']. \n",
    "What is your guess? l\n",
    "_ a_ ol_ o\n",
    "\n",
    "Guesses so far ['a', 'e', 'o', 'p', 'r', 'l']. \n",
    "What is your guess? k\n",
    "_ a_ olko\n",
    "\n",
    "Guesses so far ['a', 'e', 'o', 'p', 'r', 'l', 'k']. \n",
    "What is your guess? j\n",
    "ja_ olko\n",
    "\n",
    "Guesses so far ['a', 'e', 'o', 'p', 'r', 'l', 'k', 'j']. \n",
    "What is your guess? b\n",
    "jabolko\n",
    "KONEC\n",
    "True\n",
    "\n",
    "```\n"
   ]
  },
  {
   "cell_type": "code",
   "execution_count": 207,
   "metadata": {},
   "outputs": [
    {
     "name": "stdout",
     "output_type": "stream",
     "text": [
      "\n",
      "Guesses so far []. \n",
      "What is your guess? a\n",
      "_ a_ _ _ _ _ \n",
      "\n",
      "Guesses so far ['a']. \n",
      "What is your guess? e\n",
      "_ a_ _ _ _ _ \n",
      "\n",
      "Guesses so far ['a', 'e']. \n",
      "What is your guess? o\n",
      "_ a_ o_ _ o\n",
      "\n",
      "Guesses so far ['a', 'e', 'o']. \n",
      "What is your guess? p\n",
      "_ a_ o_ _ o\n",
      "\n",
      "Guesses so far ['a', 'e', 'o', 'p']. \n",
      "What is your guess? r\n",
      "_ a_ o_ _ o\n",
      "\n",
      "Guesses so far ['a', 'e', 'o', 'p', 'r']. \n",
      "What is your guess? l\n",
      "_ a_ ol_ o\n",
      "\n",
      "Guesses so far ['a', 'e', 'o', 'p', 'r', 'l']. \n",
      "What is your guess? k\n",
      "_ a_ olko\n",
      "\n",
      "Guesses so far ['a', 'e', 'o', 'p', 'r', 'l', 'k']. \n",
      "What is your guess? j\n",
      "ja_ olko\n",
      "\n",
      "Guesses so far ['a', 'e', 'o', 'p', 'r', 'l', 'k', 'j']. \n",
      "What is your guess? b\n",
      "jabolko\n",
      "KONEC\n",
      "True\n"
     ]
    }
   ],
   "source": [
    "# Rešitev\n",
    "def vislice(beseda, n=10):\n",
    "    correct_guesses = []\n",
    "    all_guesses = []\n",
    "    \n",
    "    try_ = 0\n",
    "    while try_ < n:\n",
    "        print()\n",
    "        guess = input(f\"Guesses so far {all_guesses}. \\nWhat is your guess? \")\n",
    "        all_guesses.append(guess)\n",
    "        if guess in beseda:\n",
    "            correct_guesses.append(guess)\n",
    "\n",
    "        beseda_print = \"\"\n",
    "        for ch in beseda:\n",
    "            if ch in correct_guesses:\n",
    "                beseda_print += ch\n",
    "            else:\n",
    "                beseda_print += \"_ \"\n",
    "        print(beseda_print)\n",
    "        if len(set(correct_guesses)) == len(set(beseda)):\n",
    "            print(\"KONEC\")\n",
    "            return True\n",
    "\n",
    "        try_ += 1\n",
    "\n",
    "    return False\n",
    "\n",
    "\n",
    "print(vislice(\"jabolko\"))"
   ]
  },
  {
   "cell_type": "markdown",
   "metadata": {},
   "source": [
    "<div class=\"alert alert-block alert-info\">\n",
    "<h1><b>Naloga: </b></h1>\n",
    "\n",
    "Ustvarite program <b>Križci in Krožci</b>\n",
    "    \n",
    "Igralno polje lahko predstavite kot liste znotraj lista, kjer *E* predstavlja prazno polje.\n",
    "    \n",
    "    board = [[\"X\", \"E\", \"E\"],\n",
    "             [\"O\", \"E\", \"E\"],\n",
    "             [\"E\", \"E\", \"E\"]]\n",
    "    \n",
    "Od igralcev nato izmenično zahtevajte polje v katerega želijo postaviti svoj znak. Privzememo lahko, da bodo igralci igrali pravično in vpisovali samo prazna polja.\n",
    "</div>\n",
    "\n",
    "Primeri:\n",
    "```python\n",
    "\n",
    "Output:\n",
    "['E', 'E', 'E']\n",
    "['E', 'E', 'E']\n",
    "['E', 'E', 'E']\n",
    "It's X's turn. Make a move (exp: 12): '00\n",
    "\n",
    "['X', 'E', 'E']\n",
    "['E', 'E', 'E']\n",
    "['E', 'E', 'E']\n",
    "It's O's turn. Make a move (exp: 12): '12\n",
    "\n",
    "['X', 'E', 'E']\n",
    "['E', 'E', 'O']\n",
    "['E', 'E', 'E']\n",
    "It's X's turn. Make a move (exp: 12): '10\n",
    "\n",
    "['X', 'E', 'E']\n",
    "['X', 'E', 'O']\n",
    "['E', 'E', 'E']\n",
    "It's O's turn. Make a move (exp: 12): '12\n",
    "\n",
    "['X', 'E', 'E']\n",
    "['X', 'E', 'O']\n",
    "['E', 'E', 'E']\n",
    "It's X's turn. Make a move (exp: 12): '20\n",
    "X je ZMAGOVALEC!\n",
    "\n",
    "```\n"
   ]
  },
  {
   "cell_type": "code",
   "execution_count": 92,
   "metadata": {},
   "outputs": [
    {
     "name": "stdout",
     "output_type": "stream",
     "text": [
      "['E', 'E', 'E']\n",
      "['E', 'E', 'E']\n",
      "['E', 'E', 'E']\n",
      "It's X's turn. Make a move (exp: 12): '00\n",
      "Changing players\n",
      "\n",
      "['X', 'E', 'E']\n",
      "['E', 'E', 'E']\n",
      "['E', 'E', 'E']\n",
      "It's O's turn. Make a move (exp: 12): '12\n",
      "Changing players\n",
      "\n",
      "['X', 'E', 'E']\n",
      "['E', 'E', 'O']\n",
      "['E', 'E', 'E']\n",
      "It's X's turn. Make a move (exp: 12): '10\n",
      "Changing players\n",
      "\n",
      "['X', 'E', 'E']\n",
      "['X', 'E', 'O']\n",
      "['E', 'E', 'E']\n",
      "It's O's turn. Make a move (exp: 12): '12\n",
      "Changing players\n",
      "\n",
      "['X', 'E', 'E']\n",
      "['X', 'E', 'O']\n",
      "['E', 'E', 'E']\n",
      "It's X's turn. Make a move (exp: 12): '20\n",
      "X je ZMAGOVALEC!\n"
     ]
    }
   ],
   "source": [
    "def display_board(board):\n",
    "    for row in board:\n",
    "        print(row)\n",
    "        \n",
    "def make_move(on_turn, board):\n",
    "    move = input(f\"It's {on_turn}'s turn. Make a move (exp: 12): '\")\n",
    "    row = int(move[0])\n",
    "    col = int(move[1])\n",
    "    board[row][col] = on_turn\n",
    "    \n",
    "    \n",
    "def is_game_over(board):\n",
    "    for row in board:\n",
    "        if row[0] != \"E\":\n",
    "            if row[0] == row[1] and row[0] == row[2]:\n",
    "                return True\n",
    "        \n",
    "    for i in range(3):\n",
    "        if board[0][i] != \"E\":\n",
    "            if board[0][i] == board[1][i] and board[0][i] == board[2][i]:\n",
    "                return True\n",
    "\n",
    "    if board[0][0] != \"E\":\n",
    "        if board[0][0] == board[1][1] and board[0][0] == board[2][2]:\n",
    "            return True\n",
    "\n",
    "    if board[0][2] != \"E\":\n",
    "        if board[0][2] == board[1][1] and board[0][2] == board[2][0]:\n",
    "            return True\n",
    "            \n",
    "    return False\n",
    "\n",
    "def play():\n",
    "    board = [[\"E\", \"E\", \"E\"],\n",
    "             [\"E\", \"E\", \"E\"],\n",
    "             [\"E\", \"E\", \"E\"]]\n",
    "    on_turn = \"X\"\n",
    "    while True:\n",
    "        display_board(board)\n",
    "        make_move(on_turn, board)\n",
    "        \n",
    "        game_over = is_game_over(board)\n",
    "        if game_over:\n",
    "            print(f\"{on_turn} je ZMAGOVALEC!\")\n",
    "            break\n",
    "        else:\n",
    "            if on_turn == \"X\":\n",
    "                on_turn = \"O\"\n",
    "            elif on_turn == \"O\":\n",
    "                on_turn = \"X\"       \n",
    "        print()\n",
    "        \n",
    "        \n",
    "play()"
   ]
  },
  {
   "cell_type": "code",
   "execution_count": null,
   "metadata": {},
   "outputs": [],
   "source": []
  },
  {
   "cell_type": "code",
   "execution_count": null,
   "metadata": {},
   "outputs": [],
   "source": []
  },
  {
   "cell_type": "code",
   "execution_count": null,
   "metadata": {},
   "outputs": [],
   "source": []
  }
 ],
 "metadata": {
  "anaconda-cloud": {},
  "kernelspec": {
   "display_name": "Python 3",
   "language": "python",
   "name": "python3"
  },
  "language_info": {
   "codemirror_mode": {
    "name": "ipython",
    "version": 3
   },
   "file_extension": ".py",
   "mimetype": "text/x-python",
   "name": "python",
   "nbconvert_exporter": "python",
   "pygments_lexer": "ipython3",
   "version": "3.8.5"
  },
  "toc": {
   "base_numbering": 1,
   "nav_menu": {},
   "number_sections": true,
   "sideBar": true,
   "skip_h1_title": false,
   "title_cell": "Table of Contents",
   "title_sidebar": "Contents",
   "toc_cell": false,
   "toc_position": {},
   "toc_section_display": true,
   "toc_window_display": false
  }
 },
 "nbformat": 4,
 "nbformat_minor": 2
}
