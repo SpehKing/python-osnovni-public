{
 "cells": [
  {
   "cell_type": "markdown",
   "metadata": {},
   "source": [
    "# Errors\n",
    "\n",
    "Errors so napake v programu, ki nam ponavadi zaustavijo izvajanje programa.\n",
    "\n",
    "Klasificiramo jih v:\n",
    "\n",
    "- *Syntaxerrors*\n",
    "- *Runtime errors*\n",
    "- *Logical errors*"
   ]
  },
  {
   "cell_type": "markdown",
   "metadata": {},
   "source": [
    "## Syntax errors\n",
    "\n",
    "Syntax error je napaka, ko sam zapis programa ne upošteva pravil zapisa programskega jezika.\n",
    "\n",
    "Python pred zagonom kode preveri njeno pravilnost.<br>\n",
    "Napake bo torej našel med samem parsanjem kode in kode ne bo niti poganjal."
   ]
  },
  {
   "cell_type": "code",
   "execution_count": 15,
   "metadata": {},
   "outputs": [
    {
     "ename": "SyntaxError",
     "evalue": "invalid syntax (<ipython-input-15-01148ae74075>, line 1)",
     "output_type": "error",
     "traceback": [
      "\u001b[1;36m  File \u001b[1;32m\"<ipython-input-15-01148ae74075>\"\u001b[1;36m, line \u001b[1;32m1\u001b[0m\n\u001b[1;33m    a === 4\u001b[0m\n\u001b[1;37m        ^\u001b[0m\n\u001b[1;31mSyntaxError\u001b[0m\u001b[1;31m:\u001b[0m invalid syntax\n"
     ]
    }
   ],
   "source": [
    "a === 4"
   ]
  },
  {
   "cell_type": "code",
   "execution_count": 16,
   "metadata": {},
   "outputs": [
    {
     "ename": "SyntaxError",
     "evalue": "unmatched ')' (<ipython-input-16-c45f0742ab28>, line 2)",
     "output_type": "error",
     "traceback": [
      "\u001b[1;36m  File \u001b[1;32m\"<ipython-input-16-c45f0742ab28>\"\u001b[1;36m, line \u001b[1;32m2\u001b[0m\n\u001b[1;33m    print(\"Hello world\"))\u001b[0m\n\u001b[1;37m                        ^\u001b[0m\n\u001b[1;31mSyntaxError\u001b[0m\u001b[1;31m:\u001b[0m unmatched ')'\n"
     ]
    }
   ],
   "source": [
    "print(\"Test string\")\n",
    "print(\"Hello world\")) # preveč zaklepajev"
   ]
  },
  {
   "cell_type": "markdown",
   "metadata": {},
   "source": [
    "Najbolj pogoste Syntax napake so:\n",
    "- izpustitev keyworda<br>\n",
    "        2 == 2:\n",
    "            print(\"2 je enak 2\")\n",
    "        ...\n",
    "- uporaba keyworda na napačnem mestu<br>\n",
    "        2 == 2 if:\n",
    "            print(\"2 je enak 2\")\n",
    "        ...\n",
    "- izpustitev simbolov<br>\n",
    "        if 2 = 2:\n",
    "            print(\"2 je enak 2\")\n",
    "        ...\n",
    "- napačno črkovanje<br>\n",
    "        flaot a = 3.5\n",
    "        ...\n",
    "- napačen zamik<br>\n",
    "        if 2 < 3:\n",
    "        print(\"2 je manjše od 3\")\n",
    "        ..."
   ]
  },
  {
   "cell_type": "code",
   "execution_count": 19,
   "metadata": {},
   "outputs": [
    {
     "ename": "SyntaxError",
     "evalue": "invalid syntax (<ipython-input-19-e309b1f0aa1c>, line 1)",
     "output_type": "error",
     "traceback": [
      "\u001b[1;36m  File \u001b[1;32m\"<ipython-input-19-e309b1f0aa1c>\"\u001b[1;36m, line \u001b[1;32m1\u001b[0m\n\u001b[1;33m    for i in range(5)\u001b[0m\n\u001b[1;37m                     ^\u001b[0m\n\u001b[1;31mSyntaxError\u001b[0m\u001b[1;31m:\u001b[0m invalid syntax\n"
     ]
    }
   ],
   "source": [
    "for i in range(5)\n",
    "    print(i)"
   ]
  },
  {
   "cell_type": "markdown",
   "metadata": {},
   "source": [
    "> Vedno, ko imate napako v kodi, sledite izpisu errorjev (najprej popravite tistega, ki se pojevi višje v kodi)"
   ]
  },
  {
   "cell_type": "code",
   "execution_count": 1,
   "metadata": {},
   "outputs": [
    {
     "ename": "NameError",
     "evalue": "name 'a' is not defined",
     "output_type": "error",
     "traceback": [
      "\u001b[1;31m---------------------------------------------------------------------------\u001b[0m",
      "\u001b[1;31mNameError\u001b[0m                                 Traceback (most recent call last)",
      "\u001b[1;32m<ipython-input-1-eb975c31edc1>\u001b[0m in \u001b[0;36m<module>\u001b[1;34m\u001b[0m\n\u001b[1;32m----> 1\u001b[1;33m \u001b[0mprint\u001b[0m\u001b[1;33m(\u001b[0m\u001b[0ma\u001b[0m\u001b[1;33m)\u001b[0m\u001b[1;33m\u001b[0m\u001b[1;33m\u001b[0m\u001b[0m\n\u001b[0m\u001b[0;32m      2\u001b[0m \u001b[0ma\u001b[0m \u001b[1;33m=\u001b[0m \u001b[1;36m3\u001b[0m\u001b[1;33m\u001b[0m\u001b[1;33m\u001b[0m\u001b[0m\n\u001b[0;32m      3\u001b[0m \u001b[0mprint\u001b[0m\u001b[1;33m(\u001b[0m\u001b[0mb\u001b[0m\u001b[1;33m)\u001b[0m\u001b[1;33m\u001b[0m\u001b[1;33m\u001b[0m\u001b[0m\n\u001b[0;32m      4\u001b[0m \u001b[1;32mif\u001b[0m \u001b[0ma\u001b[0m \u001b[1;33m<\u001b[0m \u001b[0mb\u001b[0m\u001b[1;33m:\u001b[0m\u001b[1;33m\u001b[0m\u001b[1;33m\u001b[0m\u001b[0m\n\u001b[0;32m      5\u001b[0m     \u001b[0mprint\u001b[0m\u001b[1;33m(\u001b[0m\u001b[0mc\u001b[0m\u001b[1;33m)\u001b[0m\u001b[1;33m\u001b[0m\u001b[1;33m\u001b[0m\u001b[0m\n",
      "\u001b[1;31mNameError\u001b[0m: name 'a' is not defined"
     ]
    }
   ],
   "source": [
    "print(a)\n",
    "a = 3\n",
    "print(b)\n",
    "if a < b:\n",
    "    print(c)"
   ]
  },
  {
   "cell_type": "code",
   "execution_count": 2,
   "metadata": {},
   "outputs": [
    {
     "name": "stdout",
     "output_type": "stream",
     "text": [
      "3\n",
      "7\n",
      "10\n"
     ]
    }
   ],
   "source": [
    "# pravilno\n",
    "a = 3\n",
    "print(a)\n",
    "b = 7\n",
    "print(b)\n",
    "if a < b:\n",
    "    c = a+b\n",
    "    print(c)"
   ]
  },
  {
   "cell_type": "markdown",
   "metadata": {},
   "source": [
    "## Runtime errors\n",
    "\n",
    "Primeri runtime errors:\n",
    "- Deljenje z 0\n",
    "- Dostopanje do elementov, ki ne obstajajo\n",
    "- Dostopanje do datotek, ki ne obstajajo\n",
    "- Operacije nad napačnimi elementi\n",
    "- ..."
   ]
  },
  {
   "cell_type": "code",
   "execution_count": 31,
   "metadata": {},
   "outputs": [
    {
     "name": "stdout",
     "output_type": "stream",
     "text": [
      "1\n"
     ]
    },
    {
     "ename": "IndexError",
     "evalue": "list index out of range",
     "output_type": "error",
     "traceback": [
      "\u001b[1;31m---------------------------------------------------------------------------\u001b[0m",
      "\u001b[1;31mIndexError\u001b[0m                                Traceback (most recent call last)",
      "\u001b[1;32m<ipython-input-31-5524b41d4b04>\u001b[0m in \u001b[0;36m<module>\u001b[1;34m\u001b[0m\n\u001b[0;32m      1\u001b[0m \u001b[0mtab\u001b[0m \u001b[1;33m=\u001b[0m \u001b[1;33m[\u001b[0m\u001b[1;36m1\u001b[0m\u001b[1;33m,\u001b[0m\u001b[1;36m2\u001b[0m\u001b[1;33m,\u001b[0m\u001b[1;36m3\u001b[0m\u001b[1;33m]\u001b[0m\u001b[1;33m\u001b[0m\u001b[1;33m\u001b[0m\u001b[0m\n\u001b[0;32m      2\u001b[0m \u001b[0mprint\u001b[0m\u001b[1;33m(\u001b[0m\u001b[0mtab\u001b[0m\u001b[1;33m[\u001b[0m\u001b[1;36m0\u001b[0m\u001b[1;33m]\u001b[0m\u001b[1;33m)\u001b[0m\u001b[1;33m\u001b[0m\u001b[1;33m\u001b[0m\u001b[0m\n\u001b[1;32m----> 3\u001b[1;33m \u001b[0mprint\u001b[0m\u001b[1;33m(\u001b[0m\u001b[0mtab\u001b[0m\u001b[1;33m[\u001b[0m\u001b[1;36m3\u001b[0m\u001b[1;33m]\u001b[0m\u001b[1;33m)\u001b[0m\u001b[1;33m\u001b[0m\u001b[1;33m\u001b[0m\u001b[0m\n\u001b[0m\u001b[0;32m      4\u001b[0m \u001b[0mprint\u001b[0m\u001b[1;33m(\u001b[0m\u001b[1;34m\"Neki\"\u001b[0m\u001b[1;33m)\u001b[0m\u001b[1;33m\u001b[0m\u001b[1;33m\u001b[0m\u001b[0m\n",
      "\u001b[1;31mIndexError\u001b[0m: list index out of range"
     ]
    }
   ],
   "source": [
    "tab = [1,2,3]\n",
    "print(tab[0])\n",
    "print(tab[3])\n",
    "print(\"Neki\")"
   ]
  },
  {
   "cell_type": "code",
   "execution_count": 33,
   "metadata": {},
   "outputs": [
    {
     "name": "stdout",
     "output_type": "stream",
     "text": [
      "Print-1 se je izvedel.\n"
     ]
    },
    {
     "ename": "ZeroDivisionError",
     "evalue": "division by zero",
     "output_type": "error",
     "traceback": [
      "\u001b[1;31m---------------------------------------------------------------------------\u001b[0m",
      "\u001b[1;31mZeroDivisionError\u001b[0m                         Traceback (most recent call last)",
      "\u001b[1;32m<ipython-input-33-2c67553dfbcd>\u001b[0m in \u001b[0;36m<module>\u001b[1;34m\u001b[0m\n\u001b[0;32m      1\u001b[0m \u001b[0mprint\u001b[0m\u001b[1;33m(\u001b[0m\u001b[1;34m\"Print-1 se je izvedel.\"\u001b[0m\u001b[1;33m)\u001b[0m\u001b[1;33m\u001b[0m\u001b[1;33m\u001b[0m\u001b[0m\n\u001b[1;32m----> 2\u001b[1;33m \u001b[0ma\u001b[0m \u001b[1;33m=\u001b[0m \u001b[1;36m1\u001b[0m \u001b[1;33m/\u001b[0m \u001b[1;36m0\u001b[0m\u001b[1;33m\u001b[0m\u001b[1;33m\u001b[0m\u001b[0m\n\u001b[0m\u001b[0;32m      3\u001b[0m \u001b[0mprint\u001b[0m\u001b[1;33m(\u001b[0m\u001b[1;34m\"Print-2 se je izvedel.\"\u001b[0m\u001b[1;33m)\u001b[0m\u001b[1;33m\u001b[0m\u001b[1;33m\u001b[0m\u001b[0m\n",
      "\u001b[1;31mZeroDivisionError\u001b[0m: division by zero"
     ]
    }
   ],
   "source": [
    "print(\"Print-1 se je izvedel.\")\n",
    "a = 1 / 0\n",
    "print(\"Print-2 se je izvedel.\")"
   ]
  },
  {
   "cell_type": "code",
   "execution_count": 34,
   "metadata": {},
   "outputs": [
    {
     "name": "stdout",
     "output_type": "stream",
     "text": [
      "Print-1 se je izveden.\n"
     ]
    },
    {
     "ename": "NameError",
     "evalue": "name 'tempAtribut' is not defined",
     "output_type": "error",
     "traceback": [
      "\u001b[1;31m---------------------------------------------------------------------------\u001b[0m",
      "\u001b[1;31mNameError\u001b[0m                                 Traceback (most recent call last)",
      "\u001b[1;32m<ipython-input-34-75ab9dbeff45>\u001b[0m in \u001b[0;36m<module>\u001b[1;34m\u001b[0m\n\u001b[0;32m      1\u001b[0m \u001b[0mprint\u001b[0m\u001b[1;33m(\u001b[0m\u001b[1;34m\"Print-1 se je izveden.\"\u001b[0m\u001b[1;33m)\u001b[0m\u001b[1;33m\u001b[0m\u001b[1;33m\u001b[0m\u001b[0m\n\u001b[1;32m----> 2\u001b[1;33m \u001b[0mtempAtribut\u001b[0m\u001b[1;33m*\u001b[0m\u001b[1;36m2\u001b[0m\u001b[1;33m\u001b[0m\u001b[1;33m\u001b[0m\u001b[0m\n\u001b[0m\u001b[0;32m      3\u001b[0m \u001b[0mprint\u001b[0m\u001b[1;33m(\u001b[0m\u001b[1;34m\"Print-2 se je izveden.\"\u001b[0m\u001b[1;33m)\u001b[0m\u001b[1;33m\u001b[0m\u001b[1;33m\u001b[0m\u001b[0m\n",
      "\u001b[1;31mNameError\u001b[0m: name 'tempAtribut' is not defined"
     ]
    }
   ],
   "source": [
    "print(\"Print-1 se je izveden.\")\n",
    "tempAtribut*2\n",
    "print(\"Print-2 se je izveden.\")"
   ]
  },
  {
   "cell_type": "code",
   "execution_count": 37,
   "metadata": {},
   "outputs": [
    {
     "name": "stdout",
     "output_type": "stream",
     "text": [
      "Print-1 se je izveden.\n",
      "Vnesi število: aaa\n"
     ]
    },
    {
     "ename": "ValueError",
     "evalue": "invalid literal for int() with base 10: 'aaa'",
     "output_type": "error",
     "traceback": [
      "\u001b[1;31m---------------------------------------------------------------------------\u001b[0m",
      "\u001b[1;31mValueError\u001b[0m                                Traceback (most recent call last)",
      "\u001b[1;32m<ipython-input-37-b0fd1fb2bea0>\u001b[0m in \u001b[0;36m<module>\u001b[1;34m\u001b[0m\n\u001b[0;32m      1\u001b[0m \u001b[0mprint\u001b[0m\u001b[1;33m(\u001b[0m\u001b[1;34m\"Print-1 se je izveden.\"\u001b[0m\u001b[1;33m)\u001b[0m\u001b[1;33m\u001b[0m\u001b[1;33m\u001b[0m\u001b[0m\n\u001b[1;32m----> 2\u001b[1;33m \u001b[0mprint\u001b[0m\u001b[1;33m(\u001b[0m\u001b[0mint\u001b[0m\u001b[1;33m(\u001b[0m\u001b[0minput\u001b[0m\u001b[1;33m(\u001b[0m\u001b[1;34m\"Vnesi število: \"\u001b[0m\u001b[1;33m)\u001b[0m\u001b[1;33m)\u001b[0m\u001b[1;33m)\u001b[0m\u001b[1;33m\u001b[0m\u001b[1;33m\u001b[0m\u001b[0m\n\u001b[0m\u001b[0;32m      3\u001b[0m \u001b[0mprint\u001b[0m\u001b[1;33m(\u001b[0m\u001b[1;34m\"Print-2 se je izveden.\"\u001b[0m\u001b[1;33m)\u001b[0m\u001b[1;33m\u001b[0m\u001b[1;33m\u001b[0m\u001b[0m\n",
      "\u001b[1;31mValueError\u001b[0m: invalid literal for int() with base 10: 'aaa'"
     ]
    }
   ],
   "source": [
    "print(\"Print-1 se je izveden.\")\n",
    "print(int(input(\"Vnesi število: \")))\n",
    "print(\"Print-2 se je izveden.\")"
   ]
  },
  {
   "cell_type": "markdown",
   "metadata": {},
   "source": [
    "## Logical errors\n",
    "\n",
    "Logične napake programa so takrat, ko je program izvedljiv vendar je implementacija napačna.\n",
    "\n",
    "Primeri:\n",
    "- Uporaba napačne spremenljivke\n",
    "- Napačna indentacija (ko je program še izvršljiv)\n",
    "- Uporaba celoštevilnega deljenja in ne navadnega deljenja\n",
    "- ...\n",
    "\n",
    "Logične napake je najtežje popraviti, saj se program izvede brez napake vendar vrne napačen rezultat. To pomeni, da je problem v sami implementaciji programa.<br>\n",
    "Programer mora v tem primeru najti kje točno v kodi je implementacija napačna, kar pa je precej zamudno. Obstajajo pripomočki ki analizirajo izvajanje programa in pomagajo pri hitrejšem iskanju napake."
   ]
  },
  {
   "cell_type": "code",
   "execution_count": 38,
   "metadata": {},
   "outputs": [
    {
     "name": "stdout",
     "output_type": "stream",
     "text": [
      "6\n"
     ]
    }
   ],
   "source": [
    "a1 = 5\n",
    "a = 6\n",
    "print(a)"
   ]
  },
  {
   "cell_type": "code",
   "execution_count": 39,
   "metadata": {},
   "outputs": [
    {
     "name": "stdout",
     "output_type": "stream",
     "text": [
      "Oseba je imela 172.41379310344826%\n"
     ]
    }
   ],
   "source": [
    "# napačni izračun\n",
    "dobljenih_tock = 87\n",
    "moznih_tock = 150\n",
    "print(f\"Oseba je imela {moznih_tock/dobljenih_tock*100}%\")"
   ]
  },
  {
   "cell_type": "code",
   "execution_count": 40,
   "metadata": {},
   "outputs": [
    {
     "name": "stdout",
     "output_type": "stream",
     "text": [
      "Oseba je imela 57.99999999999999%\n"
     ]
    }
   ],
   "source": [
    "# pravilni izračun\n",
    "dobljenih_tock = 87\n",
    "moznih_tock = 150\n",
    "print(f\"Oseba je imela {dobljenih_tock/moznih_tock*100}%\")"
   ]
  },
  {
   "cell_type": "markdown",
   "metadata": {},
   "source": [
    "# Try and except statements\n",
    "\n",
    "Če za neki del kode predvidimo da bi lahko prišlo do napake, uporabimo try-except.\n",
    "\n",
    "Ko se zgodi napaka Python preveri, če je del kode, ki je vrgel napako znotraj try-except. Če je, Python pogleda, če kateri od exceptov poskrbi za to napako. Če najde pravilen except se izvede njegov del kode s katero poskrbimo za napako in program se nadaljuje od konca try-except.\n",
    "\n",
    "Če Python ne najde pravilnega except-a oziroma vrstica, ki je vrgla napako ni znotraj try-excepta, gre Python 1 nivo višje v kodi. Se pravi, če je bila napaka storjena znotraj funkcije in za napako nismo poskrbeli, gre Python nazaj na vrstico, ki je klicala to funkcijo, in ta vrstica bo tretirana, kot da je ona vrgla napako.\n"
   ]
  },
  {
   "cell_type": "markdown",
   "metadata": {},
   "source": [
    "Kaj so prednosti exception handling:\n",
    "* Exception se lahko preprosto posreduje naprej, dokler ne naletimo na del kode, ki lahko poskrbi za ta exception\n",
    "* Exceptions imajo veliko built-in uporabnih error informacij (lahko dobimo traceback, ki nam pomaga pri debuggiranju)\n",
    "\n",
    "> Here are a few other advantages of exception handling:\n",
    "* It separates normal code from code that handles errors.\n",
    "* Exceptions can easily be passed along functions in the stack until they reach a function which knows how to handle them.\n",
    "* The intermediate functions don’t need to have any error-handling code.\n",
    "* Exceptions come with lots of useful error information built in – for example, they can print a traceback which helps us to see exactly where the error occurred."
   ]
  },
  {
   "cell_type": "code",
   "execution_count": 43,
   "metadata": {},
   "outputs": [
    {
     "ename": "ZeroDivisionError",
     "evalue": "division by zero",
     "output_type": "error",
     "traceback": [
      "\u001b[1;31m---------------------------------------------------------------------------\u001b[0m",
      "\u001b[1;31mZeroDivisionError\u001b[0m                         Traceback (most recent call last)",
      "\u001b[1;32m<ipython-input-43-09aa0b5abb81>\u001b[0m in \u001b[0;36m<module>\u001b[1;34m\u001b[0m\n\u001b[0;32m      4\u001b[0m     \u001b[1;32mreturn\u001b[0m \u001b[0mfun1\u001b[0m\u001b[1;33m(\u001b[0m\u001b[0ma\u001b[0m\u001b[1;33m,\u001b[0m\u001b[0mb\u001b[0m\u001b[1;33m)\u001b[0m\u001b[1;33m\u001b[0m\u001b[1;33m\u001b[0m\u001b[0m\n\u001b[0;32m      5\u001b[0m \u001b[1;33m\u001b[0m\u001b[0m\n\u001b[1;32m----> 6\u001b[1;33m \u001b[0mprint\u001b[0m\u001b[1;33m(\u001b[0m\u001b[0mfun2\u001b[0m\u001b[1;33m(\u001b[0m\u001b[1;36m1\u001b[0m\u001b[1;33m,\u001b[0m\u001b[1;36m0\u001b[0m\u001b[1;33m)\u001b[0m\u001b[1;33m)\u001b[0m\u001b[1;33m\u001b[0m\u001b[1;33m\u001b[0m\u001b[0m\n\u001b[0m",
      "\u001b[1;32m<ipython-input-43-09aa0b5abb81>\u001b[0m in \u001b[0;36mfun2\u001b[1;34m(a, b)\u001b[0m\n\u001b[0;32m      2\u001b[0m     \u001b[1;32mreturn\u001b[0m \u001b[0ma\u001b[0m\u001b[1;33m/\u001b[0m\u001b[0mb\u001b[0m\u001b[1;33m\u001b[0m\u001b[1;33m\u001b[0m\u001b[0m\n\u001b[0;32m      3\u001b[0m \u001b[1;32mdef\u001b[0m \u001b[0mfun2\u001b[0m\u001b[1;33m(\u001b[0m\u001b[0ma\u001b[0m\u001b[1;33m,\u001b[0m\u001b[0mb\u001b[0m\u001b[1;33m)\u001b[0m\u001b[1;33m:\u001b[0m\u001b[1;33m\u001b[0m\u001b[1;33m\u001b[0m\u001b[0m\n\u001b[1;32m----> 4\u001b[1;33m     \u001b[1;32mreturn\u001b[0m \u001b[0mfun1\u001b[0m\u001b[1;33m(\u001b[0m\u001b[0ma\u001b[0m\u001b[1;33m,\u001b[0m\u001b[0mb\u001b[0m\u001b[1;33m)\u001b[0m\u001b[1;33m\u001b[0m\u001b[1;33m\u001b[0m\u001b[0m\n\u001b[0m\u001b[0;32m      5\u001b[0m \u001b[1;33m\u001b[0m\u001b[0m\n\u001b[0;32m      6\u001b[0m \u001b[0mprint\u001b[0m\u001b[1;33m(\u001b[0m\u001b[0mfun2\u001b[0m\u001b[1;33m(\u001b[0m\u001b[1;36m1\u001b[0m\u001b[1;33m,\u001b[0m\u001b[1;36m0\u001b[0m\u001b[1;33m)\u001b[0m\u001b[1;33m)\u001b[0m\u001b[1;33m\u001b[0m\u001b[1;33m\u001b[0m\u001b[0m\n",
      "\u001b[1;32m<ipython-input-43-09aa0b5abb81>\u001b[0m in \u001b[0;36mfun1\u001b[1;34m(a, b)\u001b[0m\n\u001b[0;32m      1\u001b[0m \u001b[1;32mdef\u001b[0m \u001b[0mfun1\u001b[0m\u001b[1;33m(\u001b[0m\u001b[0ma\u001b[0m\u001b[1;33m,\u001b[0m\u001b[0mb\u001b[0m\u001b[1;33m)\u001b[0m\u001b[1;33m:\u001b[0m\u001b[1;33m\u001b[0m\u001b[1;33m\u001b[0m\u001b[0m\n\u001b[1;32m----> 2\u001b[1;33m     \u001b[1;32mreturn\u001b[0m \u001b[0ma\u001b[0m\u001b[1;33m/\u001b[0m\u001b[0mb\u001b[0m\u001b[1;33m\u001b[0m\u001b[1;33m\u001b[0m\u001b[0m\n\u001b[0m\u001b[0;32m      3\u001b[0m \u001b[1;32mdef\u001b[0m \u001b[0mfun2\u001b[0m\u001b[1;33m(\u001b[0m\u001b[0ma\u001b[0m\u001b[1;33m,\u001b[0m\u001b[0mb\u001b[0m\u001b[1;33m)\u001b[0m\u001b[1;33m:\u001b[0m\u001b[1;33m\u001b[0m\u001b[1;33m\u001b[0m\u001b[0m\n\u001b[0;32m      4\u001b[0m     \u001b[1;32mreturn\u001b[0m \u001b[0mfun1\u001b[0m\u001b[1;33m(\u001b[0m\u001b[0ma\u001b[0m\u001b[1;33m,\u001b[0m\u001b[0mb\u001b[0m\u001b[1;33m)\u001b[0m\u001b[1;33m\u001b[0m\u001b[1;33m\u001b[0m\u001b[0m\n\u001b[0;32m      5\u001b[0m \u001b[1;33m\u001b[0m\u001b[0m\n",
      "\u001b[1;31mZeroDivisionError\u001b[0m: division by zero"
     ]
    }
   ],
   "source": [
    "def fun1(a,b):\n",
    "    return a/b\n",
    "def fun2(a,b):\n",
    "    return fun1(a,b)\n",
    "\n",
    "print(fun2(1,0))"
   ]
  },
  {
   "cell_type": "code",
   "execution_count": 45,
   "metadata": {},
   "outputs": [
    {
     "name": "stdout",
     "output_type": "stream",
     "text": [
      "Izvedi ta print\n"
     ]
    }
   ],
   "source": [
    "try:\n",
    "    print(\"Izvedi ta print\")\n",
    "except:\n",
    "    print(\"Prišlo je do napake\")"
   ]
  },
  {
   "cell_type": "code",
   "execution_count": 65,
   "metadata": {},
   "outputs": [
    {
     "name": "stdout",
     "output_type": "stream",
     "text": [
      "Nekaj posebnega\n",
      "Prišlo je do NameError-ja <name 'neka_spremenljivka' is not defined>\n",
      "Dodatni print\n"
     ]
    }
   ],
   "source": [
    "try:\n",
    "    print(\"Nekaj posebnega\")\n",
    "    #a = 1/0\n",
    "    b = neka_spremenljivka\n",
    "    print(\"Po napaki\")\n",
    "except ZeroDivisionError as err:\n",
    "    print(\"Ne smeš deljiti z 0!\")\n",
    "    print(type(err))\n",
    "    print(f\"Prišlo je do napake: {err}\")\n",
    "except NameError as er:\n",
    "    print(f\"Prišlo je do NameError-ja <{er}>\")\n",
    "\n",
    "    \n",
    "print(\"Dodatni print\")"
   ]
  },
  {
   "cell_type": "markdown",
   "metadata": {},
   "source": [
    "Dodamo lahko tudi `else:` in pa `finally:`, vendar sta opcijska (ju lahko izpustimo). Uporabimo po potrebi.\n",
    "\n",
    "Ponavadi se `finally` uporabi za čiščenje kode."
   ]
  },
  {
   "cell_type": "code",
   "execution_count": 66,
   "metadata": {},
   "outputs": [],
   "source": [
    "try:\n",
    "    pass\n",
    "except:\n",
    "    pass\n",
    "else:\n",
    "    pass\n",
    "finally:\n",
    "    pass"
   ]
  },
  {
   "cell_type": "code",
   "execution_count": 69,
   "metadata": {},
   "outputs": [
    {
     "name": "stdout",
     "output_type": "stream",
     "text": [
      "Čiščenje kode!!!!\n"
     ]
    },
    {
     "ename": "ZeroDivisionError",
     "evalue": "division by zero",
     "output_type": "error",
     "traceback": [
      "\u001b[1;31m---------------------------------------------------------------------------\u001b[0m",
      "\u001b[1;31mZeroDivisionError\u001b[0m                         Traceback (most recent call last)",
      "\u001b[1;32m<ipython-input-69-71c9ecfd225a>\u001b[0m in \u001b[0;36m<module>\u001b[1;34m\u001b[0m\n\u001b[0;32m      1\u001b[0m \u001b[1;32mtry\u001b[0m\u001b[1;33m:\u001b[0m\u001b[1;33m\u001b[0m\u001b[1;33m\u001b[0m\u001b[0m\n\u001b[1;32m----> 2\u001b[1;33m     \u001b[0ma\u001b[0m \u001b[1;33m=\u001b[0m \u001b[1;36m1\u001b[0m\u001b[1;33m/\u001b[0m\u001b[1;36m0\u001b[0m\u001b[1;33m\u001b[0m\u001b[1;33m\u001b[0m\u001b[0m\n\u001b[0m\u001b[0;32m      3\u001b[0m \u001b[1;32mexcept\u001b[0m \u001b[0mValueError\u001b[0m \u001b[1;32mas\u001b[0m \u001b[0me\u001b[0m\u001b[1;33m:\u001b[0m\u001b[1;33m\u001b[0m\u001b[1;33m\u001b[0m\u001b[0m\n\u001b[0;32m      4\u001b[0m     \u001b[0mprint\u001b[0m\u001b[1;33m(\u001b[0m\u001b[1;34mf\"ValueError: {e}\"\u001b[0m\u001b[1;33m)\u001b[0m\u001b[1;33m\u001b[0m\u001b[1;33m\u001b[0m\u001b[0m\n\u001b[0;32m      5\u001b[0m \u001b[1;31m#except ZeroDivisionError as e:\u001b[0m\u001b[1;33m\u001b[0m\u001b[1;33m\u001b[0m\u001b[1;33m\u001b[0m\u001b[0m\n",
      "\u001b[1;31mZeroDivisionError\u001b[0m: division by zero"
     ]
    }
   ],
   "source": [
    "try:\n",
    "    a = 1/0\n",
    "except ValueError as e:\n",
    "    print(f\"ValueError: {e}\")\n",
    "#except ZeroDivisionError as e:\n",
    "#    print(f\"ZeroDivisionError: {e}\")\n",
    "else:\n",
    "    print(\"Vse se je izvedlo pravilno!\")\n",
    "finally:\n",
    "    print(\"Čiščenje kode!!!!\")\n",
    "print(\"sdfsdgffd\")"
   ]
  },
  {
   "cell_type": "markdown",
   "metadata": {},
   "source": [
    "![try-exception-image.png](try-exception-image.png)"
   ]
  },
  {
   "cell_type": "markdown",
   "metadata": {},
   "source": [
    "![try-exception-else-finaly-image.png](try-exception-else-finaly-image.png)"
   ]
  },
  {
   "cell_type": "markdown",
   "metadata": {},
   "source": [
    "### Minimalna uporaba\n",
    "\n",
    "Poleg <code>try</code> je potrbno uporabiti vsaj <code>except</code> ali pa <code>finally</code>!!! "
   ]
  },
  {
   "cell_type": "code",
   "execution_count": 73,
   "metadata": {},
   "outputs": [
    {
     "name": "stdout",
     "output_type": "stream",
     "text": [
      "Prišlo je do napake\n"
     ]
    }
   ],
   "source": [
    "try:\n",
    "    a = 1/0\n",
    "except:\n",
    "    print(\"Prišlo je do napake\")"
   ]
  },
  {
   "cell_type": "code",
   "execution_count": 76,
   "metadata": {},
   "outputs": [
    {
     "name": "stdout",
     "output_type": "stream",
     "text": [
      "Izvede se finally\n"
     ]
    },
    {
     "ename": "ZeroDivisionError",
     "evalue": "division by zero",
     "output_type": "error",
     "traceback": [
      "\u001b[1;31m---------------------------------------------------------------------------\u001b[0m",
      "\u001b[1;31mZeroDivisionError\u001b[0m                         Traceback (most recent call last)",
      "\u001b[1;32m<ipython-input-76-1fd36e1f7591>\u001b[0m in \u001b[0;36m<module>\u001b[1;34m\u001b[0m\n\u001b[0;32m      1\u001b[0m \u001b[1;32mtry\u001b[0m\u001b[1;33m:\u001b[0m\u001b[1;33m\u001b[0m\u001b[1;33m\u001b[0m\u001b[0m\n\u001b[1;32m----> 2\u001b[1;33m     \u001b[0ma\u001b[0m \u001b[1;33m=\u001b[0m \u001b[1;36m1\u001b[0m\u001b[1;33m/\u001b[0m\u001b[1;36m0\u001b[0m\u001b[1;33m\u001b[0m\u001b[1;33m\u001b[0m\u001b[0m\n\u001b[0m\u001b[0;32m      3\u001b[0m \u001b[1;32mfinally\u001b[0m\u001b[1;33m:\u001b[0m\u001b[1;33m\u001b[0m\u001b[1;33m\u001b[0m\u001b[0m\n\u001b[0;32m      4\u001b[0m     \u001b[0mprint\u001b[0m\u001b[1;33m(\u001b[0m\u001b[1;34m\"Izvede se finally\"\u001b[0m\u001b[1;33m)\u001b[0m\u001b[1;33m\u001b[0m\u001b[1;33m\u001b[0m\u001b[0m\n",
      "\u001b[1;31mZeroDivisionError\u001b[0m: division by zero"
     ]
    }
   ],
   "source": [
    "try:\n",
    "    a = 1/0\n",
    "finally:\n",
    "    print(\"Izvede se finally\")"
   ]
  },
  {
   "cell_type": "code",
   "execution_count": 3,
   "metadata": {},
   "outputs": [
    {
     "name": "stdout",
     "output_type": "stream",
     "text": [
      "try\n",
      "exception\n"
     ]
    }
   ],
   "source": [
    "try:\n",
    "    print(\"try\")\n",
    "    print(1/0)\n",
    "except:\n",
    "    print(\"exception\")\n",
    "#else:\n",
    "#    print(\"else\")\n",
    "#finally:\n",
    "#    print(\"finally\")"
   ]
  },
  {
   "cell_type": "markdown",
   "metadata": {},
   "source": [
    "### Napake znotraj `except`/`else`/`finally`"
   ]
  },
  {
   "cell_type": "code",
   "execution_count": 8,
   "metadata": {},
   "outputs": [
    {
     "name": "stdout",
     "output_type": "stream",
     "text": [
      "Deljenje z 0 ni dovoljeno.\n",
      "Pravilno/Napačno, vseeno?\n"
     ]
    },
    {
     "ename": "NameError",
     "evalue": "name 'g' is not defined",
     "output_type": "error",
     "traceback": [
      "\u001b[1;31m---------------------------------------------------------------------------\u001b[0m",
      "\u001b[1;31mNameError\u001b[0m                                 Traceback (most recent call last)",
      "\u001b[1;32m<ipython-input-8-8d09c058caee>\u001b[0m in \u001b[0;36m<module>\u001b[1;34m\u001b[0m\n\u001b[0;32m      8\u001b[0m \u001b[1;32mfinally\u001b[0m\u001b[1;33m:\u001b[0m\u001b[1;33m\u001b[0m\u001b[1;33m\u001b[0m\u001b[0m\n\u001b[0;32m      9\u001b[0m     \u001b[0mprint\u001b[0m\u001b[1;33m(\u001b[0m\u001b[1;34m\"Pravilno/Napačno, vseeno?\"\u001b[0m\u001b[1;33m)\u001b[0m\u001b[1;33m\u001b[0m\u001b[1;33m\u001b[0m\u001b[0m\n\u001b[1;32m---> 10\u001b[1;33m     \u001b[0mprint\u001b[0m\u001b[1;33m(\u001b[0m\u001b[0mg\u001b[0m\u001b[1;33m)\u001b[0m\u001b[1;33m\u001b[0m\u001b[1;33m\u001b[0m\u001b[0m\n\u001b[0m\u001b[0;32m     11\u001b[0m \u001b[0mprint\u001b[0m\u001b[1;33m(\u001b[0m\u001b[1;34m\"Try-except je deloval perfektno!\"\u001b[0m\u001b[1;33m)\u001b[0m\u001b[1;33m\u001b[0m\u001b[1;33m\u001b[0m\u001b[0m\n",
      "\u001b[1;31mNameError\u001b[0m: name 'g' is not defined"
     ]
    }
   ],
   "source": [
    "# error znotraj finally statementa\n",
    "try:\n",
    "    g = 1/0\n",
    "except ZeroDivisionError:\n",
    "    print(\"Deljenje z 0 ni dovoljeno.\")\n",
    "else:\n",
    "    print(\"Nič ni bilo narobe.\")\n",
    "finally:\n",
    "    print(\"Pravilno/Napačno, vseeno?\")\n",
    "    print(g)\n",
    "print(\"Try-except je deloval perfektno!\")"
   ]
  },
  {
   "cell_type": "markdown",
   "metadata": {},
   "source": [
    "### Uporaba Except objekta\n",
    "\n",
    "Python Exceptions imajo tudi ostale informacije, kot je sporočilo, ki pove zakaj je prišlo do napake. \n",
    "\n",
    "Do teh podatkov lahko dostopamo na sledeč način:"
   ]
  },
  {
   "cell_type": "code",
   "execution_count": 90,
   "metadata": {},
   "outputs": [
    {
     "name": "stdout",
     "output_type": "stream",
     "text": [
      "a: asd\n",
      "Neuporabni Exceptinvalid literal for int() with base 10: 'asd'\n",
      "Pravilno/nepravilno, vseeno!\n"
     ]
    }
   ],
   "source": [
    "try:\n",
    "    a = int(input(\"a: \"))\n",
    "    b = int(input(\"b: \"))\n",
    "    print(a/b)\n",
    "except Exception as e:\n",
    "    print(\"Neuporabni Except\" + str(e))\n",
    "except ZeroDivisionError as e:\n",
    "    print(f\"Prišlo je do napake: {e}\")\n",
    "except ValueError as e:\n",
    "    print(f\"Prišlo je do napake: {e}\")\n",
    "else:\n",
    "    print(\"Pravilno izvedena try koda.\")\n",
    "finally:\n",
    "    print(\"Pravilno/nepravilno, vseeno!\")"
   ]
  },
  {
   "cell_type": "code",
   "execution_count": 96,
   "metadata": {},
   "outputs": [
    {
     "name": "stdout",
     "output_type": "stream",
     "text": [
      "Napaka division by zero\n",
      "<class 'ZeroDivisionError'>\n",
      "End\n"
     ]
    }
   ],
   "source": [
    "def funkcija(n):\n",
    "    return 1/n\n",
    "\n",
    "try:\n",
    "    funkcija(0)\n",
    "except ArithmeticError as e:\n",
    "    print('Napaka '+str(e))# pokaži da \"e\" ni string\n",
    "    print(type(e))\n",
    "print('End')"
   ]
  },
  {
   "cell_type": "markdown",
   "metadata": {},
   "source": [
    "V našem except delu smo specificirali, da bomo pohendlali specifično `ArithmeticError`, če nastane. Lahko bi rekli, da bomo pohendlali kakoršenkoli error ampak potem ne vemo kakšna napaka se je zgodila. Oziroma, mogoče hočemo drugačen error pohendlati na drugačen način."
   ]
  },
  {
   "cell_type": "code",
   "execution_count": 98,
   "metadata": {},
   "outputs": [
    {
     "name": "stdout",
     "output_type": "stream",
     "text": [
      "Vnesi x: sdgfdsgfdg\n",
      "Nekaj ni vredu.\n",
      "invalid literal for int() with base 10: 'sdgfdsgfdg'\n"
     ]
    }
   ],
   "source": [
    "try:\n",
    "    x = int(input(\"Vnesi x: \"))\n",
    "    y = int(input(\"Vnesi y: \"))\n",
    "    print(f'{x} / {y} = {x/y}')\n",
    "except(ValueError, ZeroDivisionError) as e:\n",
    "    print(\"Nekaj ni vredu.\")\n",
    "    print(e)"
   ]
  },
  {
   "cell_type": "code",
   "execution_count": 100,
   "metadata": {},
   "outputs": [
    {
     "name": "stdout",
     "output_type": "stream",
     "text": [
      "Vnesi x: 5\n",
      "Vnesi y: 0\n",
      "Deljitelj ne sme biti 0.\n"
     ]
    }
   ],
   "source": [
    "try:\n",
    "    x = int(input(\"Vnesi x: \"))\n",
    "    y = int(input(\"Vnesi y: \"))\n",
    "    print(f'{x} / {y} = {x/y}')\n",
    "except ValueError:\n",
    "    print(\"Obe spremeljivki morata biti številki.\")\n",
    "except ZeroDivisionError:\n",
    "    print(\"Deljitelj ne sme biti 0.\")"
   ]
  },
  {
   "cell_type": "markdown",
   "metadata": {},
   "source": [
    "V primeru napake bo Python preveril vsak `except` od vrha navzdol, če se tipa napaki ujemata. Če se napaka ne ujema z nobenim `except` potem se bo program ustavil z napako.\n",
    "\n",
    "Če se ujemata bo pa `except` obravnaval error. `Except` sprejme errorje tega razreda in vse, ki dedujejo iz tega razreda."
   ]
  },
  {
   "cell_type": "markdown",
   "metadata": {},
   "source": [
    "(https://docs.python.org/3/library/exceptions.html)\n",
    "\n",
    "Se pravi, če damo kot prvi `except` `except Exception` bomo z njim prestregl vse, ker vsi dedujejo iz tega classa.\n",
    "\n",
    "BaseException\n",
    "* SystemExit\n",
    "* KeyboardInterrupt\n",
    "* GeneratorExit\n",
    "* Exception\n",
    "* * StopIteration\n",
    "* * StopAsyncIteration\n",
    "* * ArithmeticError\n",
    "* * * FloatingPointError\n",
    "* * * OverflowError\n",
    "* * * ZeroDivisionError\n",
    "* * AssertionError\n",
    "* * AttributeError\n",
    "* * BufferError\n",
    "* * EOFError\n",
    "* * ImportError\n",
    "* * * ModuleNotFoundError\n",
    "* * LookupError\n",
    "* * * IndexError\n",
    "* * * KeyError\n",
    "* * MemoryError\n",
    "* * NameError\n",
    "* * * UnboundLocalError\n",
    "* * OSError\n",
    "* * * BlockingIOError\n",
    "* * * ChildProcessError\n",
    "* * * ConnectionError\n",
    "* * * * BrokenPipeError\n",
    "* * * * ConnectionAbortedError\n",
    "* * * * ConnectionRefusedError\n",
    "* * * * ConnectionResetError\n",
    "* * * FileExistsError\n",
    "* * * FileNotFoundError\n",
    "* * * InterruptedError\n",
    "* * * IsADirectoryError\n",
    "* * * NotADirectoryError\n",
    "* * * PermissionError\n",
    "* * * ProcessLookupError\n",
    "* * * TimeoutError\n",
    "* * ReferenceError\n",
    "* * RuntimeError\n",
    "* * * NotImplementedError\n",
    "* * * RecursionError\n",
    "* * SyntaxError\n",
    "* * * IndentationError\n",
    "* * * * TabError\n",
    "* * SystemError\n",
    "* * TypeError\n",
    "* * ValueError\n",
    "* * * UnicodeError\n",
    "* * * * UnicodeDecodeError\n",
    "* * * * UnicodeEncodeError\n",
    "* * * * UnicodeTranslateError\n",
    "* * Warning\n",
    "* * * DeprecationWarning\n",
    "* * * PendingDeprecationWarning\n",
    "* * * RuntimeWarning\n",
    "* * * SyntaxWarning\n",
    "* * * UserWarning\n",
    "* * * FutureWarning\n",
    "* * * ImportWarning\n",
    "* * * UnicodeWarning\n",
    "* * * BytesWarning\n",
    "* * * ResourceWarning"
   ]
  },
  {
   "cell_type": "code",
   "execution_count": 101,
   "metadata": {},
   "outputs": [
    {
     "name": "stdout",
     "output_type": "stream",
     "text": [
      "Vnesi x: asdasd\n",
      "Zmeraj ta prestreže.\n",
      "(<class 'Exception'>, <class 'BaseException'>, <class 'object'>)\n",
      "(<class 'ValueError'>, <class 'Exception'>, <class 'BaseException'>, <class 'object'>)\n",
      "(<class 'ZeroDivisionError'>, <class 'ArithmeticError'>, <class 'Exception'>, <class 'BaseException'>, <class 'object'>)\n"
     ]
    }
   ],
   "source": [
    "import inspect\n",
    "\n",
    "# Primer: Različno hendlanje različnih errorjev.\n",
    "try:\n",
    "    x = int(input(\"Vnesi x: \"))\n",
    "    y = int(input(\"Vnesi y: \"))\n",
    "    print(f'{x} / {y} = {x/y}')\n",
    "except Exception:\n",
    "    print(\"Zmeraj ta prestreže.\")\n",
    "except ValueError:\n",
    "    print(\"Obe spremeljivki morata biti številki.\")\n",
    "except ZeroDivisionError:\n",
    "    print(\"Deljitelj ne sme biti 0.\")\n",
    "    \n",
    "    \n",
    "print(inspect.getmro(Exception))\n",
    "print(inspect.getmro(ValueError))\n",
    "print(inspect.getmro(ZeroDivisionError))"
   ]
  },
  {
   "cell_type": "markdown",
   "metadata": {},
   "source": [
    "# NALOGA\n",
    "\n",
    "Aplikacija ki sprejme ime + starost `input()` in izpiše nek stavek.\n",
    "\n",
    "Na koncu vpraša ali se program ponovi! [y/n] `input()`"
   ]
  },
  {
   "cell_type": "code",
   "execution_count": 103,
   "metadata": {},
   "outputs": [
    {
     "name": "stdout",
     "output_type": "stream",
     "text": [
      "Uporabniku je ime aanze in star je sdfsdf let.\n"
     ]
    }
   ],
   "source": [
    "ime = \"aanze\"\n",
    "starost = \"sdfsdf\"\n",
    "print(f\"Uporabniku je ime {ime} in star je {starost} let.\")"
   ]
  },
  {
   "cell_type": "code",
   "execution_count": 104,
   "metadata": {},
   "outputs": [
    {
     "name": "stdout",
     "output_type": "stream",
     "text": [
      "Imeasffgd\n",
      "Vnesi starost: adfsgdfg\n",
      "Pozor, iz vnosa {starost} starosti nisem mogel dolociti. Uporabil sem privzeto vrednost.\n",
      "Uporabniku je ime asffgd in star je 25 let.\n"
     ]
    }
   ],
   "source": [
    "try:\n",
    "    ime = input('Ime')\n",
    "    starost = int(input('Vnesi starost: '))\n",
    "except ValueError as e:\n",
    "    print('Pozor, iz vnosa {starost} starosti nisem mogel dolociti. Uporabil sem privzeto vrednost.')\n",
    "    starost = 25\n",
    "finally:    \n",
    "    print(f\"Uporabniku je ime {ime} in star je {starost} let.\")"
   ]
  },
  {
   "cell_type": "code",
   "execution_count": 110,
   "metadata": {},
   "outputs": [
    {
     "name": "stdout",
     "output_type": "stream",
     "text": [
      "Vpiši ime uporabnika: \n",
      "Vpiši starost uporabnika: -8\n",
      "Uporabniku je ime  in star je -8 let.\n",
      "Želiš vnesti novega uporabnika [y/n]? n\n",
      "Program se zaključuje.\n"
     ]
    }
   ],
   "source": [
    "while True:\n",
    "    try:\n",
    "        ime = str(input(\"Vpiši ime uporabnika: \"))\n",
    "        starost = int(input(\"Vpiši starost uporabnika: \"))\n",
    "    except ValueError as e:\n",
    "        print(\"Starost ni bila podana v pravilni obliki. Ponovi vnos ...\")\n",
    "    else:\n",
    "        print(f\"Uporabniku je ime {ime} in star je {starost} let.\")\n",
    "    finally:\n",
    "        nadaljevanje = input(\"Želiš vnesti novega uporabnika [y/n]? \")\n",
    "        if nadaljevanje == \"y\":\n",
    "           pass\n",
    "        elif nadaljevanje == \"n\":\n",
    "            print(\"Program se zaključuje.\")\n",
    "            break\n",
    "        else:\n",
    "            print(\"Tvoja odločitev ni jasno izražena. Poskusi znova.\")"
   ]
  },
  {
   "cell_type": "code",
   "execution_count": 109,
   "metadata": {},
   "outputs": [
    {
     "name": "stdout",
     "output_type": "stream",
     "text": [
      "Vnesi ime: sadas\n",
      "Vnesi starost:-8\n",
      "Uporabniku je ime sadas in star je -8 let.\n",
      "Ali naj se program ponovi ( y / n ) ? n\n"
     ]
    }
   ],
   "source": [
    "try:\n",
    "    while True:\n",
    "        ime = input(\"Vnesi ime: \")\n",
    "        starost = int(input(\"Vnesi starost:\"))\n",
    "        print(f\"Uporabniku je ime {ime} in star je {starost} let.\")\n",
    "\n",
    "        ponovitev = input(\"Ali naj se program ponovi ( y / n ) ? \")\n",
    "        \n",
    "        if ponovitev == \"n\":\n",
    "            break\n",
    "\n",
    "\n",
    "except ValueError as e:\n",
    "    print(f\"Napačno starost {e}\")"
   ]
  },
  {
   "cell_type": "markdown",
   "metadata": {},
   "source": [
    "### Raise\n",
    "\n",
    "`Raise` se uporabljamo, da lahko tudi sami pokličemo napako."
   ]
  },
  {
   "cell_type": "code",
   "execution_count": 117,
   "metadata": {},
   "outputs": [
    {
     "name": "stdout",
     "output_type": "stream",
     "text": [
      "Vpiši ime uporabnika: \n",
      "Želiš vnesti novega uporabnika [y/n]? y\n"
     ]
    },
    {
     "ename": "IndexError",
     "evalue": "string index out of range",
     "output_type": "error",
     "traceback": [
      "\u001b[1;31m---------------------------------------------------------------------------\u001b[0m",
      "\u001b[1;31mIndexError\u001b[0m                                Traceback (most recent call last)",
      "\u001b[1;32m<ipython-input-117-c3653c9ab0c1>\u001b[0m in \u001b[0;36m<module>\u001b[1;34m\u001b[0m\n\u001b[0;32m      2\u001b[0m     \u001b[1;32mtry\u001b[0m\u001b[1;33m:\u001b[0m\u001b[1;33m\u001b[0m\u001b[1;33m\u001b[0m\u001b[0m\n\u001b[0;32m      3\u001b[0m         \u001b[0mime\u001b[0m \u001b[1;33m=\u001b[0m \u001b[0mstr\u001b[0m\u001b[1;33m(\u001b[0m\u001b[0minput\u001b[0m\u001b[1;33m(\u001b[0m\u001b[1;34m\"Vpiši ime uporabnika: \"\u001b[0m\u001b[1;33m)\u001b[0m\u001b[1;33m)\u001b[0m\u001b[1;33m\u001b[0m\u001b[1;33m\u001b[0m\u001b[0m\n\u001b[1;32m----> 4\u001b[1;33m         \u001b[1;32mif\u001b[0m \u001b[0mime\u001b[0m\u001b[1;33m[\u001b[0m\u001b[1;36m0\u001b[0m\u001b[1;33m]\u001b[0m\u001b[1;33m:\u001b[0m\u001b[1;33m\u001b[0m\u001b[1;33m\u001b[0m\u001b[0m\n\u001b[0m\u001b[0;32m      5\u001b[0m             \u001b[1;32mraise\u001b[0m \u001b[0mImeNiPravilno\u001b[0m\u001b[1;33m(\u001b[0m\u001b[1;34m\"Ime ni bilo vnešeno pravilno!\"\u001b[0m\u001b[1;33m)\u001b[0m\u001b[1;33m\u001b[0m\u001b[1;33m\u001b[0m\u001b[0m\n\u001b[0;32m      6\u001b[0m         \u001b[0mstarost\u001b[0m \u001b[1;33m=\u001b[0m \u001b[0mint\u001b[0m\u001b[1;33m(\u001b[0m\u001b[0minput\u001b[0m\u001b[1;33m(\u001b[0m\u001b[1;34m\"Vpiši starost uporabnika: \"\u001b[0m\u001b[1;33m)\u001b[0m\u001b[1;33m)\u001b[0m\u001b[1;33m\u001b[0m\u001b[1;33m\u001b[0m\u001b[0m\n",
      "\u001b[1;31mIndexError\u001b[0m: string index out of range"
     ]
    }
   ],
   "source": [
    "while True:\n",
    "    try:\n",
    "        ime = str(input(\"Vpiši ime uporabnika: \"))\n",
    "        if ime[0]:\n",
    "            raise ImeNiPravilno(\"Ime ni bilo vnešeno pravilno!\")\n",
    "        starost = int(input(\"Vpiši starost uporabnika: \"))\n",
    "        if starost < 0:\n",
    "            raise ValueError(\"Starost ne sme biti negativna!!!\")\n",
    "    except ValueError as e:\n",
    "        print(\"Starost ni bila podana v pravilni obliki. Ponovi vnos ...\")\n",
    "        print(f\"ValueError: {e}\")\n",
    "    \n",
    "    except ImeNiPravilno as e:\n",
    "        print(f\"Napaka: {e}\")\n",
    "    \n",
    "    else:\n",
    "        print(f\"Uporabniku je ime {ime} in star je {starost} let.\")\n",
    "    finally:\n",
    "        nadaljevanje = input(\"Želiš vnesti novega uporabnika [y/n]? \")\n",
    "        if nadaljevanje == \"y\":\n",
    "           pass\n",
    "        elif nadaljevanje == \"n\":\n",
    "            print(\"Program se zaključuje.\")\n",
    "            break\n",
    "        else:\n",
    "            print(\"Tvoja odločitev ni jasno izražena. Poskusi znova.\")"
   ]
  },
  {
   "cell_type": "code",
   "execution_count": 113,
   "metadata": {},
   "outputs": [],
   "source": [
    "class ImeNiPravilno(Exception): # custom Exception\n",
    "    pass"
   ]
  },
  {
   "cell_type": "markdown",
   "metadata": {},
   "source": [
    "V tem primeru smo sami `raise`-ali `ValueError` v primeru, ko je bil `input()` pravilen ampak je bil negativen.\n",
    "\n",
    "Uporabili smo `ValueError` z našim sporočilom. Lahko bi uporabili tudi katerokoli drugo napako."
   ]
  },
  {
   "cell_type": "markdown",
   "metadata": {},
   "source": [
    "### Pisanje svojih Exceptionov"
   ]
  },
  {
   "cell_type": "code",
   "execution_count": 119,
   "metadata": {},
   "outputs": [
    {
     "name": "stdout",
     "output_type": "stream",
     "text": [
      "D\n",
      "D\n",
      "C\n",
      "B\n"
     ]
    }
   ],
   "source": [
    "class B(Exception):\n",
    "    pass\n",
    "\n",
    "class C(B):\n",
    "    pass\n",
    "\n",
    "class D(B):\n",
    "    pass\n",
    "\n",
    "class E(D):\n",
    "    pass\n",
    "\n",
    "for error in [E, D, C, B]:\n",
    "    try:\n",
    "        raise error\n",
    "    except D: # treba pazt zaporedje exceptov!\n",
    "        print(\"D\")\n",
    "    except C:\n",
    "        print(\"C\")\n",
    "    except B:\n",
    "        print(\"B\")"
   ]
  },
  {
   "cell_type": "code",
   "execution_count": 120,
   "metadata": {},
   "outputs": [],
   "source": [
    "class ImeNiPravilno(Exception):\n",
    "    pass"
   ]
  },
  {
   "cell_type": "code",
   "execution_count": 126,
   "metadata": {},
   "outputs": [
    {
     "name": "stdout",
     "output_type": "stream",
     "text": [
      "Vpiši ime uporabnika: \n",
      "Napaka: Ime ni bilo vnešeno pravilno!\n",
      "Želiš vnesti novega uporabnika [y/n]? y\n",
      "Vpiši ime uporabnika: \n",
      "Napaka: Ime ni bilo vnešeno pravilno!\n",
      "Želiš vnesti novega uporabnika [y/n]? \n",
      "Tvoja odločitev ni jasno izražena. Poskusi znova.\n",
      "Vpiši ime uporabnika: \n",
      "Napaka: Ime ni bilo vnešeno pravilno!\n",
      "Želiš vnesti novega uporabnika [y/n]? \n",
      "Tvoja odločitev ni jasno izražena. Poskusi znova.\n",
      "Vpiši ime uporabnika: \n",
      "Napaka: Ime ni bilo vnešeno pravilno!\n",
      "Želiš vnesti novega uporabnika [y/n]? n\n",
      "Program se zaključuje.\n"
     ]
    }
   ],
   "source": [
    "while True:\n",
    "    try:\n",
    "        ime = str(input(\"Vpiši ime uporabnika: \"))\n",
    "        if len(ime) < 1:\n",
    "            raise ImeNiPravilno(\"Ime ni bilo vnešeno pravilno!\")\n",
    "        starost = int(input(\"Vpiši starost uporabnika: \"))\n",
    "        if starost < 0:\n",
    "            raise ValueError(\"Starost ne sme biti negativna!!!\")\n",
    "    except ValueError as e:\n",
    "        print(\"Starost ni bila podana v pravilni obliki. Ponovi vnos ...\")\n",
    "        print(f\"ValueError: {e}\")\n",
    "    \n",
    "    except ImeNiPravilno as e:\n",
    "        print(f\"Napaka: {e}\")\n",
    "    \n",
    "    else:\n",
    "        print(f\"Uporabniku je ime {ime} in star je {starost} let.\")\n",
    "    finally:\n",
    "        nadaljevanje = input(\"Želiš vnesti novega uporabnika [y/n]? \")\n",
    "        if nadaljevanje == \"y\":\n",
    "           pass\n",
    "        elif nadaljevanje == \"n\":\n",
    "            print(\"Program se zaključuje.\")\n",
    "            break\n",
    "        else:\n",
    "            print(\"Tvoja odločitev ni jasno izražena. Poskusi znova.\")"
   ]
  },
  {
   "cell_type": "markdown",
   "metadata": {},
   "source": [
    "### Assertion\n",
    "`assert Expression[, Arguments]`\n",
    "\n",
    "`assert` se uporablja za preverbo vrednosti programa oziroma, da je neka vrednost programa v skladu s pričakovanji.\n",
    "\n",
    "..deluje podobno kot `raise`, vendar s tem da preveri neko vrednost in raise-a `AssertionError`\n",
    "\n",
    "Načeloma se uporablja kot pomoč pri hitremu debug-iranju programa."
   ]
  },
  {
   "cell_type": "code",
   "execution_count": 125,
   "metadata": {},
   "outputs": [
    {
     "ename": "AssertionError",
     "evalue": "Spremenljivka <a> naj bi bila manjša od 10 !!!",
     "output_type": "error",
     "traceback": [
      "\u001b[1;31m---------------------------------------------------------------------------\u001b[0m",
      "\u001b[1;31mAssertionError\u001b[0m                            Traceback (most recent call last)",
      "\u001b[1;32m<ipython-input-125-bef82f1c1c0a>\u001b[0m in \u001b[0;36m<module>\u001b[1;34m\u001b[0m\n\u001b[0;32m      1\u001b[0m \u001b[0ma\u001b[0m \u001b[1;33m=\u001b[0m \u001b[1;36m20\u001b[0m\u001b[1;33m\u001b[0m\u001b[1;33m\u001b[0m\u001b[0m\n\u001b[1;32m----> 2\u001b[1;33m \u001b[1;32massert\u001b[0m \u001b[0ma\u001b[0m \u001b[1;33m<\u001b[0m \u001b[1;36m10\u001b[0m\u001b[1;33m,\u001b[0m \u001b[1;34m\"Spremenljivka <a> naj bi bila manjša od 10 !!!\"\u001b[0m\u001b[1;33m\u001b[0m\u001b[1;33m\u001b[0m\u001b[0m\n\u001b[0m\u001b[0;32m      3\u001b[0m \u001b[0mprint\u001b[0m\u001b[1;33m(\u001b[0m\u001b[1;34m\"sdfdsf\"\u001b[0m\u001b[1;33m)\u001b[0m\u001b[1;33m\u001b[0m\u001b[1;33m\u001b[0m\u001b[0m\n",
      "\u001b[1;31mAssertionError\u001b[0m: Spremenljivka <a> naj bi bila manjša od 10 !!!"
     ]
    }
   ],
   "source": [
    "a = 20\n",
    "assert a < 10, \"Spremenljivka <a> naj bi bila manjša od 10 !!!\"\n",
    "print(\"sdfdsf\")"
   ]
  },
  {
   "cell_type": "code",
   "execution_count": null,
   "metadata": {},
   "outputs": [],
   "source": []
  },
  {
   "cell_type": "markdown",
   "metadata": {},
   "source": [
    "# Delo z datotekami"
   ]
  },
  {
   "cell_type": "markdown",
   "metadata": {},
   "source": [
    "## Kaj je datoteka?\n",
    "\n",
    "Datoteke uporabljamo, da v njih trajno shranimo podatke.\n",
    "\n",
    "V splošnem delo z datotekami poteka na sledeč način:\n",
    "- Odpremo datoteko\n",
    "- Izvedemo operacijo (pisanje podatkov v datoteko, branje podatkov, itd..)\n",
    "- Zapremo datoteko (ter tako sprostimo vire, ki so vezani na upravljanje z datoteko -> spomin, procesorska moč, itd..)"
   ]
  },
  {
   "cell_type": "markdown",
   "metadata": {},
   "source": [
    "### Odpiranje datotek\n",
    "\n",
    "Python ima že vgrajeno funkcijo ```open()``` za odpiranje datotek.\n",
    "\n",
    "`open(file, mode='r', buffering=-1, encoding=None, errors=None, newline=None, closefd=True, opener=None)`\n",
    "\n",
    "Funkcija nam vrne ```file object```, imenovan tudi **handle** , s katerim lahko izvajamo operacije nad datoteko."
   ]
  },
  {
   "cell_type": "code",
   "execution_count": 130,
   "metadata": {},
   "outputs": [
    {
     "name": "stdout",
     "output_type": "stream",
     "text": [
      "<_io.TextIOWrapper name='test.txt' mode='r' encoding='cp1250'>\n"
     ]
    }
   ],
   "source": [
    "f = open(\"test.txt\",'r')\n",
    "print(f)\n",
    "#f = open(\"C:/Python33/README.txt\")  # specifying full path"
   ]
  },
  {
   "cell_type": "markdown",
   "metadata": {},
   "source": [
    "Dodatno lahko specificiramo v kakšnem načinu želimo odpreti datoteko.\n",
    "\n",
    "Lahko jo odpremo v **`text mode`**. Ko beremo podatke v tem načinu, dobivamo *`strings`*. To je *default mode*. Lahko pa datoteko odpremo v **`binary mode`**, kjer podatke beremo kot *`bytes`*. Takšen način se uporablja pri branju non-text datotek, kot so slike, itd..\n",
    "\n",
    "Datoteke lahko odpremo v načinu:\n",
    "- **r** - Podatke lahko samo beremo. (default način)\n",
    "- **w** - Podatke lahko pišemo v datoteko. Če datoteka ne obstaja jo ustvarimo. Če datoteka obstaja jo prepišemo (če so bli noter podatki jih izgubimo)\n",
    "- **x** - Ustvarimo datoteko. Če datoteka že obstaja operacija fail-a\n",
    "- **a** - Odpremo datoteko z namenom dodajanja novih podatkov. Če datoteka ne obstaja jo ustvarimo.\n",
    "- **t** - odpremo v \"text mode\" (dafult mode)\n",
    "- **b** - odpremo v \"binary mode\"\n",
    "- **+** - odpremo v \"read mode\" in \"write mode\" (za posodabljanje)"
   ]
  },
  {
   "cell_type": "code",
   "execution_count": 134,
   "metadata": {},
   "outputs": [],
   "source": [
    "f = open(\"test.txt\")\n",
    "#f = open(\"test.txt\",mode='rt')"
   ]
  },
  {
   "cell_type": "code",
   "execution_count": 145,
   "metadata": {},
   "outputs": [
    {
     "name": "stdout",
     "output_type": "stream",
     "text": [
      "<_io.TextIOWrapper name='test.txt' mode='w' encoding='cp1250'>\n"
     ]
    }
   ],
   "source": [
    "f = open(\"test.txt\",mode=\"w\")\n",
    "f.write(\"Nekaj še tretjega\\n\")\n",
    "print(f)\n",
    "f.close()"
   ]
  },
  {
   "cell_type": "markdown",
   "metadata": {},
   "source": [
    "### Kodiranje\n",
    "\n",
    "Za razliko od drugih programskih jezikov, znak `'a'` ne predstavlja neposredno `97`, dokler ni zakodiran kot ASCII (oziroma s podobnim kodom)\n",
    "\n",
    "Predvideno kodiranje v datoteki je odvisno od samega sistema, kjer se program zaganja. Na Windows sistemih je `\"cp1252\"`, na Linuxih pa `\"utf-8\"`\n",
    "\n",
    "Torej se ne smemo pozabiti definirati sistema kodiranja `'encoding'`, drugače bo naš program deloval različno na različnih platformah.\n",
    "\n",
    "Posledično, ko delamo z datotekami, je ZELO priporočljivo, da se nastavi `'encoding'`!"
   ]
  },
  {
   "cell_type": "code",
   "execution_count": 146,
   "metadata": {},
   "outputs": [
    {
     "name": "stdout",
     "output_type": "stream",
     "text": [
      "<_io.TextIOWrapper name='test.txt' mode='w' encoding='utf-8'>\n"
     ]
    }
   ],
   "source": [
    "f = open(\"test.txt\",mode=\"w\",encoding=\"utf-8\")\n",
    "f.write(\"Nekaj še tretjega\\n\")\n",
    "print(f)\n",
    "f.close()"
   ]
  },
  {
   "cell_type": "code",
   "execution_count": 149,
   "metadata": {},
   "outputs": [
    {
     "data": {
      "text/plain": [
       "353"
      ]
     },
     "execution_count": 149,
     "metadata": {},
     "output_type": "execute_result"
    }
   ],
   "source": [
    "ord('š')"
   ]
  },
  {
   "cell_type": "code",
   "execution_count": 150,
   "metadata": {},
   "outputs": [
    {
     "data": {
      "text/plain": [
       "'š'"
      ]
     },
     "execution_count": 150,
     "metadata": {},
     "output_type": "execute_result"
    }
   ],
   "source": [
    "chr(353)"
   ]
  },
  {
   "cell_type": "code",
   "execution_count": 153,
   "metadata": {},
   "outputs": [
    {
     "name": "stdout",
     "output_type": "stream",
     "text": [
      "b'\\x9a'\n"
     ]
    }
   ],
   "source": [
    "print(\"š\".encode(\"cp1250\"))"
   ]
  },
  {
   "cell_type": "code",
   "execution_count": 154,
   "metadata": {},
   "outputs": [
    {
     "name": "stdout",
     "output_type": "stream",
     "text": [
      "b'\\xc5\\xa1'\n"
     ]
    }
   ],
   "source": [
    "print(\"š\".encode(\"utf-8\"))"
   ]
  },
  {
   "cell_type": "code",
   "execution_count": 157,
   "metadata": {},
   "outputs": [
    {
     "name": "stdout",
     "output_type": "stream",
     "text": [
      "Nekaj še tretjega\n",
      "\n"
     ]
    }
   ],
   "source": [
    "f = open(\"test.txt\",'r',encoding=\"utf-8\")\n",
    "# kar hočemo narediti s datoteko\n",
    "for line in f:\n",
    "    print(line)\n",
    "f.close()"
   ]
  },
  {
   "cell_type": "markdown",
   "metadata": {},
   "source": [
    "### Zapiranje datotek\n",
    "\n",
    "Ko končamo z našo operacijo moramo datoteko zapreti, ker tako sprostimo vire, ki so vezani na uporabo datoteke (spomin, procesorska moč, itd..).\n",
    "\n",
    "`file.close()` - ukaz za zapiranje datoteke"
   ]
  },
  {
   "cell_type": "code",
   "execution_count": 161,
   "metadata": {},
   "outputs": [
    {
     "name": "stdout",
     "output_type": "stream",
     "text": [
      "Zapiram datoteko...\n",
      "Datoteka zaprta!\n"
     ]
    },
    {
     "ename": "ZeroDivisionError",
     "evalue": "division by zero",
     "output_type": "error",
     "traceback": [
      "\u001b[1;31m------------------------------------------------------\u001b[0m",
      "\u001b[1;31mZeroDivisionError\u001b[0m    Traceback (most recent call last)",
      "\u001b[1;32m<ipython-input-161-76c35671d0c4>\u001b[0m in \u001b[0;36m<module>\u001b[1;34m\u001b[0m\n\u001b[0;32m      1\u001b[0m \u001b[1;32mtry\u001b[0m\u001b[1;33m:\u001b[0m\u001b[1;33m\u001b[0m\u001b[1;33m\u001b[0m\u001b[0m\n\u001b[0;32m      2\u001b[0m     \u001b[0mfile\u001b[0m \u001b[1;33m=\u001b[0m \u001b[0mopen\u001b[0m\u001b[1;33m(\u001b[0m\u001b[1;34m\"test.txt\"\u001b[0m\u001b[1;33m,\u001b[0m\u001b[1;34m'r'\u001b[0m\u001b[1;33m)\u001b[0m\u001b[1;33m\u001b[0m\u001b[1;33m\u001b[0m\u001b[0m\n\u001b[1;32m----> 3\u001b[1;33m     \u001b[1;36m1\u001b[0m\u001b[1;33m/\u001b[0m\u001b[1;36m0\u001b[0m\u001b[1;33m\u001b[0m\u001b[1;33m\u001b[0m\u001b[0m\n\u001b[0m\u001b[0;32m      4\u001b[0m \u001b[1;32mfinally\u001b[0m\u001b[1;33m:\u001b[0m\u001b[1;33m\u001b[0m\u001b[1;33m\u001b[0m\u001b[0m\n\u001b[0;32m      5\u001b[0m     \u001b[0mprint\u001b[0m\u001b[1;33m(\u001b[0m\u001b[1;34m\"Zapiram datoteko...\"\u001b[0m\u001b[1;33m)\u001b[0m\u001b[1;33m\u001b[0m\u001b[1;33m\u001b[0m\u001b[0m\n",
      "\u001b[1;31mZeroDivisionError\u001b[0m: division by zero"
     ]
    }
   ],
   "source": [
    "try:\n",
    "    file = open(\"test.txt\",'r')\n",
    "    1/0\n",
    "finally:\n",
    "    print(\"Zapiram datoteko...\")\n",
    "    file.close()\n",
    "    print(\"Datoteka zaprta!\")"
   ]
  },
  {
   "cell_type": "markdown",
   "metadata": {},
   "source": [
    "Tak način upravljanja z datotekami ni najbolj varen. Če smo odprli datoteko in potem med izvajanjem operacije nad datoteko pride do napake, datoteke ne bomo zaprli.\n",
    "\n",
    "Varnejši način bi bil z uporabo **try-finally**."
   ]
  },
  {
   "cell_type": "markdown",
   "metadata": {},
   "source": [
    "Isto stvar dosežemo z uporabo ```with statement```."
   ]
  },
  {
   "cell_type": "code",
   "execution_count": 166,
   "metadata": {},
   "outputs": [
    {
     "name": "stdout",
     "output_type": "stream",
     "text": [
      "5\n"
     ]
    }
   ],
   "source": [
    "with open(\"test.txt\",'rt',encoding=\"utf-8\") as file:\n",
    "    a = 5\n",
    "    \n",
    "print(a)"
   ]
  },
  {
   "cell_type": "code",
   "execution_count": 173,
   "metadata": {},
   "outputs": [],
   "source": [
    "with open(\"test.txt\",'a',encoding=\"utf-8\") as file:\n",
    "    file.write(\"Nekaj sedmega\\n\")\n",
    "    "
   ]
  },
  {
   "cell_type": "markdown",
   "metadata": {},
   "source": [
    "### Branje datotek\n",
    "\n",
    "Za branje, datoteko odpremo v *read* (**r**) načinu.\n",
    "\n",
    "(Imamo datoteko katere vsebina je: *Hello World!\\nThis is my file.* )"
   ]
  },
  {
   "cell_type": "code",
   "execution_count": 176,
   "metadata": {},
   "outputs": [
    {
     "name": "stdout",
     "output_type": "stream",
     "text": [
      "<class 'str'>\n",
      "Hello World!\n",
      "This is my file.\n"
     ]
    }
   ],
   "source": [
    "with open(\"test.txt\",'rt',encoding=\"utf-8\") as file:\n",
    "    file_data = file.read() # read all data\n",
    "    print(type(file_data))\n",
    "    print(file_data)"
   ]
  },
  {
   "cell_type": "code",
   "execution_count": 178,
   "metadata": {},
   "outputs": [
    {
     "name": "stdout",
     "output_type": "stream",
     "text": [
      "Hello World!\n",
      "This is my file."
     ]
    }
   ],
   "source": [
    "with open(\"test.txt\",'rt',encoding=\"utf-8\") as file:\n",
    "    for line in file:\n",
    "        print(line,end=\"\")"
   ]
  },
  {
   "cell_type": "code",
   "execution_count": 187,
   "metadata": {},
   "outputs": [
    {
     "name": "stdout",
     "output_type": "stream",
     "text": [
      "Hello World!\n",
      "This is my file.\n",
      "0"
     ]
    }
   ],
   "source": [
    "with open(\"test.txt\",'rt',encoding=\"utf-8\") as file:\n",
    "    line1 = file.readline()\n",
    "    print(line1,end=\"\")\n",
    "    line2 = file.readline()\n",
    "    print(line2,end=\"\")\n",
    "    line3 = file.readline()\n",
    "    print(line3,end=\"\\n\")\n",
    "    print(len(line3),end=\"\")"
   ]
  },
  {
   "cell_type": "code",
   "execution_count": 192,
   "metadata": {},
   "outputs": [
    {
     "name": "stdout",
     "output_type": "stream",
     "text": [
      "Hello \n",
      "6\n",
      "World!\n",
      "Thi\n"
     ]
    }
   ],
   "source": [
    "with open(\"test.txt\",'rt',encoding=\"utf-8\") as file:\n",
    "    file_data = file.read(6) # prebere prvih 6 znakov\n",
    "    print(file_data)\n",
    "    print(file.tell())\n",
    "    file_data = file.read(10) # prebere naslednjih 10 znakov\n",
    "    print(file_data)"
   ]
  },
  {
   "cell_type": "markdown",
   "metadata": {},
   "source": [
    "> We can see that, the read() method returns newline as '\\n'. Once the end of file is reached, we get empty string on further reading.\n",
    "\n",
    "Po datoteki se lahko tudi premikamo z uporabo ```seek()``` in ```tell()``` metode."
   ]
  },
  {
   "cell_type": "code",
   "execution_count": 194,
   "metadata": {},
   "outputs": [
    {
     "name": "stdout",
     "output_type": "stream",
     "text": [
      "Hello \n",
      "6\n",
      "0\n",
      "Hello Worl\n"
     ]
    }
   ],
   "source": [
    "with open(\"test.txt\",'rt',encoding=\"utf-8\") as file:\n",
    "    file_data = file.read(6)\n",
    "    print(file_data)\n",
    "    print(file.tell())\n",
    "    file.seek(0)\n",
    "    print(file.tell())\n",
    "    file_data = file.read(10)\n",
    "    print(file_data)"
   ]
  },
  {
   "cell_type": "markdown",
   "metadata": {},
   "source": [
    "Datoteko lahko hitro in učinkovito preberemo vrstico po vrstico, z uporabo ```for loop```."
   ]
  },
  {
   "cell_type": "code",
   "execution_count": 201,
   "metadata": {},
   "outputs": [
    {
     "name": "stdout",
     "output_type": "stream",
     "text": [
      "13\n",
      "16\n"
     ]
    }
   ],
   "source": [
    "with open(\"test.txt\",'rt',encoding=\"utf-8\") as file:\n",
    "    for line in file:\n",
    "        print(len(line),end=\"\\n\")"
   ]
  },
  {
   "cell_type": "markdown",
   "metadata": {},
   "source": [
    "```readlines()``` nam vrne listo preostalih linij v datoteki.\n",
    "\n",
    "(če prov vidm ```readlines()``` prebere vrstice in postavi cursor na konc)"
   ]
  },
  {
   "cell_type": "code",
   "execution_count": 9,
   "metadata": {},
   "outputs": [
    {
     "name": "stdout",
     "output_type": "stream",
     "text": [
      "['Nekaj tretjega\\n', 'Moja datoteka\\n', '------------Nekaj tretjega\\n', 'Moja datoteka\\n', '------------Nekaj tretjega\\n', '\\tMoja datoteka\\n', '------------Nekaj tretjega\\n', '\\tMoja datoteka\\n', '------------']\n",
      "Nekaj tretjega\n",
      "\n",
      "Nekaj tretjega\n",
      "\n"
     ]
    }
   ],
   "source": [
    "with open(\"test.txt\",'rt',encoding=\"utf-8\") as file:\n",
    "    allLines = file.readlines()\n",
    "    print(allLines)\n",
    "    print(allLines[0])\n",
    "    print(allLines[0])"
   ]
  },
  {
   "cell_type": "markdown",
   "metadata": {},
   "source": [
    "### Pisanje datotek"
   ]
  },
  {
   "cell_type": "markdown",
   "metadata": {},
   "source": [
    "Za pisanje v datoteko jo odpremo v načinu za pisanje:\n",
    "- **w** (ta način bo prepisal vse podatke že shranjene v datoteki)\n",
    "- **a** (s tem načinom bomo dodajali podatke na konec datoteke)\n",
    "- **x** (s tem ustvarimo datoteko in lahko začnemo v njo pisati)\n",
    "\n",
    "> Writing a string or sequence of bytes (for binary files) is done using write() method. This method returns the number of characters written to the file."
   ]
  },
  {
   "cell_type": "code",
   "execution_count": 209,
   "metadata": {},
   "outputs": [],
   "source": [
    "with open(\"test.txt\",'wt',encoding=\"utf-8\") as file:\n",
    "    file.write(\"Nekaj tretjega\\nMoja datoteka\\n------------\")"
   ]
  },
  {
   "cell_type": "code",
   "execution_count": 213,
   "metadata": {},
   "outputs": [],
   "source": [
    "with open(\"test.txt\",'at',encoding=\"utf-8\") as file:\n",
    "    file.write(\"Nekaj tretjega\\n\\tMoja datoteka\\n------------\")"
   ]
  },
  {
   "cell_type": "code",
   "execution_count": 212,
   "metadata": {},
   "outputs": [
    {
     "name": "stdout",
     "output_type": "stream",
     "text": [
      "Datoteka že obstatja! [Errno 17] File exists: 'test.txt'\n"
     ]
    }
   ],
   "source": [
    "try:\n",
    "    with open(\"test.txt\",'xt',encoding=\"utf-8\") as file:\n",
    "        file.write(\"Nekaj tretjega\\nMoja datoteka\\n------------\")\n",
    "except FileExistsError as e:\n",
    "    print(f\"Datoteka že obstatja! {e}\")"
   ]
  },
  {
   "cell_type": "code",
   "execution_count": 214,
   "metadata": {},
   "outputs": [
    {
     "name": "stdout",
     "output_type": "stream",
     "text": [
      "42\n"
     ]
    }
   ],
   "source": [
    "with open(\"test.txt\",'at',encoding=\"utf-8\") as file:\n",
    "    st_bytov = file.write(\"Nekaj tretjega\\n\\tMoja datoteka\\n------------\")\n",
    "    print(st_bytov)"
   ]
  },
  {
   "cell_type": "code",
   "execution_count": 216,
   "metadata": {},
   "outputs": [
    {
     "name": "stdout",
     "output_type": "stream",
     "text": [
      "Datoteka že obstatja! [Errno 17] File exists: 'test2.txt'\n"
     ]
    }
   ],
   "source": [
    "try:\n",
    "    with open(\"test2.txt\",'xt',encoding=\"utf-8\") as file:\n",
    "        file.write(\"Nekaj tretjega\\nMoja datoteka\\n------------\")\n",
    "except FileExistsError as e:\n",
    "    print(f\"Datoteka že obstatja! {e}\")"
   ]
  },
  {
   "cell_type": "markdown",
   "metadata": {},
   "source": [
    "## CSV\n",
    "\n",
    "(*Comma Separated Values*)"
   ]
  },
  {
   "cell_type": "markdown",
   "metadata": {},
   "source": [
    "Eden izmed najenostavnejših načinov predstavitve podatkov\n",
    "\n",
    "Ta način je uporabljen v excelu.\n",
    "\n",
    "Ponavadi je zgrajen tako, da prva vrstica predstavlja glavo podatkov (torej opis vsakega od stolpcev) nato pa sledijo vrstice podatkov ki so ločene z vejico (lahko tudi s tabulatorjem oziroma kar koli se odločimo)."
   ]
  },
  {
   "cell_type": "markdown",
   "metadata": {},
   "source": [
    "### Odpiranje in obelava CSV datotek"
   ]
  },
  {
   "cell_type": "code",
   "execution_count": 223,
   "metadata": {},
   "outputs": [
    {
     "name": "stdout",
     "output_type": "stream",
     "text": [
      "['ID', 'Ime', 'Priimek', 'Starost']\n",
      "['1', 'Anže', 'Novak', '67']\n",
      "['5', 'Jože', 'Pavliha', '19']\n",
      "['3', 'Nikola', 'Staniš', '20']\n"
     ]
    }
   ],
   "source": [
    "# branje\n",
    "with open(\"osebe.csv\",'rt',encoding=\"utf-8\") as f:\n",
    "    data = []\n",
    "    for line in f:\n",
    "        data.append(line.split(\"\\n\")[0].split(\",\"))\n",
    "for li in data:\n",
    "    print(li)"
   ]
  },
  {
   "cell_type": "code",
   "execution_count": 226,
   "metadata": {},
   "outputs": [],
   "source": [
    "# pisanje\n",
    "data = [\n",
    "    [\"LetoIzdelave\", \"Značka\", \"Cena\"],\n",
    "    [\"1980\",\"Mercedez Benz\", \"35000\"],\n",
    "    [\"2004\",\"Golf\", \"5000\"],\n",
    "    [\"2015\",\"Renault\", \"13000\"]\n",
    "]\n",
    "with open(\"avtomobili.csv\",'w', encoding=\"utf-8\") as f:\n",
    "    for line in data:\n",
    "        for i in range(len(line)):\n",
    "            f.write(line[i])\n",
    "            if i < len(line)-1:\n",
    "                f.write(\",\")\n",
    "            else:\n",
    "                f.write(\"\\n\")"
   ]
  },
  {
   "cell_type": "markdown",
   "metadata": {},
   "source": [
    "### Uporaba knjižnice csv\n",
    "\n",
    "Namen knjižnice csv je, da nam olajša delo.\n",
    "\n",
    "Uporabimo jo pa tako, da zaženemo `import csv`. To potrebujemo zagnati le v eni celici, in knjižnico je potem možno uporabiti kjerkoli v jupyter notebook-u."
   ]
  },
  {
   "cell_type": "code",
   "execution_count": 228,
   "metadata": {},
   "outputs": [],
   "source": [
    "import csv"
   ]
  },
  {
   "cell_type": "markdown",
   "metadata": {},
   "source": [
    "##### Branje\n",
    "`csv.reader(file)` - vrne objekt katerega lahko iteriramo skozi dokument"
   ]
  },
  {
   "cell_type": "code",
   "execution_count": 233,
   "metadata": {},
   "outputs": [
    {
     "name": "stdout",
     "output_type": "stream",
     "text": [
      "<_csv.reader object at 0x000001CD8AEC3BE0>\n",
      "['ID', 'Ime', 'Priimek', 'Starost']\n",
      "['1', 'Anže', 'Novak', '67']\n",
      "['5', 'Jože', 'Pavliha', '19']\n",
      "['3', 'Nikola', 'Staniš', '20']\n"
     ]
    }
   ],
   "source": [
    "# po defaultu prebere z vejicami\n",
    "with open(\"osebe.csv\",\"r\",encoding=\"utf-8\") as file:\n",
    "    reader = csv.reader(file)\n",
    "    print(reader)\n",
    "    for line in reader:\n",
    "        print(line)\n",
    "        #print(type(line))"
   ]
  },
  {
   "cell_type": "code",
   "execution_count": 238,
   "metadata": {},
   "outputs": [
    {
     "name": "stdout",
     "output_type": "stream",
     "text": [
      "<_csv.reader object at 0x000001CD8B3BDEE0>\n",
      "['ID,Ime,Priimek,Starost']\n",
      "['1,Anže,Novak,67']\n",
      "['5,Jože,Pavliha,19']\n",
      "['3,Nikola,Staniš,20']\n"
     ]
    }
   ],
   "source": [
    "# po defaultu prebere z tabulatorjem\n",
    "with open(\"osebe.csv\",\"r\",encoding=\"utf-8\") as file:\n",
    "    reader = csv.reader(file, delimiter=\"\\t\")\n",
    "    print(reader)\n",
    "    for line in reader:\n",
    "        print(line)\n",
    "        #print(type(line))"
   ]
  },
  {
   "cell_type": "markdown",
   "metadata": {},
   "source": [
    "#### Pisanje\n",
    "\n",
    "`csv.writer(file)` - vrne objekt s katerim lahko pišemo v dokument\n",
    "\n",
    "`csv.writerow(list_to_write)` - zapiše list *list_to_write* v novo vrsto v dokument\n",
    "\n",
    "`csv.writerows(list_of_lists_to_write)` - zapiše vsak list iz *list_of_lists_to_write* v novo vrsto v dokument"
   ]
  },
  {
   "cell_type": "code",
   "execution_count": 243,
   "metadata": {},
   "outputs": [
    {
     "name": "stdout",
     "output_type": "stream",
     "text": [
      "<_csv.writer object at 0x000001CD8B6029F0>\n"
     ]
    }
   ],
   "source": [
    "# pisanje\n",
    "with open(\"novi_dukment.csv\",\"w\",encoding=\"utf-8\",newline=\"\") as f:\n",
    "    writer = csv.writer(f)\n",
    "    print(writer)\n",
    "    writer.writerow([\"Stolpec1\",\"Stolpec2\",\"Stolpec3\"])\n",
    "    writer.writerow([\"v1-1\",\"v1-2\",\"v1-3\"])\n",
    "    writer.writerow([\"v2-1\",\"v2-2\",\"v2-3\"])\n",
    "    writer.writerow([\"v3-1\",\"v3-2\",\"v3-3\"])"
   ]
  },
  {
   "cell_type": "code",
   "execution_count": 247,
   "metadata": {},
   "outputs": [
    {
     "name": "stdout",
     "output_type": "stream",
     "text": [
      "<_csv.writer object at 0x000001CD8AD82F90>\n"
     ]
    }
   ],
   "source": [
    "with open(\"novi_dukment.csv\",\"w\",encoding=\"utf-8\",newline=\"\") as f:\n",
    "    writer = csv.writer(f)\n",
    "    print(writer)\n",
    "    writer.writerows([\n",
    "        [\"Stolpec1\",\"Stolpec2\",\"Stolpec3\"],\n",
    "        [\"v1-1\",\"v1-2\",\"v1-3\"],\n",
    "        [\"v2-1\",\"v2-2\",\"v2-3\"],\n",
    "        [\"v3-1\",\"v3-2\",\"v3-3\"]\n",
    "    ])"
   ]
  },
  {
   "cell_type": "code",
   "execution_count": 255,
   "metadata": {},
   "outputs": [
    {
     "ename": "FileExistsError",
     "evalue": "[Errno 17] File exists: 'novi_dukment-copy.csv'",
     "output_type": "error",
     "traceback": [
      "\u001b[1;31m--------------------------------------------------------------------------\u001b[0m",
      "\u001b[1;31mFileExistsError\u001b[0m                          Traceback (most recent call last)",
      "\u001b[1;32m<ipython-input-255-50c8d18614f5>\u001b[0m in \u001b[0;36m<module>\u001b[1;34m\u001b[0m\n\u001b[0;32m      1\u001b[0m \u001b[1;32mwith\u001b[0m \u001b[0mopen\u001b[0m\u001b[1;33m(\u001b[0m\u001b[1;34m\"novi_dukment.csv\"\u001b[0m\u001b[1;33m,\u001b[0m\u001b[1;34m\"r\"\u001b[0m\u001b[1;33m,\u001b[0m\u001b[0mencoding\u001b[0m\u001b[1;33m=\u001b[0m\u001b[1;34m\"utf-8\"\u001b[0m\u001b[1;33m,\u001b[0m\u001b[0mnewline\u001b[0m\u001b[1;33m=\u001b[0m\u001b[1;34m\"\"\u001b[0m\u001b[1;33m)\u001b[0m \u001b[1;32mas\u001b[0m \u001b[0mf1\u001b[0m\u001b[1;33m:\u001b[0m\u001b[1;33m\u001b[0m\u001b[1;33m\u001b[0m\u001b[0m\n\u001b[1;32m----> 2\u001b[1;33m     \u001b[1;32mwith\u001b[0m \u001b[0mopen\u001b[0m\u001b[1;33m(\u001b[0m\u001b[1;34m\"novi_dukment-copy.csv\"\u001b[0m\u001b[1;33m,\u001b[0m\u001b[1;34m'x'\u001b[0m\u001b[1;33m,\u001b[0m\u001b[0mencoding\u001b[0m\u001b[1;33m=\u001b[0m\u001b[1;34m\"utf-8\"\u001b[0m\u001b[1;33m,\u001b[0m\u001b[0mnewline\u001b[0m\u001b[1;33m=\u001b[0m\u001b[1;34m\"\"\u001b[0m\u001b[1;33m)\u001b[0m \u001b[1;32mas\u001b[0m \u001b[0mf2\u001b[0m\u001b[1;33m:\u001b[0m\u001b[1;33m\u001b[0m\u001b[1;33m\u001b[0m\u001b[0m\n\u001b[0m\u001b[0;32m      3\u001b[0m         \u001b[0mreader\u001b[0m \u001b[1;33m=\u001b[0m \u001b[0mcsv\u001b[0m\u001b[1;33m.\u001b[0m\u001b[0mreader\u001b[0m\u001b[1;33m(\u001b[0m\u001b[0mf1\u001b[0m\u001b[1;33m)\u001b[0m\u001b[1;33m\u001b[0m\u001b[1;33m\u001b[0m\u001b[0m\n\u001b[0;32m      4\u001b[0m \u001b[1;33m\u001b[0m\u001b[0m\n\u001b[0;32m      5\u001b[0m         \u001b[0mwriter\u001b[0m \u001b[1;33m=\u001b[0m \u001b[0mcsv\u001b[0m\u001b[1;33m.\u001b[0m\u001b[0mwriter\u001b[0m\u001b[1;33m(\u001b[0m\u001b[0mf2\u001b[0m\u001b[1;33m)\u001b[0m\u001b[1;33m\u001b[0m\u001b[1;33m\u001b[0m\u001b[0m\n",
      "\u001b[1;31mFileExistsError\u001b[0m: [Errno 17] File exists: 'novi_dukment-copy.csv'"
     ]
    }
   ],
   "source": [
    "with open(\"novi_dukment.csv\",\"r\",encoding=\"utf-8\",newline=\"\") as f1:\n",
    "    with open(\"novi_dukment-copy.csv\",'x',encoding=\"utf-8\",newline=\"\") as f2:\n",
    "        reader = csv.reader(f1)\n",
    "        \n",
    "        writer = csv.writer(f2)\n",
    "        \n",
    "        for line in reader:\n",
    "            if line[0] == \"Stolpec1\":\n",
    "                writer.writerow(line)\n",
    "        \n",
    "#print(data)"
   ]
  },
  {
   "cell_type": "markdown",
   "metadata": {},
   "source": [
    "#### Branje v dictionary\n",
    "\n",
    "`csv.DictReader(file)` - objekt za iteracijo po vrsticah datoteke, da se preberejo kot dictionary"
   ]
  },
  {
   "cell_type": "code",
   "execution_count": null,
   "metadata": {},
   "outputs": [],
   "source": [
    "dictionary = {\"a\":30,\"b\":16}"
   ]
  },
  {
   "cell_type": "code",
   "execution_count": 257,
   "metadata": {},
   "outputs": [
    {
     "name": "stdout",
     "output_type": "stream",
     "text": [
      "{'ID': '1', 'Ime': 'Anže', 'Priimek': 'Novak', 'Starost': '67'}\n",
      "{'ID': '5', 'Ime': 'Jože', 'Priimek': 'Pavliha', 'Starost': '19'}\n",
      "{'ID': '3', 'Ime': 'Nikola', 'Priimek': 'Staniš', 'Starost': '20'}\n"
     ]
    }
   ],
   "source": [
    "# branje kot dictionary\n",
    "with open(\"osebe.csv\", 'r', encoding=\"utf-8\") as file:\n",
    "    csv_file = csv.DictReader(file)\n",
    "    for row in csv_file:\n",
    "        print(row) # če se uporablja python < 3.8 je potrebno dict(row)"
   ]
  },
  {
   "cell_type": "markdown",
   "metadata": {},
   "source": [
    "#### Pisanje v dictionary\n",
    "\n",
    "`csv.DictWriter(file,fieldnames=?)` - objekt za pisanje ditionary objektov v dokument, kjer so fieldnames glave stolpcev"
   ]
  },
  {
   "cell_type": "code",
   "execution_count": 260,
   "metadata": {},
   "outputs": [],
   "source": [
    "# samo uredi glede na glavo\n",
    "with open('novi_avtomobili.csv', 'w', newline='',encoding=\"utf-8\") as file:\n",
    "    stolpci = [\"LetoIzdelave\",\"Značka\",\"Cena\"]\n",
    "    writer = csv.DictWriter(file, fieldnames=stolpci)\n",
    "\n",
    "    writer.writeheader()\n",
    "    writer.writerow({'LetoIzdelave': 2009, 'Cena': 15000, 'Značka': \"Mazda\"})\n",
    "    writer.writerow({'LetoIzdelave': 2016, 'Značka': \"Nisan\", 'Cena': 5000})\n",
    "    writer.writerow({'LetoIzdelave': 1996, 'Značka': \"Golf\", 'Cena': 700})"
   ]
  },
  {
   "cell_type": "code",
   "execution_count": null,
   "metadata": {},
   "outputs": [],
   "source": []
  },
  {
   "cell_type": "code",
   "execution_count": null,
   "metadata": {},
   "outputs": [],
   "source": []
  },
  {
   "cell_type": "markdown",
   "metadata": {},
   "source": [
    "# NALOGA\n",
    "funkcija, ki prejme ime datoteke in višino trikotnika ki ga naj nariše v datoteko s podanim imenom\n"
   ]
  },
  {
   "cell_type": "code",
   "execution_count": null,
   "metadata": {},
   "outputs": [],
   "source": [
    "*\n",
    "**\n",
    "***\n",
    "****\n",
    "*****\n",
    "******\n",
    "*******\n",
    "********\n",
    "*********\n",
    "**********"
   ]
  },
  {
   "cell_type": "code",
   "execution_count": null,
   "metadata": {},
   "outputs": [],
   "source": [
    "def narisi_trikotnik(ime_datoteke, visina_trikotnika): # če že obstaja datoteka naj jo povozi\n",
    "    pass"
   ]
  },
  {
   "cell_type": "code",
   "execution_count": 264,
   "metadata": {},
   "outputs": [],
   "source": [
    "def NarisiTrikotnikVDatoteko(datoteka,visina):\n",
    "    with open(datoteka,'w') as f:\n",
    "        for k in range(visina):\n",
    "            f.write(\"*\"*(k+1))\n",
    "            f.write(\"\\n\")\n",
    "NarisiTrikotnikVDatoteko(\"trikotnik_datoteka.txt\",10)"
   ]
  },
  {
   "cell_type": "code",
   "execution_count": null,
   "metadata": {},
   "outputs": [],
   "source": []
  },
  {
   "cell_type": "code",
   "execution_count": null,
   "metadata": {},
   "outputs": [],
   "source": []
  },
  {
   "cell_type": "code",
   "execution_count": null,
   "metadata": {},
   "outputs": [],
   "source": []
  },
  {
   "cell_type": "code",
   "execution_count": null,
   "metadata": {},
   "outputs": [],
   "source": []
  },
  {
   "cell_type": "code",
   "execution_count": null,
   "metadata": {},
   "outputs": [],
   "source": []
  },
  {
   "cell_type": "code",
   "execution_count": null,
   "metadata": {},
   "outputs": [],
   "source": []
  },
  {
   "cell_type": "code",
   "execution_count": null,
   "metadata": {},
   "outputs": [],
   "source": []
  },
  {
   "cell_type": "code",
   "execution_count": null,
   "metadata": {},
   "outputs": [],
   "source": []
  },
  {
   "cell_type": "markdown",
   "metadata": {},
   "source": [
    "# Za vajo"
   ]
  },
  {
   "cell_type": "code",
   "execution_count": null,
   "metadata": {},
   "outputs": [],
   "source": [
    "# nadgradnja try-except sistema ki izpiše ime+starot --> vse napake naj se shranijo v datoteko !!!"
   ]
  },
  {
   "cell_type": "code",
   "execution_count": null,
   "metadata": {},
   "outputs": [],
   "source": [
    "# kalkulator ki se ne sesuje ko uporabnik naredi matematično/sintaktično napako"
   ]
  },
  {
   "cell_type": "code",
   "execution_count": null,
   "metadata": {},
   "outputs": [],
   "source": [
    "# nadgradnja kalkulatorja --> vse napake naj se shranijo v datoteko"
   ]
  },
  {
   "cell_type": "markdown",
   "metadata": {},
   "source": [
    "Napišite class Kalkulator, ki bo imel:\n",
    "    \n",
    "    sestevek(self,a,b)\n",
    "    \n",
    "    mnozenje(self,a,b)\n",
    "    \n",
    "    odstevanje(self,a,b)\n",
    "    \n",
    "    deljenje(self,a,b)\n",
    "    \n",
    "    potenciranje(self,a,b)\n",
    "\n",
    "Primeri:\n",
    "```python\n",
    "Input:\n",
    "\n",
    "    calc = Kalkulator()\n",
    "    calc.sestevek(3,7)\n",
    "    calc.deljenje(59,0) # vrne error\n",
    "\n",
    "\n",
    "```"
   ]
  },
  {
   "cell_type": "code",
   "execution_count": null,
   "metadata": {},
   "outputs": [],
   "source": [
    "# Izris obrob tabelc za .CSV datoteke v printu"
   ]
  },
  {
   "cell_type": "code",
   "execution_count": null,
   "metadata": {},
   "outputs": [],
   "source": []
  }
 ],
 "metadata": {
  "kernelspec": {
   "display_name": "Python 3",
   "language": "python",
   "name": "python3"
  },
  "language_info": {
   "codemirror_mode": {
    "name": "ipython",
    "version": 3
   },
   "file_extension": ".py",
   "mimetype": "text/x-python",
   "name": "python",
   "nbconvert_exporter": "python",
   "pygments_lexer": "ipython3",
   "version": "3.9.0"
  }
 },
 "nbformat": 4,
 "nbformat_minor": 4
}
