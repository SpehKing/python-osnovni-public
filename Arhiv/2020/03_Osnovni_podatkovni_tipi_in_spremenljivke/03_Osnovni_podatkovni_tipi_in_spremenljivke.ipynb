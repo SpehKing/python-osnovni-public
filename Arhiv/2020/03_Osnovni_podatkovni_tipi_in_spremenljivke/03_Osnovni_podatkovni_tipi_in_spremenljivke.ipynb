{
 "cells": [
  {
   "cell_type": "markdown",
   "id": "fleet-powder",
   "metadata": {},
   "source": [
    "# O Python-u"
   ]
  },
  {
   "cell_type": "markdown",
   "id": "alien-pepper",
   "metadata": {},
   "source": [
    "## Print funkcija"
   ]
  },
  {
   "cell_type": "code",
   "execution_count": 3,
   "id": "traditional-surgery",
   "metadata": {},
   "outputs": [
    {
     "name": "stdout",
     "output_type": "stream",
     "text": [
      "Hello\n"
     ]
    }
   ],
   "source": [
    "print(\"Hello\")"
   ]
  },
  {
   "cell_type": "code",
   "execution_count": 5,
   "id": "hourly-pioneer",
   "metadata": {},
   "outputs": [
    {
     "name": "stdout",
     "output_type": "stream",
     "text": [
      "Živjo\n"
     ]
    }
   ],
   "source": [
    "print('Živjo')"
   ]
  },
  {
   "cell_type": "code",
   "execution_count": 7,
   "id": "nervous-prompt",
   "metadata": {},
   "outputs": [
    {
     "name": "stdout",
     "output_type": "stream",
     "text": [
      "2\n"
     ]
    }
   ],
   "source": [
    "print(2)"
   ]
  },
  {
   "cell_type": "code",
   "execution_count": 8,
   "id": "adult-nowhere",
   "metadata": {},
   "outputs": [
    {
     "ename": "NameError",
     "evalue": "name 'Hello' is not defined",
     "output_type": "error",
     "traceback": [
      "\u001b[0;31m---------------------------------------------------------------------------\u001b[0m",
      "\u001b[0;31mNameError\u001b[0m                                 Traceback (most recent call last)",
      "\u001b[0;32m<ipython-input-8-85bf5114fa6b>\u001b[0m in \u001b[0;36m<module>\u001b[0;34m\u001b[0m\n\u001b[0;32m----> 1\u001b[0;31m \u001b[0mprint\u001b[0m\u001b[0;34m(\u001b[0m\u001b[0mHello\u001b[0m\u001b[0;34m)\u001b[0m\u001b[0;34m\u001b[0m\u001b[0;34m\u001b[0m\u001b[0m\n\u001b[0m",
      "\u001b[0;31mNameError\u001b[0m: name 'Hello' is not defined"
     ]
    }
   ],
   "source": [
    "print(Hello)"
   ]
  },
  {
   "cell_type": "code",
   "execution_count": 13,
   "id": "professional-somerset",
   "metadata": {},
   "outputs": [
    {
     "name": "stdout",
     "output_type": "stream",
     "text": [
      "Hello\n",
      "ds\n",
      "\n",
      "Živjo\n"
     ]
    }
   ],
   "source": [
    "print('Hello\\nds')\n",
    "print()\n",
    "print('Živjo')"
   ]
  },
  {
   "cell_type": "code",
   "execution_count": 14,
   "id": "broken-briefs",
   "metadata": {},
   "outputs": [
    {
     "name": "stdout",
     "output_type": "stream",
     "text": [
      "Živjo danes večer\n"
     ]
    }
   ],
   "source": [
    "print(\"Živjo\", \"danes\", \"večer\")"
   ]
  },
  {
   "cell_type": "markdown",
   "id": "outside-quarterly",
   "metadata": {},
   "source": [
    "## Osnoniv podatkovni tipi"
   ]
  },
  {
   "cell_type": "markdown",
   "id": "private-carrier",
   "metadata": {},
   "source": [
    "### Integer"
   ]
  },
  {
   "cell_type": "code",
   "execution_count": 15,
   "id": "operational-judge",
   "metadata": {},
   "outputs": [
    {
     "data": {
      "text/plain": [
       "2"
      ]
     },
     "execution_count": 15,
     "metadata": {},
     "output_type": "execute_result"
    }
   ],
   "source": [
    "2"
   ]
  },
  {
   "cell_type": "code",
   "execution_count": 16,
   "id": "native-serbia",
   "metadata": {},
   "outputs": [
    {
     "data": {
      "text/plain": [
       "4335355"
      ]
     },
     "execution_count": 16,
     "metadata": {},
     "output_type": "execute_result"
    }
   ],
   "source": [
    "4335355"
   ]
  },
  {
   "cell_type": "code",
   "execution_count": 17,
   "id": "informational-opera",
   "metadata": {},
   "outputs": [
    {
     "data": {
      "text/plain": [
       "-3232"
      ]
     },
     "execution_count": 17,
     "metadata": {},
     "output_type": "execute_result"
    }
   ],
   "source": [
    "-3232"
   ]
  },
  {
   "cell_type": "code",
   "execution_count": 18,
   "id": "scheduled-cabinet",
   "metadata": {},
   "outputs": [
    {
     "name": "stdout",
     "output_type": "stream",
     "text": [
      "<class 'int'>\n"
     ]
    }
   ],
   "source": [
    "print(type(23))"
   ]
  },
  {
   "cell_type": "code",
   "execution_count": 20,
   "id": "fossil-mouth",
   "metadata": {},
   "outputs": [
    {
     "name": "stdout",
     "output_type": "stream",
     "text": [
      "<class 'int'>\n"
     ]
    }
   ],
   "source": [
    "print(type(-343423))"
   ]
  },
  {
   "cell_type": "markdown",
   "id": "optional-forum",
   "metadata": {},
   "source": [
    "In Python, you can’t use commas to group digits in integer literals, but you can use underscores (_). Both of the following are valid ways to represent the number one million as an integer literal:\n",
    "\n"
   ]
  },
  {
   "cell_type": "code",
   "execution_count": 21,
   "id": "interracial-float",
   "metadata": {},
   "outputs": [
    {
     "name": "stdout",
     "output_type": "stream",
     "text": [
      "100000000\n"
     ]
    }
   ],
   "source": [
    "print(100_000_000) # podčrtaj omogoča boljšo berljivost"
   ]
  },
  {
   "cell_type": "markdown",
   "id": "descending-editor",
   "metadata": {},
   "source": [
    "### Floating-Point Numbers"
   ]
  },
  {
   "cell_type": "code",
   "execution_count": 22,
   "id": "angry-springer",
   "metadata": {},
   "outputs": [
    {
     "data": {
      "text/plain": [
       "1.0"
      ]
     },
     "execution_count": 22,
     "metadata": {},
     "output_type": "execute_result"
    }
   ],
   "source": [
    "1.0"
   ]
  },
  {
   "cell_type": "code",
   "execution_count": 24,
   "id": "graphic-doctrine",
   "metadata": {},
   "outputs": [
    {
     "name": "stdout",
     "output_type": "stream",
     "text": [
      "<class 'float'>\n"
     ]
    }
   ],
   "source": [
    "print(type(1.0))"
   ]
  },
  {
   "cell_type": "code",
   "execution_count": 25,
   "id": "satellite-congo",
   "metadata": {},
   "outputs": [
    {
     "name": "stdout",
     "output_type": "stream",
     "text": [
      "<class 'float'>\n"
     ]
    }
   ],
   "source": [
    "print(type(1.34355))"
   ]
  },
  {
   "cell_type": "markdown",
   "id": "crude-escape",
   "metadata": {},
   "source": [
    "### String"
   ]
  },
  {
   "cell_type": "code",
   "execution_count": 26,
   "id": "individual-idaho",
   "metadata": {},
   "outputs": [
    {
     "name": "stdout",
     "output_type": "stream",
     "text": [
      "<class 'str'>\n"
     ]
    }
   ],
   "source": [
    "print(type(\"hello\"))"
   ]
  },
  {
   "cell_type": "code",
   "execution_count": 27,
   "id": "neural-prime",
   "metadata": {},
   "outputs": [
    {
     "name": "stdout",
     "output_type": "stream",
     "text": [
      "<class 'str'>\n"
     ]
    }
   ],
   "source": [
    "print(type(\"445554\"))"
   ]
  },
  {
   "cell_type": "code",
   "execution_count": 28,
   "id": "previous-chorus",
   "metadata": {},
   "outputs": [
    {
     "name": "stdout",
     "output_type": "stream",
     "text": [
      "I'm here\n"
     ]
    }
   ],
   "source": [
    "print(\"I'm here\")"
   ]
  },
  {
   "cell_type": "code",
   "execution_count": 29,
   "id": "armed-footwear",
   "metadata": {},
   "outputs": [
    {
     "name": "stdout",
     "output_type": "stream",
     "text": [
      "To je navedek: \"čas\"\n"
     ]
    }
   ],
   "source": [
    "print('To je navedek: \"čas\"')"
   ]
  },
  {
   "cell_type": "code",
   "execution_count": 30,
   "id": "minute-basin",
   "metadata": {},
   "outputs": [
    {
     "data": {
      "text/plain": [
       "77"
      ]
     },
     "execution_count": 30,
     "metadata": {},
     "output_type": "execute_result"
    }
   ],
   "source": [
    "23+54"
   ]
  },
  {
   "cell_type": "code",
   "execution_count": 31,
   "id": "twelve-republic",
   "metadata": {},
   "outputs": [
    {
     "ename": "TypeError",
     "evalue": "can only concatenate str (not \"int\") to str",
     "output_type": "error",
     "traceback": [
      "\u001b[0;31m---------------------------------------------------------------------------\u001b[0m",
      "\u001b[0;31mTypeError\u001b[0m                                 Traceback (most recent call last)",
      "\u001b[0;32m<ipython-input-31-9727981c3fc2>\u001b[0m in \u001b[0;36m<module>\u001b[0;34m\u001b[0m\n\u001b[0;32m----> 1\u001b[0;31m \u001b[0;34m\"23\"\u001b[0m \u001b[0;34m+\u001b[0m \u001b[0;36m54\u001b[0m\u001b[0;34m\u001b[0m\u001b[0;34m\u001b[0m\u001b[0m\n\u001b[0m",
      "\u001b[0;31mTypeError\u001b[0m: can only concatenate str (not \"int\") to str"
     ]
    }
   ],
   "source": [
    "\"23\" + 54"
   ]
  },
  {
   "cell_type": "code",
   "execution_count": 32,
   "id": "different-prayer",
   "metadata": {},
   "outputs": [
    {
     "data": {
      "text/plain": [
       "'2354'"
      ]
     },
     "execution_count": 32,
     "metadata": {},
     "output_type": "execute_result"
    }
   ],
   "source": [
    "\"23\" + \"54\""
   ]
  },
  {
   "cell_type": "code",
   "execution_count": 33,
   "id": "wired-equation",
   "metadata": {},
   "outputs": [
    {
     "data": {
      "text/plain": [
       "'ddssds'"
      ]
     },
     "execution_count": 33,
     "metadata": {},
     "output_type": "execute_result"
    }
   ],
   "source": [
    "\"dds\" + \"sds\""
   ]
  },
  {
   "cell_type": "markdown",
   "id": "decent-friday",
   "metadata": {},
   "source": [
    "### Boolean"
   ]
  },
  {
   "cell_type": "markdown",
   "id": "failing-tribune",
   "metadata": {},
   "source": [
    "    True, False"
   ]
  },
  {
   "cell_type": "code",
   "execution_count": 44,
   "id": "charged-amazon",
   "metadata": {},
   "outputs": [
    {
     "name": "stdout",
     "output_type": "stream",
     "text": [
      "<class 'bool'>\n"
     ]
    }
   ],
   "source": [
    "print(type(True))"
   ]
  },
  {
   "cell_type": "code",
   "execution_count": 45,
   "id": "lyric-appreciation",
   "metadata": {},
   "outputs": [
    {
     "data": {
      "text/plain": [
       "True"
      ]
     },
     "execution_count": 45,
     "metadata": {},
     "output_type": "execute_result"
    }
   ],
   "source": [
    "True"
   ]
  },
  {
   "cell_type": "code",
   "execution_count": 46,
   "id": "criminal-nurse",
   "metadata": {},
   "outputs": [
    {
     "name": "stdout",
     "output_type": "stream",
     "text": [
      "True\n"
     ]
    }
   ],
   "source": [
    "print(\"True\")"
   ]
  },
  {
   "cell_type": "code",
   "execution_count": 47,
   "id": "accredited-jamaica",
   "metadata": {},
   "outputs": [
    {
     "name": "stdout",
     "output_type": "stream",
     "text": [
      "False\n"
     ]
    }
   ],
   "source": [
    "print(False)"
   ]
  },
  {
   "cell_type": "markdown",
   "id": "broke-destiny",
   "metadata": {},
   "source": [
    "### Pretvorbe"
   ]
  },
  {
   "cell_type": "markdown",
   "id": "swiss-alaska",
   "metadata": {},
   "source": [
    "`str()`, `int()`, `float()`, `bool()`"
   ]
  },
  {
   "cell_type": "code",
   "execution_count": 34,
   "id": "speaking-juvenile",
   "metadata": {},
   "outputs": [
    {
     "data": {
      "text/plain": [
       "'343'"
      ]
     },
     "execution_count": 34,
     "metadata": {},
     "output_type": "execute_result"
    }
   ],
   "source": [
    "str(343)"
   ]
  },
  {
   "cell_type": "code",
   "execution_count": 35,
   "id": "fourth-firmware",
   "metadata": {},
   "outputs": [
    {
     "data": {
      "text/plain": [
       "str"
      ]
     },
     "execution_count": 35,
     "metadata": {},
     "output_type": "execute_result"
    }
   ],
   "source": [
    "type(str(343))"
   ]
  },
  {
   "cell_type": "code",
   "execution_count": 36,
   "id": "promising-fellowship",
   "metadata": {},
   "outputs": [
    {
     "data": {
      "text/plain": [
       "'343.34'"
      ]
     },
     "execution_count": 36,
     "metadata": {},
     "output_type": "execute_result"
    }
   ],
   "source": [
    "str(343.34)"
   ]
  },
  {
   "cell_type": "code",
   "execution_count": 37,
   "id": "dried-strategy",
   "metadata": {},
   "outputs": [
    {
     "data": {
      "text/plain": [
       "2323"
      ]
     },
     "execution_count": 37,
     "metadata": {},
     "output_type": "execute_result"
    }
   ],
   "source": [
    "int(\"2323\")"
   ]
  },
  {
   "cell_type": "code",
   "execution_count": 39,
   "id": "under-clerk",
   "metadata": {},
   "outputs": [
    {
     "data": {
      "text/plain": [
       "{'temperatura1': '454', 'temperatura2': '4534'}"
      ]
     },
     "execution_count": 39,
     "metadata": {},
     "output_type": "execute_result"
    }
   ],
   "source": [
    "{\"temperatura1\": \"454\", \"temperatura2\": \"4534\"}"
   ]
  },
  {
   "cell_type": "code",
   "execution_count": 40,
   "id": "medium-silence",
   "metadata": {},
   "outputs": [
    {
     "data": {
      "text/plain": [
       "4988"
      ]
     },
     "execution_count": 40,
     "metadata": {},
     "output_type": "execute_result"
    }
   ],
   "source": [
    "int(\"454\") + int(\"4534\")"
   ]
  },
  {
   "cell_type": "code",
   "execution_count": 41,
   "id": "solar-corruption",
   "metadata": {},
   "outputs": [
    {
     "data": {
      "text/plain": [
       "3434.55"
      ]
     },
     "execution_count": 41,
     "metadata": {},
     "output_type": "execute_result"
    }
   ],
   "source": [
    "float(\"3434.55\")"
   ]
  },
  {
   "cell_type": "code",
   "execution_count": 42,
   "id": "radical-coordination",
   "metadata": {},
   "outputs": [
    {
     "ename": "ValueError",
     "evalue": "invalid literal for int() with base 10: 'sdsdds'",
     "output_type": "error",
     "traceback": [
      "\u001b[0;31m---------------------------------------------------------------------------\u001b[0m",
      "\u001b[0;31mValueError\u001b[0m                                Traceback (most recent call last)",
      "\u001b[0;32m<ipython-input-42-12d237460ab0>\u001b[0m in \u001b[0;36m<module>\u001b[0;34m\u001b[0m\n\u001b[0;32m----> 1\u001b[0;31m \u001b[0mint\u001b[0m\u001b[0;34m(\u001b[0m\u001b[0;34m\"sdsdds\"\u001b[0m\u001b[0;34m)\u001b[0m\u001b[0;34m\u001b[0m\u001b[0;34m\u001b[0m\u001b[0m\n\u001b[0m",
      "\u001b[0;31mValueError\u001b[0m: invalid literal for int() with base 10: 'sdsdds'"
     ]
    }
   ],
   "source": [
    "int(\"sdsdds\")"
   ]
  },
  {
   "cell_type": "code",
   "execution_count": 43,
   "id": "naughty-while",
   "metadata": {},
   "outputs": [
    {
     "data": {
      "text/plain": [
       "3434.0"
      ]
     },
     "execution_count": 43,
     "metadata": {},
     "output_type": "execute_result"
    }
   ],
   "source": [
    "float(\"3434\")"
   ]
  },
  {
   "cell_type": "code",
   "execution_count": 48,
   "id": "familiar-dance",
   "metadata": {},
   "outputs": [
    {
     "data": {
      "text/plain": [
       "True"
      ]
     },
     "execution_count": 48,
     "metadata": {},
     "output_type": "execute_result"
    }
   ],
   "source": [
    "bool(2323)"
   ]
  },
  {
   "cell_type": "code",
   "execution_count": 49,
   "id": "inside-sunset",
   "metadata": {},
   "outputs": [
    {
     "data": {
      "text/plain": [
       "False"
      ]
     },
     "execution_count": 49,
     "metadata": {},
     "output_type": "execute_result"
    }
   ],
   "source": [
    "bool(0)"
   ]
  },
  {
   "cell_type": "code",
   "execution_count": 50,
   "id": "brave-officer",
   "metadata": {},
   "outputs": [
    {
     "data": {
      "text/plain": [
       "True"
      ]
     },
     "execution_count": 50,
     "metadata": {},
     "output_type": "execute_result"
    }
   ],
   "source": [
    "bool(\"sdsdsd\")"
   ]
  },
  {
   "cell_type": "code",
   "execution_count": 51,
   "id": "controversial-fundamental",
   "metadata": {},
   "outputs": [
    {
     "data": {
      "text/plain": [
       "False"
      ]
     },
     "execution_count": 51,
     "metadata": {},
     "output_type": "execute_result"
    }
   ],
   "source": [
    "bool(\"\")"
   ]
  },
  {
   "cell_type": "markdown",
   "id": "conventional-beginning",
   "metadata": {},
   "source": [
    "## Spremenljivke (variables)"
   ]
  },
  {
   "cell_type": "code",
   "execution_count": 52,
   "id": "minus-drunk",
   "metadata": {},
   "outputs": [],
   "source": [
    "a = 3"
   ]
  },
  {
   "cell_type": "code",
   "execution_count": null,
   "id": "equivalent-mexico",
   "metadata": {},
   "outputs": [],
   "source": [
    "bb"
   ]
  },
  {
   "cell_type": "code",
   "execution_count": 53,
   "id": "digital-teach",
   "metadata": {},
   "outputs": [
    {
     "name": "stdout",
     "output_type": "stream",
     "text": [
      "3\n"
     ]
    }
   ],
   "source": [
    "print(a)"
   ]
  },
  {
   "cell_type": "code",
   "execution_count": 54,
   "id": "naked-walker",
   "metadata": {},
   "outputs": [
    {
     "ename": "NameError",
     "evalue": "name 'b' is not defined",
     "output_type": "error",
     "traceback": [
      "\u001b[0;31m---------------------------------------------------------------------------\u001b[0m",
      "\u001b[0;31mNameError\u001b[0m                                 Traceback (most recent call last)",
      "\u001b[0;32m<ipython-input-54-67e500defa1b>\u001b[0m in \u001b[0;36m<module>\u001b[0;34m\u001b[0m\n\u001b[0;32m----> 1\u001b[0;31m \u001b[0mprint\u001b[0m\u001b[0;34m(\u001b[0m\u001b[0mb\u001b[0m\u001b[0;34m)\u001b[0m\u001b[0;34m\u001b[0m\u001b[0;34m\u001b[0m\u001b[0m\n\u001b[0m",
      "\u001b[0;31mNameError\u001b[0m: name 'b' is not defined"
     ]
    }
   ],
   "source": [
    "print(b)"
   ]
  },
  {
   "cell_type": "code",
   "execution_count": 56,
   "id": "binary-exhibition",
   "metadata": {},
   "outputs": [
    {
     "data": {
      "text/plain": [
       "62.800000000000004"
      ]
     },
     "execution_count": 56,
     "metadata": {},
     "output_type": "execute_result"
    }
   ],
   "source": [
    "2 * 3.14 * 10"
   ]
  },
  {
   "cell_type": "code",
   "execution_count": 60,
   "id": "weighted-classics",
   "metadata": {},
   "outputs": [
    {
     "name": "stdout",
     "output_type": "stream",
     "text": [
      "62.800000000000004\n"
     ]
    }
   ],
   "source": [
    "pi = 3.14\n",
    "r = 10\n",
    "obseg = 2 * pi * r\n",
    "print(obseg)"
   ]
  },
  {
   "cell_type": "markdown",
   "id": "derived-pregnancy",
   "metadata": {},
   "source": [
    "If you want to give a name to a variable, you must follow some strict rules:\n",
    "- the name of the variable must be composed of upper-case or lower-case letters, digits, and the character `_` (underscore)\n",
    "- the name of the variable must begin with a letter;\n",
    "- upper- and lower-case letters are treated as different (a little differently than in the real world - Alice and ALICE are the same first names, but in Python they are two different variable names, and consequently, two different variables);\n",
    "- the name of the variable must not be any of Python's reserved words (the keywords - we'll explain more about this soon)."
   ]
  },
  {
   "cell_type": "markdown",
   "id": "peaceful-screening",
   "metadata": {},
   "source": [
    "    False      await      else       import     pass\n",
    "    None       break      except     in         raise\n",
    "    True       class      finally    is         return\n",
    "    and        continue   for        lambda     try\n",
    "    as         def        from       nonlocal   while\n",
    "    assert     del        global     not        with\n",
    "    async      elif       if         or         yield"
   ]
  },
  {
   "cell_type": "code",
   "execution_count": 70,
   "id": "authentic-energy",
   "metadata": {},
   "outputs": [],
   "source": [
    "abc = 3"
   ]
  },
  {
   "cell_type": "code",
   "execution_count": 71,
   "id": "turkish-recovery",
   "metadata": {},
   "outputs": [
    {
     "ename": "NameError",
     "evalue": "name 'ABC' is not defined",
     "output_type": "error",
     "traceback": [
      "\u001b[0;31m---------------------------------------------------------------------------\u001b[0m",
      "\u001b[0;31mNameError\u001b[0m                                 Traceback (most recent call last)",
      "\u001b[0;32m<ipython-input-71-2fd8cc483600>\u001b[0m in \u001b[0;36m<module>\u001b[0;34m\u001b[0m\n\u001b[0;32m----> 1\u001b[0;31m \u001b[0mprint\u001b[0m\u001b[0;34m(\u001b[0m\u001b[0mABC\u001b[0m\u001b[0;34m)\u001b[0m\u001b[0;34m\u001b[0m\u001b[0;34m\u001b[0m\u001b[0m\n\u001b[0m",
      "\u001b[0;31mNameError\u001b[0m: name 'ABC' is not defined"
     ]
    }
   ],
   "source": [
    "print(ABC)"
   ]
  },
  {
   "cell_type": "code",
   "execution_count": 73,
   "id": "chubby-perth",
   "metadata": {},
   "outputs": [],
   "source": [
    "ŽEDFDFdsfećfčše_ = 5"
   ]
  },
  {
   "cell_type": "code",
   "execution_count": 74,
   "id": "hollywood-calvin",
   "metadata": {},
   "outputs": [
    {
     "data": {
      "text/plain": [
       "5"
      ]
     },
     "execution_count": 74,
     "metadata": {},
     "output_type": "execute_result"
    }
   ],
   "source": [
    "ŽEDFDFdsfećfčše_"
   ]
  },
  {
   "cell_type": "code",
   "execution_count": 76,
   "id": "focused-technique",
   "metadata": {},
   "outputs": [
    {
     "name": "stdout",
     "output_type": "stream",
     "text": [
      "62.800000000000004\n"
     ]
    }
   ],
   "source": [
    "PI = 3.14\n",
    "polmer_kroga = 10\n",
    "obseg_kroga = 2 * PI * polmer_kroga\n",
    "print(obseg_kroga)"
   ]
  },
  {
   "cell_type": "markdown",
   "id": "dress-andrews",
   "metadata": {},
   "source": [
    "#### Vaja 1"
   ]
  },
  {
   "cell_type": "code",
   "execution_count": 79,
   "id": "adjusted-semiconductor",
   "metadata": {},
   "outputs": [],
   "source": [
    "verzija = \"3.5.5\""
   ]
  },
  {
   "cell_type": "code",
   "execution_count": null,
   "id": "amended-diving",
   "metadata": {},
   "outputs": [],
   "source": [
    "print()"
   ]
  },
  {
   "cell_type": "markdown",
   "id": "distinct-vocabulary",
   "metadata": {},
   "source": [
    "Python verzija: 3.5.5"
   ]
  },
  {
   "cell_type": "code",
   "execution_count": 82,
   "id": "fluid-questionnaire",
   "metadata": {},
   "outputs": [
    {
     "name": "stdout",
     "output_type": "stream",
     "text": [
      "Python verzija:  3.5.5\n"
     ]
    }
   ],
   "source": [
    "# rešitev 1\n",
    "print(\"Python verzija: \",verzija)"
   ]
  },
  {
   "cell_type": "code",
   "execution_count": 90,
   "id": "provincial-bulgaria",
   "metadata": {},
   "outputs": [
    {
     "name": "stdout",
     "output_type": "stream",
     "text": [
      "Python verzija: 3.5.5\n"
     ]
    }
   ],
   "source": [
    "# rešitev 2\n",
    "print(\"Python verzija: \" + verzija)"
   ]
  },
  {
   "cell_type": "code",
   "execution_count": 87,
   "id": "about-millennium",
   "metadata": {},
   "outputs": [
    {
     "name": "stdout",
     "output_type": "stream",
     "text": [
      "Python verzija: 3.5.5\n"
     ]
    }
   ],
   "source": [
    "# rešitev 3\n",
    "print(\"Python verzija:\", verzija)"
   ]
  },
  {
   "cell_type": "markdown",
   "id": "respected-world",
   "metadata": {},
   "source": [
    "#### Vaja 2"
   ]
  },
  {
   "cell_type": "code",
   "execution_count": 92,
   "id": "distributed-howard",
   "metadata": {},
   "outputs": [
    {
     "name": "stdout",
     "output_type": "stream",
     "text": [
      "\n"
     ]
    }
   ],
   "source": [
    "id_racuna = 343434\n",
    "stanje_na_racunu = 345.56\n",
    "ime_uporabnika = \"John\"\n",
    "\n",
    "print()"
   ]
  },
  {
   "cell_type": "markdown",
   "id": "valued-variety",
   "metadata": {},
   "source": [
    "Uporbnik John z ID: 343434 ima 345.56€ na računu."
   ]
  },
  {
   "cell_type": "code",
   "execution_count": 96,
   "id": "naughty-nitrogen",
   "metadata": {},
   "outputs": [
    {
     "name": "stdout",
     "output_type": "stream",
     "text": [
      "Uporabnik John Wayne z ID: 123 ima 345.43 € na računu.\n"
     ]
    }
   ],
   "source": [
    "# rešitev 1\n",
    "print(\"Uporabnik\", ime_uporabnika, \"z ID:\",id_racuna, \"ima\",stanje_na_racunu,\"€ na računu.\")"
   ]
  },
  {
   "cell_type": "code",
   "execution_count": 97,
   "id": "enormous-bearing",
   "metadata": {},
   "outputs": [
    {
     "name": "stdout",
     "output_type": "stream",
     "text": [
      "Help on built-in function print in module builtins:\n",
      "\n",
      "print(...)\n",
      "    print(value, ..., sep=' ', end='\\n', file=sys.stdout, flush=False)\n",
      "    \n",
      "    Prints the values to a stream, or to sys.stdout by default.\n",
      "    Optional keyword arguments:\n",
      "    file:  a file-like object (stream); defaults to the current sys.stdout.\n",
      "    sep:   string inserted between values, default a space.\n",
      "    end:   string appended after the last value, default a newline.\n",
      "    flush: whether to forcibly flush the stream.\n",
      "\n"
     ]
    }
   ],
   "source": [
    "help(print)"
   ]
  },
  {
   "cell_type": "code",
   "execution_count": 99,
   "id": "ongoing-fortune",
   "metadata": {},
   "outputs": [],
   "source": [
    "print?"
   ]
  },
  {
   "cell_type": "code",
   "execution_count": 105,
   "id": "fatty-leeds",
   "metadata": {},
   "outputs": [
    {
     "name": "stdout",
     "output_type": "stream",
     "text": [
      "Uporabnik John Wayne z ID: 123 ima 345.43€ na računu. Hello\n"
     ]
    }
   ],
   "source": [
    "print(\"Uporabnik \", ime_uporabnika, \" z ID: \",id_racuna, \" ima \",stanje_na_racunu,\"€ na računu.\", sep='', end=\" \")\n",
    "print(\"Hello\")"
   ]
  },
  {
   "cell_type": "code",
   "execution_count": 94,
   "id": "automotive-combining",
   "metadata": {},
   "outputs": [
    {
     "name": "stdout",
     "output_type": "stream",
     "text": [
      "Uporabnik John Wayne z ID: 123 ima 345.43€ na računu.\n"
     ]
    }
   ],
   "source": [
    "# rešitev 2\n",
    "id_racuna = 123\n",
    "stanje_na_racunu = 345.43\n",
    "ime_uporabnika = \"John Wayne\"\n",
    "print(f\"Uporabnik {ime_uporabnika} z ID: {id_racuna} ima {stanje_na_racunu}€ na računu.\")"
   ]
  },
  {
   "cell_type": "markdown",
   "id": "rural-disney",
   "metadata": {},
   "source": [
    "### Spreminjanje prednosti spremenljivke"
   ]
  },
  {
   "cell_type": "code",
   "execution_count": 113,
   "id": "specific-motor",
   "metadata": {},
   "outputs": [
    {
     "name": "stdout",
     "output_type": "stream",
     "text": [
      "345.43\n",
      "445.43\n"
     ]
    }
   ],
   "source": [
    "stanje_na_racunu = 345.43\n",
    "print(stanje_na_racunu)\n",
    "\n",
    "stanje_na_racunu = str(stanje_na_racunu + 100)\n",
    "print(stanje_na_racunu)"
   ]
  },
  {
   "cell_type": "markdown",
   "id": "graphic-vegetarian",
   "metadata": {},
   "source": [
    "#### Vaja 3"
   ]
  },
  {
   "cell_type": "markdown",
   "id": "included-review",
   "metadata": {},
   "source": [
    "    c = SQRT(a2 + b2)"
   ]
  },
  {
   "cell_type": "code",
   "execution_count": 117,
   "id": "negative-cheese",
   "metadata": {},
   "outputs": [
    {
     "name": "stdout",
     "output_type": "stream",
     "text": [
      "Hipotenuza je 9.304\n"
     ]
    }
   ],
   "source": [
    "a = 8.4\n",
    "b = 4.0\n",
    "c = (a**2 + b**2) ** 0.5\n",
    "print(\"Hipotenuza je\", round(c, 3))"
   ]
  },
  {
   "cell_type": "code",
   "execution_count": 118,
   "id": "decreased-daily",
   "metadata": {},
   "outputs": [
    {
     "name": "stdout",
     "output_type": "stream",
     "text": [
      "d\n"
     ]
    }
   ],
   "source": [
    "vnos = input()"
   ]
  },
  {
   "cell_type": "code",
   "execution_count": 119,
   "id": "durable-cabin",
   "metadata": {},
   "outputs": [
    {
     "data": {
      "text/plain": [
       "'d'"
      ]
     },
     "execution_count": 119,
     "metadata": {},
     "output_type": "execute_result"
    }
   ],
   "source": [
    "vnos"
   ]
  }
 ],
 "metadata": {
  "kernelspec": {
   "display_name": "Python 3",
   "language": "python",
   "name": "python3"
  },
  "language_info": {
   "codemirror_mode": {
    "name": "ipython",
    "version": 3
   },
   "file_extension": ".py",
   "mimetype": "text/x-python",
   "name": "python",
   "nbconvert_exporter": "python",
   "pygments_lexer": "ipython3",
   "version": "3.9.1"
  }
 },
 "nbformat": 4,
 "nbformat_minor": 5
}
