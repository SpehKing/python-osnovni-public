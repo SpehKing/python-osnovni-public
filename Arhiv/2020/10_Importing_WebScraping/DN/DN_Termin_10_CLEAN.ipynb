{
 "cells": [
  {
   "cell_type": "markdown",
   "metadata": {},
   "source": [
    "<div class=\"alert alert-block alert-info\">\n",
    "<h1><b>Naloga: </b></h1>\n",
    "Ustvarite skripto, ki nam pove v kateri fazi COVID semaforja se nahajamo glede na <b>Št. pozitivnih testov - 7dnevno povprečje</b> in <b>število hospitaliziranih</b>.\n",
    "    \n",
    "Podatke pridobite na https://api.sledilnik.org/api/stats. Podani so v JSON formatu, z najnovejšimi podatki na koncu.\n",
    "</div>\n"
   ]
  },
  {
   "cell_type": "code",
   "execution_count": 9,
   "metadata": {},
   "outputs": [],
   "source": [
    "# Rešitev\n"
   ]
  },
  {
   "cell_type": "code",
   "execution_count": null,
   "metadata": {},
   "outputs": [],
   "source": []
  },
  {
   "cell_type": "markdown",
   "metadata": {},
   "source": [
    "<div class=\"alert alert-block alert-info\">\n",
    "<h1><b>Naloga: </b></h1>\n",
    "Ustvarite skripto, ki nam pridobi podatke slovenski občin na spletni strani: <a href=https://skupnostobcin.si/podatki/zemljevid-obcin-tabela/#p2>https://skupnostobcin.si/podatki/zemljevid-obcin-tabela/#p2</a>\n",
    "    \n",
    "Skripta naj ustvari nov dictionary v katerega shrani Ime občine, število prebivalcev, površino (km2) in število prebivalca/km2 - ni potrebno upoštevati decimalk.\n",
    "    \n",
    "    data {\n",
    "        \"Ljubljana\": {\n",
    "            \"Št. prebivalcev\": 273091,\n",
    "            \"Površina (km2)\": 275,\n",
    "            \"Št.preb/km2\": 993\n",
    "            },\n",
    "        \"Piran\": {\n",
    "            \"Št. prebivalcev\": 17268,\n",
    "            \"Površina (km2)\": 44.6,\n",
    "            \"Št.preb/km2\": 387\n",
    "            },\n",
    "        ...\n",
    "        }\n",
    "    \n",
    "</div>\n"
   ]
  },
  {
   "cell_type": "code",
   "execution_count": 55,
   "metadata": {},
   "outputs": [],
   "source": [
    "# Rešitev\n"
   ]
  },
  {
   "cell_type": "code",
   "execution_count": null,
   "metadata": {},
   "outputs": [],
   "source": []
  },
  {
   "cell_type": "markdown",
   "metadata": {},
   "source": [
    "<div class=\"alert alert-block alert-info\">\n",
    "<h1><b>Naloga: </b></h1>\n",
    "Ustvarite skripto, ki pridobi informacije o 250 najbolje ocenjenih filmih.\n",
    "    \n",
    "https://www.imdb.com/chart/top/?ref_=nv_mv_250\n",
    "    \n",
    "Skripta naj pridobi naslov filma, oceno filma in trajanje filma. Trajanje filma dobite, če odprete specifični film.\n",
    "</div>\n",
    "\n",
    "```python\n",
    "Output:\n",
    "Kaznilnica odrešitve\n",
    "9.2\n",
    "2h 22min\n",
    "\n",
    "Boter\n",
    "9.1\n",
    "2h 55min\n",
    "\n",
    "Boter, II. del\n",
    "9.0\n",
    "3h 22min\n",
    "\n",
    "Vitez teme\n",
    "9.0\n",
    "2h 32min\n",
    "\n",
    "...\n",
    "```"
   ]
  },
  {
   "cell_type": "code",
   "execution_count": null,
   "metadata": {},
   "outputs": [],
   "source": [
    "# Rešitev\n"
   ]
  },
  {
   "cell_type": "code",
   "execution_count": null,
   "metadata": {},
   "outputs": [],
   "source": []
  },
  {
   "cell_type": "code",
   "execution_count": null,
   "metadata": {},
   "outputs": [],
   "source": []
  }
 ],
 "metadata": {
  "kernelspec": {
   "display_name": "Python 3",
   "language": "python",
   "name": "python3"
  },
  "language_info": {
   "codemirror_mode": {
    "name": "ipython",
    "version": 3
   },
   "file_extension": ".py",
   "mimetype": "text/x-python",
   "name": "python",
   "nbconvert_exporter": "python",
   "pygments_lexer": "ipython3",
   "version": "3.9.0"
  }
 },
 "nbformat": 4,
 "nbformat_minor": 4
}
