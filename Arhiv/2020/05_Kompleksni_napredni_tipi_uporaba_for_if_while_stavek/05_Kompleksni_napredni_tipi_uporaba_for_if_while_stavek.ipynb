{
 "cells": [
  {
   "cell_type": "markdown",
   "id": "incredible-ideal",
   "metadata": {},
   "source": [
    "# Pogojni stavek (Conditional Statement) - if, elif, else\n",
    "\n"
   ]
  },
  {
   "cell_type": "code",
   "execution_count": 1,
   "id": "optical-taiwan",
   "metadata": {},
   "outputs": [
    {
     "name": "stdout",
     "output_type": "stream",
     "text": [
      "1\n",
      "2\n",
      "3\n"
     ]
    }
   ],
   "source": [
    "print(1)\n",
    "print(2)\n",
    "print(3)"
   ]
  },
  {
   "cell_type": "markdown",
   "id": "expanded-words",
   "metadata": {},
   "source": [
    "    if <expr>:\n",
    "        <statement>"
   ]
  },
  {
   "cell_type": "code",
   "execution_count": 13,
   "id": "cross-thread",
   "metadata": {},
   "outputs": [],
   "source": [
    "x = 0\n",
    "y = 5"
   ]
  },
  {
   "cell_type": "code",
   "execution_count": 5,
   "id": "addressed-union",
   "metadata": {},
   "outputs": [
    {
     "name": "stdout",
     "output_type": "stream",
     "text": [
      "yes\n",
      "KONEC\n"
     ]
    }
   ],
   "source": [
    "if x < y:\n",
    "    print('yes')\n",
    "    \n",
    "print('KONEC')"
   ]
  },
  {
   "cell_type": "code",
   "execution_count": 3,
   "id": "disciplinary-degree",
   "metadata": {},
   "outputs": [
    {
     "data": {
      "text/plain": [
       "True"
      ]
     },
     "execution_count": 3,
     "metadata": {},
     "output_type": "execute_result"
    }
   ],
   "source": [
    "x < y"
   ]
  },
  {
   "cell_type": "code",
   "execution_count": 7,
   "id": "quick-canvas",
   "metadata": {},
   "outputs": [
    {
     "name": "stdout",
     "output_type": "stream",
     "text": [
      "KONEC\n"
     ]
    }
   ],
   "source": [
    "if x > y:\n",
    "    print('yes')\n",
    "    print('je res')\n",
    "    z = 8\n",
    "    \n",
    "print('KONEC')"
   ]
  },
  {
   "cell_type": "markdown",
   "id": "rocky-syndication",
   "metadata": {},
   "source": [
    "indentation  je sestavljen iz 4 presledkov"
   ]
  },
  {
   "cell_type": "code",
   "execution_count": 10,
   "id": "severe-southwest",
   "metadata": {},
   "outputs": [
    {
     "ename": "IndentationError",
     "evalue": "unexpected indent (<ipython-input-10-0bfca29199c3>, line 3)",
     "output_type": "error",
     "traceback": [
      "\u001b[0;36m  File \u001b[0;32m\"<ipython-input-10-0bfca29199c3>\"\u001b[0;36m, line \u001b[0;32m3\u001b[0m\n\u001b[0;31m    print('je res')\u001b[0m\n\u001b[0m    ^\u001b[0m\n\u001b[0;31mIndentationError\u001b[0m\u001b[0;31m:\u001b[0m unexpected indent\n"
     ]
    }
   ],
   "source": [
    "if x < y:\n",
    "  print('yes')\n",
    "   print('je res')"
   ]
  },
  {
   "cell_type": "code",
   "execution_count": 15,
   "id": "aerial-mills",
   "metadata": {},
   "outputs": [],
   "source": [
    "x = 0\n",
    "\n",
    "if x:\n",
    "    print('yes')"
   ]
  },
  {
   "cell_type": "code",
   "execution_count": 16,
   "id": "suited-naples",
   "metadata": {},
   "outputs": [
    {
     "name": "stdout",
     "output_type": "stream",
     "text": [
      "yes\n"
     ]
    }
   ],
   "source": [
    "y = 3\n",
    "\n",
    "if y:\n",
    "    print('yes')"
   ]
  },
  {
   "cell_type": "code",
   "execution_count": 18,
   "id": "inner-criminal",
   "metadata": {},
   "outputs": [
    {
     "name": "stdout",
     "output_type": "stream",
     "text": [
      "yes\n"
     ]
    }
   ],
   "source": [
    "if x or y:                           # Truthy\n",
    "    print('yes')"
   ]
  },
  {
   "cell_type": "code",
   "execution_count": 19,
   "id": "controlling-cartoon",
   "metadata": {},
   "outputs": [],
   "source": [
    "if x and y:                          # Falsy\n",
    "    print('yes')"
   ]
  },
  {
   "cell_type": "code",
   "execution_count": 20,
   "id": "educated-climb",
   "metadata": {},
   "outputs": [
    {
     "name": "stdout",
     "output_type": "stream",
     "text": [
      "yes\n"
     ]
    }
   ],
   "source": [
    "if 'vreme' in 'vremenska napoved':\n",
    "    print('yes')"
   ]
  },
  {
   "cell_type": "code",
   "execution_count": 21,
   "id": "alleged-wayne",
   "metadata": {},
   "outputs": [
    {
     "name": "stdout",
     "output_type": "stream",
     "text": [
      "yes\n"
     ]
    }
   ],
   "source": [
    "if 'bar' in ['foo', 'bar', 'var']:\n",
    "    print('yes') "
   ]
  },
  {
   "cell_type": "markdown",
   "id": "martial-while",
   "metadata": {},
   "source": [
    "<img loading=\"lazy\" class=\"img-fluid mx-auto d-block w-50\" src=\"https://files.realpython.com/media/t.78f3bacaa261.png\" width=\"1161\" height=\"567\" srcset=\"https://robocrop.realpython.net/?url=https%3A//files.realpython.com/media/t.78f3bacaa261.png&amp;w=290&amp;sig=8cfd4a010c0b867566355d37940094c80686b069 290w, https://robocrop.realpython.net/?url=https%3A//files.realpython.com/media/t.78f3bacaa261.png&amp;w=580&amp;sig=b46675ebe59aa643ef75226a12702cc1218d6a9a 580w, https://files.realpython.com/media/t.78f3bacaa261.png 1161w\" sizes=\"75vw\" alt=\"Python conditional statement\" data-asset=\"454\">"
   ]
  },
  {
   "cell_type": "code",
   "execution_count": 23,
   "id": "cognitive-block",
   "metadata": {},
   "outputs": [
    {
     "name": "stdout",
     "output_type": "stream",
     "text": [
      "After conditional\n"
     ]
    }
   ],
   "source": [
    "if 'foo' in ['bar', 'baz', 'qux']:\n",
    "    print('Expression was true')\n",
    "    print('Executing statement in suite')\n",
    "    print('...')\n",
    "    print('Done.')\n",
    "print('After conditional')"
   ]
  },
  {
   "cell_type": "markdown",
   "id": "absent-humanity",
   "metadata": {},
   "source": [
    "#### Gnezdenje"
   ]
  },
  {
   "cell_type": "code",
   "execution_count": 24,
   "id": "liable-tours",
   "metadata": {},
   "outputs": [
    {
     "name": "stdout",
     "output_type": "stream",
     "text": [
      "After conditional\n"
     ]
    }
   ],
   "source": [
    "x = 0\n",
    "y = 5\n",
    "\n",
    "if 'foo' in ['bar', 'baz', 'qux']:\n",
    "    print('Expression was true')\n",
    "    print('Executing statement in suite')\n",
    "    if x < y:\n",
    "        print('...')\n",
    "        print('Done.')\n",
    "print('After conditional')"
   ]
  },
  {
   "cell_type": "markdown",
   "id": "signed-interaction",
   "metadata": {},
   "source": [
    "### else, elif stavek"
   ]
  },
  {
   "cell_type": "markdown",
   "id": "advance-textbook",
   "metadata": {},
   "source": [
    "    if <expr>:\n",
    "        <statement(s)>\n",
    "    else:\n",
    "        <statement(s)>\n",
    "\n"
   ]
  },
  {
   "cell_type": "code",
   "execution_count": 29,
   "id": "coastal-hartford",
   "metadata": {},
   "outputs": [
    {
     "name": "stdout",
     "output_type": "stream",
     "text": [
      "x je manjši\n"
     ]
    }
   ],
   "source": [
    "x = 20\n",
    "\n",
    "if x < 50:\n",
    "    print('x je manjši')\n",
    "else:\n",
    "    print('x je večji oz enak')"
   ]
  },
  {
   "cell_type": "code",
   "execution_count": 30,
   "id": "conscious-difference",
   "metadata": {},
   "outputs": [
    {
     "name": "stdout",
     "output_type": "stream",
     "text": [
      "x je večji oz enak\n"
     ]
    }
   ],
   "source": [
    "x = 120\n",
    "\n",
    "if x < 50:\n",
    "    print('x je manjši')\n",
    "else:\n",
    "    print('x je večji oz enak')"
   ]
  },
  {
   "cell_type": "markdown",
   "id": "cathedral-motion",
   "metadata": {},
   "source": [
    "    if <expr>:\n",
    "        <statement(s)>\n",
    "    elif <expr>:\n",
    "        <statement(s)>\n",
    "    elif <expr>:\n",
    "        <statement(s)>\n",
    "        ...\n",
    "    else:\n",
    "        <statement(s)>"
   ]
  },
  {
   "cell_type": "code",
   "execution_count": 34,
   "id": "legendary-quest",
   "metadata": {},
   "outputs": [
    {
     "name": "stdout",
     "output_type": "stream",
     "text": [
      "Ocena ni pravilna\n"
     ]
    }
   ],
   "source": [
    "#ocena = 4\n",
    "#ocena = 5\n",
    "ocena = 44\n",
    "\n",
    "\n",
    "if ocena == 1:\n",
    "    print('nezadostno')\n",
    "elif ocena == 2:\n",
    "    print('zadostno')\n",
    "elif ocena == 3:\n",
    "    print('dobro')\n",
    "elif ocena == 4:\n",
    "    print('pravdobro')\n",
    "elif ocena == 5:\n",
    "    print('odlično')\n",
    "else:\n",
    "    print('Ocena ni pravilna')"
   ]
  },
  {
   "cell_type": "code",
   "execution_count": 35,
   "id": "employed-reader",
   "metadata": {},
   "outputs": [
    {
     "name": "stdout",
     "output_type": "stream",
     "text": [
      "dobro\n",
      "nadaljevanje\n"
     ]
    }
   ],
   "source": [
    "ocena = 3\n",
    "\n",
    "\n",
    "if ocena == 1:\n",
    "    print('nezadostno')\n",
    "elif ocena == 2:\n",
    "    print('zadostno')\n",
    "elif ocena == 3:\n",
    "    print('dobro')\n",
    "elif ocena == 4:\n",
    "    print('pravdobro')\n",
    "elif ocena == 5:\n",
    "    print('odlično')\n",
    "else:\n",
    "    print('Ocena ni pravilna')\n",
    "    \n",
    "print('nadaljevanje')"
   ]
  },
  {
   "cell_type": "markdown",
   "id": "above-agriculture",
   "metadata": {},
   "source": [
    "### Skrite napake v if stavkih"
   ]
  },
  {
   "cell_type": "code",
   "execution_count": 36,
   "id": "color-parliament",
   "metadata": {},
   "outputs": [
    {
     "ename": "NameError",
     "evalue": "name 'var' is not defined",
     "output_type": "error",
     "traceback": [
      "\u001b[0;31m---------------------------------------------------------------------------\u001b[0m",
      "\u001b[0;31mNameError\u001b[0m                                 Traceback (most recent call last)",
      "\u001b[0;32m<ipython-input-36-84ddba356ca3>\u001b[0m in \u001b[0;36m<module>\u001b[0;34m\u001b[0m\n\u001b[0;32m----> 1\u001b[0;31m \u001b[0mvar\u001b[0m\u001b[0;34m\u001b[0m\u001b[0;34m\u001b[0m\u001b[0m\n\u001b[0m",
      "\u001b[0;31mNameError\u001b[0m: name 'var' is not defined"
     ]
    }
   ],
   "source": [
    "var"
   ]
  },
  {
   "cell_type": "code",
   "execution_count": 37,
   "id": "demonstrated-wallpaper",
   "metadata": {},
   "outputs": [
    {
     "ename": "ZeroDivisionError",
     "evalue": "division by zero",
     "output_type": "error",
     "traceback": [
      "\u001b[0;31m---------------------------------------------------------------------------\u001b[0m",
      "\u001b[0;31mZeroDivisionError\u001b[0m                         Traceback (most recent call last)",
      "\u001b[0;32m<ipython-input-37-9e1622b385b6>\u001b[0m in \u001b[0;36m<module>\u001b[0;34m\u001b[0m\n\u001b[0;32m----> 1\u001b[0;31m \u001b[0;36m1\u001b[0m\u001b[0;34m/\u001b[0m\u001b[0;36m0\u001b[0m\u001b[0;34m\u001b[0m\u001b[0;34m\u001b[0m\u001b[0m\n\u001b[0m",
      "\u001b[0;31mZeroDivisionError\u001b[0m: division by zero"
     ]
    }
   ],
   "source": [
    "1/0"
   ]
  },
  {
   "cell_type": "code",
   "execution_count": 43,
   "id": "relevant-carpet",
   "metadata": {},
   "outputs": [
    {
     "name": "stdout",
     "output_type": "stream",
     "text": [
      "foo\n",
      "KONEC\n"
     ]
    }
   ],
   "source": [
    "if 'a' in 'bar':\n",
    "    print('foo')\n",
    "elif 1/0: # skrita napaka, se ne ugotovi dokler tega ne izvedemo\n",
    "    print('eljenje')\n",
    "elif var:\n",
    "    print('var deluje')\n",
    "    \n",
    "print('KONEC')"
   ]
  },
  {
   "cell_type": "markdown",
   "id": "hundred-cyprus",
   "metadata": {},
   "source": [
    "### pass statement"
   ]
  },
  {
   "cell_type": "code",
   "execution_count": 45,
   "id": "becoming-wrapping",
   "metadata": {},
   "outputs": [
    {
     "name": "stdout",
     "output_type": "stream",
     "text": [
      "večje od 3\n"
     ]
    }
   ],
   "source": [
    "x = 3\n",
    "\n",
    "if x < 3:\n",
    "    pass\n",
    "else:\n",
    "    print('večje od 3')"
   ]
  },
  {
   "cell_type": "markdown",
   "id": "removable-stereo",
   "metadata": {},
   "source": [
    "### Vaje: if, elif, else stavek"
   ]
  },
  {
   "cell_type": "code",
   "execution_count": 46,
   "id": "important-alliance",
   "metadata": {},
   "outputs": [
    {
     "name": "stdout",
     "output_type": "stream",
     "text": [
      "List of months: January, February, March, April, May, June, July, August, September, October, November, December\n"
     ]
    }
   ],
   "source": [
    "print(\"List of months: January, February, March, April, May, June, July, August, September, October, November, December\")"
   ]
  },
  {
   "cell_type": "code",
   "execution_count": null,
   "id": "quality-consultancy",
   "metadata": {},
   "outputs": [],
   "source": [
    "# input funkcijo, ki sprejme od uporabnika ime\n",
    "\n",
    "# oblikovat, da so vse črke majhne\n",
    "\n",
    "# če je vrednost enaka february\n",
    "    # izpišemo mesec vsebuje 28/29\n",
    "# če je vrednost v množici vrednosti (\"april\", \"june\", \"september\", \"november\")\n",
    "    # izpišemo 30 dni\n",
    "# če je vrednost v množici vrednosti (\"january\", \"march\", \"may\", \"july\", \"august\", \"october\", \"december\")\n",
    "    # izpišemo 31 dni\n",
    "# v nasprotnem primeru je mesec napačen"
   ]
  },
  {
   "cell_type": "code",
   "execution_count": 50,
   "id": "vocal-minutes",
   "metadata": {},
   "outputs": [
    {
     "name": "stdout",
     "output_type": "stream",
     "text": [
      "Vnesi ime meseca (angleško): may\n",
      "january has 30 days\n"
     ]
    }
   ],
   "source": [
    "mesec_oblikovan = input(\"Vnesi ime meseca (angleško): \").lower()\n",
    "\n",
    "if mesec_oblikovan == \"february\":\n",
    "    print(f\"{mesec} has 28/29 days\")\n",
    "if mesec_oblikovan in ['january','march','may','july','august','october','december']:\n",
    "    print(f\"{mesec} has 30 days\")\n",
    "elif mesec_oblikovan in ['april','june','september','november']:\n",
    "    print(f\"{mesec} has 31 days\")\n",
    "else:\n",
    "    print('Napačen mesec')"
   ]
  },
  {
   "cell_type": "code",
   "execution_count": 48,
   "id": "proved-mercury",
   "metadata": {},
   "outputs": [
    {
     "name": "stdout",
     "output_type": "stream",
     "text": [
      "Vnesi ime meseca (angleško): september\n",
      "september has 30 days\n"
     ]
    }
   ],
   "source": [
    "vnos = (input(\"Vnesi ime meseca (angleško): \"))\n",
    "vnos = vnos.lower()\n",
    "if vnos == \"february\":\n",
    "    print(f\"{vnos} has 28/29 days\")\n",
    "elif vnos in [\"april\", \"june\", \"september\", \"november\"]:\n",
    "    print(f\"{vnos} has 30 days\")\n",
    "elif vnos in [\"january\", \"march\", \"may\", \"july\", \"august\", \"october\", \"december\"]:\n",
    "    print(f\"{vnos} has 31 days\")\n",
    "else:\n",
    "    print(\"mesec je napačen\")"
   ]
  },
  {
   "cell_type": "markdown",
   "id": "protective-james",
   "metadata": {},
   "source": [
    "2. Naloga: Validator telefonskih številk"
   ]
  },
  {
   "cell_type": "markdown",
   "id": "single-aquarium",
   "metadata": {},
   "source": [
    "Pravila:\n",
    "- 9 številk\n",
    "- se začne z 041/051\n",
    "- da nima črk\n",
    "- oblika: XXX-XXX-XXX"
   ]
  },
  {
   "cell_type": "code",
   "execution_count": 52,
   "id": "conservative-cliff",
   "metadata": {},
   "outputs": [],
   "source": [
    "telefonska1 = \"042-3434-55\"\n",
    "telefonska2 = \"041-334-565\"\n",
    "telefonska3 = \"dsds-3434-55\"\n",
    "telefonska4 = \"042/434/555\"\n",
    "telefonska5 = \"06042-3434-55\""
   ]
  },
  {
   "cell_type": "code",
   "execution_count": 70,
   "id": "dominican-dominican",
   "metadata": {},
   "outputs": [
    {
     "name": "stdout",
     "output_type": "stream",
     "text": [
      "Številka 041-334-565 je validirana.\n"
     ]
    }
   ],
   "source": [
    "# prva verzija\n",
    "telefonska = telefonska2\n",
    "\n",
    "validirano = []\n",
    "\n",
    "if '-' in telefonska:\n",
    "    validirano.append(True)\n",
    "    \n",
    "if len(''.join(telefonska.split('-'))) == 9:\n",
    "    validirano.append(True)\n",
    "    \n",
    "if telefonska.startswith('041') or telefonska.startswith('051'):\n",
    "    validirano.append(True)\n",
    "\n",
    "if isinstance(int(''.join(telefonska.split('-'))), int):\n",
    "    validirano.append(True)\n",
    "    \n",
    "\n",
    "# preverimo da so pogoji izpolnjeni\n",
    "if validirano == [True, True, True, True]:\n",
    "    print(f\"Številka {telefonska} je validirana.\")\n",
    "else:\n",
    "    print(\"Številka NI validirana\")"
   ]
  },
  {
   "cell_type": "markdown",
   "id": "organic-solid",
   "metadata": {},
   "source": [
    "3. Naloga "
   ]
  },
  {
   "cell_type": "markdown",
   "id": "bibliographic-phase",
   "metadata": {},
   "source": [
    "    45F, 40C"
   ]
  },
  {
   "cell_type": "markdown",
   "id": "another-memory",
   "metadata": {},
   "source": [
    "    c_to_f =-> int(round((9 * degree) / 5 + 32))\n",
    "    f_to_c => int(round((degree - 32) * 5 / 9))"
   ]
  },
  {
   "cell_type": "code",
   "execution_count": 76,
   "id": "pressed-evolution",
   "metadata": {},
   "outputs": [
    {
     "name": "stdout",
     "output_type": "stream",
     "text": [
      "Temperatura 117 stopinj E ustreza -999 stopinj F.\n"
     ]
    }
   ],
   "source": [
    "temp = '117e'\n",
    "temp = temp.lower()\n",
    "\n",
    "enota = temp[-1]\n",
    "temp = int(temp[:-1])\n",
    "\n",
    "if enota == 'c':\n",
    "    # podatek je v stopinjah celzija\n",
    "    temp_ = (int(round((9 * temp) / 5 + 32)))\n",
    "    enota_ = \"f\"\n",
    "elif enota == 'f':\n",
    "    # podatek je v stopinjah fahrenheita\n",
    "    temp_ = int(round((temp - 32) * 5 / 9))\n",
    "    enota_ = \"c\"\n",
    "else:\n",
    "    # napacna enota\n",
    "    temp_ = -999\n",
    "\n",
    "print(f\"Temperatura {temp} stopinj {enota.upper()} ustreza {temp_} stopinj {enota_.upper()}.\");\n"
   ]
  },
  {
   "cell_type": "code",
   "execution_count": 77,
   "id": "precise-bradley",
   "metadata": {},
   "outputs": [
    {
     "name": "stdout",
     "output_type": "stream",
     "text": [
      "Input the  temperature you like to convert? (e.g., 45F, 102C etc.): 35F\n",
      "The temperature in Celsius is 2 degrees.\n"
     ]
    }
   ],
   "source": [
    "temp = input(\"Input the  temperature you like to convert? (e.g., 45F, 102C etc.): \")\n",
    "degree = int(temp[:-1])\n",
    "i_convention = temp[-1].upper()\n",
    "\n",
    "if i_convention == \"C\":\n",
    "    result = int(round((9 * degree) / 5 + 32))\n",
    "    o_convention = \"Fahrenheit\"\n",
    "    print(\"The temperature in\", o_convention, \"is\", result, \"degrees.\")\n",
    "elif i_convention == \"F\":\n",
    "    result = int(round((degree - 32) * 5 / 9))\n",
    "    o_convention = \"Celsius\"\n",
    "    print(\"The temperature in\", o_convention, \"is\", result, \"degrees.\")\n",
    "else:\n",
    "    print(\"Input proper convention.\")"
   ]
  },
  {
   "cell_type": "markdown",
   "id": "hired-contact",
   "metadata": {},
   "source": [
    "# While loop"
   ]
  },
  {
   "cell_type": "markdown",
   "id": "exterior-above",
   "metadata": {},
   "source": [
    "- definite iteration\n",
    "- indefinite iteration"
   ]
  },
  {
   "cell_type": "markdown",
   "id": "lined-butterfly",
   "metadata": {},
   "source": [
    "    while <expr>:\n",
    "        <statement(s)>"
   ]
  },
  {
   "cell_type": "code",
   "execution_count": 78,
   "id": "oriental-rogers",
   "metadata": {},
   "outputs": [
    {
     "ename": "IndentationError",
     "evalue": "unexpected indent (<ipython-input-78-7d712d3af216>, line 5)",
     "output_type": "error",
     "traceback": [
      "\u001b[0;36m  File \u001b[0;32m\"<ipython-input-78-7d712d3af216>\"\u001b[0;36m, line \u001b[0;32m5\u001b[0m\n\u001b[0;31m    print('2')\u001b[0m\n\u001b[0m    ^\u001b[0m\n\u001b[0;31mIndentationError\u001b[0m\u001b[0;31m:\u001b[0m unexpected indent\n"
     ]
    }
   ],
   "source": [
    "a = 1\n",
    "\n",
    "while a == 2:\n",
    "    print('1')\n",
    "     print('2')"
   ]
  },
  {
   "cell_type": "code",
   "execution_count": 80,
   "id": "professional-banana",
   "metadata": {},
   "outputs": [
    {
     "name": "stdout",
     "output_type": "stream",
     "text": [
      "5\n",
      "4\n",
      "3\n",
      "2\n",
      "1\n",
      "KONEC\n"
     ]
    }
   ],
   "source": [
    "n = 5\n",
    "\n",
    "while n > 0:\n",
    "    print(n)\n",
    "    n -= 1\n",
    "    \n",
    "print('KONEC')"
   ]
  },
  {
   "cell_type": "code",
   "execution_count": 81,
   "id": "fiscal-patient",
   "metadata": {},
   "outputs": [
    {
     "name": "stdout",
     "output_type": "stream",
     "text": [
      "KONEC\n"
     ]
    }
   ],
   "source": [
    "n = 0\n",
    "while n > 0:\n",
    "    print(n)\n",
    "    n -= 1\n",
    "    \n",
    "print('KONEC')"
   ]
  },
  {
   "cell_type": "code",
   "execution_count": 82,
   "id": "designed-space",
   "metadata": {},
   "outputs": [
    {
     "name": "stdout",
     "output_type": "stream",
     "text": [
      "[0, 1, 2, 3, 4, 5, 6, 7, 8, 9]\n"
     ]
    }
   ],
   "source": [
    "a = []\n",
    "start = 0\n",
    "\n",
    "while len(a) < 10:\n",
    "    a.append(start)\n",
    "    start += 1\n",
    "    \n",
    "print(a)"
   ]
  },
  {
   "cell_type": "markdown",
   "id": "offshore-digit",
   "metadata": {},
   "source": [
    "### Break and continue Statements"
   ]
  },
  {
   "cell_type": "markdown",
   "id": "going-heater",
   "metadata": {},
   "source": [
    "<img loading=\"lazy\" class=\"img-fluid mx-auto d-block w-50\" src=\"https://files.realpython.com/media/t.899f357dd948.png\" width=\"708\" height=\"798\" srcset=\"https://robocrop.realpython.net/?url=https%3A//files.realpython.com/media/t.899f357dd948.png&amp;w=177&amp;sig=4cd477f7c81adba8f9358ca57c9f07a2e48324ed 177w, https://robocrop.realpython.net/?url=https%3A//files.realpython.com/media/t.899f357dd948.png&amp;w=354&amp;sig=d0cb3a50381612d673fe209cbbf60b60bf995860 354w, https://files.realpython.com/media/t.899f357dd948.png 708w\" sizes=\"75vw\" alt=\"Python while loops: break and continue statements\" data-asset=\"443\">"
   ]
  },
  {
   "cell_type": "code",
   "execution_count": 86,
   "id": "olympic-plymouth",
   "metadata": {},
   "outputs": [
    {
     "name": "stdout",
     "output_type": "stream",
     "text": [
      "4\n",
      "3\n",
      "Konec loopa\n"
     ]
    }
   ],
   "source": [
    "n = 5\n",
    "\n",
    "while n > 0:\n",
    "    n -= 1\n",
    "    if n == 2:\n",
    "        break\n",
    "    print(n)\n",
    "\n",
    "print('Konec loopa')"
   ]
  },
  {
   "cell_type": "code",
   "execution_count": 87,
   "id": "golden-family",
   "metadata": {},
   "outputs": [
    {
     "name": "stdout",
     "output_type": "stream",
     "text": [
      "4\n",
      "3\n",
      "1\n",
      "0\n",
      "Konec loopa\n"
     ]
    }
   ],
   "source": [
    "n = 5\n",
    "\n",
    "while n > 0:\n",
    "    n -= 1\n",
    "    if n == 2:\n",
    "        continue\n",
    "    print(n)\n",
    "\n",
    "print('Konec loopa')"
   ]
  },
  {
   "cell_type": "code",
   "execution_count": null,
   "id": "capital-magnitude",
   "metadata": {},
   "outputs": [],
   "source": [
    "# brake gnezden"
   ]
  },
  {
   "cell_type": "code",
   "execution_count": 92,
   "id": "outer-transcript",
   "metadata": {},
   "outputs": [
    {
     "name": "stdout",
     "output_type": "stream",
     "text": [
      "b=4\n",
      "b=3\n",
      "4\n",
      "b=1\n",
      "b=0\n",
      "3\n",
      "2\n",
      "1\n",
      "0\n",
      "Konec loopa\n"
     ]
    }
   ],
   "source": [
    "n = 5\n",
    "b = 5\n",
    "\n",
    "while n > 0:\n",
    "    n -= 1\n",
    "    while b > 0:\n",
    "        b -= 1\n",
    "        if b == 2:\n",
    "            break\n",
    "        print(f\"b={b}\")\n",
    "    print(n)\n",
    "\n",
    "print('Konec loopa')"
   ]
  },
  {
   "cell_type": "markdown",
   "id": "beginning-making",
   "metadata": {},
   "source": [
    "### Infinite Loops"
   ]
  },
  {
   "cell_type": "code",
   "execution_count": 93,
   "id": "funky-folks",
   "metadata": {},
   "outputs": [
    {
     "name": "stdout",
     "output_type": "stream",
     "text": [
      "AA\n",
      "BB\n"
     ]
    }
   ],
   "source": [
    "a = ['AA', 'BB', 'CC', 'DD']\n",
    "index = 0\n",
    "\n",
    "while True:\n",
    "    if 'CC' == a[index]:\n",
    "        break\n",
    "    print(a[index])\n",
    "    index += 1"
   ]
  },
  {
   "cell_type": "code",
   "execution_count": 95,
   "id": "traditional-equilibrium",
   "metadata": {},
   "outputs": [
    {
     "name": "stdout",
     "output_type": "stream",
     "text": [
      "a= AA\n",
      "b= AA\n",
      "b= BB\n",
      "b= CC\n",
      "b= DD\n",
      "a= BB\n",
      "a= CC\n",
      "a= DD\n",
      "Konec loopa\n"
     ]
    }
   ],
   "source": [
    "a = ['AA', 'BB', 'CC', 'DD']\n",
    "b = ['AA', 'BB', 'CC', 'DD']\n",
    "index_a = 0\n",
    "index_b = 0 \n",
    "\n",
    "while index_a < 4:\n",
    "    print(f'a=',a[index_a])\n",
    "    index_a += 1\n",
    "    while index_b < 4:\n",
    "        print(f'b=', b[index_b])\n",
    "        index_b += 1\n",
    "\n",
    "print('Konec loopa')"
   ]
  },
  {
   "cell_type": "markdown",
   "id": "particular-sequence",
   "metadata": {},
   "source": [
    "### Vaje: while loop"
   ]
  },
  {
   "cell_type": "markdown",
   "id": "handed-balance",
   "metadata": {},
   "source": [
    "1. Naloga"
   ]
  },
  {
   "cell_type": "markdown",
   "id": "reserved-woman",
   "metadata": {},
   "source": [
    "1+2+3... do 100 vključno"
   ]
  },
  {
   "cell_type": "code",
   "execution_count": 96,
   "id": "southern-dietary",
   "metadata": {},
   "outputs": [
    {
     "name": "stdout",
     "output_type": "stream",
     "text": [
      "5050\n"
     ]
    }
   ],
   "source": [
    "n = 100\n",
    "vsota = 0\n",
    "while n > 0:\n",
    "    vsota += n\n",
    "    n -= 1\n",
    "    \n",
    "print(vsota)"
   ]
  },
  {
   "cell_type": "code",
   "execution_count": 103,
   "id": "controversial-independence",
   "metadata": {},
   "outputs": [
    {
     "name": "stdout",
     "output_type": "stream",
     "text": [
      "5050\n"
     ]
    }
   ],
   "source": [
    "a = 1\n",
    "b = 0\n",
    "\n",
    "while a <= 100:\n",
    "    b = a + b\n",
    "    #print(a,\" vsota= \", b)\n",
    "    a += 1\n",
    "\n",
    "print(b)"
   ]
  },
  {
   "cell_type": "code",
   "execution_count": 105,
   "id": "laughing-father",
   "metadata": {},
   "outputs": [],
   "source": [
    "a = 1\n",
    "vsota = 0\n",
    "\n",
    "while a < 101:\n",
    "    vsota += a\n",
    "    #print(f\"vsota števil od 1 do {a} je {vsota}.\")\n",
    "    a += 1"
   ]
  },
  {
   "cell_type": "markdown",
   "id": "rational-calculator",
   "metadata": {},
   "source": [
    "2. Naloga: "
   ]
  },
  {
   "cell_type": "code",
   "execution_count": 106,
   "id": "aquatic-painting",
   "metadata": {},
   "outputs": [
    {
     "name": "stdout",
     "output_type": "stream",
     "text": [
      "There is number 100 in list [10, 99, 98, 85, 45, 59, 65, 66, 76, 12, 35, 13, 100, 80, 95] at index 12.\n"
     ]
    }
   ],
   "source": [
    "lst=[10, 99, 98, 85, 45, 59, 65, 66, 76, 12, 35, 13, 100, 80, 95]\n",
    "\n",
    "num=100\n",
    "ix=0\n",
    "while ix<len(lst):\n",
    "    if lst[ix] == num:\n",
    "        break\n",
    "    ix += 1\n",
    "        \n",
    "print(f\"There is number {num} in list {lst} at index {ix}.\")"
   ]
  },
  {
   "cell_type": "code",
   "execution_count": 111,
   "id": "collected-hands",
   "metadata": {},
   "outputs": [
    {
     "name": "stdout",
     "output_type": "stream",
     "text": [
      "There is a 100 at index no: 12\n",
      "There is a 100 at index no: 15\n",
      "There is a 100 at index no: 18\n"
     ]
    }
   ],
   "source": [
    "lst=[10, 99, 98, 85, 45, 59, 65, 66, 76, 12, 35, 13, 100, 80, 95, 100, 40,45,100]\n",
    "i = 0\n",
    "while i < len(lst):\n",
    "    if lst[i] == 100:\n",
    "        print(f\"There is a 100 at index no: {str(i)}\")\n",
    "    i = i+1"
   ]
  },
  {
   "cell_type": "code",
   "execution_count": 112,
   "id": "framed-little",
   "metadata": {},
   "outputs": [
    {
     "name": "stdout",
     "output_type": "stream",
     "text": [
      "Vrednost '100' se nahaja na mestu 12.\n"
     ]
    }
   ],
   "source": [
    "index = 0\n",
    "\n",
    "while True:\n",
    "    if lst[index] == 100:\n",
    "        print(f\"Vrednost '100' se nahaja na mestu {index}.\")\n",
    "        break\n",
    "    index += 1"
   ]
  },
  {
   "cell_type": "markdown",
   "id": "diverse-capital",
   "metadata": {},
   "source": [
    "3.Naloga"
   ]
  },
  {
   "cell_type": "code",
   "execution_count": 114,
   "id": "concerned-might",
   "metadata": {},
   "outputs": [],
   "source": [
    "lst1=[\"Joe\", \"Sarah\", \"Mike\", \"Jess\", \"\", \"Matt\", \"\", \"Greg\"]"
   ]
  },
  {
   "cell_type": "markdown",
   "id": "smoking-student",
   "metadata": {},
   "source": [
    "    ['Joe', 'Sarah', 'Mike', 'Jess', 'Matt', 'Greg']"
   ]
  },
  {
   "cell_type": "code",
   "execution_count": 115,
   "id": "light-basin",
   "metadata": {},
   "outputs": [
    {
     "name": "stdout",
     "output_type": "stream",
     "text": [
      "['Joe', 'Sarah', 'Mike', 'Jess', 'Matt', 'Greg']\n"
     ]
    }
   ],
   "source": [
    "i=0\n",
    "nlst=[]\n",
    "while i<len(lst1):\n",
    "    if len(lst1[i])>0:\n",
    "        nlst.append(lst1[i]) \n",
    "    i += 1 \n",
    "    \n",
    "print(nlst)"
   ]
  },
  {
   "cell_type": "code",
   "execution_count": 116,
   "id": "virgin-stuff",
   "metadata": {},
   "outputs": [
    {
     "name": "stdout",
     "output_type": "stream",
     "text": [
      "['Joe', 'Sarah', 'Mike', 'Jess', 'Matt', 'Greg']\n"
     ]
    }
   ],
   "source": [
    "i = 0\n",
    "new_list = []\n",
    "while i < len(lst1):\n",
    "    if lst1[i] != \"\":\n",
    "        new_list.append(lst1[i])\n",
    "    i = i+1\n",
    "\n",
    "print(new_list)"
   ]
  },
  {
   "cell_type": "markdown",
   "id": "civilian-stationery",
   "metadata": {},
   "source": [
    "4. Naloga"
   ]
  },
  {
   "cell_type": "code",
   "execution_count": 117,
   "id": "french-stations",
   "metadata": {},
   "outputs": [
    {
     "name": "stdout",
     "output_type": "stream",
     "text": [
      "Input the  temperature you like to convert? (e.g., 45F, 102C etc.): 34f\n",
      "The temperature in Celsius is 1 degrees.\n",
      "Input the  temperature you like to convert? (e.g., 45F, 102C etc.): 7667c\n",
      "The temperature in Fahrenheit is 13833 degrees.\n",
      "Input the  temperature you like to convert? (e.g., 45F, 102C etc.): exit\n"
     ]
    }
   ],
   "source": [
    "while True:\n",
    "    temp = input(\"Input the  temperature you like to convert? (e.g., 45F, 102C etc.): \")\n",
    "    \n",
    "    if temp.lower() == 'exit':\n",
    "        break\n",
    "        \n",
    "    degree = int(temp[:-1])\n",
    "    i_convention = temp[-1].upper()\n",
    "\n",
    "    if i_convention == \"C\":\n",
    "        result = int(round((9 * degree) / 5 + 32))\n",
    "        o_convention = \"Fahrenheit\"\n",
    "        print(\"The temperature in\", o_convention, \"is\", result, \"degrees.\")\n",
    "    elif i_convention == \"F\":\n",
    "        result = int(round((degree - 32) * 5 / 9))\n",
    "        o_convention = \"Celsius\"\n",
    "        print(\"The temperature in\", o_convention, \"is\", result, \"degrees.\")\n",
    "    else:\n",
    "        print(\"Input proper convention.\")"
   ]
  },
  {
   "cell_type": "markdown",
   "id": "unnecessary-railway",
   "metadata": {},
   "source": [
    "# for loop"
   ]
  },
  {
   "cell_type": "markdown",
   "id": "creative-hungarian",
   "metadata": {},
   "source": [
    "    # C\n",
    "    for (i = 1; i <= 10; i++){\n",
    "        <loop body>\n",
    "        }"
   ]
  },
  {
   "cell_type": "markdown",
   "id": "compliant-dodge",
   "metadata": {},
   "source": [
    "-  Iterator-Based Loop"
   ]
  },
  {
   "cell_type": "markdown",
   "id": "exceptional-median",
   "metadata": {},
   "source": [
    "    for <var> in <iterable>:\n",
    "        <statement(s)>"
   ]
  },
  {
   "cell_type": "code",
   "execution_count": 118,
   "id": "progressive-driving",
   "metadata": {},
   "outputs": [
    {
     "name": "stdout",
     "output_type": "stream",
     "text": [
      "a\n",
      "b\n",
      "c\n"
     ]
    }
   ],
   "source": [
    "a = ['a', 'b', 'c']\n",
    "\n",
    "for element in a:\n",
    "    print(element)"
   ]
  },
  {
   "cell_type": "markdown",
   "id": "conventional-physiology",
   "metadata": {},
   "source": [
    "### Iterables"
   ]
  },
  {
   "cell_type": "code",
   "execution_count": 119,
   "id": "altered-modem",
   "metadata": {},
   "outputs": [
    {
     "data": {
      "text/plain": [
       "<str_iterator at 0x7f89a7958430>"
      ]
     },
     "execution_count": 119,
     "metadata": {},
     "output_type": "execute_result"
    }
   ],
   "source": [
    "iter('foobar') "
   ]
  },
  {
   "cell_type": "code",
   "execution_count": 120,
   "id": "viral-british",
   "metadata": {},
   "outputs": [
    {
     "data": {
      "text/plain": [
       "<list_iterator at 0x7f89a7958b50>"
      ]
     },
     "execution_count": 120,
     "metadata": {},
     "output_type": "execute_result"
    }
   ],
   "source": [
    "iter(['foo', 'bar', 'baz'])     "
   ]
  },
  {
   "cell_type": "code",
   "execution_count": 121,
   "id": "toxic-banner",
   "metadata": {},
   "outputs": [
    {
     "data": {
      "text/plain": [
       "<tuple_iterator at 0x7f89a7958dc0>"
      ]
     },
     "execution_count": 121,
     "metadata": {},
     "output_type": "execute_result"
    }
   ],
   "source": [
    "iter(('foo', 'bar', 'baz'))    "
   ]
  },
  {
   "cell_type": "code",
   "execution_count": 122,
   "id": "unauthorized-testimony",
   "metadata": {},
   "outputs": [
    {
     "data": {
      "text/plain": [
       "<set_iterator at 0x7f89a7a68700>"
      ]
     },
     "execution_count": 122,
     "metadata": {},
     "output_type": "execute_result"
    }
   ],
   "source": [
    "iter({'foo', 'bar', 'baz'}) "
   ]
  },
  {
   "cell_type": "code",
   "execution_count": 123,
   "id": "certified-synthesis",
   "metadata": {},
   "outputs": [
    {
     "data": {
      "text/plain": [
       "<dict_keyiterator at 0x7f89a766cc70>"
      ]
     },
     "execution_count": 123,
     "metadata": {},
     "output_type": "execute_result"
    }
   ],
   "source": [
    "iter({'foo': 1, 'bar': 2, 'baz': 3})  "
   ]
  },
  {
   "cell_type": "code",
   "execution_count": 124,
   "id": "premium-summit",
   "metadata": {},
   "outputs": [
    {
     "ename": "TypeError",
     "evalue": "'int' object is not iterable",
     "output_type": "error",
     "traceback": [
      "\u001b[0;31m---------------------------------------------------------------------------\u001b[0m",
      "\u001b[0;31mTypeError\u001b[0m                                 Traceback (most recent call last)",
      "\u001b[0;32m<ipython-input-124-c9bf3185faff>\u001b[0m in \u001b[0;36m<module>\u001b[0;34m\u001b[0m\n\u001b[0;32m----> 1\u001b[0;31m \u001b[0miter\u001b[0m\u001b[0;34m(\u001b[0m\u001b[0;36m42\u001b[0m\u001b[0;34m)\u001b[0m\u001b[0;34m\u001b[0m\u001b[0;34m\u001b[0m\u001b[0m\n\u001b[0m",
      "\u001b[0;31mTypeError\u001b[0m: 'int' object is not iterable"
     ]
    }
   ],
   "source": [
    "iter(42)    "
   ]
  },
  {
   "cell_type": "code",
   "execution_count": 125,
   "id": "signal-parent",
   "metadata": {},
   "outputs": [
    {
     "ename": "TypeError",
     "evalue": "'float' object is not iterable",
     "output_type": "error",
     "traceback": [
      "\u001b[0;31m---------------------------------------------------------------------------\u001b[0m",
      "\u001b[0;31mTypeError\u001b[0m                                 Traceback (most recent call last)",
      "\u001b[0;32m<ipython-input-125-5b3de373dcf1>\u001b[0m in \u001b[0;36m<module>\u001b[0;34m\u001b[0m\n\u001b[0;32m----> 1\u001b[0;31m \u001b[0miter\u001b[0m\u001b[0;34m(\u001b[0m\u001b[0;36m3.1\u001b[0m\u001b[0;34m)\u001b[0m\u001b[0;34m\u001b[0m\u001b[0;34m\u001b[0m\u001b[0m\n\u001b[0m",
      "\u001b[0;31mTypeError\u001b[0m: 'float' object is not iterable"
     ]
    }
   ],
   "source": [
    "iter(3.1)  "
   ]
  },
  {
   "cell_type": "code",
   "execution_count": 126,
   "id": "historic-cowboy",
   "metadata": {},
   "outputs": [
    {
     "ename": "TypeError",
     "evalue": "'builtin_function_or_method' object is not iterable",
     "output_type": "error",
     "traceback": [
      "\u001b[0;31m---------------------------------------------------------------------------\u001b[0m",
      "\u001b[0;31mTypeError\u001b[0m                                 Traceback (most recent call last)",
      "\u001b[0;32m<ipython-input-126-dd737b696391>\u001b[0m in \u001b[0;36m<module>\u001b[0;34m\u001b[0m\n\u001b[0;32m----> 1\u001b[0;31m \u001b[0miter\u001b[0m\u001b[0;34m(\u001b[0m\u001b[0mlen\u001b[0m\u001b[0;34m)\u001b[0m\u001b[0;34m\u001b[0m\u001b[0;34m\u001b[0m\u001b[0m\n\u001b[0m",
      "\u001b[0;31mTypeError\u001b[0m: 'builtin_function_or_method' object is not iterable"
     ]
    }
   ],
   "source": [
    "iter(len)  "
   ]
  },
  {
   "cell_type": "markdown",
   "id": "looking-original",
   "metadata": {},
   "source": [
    "### Iterators"
   ]
  },
  {
   "cell_type": "code",
   "execution_count": 127,
   "id": "electrical-methodology",
   "metadata": {},
   "outputs": [],
   "source": [
    "a = ['foo', 'bar', 'baz']\n",
    "\n",
    "itr = iter(a)"
   ]
  },
  {
   "cell_type": "code",
   "execution_count": 128,
   "id": "resident-grammar",
   "metadata": {},
   "outputs": [
    {
     "data": {
      "text/plain": [
       "<list_iterator at 0x7f89a7947cd0>"
      ]
     },
     "execution_count": 128,
     "metadata": {},
     "output_type": "execute_result"
    }
   ],
   "source": [
    "itr"
   ]
  },
  {
   "cell_type": "code",
   "execution_count": 129,
   "id": "social-camping",
   "metadata": {},
   "outputs": [
    {
     "data": {
      "text/plain": [
       "'foo'"
      ]
     },
     "execution_count": 129,
     "metadata": {},
     "output_type": "execute_result"
    }
   ],
   "source": [
    "next(itr)"
   ]
  },
  {
   "cell_type": "code",
   "execution_count": 130,
   "id": "asian-boring",
   "metadata": {},
   "outputs": [
    {
     "data": {
      "text/plain": [
       "'bar'"
      ]
     },
     "execution_count": 130,
     "metadata": {},
     "output_type": "execute_result"
    }
   ],
   "source": [
    "next(itr)"
   ]
  },
  {
   "cell_type": "code",
   "execution_count": 131,
   "id": "silent-statement",
   "metadata": {},
   "outputs": [
    {
     "data": {
      "text/plain": [
       "'baz'"
      ]
     },
     "execution_count": 131,
     "metadata": {},
     "output_type": "execute_result"
    }
   ],
   "source": [
    "next(itr)"
   ]
  },
  {
   "cell_type": "code",
   "execution_count": 132,
   "id": "parental-swing",
   "metadata": {},
   "outputs": [
    {
     "ename": "StopIteration",
     "evalue": "",
     "output_type": "error",
     "traceback": [
      "\u001b[0;31m---------------------------------------------------------------------------\u001b[0m",
      "\u001b[0;31mStopIteration\u001b[0m                             Traceback (most recent call last)",
      "\u001b[0;32m<ipython-input-132-6693cc261707>\u001b[0m in \u001b[0;36m<module>\u001b[0;34m\u001b[0m\n\u001b[0;32m----> 1\u001b[0;31m \u001b[0mnext\u001b[0m\u001b[0;34m(\u001b[0m\u001b[0mitr\u001b[0m\u001b[0;34m)\u001b[0m\u001b[0;34m\u001b[0m\u001b[0;34m\u001b[0m\u001b[0m\n\u001b[0m",
      "\u001b[0;31mStopIteration\u001b[0m: "
     ]
    }
   ],
   "source": [
    "next(itr)"
   ]
  },
  {
   "cell_type": "code",
   "execution_count": 134,
   "id": "duplicate-weekend",
   "metadata": {},
   "outputs": [],
   "source": [
    "itr2 = iter(a)"
   ]
  },
  {
   "cell_type": "code",
   "execution_count": 136,
   "id": "amber-structure",
   "metadata": {},
   "outputs": [
    {
     "data": {
      "text/plain": [
       "'foo'"
      ]
     },
     "execution_count": 136,
     "metadata": {},
     "output_type": "execute_result"
    }
   ],
   "source": [
    "next(itr2)"
   ]
  },
  {
   "cell_type": "markdown",
   "id": "rental-vinyl",
   "metadata": {},
   "source": [
    "<div class=\"table-responsive\">\n",
    "<table class=\"table table-hover\">\n",
    "<thead>\n",
    "<tr>\n",
    "<th>Term</th>\n",
    "<th>Meaning</th>\n",
    "</tr>\n",
    "</thead>\n",
    "<tbody>\n",
    "<tr>\n",
    "<td><strong>Iteration</strong></td>\n",
    "<td>The process of looping through the objects or items in a collection</td>\n",
    "</tr>\n",
    "<tr>\n",
    "<td><strong>Iterable</strong></td>\n",
    "<td>An object (or the adjective used to describe an object) that can be iterated over</td>\n",
    "</tr>\n",
    "<tr>\n",
    "<td><strong>Iterator</strong></td>\n",
    "<td>The object that produces successive items or values from its associated iterable</td>\n",
    "</tr>\n",
    "<tr>\n",
    "<td><strong><code>iter()</code></strong></td>\n",
    "<td>The built-in function used to obtain an iterator from an iterable</td>\n",
    "</tr>\n",
    "</tbody>\n",
    "</table>\n",
    "</div>"
   ]
  },
  {
   "cell_type": "code",
   "execution_count": 137,
   "id": "bright-junior",
   "metadata": {},
   "outputs": [
    {
     "name": "stdout",
     "output_type": "stream",
     "text": [
      "a\n",
      "b\n",
      "c\n"
     ]
    }
   ],
   "source": [
    "a = ['a', 'b', 'c']\n",
    "\n",
    "for element in a:\n",
    "    print(element)"
   ]
  },
  {
   "cell_type": "markdown",
   "id": "proved-weather",
   "metadata": {},
   "source": [
    "<img loading=\"lazy\" class=\"img-fluid mx-auto d-block w-50\" src=\"https://files.realpython.com/media/t.ba63222d63f5.png\" width=\"1062\" height=\"996\" srcset=\"https://robocrop.realpython.net/?url=https%3A//files.realpython.com/media/t.ba63222d63f5.png&amp;w=265&amp;sig=de0435555a10dcf6eabc2cdfab0389f61a54c722 265w, https://robocrop.realpython.net/?url=https%3A//files.realpython.com/media/t.ba63222d63f5.png&amp;w=531&amp;sig=4461dc7eef0de5b223c79c01ff75ffb9339bba8d 531w, https://files.realpython.com/media/t.ba63222d63f5.png 1062w\" sizes=\"75vw\" alt=\"Python for loop diagram\" data-asset=\"444\">"
   ]
  },
  {
   "cell_type": "code",
   "execution_count": 138,
   "id": "liquid-berkeley",
   "metadata": {},
   "outputs": [],
   "source": [
    "cities = ['Tokyo','New York','Toronto','Hong Kong']"
   ]
  },
  {
   "cell_type": "code",
   "execution_count": 141,
   "id": "worldwide-strip",
   "metadata": {},
   "outputs": [
    {
     "name": "stdout",
     "output_type": "stream",
     "text": [
      "TOKYO\n",
      "NEW YORK\n",
      "TORONTO\n",
      "HONG KONG\n"
     ]
    }
   ],
   "source": [
    "for c in cities:\n",
    "    print(c.upper())"
   ]
  },
  {
   "cell_type": "code",
   "execution_count": 143,
   "id": "annual-positive",
   "metadata": {},
   "outputs": [
    {
     "name": "stdout",
     "output_type": "stream",
     "text": [
      "1\n",
      "4\n",
      "9\n",
      "16\n",
      "25\n",
      "36\n",
      "49\n",
      "64\n",
      "81\n"
     ]
    }
   ],
   "source": [
    "nums = [1,2,3,4,5,6,7,8,9]\n",
    "\n",
    "for num in nums:\n",
    "    print(num**2)"
   ]
  },
  {
   "cell_type": "markdown",
   "id": "welsh-charter",
   "metadata": {},
   "source": [
    "### Iterating Through a Dictionary"
   ]
  },
  {
   "cell_type": "code",
   "execution_count": 144,
   "id": "regulated-receiver",
   "metadata": {},
   "outputs": [],
   "source": [
    "vremenski_podatki = {\n",
    "    \"Ljubljana\": 10,\n",
    "    \"Koper\": 24,\n",
    "    \"Gorica\": 43,\n",
    "    \"Izola\": 23\n",
    "}"
   ]
  },
  {
   "cell_type": "code",
   "execution_count": 145,
   "id": "empirical-child",
   "metadata": {},
   "outputs": [
    {
     "name": "stdout",
     "output_type": "stream",
     "text": [
      "Ljubljana\n",
      "Koper\n",
      "Gorica\n",
      "Izola\n"
     ]
    }
   ],
   "source": [
    "for mesto in vremenski_podatki:\n",
    "    print(mesto)"
   ]
  },
  {
   "cell_type": "code",
   "execution_count": 146,
   "id": "apart-humanity",
   "metadata": {},
   "outputs": [
    {
     "name": "stdout",
     "output_type": "stream",
     "text": [
      "10\n",
      "24\n",
      "43\n",
      "23\n"
     ]
    }
   ],
   "source": [
    "for mesto in vremenski_podatki:\n",
    "    print(vremenski_podatki[mesto])"
   ]
  },
  {
   "cell_type": "code",
   "execution_count": 147,
   "id": "running-poverty",
   "metadata": {},
   "outputs": [
    {
     "data": {
      "text/plain": [
       "dict_values([10, 24, 43, 23])"
      ]
     },
     "execution_count": 147,
     "metadata": {},
     "output_type": "execute_result"
    }
   ],
   "source": [
    "vremenski_podatki.values()"
   ]
  },
  {
   "cell_type": "code",
   "execution_count": 148,
   "id": "blank-seminar",
   "metadata": {},
   "outputs": [
    {
     "name": "stdout",
     "output_type": "stream",
     "text": [
      "10\n",
      "24\n",
      "43\n",
      "23\n"
     ]
    }
   ],
   "source": [
    "for mesto in vremenski_podatki.values():\n",
    "    print(mesto)"
   ]
  },
  {
   "cell_type": "code",
   "execution_count": 151,
   "id": "hawaiian-restaurant",
   "metadata": {},
   "outputs": [
    {
     "name": "stdout",
     "output_type": "stream",
     "text": [
      "Ljubljana 10\n",
      "Koper 24\n",
      "Gorica 43\n",
      "Izola 23\n"
     ]
    }
   ],
   "source": [
    "for mesto, temp in [(\"Ljubljana\", 10), (\"Koper\", 24), (\"Gorica\", 43), (\"Izola\", 23)]:\n",
    "    print(mesto, temp)"
   ]
  },
  {
   "cell_type": "code",
   "execution_count": 155,
   "id": "different-gentleman",
   "metadata": {},
   "outputs": [
    {
     "data": {
      "text/plain": [
       "dict_items([('Ljubljana', 10), ('Koper', 24), ('Gorica', 43), ('Izola', 23)])"
      ]
     },
     "execution_count": 155,
     "metadata": {},
     "output_type": "execute_result"
    }
   ],
   "source": [
    "vremenski_podatki.items()"
   ]
  },
  {
   "cell_type": "code",
   "execution_count": 157,
   "id": "abandoned-salon",
   "metadata": {},
   "outputs": [
    {
     "name": "stdout",
     "output_type": "stream",
     "text": [
      "Ljubljana 10\n",
      "Koper 24\n",
      "Gorica 43\n",
      "Izola 23\n"
     ]
    }
   ],
   "source": [
    "vremenski_podatki = {\n",
    "    \"Ljubljana\": 10,\n",
    "    \"Koper\": 24,\n",
    "    \"Gorica\": 43,\n",
    "    \"Izola\": 23\n",
    "}\n",
    "\n",
    "for mesto, temp in vremenski_podatki.items():\n",
    "    print(mesto, temp)"
   ]
  },
  {
   "cell_type": "markdown",
   "id": "utility-growth",
   "metadata": {},
   "source": [
    "### The range() Function"
   ]
  },
  {
   "cell_type": "markdown",
   "id": "awful-index",
   "metadata": {},
   "source": [
    "[0 -> 10]"
   ]
  },
  {
   "cell_type": "code",
   "execution_count": 158,
   "id": "ruled-greenhouse",
   "metadata": {},
   "outputs": [
    {
     "data": {
      "text/plain": [
       "range(0, 5)"
      ]
     },
     "execution_count": 158,
     "metadata": {},
     "output_type": "execute_result"
    }
   ],
   "source": [
    "range(5)"
   ]
  },
  {
   "cell_type": "code",
   "execution_count": 159,
   "id": "becoming-ozone",
   "metadata": {},
   "outputs": [
    {
     "name": "stdout",
     "output_type": "stream",
     "text": [
      "0\n",
      "1\n",
      "2\n",
      "3\n",
      "4\n"
     ]
    }
   ],
   "source": [
    "for n in range(5):\n",
    "    print(n)"
   ]
  },
  {
   "cell_type": "code",
   "execution_count": 160,
   "id": "serial-galaxy",
   "metadata": {},
   "outputs": [
    {
     "data": {
      "text/plain": [
       "[0, 1, 2, 3, 4, 5, 6, 7, 8, 9]"
      ]
     },
     "execution_count": 160,
     "metadata": {},
     "output_type": "execute_result"
    }
   ],
   "source": [
    "list(range(10))"
   ]
  },
  {
   "cell_type": "code",
   "execution_count": 161,
   "id": "micro-designer",
   "metadata": {},
   "outputs": [
    {
     "data": {
      "text/plain": [
       "(0, 1, 2, 3, 4, 5, 6, 7, 8, 9)"
      ]
     },
     "execution_count": 161,
     "metadata": {},
     "output_type": "execute_result"
    }
   ],
   "source": [
    "tuple(range(10))"
   ]
  },
  {
   "cell_type": "markdown",
   "id": "found-equipment",
   "metadata": {},
   "source": [
    "    range(<begin>, <end>, <stride>)"
   ]
  },
  {
   "cell_type": "code",
   "execution_count": 162,
   "id": "handed-character",
   "metadata": {},
   "outputs": [
    {
     "data": {
      "text/plain": [
       "[5, 6, 7, 8, 9]"
      ]
     },
     "execution_count": 162,
     "metadata": {},
     "output_type": "execute_result"
    }
   ],
   "source": [
    "list(range(5, 10))"
   ]
  },
  {
   "cell_type": "code",
   "execution_count": 163,
   "id": "characteristic-announcement",
   "metadata": {},
   "outputs": [
    {
     "data": {
      "text/plain": [
       "[2, 5, 8, 11, 14, 17, 20, 23, 26, 29]"
      ]
     },
     "execution_count": 163,
     "metadata": {},
     "output_type": "execute_result"
    }
   ],
   "source": [
    "list(range(2, 30, 3))"
   ]
  },
  {
   "cell_type": "code",
   "execution_count": 164,
   "id": "organized-nurse",
   "metadata": {},
   "outputs": [
    {
     "data": {
      "text/plain": [
       "[-5, -4, -3, -2, -1, 0, 1, 2, 3, 4, 5, 6, 7, 8, 9]"
      ]
     },
     "execution_count": 164,
     "metadata": {},
     "output_type": "execute_result"
    }
   ],
   "source": [
    "list(range(-5, 10))"
   ]
  },
  {
   "cell_type": "code",
   "execution_count": 165,
   "id": "timely-madagascar",
   "metadata": {},
   "outputs": [
    {
     "data": {
      "text/plain": [
       "[50, 45, 40, 35, 30, 25, 20, 15]"
      ]
     },
     "execution_count": 165,
     "metadata": {},
     "output_type": "execute_result"
    }
   ],
   "source": [
    "list(range(50, 10, -5))"
   ]
  },
  {
   "cell_type": "markdown",
   "id": "welsh-tribune",
   "metadata": {},
   "source": [
    "### Naloge:"
   ]
  },
  {
   "cell_type": "markdown",
   "id": "thirty-watts",
   "metadata": {},
   "source": [
    "1. Naloga:"
   ]
  },
  {
   "cell_type": "markdown",
   "id": "varying-encoding",
   "metadata": {},
   "source": [
    "    beseda = \"Antartika\"\n",
    "\n",
    "    a -> samoglasnik\n",
    "    n -> soglasnik\n",
    "    ..."
   ]
  },
  {
   "cell_type": "code",
   "execution_count": 168,
   "id": "selected-broadcast",
   "metadata": {},
   "outputs": [
    {
     "name": "stdout",
     "output_type": "stream",
     "text": [
      "a -> samoglasnik\n",
      "n -> soglasnik\n",
      "t -> soglasnik\n",
      "a -> samoglasnik\n",
      "r -> soglasnik\n",
      "t -> soglasnik\n",
      "i -> samoglasnik\n",
      "k -> soglasnik\n",
      "a -> samoglasnik\n"
     ]
    }
   ],
   "source": [
    "beseda = \"Antartika\"\n",
    "for crka in beseda:\n",
    "    crka = crka.lower()\n",
    "    if crka in 'aeiou':\n",
    "        print(f\"{crka} -> samoglasnik\")\n",
    "    else:\n",
    "        print(f\"{crka} -> soglasnik\")"
   ]
  },
  {
   "cell_type": "markdown",
   "id": "informative-april",
   "metadata": {},
   "source": [
    "Naloga 2:"
   ]
  },
  {
   "cell_type": "code",
   "execution_count": 169,
   "id": "absent-emergency",
   "metadata": {},
   "outputs": [
    {
     "name": "stdout",
     "output_type": "stream",
     "text": [
      "[9, 49, 36, 64, 81, 121, 225, 625]\n"
     ]
    }
   ],
   "source": [
    "lst1=[3, 7, 6, 8, 9, 11, 15, 25]\n",
    "\n",
    "lst2 = []\n",
    "for e in lst1:\n",
    "    lst2.append(e ** 2)\n",
    "    \n",
    "print(lst2)"
   ]
  },
  {
   "cell_type": "markdown",
   "id": "automotive-ghost",
   "metadata": {},
   "source": [
    "    [9, 49, 36, 64, 81, 121, 225, 625]"
   ]
  },
  {
   "cell_type": "markdown",
   "id": "fitting-carter",
   "metadata": {},
   "source": [
    "Naloga 3:"
   ]
  },
  {
   "cell_type": "code",
   "execution_count": 170,
   "id": "liked-processor",
   "metadata": {},
   "outputs": [],
   "source": [
    "data_list = [-5, -23, 5, 0, 23, -6, 23, 67]"
   ]
  },
  {
   "cell_type": "code",
   "execution_count": 171,
   "id": "fatal-keeping",
   "metadata": {},
   "outputs": [
    {
     "data": {
      "text/plain": [
       "[-23, -6, -5, 0, 5, 23, 23, 67]"
      ]
     },
     "execution_count": 171,
     "metadata": {},
     "output_type": "execute_result"
    }
   ],
   "source": [
    "sorted(data_list)"
   ]
  },
  {
   "cell_type": "code",
   "execution_count": 174,
   "id": "noticed-business",
   "metadata": {},
   "outputs": [
    {
     "name": "stdout",
     "output_type": "stream",
     "text": [
      "[-23] [-5, 5, 0, 23, -6, 23, 67]\n",
      "[-23, -6] [-5, 5, 0, 23, 23, 67]\n",
      "[-23, -6, -5] [5, 0, 23, 23, 67]\n",
      "[-23, -6, -5, 0] [5, 23, 23, 67]\n",
      "[-23, -6, -5, 0, 5] [23, 23, 67]\n",
      "[-23, -6, -5, 0, 5, 23] [23, 67]\n",
      "[-23, -6, -5, 0, 5, 23, 23] [67]\n",
      "[-23, -6, -5, 0, 5, 23, 23, 67] []\n",
      "[-23, -6, -5, 0, 5, 23, 23, 67]\n"
     ]
    }
   ],
   "source": [
    "data_list = [-5, -23, 5, 0, 23, -6, 23, 67]\n",
    "sorted_list=[]\n",
    "while len(data_list)>0:\n",
    "    min_e=min(data_list)\n",
    "    sorted_list.append(min_e)\n",
    "    data_list.remove(min_e)\n",
    "    print(sorted_list, data_list)\n",
    "    \n",
    "print(sorted_list)"
   ]
  },
  {
   "cell_type": "markdown",
   "id": "sweet-causing",
   "metadata": {},
   "source": [
    "### enumerate()"
   ]
  },
  {
   "cell_type": "code",
   "execution_count": null,
   "id": "effective-updating",
   "metadata": {},
   "outputs": [],
   "source": [
    "# klasičen način"
   ]
  },
  {
   "cell_type": "code",
   "execution_count": 180,
   "id": "decimal-trick",
   "metadata": {},
   "outputs": [
    {
     "name": "stdout",
     "output_type": "stream",
     "text": [
      "0 Tokyo\n",
      "1 New York\n",
      "2 Toronto\n",
      "3 Hong Kong\n"
     ]
    }
   ],
   "source": [
    "cities = ['Tokyo','New York','Toronto','Hong Kong']\n",
    "index = 0\n",
    "\n",
    "for mesto in cities:\n",
    "    print(index, mesto)\n",
    "    index += 1"
   ]
  },
  {
   "cell_type": "code",
   "execution_count": 179,
   "id": "starting-liberal",
   "metadata": {},
   "outputs": [
    {
     "name": "stdout",
     "output_type": "stream",
     "text": [
      "0 Tokyo\n",
      "1 New York\n",
      "2 Toronto\n",
      "3 Hong Kong\n"
     ]
    }
   ],
   "source": [
    "# boljši način v pythonu\n",
    "cities = ['Tokyo','New York','Toronto','Hong Kong']\n",
    "\n",
    "for index, mesto in enumerate(cities):\n",
    "    print(index, mesto)\n"
   ]
  },
  {
   "cell_type": "code",
   "execution_count": 181,
   "id": "differential-amendment",
   "metadata": {},
   "outputs": [
    {
     "name": "stdout",
     "output_type": "stream",
     "text": [
      "10 Tokyo\n",
      "11 New York\n",
      "12 Toronto\n",
      "13 Hong Kong\n"
     ]
    }
   ],
   "source": [
    "# start parameter\n",
    "cities = ['Tokyo','New York','Toronto','Hong Kong']\n",
    "\n",
    "for index, mesto in enumerate(cities, start=10):\n",
    "    print(index, mesto)\n"
   ]
  }
 ],
 "metadata": {
  "kernelspec": {
   "display_name": "Python 3",
   "language": "python",
   "name": "python3"
  },
  "language_info": {
   "codemirror_mode": {
    "name": "ipython",
    "version": 3
   },
   "file_extension": ".py",
   "mimetype": "text/x-python",
   "name": "python",
   "nbconvert_exporter": "python",
   "pygments_lexer": "ipython3",
   "version": "3.9.1"
  }
 },
 "nbformat": 4,
 "nbformat_minor": 5
}
