{
 "cells": [
  {
   "cell_type": "markdown",
   "metadata": {},
   "source": [
    "<div class=\"alert alert-block alert-info\">\n",
    "<h1><b>Naloga: </b></h1>\n",
    "Napišite program, ki bo uporabnika uprašal naj vnese neko celoštevilsko vrednost.\n",
    "\n",
    "Program naj nato izpiše ali je vrednost deljiva z 3 ali ne.\n",
    "</div>\n",
    "\n",
    "Primeri:\n",
    "```python\n",
    "Input: 1\n",
    "Output: Število 1 ni deljivo s 3.\n",
    "    \n",
    "Input: 6\n",
    "Output: Število 6 je deljivo s 3.\n",
    "\n",
    "\n",
    "```"
   ]
  },
  {
   "cell_type": "code",
   "execution_count": 1,
   "metadata": {},
   "outputs": [],
   "source": [
    "# Rešitev\n"
   ]
  },
  {
   "cell_type": "markdown",
   "metadata": {},
   "source": [
    "\n",
    "<div class=\"alert alert-block alert-info\">\n",
    "<h1><b>Naloga: </b></h1>\n",
    "Z uporabo <i>while</i> izpišite prvih 10 sodih števil.\n",
    "</div>\n",
    "\n",
    "Primeri:\n",
    "```python\n",
    "Input: \n",
    "Output: \n",
    "2\n",
    "4\n",
    "6\n",
    "8\n",
    "10\n",
    "12\n",
    "14\n",
    "16\n",
    "18\n",
    "20\n",
    "```"
   ]
  },
  {
   "cell_type": "code",
   "execution_count": 7,
   "metadata": {},
   "outputs": [],
   "source": [
    "# Rešitev"
   ]
  },
  {
   "cell_type": "markdown",
   "metadata": {},
   "source": [
    "\n",
    "\n",
    "```python\n",
    "Fibonacci sequence\n",
    "\n",
    "0, 1, 1, 2, 3, 5, 8, 13, 21, 34\n",
    "```\n",
    "\n",
    "\n",
    "<div class=\"alert alert-block alert-info\">\n",
    "<h1><b>Naloga: </b></h1>\n",
    "Uporabnik naj vnese željeno dolžino Fibonaccijevega zaporedja. Program naj nato to zaporedje shrani v list in ga na koncu izpiše.\n",
    "    \n",
    "V Fibonaccijevem zaporedju je vsak člen - od tretjega naprej - vsota predhodnih dveh.\n",
    "\n",
    "[0, 1, 1, 2, 3, 5, ... ]\n",
    "</div>\n",
    "\n",
    "Primeri:\n",
    "```python\n",
    "Input:\n",
    "Vnesite dolžino Fibonaccijevega zaporedja: 10\n",
    "    \n",
    "Output:\n",
    "[0, 1, 1, 2, 3, 5, 8, 13, 21, 34]\n",
    "\n",
    "    \n",
    "Input: 6\n",
    "Vnesite dolžino Fibonaccijevega zaporedja: 22\n",
    "\n",
    "Output:\n",
    "[0, 1, 1, 2, 3, 5, 8, 13, 21, 34, 55, 89, 144, 233, 377, 610, 987, 1597, 2584, 4181, 6765, 10946]\n",
    "```"
   ]
  },
  {
   "cell_type": "code",
   "execution_count": 9,
   "metadata": {},
   "outputs": [],
   "source": [
    "# Rešitev"
   ]
  },
  {
   "cell_type": "markdown",
   "metadata": {},
   "source": [
    "\n",
    "\n",
    "<div class=\"alert alert-block alert-info\">\n",
    "<h1><b>Naloga: </b></h1>\n",
    "    Iz danega dictionary izpišite vse ključe, katerih vrednost vsebuje črko <b>r</b> oziroma <b>R</b>.\n",
    "</div>\n",
    "\n",
    "Primeri:\n",
    "```python\n",
    "Input:\n",
    "d = {\n",
    "    \"mačka\": \"Micka\",\n",
    "    \"pes\": \"Fido\",\n",
    "    \"volk\": \"Rex\",\n",
    "    \"medved\": \"Žan\",\n",
    "    \"slon\": \"Jan\",\n",
    "    \"žirafa\": \"Helga\",\n",
    "    \"lev\": \"Gašper\",\n",
    "    \"tiger\": \"Anže\",\n",
    "    \"papagaj\": \"Črt\",\n",
    "    \"ribica\": \"Elena\",\n",
    "    \"krokodil\": \"Kasper\",\n",
    "    \"zajec\": \"Lars\",\n",
    "    \"kamela\": \"Manca\" \n",
    "}\n",
    "    \n",
    "Output: \n",
    "volk\n",
    "lev\n",
    "papagaj\n",
    "krokodil\n",
    "zajec\n",
    "```"
   ]
  },
  {
   "cell_type": "code",
   "execution_count": 12,
   "metadata": {},
   "outputs": [],
   "source": [
    "# Rešitev\n",
    "d = {\n",
    "    \"mačka\": \"Micka\",\n",
    "    \"pes\": \"Fido\",\n",
    "    \"volk\": \"Rex\",\n",
    "    \"medved\": \"Žan\",\n",
    "    \"slon\": \"Jan\",\n",
    "    \"žirafa\": \"Helga\",\n",
    "    \"lev\": \"Gašper\",\n",
    "    \"tiger\": \"Anže\",\n",
    "    \"papagaj\": \"Črt\",\n",
    "    \"ribica\": \"Elena\",\n",
    "    \"krokodil\": \"Kasper\",\n",
    "    \"zajec\": \"Lars\",\n",
    "    \"kamela\": \"Manca\" \n",
    "}\n"
   ]
  },
  {
   "cell_type": "markdown",
   "metadata": {},
   "source": [
    "<div class=\"alert alert-block alert-info\">\n",
    "<h1><b>Naloga: </b></h1>\n",
    "Poiščite vsa praštevila med 2 in 50.\n",
    "</div>\n",
    "\n",
    "Primeri:\n",
    "```python\n",
    "Input:\n",
    "    \n",
    "Output:\n",
    "2 JE praštevilo!\n",
    "3 JE praštevilo!\n",
    "5 JE praštevilo!\n",
    "7 JE praštevilo!\n",
    "11 JE praštevilo!\n",
    "13 JE praštevilo!\n",
    "17 JE praštevilo!\n",
    "19 JE praštevilo!\n",
    "23 JE praštevilo!\n",
    "29 JE praštevilo!\n",
    "31 JE praštevilo!\n",
    "37 JE praštevilo!\n",
    "41 JE praštevilo!\n",
    "43 JE praštevilo!\n",
    "47 JE praštevilo!\n",
    "    \n",
    "\n",
    "```\n"
   ]
  },
  {
   "cell_type": "code",
   "execution_count": 15,
   "metadata": {},
   "outputs": [],
   "source": [
    "# Rešitev\n"
   ]
  },
  {
   "cell_type": "code",
   "execution_count": null,
   "metadata": {},
   "outputs": [],
   "source": []
  }
 ],
 "metadata": {
  "kernelspec": {
   "display_name": "Python 3",
   "language": "python",
   "name": "python3"
  },
  "language_info": {
   "codemirror_mode": {
    "name": "ipython",
    "version": 3
   },
   "file_extension": ".py",
   "mimetype": "text/x-python",
   "name": "python",
   "nbconvert_exporter": "python",
   "pygments_lexer": "ipython3",
   "version": "3.8.5"
  }
 },
 "nbformat": 4,
 "nbformat_minor": 4
}
