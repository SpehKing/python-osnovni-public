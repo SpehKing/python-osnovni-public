{
 "cells": [
  {
   "cell_type": "markdown",
   "metadata": {},
   "source": [
    "<div class=\"alert alert-block alert-info\">\n",
    "<h1><b>Naloga: </b></h1>\n",
    "<p>\n",
    "Izpišite srednje 3 črke podanega string-a.\n",
    "</p>\n",
    "<pre>\n",
    "</pre>\n",
    "\n",
    "Za določanje dolžine stringa lahko uporabite funkcijo <b>len(string)</b>\n",
    "\n",
    "len(\"World\") je enako 5.\n",
    "</div>\n",
    "\n",
    "Primeri:\n",
    "```python\n",
    "Input: World\n",
    "Output: orl\n",
    "\n",
    "Input: Python Programming Language\n",
    "Output: amm\n",
    "\n",
    "Input: 1234abc\n",
    "Output: 34a\n",
    "```"
   ]
  },
  {
   "cell_type": "code",
   "execution_count": null,
   "metadata": {},
   "outputs": [],
   "source": [
    "# Rešitev"
   ]
  },
  {
   "cell_type": "code",
   "execution_count": null,
   "metadata": {},
   "outputs": [],
   "source": []
  },
  {
   "cell_type": "markdown",
   "metadata": {},
   "source": [
    "<div class=\"alert alert-block alert-info\">\n",
    "<h1><b>Naloga: </b></h1>\n",
    "<p>\n",
    "Podana imaste dva stringa. Iz njih ustvarite nov string tako, da uporabite prvi dve črk prvega stringa, nato celoten drugi string in na koncu preostanek prvega stringa.\n",
    "\n",
    "</p>\n",
    "</div>\n",
    "\n",
    "Primeri:\n",
    "```python\n",
    "Input:\n",
    "Marec\n",
    "April\n",
    "\n",
    "Output:\n",
    "MaAprilrec\n",
    "\n",
    "\n",
    "Input:\n",
    "Hello\n",
    "World\n",
    "\n",
    "Output:\n",
    "HeWorldllo\n",
    "```"
   ]
  },
  {
   "cell_type": "code",
   "execution_count": 1,
   "metadata": {},
   "outputs": [],
   "source": [
    "# Rešitev"
   ]
  },
  {
   "cell_type": "code",
   "execution_count": null,
   "metadata": {},
   "outputs": [],
   "source": []
  },
  {
   "cell_type": "markdown",
   "metadata": {},
   "source": [
    "<div class=\"alert alert-block alert-info\">\n",
    "<h1><b>Naloga: </b></h1>\n",
    "<p>\n",
    "Obrnite vrstni red lista.\n",
    "</p>\n",
    "</div>\n",
    "\n",
    "Primeri:\n",
    "```python\n",
    "Input:\n",
    "[1,2,3,4,5]\n",
    "\n",
    "Output:\n",
    "[5,4,3,2,1]\n",
    "\n",
    "\n",
    "Input:\n",
    "[\"H\", \"e\", \"e\", \"l\", \"o\"]\n",
    "\n",
    "Output:\n",
    "[\"o\", \"l\", \"e\", \"e\", \"H\"]\n",
    "```"
   ]
  },
  {
   "cell_type": "code",
   "execution_count": null,
   "metadata": {},
   "outputs": [],
   "source": [
    "# Rešitev"
   ]
  },
  {
   "cell_type": "code",
   "execution_count": null,
   "metadata": {},
   "outputs": [],
   "source": []
  },
  {
   "cell_type": "markdown",
   "metadata": {},
   "source": [
    "<div class=\"alert alert-block alert-info\">\n",
    "<h1><b>Naloga: </b></h1>\n",
    "<p>\n",
    "Iz podanega lista pridobite element 5. To vrednost kvadrirajte in shranite v novo spremenljivko.\n",
    "</p>\n",
    "</div>\n",
    "\n",
    "Primeri:\n",
    "```python\n",
    "Input:\n",
    "[1, 2, 3, [4, [5], 6], 7]\n",
    "\n",
    "Output:\n",
    "25\n",
    "\n",
    "\n",
    "Input:\n",
    "[10, -3, 3, [12, [5, -9], 6, 66, 666], 7, 70]\n",
    "\n",
    "Output:\n",
    "25\n",
    "```"
   ]
  },
  {
   "cell_type": "code",
   "execution_count": 2,
   "metadata": {},
   "outputs": [],
   "source": [
    "# Rešitev"
   ]
  },
  {
   "cell_type": "code",
   "execution_count": null,
   "metadata": {},
   "outputs": [],
   "source": []
  },
  {
   "cell_type": "markdown",
   "metadata": {},
   "source": [
    "<div class=\"alert alert-block alert-info\">\n",
    "<h1><b>Naloga: </b></h1>\n",
    "<p>\n",
    "Podana imate dva lista. Seštejte njuja predzadnja elementa.\n",
    "</p>\n",
    "</div>\n",
    "\n",
    "Primeri:\n",
    "```python\n",
    "Input:\n",
    "[1,2,3,4,5]\n",
    "[6,7,8,9]\n",
    "Ouput:\n",
    "12\n",
    "\n",
    "\n",
    "Input:\n",
    "[1,2,3,4]\n",
    "[\"a\", \"b\", \"c\", 10, \"d\"]\n",
    "Output:\n",
    "13\n",
    "\n",
    "\n",
    "Input:\n",
    "[\"1\", \"2\", \"3\", \"4\"]\n",
    "[1,2,3,4]\n",
    "Output:\n",
    "6\n",
    "```"
   ]
  },
  {
   "cell_type": "code",
   "execution_count": 3,
   "metadata": {},
   "outputs": [],
   "source": [
    "# Rešitev"
   ]
  },
  {
   "cell_type": "code",
   "execution_count": null,
   "metadata": {},
   "outputs": [],
   "source": []
  },
  {
   "cell_type": "markdown",
   "metadata": {},
   "source": [
    "<div class=\"alert alert-block alert-info\">\n",
    "<h1><b>Naloga: </b></h1>\n",
    "<p>\n",
    "Iz sledečih listov vedno dostopajte in izpišite vrednost \"Python\".\n",
    "</p>\n",
    "</div>\n",
    "\n",
    "Primeri:\n",
    "```python\n",
    "Input:\n",
    "[1,2,3,[4,5,[6,7],[8,9],10,\"Python\",11],12]\n",
    "Output:\n",
    "Python\n",
    "\n",
    "\n",
    "Input:\n",
    "[1,2,[3,4,[5,6],[7,8,[9,\"HelloPython\"],10]]]\n",
    "Output:\n",
    "Python\n",
    "```"
   ]
  },
  {
   "cell_type": "code",
   "execution_count": 4,
   "metadata": {},
   "outputs": [],
   "source": [
    "# Rešitev"
   ]
  },
  {
   "cell_type": "code",
   "execution_count": null,
   "metadata": {},
   "outputs": [],
   "source": []
  },
  {
   "cell_type": "markdown",
   "metadata": {},
   "source": [
    "<div class=\"alert alert-block alert-info\">\n",
    "<h1><b>Naloga: </b></h1>\n",
    "<p>\n",
    "Iz sledečih dictionary izpišite vrednost \"Python\"\n",
    "</p>\n",
    "</div>\n",
    "\n",
    "Primeri:\n",
    "```python\n",
    "Input:\n",
    "{1: 1,\n",
    " 2: 10,\n",
    " 3: 100,\n",
    " 4: \"Python\",\n",
    " 5: 5}\n",
    "Output:\n",
    "Python\n",
    "\n",
    "\n",
    "Input:\n",
    "d = {1: 1,\n",
    "    2: 10,\n",
    "    3: {1: 1,\n",
    "        2: 2,\n",
    "        3: {\n",
    "            1: 1,\n",
    "            2: 2,\n",
    "            3: 3,\n",
    "            4: 5,\n",
    "            5: \"Python\"\n",
    "        }\n",
    "    }}\n",
    "Output:\n",
    "Python\n",
    "\n",
    "\n",
    "Input:\n",
    "{1: 1,\n",
    "    2: 10,\n",
    "    3: {1: 1,\n",
    "        2: 2,\n",
    "        3: {\n",
    "            1: 1,\n",
    "            2: 2,\n",
    "        },\n",
    "    4: [1,2,3,5,{1:1, 2:\"Python\"}]\n",
    "    }}\n",
    "Output:\n",
    "Python\n",
    "\n",
    "```"
   ]
  },
  {
   "cell_type": "code",
   "execution_count": 5,
   "metadata": {},
   "outputs": [],
   "source": [
    "# Rešitev"
   ]
  },
  {
   "cell_type": "code",
   "execution_count": null,
   "metadata": {},
   "outputs": [],
   "source": []
  },
  {
   "cell_type": "code",
   "execution_count": null,
   "metadata": {},
   "outputs": [],
   "source": []
  }
 ],
 "metadata": {
  "kernelspec": {
   "display_name": "Python 3",
   "language": "python",
   "name": "python3"
  },
  "language_info": {
   "codemirror_mode": {
    "name": "ipython",
    "version": 3
   },
   "file_extension": ".py",
   "mimetype": "text/x-python",
   "name": "python",
   "nbconvert_exporter": "python",
   "pygments_lexer": "ipython3",
   "version": "3.8.5"
  }
 },
 "nbformat": 4,
 "nbformat_minor": 4
}
