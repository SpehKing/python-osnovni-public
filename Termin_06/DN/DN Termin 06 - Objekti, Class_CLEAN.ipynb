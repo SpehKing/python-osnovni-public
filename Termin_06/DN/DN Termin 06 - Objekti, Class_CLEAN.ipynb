{
 "cells": [
  {
   "cell_type": "markdown",
   "metadata": {},
   "source": [
    "<div class=\"alert alert-block alert-info\">\n",
    "<h1><b>Naloga: </b></h1>\n",
    "    Napiši razred <b>Zaposlena_oseba</b>, ki ima v sebi shranjene parametre <i>ime</i>, <i>priimek</i> in <i>placa</i>, ki jih prejme ob inicializaciji. Vsebuje naj tudi funkcijo <b>razlika_v_placi</b> ki kot parameter prejme objekt tipa Zaposlena_oseba ki predstavlja neko drugo osebo. Funkcija naj vrne absolutno razliko med plačama osebe v kateri se funkcija kliče ter pa osebe, ki je bila podana kot parameter. \n",
    "    <br>Ne pozabite na parameter \"self\". Uporabite ga tam kjer je potrebno.\n",
    "</div>\n",
    "\n",
    "Primeri:\n",
    "```python\n",
    "Input:\n",
    "    zaposleni = [Zaposlena_oseba(\"Luka\", \"Novak\", 1500.0),\n",
    "                 Zaposlena_oseba(\"Živa\", \"Groza\", 2100.0),\n",
    "                 Zaposlena_oseba(\"Anže\", \"Jaklin\", 1436.50),\n",
    "                 Zaposlena_oseba(\"Luka\", \"Bogataj\", 1790.0),\n",
    "                 Zaposlena_oseba(\"Sara\", \"Ljubljen\", 3600.0)]\n",
    "\n",
    "    print(\"Razlika med plačami zaposlenih:\")\n",
    "    for i in range(len(zaposleni)):\n",
    "        for j in range(i+1, len(zaposleni)):\n",
    "            ime1 = zaposleni[i].ime\n",
    "            priimek1 = zaposleni[i].priimek\n",
    "            razlika = zaposleni[i].razlika_v_placi(zaposleni[j])\n",
    "            ime2 = zaposleni[j].ime\n",
    "            priimek2 = zaposleni[j].priimek\n",
    "            print(f\"\\t{ime1} {priimek1} <--- {razlika} € ---> {ime2} {priimek2}\")\n",
    "\n",
    "Output:\n",
    "    Razlika med plačami zaposlenih:\n",
    "        Luka Novak <--- 600.0 € ---> Živa Groza\n",
    "        Luka Novak <--- 63.5 € ---> Anže Jaklin\n",
    "        Luka Novak <--- 290.0 € ---> Luka Bogataj\n",
    "        Luka Novak <--- 2100.0 € ---> Sara Ljubljen\n",
    "        Živa Groza <--- 663.5 € ---> Anže Jaklin\n",
    "        Živa Groza <--- 310.0 € ---> Luka Bogataj\n",
    "        Živa Groza <--- 1500.0 € ---> Sara Ljubljen\n",
    "        Anže Jaklin <--- 353.5 € ---> Luka Bogataj\n",
    "        Anže Jaklin <--- 2163.5 € ---> Sara Ljubljen\n",
    "        Luka Bogataj <--- 1810.0 € ---> Sara Ljubljen\n",
    "\n",
    "```"
   ]
  },
  {
   "cell_type": "code",
   "execution_count": null,
   "metadata": {},
   "outputs": [],
   "source": []
  },
  {
   "cell_type": "code",
   "execution_count": null,
   "metadata": {},
   "outputs": [],
   "source": []
  },
  {
   "cell_type": "markdown",
   "metadata": {},
   "source": [
    "<div class=\"alert alert-block alert-info\">\n",
    "    <h1><b>Naloga: </b></h1>\n",
    "    Napiši razred <b>Drzava</b>, ki ima v sebi shranjene parametre <i>ime</i> kot string in <i>inflacija</i> kot \"dictionary\" (slovar). S tem razredom bomo ustvarjali objekte, ki bodo shranjevali osnovne podatke o posamezni državi in njihovo inflacijo za vsako od let. Razred naj ima \"class variable\" (razredno spremelnjivko) <i>planet</i>, ki bo predstavljala na katerem planetu se nahaja podana država. Podajte ji že podano vrednost \"Zemlja\". Ime države naj se poda že pri inicializaciji, inflacija pa naj se ob tem inicializira kot prazen \"dictionary\" (slovar)\n",
    "    <br>\n",
    "    <br>\n",
    "    Vsebuje naj tudi funkcije:\n",
    "    <ul>\n",
    "        <li><b>spremeni_ime</b>, ki kot parameter prejme string in spremeni ime države v novo podano ime. Funkcija naj ne vrne ničesar.</li>\n",
    "        <li><b>shrani_inflacijo</b>, ki prejme 2 parametra: leto inflacije ter vrednost inflacije tisto leto. Funkcija naj v parameter <i>inflacija</i> shrani leto in vrednost inflacije za podano leto (za ključ uporabite leto)</li>\n",
    "    </ul>     \n",
    "    <br>\n",
    "</div>"
   ]
  },
  {
   "cell_type": "code",
   "execution_count": null,
   "metadata": {},
   "outputs": [],
   "source": []
  },
  {
   "cell_type": "code",
   "execution_count": null,
   "metadata": {},
   "outputs": [],
   "source": []
  },
  {
   "cell_type": "markdown",
   "metadata": {},
   "source": [
    "<div class=\"alert alert-block alert-info\">\n",
    "    <h1><b>Naloga: </b></h1>\n",
    "    Napiši razred <b>Kolo</b>, ki ima v sebi shranjene parametre <i>tip_kolesa</i>. Ta podatek je podan že pri inicializaciji instance objekta. Razred naj ima tudi \"class variable\" (razredno spremenljivko) <i>koliko_gum</i>, ki je nastavljena na 4. Če je ob inicializaciji podan tip kolesa z vrednostjo \"tricikelj\", naj instanca v sebi lokalno shrani spremenljivko <i>koliko_gum</i>, ki jo nastavi na 3.\n",
    "    <br>\n",
    "    <br>\n",
    "    Vsebuje naj tudi funkcije:\n",
    "    <ul>\n",
    "        <li><b>koliko_gum</b>, ki vrne število gum tega kolesa.</li>\n",
    "    </ul>     \n",
    "    <br>\n",
    "</div>"
   ]
  },
  {
   "cell_type": "code",
   "execution_count": null,
   "metadata": {},
   "outputs": [],
   "source": []
  },
  {
   "cell_type": "code",
   "execution_count": null,
   "metadata": {},
   "outputs": [],
   "source": []
  },
  {
   "cell_type": "markdown",
   "metadata": {},
   "source": [
    "<div class=\"alert alert-block alert-info\">\n",
    "    <h1><b>Naloga: </b></h1>\n",
    "    Napiši razred <b>Stol</b>, ki ima v sebi shranjene parametre <i>noge</i>, <i>kolesca</i>, <i>naslonjala_za_roke</i>. Vsi parametri naj bodo ob inicializaciji nastavljeni na True. Z objektom bomo hranili, karakteristike nekega stola.\n",
    "    <br>\n",
    "    <br>\n",
    "    Vsebuje naj tudi funkcije:\n",
    "    <ul>\n",
    "        <li><b>spremeni_naslonjala_za_roke</b>, ki obrne vrednosti parametra <i>naslonjala_za_roke</i> na obratno vrednost kot je trenutno (če je trenutno True, naj postane False in obratno). Funkcija naj ne vrne ničesar.</li>\n",
    "        <li><b>spremeni_noge</b>, ki obrne vrednosti parametra <i>noge</i> na obratno vrednost kot je trenutno (če je trenutno True, naj postane False in obratno). Funkcija naj ne vrne ničesar.</li>\n",
    "        <li><b>nastavi_stevilo_nog</b>, ki v objekt shrani parameter <i>stevilo_nog</i>, ki je podana v klicu funkcije (je atribut funkcije). Funkcija naj ne vrne ničesar.</li>\n",
    "        <li><b>izpisi_opis</b>, ki bo izipisalo določen string, glede na sestavo našega stola. Niz se začne z \"Ta stol\" in če ima noge, nadaljuje z \"ima noge\", drugače \"nima nog.\" V primeru, da stol ima noge, preverimo če ima stol kolesca in v tem primeru dodamo stavek \"Noge imajo kolesca.\" V primeru da ima noge preverimo tudi, če ima objekt definirano spremenljivko <i>stevilo_nog</i> (rešitev najdite na spletu) naj doda tudi stavek \"In to kar <b>x</b>.\" (<b>x</b> zamenjajte s številom ki je shranjeno v spremenljivki <i>stevilo_nog</i>. Na koncu (tudi če nima nog) dodajte stavek \"Za roke pa ima tudi naslonjala.\", če je spremelnjivka <i>naslonjala_za_roke</i> nastavljena na True, drugače naj doda stavek \"Stol je brez naslonjala za roke.\" Funkcija naj ne vrne ničesar, vendar naj izpiše stavke v eni vrstici (torej uporabiti le en klic funkcije <i>print(...)</i>.</li>\n",
    "    </ul>     \n",
    "    <br>\n",
    "</div>"
   ]
  },
  {
   "cell_type": "code",
   "execution_count": null,
   "metadata": {},
   "outputs": [],
   "source": []
  },
  {
   "cell_type": "code",
   "execution_count": null,
   "metadata": {},
   "outputs": [],
   "source": []
  },
  {
   "cell_type": "markdown",
   "metadata": {},
   "source": [
    "<div class=\"alert alert-block alert-info\">\n",
    "    <h1><b>Naloga: </b></h1>\n",
    "    Napiši razred <b>TriVVrsto</b>, ki bo hranila trenutna stanja (borad, kdo je na vrsti, ...) in funkcije za izvajanje igre \"tri v vrsto\". Poskusite narediti igro sami, če pa so težave, si pomagajte z že narejeno nalogo, ki smo jo naredili tekom predavanj. Pomembno je, da se celotna definicija igre nahaja znotraj razreda <b>TriVVrsto</b> (torej vse potrebne spremenljivke in funkcije naj bodo del razreda).   \n",
    "    <br>\n",
    "</div>"
   ]
  },
  {
   "cell_type": "code",
   "execution_count": null,
   "metadata": {},
   "outputs": [],
   "source": []
  },
  {
   "cell_type": "markdown",
   "metadata": {},
   "source": [
    "<div class=\"alert alert-block alert-info\">\n",
    "    <h1><b>Naloga: </b></h1>\n",
    "    Napiši razred <b>Vislice</b>, ki bo hranila trenutna stanja (iskano besedo, ugibajoče črke, ugotovljene črke, ...) in funkcije za izvajanje igre \"vislice\". Poskusite narediti igro sami, če pa so težave, si pomagajte z že narejeno nalogo, ki smo jo naredili tekom predavanj. Pomembno je, da se celotna definicija igre nahaja znotraj razreda <b>Vislice</b> (torej vse potrebne spremenljivke in funkcije naj bodo del razreda).   \n",
    "    <br>\n",
    "</div>"
   ]
  },
  {
   "cell_type": "code",
   "execution_count": null,
   "metadata": {},
   "outputs": [],
   "source": []
  },
  {
   "cell_type": "code",
   "execution_count": null,
   "metadata": {},
   "outputs": [],
   "source": []
  },
  {
   "cell_type": "markdown",
   "metadata": {},
   "source": [
    "<div class=\"alert alert-block alert-info\">\n",
    "    <h1><b>Naloga: </b></h1>\n",
    "    Napiši razred <b>Pikado</b>, ki ima v sebi shranjene spremenljivke <i>igralci</i>, ki je list števil dolžine \"stevilo_igralcev\", ki so ob inicializaciji nastavljeni na vrednost \"stevilo_zacetnih_tock\" (stevilo_igralcev in stevilo_zacetnih_tock sta atributa podana ob klicu funkcije). Instanca razreda naj ima tudi spremenljivko <i>na_potezi</i>, ki predstavlja indeks igralca na potezi (tekom igre, naj se ta spremenljivka spreminja in uporablja za sledenju kateri igralec je na vrsti in kateri je naslenji). Igra bo simulirala igro pikado, kjer je cilj, da igralec zniža svoje točke točno do 0 (če gre v svojem krogu, pod to vrednost, se mu vrednost resetira na vrednost pred njegovim prvim metom). Vsak igralec ima 3 mete na potezo. Meti naj bodo zabeleženi z uporabo funkcije <i>input(...)</i> \n",
    "    \n",
    "    <i></i>\n",
    "    <b></b>\n",
    "    \n",
    "    <br>\n",
    "    <br>\n",
    "    Vsebuje naj tudi funkcije:\n",
    "    <ul>\n",
    "        <li><b>zazeni_igro</b>, ki simulira igro z neskončno zanko in klicanjem metode \"vrzi\". Ne pozabite preverjati, ali se igra zaključi.</li>\n",
    "        <li><b>vrzi</b>, ki simulira vse 3 mete igralca, ki je sedaj na potezi. Vsak met, ki ga igralec naredi, naj se uporabi kot odštevek za njegove točke v spremenljivki instance <i>igralci</i>. Funkcija naj vrne True, če je igralec zmagal in False, če ni.</li>\n",
    "        <li><b>preveri_ali_je_konec</b>, ki preverja če je trenutnemu igralcu uspelo priti točno do \"0\" točk. Če ja, vrnite True, drugače False. Metoda naj ob zmagim tudi izpiše niz \"Zmagovalec je <b>x</b>\" (<b>x</b> zamenjajte z indeksom igralca, ki je zmagal).</li>\n",
    "    </ul>     \n",
    "    <br>\n",
    "</div>"
   ]
  },
  {
   "cell_type": "code",
   "execution_count": null,
   "metadata": {},
   "outputs": [],
   "source": []
  },
  {
   "cell_type": "code",
   "execution_count": null,
   "metadata": {},
   "outputs": [],
   "source": []
  },
  {
   "cell_type": "markdown",
   "metadata": {},
   "source": [
    "<div class=\"alert alert-block alert-info\">\n",
    "    <h1><b>Naloga: </b></h1>\n",
    "    Napiši razred <b>Artikel</b>, ki ima v sebi shranjene spremenljivke <i>ime</i>, <i>kolicina</i> in <i>cena</i>. Vsi podatki so podani ob inicializaciji.\n",
    "    <br>\n",
    "    Napiši razred <b>Nakup</b>, ki ima v sebi sebi spremenljivko <i>nakupi</i>, ki je ob inicializaciji nastavljena na prazni list. Vanj bomo shranjevali artikle. Z razredom \"Artikel\" bomo ustvarjali artikle ki jih bomo kupili in njihove specifikacije. Z razredom \"Nakup\" pa bomo sledili vsem kupljenim artiklom. Pazili bomo, da če želimo dodati nov artikel v seznam in je v njem že artikel z enakim imenom in isto ceno, bomo samo povečali količino temu artiklu v seznamu in ne dodali novo inicializiran artikel.\n",
    "    \n",
    "    <i></i>\n",
    "    <b></b>\n",
    "    \n",
    "    <br>\n",
    "    <br>\n",
    "    Razred <b>Nakup</b> naj vsebuje tudi funkcije:\n",
    "    <ul>\n",
    "        <li><b>kupi</b>, ki kot parameter prejme \"ime_artikla\", \"cena_artikla\" in \"kolicina_artikla\" kot atributi ob klicu funkcije. Znotraj te metode, ustvarimo in dodamo nov artikel v list instance <i>nakupi</i>, razen če že obstaja tak artikel v listu, ki ima isto ime in je njegova cena ista. Takrat samo povečamo njegovo količino za \"kolicina_artikla\", ki smo ga dobili kot atribut ob klicu funkcije.</li>\n",
    "        <li><b>za_placilo</b>, ki naj vrne koliko je za plačilo vseh artiklov skupaj (torej za vsak artikel izračunamo ceno z enačbo \"količina*cena\").</li>\n",
    "        <li><b>koliko_naj_mi_vrnejo</b>, ki vrne koliko naj mi blagajničarka vrne, če plačam z vsoto denarja \"denar\" ki ga dobimo kot atribut ob klicu funkcije (lahko predvidevate, da je \"denar\" atribut vedno večji od skupne vsote nakupa). </li>\n",
    "        <li><b>katere_stvari_imam_najvec</b>, ki vrne ime artikla, katerega imam največ. Če sta 2 artikla z isto količino, naj vrne tistega ki se nahaja bolj na začetku lista <i>nakupi</i>.</li>\n",
    "    </ul>     \n",
    "    <br>\n",
    "</div>"
   ]
  },
  {
   "cell_type": "code",
   "execution_count": null,
   "metadata": {},
   "outputs": [],
   "source": []
  },
  {
   "cell_type": "code",
   "execution_count": null,
   "metadata": {},
   "outputs": [],
   "source": []
  },
  {
   "cell_type": "markdown",
   "metadata": {},
   "source": [
    "<div class=\"alert alert-block alert-info\">\n",
    "    <h1><b>Naloga: </b></h1>\n",
    "    Napiši razred <b>Programer</b>, ki ima v sebi shranjene parametre <i>ime</i>, <i>priimek</i> in <i>programski_jeziki</i>. <i>programski_jeziki</i> naj bo predstavljen kot list vrednosti, vendar je ob inicializaciji nastavljen kot prazen list. Ob klicanju razreda \"Programer\", sta ob inicializaciji prisotna samo podatka imena in priimka.\n",
    "    \n",
    "    <br>\n",
    "    <br>\n",
    "    Razred <b>Programer</b> naj vsebuje tudi funkcije:\n",
    "    <ul>\n",
    "        <li><b>dodaj_programski_jezik</b>, ki kot parameter prejme \"jezik\" (string), ki ga dodamo v list instance <i>programski_jeziki</i>, samo v primeru če ta že ni notri. Metoda naj ne vrne ničesar.</li>\n",
    "        <li><b>preveri_ali_programer_ze_zna_programerski_jezik</b>, ki kot parameter prejme \"jezik\" (string), ki vrne True, če ta programer že zna podani jezik.</li>\n",
    "    </ul>     \n",
    "    <br>\n",
    "    \n",
    "    <br>\n",
    "        Napiši razred <b>Delavci</b>, ki ima v sebi shranjene parametre <i>programerji</i>, ki naj bo predstavljen kot list vrednosti objektov razreda \"Programer\", vendar je ob inicializaciji nastavljen kot prazen list. Z razredom \"Delavci\" bomo hranili seznam delavcev in gledali katere kompetence imamo v svoji ekipi delavcev.\n",
    "    \n",
    "    <br>\n",
    "    <br>\n",
    "    Razred <b>Delavci</b> naj vsebuje tudi funkcije:\n",
    "    <ul>\n",
    "        <li><b>dodaj_programerja</b>, ki kot parameter prejme že ustvarjen objekt tipa Programer in ga doda v svoj list programerjev.</li>\n",
    "        <li><b>zna_kdo_ta_jezik</b>, ki kot parameter prejme \"jezik\" (string) in preveri, če kateri od programerjev zna programirati s tem jezikom (uporabite že implementirano metodo <i>\"preveri_ali_programer_ze_zna_programerski_jezik\"</i> razreda \"Programer\".</li>\n",
    "        <li><b>katere_jezike_znajo_delavci_skupaj</b>, ki naj vrne list (seznam) vseh jezikov, ki jih znajo delavci. Vrstni red ni pomemben, pazite le na to, da se jeziki v seznamu ne ponavljajo.</li>\n",
    "    </ul>     \n",
    "    <br>\n",
    "</div>"
   ]
  },
  {
   "cell_type": "code",
   "execution_count": null,
   "metadata": {},
   "outputs": [],
   "source": []
  },
  {
   "cell_type": "code",
   "execution_count": null,
   "metadata": {},
   "outputs": [],
   "source": []
  },
  {
   "cell_type": "markdown",
   "metadata": {},
   "source": [
    "<div class=\"alert alert-block alert-info\">\n",
    "    <h1><b>Naloga: </b></h1>\n",
    "    Napiši razrede <b>DolgaMajica</b>, <b>Pulover</b>, <b>Bunda</b>, <b>SpodnjePerilo</b>, <b>KratkaMajica</b>, <b>DolgeHlace</b>, <b>SpodnjaMajica</b>, <b>KratkeHlace</b>, in <b>Nogavice</b>. Uporabili jih bomo samo za namen ustvarjenja objektov in razločevanje med njimi, torej lahko vsakemu samo napišemo \"pass\" in smo zaključili z njihovo definicijo (ni potrebno pisatih nobenih metod, niti <i>__init__</i>).\n",
    "    \n",
    "    <br>\n",
    "    <br>\n",
    "    \n",
    "    Napiši razred <b>MojaPotovalkaOblacil</b>, ki ima v sebi parameter <i>obleke</i>, ki je predstavljen kot seznam. Ob inicializaciji instance je ta seznam prazen. V ta seznam bomo dodajali obleke ki so tipa navedenih v zgornjem odstavku. Te podatke bomo uporabili, da bomo ugotovili, če imamo obleke za neko določeno vreme.\n",
    "    \n",
    "    <br>\n",
    "    <br>\n",
    "    Razred <b>MojaPotovalkaOblacil</b> naj vsebuje tudi funkcije:\n",
    "    <ul>\n",
    "        <li><b>dodaj_obleko</b>, ki kot parameter prejme že ustvarjen objekt tipa enega izmed prvega odstavka in ga naj doda v seznam <i>obleke</i> te instance. Metoda naj ne vrne ničesar.</li>\n",
    "        <li><b>ali_imam_obleke_za_vroce_vreme</b>, ki naj vrne True, če se lahko v celotni oblečem za vroče vreme (torej mora biti prisotna vsaj ena instanca od vsakega od teh razredov: KratkaMajica, KratkeHlače), drugače naj vrne False.</li>\n",
    "        <li><b>ali_imam_obleke_za_mrzlo_vreme</b>, ki naj vrne True, če se lahko v celotni oblečem za mrzlo vreme (torej mora biti prisotna vsaj ena instanca od vsakega od teh razredov: DolgaMajica, DolgeHlače, Nogavice, Bunda), drugače naj vrne False.</li>\n",
    "    </ul>     \n",
    "    <br>\n",
    "    Namig: Za preverjanje, če je nek objekt določenega tipa, lahko uporabite python funkcijo <i>isinstance(... , ...)</i>. Podrobno definicijo, dokumentacijo in način uporabe najdete na spletu.\n",
    "</div>"
   ]
  },
  {
   "cell_type": "code",
   "execution_count": 1,
   "metadata": {},
   "outputs": [],
   "source": [
    "class DolgaMajica:\n",
    "    pass\n",
    "class Pulover:\n",
    "    pass\n",
    "class Bunda:\n",
    "    pass\n",
    "class SpodnjePerilo:\n",
    "    pass\n",
    "class KratkaMajica:\n",
    "    pass\n",
    "class DolgeHlace:\n",
    "    pass\n",
    "class SpodnjaMajica:\n",
    "    pass\n",
    "class KratkeHlace:\n",
    "    pass\n",
    "class Nogavice:\n",
    "    pass"
   ]
  },
  {
   "cell_type": "code",
   "execution_count": null,
   "metadata": {},
   "outputs": [],
   "source": []
  },
  {
   "cell_type": "markdown",
   "metadata": {},
   "source": [
    "<div class=\"alert alert-block alert-info\">\n",
    "    <h1><b>Naloga: </b></h1>\n",
    "    Napiši razred <b>NogometnaTekma</b>, ki ima v sebi shranjene parametre <i>ekipa1</i> (string), <i>ekipa2</i> (string) in  <i>zadetki</i> (list). Namen tega razreda bo, da med tekmo beležimo kdaj so se zgodili zadetki in sproti gledali kakšen je rezultat.\n",
    "    \n",
    "    <br>\n",
    "    <br>\n",
    "    Vsebuje naj tudi funkcije:\n",
    "    <ul>\n",
    "        <li><b>zadetek</b>, ki kot parameter prejme \"minuta\" (int) zadetka in pa \"ekipa\" (string), ki ga je dosegla. V list <i>zadetki</i> dodajte tuple, kjer je prva vrednost minuta zadetka, druga pa katera ekipa ga je dosegla.</li>\n",
    "        <li><b>rezultat</b>, ki naj vrne \"dictionary\" (slovar), kjer za ključ uporabite imena obeh ekip, za vsako vrednost pa dodajte koliko golov je katera ekipa dosegla.</li>\n",
    "    </ul>     \n",
    "    <br>\n",
    "</div>"
   ]
  },
  {
   "cell_type": "code",
   "execution_count": null,
   "metadata": {},
   "outputs": [],
   "source": []
  },
  {
   "cell_type": "code",
   "execution_count": null,
   "metadata": {},
   "outputs": [],
   "source": []
  }
 ],
 "metadata": {
  "kernelspec": {
   "display_name": "Python 3",
   "language": "python",
   "name": "python3"
  },
  "language_info": {
   "codemirror_mode": {
    "name": "ipython",
    "version": 3
   },
   "file_extension": ".py",
   "mimetype": "text/x-python",
   "name": "python",
   "nbconvert_exporter": "python",
   "pygments_lexer": "ipython3",
   "version": "3.9.5"
  }
 },
 "nbformat": 4,
 "nbformat_minor": 4
}
