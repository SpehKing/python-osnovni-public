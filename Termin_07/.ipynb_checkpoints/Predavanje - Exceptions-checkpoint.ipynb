{
 "cells": [
  {
   "cell_type": "markdown",
   "metadata": {},
   "source": [
    "# Errors\n",
    "\n",
    "Error's so napake v programu, ki nam ponavadi zaustavijo izvajanje programa.\n",
    "\n",
    "Klasificiramo jih v:\n",
    "* Snytaks errors\n",
    "* Runtime errors\n",
    "* Logical errors"
   ]
  },
  {
   "cell_type": "markdown",
   "metadata": {},
   "source": [
    "## Syntax errors\n",
    "\n",
    "Syntax errors so napake pri uporabi Python jezika.\n",
    "\n",
    "Python bo našel te napake med parsanjem našega programa. Če najde takšno napako bo exit-u brez, da bi pognal ta del kode.\n",
    "\n",
    "Najbolj pogoste Syntax napake so:\n",
    "* izpustitev keyword\n",
    "* uporaba keyword na napačnem mestu\n",
    "* izpustitev simbolov, kot je :\n",
    "* napačno črkovanje\n",
    "* napačen indentation\n"
   ]
  },
  {
   "cell_type": "code",
   "execution_count": 1,
   "metadata": {},
   "outputs": [
    {
     "ename": "SyntaxError",
     "evalue": "invalid syntax (<ipython-input-1-8b32d31d1203>, line 2)",
     "output_type": "error",
     "traceback": [
      "\u001b[0;36m  File \u001b[0;32m\"<ipython-input-1-8b32d31d1203>\"\u001b[0;36m, line \u001b[0;32m2\u001b[0m\n\u001b[0;31m    myfunction(x, y):\u001b[0m\n\u001b[0m                     ^\u001b[0m\n\u001b[0;31mSyntaxError\u001b[0m\u001b[0;31m:\u001b[0m invalid syntax\n"
     ]
    }
   ],
   "source": [
    "# Primer: manjka keyword def\n",
    "myfunction(x, y):\n",
    "    return x + y"
   ]
  },
  {
   "cell_type": "code",
   "execution_count": 2,
   "metadata": {},
   "outputs": [
    {
     "ename": "SyntaxError",
     "evalue": "invalid syntax (<ipython-input-2-429811f9164b>, line 1)",
     "output_type": "error",
     "traceback": [
      "\u001b[0;36m  File \u001b[0;32m\"<ipython-input-2-429811f9164b>\"\u001b[0;36m, line \u001b[0;32m1\u001b[0m\n\u001b[0;31m    else:\u001b[0m\n\u001b[0m    ^\u001b[0m\n\u001b[0;31mSyntaxError\u001b[0m\u001b[0;31m:\u001b[0m invalid syntax\n"
     ]
    }
   ],
   "source": [
    "else:\n",
    "    print(\"Hello!\")\n"
   ]
  },
  {
   "cell_type": "code",
   "execution_count": 3,
   "metadata": {},
   "outputs": [
    {
     "ename": "SyntaxError",
     "evalue": "invalid syntax (<ipython-input-3-2bfd10af2cba>, line 2)",
     "output_type": "error",
     "traceback": [
      "\u001b[0;36m  File \u001b[0;32m\"<ipython-input-3-2bfd10af2cba>\"\u001b[0;36m, line \u001b[0;32m2\u001b[0m\n\u001b[0;31m    if mark >= 50\u001b[0m\n\u001b[0m                 ^\u001b[0m\n\u001b[0;31mSyntaxError\u001b[0m\u001b[0;31m:\u001b[0m invalid syntax\n"
     ]
    }
   ],
   "source": [
    "# Primer: manjka :\n",
    "if mark >= 50\n",
    "    print(\"You passed!\")\n"
   ]
  },
  {
   "cell_type": "code",
   "execution_count": 4,
   "metadata": {},
   "outputs": [
    {
     "ename": "SyntaxError",
     "evalue": "invalid syntax (<ipython-input-4-1cca186d8b5e>, line 4)",
     "output_type": "error",
     "traceback": [
      "\u001b[0;36m  File \u001b[0;32m\"<ipython-input-4-1cca186d8b5e>\"\u001b[0;36m, line \u001b[0;32m4\u001b[0m\n\u001b[0;31m    esle:\u001b[0m\n\u001b[0m         ^\u001b[0m\n\u001b[0;31mSyntaxError\u001b[0m\u001b[0;31m:\u001b[0m invalid syntax\n"
     ]
    }
   ],
   "source": [
    "# Primer: napačno črkovanje \"else\"\n",
    "if arriving:\n",
    "    print(\"Hi!\")\n",
    "esle:\n",
    "    print(\"Bye!\")"
   ]
  },
  {
   "cell_type": "code",
   "execution_count": 5,
   "metadata": {},
   "outputs": [
    {
     "ename": "IndentationError",
     "evalue": "expected an indented block (<ipython-input-5-2009e1311970>, line 3)",
     "output_type": "error",
     "traceback": [
      "\u001b[0;36m  File \u001b[0;32m\"<ipython-input-5-2009e1311970>\"\u001b[0;36m, line \u001b[0;32m3\u001b[0m\n\u001b[0;31m    print(\"Flag is set!\")\u001b[0m\n\u001b[0m    ^\u001b[0m\n\u001b[0;31mIndentationError\u001b[0m\u001b[0;31m:\u001b[0m expected an indented block\n"
     ]
    }
   ],
   "source": [
    "# Primer: napačen indentation\n",
    "if flag:\n",
    "print(\"Flag is set!\")"
   ]
  },
  {
   "cell_type": "markdown",
   "metadata": {},
   "source": [
    "## Runtime errors\n",
    "\n",
    "Primer runtime errors:\n",
    "* Deljenje z 0\n",
    "* Dostopanje do elementov, ki ne obstajajo\n",
    "* Dostopanje do datotek, ki ne obstajajo\n",
    "\n",
    "> * division by zero\n",
    "* performing an operation on incompatible types\n",
    "* using an identifier which has not been defined\n",
    "* accessing a list element, dictionary value or object attribute which doesn’t exist\n",
    "* trying to access a file which doesn’t exist"
   ]
  },
  {
   "cell_type": "code",
   "execution_count": 6,
   "metadata": {},
   "outputs": [
    {
     "ename": "ZeroDivisionError",
     "evalue": "division by zero",
     "output_type": "error",
     "traceback": [
      "\u001b[0;31m---------------------------------------------------------------------------\u001b[0m",
      "\u001b[0;31mZeroDivisionError\u001b[0m                         Traceback (most recent call last)",
      "\u001b[0;32m<ipython-input-6-eca1cc1fcdbe>\u001b[0m in \u001b[0;36m<module>\u001b[0;34m\u001b[0m\n\u001b[1;32m      1\u001b[0m \u001b[0;31m# Primer: deljenje z 0\u001b[0m\u001b[0;34m\u001b[0m\u001b[0;34m\u001b[0m\u001b[0;34m\u001b[0m\u001b[0m\n\u001b[0;32m----> 2\u001b[0;31m \u001b[0;36m1\u001b[0m \u001b[0;34m/\u001b[0m \u001b[0;36m0\u001b[0m\u001b[0;34m\u001b[0m\u001b[0;34m\u001b[0m\u001b[0m\n\u001b[0m",
      "\u001b[0;31mZeroDivisionError\u001b[0m: division by zero"
     ]
    }
   ],
   "source": [
    "# Primer: deljenje z 0\n",
    "1 / 0"
   ]
  },
  {
   "cell_type": "markdown",
   "metadata": {},
   "source": [
    "## Logical errors\n",
    "\n",
    "Logične napake nam povzročijo napačne rezultate. Program je lahko sintaksično pravilno zapisan ampak nam ne bo vrnil iskanega rezultata.\n",
    "\n",
    "Primeri\n",
    "* Uporabna napačne spremenljivke\n",
    "* napačna indentacija\n",
    "* uporaba celoštevilskega deljenja in ne navadnega deljenja\n",
    "\n",
    ">Logical errors are the most difficult to fix. They occur when the program runs without crashing, but produces an incorrect result. The error is caused by a mistake in the program’s logic. You won’t get an error message, because no syntax or runtime error has occurred. You will have to find the problem on your own by reviewing all the relevant parts of your code – although some tools can flag suspicious code which looks like it could cause unexpected behaviour.\n"
   ]
  },
  {
   "cell_type": "code",
   "execution_count": null,
   "metadata": {},
   "outputs": [],
   "source": []
  },
  {
   "cell_type": "markdown",
   "metadata": {},
   "source": [
    "## The try and except statements\n",
    "\n",
    "Da obvladujemo morebitne napake uporabljamo try-except:"
   ]
  },
  {
   "cell_type": "code",
   "execution_count": 7,
   "metadata": {},
   "outputs": [
    {
     "name": "stdout",
     "output_type": "stream",
     "text": [
      "Vnesi prvo številko: 1\n",
      "Vnesi drugo številko: 2\n",
      "1/2 = 0.5\n",
      "\n",
      "Vnesi prvo številko: a\n"
     ]
    },
    {
     "ename": "ValueError",
     "evalue": "invalid literal for int() with base 10: 'a'",
     "output_type": "error",
     "traceback": [
      "\u001b[0;31m---------------------------------------------------------------------------\u001b[0m",
      "\u001b[0;31mValueError\u001b[0m                                Traceback (most recent call last)",
      "\u001b[0;32m<ipython-input-7-b27c485d0cd1>\u001b[0m in \u001b[0;36m<module>\u001b[0;34m\u001b[0m\n\u001b[1;32m      1\u001b[0m \u001b[0;32mfor\u001b[0m \u001b[0m_\u001b[0m \u001b[0;32min\u001b[0m \u001b[0mrange\u001b[0m\u001b[0;34m(\u001b[0m\u001b[0;36m3\u001b[0m\u001b[0;34m)\u001b[0m\u001b[0;34m:\u001b[0m\u001b[0;34m\u001b[0m\u001b[0;34m\u001b[0m\u001b[0m\n\u001b[0;32m----> 2\u001b[0;31m     \u001b[0mx\u001b[0m \u001b[0;34m=\u001b[0m \u001b[0mint\u001b[0m\u001b[0;34m(\u001b[0m\u001b[0minput\u001b[0m\u001b[0;34m(\u001b[0m\u001b[0;34m\"Vnesi prvo številko: \"\u001b[0m\u001b[0;34m)\u001b[0m\u001b[0;34m)\u001b[0m\u001b[0;34m\u001b[0m\u001b[0;34m\u001b[0m\u001b[0m\n\u001b[0m\u001b[1;32m      3\u001b[0m     \u001b[0my\u001b[0m \u001b[0;34m=\u001b[0m \u001b[0mint\u001b[0m\u001b[0;34m(\u001b[0m\u001b[0minput\u001b[0m\u001b[0;34m(\u001b[0m\u001b[0;34m\"Vnesi drugo številko: \"\u001b[0m\u001b[0;34m)\u001b[0m\u001b[0;34m)\u001b[0m\u001b[0;34m\u001b[0m\u001b[0;34m\u001b[0m\u001b[0m\n\u001b[1;32m      4\u001b[0m     \u001b[0mrezultat\u001b[0m \u001b[0;34m=\u001b[0m \u001b[0mx\u001b[0m \u001b[0;34m/\u001b[0m \u001b[0my\u001b[0m\u001b[0;34m\u001b[0m\u001b[0;34m\u001b[0m\u001b[0m\n\u001b[1;32m      5\u001b[0m     \u001b[0mprint\u001b[0m\u001b[0;34m(\u001b[0m\u001b[0;34mf\"{x}/{y} = {rezultat}\"\u001b[0m\u001b[0;34m)\u001b[0m\u001b[0;34m\u001b[0m\u001b[0;34m\u001b[0m\u001b[0m\n",
      "\u001b[0;31mValueError\u001b[0m: invalid literal for int() with base 10: 'a'"
     ]
    }
   ],
   "source": [
    "for _ in range(3):\n",
    "    x = int(input(\"Vnesi prvo številko: \"))\n",
    "    y = int(input(\"Vnesi drugo številko: \"))\n",
    "    rezultat = x / y\n",
    "    print(f\"{x}/{y} = {rezultat}\")\n",
    "    print()"
   ]
  },
  {
   "cell_type": "markdown",
   "metadata": {},
   "source": [
    "Ko se zgodi napaka, Python preveri ali se naša koda nahaja znotraj **try** bloka. Če se ne nahaja, potem bomo dobili error in izvajanje programa se bo ustavilo.\n",
    "\n",
    "Če se nahaja znotraj try-except blocka, se bo izvedla koda znotraj **except** bloka in program bo nadaljeval z izvajanjem."
   ]
  },
  {
   "cell_type": "code",
   "execution_count": 8,
   "metadata": {},
   "outputs": [
    {
     "name": "stdout",
     "output_type": "stream",
     "text": [
      "Vnesi prvo številko: 1\n",
      "Vnesi drugo številko: 0\n",
      "Prislo je do napake!\n",
      "\n",
      "Vnesi prvo številko: 1\n",
      "Vnesi drugo številko: a\n",
      "Prislo je do napake!\n",
      "\n",
      "Vnesi prvo številko: 1\n",
      "Vnesi drugo številko: 2\n",
      "1/2 = 0.5\n",
      "\n"
     ]
    }
   ],
   "source": [
    "for _ in range(3):\n",
    "    try:\n",
    "        x = int(input(\"Vnesi prvo številko: \"))\n",
    "        y = int(input(\"Vnesi drugo številko: \"))\n",
    "        rezultat = x / y\n",
    "        print(f\"{x}/{y} = {rezultat}\")\n",
    "    except:\n",
    "        print(\"Prislo je do napake!\")\n",
    "    print()"
   ]
  },
  {
   "cell_type": "code",
   "execution_count": null,
   "metadata": {},
   "outputs": [],
   "source": []
  },
  {
   "cell_type": "markdown",
   "metadata": {},
   "source": [
    "Če se je napaka zgodila znotraj funkcije in znotraj funkcije ni bila ujeta (ni bila znotraj try-except bloka), potem gre Python preverjati ali se klic te funkcije nahaja znotraj try-except bloka."
   ]
  },
  {
   "cell_type": "code",
   "execution_count": 9,
   "metadata": {},
   "outputs": [
    {
     "name": "stdout",
     "output_type": "stream",
     "text": [
      "Vnesi prvo številko: a\n",
      "Prislo je do napake!\n",
      "\n",
      "Vnesi prvo številko: a\n",
      "Prislo je do napake!\n",
      "\n",
      "Vnesi prvo številko: 1\n",
      "Vnesi drugo številko: 2\n",
      "1/2 = 0.5\n",
      "\n"
     ]
    }
   ],
   "source": [
    "def delilnik():\n",
    "    try:\n",
    "        x = int(input(\"Vnesi prvo številko: \"))\n",
    "        y = int(input(\"Vnesi drugo številko: \"))\n",
    "        rezultat = x / y\n",
    "        print(f\"{x}/{y} = {rezultat}\")\n",
    "    except:\n",
    "        print(\"Prislo je do napake!\")\n",
    "    \n",
    "for _ in range(3):\n",
    "    delilnik()\n",
    "    print()"
   ]
  },
  {
   "cell_type": "code",
   "execution_count": 10,
   "metadata": {},
   "outputs": [
    {
     "name": "stdout",
     "output_type": "stream",
     "text": [
      "Vnesi prvo številko: 1\n",
      "Vnesi drugo številko: \n",
      "Prislo je do napake!\n",
      "\n",
      "Vnesi prvo številko: s\n",
      "Prislo je do napake!\n",
      "\n",
      "Vnesi prvo številko: 1\n",
      "Vnesi drugo številko: 0\n",
      "Prislo je do napake!\n",
      "\n"
     ]
    }
   ],
   "source": [
    "def delilnik():\n",
    "    x = int(input(\"Vnesi prvo številko: \"))\n",
    "    y = int(input(\"Vnesi drugo številko: \"))\n",
    "    rezultat = x / y\n",
    "    print(f\"{x}/{y} = {rezultat}\")\n",
    "    \n",
    "for _ in range(3):\n",
    "    try:\n",
    "        delilnik()\n",
    "    except:\n",
    "        print(\"Prislo je do napake!\")\n",
    "    print()"
   ]
  },
  {
   "cell_type": "code",
   "execution_count": null,
   "metadata": {},
   "outputs": [],
   "source": []
  },
  {
   "cell_type": "markdown",
   "metadata": {},
   "source": [
    "<div class=\"alert alert-block alert-info\">\n",
    "<h1><b>Naloga: </b></h1>\n",
    "Napišite funkcion <b>fakulteta</b>, ki uporabnika vpraša naj vnese cifro in izračuna fakulteto te cifre.\n",
    "    Fakulteta se izračuna: 3! = 3*2*1 = 6\n",
    "\n",
    "Funkcija naj vrne rezultat. Oziroma, če uporabik ni vnesel številke naj funkcija ponovno zahteva od uporabnika vnos cifre.\n",
    "</div>\n",
    "\n",
    "\n",
    "```python\n",
    "INPUT:\n",
    "print(fakulteta())\n",
    "\n",
    "OUTPUT:\n",
    "Vnesi cifro: a\n",
    "To ni bila številka.\n",
    "Vnesi cifro: b\n",
    "To ni bila številka.\n",
    "Vnesi cifro: 3\n",
    "6\n",
    "```"
   ]
  },
  {
   "cell_type": "code",
   "execution_count": 11,
   "metadata": {},
   "outputs": [
    {
     "name": "stdout",
     "output_type": "stream",
     "text": [
      "Vnesi cifro: a\n",
      "To ni bila številka.\n",
      "Vnesi cifro: \n",
      "To ni bila številka.\n",
      "Vnesi cifro: b\n",
      "To ni bila številka.\n",
      "Vnesi cifro: 3\n",
      "6\n"
     ]
    }
   ],
   "source": [
    "def fakulteta():\n",
    "    while True:\n",
    "        try:\n",
    "            num = int(input(\"Vnesi cifro: \"))\n",
    "            rezultat = 1\n",
    "            for i in range(1, num+1):\n",
    "                #print(i)\n",
    "                rezultat *= i\n",
    "            return rezultat\n",
    "        except:\n",
    "            print(\"To ni bila številka.\")\n",
    "\n",
    "print(fakulteta())"
   ]
  },
  {
   "cell_type": "code",
   "execution_count": null,
   "metadata": {},
   "outputs": [],
   "source": []
  }
 ],
 "metadata": {
  "kernelspec": {
   "display_name": "Python 3",
   "language": "python",
   "name": "python3"
  },
  "language_info": {
   "codemirror_mode": {
    "name": "ipython",
    "version": 3
   },
   "file_extension": ".py",
   "mimetype": "text/x-python",
   "name": "python",
   "nbconvert_exporter": "python",
   "pygments_lexer": "ipython3",
   "version": "3.8.8"
  },
  "toc": {
   "base_numbering": 1,
   "nav_menu": {},
   "number_sections": true,
   "sideBar": true,
   "skip_h1_title": false,
   "title_cell": "Table of Contents",
   "title_sidebar": "Contents",
   "toc_cell": false,
   "toc_position": {},
   "toc_section_display": true,
   "toc_window_display": false
  }
 },
 "nbformat": 4,
 "nbformat_minor": 2
}
