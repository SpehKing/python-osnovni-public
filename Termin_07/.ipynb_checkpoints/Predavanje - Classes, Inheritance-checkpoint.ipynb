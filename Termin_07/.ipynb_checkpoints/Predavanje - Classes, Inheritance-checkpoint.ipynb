{
 "cells": [
  {
   "cell_type": "markdown",
   "metadata": {},
   "source": [
    "## Python Object Inheritance\n",
    "\n",
    "S pomočjo dedovanja (inheritance) lahko iz že obstoječih razredov ustvarimo nove, bolj specifične razrede.\n",
    "\n",
    "Tako novo ustvarjeni razredi so imenovani \"child classes\" in so izpeljani iz \"parent classes\".\n",
    "\n",
    "Child-classes podedujejo vse attribute in metode parent-class-a, katere lahko tudi prepišemo (override) ali pa dodamo nove, bolj specifične attribute in metode."
   ]
  },
  {
   "cell_type": "code",
   "execution_count": 30,
   "metadata": {},
   "outputs": [
    {
     "name": "stdout",
     "output_type": "stream",
     "text": [
      "Fido je 9 let star in je pes. Najraje je ['svinjina'].\n"
     ]
    }
   ],
   "source": [
    "class Pes:\n",
    "    vrsta = \"pes\"\n",
    "    hrana = [\"svinjina\"]\n",
    "    \n",
    "    def __init__(self, ime, starost):\n",
    "        self.ime = ime \n",
    "        self.starost = starost\n",
    "        \n",
    "    def opis(self):\n",
    "        return (f'{self.ime} je star {self.starost}')\n",
    "    \n",
    "    def spremeni_vrsto(self, vrsta):\n",
    "        self.vrsta = vrsta \n",
    "        \n",
    "    def dodaj_hrano(self, hrana):\n",
    "        self.hrana.append(hrana) \n",
    "        \n",
    "        \n",
    "fido = Pes(\"Fido\", 9)\n",
    "print(fido.opis())"
   ]
  },
  {
   "cell_type": "code",
   "execution_count": 31,
   "metadata": {},
   "outputs": [
    {
     "name": "stdout",
     "output_type": "stream",
     "text": [
      "<class '__main__.Bulldog'>\n",
      "<__main__.Bulldog object at 0x00000123A232DC18>\n",
      "Spencer je star 15\n"
     ]
    }
   ],
   "source": [
    "# Sedaj ustvarimo child class, ki bo dedoval iz class Pes\n",
    "\n",
    "class Bulldog(Pes):\n",
    "    pass\n",
    "\n",
    "spencer = Bulldog(\"Spencer\", 15) # ustvarimo novo instanco class Bulldog, ki deduje od class Pes\n",
    "print(type(spencer)) # vidimo, da je instanca class Bulldog\n",
    "print(spencer)\n",
    "print(spencer.opis()) # vidimo, da smo dedovali metodo opis() iz class Pes\n",
    "# če deluje metoda opis pol mamo tud .ime in .starost spremenljivko"
   ]
  },
  {
   "cell_type": "markdown",
   "metadata": {},
   "source": [
    "## Extending child class\n",
    "\n",
    "Child class lahko tudi naprej razvijemo z novimi metodami."
   ]
  },
  {
   "cell_type": "code",
   "execution_count": 32,
   "metadata": {},
   "outputs": [],
   "source": [
    "class Bulldog(Pes):\n",
    "    def bark(self): # dodali smo metodo, ki jo ima samo Bulldog class, ne pa Pes class\n",
    "        return(f'Woof, woof.')"
   ]
  },
  {
   "cell_type": "code",
   "execution_count": 34,
   "metadata": {},
   "outputs": [
    {
     "name": "stdout",
     "output_type": "stream",
     "text": [
      "Woof, woof.\n"
     ]
    },
    {
     "ename": "AttributeError",
     "evalue": "'Pes' object has no attribute 'bark'",
     "output_type": "error",
     "traceback": [
      "\u001b[1;31m---------------------------------------------------------------------------\u001b[0m",
      "\u001b[1;31mAttributeError\u001b[0m                            Traceback (most recent call last)",
      "\u001b[1;32m<ipython-input-34-27c093936b16>\u001b[0m in \u001b[0;36m<module>\u001b[1;34m\u001b[0m\n\u001b[0;32m      3\u001b[0m \u001b[1;33m\u001b[0m\u001b[0m\n\u001b[0;32m      4\u001b[0m \u001b[0mfido\u001b[0m \u001b[1;33m=\u001b[0m \u001b[0mPes\u001b[0m\u001b[1;33m(\u001b[0m\u001b[1;34m\"Fido\"\u001b[0m\u001b[1;33m,\u001b[0m \u001b[1;36m9\u001b[0m\u001b[1;33m)\u001b[0m\u001b[1;33m\u001b[0m\u001b[1;33m\u001b[0m\u001b[0m\n\u001b[1;32m----> 5\u001b[1;33m \u001b[0mprint\u001b[0m\u001b[1;33m(\u001b[0m\u001b[0mfido\u001b[0m\u001b[1;33m.\u001b[0m\u001b[0mbark\u001b[0m\u001b[1;33m(\u001b[0m\u001b[1;33m)\u001b[0m\u001b[1;33m)\u001b[0m\u001b[1;33m\u001b[0m\u001b[1;33m\u001b[0m\u001b[0m\n\u001b[0m",
      "\u001b[1;31mAttributeError\u001b[0m: 'Pes' object has no attribute 'bark'"
     ]
    }
   ],
   "source": [
    "spencer = Bulldog(\"Spencer\", 15)\n",
    "print(spencer.bark())\n",
    "\n",
    "fido = Pes(\"Fido\", 9)\n",
    "print(fido.bark())"
   ]
  },
  {
   "cell_type": "markdown",
   "metadata": {},
   "source": [
    "## Overriding methods and attributes\n",
    "\n",
    "Metode in attribute parentclass-a lahko tudi prepišemo."
   ]
  },
  {
   "cell_type": "code",
   "execution_count": 35,
   "metadata": {},
   "outputs": [
    {
     "name": "stdout",
     "output_type": "stream",
     "text": [
      "Bulldog\n",
      "Woof, woof.\n",
      "Spencer je star 15 in je Bulldog.\n",
      "\n",
      "pes\n",
      "Fido je star 9\n"
     ]
    }
   ],
   "source": [
    "class Pes:\n",
    "    vrsta = \"pes\"\n",
    "    hrana = [\"svinjina\"]\n",
    "    \n",
    "    def __init__(self, ime, starost):\n",
    "        self.ime = ime \n",
    "        self.starost = starost\n",
    "        \n",
    "    def opis(self):\n",
    "        return (f'{self.ime} je star {self.starost}')\n",
    "    \n",
    "    def spremeni_vrsto(self, vrsta):\n",
    "        self.vrsta = vrsta \n",
    "        \n",
    "    def dodaj_hrano(self, hrana):\n",
    "        self.hrana.append(\"teletina\") \n",
    "        \n",
    "        \n",
    "fido = Pes(\"Fido\", 9)\n",
    "print(fido.opis())"
   ]
  },
  {
   "cell_type": "code",
   "execution_count": null,
   "metadata": {},
   "outputs": [],
   "source": [
    "class Bulldog(Pes):\n",
    "    vrsta = \"Bulldog\"\n",
    "    \n",
    "    def opis(self):\n",
    "        return f\"{self.ime} je star {self.starost} in je {self.vrsta}\"\n",
    "    \n",
    "    def bark(self): # dodali smo metodo, ki jo ima samo Bulldog class, ne pa Pes class\n",
    "        return(f'Woof, woof.')\n",
    "    \n",
    "spencer = Bulldog(\"Spencer\", 15)\n",
    "print(spencer.vrsta)  # prepisali smo vrsto in sedaj so vsi Bulldogi, vrste Bulldog\n",
    "print(spencer.bark()) # še vedno imamo to metodo, ki je specifična za Bulldog class\n",
    "print(spencer.opis()) # prepisali smo metodo opis. Sedaj je ta drugačna za class Bulldog\n",
    "\n",
    "print()\n",
    "\n",
    "fido = Pes(\"Fido\", 9)\n",
    "print(fido.vrsta)\n",
    "print(fido.opis())"
   ]
  },
  {
   "cell_type": "code",
   "execution_count": null,
   "metadata": {},
   "outputs": [],
   "source": []
  },
  {
   "cell_type": "markdown",
   "metadata": {},
   "source": [
    "## Uporaba metod parent class-a"
   ]
  },
  {
   "cell_type": "markdown",
   "metadata": {},
   "source": [
    "Sedaj želimo dodati najljubši hrano vsakega Bulldoga."
   ]
  },
  {
   "cell_type": "code",
   "execution_count": 60,
   "metadata": {},
   "outputs": [
    {
     "name": "stdout",
     "output_type": "stream",
     "text": [
      "Fido je star 9\n"
     ]
    }
   ],
   "source": [
    "class Pes:\n",
    "    vrsta = \"pes\"\n",
    "    hrana = [\"svinjina\"]\n",
    "    \n",
    "    def __init__(self, ime, starost):\n",
    "        self.ime = ime \n",
    "        self.starost = starost\n",
    "        \n",
    "    def opis(self):\n",
    "        return (f'{self.ime} je star {self.starost}')\n",
    "    \n",
    "    def spremeni_vrsto(self, vrsta):\n",
    "        self.vrsta = vrsta\n",
    "        \n",
    "    def dodaj_hrano(self, hrana):\n",
    "        self.hrana.append(\"teletina\") \n",
    "        \n",
    "        \n",
    "fido = Pes(\"Fido\", 9)\n",
    "print(fido.opis())"
   ]
  },
  {
   "cell_type": "markdown",
   "metadata": {},
   "source": [
    "TO lahko dosežemo tako, da prepišemo \\_\\_init\\_\\_ metodo Bulldog class-a:"
   ]
  },
  {
   "cell_type": "code",
   "execution_count": 61,
   "metadata": {},
   "outputs": [
    {
     "name": "stdout",
     "output_type": "stream",
     "text": [
      "Bulldog\n",
      "Woof, woof.\n",
      "Spencer je star 15 in je Bulldog. Najraje je čevapi\n",
      "\n",
      "pes\n",
      "Fido je star 9\n"
     ]
    }
   ],
   "source": [
    "class Bulldog(Pes):\n",
    "    vrsta = \"Bulldog\"\n",
    "    \n",
    "    def __init__(self, ime, starost, najljubsa_hrana):\n",
    "        self.ime = ime \n",
    "        self.starost = starost\n",
    "        self.najljubsa_hrana = najljubsa_hrana\n",
    "    \n",
    "    def opis(self):\n",
    "        return (f'{self.ime} je star {self.starost} in je {self.vrsta}. Najraje je {self.najljubsa_hrana}')\n",
    "    \n",
    "    def bark(self): # dodali smo metodo, ki jo ima samo Bulldog class, ne pa Pes class\n",
    "        return(f'Woof, woof.')\n",
    "    \n",
    "spencer = Bulldog(\"Spencer\", 15, \"čevapi\")\n",
    "print(spencer.vrsta)  # prepisali smo vrsto in sedaj so vsi Bulldogi, vrste Bulldog\n",
    "print(spencer.bark()) # še vedno imamo to metodo, ki je specifična za Bulldog class\n",
    "print(spencer.opis()) # prepisali smo metodo opis. Sedaj je ta drugačna za class Bulldog\n",
    "\n",
    "print()\n",
    "\n",
    "fido = Pes(\"Fido\", 9)\n",
    "print(fido.vrsta)\n",
    "print(fido.opis())"
   ]
  },
  {
   "cell_type": "markdown",
   "metadata": {},
   "source": [
    "Vendar tako ponavljamo določeno kodo:\n",
    "\n",
    "```python\n",
    "self.ime = ime \n",
    "self.starost = starost\n",
    "```    "
   ]
  },
  {
   "cell_type": "markdown",
   "metadata": {},
   "source": [
    "Namesto tega lahko uporabimo *super()* funkcijo s katero dostopamo do metod razreda iz katerega smo dedovali."
   ]
  },
  {
   "cell_type": "code",
   "execution_count": 73,
   "metadata": {},
   "outputs": [
    {
     "name": "stdout",
     "output_type": "stream",
     "text": [
      "Bulldog\n",
      "Woof, woof.\n",
      "Spencer je star 15 in je Bulldog. Najraje je čevapi\n",
      "\n",
      "pes\n",
      "Fido je star 9\n"
     ]
    }
   ],
   "source": [
    "class Bulldog(Pes):\n",
    "    vrsta = \"Bulldog\"\n",
    "    \n",
    "    def __init__(self, ime, starost, najljubsa_hrana):\n",
    "        super().__init__(ime, starost)\n",
    "        self.najljubsa_hrana = najljubsa_hrana\n",
    "    \n",
    "    def opis(self):\n",
    "        return (f'{self.ime} je star {self.starost} in je {self.vrsta}. Najraje je {self.najljubsa_hrana}')\n",
    "    \n",
    "    def bark(self): # dodali smo metodo, ki jo ima samo Bulldog class, ne pa Pes class\n",
    "        return(f'Woof, woof.')\n",
    "    \n",
    "spencer = Bulldog(\"Spencer\", 15, \"čevapi\")\n",
    "print(spencer.vrsta)  # prepisali smo vrsto in sedaj so vsi Bulldogi, vrste Bulldog\n",
    "print(spencer.bark()) # še vedno imamo to metodo, ki je specifična za Bulldog class\n",
    "print(spencer.opis()) # prepisali smo metodo opis. Sedaj je ta drugačna za class Bulldog\n",
    "\n",
    "print()\n",
    "\n",
    "fido = Pes(\"Fido\", 9)\n",
    "print(fido.vrsta)\n",
    "print(fido.opis())"
   ]
  },
  {
   "cell_type": "code",
   "execution_count": null,
   "metadata": {},
   "outputs": [],
   "source": []
  },
  {
   "cell_type": "markdown",
   "metadata": {},
   "source": [
    "<div class=\"alert alert-block alert-info\">\n",
    "<h1><b>Naloga: </b></h1>\n",
    "    \n",
    "Ustvarite razred Vozilo. Vsaka instanca naj ima svojo specifično hitrost in kilometrino in koliko goriva je bilo porabljenega do sedaj.\n",
    "   \n",
    "Razred Vozilo naj ima funkcija <b>poraba()</b>, ki vrne koliko je povprečna poraba tega vozila.\n",
    "    \n",
    "Dodajte <b>class variable</b> razredu Vozilo. Spremenljivki naj bo ime <b>st_gum</b> in njena vrednost naj bo <b>4</b>.\n",
    "Dodajte metodo <b>opis()</b>, ki naj izpiše opis vozila.\n",
    "    \n",
    "    \n",
    "<i>Ustvarite podrazreda <b>Avto</b> in <b>Motor</b>. Razreda naj dedujete od razreda Vozila. Motor razred naj prepiše spremenljivko <b>st_gum</b> v <b>2</b>. Vsak razred naj pravilno shrani ime vozila, ko ustvarimo novo instanco.</i>\n",
    "</div>\n",
    "\n",
    "Primeri:\n",
    "```python\n",
    "Input:\n",
    "    \n",
    "avto = Avto(300, 80, 500)\n",
    "avto.opis()\n",
    "\n",
    "\n",
    "Output:\n",
    "Max hitrost avto: 300. Prevozenih je 80 km. Poraba vozila je 6.25 l/km. Vozilo ima 4 gum.\n",
    "\n",
    "\n",
    "Input:\n",
    "motor = Motor(90, 220, 520)\n",
    "motor.opis()\n",
    "\n",
    "Output:\n",
    "Max hitrost motor: 90. Prevozenih je 220 km. Poraba vozila je 2.36 l/km. Vozilo ima 2 gum.\n",
    "\n",
    "\n",
    "```\n"
   ]
  },
  {
   "cell_type": "code",
   "execution_count": 85,
   "metadata": {},
   "outputs": [
    {
     "name": "stdout",
     "output_type": "stream",
     "text": [
      "Max hitrost avto: 300. Prevozenih je 80 km. Poraba vozila je 6.25 l/km. Vozilo ima 4 gum.\n",
      "Max hitrost motor: 90. Prevozenih je 220 km. Poraba vozila je 2.36 l/km. Vozilo ima 2 gum.\n"
     ]
    }
   ],
   "source": [
    "class Vozilo:\n",
    "    st_gum = 4\n",
    "    \n",
    "    def __init__(self, vozilo, hitrost, kilometrina, gorivo):\n",
    "        self.vozilo = vozilo\n",
    "        self.hitrost = hitrost\n",
    "        self.kilometrina = kilometrina\n",
    "        self.gorivo = gorivo\n",
    "        \n",
    "    def poraba(self):\n",
    "        return self.gorivo / self.kilometrina\n",
    "    \n",
    "    def opis(self):\n",
    "        print(f\"Max hitrost {self.vozilo}: {self.hitrost}. Prevozenih je {self.kilometrina} km. Poraba vozila je {self.poraba():.2f} l/km. Vozilo ima {self.st_gum} gum.\")\n",
    "    \n",
    "    \n",
    "class Avto(Vozilo):\n",
    "    def __init__(self, hitrost, kilometrina, gorivo):\n",
    "        super().__init__(\"avto\", hitrost, kilometrina, gorivo)\n",
    "        \n",
    "    \n",
    "class Motor(Vozilo):\n",
    "    st_gum = 2\n",
    "    \n",
    "    def __init__(self, hitrost, kilometrina, gorivo):\n",
    "        super().__init__(\"motor\", hitrost, kilometrina, gorivo)\n",
    "        \n",
    "        \n",
    "avto = Avto(300, 80, 500)\n",
    "avto.opis()\n",
    "\n",
    "\n",
    "motor = Motor(90, 220, 520)\n",
    "motor.opis()"
   ]
  },
  {
   "cell_type": "code",
   "execution_count": null,
   "metadata": {},
   "outputs": [],
   "source": []
  },
  {
   "cell_type": "markdown",
   "metadata": {},
   "source": [
    "## Multiple inheritance"
   ]
  },
  {
   "cell_type": "code",
   "execution_count": 37,
   "metadata": {},
   "outputs": [
    {
     "name": "stdout",
     "output_type": "stream",
     "text": [
      "10 11\n",
      "20 21\n"
     ]
    }
   ],
   "source": [
    "# Multiple inheritance\n",
    "class SuperA:\n",
    "    VarA = 10\n",
    "    def funa(self):\n",
    "        return 11\n",
    "\n",
    "class SuperB:\n",
    "    VarB = 20\n",
    "    def funb(self):\n",
    "        return 21\n",
    "\n",
    "class Sub(SuperA,SuperB):\n",
    "    pass\n",
    "\n",
    "object_ = Sub() # podeduje metode in atribute razreda A in razreda B\n",
    "\n",
    "print(object_.VarA, object_.funa())\n",
    "print(object_.VarB, object_.funb())\n",
    "# kle ni problem, ker se nobena stvar ne prekriva (ne instance, ne metode)"
   ]
  },
  {
   "cell_type": "code",
   "execution_count": 40,
   "metadata": {},
   "outputs": [
    {
     "name": "stdout",
     "output_type": "stream",
     "text": [
      "b\n"
     ]
    }
   ],
   "source": [
    "# Left to right\n",
    "class A:\n",
    "    def fun(self):\n",
    "        print('a')\n",
    "\n",
    "class B:\n",
    "    def fun(self):\n",
    "        print('b')\n",
    "\n",
    "\n",
    "class C(B,A):\n",
    "    pass\n",
    "object_ = C()\n",
    "object_.fun() # prvo dedujemo iz najbl desnega, pol proti levi in prepisujemo stvari"
   ]
  },
  {
   "cell_type": "code",
   "execution_count": 41,
   "metadata": {},
   "outputs": [
    {
     "name": "stdout",
     "output_type": "stream",
     "text": [
      "100 101\n"
     ]
    }
   ],
   "source": [
    "# override the entities of the same names\n",
    "class Level0:\n",
    "    Var = 0\n",
    "    def fun(self):\n",
    "        return 0\n",
    "\n",
    "class Level1(Level0):\n",
    "    Var = 100\n",
    "    def fun(self):\n",
    "        return 101\n",
    "\n",
    "class Level2(Level1):\n",
    "    pass\n",
    "\n",
    "object_ = Level2() # razred Level0 je parent. Level1 deduje iz Level0 in \"overrida\" stvari. Level2 deduje iz Level1 in \"overrida\" stvari (sam mi sam passamo).\n",
    "print(object_.Var, object_.fun())"
   ]
  },
  {
   "cell_type": "markdown",
   "metadata": {},
   "source": [
    "### isinstance() function\n",
    "\n",
    "s pomočjo funkcijo ```python isinstance() ``` lahko preverimo, če je naša instanca res instanca določenega razreda oziroma razreda, ki od njega deduje."
   ]
  },
  {
   "cell_type": "code",
   "execution_count": 1,
   "metadata": {},
   "outputs": [
    {
     "name": "stdout",
     "output_type": "stream",
     "text": [
      "True\n",
      "True\n",
      "True\n",
      "\n"
     ]
    }
   ],
   "source": [
    "# override the entities of the same names\n",
    "class Level0:\n",
    "    Var = 0\n",
    "    def fun(self):\n",
    "        return 0\n",
    "\n",
    "class Level1(Level0):\n",
    "    Var = 100\n",
    "    def fun(self):\n",
    "        return 101\n",
    "\n",
    "class Level2(Level1):\n",
    "    pass\n",
    "\n",
    "l0 = Level0()\n",
    "l1 = Level1()\n",
    "l2 = Level2()\n",
    "\n",
    "print(isinstance(l2, Level2)) #ali je instanca level2 del razreda Level2\n",
    "print(isinstance(l2, Level1))\n",
    "print(isinstance(l2, Level0))\n",
    "print()"
   ]
  },
  {
   "cell_type": "code",
   "execution_count": null,
   "metadata": {},
   "outputs": [],
   "source": []
  },
  {
   "cell_type": "markdown",
   "metadata": {},
   "source": [
    "### inspect.getmro(class_name)\n",
    "\n",
    "S pomočjo te funkcije lahko izpiše strukturo dedovanja."
   ]
  },
  {
   "cell_type": "code",
   "execution_count": 79,
   "metadata": {},
   "outputs": [
    {
     "data": {
      "text/plain": [
       "(__main__.Level2, __main__.Level1, __main__.Level0, object)"
      ]
     },
     "execution_count": 79,
     "metadata": {},
     "output_type": "execute_result"
    }
   ],
   "source": [
    "import inspect\n",
    "# override the entities of the same names\n",
    "class Level0:\n",
    "    Var = 0\n",
    "    def fun(self):\n",
    "        return 0\n",
    "\n",
    "class Level1(Level0):\n",
    "    Var = 100\n",
    "    def fun(self):\n",
    "        return 101\n",
    "\n",
    "class Level2(Level1):\n",
    "    pass\n",
    "\n",
    "inspect.getmro(Level2)"
   ]
  },
  {
   "cell_type": "code",
   "execution_count": null,
   "metadata": {},
   "outputs": [],
   "source": []
  },
  {
   "cell_type": "markdown",
   "metadata": {},
   "source": [
    "## Banka\n",
    "\n",
    "Napišite program:\n",
    "\n",
    "```python\n",
    "class Oseba():\n",
    "    def __init__(self, ime, priimek):\n",
    "        # za to instanco naj ustvari spremenljivki ime in priimek\n",
    "        \n",
    "    def __str__(self):\n",
    "        # vrne naj string, znotraj katerega imamo ime in priimek\n",
    "        \n",
    "        \n",
    "class Stranka(): # class naj deduje od razreda Oseba()\n",
    "    def nastavi_stanje(self, stanje):\n",
    "        # metoda naj ustvari spremenljivko samo za to instaco razreda. Vrednost naj bo \"stanje\" oziroma default vrednost naj bo 0. Metoda naj nato vrne vrednost spremenljivke stanje\n",
    "        \n",
    "    def dvig(self, znesek):\n",
    "        # Od stanja naj se odšteje znesek.\n",
    "        # V kolikor ni dovolj denarja na računu naj se dvigne z banke celotno stanje\n",
    "        # Na koncu naj metoda vrne dvignjen znesek\n",
    "        \n",
    "    def polog(self, znesek):\n",
    "        # metoda naj doda velikost zneska stanju\n",
    "        # nato naj metoda vrne novo stanje\n",
    "\n",
    "\n",
    "INPUT:\n",
    "objekt = Stranka(\"Gregor\", \"Balkovec\")\n",
    "print(objekt)\n",
    "print(objekt.nastavi_stanje())\n",
    "print(objekt.polog(5000))\n",
    "print(objekt.dvig(2000))\n",
    "print(objekt.dvig(4000))\n",
    "\n",
    "OUTPUT:\n",
    "Gregor Balkovec\n",
    "0.0\n",
    "5000.0\n",
    "2000\n",
    "Dal ti bom samo 3000.0\n",
    "3000.0\n",
    "```"
   ]
  },
  {
   "cell_type": "code",
   "execution_count": 2,
   "metadata": {},
   "outputs": [
    {
     "name": "stdout",
     "output_type": "stream",
     "text": [
      "Gregor Balkovec\n",
      "0.0\n",
      "5000.0\n",
      "2000\n",
      "Dal ti bom samo 3000.0\n",
      "3000.0\n"
     ]
    }
   ],
   "source": [
    "class Oseba():\n",
    "    def __init__(self, ime, priimek):\n",
    "        self.ime = ime\n",
    "        self.priimek = priimek\n",
    "\n",
    "    def __str__(self):\n",
    "        return self.ime + \" \" + self.priimek\n",
    "\n",
    "    \n",
    "class Stranka(Oseba):\n",
    "\n",
    "    def nastavi_stanje(self, stanje=0.0):\n",
    "        self.stanje = stanje\n",
    "        return self.stanje\n",
    "\n",
    "    def dvig(self, znesek):\n",
    "        dvig = 0\n",
    "        if znesek > self.stanje:\n",
    "            print(\"Dal ti bom samo\", self.stanje)\n",
    "            dvig = self.stanje\n",
    "            self.stanje = 0\n",
    "        else:\n",
    "            self.stanje -= znesek\n",
    "            dvig = znesek\n",
    "        return dvig\n",
    "\n",
    "    def polog(self, znesek):\n",
    "        self.stanje += znesek\n",
    "        return self.stanje\n",
    "\n",
    "\n",
    "objekt = Stranka(\"Gregor\", \"Balkovec\")\n",
    "print(objekt)\n",
    "print(objekt.nastavi_stanje())\n",
    "print(objekt.polog(5000))\n",
    "print(objekt.dvig(2000))\n",
    "print(objekt.dvig(4000))\n"
   ]
  },
  {
   "cell_type": "code",
   "execution_count": null,
   "metadata": {},
   "outputs": [],
   "source": []
  },
  {
   "cell_type": "code",
   "execution_count": null,
   "metadata": {},
   "outputs": [],
   "source": []
  },
  {
   "cell_type": "markdown",
   "metadata": {},
   "source": [
    "Ustvarite razred `Polica`.\n",
    "* Vsaka instanca razreda naj ima:\n",
    "* * **knjige** -> list naslovov knjig, ki se nahajajo na polici\n",
    "* * **max_knjig** -> integer vrednost, ki pove koliko knjig, gre maximalno na polico\n",
    "* Ko ustvarimo instanco razreda vanj posredujemo številko maximalnih knjig na polici.\n",
    "* Ko ustvarimo instanco razreda vanj posredujemo lahko tudi list naslovov knjig, ki se že nahajajo na polici. Če takega seznama ne posredujemo naj ima polica prazen seznam.\n",
    "* Razred naj ima metodo `kaj_je_na_polici`, ki naj vrne list naslovov knjig\n",
    "* Razred naj ima metodo `dodaj_knjigo`, ki kot argument prejme string naslova knjige. To knjigo naj doda v list naslovov knjig, če s tem ne presežemo maximalno število knjig. Če bi presegli to število knjige ne dodamo.\n",
    "* Razred naj ima metodo `uredi_knjige`, ki kot argument **ascending** prejme boolean vrednost, ki nam pove ali naj bodo knjige urejene (glede na prvo črko) v A->Z (vrednost True) oziroma Z->A (vrednost False). Če ta vrednost ni bila posredovana naj bo default vrstni red A->Z. Metoda naj uredi list naslovov knjig in tega nato vrne\n",
    "\n",
    "```python\n",
    "polica = Polica(7, [\"The Witcher\", \"Dune\", \"Harry Potter\", \"Hamlet\", \"Krautov Strojniški Priročnik\", \"SSKJ\"])\n",
    "print(polica.kaj_je_na_polici())\n",
    "==> ['The Witcher', 'Dune', 'Harry Potter', 'Hamlet', 'Krautov Strojniški Priročnik', 'SSKJ']\n",
    "\n",
    "print(polica.uredi_knjige())\n",
    "==> ['Dune', 'Hamlet', 'Harry Potter', 'Krautov Strojniški Priročnik', 'SSKJ', 'The Witcher']\n",
    "\n",
    "polica.dodaj_knjigo(\"Romeo in Julija\")\n",
    "print(polica.kaj_je_na_polici())\n",
    "==> ['Dune', 'Hamlet', 'Harry Potter', 'Krautov Strojniški Priročnik', 'SSKJ', 'The Witcher', 'Romeo in Julija']\n",
    "\n",
    "polica.dodaj_knjigo(\"Game of Thrones\")\n",
    "print(polica.kaj_je_na_polici())\n",
    "==> ['Dune', 'Hamlet', 'Harry Potter', 'Krautov Strojniški Priročnik', 'SSKJ', 'The Witcher', 'Romeo in Julija']\n",
    "\n",
    "print(polica.uredi_knjige(False))\n",
    "==> ['The Witcher', 'SSKJ', 'Romeo in Julija', 'Krautov Strojniški Priročnik', 'Harry Potter', 'Hamlet', 'Dune']\n",
    "\n",
    "polica.shrani_knjige()\n",
    "```"
   ]
  },
  {
   "cell_type": "code",
   "execution_count": 86,
   "metadata": {},
   "outputs": [
    {
     "name": "stdout",
     "output_type": "stream",
     "text": [
      "['The Witcher', 'Dune', 'Harry Potter', 'Hamlet', 'Tintin', 'SSKJ']\n",
      "['Dune', 'Hamlet', 'Harry Potter', 'SSKJ', 'The Witcher', 'Tintin']\n",
      "['Dune', 'Hamlet', 'Harry Potter', 'SSKJ', 'The Witcher', 'Tintin', 'Romeo in Julija']\n",
      "['Dune', 'Hamlet', 'Harry Potter', 'SSKJ', 'The Witcher', 'Tintin', 'Romeo in Julija']\n",
      "['Tintin', 'The Witcher', 'SSKJ', 'Romeo in Julija', 'Harry Potter', 'Hamlet', 'Dune']\n"
     ]
    }
   ],
   "source": [
    "class Polica:\n",
    "    def __init__(self, max_knjig, knjige=list()):\n",
    "        self.max_knjig = max_knjig\n",
    "        self.knjige = knjige\n",
    "    \n",
    "    def kaj_je_na_polici(self):\n",
    "        return self.knjige\n",
    "        \n",
    "    def dodaj_knjigo(self, knjiga):\n",
    "        if len(self.knjige) < self.max_knjig:\n",
    "            self.knjige.append(knjiga)\n",
    "    \n",
    "    def uredi_knjige(self, ascending = True):\n",
    "        if ascending:\n",
    "            self.knjige.sort()\n",
    "        else:\n",
    "            self.knjige.sort(reverse=True)\n",
    "        return self.kaj_je_na_polici()\n",
    "    \n",
    "    \n",
    "\n",
    "polica = Polica(7, [\"The Witcher\", \"Dune\", \"Harry Potter\", \"Hamlet\", \"Tintin\", \"SSKJ\"])\n",
    "print(polica.kaj_je_na_polici())\n",
    "print(polica.uredi_knjige())\n",
    "\n",
    "polica.dodaj_knjigo(\"Romeo in Julija\")\n",
    "print(polica.kaj_je_na_polici())\n",
    "\n",
    "polica.dodaj_knjigo(\"Game of Thrones\")\n",
    "print(polica.kaj_je_na_polici())\n",
    "print(polica.uredi_knjige(False))\n"
   ]
  },
  {
   "cell_type": "code",
   "execution_count": null,
   "metadata": {},
   "outputs": [],
   "source": []
  }
 ],
 "metadata": {
  "kernelspec": {
   "display_name": "Python 3",
   "language": "python",
   "name": "python3"
  },
  "language_info": {
   "codemirror_mode": {
    "name": "ipython",
    "version": 3
   },
   "file_extension": ".py",
   "mimetype": "text/x-python",
   "name": "python",
   "nbconvert_exporter": "python",
   "pygments_lexer": "ipython3",
   "version": "3.8.8"
  },
  "toc": {
   "base_numbering": 1,
   "nav_menu": {},
   "number_sections": true,
   "sideBar": true,
   "skip_h1_title": false,
   "title_cell": "Table of Contents",
   "title_sidebar": "Contents",
   "toc_cell": false,
   "toc_position": {},
   "toc_section_display": true,
   "toc_window_display": false
  }
 },
 "nbformat": 4,
 "nbformat_minor": 2
}
