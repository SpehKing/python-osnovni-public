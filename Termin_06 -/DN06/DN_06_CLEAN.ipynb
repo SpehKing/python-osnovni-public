{
 "cells": [
  {
   "cell_type": "markdown",
   "id": "3fab16f2",
   "metadata": {},
   "source": [
    "<div class=\"alert alert-block alert-info\">\n",
    "<h1><b>Naloga: </b></h1>\n",
    "Napišite funkcijo, ki v datoteko <i>naloga5.txt</i> zapiše vse datume, ki so <b>petek 13.</b> v letih od 2020 do 2030.\n",
    "    \n",
    "Da najdete datume si lahko pomagate s knjižnjico datetime.\n",
    "</div>\n",
    "\n",
    "\n",
    "```python\n",
    "OUTPUT:\n",
    "13. Mar 2020\n",
    "13. Nov 2020\n",
    "13. Aug 2021\n",
    "13. May 2022\n",
    "13. Jan 2023\n",
    "13. Oct 2023\n",
    "13. Sep 2024\n",
    "13. Dec 2024\n",
    "13. Jun 2025\n",
    "13. Feb 2026\n",
    "13. Mar 2026\n",
    "13. Nov 2026\n",
    "13. Aug 2027\n",
    "13. Oct 2028\n",
    "13. Apr 2029\n",
    "13. Jul 2029\n",
    "```"
   ]
  },
  {
   "cell_type": "code",
   "execution_count": null,
   "id": "0c355ab2",
   "metadata": {},
   "outputs": [],
   "source": []
  },
  {
   "cell_type": "code",
   "execution_count": null,
   "id": "8704e55f",
   "metadata": {},
   "outputs": [],
   "source": []
  },
  {
   "cell_type": "markdown",
   "id": "adb57dd1",
   "metadata": {},
   "source": [
    "<div class=\"alert alert-block alert-info\">\n",
    "<h1><b>Naloga: </b></h1>\n",
    "Z uporabo modula <b>random</b> zgenerirajte 7 ne-enakih random številk od 1 do vključno 30.\n",
    "    \n",
    "Nato od uporabnika zahtevajmo 7 številk. Nato prikažemo koliko številk je uporabnik uganil.\n",
    "    \n",
    "Dodajte try-except tako, da prestrezete morebitno napako (ValueError), ki jo lahko povzroči uporabnik pri vnosi številke.\n",
    "    \n",
    "Dodatno ustvarite svoj exception razred, katerega \"raise-ate\", če uporabnik vnese številko, ki je manjša od 1 ali večja od 30.\n",
    "</div>\n",
    "\n",
    "\n",
    "```python\n",
    "OUTPUT:\n",
    "Vnesi cifro med 1 in 30: 1\n",
    "Vnesi cifro med 1 in 30: 3\n",
    "Vnesi cifro med 1 in 30: 20\n",
    "Vnesi cifro med 1 in 30: 35\n",
    "Vnesi številko od 1 do vključno 30!\n",
    "Vnesi cifro med 1 in 30: 12\n",
    "Vnesi cifro med 1 in 30: a\n",
    "Vnesi številko!\n",
    "Vnesi cifro med 1 in 30: 19\n",
    "Vnesi cifro med 1 in 30: 30\n",
    "Vnesi cifro med 1 in 30: 22\n",
    "Dobitne številke: {4, 10, 12, 13, 20, 23, 26}\n",
    "Ugibane številke: {1, 3, 12, 19, 20, 22, 30}\n",
    "Zadete številke: {12, 20}\n",
    "```"
   ]
  },
  {
   "cell_type": "code",
   "execution_count": null,
   "id": "ce7ae665",
   "metadata": {},
   "outputs": [],
   "source": []
  },
  {
   "cell_type": "code",
   "execution_count": null,
   "id": "f6ef2d90",
   "metadata": {},
   "outputs": [],
   "source": []
  }
 ],
 "metadata": {
  "kernelspec": {
   "display_name": "Python 3",
   "language": "python",
   "name": "python3"
  },
  "language_info": {
   "codemirror_mode": {
    "name": "ipython",
    "version": 3
   },
   "file_extension": ".py",
   "mimetype": "text/x-python",
   "name": "python",
   "nbconvert_exporter": "python",
   "pygments_lexer": "ipython3",
   "version": "3.8.8"
  }
 },
 "nbformat": 4,
 "nbformat_minor": 5
}
