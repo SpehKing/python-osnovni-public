{
 "cells": [
  {
   "cell_type": "markdown",
   "id": "0193ff9d",
   "metadata": {},
   "source": [
    "# Errors"
   ]
  },
  {
   "cell_type": "code",
   "execution_count": 1,
   "id": "d483052f",
   "metadata": {},
   "outputs": [
    {
     "ename": "SyntaxError",
     "evalue": "invalid syntax (<ipython-input-1-f85a75309909>, line 1)",
     "output_type": "error",
     "traceback": [
      "\u001b[0;36m  File \u001b[0;32m\"<ipython-input-1-f85a75309909>\"\u001b[0;36m, line \u001b[0;32m1\u001b[0m\n\u001b[0;31m    myFunction(x, y):\u001b[0m\n\u001b[0m                     ^\u001b[0m\n\u001b[0;31mSyntaxError\u001b[0m\u001b[0;31m:\u001b[0m invalid syntax\n"
     ]
    }
   ],
   "source": [
    "myFunction(x, y):\n",
    "    return x+y"
   ]
  },
  {
   "cell_type": "code",
   "execution_count": 2,
   "id": "2d3b442c",
   "metadata": {},
   "outputs": [
    {
     "ename": "SyntaxError",
     "evalue": "invalid syntax (<ipython-input-2-83125fc36a46>, line 1)",
     "output_type": "error",
     "traceback": [
      "\u001b[0;36m  File \u001b[0;32m\"<ipython-input-2-83125fc36a46>\"\u001b[0;36m, line \u001b[0;32m1\u001b[0m\n\u001b[0;31m    def function(x, y)\u001b[0m\n\u001b[0m                      ^\u001b[0m\n\u001b[0;31mSyntaxError\u001b[0m\u001b[0;31m:\u001b[0m invalid syntax\n"
     ]
    }
   ],
   "source": [
    "def function(x, y)\n",
    "    return x +y"
   ]
  },
  {
   "cell_type": "code",
   "execution_count": 3,
   "id": "20cdfd04",
   "metadata": {},
   "outputs": [
    {
     "ename": "IndentationError",
     "evalue": "expected an indented block (<ipython-input-3-58501097a457>, line 2)",
     "output_type": "error",
     "traceback": [
      "\u001b[0;36m  File \u001b[0;32m\"<ipython-input-3-58501097a457>\"\u001b[0;36m, line \u001b[0;32m2\u001b[0m\n\u001b[0;31m    return x+y\u001b[0m\n\u001b[0m    ^\u001b[0m\n\u001b[0;31mIndentationError\u001b[0m\u001b[0;31m:\u001b[0m expected an indented block\n"
     ]
    }
   ],
   "source": [
    "def myfunction(x, y):\n",
    "return x+y"
   ]
  },
  {
   "cell_type": "code",
   "execution_count": 4,
   "id": "c35e9fce",
   "metadata": {},
   "outputs": [
    {
     "ename": "ZeroDivisionError",
     "evalue": "division by zero",
     "output_type": "error",
     "traceback": [
      "\u001b[0;31m---------------------------------------------------------------------------\u001b[0m",
      "\u001b[0;31mZeroDivisionError\u001b[0m                         Traceback (most recent call last)",
      "\u001b[0;32m<ipython-input-4-6eaf55e94be3>\u001b[0m in \u001b[0;36m<module>\u001b[0;34m\u001b[0m\n\u001b[0;32m----> 1\u001b[0;31m \u001b[0mrezultat\u001b[0m \u001b[0;34m=\u001b[0m \u001b[0;36m1\u001b[0m\u001b[0;34m/\u001b[0m\u001b[0;36m0\u001b[0m\u001b[0;34m\u001b[0m\u001b[0;34m\u001b[0m\u001b[0m\n\u001b[0m",
      "\u001b[0;31mZeroDivisionError\u001b[0m: division by zero"
     ]
    }
   ],
   "source": [
    "rezultat = 1/0"
   ]
  },
  {
   "cell_type": "markdown",
   "id": "dea2560c",
   "metadata": {},
   "source": [
    "# Try-except"
   ]
  },
  {
   "cell_type": "code",
   "execution_count": 6,
   "id": "4e50dd13",
   "metadata": {},
   "outputs": [
    {
     "name": "stdout",
     "output_type": "stream",
     "text": [
      "Vnesi prvo številko: 2\n",
      "Vnesi drugo številko: 5\n",
      "2 / 5 = 0.4\n",
      "\n",
      "Vnesi prvo številko: 2\n",
      "Vnesi drugo številko: 0\n",
      "Prišlo je do napake.\n",
      "\n",
      "Vnesi prvo številko: 4\n",
      "Vnesi drugo številko: 10\n",
      "4 / 10 = 0.4\n",
      "\n"
     ]
    }
   ],
   "source": [
    "for _ in range(3):\n",
    "    try:\n",
    "        x = int(input(\"Vnesi prvo številko: \"))\n",
    "        y = int(input(\"Vnesi drugo številko: \"))\n",
    "        rezultat = x/y\n",
    "        print(f\"{x} / {y} = {rezultat}\")\n",
    "    except:\n",
    "        print(\"Prišlo je do napake.\")\n",
    "    print()"
   ]
  },
  {
   "cell_type": "code",
   "execution_count": 9,
   "id": "c4f42ec3",
   "metadata": {},
   "outputs": [
    {
     "name": "stdout",
     "output_type": "stream",
     "text": [
      "Vnesi prvo številko: 1\n",
      "Vnesi drugo številko: 0\n",
      "Prišlo je do napake\n",
      "\n",
      "Vnesi prvo številko: 1\n",
      "Vnesi drugo številko: 1\n",
      "1 / 1 = 1.0\n",
      "\n",
      "Vnesi prvo številko: 1\n",
      "Vnesi drugo številko: 1\n",
      "1 / 1 = 1.0\n",
      "\n"
     ]
    }
   ],
   "source": [
    "def delilnik():\n",
    "    try:\n",
    "        x = int(input(\"Vnesi prvo številko: \"))\n",
    "        y = int(input(\"Vnesi drugo številko: \"))\n",
    "        rezultat = x/y\n",
    "        print(f\"{x} / {y} = {rezultat}\")\n",
    "    except:\n",
    "        print(\"Prišlo je do napake\")\n",
    "    \n",
    "    \n",
    "for _ in range(3):\n",
    "    delilnik()\n",
    "    print()"
   ]
  },
  {
   "cell_type": "code",
   "execution_count": 10,
   "id": "c1e75eb9",
   "metadata": {},
   "outputs": [
    {
     "name": "stdout",
     "output_type": "stream",
     "text": [
      "Vnesi prvo številko: 1\n",
      "Vnesi drugo številko: 2\n",
      "1 / 2 = 0.5\n",
      "\n",
      "Vnesi prvo številko: 1\n",
      "Vnesi drugo številko: 0\n",
      "Prišlo je do napake\n",
      "\n",
      "Vnesi prvo številko: 2\n",
      "Vnesi drugo številko: 2\n",
      "2 / 2 = 1.0\n",
      "\n"
     ]
    }
   ],
   "source": [
    "def delilnik():\n",
    "    x = int(input(\"Vnesi prvo številko: \"))\n",
    "    y = int(input(\"Vnesi drugo številko: \"))\n",
    "    rezultat = x/y\n",
    "    print(f\"{x} / {y} = {rezultat}\")\n",
    "    \n",
    "    \n",
    "for _ in range(3):\n",
    "    try:\n",
    "        delilnik()\n",
    "    except:\n",
    "        print(\"Prišlo je do napake\")\n",
    "    print()"
   ]
  },
  {
   "cell_type": "markdown",
   "id": "ff297bb9",
   "metadata": {},
   "source": [
    "<div class=\"alert alert-block alert-info\">\n",
    "<h1><b>Naloga: </b></h1>\n",
    "Napišite funkcion <b>fakulteta</b>, ki uporabnika vpraša naj vnese cifro in izračuna fakulteto te cifre.\n",
    "    Fakulteta se izračuna: 3! = 3*2*1 = 6\n",
    "\n",
    "Funkcija naj vrne rezultat. Oziroma, če uporabik ni vnesel številke naj funkcija ponovno zahteva od uporabnika vnos cifre.\n",
    "</div>\n",
    "\n",
    "\n",
    "```python\n",
    "INPUT:\n",
    "print(fakulteta())\n",
    "\n",
    "OUTPUT:\n",
    "Vnesi cifro: a\n",
    "To ni bila številka.\n",
    "Vnesi cifro: b\n",
    "To ni bila številka.\n",
    "Vnesi cifro: 3\n",
    "6\n",
    "```"
   ]
  },
  {
   "cell_type": "code",
   "execution_count": 16,
   "id": "d63d3c91",
   "metadata": {},
   "outputs": [
    {
     "name": "stdout",
     "output_type": "stream",
     "text": [
      "Vnesi številko: a\n",
      "Prišlo je do napake\n",
      "Vnesi številko: a\n",
      "Prišlo je do napake\n",
      "Vnesi številko: a\n",
      "Prišlo je do napake\n",
      "Vnesi številko: a\n",
      "Prišlo je do napake\n",
      "Vnesi številko: a\n",
      "Prišlo je do napake\n",
      "Vnesi številko: a\n",
      "Prišlo je do napake\n",
      "Vnesi številko: a\n",
      "Prišlo je do napake\n",
      "Vnesi številko: a\n",
      "Prišlo je do napake\n",
      "Vnesi številko: a\n",
      "Prišlo je do napake\n",
      "Vnesi številko: a\n",
      "Prišlo je do napake\n",
      "Vnesi številko: 10\n"
     ]
    },
    {
     "data": {
      "text/plain": [
       "3628800"
      ]
     },
     "execution_count": 16,
     "metadata": {},
     "output_type": "execute_result"
    }
   ],
   "source": [
    "def fakulteta():\n",
    "    while True:\n",
    "        try:\n",
    "            num = int(input(\"Vnesi številko: \"))\n",
    "            rezultat = 1\n",
    "\n",
    "            for i in range(1, num+1):\n",
    "                rezultat *= i\n",
    "\n",
    "            return rezultat\n",
    "        except:\n",
    "            print(\"Prišlo je do napake\")\n",
    "\n",
    "fakulteta()"
   ]
  },
  {
   "cell_type": "code",
   "execution_count": null,
   "id": "c5d4e206",
   "metadata": {},
   "outputs": [],
   "source": []
  },
  {
   "cell_type": "code",
   "execution_count": 23,
   "id": "0c5079bb",
   "metadata": {},
   "outputs": [
    {
     "name": "stdout",
     "output_type": "stream",
     "text": [
      "Vnesi prvo številko: 1\n",
      "Vnesi drugo številko: 0\n",
      "Druga številka ne sme biti 0!\n",
      "division by zero\n",
      "<class 'ZeroDivisionError'>\n",
      "\n",
      "Vnesi prvo številko: a7\n",
      "Vnesi številko!\n",
      "invalid literal for int() with base 10: 'a7'\n",
      "<class 'ValueError'>\n",
      "\n",
      "Vnesi prvo številko: 1\n",
      "Vnesi drugo številko: 1\n",
      "1/1 = 1.0\n",
      "\n"
     ]
    }
   ],
   "source": [
    "def delilnik():\n",
    "    try:\n",
    "        x = int(input(\"Vnesi prvo številko: \"))\n",
    "        y = int(input(\"Vnesi drugo številko: \"))\n",
    "        rezultat = x/y\n",
    "        print(f\"{x}/{y} = {rezultat}\")\n",
    "    except ZeroDivisionError as e:\n",
    "        print(\"Druga številka ne sme biti 0!\")\n",
    "        print(e)\n",
    "        print(type(e))\n",
    "    except ValueError as e:\n",
    "        print(\"Vnesi številko!\")\n",
    "        print(e)\n",
    "        print(type(e))\n",
    "    except Exception as e:\n",
    "        print(\"Nekaj je narobe\")\n",
    "        \n",
    "for _ in range(3):\n",
    "    delilnik()\n",
    "    print()"
   ]
  },
  {
   "cell_type": "code",
   "execution_count": null,
   "id": "63d38cc5",
   "metadata": {},
   "outputs": [],
   "source": []
  },
  {
   "cell_type": "code",
   "execution_count": 27,
   "id": "de080c08",
   "metadata": {},
   "outputs": [
    {
     "name": "stdout",
     "output_type": "stream",
     "text": [
      "Vnesi prvo pozitivno številko: -2\n",
      "Vnešeno mora biti pozitivno število\n",
      "\n",
      "Vnesi prvo pozitivno številko: 2\n",
      "Vnesi drugo pozitivno številko: -4\n",
      "Vnešeno mora biti pozitivno število\n",
      "\n",
      "Vnesi prvo pozitivno številko: 1\n",
      "Vnesi drugo pozitivno številko: 1\n",
      "1 / 1 = 1.0\n",
      "\n"
     ]
    }
   ],
   "source": [
    "def delilnik_pozitivnih_st():\n",
    "    try:\n",
    "        x = int(input(\"Vnesi prvo pozitivno številko: \"))\n",
    "        if x < 0:\n",
    "            raise ValueError(\"Vnešeno mora biti pozitivno število\")\n",
    "\n",
    "        y = int(input(\"Vnesi drugo pozitivno številko: \"))\n",
    "        if y < 0:\n",
    "            raise ValueError(\"Vnešeno mora biti pozitivno število\")\n",
    "\n",
    "        rezultat = x / y\n",
    "        print(f\"{x} / {y} = {rezultat}\")\n",
    "    except ValueError as e:\n",
    "        print(e)\n",
    "    \n",
    "for _ in range(3):\n",
    "    delilnik_pozitivnih_st()\n",
    "    print()"
   ]
  },
  {
   "cell_type": "markdown",
   "id": "cfff6937",
   "metadata": {},
   "source": [
    "<div class=\"alert alert-block alert-info\">\n",
    "<h1><b>Naloga: </b></h1>\n",
    "Napišite funkcijo <b>is_palindrom</b>, ki od uporabnika zahteva naj vnese besedo. Funkcija naj vrne True, če je beseda palindrom, v nasprotnem primeru False.\n",
    "    \n",
    "Če uporabnik vnese samo številke naj funkcija rais-a ValueError.\n",
    "    \n",
    "Program naj 3x zažene funkcijo. V kolikor pride do ValueError naj se izpiše sporočilo in izvajanje programa nadaljuje.\n",
    "    \n",
    "Za pomoč uporabite \"string\".isnumeric()\n",
    "</div>\n",
    "\n",
    "\n",
    "```python\n",
    "OUTPUT:\n",
    "Vnesi besedo: Ananas\n",
    "The word is NOT palindrom.\n",
    "\n",
    "Vnesi besedo: 1234\n",
    "Vnešene so bile samo številke.\n",
    "\n",
    "Vnesi besedo: racecar\n",
    "The word is PALINDROM\n",
    "```"
   ]
  },
  {
   "cell_type": "code",
   "execution_count": 34,
   "id": "fc881c7f",
   "metadata": {},
   "outputs": [
    {
     "name": "stdout",
     "output_type": "stream",
     "text": [
      "Vnesi besedo: 12345\n",
      "Vneše so bile samo številke.\n",
      "\n",
      "Vnesi besedo: ananas\n",
      "a s\n",
      "Beseda NI palindrom\n",
      "\n",
      "Vnesi besedo: racecar\n",
      "r r\n",
      "a a\n",
      "c c\n",
      "e e\n",
      "c c\n",
      "a a\n",
      "r r\n",
      "Beseda JE palindrom\n",
      "\n"
     ]
    }
   ],
   "source": [
    "def is_palindrom():\n",
    "    beseda = input(\"Vnesi besedo: \")\n",
    "    if beseda.isnumeric():\n",
    "        raise ValueError(\"Vneše so bile samo številke.\")\n",
    "        \n",
    "    st_crk = len(beseda)\n",
    "    for i in range(st_crk):\n",
    "        print(beseda[i], beseda[-1*i -1])\n",
    "        if not(beseda[i] == beseda[-1*i -1]):\n",
    "            return False\n",
    "        \n",
    "    return True\n",
    "\n",
    "\n",
    "for _ in range(3):\n",
    "    try:\n",
    "        if is_palindrom():\n",
    "            print(\"Beseda JE palindrom\")\n",
    "        else:\n",
    "            print(\"Beseda NI palindrom\")\n",
    "    except ValueError as e:\n",
    "        print(e)\n",
    "    print()"
   ]
  },
  {
   "cell_type": "markdown",
   "id": "d0f9205d",
   "metadata": {},
   "source": [
    "# Else and finally statement"
   ]
  },
  {
   "cell_type": "code",
   "execution_count": 36,
   "id": "616201ff",
   "metadata": {},
   "outputs": [
    {
     "name": "stdout",
     "output_type": "stream",
     "text": [
      "Vnesi številko: 2\n",
      "This is else statement\n",
      "End...\n"
     ]
    }
   ],
   "source": [
    "try:\n",
    "    x = int(input(\"Vnesi številko: \"))\n",
    "except ValueError:\n",
    "    print(\"To ni številka\")\n",
    "else:\n",
    "    print(\"This is else statement\")\n",
    "    \n",
    "print(\"End...\")"
   ]
  },
  {
   "cell_type": "code",
   "execution_count": 40,
   "id": "04140522",
   "metadata": {},
   "outputs": [
    {
     "name": "stdout",
     "output_type": "stream",
     "text": [
      "Vnesi številko: 0\n",
      "0\n",
      "Finally statement\n"
     ]
    },
    {
     "ename": "ZeroDivisionError",
     "evalue": "division by zero",
     "output_type": "error",
     "traceback": [
      "\u001b[0;31m---------------------------------------------------------------------------\u001b[0m",
      "\u001b[0;31mZeroDivisionError\u001b[0m                         Traceback (most recent call last)",
      "\u001b[0;32m<ipython-input-40-f422ca6c540b>\u001b[0m in \u001b[0;36m<module>\u001b[0;34m\u001b[0m\n\u001b[1;32m      2\u001b[0m     \u001b[0mx\u001b[0m \u001b[0;34m=\u001b[0m \u001b[0mint\u001b[0m\u001b[0;34m(\u001b[0m\u001b[0minput\u001b[0m\u001b[0;34m(\u001b[0m\u001b[0;34m\"Vnesi številko: \"\u001b[0m\u001b[0;34m)\u001b[0m\u001b[0;34m)\u001b[0m\u001b[0;34m\u001b[0m\u001b[0;34m\u001b[0m\u001b[0m\n\u001b[1;32m      3\u001b[0m     \u001b[0mprint\u001b[0m\u001b[0;34m(\u001b[0m\u001b[0mx\u001b[0m\u001b[0;34m)\u001b[0m\u001b[0;34m\u001b[0m\u001b[0;34m\u001b[0m\u001b[0m\n\u001b[0;32m----> 4\u001b[0;31m     \u001b[0;36m4\u001b[0m\u001b[0;34m/\u001b[0m\u001b[0mx\u001b[0m\u001b[0;34m\u001b[0m\u001b[0;34m\u001b[0m\u001b[0m\n\u001b[0m\u001b[1;32m      5\u001b[0m \u001b[0;32mexcept\u001b[0m \u001b[0mValueError\u001b[0m\u001b[0;34m:\u001b[0m\u001b[0;34m\u001b[0m\u001b[0;34m\u001b[0m\u001b[0m\n\u001b[1;32m      6\u001b[0m     \u001b[0mprint\u001b[0m\u001b[0;34m(\u001b[0m\u001b[0;34m\"To ni številka\"\u001b[0m\u001b[0;34m)\u001b[0m\u001b[0;34m\u001b[0m\u001b[0;34m\u001b[0m\u001b[0m\n",
      "\u001b[0;31mZeroDivisionError\u001b[0m: division by zero"
     ]
    }
   ],
   "source": [
    "try:\n",
    "    x = int(input(\"Vnesi številko: \"))\n",
    "    print(x)\n",
    "    4/x\n",
    "except ValueError:\n",
    "    print(\"To ni številka\")\n",
    "finally:\n",
    "    print(\"Finally statement\")\n",
    "    \n",
    "print(\"Nadaljevanje programa\")"
   ]
  },
  {
   "cell_type": "markdown",
   "id": "0e43ca83",
   "metadata": {},
   "source": [
    "# Writing our own exception"
   ]
  },
  {
   "cell_type": "code",
   "execution_count": 41,
   "id": "0c45880f",
   "metadata": {},
   "outputs": [
    {
     "name": "stdout",
     "output_type": "stream",
     "text": [
      "We raised MojError\n"
     ]
    }
   ],
   "source": [
    "class MojError(Exception):\n",
    "    pass\n",
    "\n",
    "try:\n",
    "    raise MojError(\"We raised MojError\")\n",
    "except MojError as e:\n",
    "    print(e)"
   ]
  },
  {
   "cell_type": "code",
   "execution_count": null,
   "id": "7064af06",
   "metadata": {},
   "outputs": [],
   "source": []
  },
  {
   "cell_type": "code",
   "execution_count": 42,
   "id": "c271603e",
   "metadata": {},
   "outputs": [
    {
     "name": "stdout",
     "output_type": "stream",
     "text": [
      "Enter a number: 1\n",
      "Ugibana vrednost je premajhna!\n",
      "Enter a number: 20\n",
      "Ugibana vrednost je previsoka!\n",
      "Enter a number: 15\n",
      "Ugibana vrednost je previsoka!\n",
      "Enter a number: 7\n",
      "Ugibana vrednost je premajhna!\n",
      "Enter a number: 9\n",
      "Ugibana vrednost je premajhna!\n",
      "Enter a number: 10\n",
      "Pravilno\n"
     ]
    }
   ],
   "source": [
    "class VrednostPremajhna(Exception):\n",
    "    pass\n",
    "\n",
    "class VrednostPrevisoka(Exception):\n",
    "    pass\n",
    "\n",
    "\n",
    "number = 10\n",
    "\n",
    "while True:\n",
    "    try:\n",
    "        i_num = int(input(\"Enter a number: \"))\n",
    "        if i_num < number:\n",
    "            raise VrednostPremajhna\n",
    "        elif i_num > number:\n",
    "            raise VrednostPrevisoka\n",
    "        elif i_num == number:\n",
    "            print(\"Pravilno\")\n",
    "            break\n",
    "    except VrednostPremajhna:\n",
    "        print(\"Ugibana vrednost je premajhna!\")\n",
    "    except VrednostPrevisoka:\n",
    "        print(\"Ugibana vrednost je previsoka!\")"
   ]
  },
  {
   "cell_type": "code",
   "execution_count": null,
   "id": "9a00323c",
   "metadata": {},
   "outputs": [],
   "source": []
  },
  {
   "cell_type": "markdown",
   "id": "fbadf5de",
   "metadata": {},
   "source": [
    "<div class=\"alert alert-block alert-info\">\n",
    "<h1><b>Naloga: </b></h1>\n",
    "S pomočjo <b>math</b> modula izračunajte logaritem 144 z osnovo 12.\n",
    "    \n",
    "https://docs.python.org/3/library/math.html\n",
    "</div>"
   ]
  },
  {
   "cell_type": "code",
   "execution_count": 43,
   "id": "8a76aefe",
   "metadata": {},
   "outputs": [
    {
     "name": "stdout",
     "output_type": "stream",
     "text": [
      "2.0\n"
     ]
    }
   ],
   "source": [
    "import math\n",
    "\n",
    "print(math.log(144, 12))"
   ]
  },
  {
   "cell_type": "markdown",
   "id": "c1633273",
   "metadata": {},
   "source": [
    "<div class=\"alert alert-block alert-info\">\n",
    "<h1><b>Naloga: </b></h1>\n",
    "Ustvarite nov modul imenovan <b>naloga1.py</b>. Znotraj modula napišite funkcijo <b>pretvornik(x, mode)</b>, ki spreminja radiane v stopinje in obratno.\n",
    "    \n",
    "Funkcija naj sprejme 2 argumenta. Prvi argument je vrednost, katero želimo pretvoriti. Drugi argument, imenovan <b>mode</b> pa nam pove v katero enoto spreminjamo.\n",
    "    \n",
    "    mode = \"deg2rad\" pomeni, da spreminjamo iz stopinj v radiane\n",
    "    mode = \"rad2deg\" pomeni, da spreminjamo iz radianov v stopinje\n",
    "    \n",
    "Za pomoč pri pretvarjanju uporabite <b>math</b> modul.\n",
    "    \n",
    "Zravn modula prilepite podano skripto <b>test.py</b> in to skripto zaženite.\n",
    "</div>"
   ]
  },
  {
   "cell_type": "markdown",
   "id": "24497a82",
   "metadata": {},
   "source": [
    "# http://collabedit.com/72677"
   ]
  },
  {
   "cell_type": "code",
   "execution_count": null,
   "id": "0447ec05",
   "metadata": {},
   "outputs": [],
   "source": []
  },
  {
   "cell_type": "code",
   "execution_count": null,
   "id": "a02abcaa",
   "metadata": {},
   "outputs": [],
   "source": []
  },
  {
   "cell_type": "markdown",
   "id": "0f179605",
   "metadata": {},
   "source": [
    "# Delo z datotekam"
   ]
  },
  {
   "cell_type": "code",
   "execution_count": 45,
   "id": "7f0cf914",
   "metadata": {},
   "outputs": [],
   "source": [
    "try:\n",
    "    f = open(\"test.txt\", \"rt\")\n",
    "    # file operation\n",
    "finally:\n",
    "    f.close()"
   ]
  },
  {
   "cell_type": "code",
   "execution_count": null,
   "id": "6c031777",
   "metadata": {},
   "outputs": [],
   "source": [
    "with open(\"test.txt\", \"r\") as f:\n",
    "    # file operations\n",
    "    pass"
   ]
  },
  {
   "cell_type": "markdown",
   "id": "c6fc4063",
   "metadata": {},
   "source": [
    "# Branje datotek"
   ]
  },
  {
   "cell_type": "code",
   "execution_count": 47,
   "id": "a6cb40a1",
   "metadata": {},
   "outputs": [
    {
     "name": "stdout",
     "output_type": "stream",
     "text": [
      "Hello world!\n",
      "This is my file.\n",
      "<class 'str'>\n"
     ]
    }
   ],
   "source": [
    "with open(\"test2.txt\", \"r\") as f:\n",
    "    file_data = f.read()\n",
    "    print(file_data)\n",
    "    print(type(file_data))"
   ]
  },
  {
   "cell_type": "code",
   "execution_count": 51,
   "id": "e66d8051",
   "metadata": {},
   "outputs": [
    {
     "name": "stdout",
     "output_type": "stream",
     "text": [
      "He\n",
      "llo wo\n",
      "rld!\n",
      "This is my file.\n",
      "\n"
     ]
    }
   ],
   "source": [
    "with open(\"test2.txt\", \"r\") as f:\n",
    "    file_data = f.read(2)\n",
    "    print(file_data)\n",
    "    file_data = f.read(6)\n",
    "    print(file_data)\n",
    "    file_data = f.read()\n",
    "    print(file_data)\n",
    "    file_data = f.read()\n",
    "    print(file_data)"
   ]
  },
  {
   "cell_type": "code",
   "execution_count": 56,
   "id": "4d369e09",
   "metadata": {},
   "outputs": [
    {
     "name": "stdout",
     "output_type": "stream",
     "text": [
      "0\n",
      "Hell\n",
      "4\n",
      "Hell\n"
     ]
    }
   ],
   "source": [
    "with open(\"test2.txt\", \"r\") as f:\n",
    "    print(f.tell())\n",
    "    print(f.read(4))\n",
    "    print(f.tell())\n",
    "    f.seek(0)\n",
    "    print(f.read(4))"
   ]
  },
  {
   "cell_type": "code",
   "execution_count": 61,
   "id": "6d5e883b",
   "metadata": {},
   "outputs": [
    {
     "name": "stdout",
     "output_type": "stream",
     "text": [
      "Hello world!\n",
      "This is my file."
     ]
    }
   ],
   "source": [
    "with open(\"test2.txt\", \"r\") as f:\n",
    "    for line in f:\n",
    "        print(line, end=\"\")"
   ]
  },
  {
   "cell_type": "code",
   "execution_count": 63,
   "id": "833034fb",
   "metadata": {},
   "outputs": [
    {
     "name": "stdout",
     "output_type": "stream",
     "text": [
      "Hello world!\n",
      "\n",
      "This is my file.\n"
     ]
    }
   ],
   "source": [
    "with open(\"test2.txt\", \"r\") as f:\n",
    "    print(f.readline())\n",
    "    print(f.readline())"
   ]
  },
  {
   "cell_type": "code",
   "execution_count": 65,
   "id": "01ec6f5c",
   "metadata": {},
   "outputs": [
    {
     "name": "stdout",
     "output_type": "stream",
     "text": [
      "['Hello world!\\n', 'This is my file.']\n",
      "This is my file.\n"
     ]
    }
   ],
   "source": [
    "with open(\"test2.txt\", \"r\") as f:\n",
    "    list_of_lines = f.readlines()\n",
    "    print(list_of_lines)\n",
    "    print(list_of_lines[-1])"
   ]
  },
  {
   "cell_type": "markdown",
   "id": "7a61489f",
   "metadata": {},
   "source": [
    "<div class=\"alert alert-block alert-info\">\n",
    "<h1><b>Naloga: </b></h1>\n",
    "Napišite funkcijo, ki kot parameter <b>x</b> premje neko celo število.\n",
    "Funkcija naj izpiše zadnjih x vrstic v datoteki <i>naloga2.txt</i>.\n",
    "</div>\n",
    "\n",
    "\n",
    "```python\n",
    "INPUT:\n",
    "funkcija(3)\n",
    "\n",
    "OUTPUT:\n",
    "line 7\n",
    "line 8\n",
    "line 9\n",
    "```"
   ]
  },
  {
   "cell_type": "markdown",
   "id": "3ce8c3fd",
   "metadata": {},
   "source": [
    "# http://collabedit.com/72677"
   ]
  },
  {
   "cell_type": "code",
   "execution_count": 70,
   "id": "d0d02a89",
   "metadata": {},
   "outputs": [
    {
     "name": "stdout",
     "output_type": "stream",
     "text": [
      "['line 6\\n', 'line 7\\n', 'line 8\\n', 'line 9']\n",
      "line 6\n",
      "line 7\n",
      "line 8\n",
      "line 9\n"
     ]
    }
   ],
   "source": [
    "def funkcija(x):\n",
    "    with open(\"naloga2.txt\", \"r\") as f:\n",
    "        data = f.readlines()\n",
    "        print(data[-1*x:])\n",
    "        for line in data[-x:]:\n",
    "            print(line.strip())\n",
    "        \n",
    "funkcija(4)"
   ]
  },
  {
   "cell_type": "code",
   "execution_count": null,
   "id": "a43982e1",
   "metadata": {},
   "outputs": [],
   "source": []
  },
  {
   "cell_type": "markdown",
   "id": "8c52302b",
   "metadata": {},
   "source": [
    "## pisanje v datoteko"
   ]
  },
  {
   "cell_type": "code",
   "execution_count": 74,
   "id": "7708b71c",
   "metadata": {},
   "outputs": [],
   "source": [
    "with open(\"test3.txt\", \"w\") as f:\n",
    "    f.write(\"my first line\\n\")\n",
    "    f.write(\"my second line\")"
   ]
  },
  {
   "cell_type": "code",
   "execution_count": null,
   "id": "5d7c57e8",
   "metadata": {},
   "outputs": [],
   "source": [
    "with open(\"test3.txt\", \"a\") as f:\n",
    "    f.write(\"\\nWe are adding another line\")"
   ]
  },
  {
   "cell_type": "code",
   "execution_count": null,
   "id": "3a41c459",
   "metadata": {},
   "outputs": [],
   "source": []
  },
  {
   "cell_type": "code",
   "execution_count": null,
   "id": "93cfe3f8",
   "metadata": {},
   "outputs": [],
   "source": []
  },
  {
   "cell_type": "code",
   "execution_count": null,
   "id": "da80dbb4",
   "metadata": {},
   "outputs": [],
   "source": []
  },
  {
   "cell_type": "code",
   "execution_count": null,
   "id": "a952e54c",
   "metadata": {},
   "outputs": [],
   "source": []
  }
 ],
 "metadata": {
  "kernelspec": {
   "display_name": "Python 3",
   "language": "python",
   "name": "python3"
  },
  "language_info": {
   "codemirror_mode": {
    "name": "ipython",
    "version": 3
   },
   "file_extension": ".py",
   "mimetype": "text/x-python",
   "name": "python",
   "nbconvert_exporter": "python",
   "pygments_lexer": "ipython3",
   "version": "3.8.8"
  }
 },
 "nbformat": 4,
 "nbformat_minor": 5
}
