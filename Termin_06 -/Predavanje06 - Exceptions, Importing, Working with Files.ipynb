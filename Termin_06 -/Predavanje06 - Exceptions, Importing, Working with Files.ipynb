{
 "cells": [
  {
   "cell_type": "markdown",
   "metadata": {},
   "source": [
    "# Errors\n",
    "\n",
    "Error's so napake v programu, ki nam ponavadi zaustavijo izvajanje programa.\n",
    "\n",
    "Klasificiramo jih v:\n",
    "* Snytax errors\n",
    "* Runtime errors\n",
    "* Logical errors"
   ]
  },
  {
   "cell_type": "markdown",
   "metadata": {},
   "source": [
    "## Syntax errors\n",
    "\n",
    "Syntax errors so napake pri uporabi Python jezika.\n",
    "\n",
    "Python bo našel te napake med parsanjem našega programa. Če najde takšno napako bo exit-u brez, da bi pognal kodo.\n",
    "\n",
    "Najbolj pogoste Syntax napake so:\n",
    "* izpustitev keyword\n",
    "* uporaba keyword na napačnem mestu\n",
    "* izpustitev simbolov, kot je :\n",
    "* napačno črkovanje\n",
    "* napačen indentation\n"
   ]
  },
  {
   "cell_type": "code",
   "execution_count": 1,
   "metadata": {},
   "outputs": [
    {
     "ename": "SyntaxError",
     "evalue": "invalid syntax (<ipython-input-1-8b32d31d1203>, line 2)",
     "output_type": "error",
     "traceback": [
      "\u001b[0;36m  File \u001b[0;32m\"<ipython-input-1-8b32d31d1203>\"\u001b[0;36m, line \u001b[0;32m2\u001b[0m\n\u001b[0;31m    myfunction(x, y):\u001b[0m\n\u001b[0m                     ^\u001b[0m\n\u001b[0;31mSyntaxError\u001b[0m\u001b[0;31m:\u001b[0m invalid syntax\n"
     ]
    }
   ],
   "source": [
    "# Primer: manjka keyword def\n",
    "myfunction(x, y):\n",
    "    return x + y"
   ]
  },
  {
   "cell_type": "code",
   "execution_count": 2,
   "metadata": {},
   "outputs": [
    {
     "ename": "SyntaxError",
     "evalue": "invalid syntax (<ipython-input-2-429811f9164b>, line 1)",
     "output_type": "error",
     "traceback": [
      "\u001b[0;36m  File \u001b[0;32m\"<ipython-input-2-429811f9164b>\"\u001b[0;36m, line \u001b[0;32m1\u001b[0m\n\u001b[0;31m    else:\u001b[0m\n\u001b[0m    ^\u001b[0m\n\u001b[0;31mSyntaxError\u001b[0m\u001b[0;31m:\u001b[0m invalid syntax\n"
     ]
    }
   ],
   "source": [
    "else:\n",
    "    print(\"Hello!\")\n"
   ]
  },
  {
   "cell_type": "code",
   "execution_count": 3,
   "metadata": {},
   "outputs": [
    {
     "ename": "SyntaxError",
     "evalue": "invalid syntax (<ipython-input-3-2bfd10af2cba>, line 2)",
     "output_type": "error",
     "traceback": [
      "\u001b[0;36m  File \u001b[0;32m\"<ipython-input-3-2bfd10af2cba>\"\u001b[0;36m, line \u001b[0;32m2\u001b[0m\n\u001b[0;31m    if mark >= 50\u001b[0m\n\u001b[0m                 ^\u001b[0m\n\u001b[0;31mSyntaxError\u001b[0m\u001b[0;31m:\u001b[0m invalid syntax\n"
     ]
    }
   ],
   "source": [
    "# Primer: manjka :\n",
    "if mark >= 50\n",
    "    print(\"You passed!\")\n"
   ]
  },
  {
   "cell_type": "code",
   "execution_count": 4,
   "metadata": {},
   "outputs": [
    {
     "ename": "SyntaxError",
     "evalue": "invalid syntax (<ipython-input-4-1cca186d8b5e>, line 4)",
     "output_type": "error",
     "traceback": [
      "\u001b[0;36m  File \u001b[0;32m\"<ipython-input-4-1cca186d8b5e>\"\u001b[0;36m, line \u001b[0;32m4\u001b[0m\n\u001b[0;31m    esle:\u001b[0m\n\u001b[0m         ^\u001b[0m\n\u001b[0;31mSyntaxError\u001b[0m\u001b[0;31m:\u001b[0m invalid syntax\n"
     ]
    }
   ],
   "source": [
    "# Primer: napačno črkovanje \"else\"\n",
    "if arriving:\n",
    "    print(\"Hi!\")\n",
    "esle:\n",
    "    print(\"Bye!\")"
   ]
  },
  {
   "cell_type": "code",
   "execution_count": 5,
   "metadata": {},
   "outputs": [
    {
     "ename": "IndentationError",
     "evalue": "expected an indented block (<ipython-input-5-2009e1311970>, line 3)",
     "output_type": "error",
     "traceback": [
      "\u001b[0;36m  File \u001b[0;32m\"<ipython-input-5-2009e1311970>\"\u001b[0;36m, line \u001b[0;32m3\u001b[0m\n\u001b[0;31m    print(\"Flag is set!\")\u001b[0m\n\u001b[0m    ^\u001b[0m\n\u001b[0;31mIndentationError\u001b[0m\u001b[0;31m:\u001b[0m expected an indented block\n"
     ]
    }
   ],
   "source": [
    "# Primer: napačen indentation\n",
    "if flag:\n",
    "print(\"Flag is set!\")"
   ]
  },
  {
   "cell_type": "markdown",
   "metadata": {},
   "source": [
    "## Runtime errors\n",
    "\n",
    "Primer runtime errors:\n",
    "* Deljenje z 0\n",
    "* Dostopanje do elementov, ki ne obstajajo\n",
    "* Dostopanje do datotek, ki ne obstajajo\n",
    "\n",
    "> * division by zero\n",
    "* performing an operation on incompatible types\n",
    "* using an identifier which has not been defined\n",
    "* accessing a list element, dictionary value or object attribute which doesn’t exist\n",
    "* trying to access a file which doesn’t exist"
   ]
  },
  {
   "cell_type": "code",
   "execution_count": 6,
   "metadata": {},
   "outputs": [
    {
     "ename": "ZeroDivisionError",
     "evalue": "division by zero",
     "output_type": "error",
     "traceback": [
      "\u001b[0;31m---------------------------------------------------------------------------\u001b[0m",
      "\u001b[0;31mZeroDivisionError\u001b[0m                         Traceback (most recent call last)",
      "\u001b[0;32m<ipython-input-6-eca1cc1fcdbe>\u001b[0m in \u001b[0;36m<module>\u001b[0;34m\u001b[0m\n\u001b[1;32m      1\u001b[0m \u001b[0;31m# Primer: deljenje z 0\u001b[0m\u001b[0;34m\u001b[0m\u001b[0;34m\u001b[0m\u001b[0;34m\u001b[0m\u001b[0m\n\u001b[0;32m----> 2\u001b[0;31m \u001b[0;36m1\u001b[0m \u001b[0;34m/\u001b[0m \u001b[0;36m0\u001b[0m\u001b[0;34m\u001b[0m\u001b[0;34m\u001b[0m\u001b[0m\n\u001b[0m",
      "\u001b[0;31mZeroDivisionError\u001b[0m: division by zero"
     ]
    }
   ],
   "source": [
    "# Primer: deljenje z 0\n",
    "1 / 0"
   ]
  },
  {
   "cell_type": "markdown",
   "metadata": {},
   "source": [
    "## Logical errors\n",
    "\n",
    "Logične napake nam povzročijo napačne rezultate. Program je lahko sintaksično pravilno zapisan ampak nam ne bo vrnil iskanega rezultata.\n",
    "\n",
    "Primeri\n",
    "* Uporabna napačne spremenljivke\n",
    "* napačna indentacija\n",
    "* uporaba celoštevilskega deljenja in ne navadnega deljenja\n",
    "\n",
    ">Logical errors are the most difficult to fix. They occur when the program runs without crashing, but produces an incorrect result. The error is caused by a mistake in the program’s logic. You won’t get an error message, because no syntax or runtime error has occurred. You will have to find the problem on your own by reviewing all the relevant parts of your code – although some tools can flag suspicious code which looks like it could cause unexpected behaviour.\n"
   ]
  },
  {
   "cell_type": "markdown",
   "metadata": {},
   "source": [
    "## The try and except statements\n",
    "\n",
    "Da obvladujemo morebitne napake uporabljamo try-except:"
   ]
  },
  {
   "cell_type": "code",
   "execution_count": 52,
   "metadata": {},
   "outputs": [
    {
     "name": "stdout",
     "output_type": "stream",
     "text": [
      "Vnesi prvo številko: 11\n",
      "Vnesi drugo številko: 0\n"
     ]
    },
    {
     "ename": "ZeroDivisionError",
     "evalue": "division by zero",
     "output_type": "error",
     "traceback": [
      "\u001b[0;31m---------------------------------------------------------------------------\u001b[0m",
      "\u001b[0;31mZeroDivisionError\u001b[0m                         Traceback (most recent call last)",
      "\u001b[0;32m<ipython-input-52-b27c485d0cd1>\u001b[0m in \u001b[0;36m<module>\u001b[0;34m\u001b[0m\n\u001b[1;32m      2\u001b[0m     \u001b[0mx\u001b[0m \u001b[0;34m=\u001b[0m \u001b[0mint\u001b[0m\u001b[0;34m(\u001b[0m\u001b[0minput\u001b[0m\u001b[0;34m(\u001b[0m\u001b[0;34m\"Vnesi prvo številko: \"\u001b[0m\u001b[0;34m)\u001b[0m\u001b[0;34m)\u001b[0m\u001b[0;34m\u001b[0m\u001b[0;34m\u001b[0m\u001b[0m\n\u001b[1;32m      3\u001b[0m     \u001b[0my\u001b[0m \u001b[0;34m=\u001b[0m \u001b[0mint\u001b[0m\u001b[0;34m(\u001b[0m\u001b[0minput\u001b[0m\u001b[0;34m(\u001b[0m\u001b[0;34m\"Vnesi drugo številko: \"\u001b[0m\u001b[0;34m)\u001b[0m\u001b[0;34m)\u001b[0m\u001b[0;34m\u001b[0m\u001b[0;34m\u001b[0m\u001b[0m\n\u001b[0;32m----> 4\u001b[0;31m     \u001b[0mrezultat\u001b[0m \u001b[0;34m=\u001b[0m \u001b[0mx\u001b[0m \u001b[0;34m/\u001b[0m \u001b[0my\u001b[0m\u001b[0;34m\u001b[0m\u001b[0;34m\u001b[0m\u001b[0m\n\u001b[0m\u001b[1;32m      5\u001b[0m     \u001b[0mprint\u001b[0m\u001b[0;34m(\u001b[0m\u001b[0;34mf\"{x}/{y} = {rezultat}\"\u001b[0m\u001b[0;34m)\u001b[0m\u001b[0;34m\u001b[0m\u001b[0;34m\u001b[0m\u001b[0m\n\u001b[1;32m      6\u001b[0m     \u001b[0mprint\u001b[0m\u001b[0;34m(\u001b[0m\u001b[0;34m)\u001b[0m\u001b[0;34m\u001b[0m\u001b[0;34m\u001b[0m\u001b[0m\n",
      "\u001b[0;31mZeroDivisionError\u001b[0m: division by zero"
     ]
    }
   ],
   "source": [
    "for _ in range(3):\n",
    "    x = int(input(\"Vnesi prvo številko: \"))\n",
    "    y = int(input(\"Vnesi drugo številko: \"))\n",
    "    rezultat = x / y\n",
    "    print(f\"{x}/{y} = {rezultat}\")\n",
    "    print()"
   ]
  },
  {
   "cell_type": "markdown",
   "metadata": {},
   "source": [
    "Ko se zgodi napaka, Python preveri ali se naša koda nahaja znotraj **try** bloka. Če se ne nahaja, potem bomo dobili error in izvajanje programa se bo ustavilo.\n",
    "\n",
    "Če se nahaja znotraj try-except blocka, se bo izvedla koda znotraj **except** bloka in program bo nadaljeval z izvajanjem."
   ]
  },
  {
   "cell_type": "code",
   "execution_count": 53,
   "metadata": {},
   "outputs": [
    {
     "name": "stdout",
     "output_type": "stream",
     "text": [
      "Vnesi prvo številko: 1\n",
      "Vnesi drugo številko: 0\n",
      "Prislo je do napake!\n",
      "\n",
      "Vnesi prvo številko: s\n",
      "Prislo je do napake!\n",
      "\n",
      "Vnesi prvo številko: 1\n",
      "Vnesi drugo številko: 20\n",
      "1/20 = 0.05\n",
      "\n"
     ]
    }
   ],
   "source": [
    "for _ in range(3):\n",
    "    try:\n",
    "        x = int(input(\"Vnesi prvo številko: \"))\n",
    "        y = int(input(\"Vnesi drugo številko: \"))\n",
    "        rezultat = x / y\n",
    "        print(f\"{x}/{y} = {rezultat}\")\n",
    "    except:\n",
    "        print(\"Prislo je do napake!\")\n",
    "    print()"
   ]
  },
  {
   "cell_type": "code",
   "execution_count": null,
   "metadata": {},
   "outputs": [],
   "source": []
  },
  {
   "cell_type": "markdown",
   "metadata": {},
   "source": [
    "Če se je napaka zgodila znotraj funkcije in znotraj funkcije ni bila ujeta (ni bila znotraj try-except bloka), potem gre Python preverjati ali se klic te funkcije nahaja znotraj try-except bloka."
   ]
  },
  {
   "cell_type": "code",
   "execution_count": 27,
   "metadata": {},
   "outputs": [
    {
     "name": "stdout",
     "output_type": "stream",
     "text": [
      "Vnesi prvo številko: 1\n",
      "Vnesi drugo številko: 0\n",
      "Prislo je do napake!\n",
      "Vnesi prvo številko: 1\n",
      "Vnesi drugo številko: 2\n",
      "1/2 = 0.5\n",
      "Vnesi prvo številko: 1\n",
      "Vnesi drugo številko: 10\n",
      "1/10 = 0.1\n"
     ]
    }
   ],
   "source": [
    "def delilnik():\n",
    "    try:\n",
    "        x = int(input(\"Vnesi prvo številko: \"))\n",
    "        y = int(input(\"Vnesi drugo številko: \"))\n",
    "        rezultat = x / y\n",
    "        print(f\"{x}/{y} = {rezultat}\")\n",
    "    except:\n",
    "        print(\"Prislo je do napake!\")\n",
    "    \n",
    "for _ in range(3):\n",
    "    delilnik()\n",
    "    print()"
   ]
  },
  {
   "cell_type": "code",
   "execution_count": 28,
   "metadata": {},
   "outputs": [
    {
     "name": "stdout",
     "output_type": "stream",
     "text": [
      "Vnesi prvo številko: 1\n",
      "Vnesi drugo številko: 2\n",
      "1/2 = 0.5\n",
      "Vnesi prvo številko: 1\n",
      "Vnesi drugo številko: 0\n",
      "Prislo je do napake!\n",
      "Vnesi prvo številko: 10\n",
      "Vnesi drugo številko: 20\n",
      "10/20 = 0.5\n"
     ]
    }
   ],
   "source": [
    "def delilnik():\n",
    "    x = int(input(\"Vnesi prvo številko: \"))\n",
    "    y = int(input(\"Vnesi drugo številko: \"))\n",
    "    rezultat = x / y\n",
    "    print(f\"{x}/{y} = {rezultat}\")\n",
    "    \n",
    "for _ in range(3):\n",
    "    try:\n",
    "        delilnik()\n",
    "    except:\n",
    "        print(\"Prislo je do napake!\")\n",
    "    print()"
   ]
  },
  {
   "cell_type": "code",
   "execution_count": null,
   "metadata": {},
   "outputs": [],
   "source": []
  },
  {
   "cell_type": "markdown",
   "metadata": {},
   "source": [
    "<div class=\"alert alert-block alert-info\">\n",
    "<h1><b>Naloga: </b></h1>\n",
    "Napišite funkcion <b>fakulteta</b>, ki uporabnika vpraša naj vnese cifro in izračuna fakulteto te cifre.\n",
    "    Fakulteta se izračuna: 3! = 3*2*1 = 6\n",
    "\n",
    "Funkcija naj vrne rezultat. Oziroma, če uporabik ni vnesel številke naj funkcija ponovno zahteva od uporabnika vnos cifre.\n",
    "</div>\n",
    "\n",
    "\n",
    "```python\n",
    "INPUT:\n",
    "print(fakulteta())\n",
    "\n",
    "OUTPUT:\n",
    "Vnesi cifro: a\n",
    "To ni bila številka.\n",
    "Vnesi cifro: b\n",
    "To ni bila številka.\n",
    "Vnesi cifro: 3\n",
    "6\n",
    "```"
   ]
  },
  {
   "cell_type": "code",
   "execution_count": null,
   "metadata": {},
   "outputs": [],
   "source": []
  },
  {
   "cell_type": "markdown",
   "metadata": {},
   "source": [
    "## Handling an error as an object"
   ]
  },
  {
   "cell_type": "code",
   "execution_count": 46,
   "metadata": {},
   "outputs": [
    {
     "name": "stdout",
     "output_type": "stream",
     "text": [
      "Vnesi prvo številko: 1\n",
      "Vnesi drugo številko: 0\n",
      "Prislo je do napake!\n",
      "Vnesi prvo številko: a\n",
      "Prislo je do napake!\n",
      "Vnesi prvo številko: 1\n",
      "Vnesi drugo številko: 20\n",
      "1/20 = 0.05\n"
     ]
    }
   ],
   "source": [
    "def delilnik():\n",
    "    try:\n",
    "        x = int(input(\"Vnesi prvo številko: \"))\n",
    "        y = int(input(\"Vnesi drugo številko: \"))\n",
    "        rezultat = x / y\n",
    "        print(f\"{x}/{y} = {rezultat}\")\n",
    "    except:\n",
    "        print(\"Prislo je do napake!\")\n",
    "    \n",
    "for _ in range(3):\n",
    "    delilnik()\n",
    "    print()"
   ]
  },
  {
   "cell_type": "markdown",
   "metadata": {},
   "source": [
    "Tako kot sedaj hendlamo error ne dobimo nobenega podatka o errorju nazaj. Ne vemo zakaj je prišlo do napake in do kakšne napake je prišlo."
   ]
  },
  {
   "cell_type": "code",
   "execution_count": 48,
   "metadata": {},
   "outputs": [
    {
     "name": "stdout",
     "output_type": "stream",
     "text": [
      "Vnesi prvo številko: 1\n",
      "Vnesi drugo številko: 20\n",
      "1/20 = 0.05\n",
      "Vnesi prvo številko: a\n",
      "Prislo je do napake!\n",
      "<class 'ValueError'>\n",
      "invalid literal for int() with base 10: 'a'\n",
      "Vnesi prvo številko: 1\n",
      "Vnesi drugo številko: 0\n",
      "Prislo je do napake!\n",
      "<class 'ZeroDivisionError'>\n",
      "division by zero\n"
     ]
    }
   ],
   "source": [
    "def delilnik():\n",
    "    try:\n",
    "        x = int(input(\"Vnesi prvo številko: \"))\n",
    "        y = int(input(\"Vnesi drugo številko: \"))\n",
    "        rezultat = x / y\n",
    "        print(f\"{x}/{y} = {rezultat}\")\n",
    "    except Exception as e:\n",
    "        print(\"Prislo je do napake!\")\n",
    "        print(type(e))\n",
    "        print(e)\n",
    "    \n",
    "for _ in range(3):\n",
    "    delilnik()\n",
    "    print()"
   ]
  },
  {
   "cell_type": "markdown",
   "metadata": {},
   "source": [
    "## Handling different errors differently"
   ]
  },
  {
   "cell_type": "code",
   "execution_count": 49,
   "metadata": {},
   "outputs": [
    {
     "name": "stdout",
     "output_type": "stream",
     "text": [
      "Vnesi prvo številko: 1\n",
      "Vnesi drugo številko: 0\n",
      "Prislo je do napake!\n",
      "<class 'ZeroDivisionError'>\n",
      "division by zero\n",
      "Vnesi prvo številko: s\n",
      "Prislo je do napake!\n",
      "<class 'ValueError'>\n",
      "invalid literal for int() with base 10: 's'\n",
      "Vnesi prvo številko: 2\n",
      "Vnesi drugo številko: 23\n",
      "2/23 = 0.08695652173913043\n"
     ]
    }
   ],
   "source": [
    "def delilnik():\n",
    "    try:\n",
    "        x = int(input(\"Vnesi prvo številko: \"))\n",
    "        y = int(input(\"Vnesi drugo številko: \"))\n",
    "        rezultat = x / y\n",
    "        print(f\"{x}/{y} = {rezultat}\")\n",
    "    except Exception as e:\n",
    "        print(\"Prislo je do napake!\")\n",
    "        print(type(e))\n",
    "        print(e)\n",
    "    \n",
    "for _ in range(3):\n",
    "    delilnik()\n",
    "    print()"
   ]
  },
  {
   "cell_type": "markdown",
   "metadata": {},
   "source": [
    "V našem primeru sedaj hendlamo katerikoli **Exception** na enak način.\n",
    "\n",
    "Lahko pa različne errorje hendlamo na različni način.\n",
    "\n",
    "Preprosto dodamo še en except stavek."
   ]
  },
  {
   "cell_type": "code",
   "execution_count": 50,
   "metadata": {},
   "outputs": [
    {
     "name": "stdout",
     "output_type": "stream",
     "text": [
      "Vnesi prvo številko: 0\n",
      "Vnesi drugo številko: 1\n",
      "0/1 = 0.0\n",
      "Vnesi prvo številko: 1\n",
      "Vnesi drugo številko: 0\n",
      "Druga številka ne sme biti 0!\n",
      "<class 'ZeroDivisionError'>\n",
      "division by zero\n",
      "Vnesi prvo številko: a\n",
      "Obe spremenljivki morata biti številki!\n",
      "<class 'ValueError'>\n",
      "invalid literal for int() with base 10: 'a'\n"
     ]
    }
   ],
   "source": [
    "def delilnik():\n",
    "    try:\n",
    "        x = int(input(\"Vnesi prvo številko: \"))\n",
    "        y = int(input(\"Vnesi drugo številko: \"))\n",
    "        rezultat = x / y\n",
    "        print(f\"{x}/{y} = {rezultat}\")\n",
    "    except ValueError as e:\n",
    "        print(\"Obe spremenljivki morata biti številki!\")\n",
    "        print(type(e))\n",
    "        print(e)\n",
    "    except ZeroDivisionError as e:\n",
    "        print(\"Druga številka ne sme biti 0!\")\n",
    "        print(type(e))\n",
    "        print(e)\n",
    "    \n",
    "for _ in range(3):\n",
    "    delilnik()\n",
    "    print()"
   ]
  },
  {
   "cell_type": "markdown",
   "metadata": {},
   "source": [
    "V primeru napake bo Python preveril vsak `except` od vrha navzdol, če se tipa napaki ujemata. Če se napaka ne ujema z nobenim `except` potem bo program crashnu.\n",
    "\n",
    "Če se ujemata bo pa `except` pohendlu error. `Except` pohendla errorje tega razreda in vse, ki dedujejo iz tega razreda.\n",
    "> except clause that mentions a particular class, that clause also handles any exception classes derived from that class (but not exception classes from which it is derived).\n"
   ]
  },
  {
   "cell_type": "markdown",
   "metadata": {},
   "source": [
    "(https://docs.python.org/3/library/exceptions.html)\n",
    "Se pravi, če damo kot prvi `except` `except Exception` bomo z njim prestregl vse, ker vsi dedujejo iz tega classa.\n",
    "\n",
    "BaseException\n",
    "* SystemExit\n",
    "* KeyboardInterrupt\n",
    "* GeneratorExit\n",
    "* Exception\n",
    "* * StopIteration\n",
    "* * StopAsyncIteration\n",
    "* * ArithmeticError\n",
    "* * * FloatingPointError\n",
    "* * * OverflowError\n",
    "* * * ZeroDivisionError\n",
    "* * AssertionError\n",
    "* * AttributeError\n",
    "* * BufferError\n",
    "* * EOFError\n",
    "* * ImportError\n",
    "* * * ModuleNotFoundError\n",
    "* * LookupError\n",
    "* * * IndexError\n",
    "* * * KeyError\n",
    "* * MemoryError\n",
    "* * NameError\n",
    "* * * UnboundLocalError\n",
    "* * OSError\n",
    "* * * BlockingIOError\n",
    "* * * ChildProcessError\n",
    "* * * ConnectionError\n",
    "* * * * BrokenPipeError\n",
    "* * * * ConnectionAbortedError\n",
    "* * * * ConnectionRefusedError\n",
    "* * * * ConnectionResetError\n",
    "* * * FileExistsError\n",
    "* * * FileNotFoundError\n",
    "* * * InterruptedError\n",
    "* * * IsADirectoryError\n",
    "* * * NotADirectoryError\n",
    "* * * PermissionError\n",
    "* * * ProcessLookupError\n",
    "* * * TimeoutError\n",
    "* * ReferenceError\n",
    "* * RuntimeError\n",
    "* * * NotImplementedError\n",
    "* * * RecursionError\n",
    "* * SyntaxError\n",
    "* * * IndentationError\n",
    "* * * * TabError\n",
    "* * SystemError\n",
    "* * TypeError\n",
    "* * ValueError\n",
    "* * * UnicodeError\n",
    "* * * * UnicodeDecodeError\n",
    "* * * * UnicodeEncodeError\n",
    "* * * * UnicodeTranslateError\n",
    "* * Warning\n",
    "* * * DeprecationWarning\n",
    "* * * PendingDeprecationWarning\n",
    "* * * RuntimeWarning\n",
    "* * * SyntaxWarning\n",
    "* * * UserWarning\n",
    "* * * FutureWarning\n",
    "* * * ImportWarning\n",
    "* * * UnicodeWarning\n",
    "* * * BytesWarning\n",
    "* * * ResourceWarning"
   ]
  },
  {
   "cell_type": "code",
   "execution_count": 51,
   "metadata": {},
   "outputs": [
    {
     "name": "stdout",
     "output_type": "stream",
     "text": [
      "Vnesi prvo številko: 1\n",
      "Vnesi drugo številko: 2\n",
      "1/2 = 0.5\n",
      "Vnesi prvo številko: a\n",
      "Zmeraj ta prestreže.\n",
      "Vnesi prvo številko: 1\n",
      "Vnesi drugo številko: 0\n",
      "Zmeraj ta prestreže.\n",
      "(<class 'Exception'>, <class 'BaseException'>, <class 'object'>)\n",
      "(<class 'ValueError'>, <class 'Exception'>, <class 'BaseException'>, <class 'object'>)\n",
      "(<class 'ZeroDivisionError'>, <class 'ArithmeticError'>, <class 'Exception'>, <class 'BaseException'>, <class 'object'>)\n"
     ]
    }
   ],
   "source": [
    "import inspect\n",
    "\n",
    "def delilnik():\n",
    "    try:\n",
    "        x = int(input(\"Vnesi prvo številko: \"))\n",
    "        y = int(input(\"Vnesi drugo številko: \"))\n",
    "        rezultat = x / y\n",
    "        print(f\"{x}/{y} = {rezultat}\")\n",
    "    except Exception:\n",
    "        print(\"Zmeraj ta prestreže.\")\n",
    "    except ValueError:\n",
    "        print(\"Obe spremeljivki morata biti številki.\")\n",
    "    except ZeroDivisionError:\n",
    "        print(\"Deljitelj ne sme biti 0.\")\n",
    "    \n",
    "for _ in range(3):\n",
    "    delilnik()\n",
    "    print()\n",
    "    \n",
    "\n",
    "print(inspect.getmro(Exception))\n",
    "print(inspect.getmro(ValueError))\n",
    "print(inspect.getmro(ZeroDivisionError))"
   ]
  },
  {
   "cell_type": "code",
   "execution_count": null,
   "metadata": {},
   "outputs": [],
   "source": []
  },
  {
   "cell_type": "markdown",
   "metadata": {},
   "source": [
    "## Raising exceptions\n",
    "\n",
    "Napake lahko rais-amo tudi sami."
   ]
  },
  {
   "cell_type": "code",
   "execution_count": 57,
   "metadata": {},
   "outputs": [
    {
     "name": "stdout",
     "output_type": "stream",
     "text": [
      "Vnesi prvo številko: -2\n",
      "vnešena mora biti pozitivna številka\n",
      "\n",
      "Vnesi prvo številko: 1\n",
      "Vnesi drugo številko: 0\n",
      "Deljitelj ne sme biti 0.\n",
      "\n",
      "Vnesi prvo številko: 2\n",
      "Vnesi drugo številko: -1\n",
      "vnešena mora biti pozitivna številka\n",
      "\n"
     ]
    }
   ],
   "source": [
    "def delilnik_pozitivnih_st():\n",
    "    try:\n",
    "        x = int(input(\"Vnesi prvo številko: \"))\n",
    "        if x < 0:\n",
    "            raise ValueError(\"Vnešena mora biti pozitivna številka\")\n",
    "            \n",
    "        y = int(input(\"Vnesi drugo številko: \"))\n",
    "        if y < 0:\n",
    "            raise ValueError(\"vnešena mora biti pozitivna številka\")\n",
    "        \n",
    "        rezultat = x / y\n",
    "        print(f\"{x}/{y} = {rezultat}\")\n",
    "    except ValueError as e:\n",
    "        print(e)\n",
    "    except ZeroDivisionError:\n",
    "        print(\"Deljitelj ne sme biti 0.\")\n",
    "    \n",
    "for _ in range(3):\n",
    "    delilnik_pozitivnih_st()\n",
    "    print()\n",
    "    \n"
   ]
  },
  {
   "cell_type": "markdown",
   "metadata": {},
   "source": [
    "V tem primeru lahko uporabnik vnese negativno številko in ne bomo dobili errora pri pretvorbi:\n",
    "\n",
    "```python\n",
    "int(input(\"Vnesi število: \"))\n",
    "```\n",
    "\n",
    "Zato smo sami dodali preverjanje ali je številka pozitivna ali ne. V primeru, ko številka ni pozitivna smo sami vzdignili **ValueError** z našim specifičnim sporočilom."
   ]
  },
  {
   "cell_type": "code",
   "execution_count": null,
   "metadata": {},
   "outputs": [],
   "source": []
  },
  {
   "cell_type": "markdown",
   "metadata": {},
   "source": [
    "<div class=\"alert alert-block alert-info\">\n",
    "<h1><b>Naloga: </b></h1>\n",
    "Napišite funkcijo <b>is_palindrom</b>, ki od uporabnika zahteva naj vnese besedo. Funkcija naj vrne True, če je beseda palindrom, v nasprotnem primeru False.\n",
    "    \n",
    "Če uporabnik vnese samo številke naj funkcija rais-a ValueError.\n",
    "    \n",
    "Program naj 3x zažene funkcijo. V kolikor pride do ValueError naj se izpiše sporočilo in izvajanje programa nadaljuje.\n",
    "</div>\n",
    "\n",
    "\n",
    "```python\n",
    "OUTPUT:\n",
    "Vnesi besedo: Ananas\n",
    "The word is NOT palindrom.\n",
    "\n",
    "Vnesi besedo: 1234\n",
    "Vnešene so bile samo številke.\n",
    "\n",
    "Vnesi besedo: racecar\n",
    "The word is PALINDROM\n",
    "```"
   ]
  },
  {
   "cell_type": "code",
   "execution_count": null,
   "metadata": {},
   "outputs": [],
   "source": []
  },
  {
   "cell_type": "markdown",
   "metadata": {},
   "source": [
    "## The else and finally statements\n",
    "Skupaj z try-except lahko uporabimo tudi `else` in `finally`.\n",
    "\n",
    "`else` se bo izvršil, če try ne vrže napake."
   ]
  },
  {
   "cell_type": "code",
   "execution_count": 69,
   "metadata": {},
   "outputs": [
    {
     "name": "stdout",
     "output_type": "stream",
     "text": [
      "Vnesi številko: 1\n",
      "Else statement.\n",
      "End\n"
     ]
    }
   ],
   "source": [
    "try:\n",
    "    x = int(input(\"Vnesi številko: \"))\n",
    "except ValueError:\n",
    "    print(\"To ni številka.\")\n",
    "else:\n",
    "    print(\"Else statement.\")\n",
    "    \n",
    "print(\"End\")"
   ]
  },
  {
   "cell_type": "markdown",
   "metadata": {},
   "source": [
    "`finally` se izvede po koncu try-except ne glede ali se je napaka ni zgodila, ali se je napaka zgodila in je bila pohendlana, ali se je napaka zgodila in ni bila pohendlana.\n",
    "\n",
    "Ponavadi se uporabi za čiščenje kode."
   ]
  },
  {
   "cell_type": "code",
   "execution_count": 73,
   "metadata": {},
   "outputs": [
    {
     "name": "stdout",
     "output_type": "stream",
     "text": [
      "Vnesi številko: 0\n",
      "Finally statement.\n"
     ]
    },
    {
     "ename": "ZeroDivisionError",
     "evalue": "division by zero",
     "output_type": "error",
     "traceback": [
      "\u001b[0;31m---------------------------------------------------------------------------\u001b[0m",
      "\u001b[0;31mZeroDivisionError\u001b[0m                         Traceback (most recent call last)",
      "\u001b[0;32m<ipython-input-73-488d342bace8>\u001b[0m in \u001b[0;36m<module>\u001b[0;34m\u001b[0m\n\u001b[1;32m      1\u001b[0m \u001b[0;32mtry\u001b[0m\u001b[0;34m:\u001b[0m\u001b[0;34m\u001b[0m\u001b[0;34m\u001b[0m\u001b[0m\n\u001b[1;32m      2\u001b[0m     \u001b[0mx\u001b[0m \u001b[0;34m=\u001b[0m \u001b[0mint\u001b[0m\u001b[0;34m(\u001b[0m\u001b[0minput\u001b[0m\u001b[0;34m(\u001b[0m\u001b[0;34m\"Vnesi številko: \"\u001b[0m\u001b[0;34m)\u001b[0m\u001b[0;34m)\u001b[0m\u001b[0;34m\u001b[0m\u001b[0;34m\u001b[0m\u001b[0m\n\u001b[0;32m----> 3\u001b[0;31m     \u001b[0mprint\u001b[0m\u001b[0;34m(\u001b[0m\u001b[0;36m5\u001b[0m\u001b[0;34m/\u001b[0m\u001b[0mx\u001b[0m\u001b[0;34m)\u001b[0m \u001b[0;31m# da simuliramo deljenje z 0, ki bo naš nepohendlan error\u001b[0m\u001b[0;34m\u001b[0m\u001b[0;34m\u001b[0m\u001b[0m\n\u001b[0m\u001b[1;32m      4\u001b[0m \u001b[0;32mexcept\u001b[0m \u001b[0mValueError\u001b[0m\u001b[0;34m:\u001b[0m\u001b[0;34m\u001b[0m\u001b[0;34m\u001b[0m\u001b[0m\n\u001b[1;32m      5\u001b[0m     \u001b[0mprint\u001b[0m\u001b[0;34m(\u001b[0m\u001b[0;34m\"To ni številka.\"\u001b[0m\u001b[0;34m)\u001b[0m\u001b[0;34m\u001b[0m\u001b[0;34m\u001b[0m\u001b[0m\n",
      "\u001b[0;31mZeroDivisionError\u001b[0m: division by zero"
     ]
    }
   ],
   "source": [
    "try:\n",
    "    x = int(input(\"Vnesi številko: \"))\n",
    "    print(5/x) # da simuliramo deljenje z 0, ki bo naš nepohendlan error\n",
    "except ValueError:\n",
    "    print(\"To ni številka.\")\n",
    "finally:\n",
    "    print(\"Finally statement.\")\n",
    "    \n",
    "print(\"End\")"
   ]
  },
  {
   "cell_type": "markdown",
   "metadata": {},
   "source": [
    "## Writting our own Exceptions\n",
    "\n",
    "Napišemo lahko tudi naše Exceptions."
   ]
  },
  {
   "cell_type": "markdown",
   "metadata": {},
   "source": [
    "Svoje exceptione lahko ustvarimo tako, da ustvarimo nov razred, ki deduje iz nekega Exception razreda. Ponavadi je to kar direktno iz osnovnega **Exception** razreda."
   ]
  },
  {
   "cell_type": "code",
   "execution_count": 76,
   "metadata": {},
   "outputs": [
    {
     "name": "stdout",
     "output_type": "stream",
     "text": [
      "We raised MojError\n"
     ]
    }
   ],
   "source": [
    "class MojError(Exception):\n",
    "    pass\n",
    "\n",
    "try:\n",
    "    raise MojError(\"We raised MojError\")\n",
    "except MojError as e:\n",
    "    print(e)"
   ]
  },
  {
   "cell_type": "markdown",
   "metadata": {},
   "source": [
    "Ko pišemo bolj obsežen python program, je dobra praksa, da vse naše errorje zapišemo v posebno datoteko. Ponavadi je datoteka poimenovana **errors.py** ali **exceptions.py**. "
   ]
  },
  {
   "cell_type": "code",
   "execution_count": null,
   "metadata": {},
   "outputs": [],
   "source": []
  },
  {
   "cell_type": "markdown",
   "metadata": {},
   "source": [
    "Če si pogledamo na bolj konkretnem primeru:\n",
    "\n",
    "Ustvarili bomo program, kjer uporabnik ugiba neko določeno celo številko. Ustvarili bomo dva naša error classa. Enega v primeru, če je ugibana številka prevelika, drugega v primeru, da je ugibana številka premajhna."
   ]
  },
  {
   "cell_type": "code",
   "execution_count": 80,
   "metadata": {},
   "outputs": [
    {
     "name": "stdout",
     "output_type": "stream",
     "text": [
      "Enter a number: 1\n",
      "Ugibana vrednost je premajhna!\n",
      "\n",
      "Enter a number: 20\n",
      "Ugibana vrednost je previsoka!\n",
      "\n",
      "Enter a number: 10\n",
      "PRAVILNO.\n"
     ]
    }
   ],
   "source": [
    "class VrednostPremajhna(Exception):\n",
    "    pass\n",
    "\n",
    "\n",
    "class VrednostPrevisoka(Exception):\n",
    "    pass\n",
    "\n",
    "\n",
    "number = 10 # številka katero ugibamo\n",
    "\n",
    "while True:\n",
    "    try:\n",
    "        i_num = int(input(\"Enter a number: \"))\n",
    "        if i_num < number:\n",
    "            raise VrednostPremajhna\n",
    "        elif i_num > number:\n",
    "            raise VrednostPrevisoka\n",
    "        break\n",
    "    except VrednostPremajhna:\n",
    "        print(\"Ugibana vrednost je premajhna!\")\n",
    "        print()\n",
    "    except VrednostPrevisoka:\n",
    "        print(\"Ugibana vrednost je previsoka!\")\n",
    "        print()\n",
    "\n",
    "print(\"PRAVILNO.\")"
   ]
  },
  {
   "cell_type": "code",
   "execution_count": null,
   "metadata": {},
   "outputs": [],
   "source": []
  },
  {
   "cell_type": "markdown",
   "metadata": {},
   "source": [
    "# Importing"
   ]
  },
  {
   "cell_type": "markdown",
   "metadata": {},
   "source": [
    "`Importing` je način, kako lahko kodo iz ene datoteke/modula/package uporabimo v drugi datoteki/modulu.\n",
    "* **module** je datoteka, ki ima končnico *.py*\n",
    "* **package** je direktorij, ki vsebuje vsaj en modul"
   ]
  },
  {
   "cell_type": "markdown",
   "metadata": {},
   "source": [
    "Da importiramo modul uporabimo besedo `import`.\n",
    "\n",
    "```python\n",
    "import moj_modul\n",
    "```"
   ]
  },
  {
   "cell_type": "markdown",
   "metadata": {},
   "source": [
    "Python sedaj prvo preveri ali se *moj_modul* nahaja v **sys.modules** - to je dictionary, ki hrani imena vseh importiranih modulov.\n",
    "\n",
    "Če ne najde imena, bo nadaljeval iskanje v `built-in` modulih. To so moduli, ki pridejo skupaj z inštalacijo Pythona. Najdemo jih lahko v Python Standardni Knjižnjici - https://docs.python.org/3/library/ .\n",
    "\n",
    "Če ponovno ne najde našega modula, Python nadaljuje iskanje v **sys.path** - to je list direktorijev med katerimi je tudi naša mapa.\n",
    "\n",
    "Če Python ne najde imena vrže **ModuleNotFoundError**. V primeru, da najde ime, lahko modul sedaj uporabljamo v naši datoteki.\n"
   ]
  },
  {
   "cell_type": "markdown",
   "metadata": {},
   "source": [
    "--------"
   ]
  },
  {
   "cell_type": "markdown",
   "metadata": {},
   "source": [
    "Za začetek bomo importiral **math** built-in modul, ki nam omogoča naprednejše matematične operacije, kot je uporaba korenjenja.\n",
    "\n",
    "math documentation - https://docs.python.org/3/library/math.html\n",
    "\n",
    "Da pogledamo katere spremenljivke / funkcije / objekti / itd. so dostopni v naši kodi lahko uporabimo **dir()** funkcijo.\n",
    "\n",
    "dir documentation - https://docs.python.org/3/library/functions.html#dir"
   ]
  },
  {
   "cell_type": "code",
   "execution_count": null,
   "metadata": {},
   "outputs": [],
   "source": [
    "import math\n",
    "\n",
    "moja_spremenljivka = 5\n",
    "print(dir())\n",
    "\n",
    "print(moja_spremenljivka)\n",
    "print(math)"
   ]
  },
  {
   "cell_type": "markdown",
   "metadata": {},
   "source": [
    "S pomočjo **dir(...)** lahko tudi preverimo katere spremenljivke, funkcije, itd. se nahajajo v importiranih modulih."
   ]
  },
  {
   "cell_type": "code",
   "execution_count": null,
   "metadata": {},
   "outputs": [],
   "source": [
    "import math\n",
    "\n",
    "moja_spremenljivka = 5\n",
    "print(dir(math))"
   ]
  },
  {
   "cell_type": "markdown",
   "metadata": {},
   "source": [
    "Funkcijo, spremenljivko, atribut v math modulu uporabimo na sledeč način:"
   ]
  },
  {
   "cell_type": "code",
   "execution_count": null,
   "metadata": {},
   "outputs": [],
   "source": [
    "import math\n",
    "\n",
    "print(math.sqrt(36))"
   ]
  },
  {
   "cell_type": "markdown",
   "metadata": {},
   "source": [
    "<div class=\"alert alert-block alert-info\">\n",
    "<h1><b>Naloga: </b></h1>\n",
    "S pomočjo <b>math</b> modula izračunajte logaritem 144 z osnovo 12.\n",
    "    \n",
    "https://docs.python.org/3/library/math.html\n",
    "</div>"
   ]
  },
  {
   "cell_type": "code",
   "execution_count": null,
   "metadata": {},
   "outputs": [],
   "source": []
  },
  {
   "cell_type": "code",
   "execution_count": null,
   "metadata": {},
   "outputs": [],
   "source": []
  },
  {
   "cell_type": "markdown",
   "metadata": {},
   "source": [
    "# Importing our own module"
   ]
  },
  {
   "cell_type": "markdown",
   "metadata": {},
   "source": [
    "Ustvarimo novo datoteko **moj_modul.py** zraven naše datoteke s kodo.\n",
    "\n",
    "<pre>\n",
    "├── _python_tecaj/\n",
    "    ├── moj_modul.py\n",
    "    └── skripta.py\n",
    "\n",
    "</pre>"
   ]
  },
  {
   "cell_type": "markdown",
   "metadata": {},
   "source": [
    "### moj_modul.py"
   ]
  },
  {
   "cell_type": "code",
   "execution_count": null,
   "metadata": {},
   "outputs": [],
   "source": [
    "class Pes():\n",
    "    def __init__(self, ime):\n",
    "        self.ime = ime\n",
    "\n",
    "\n",
    "def sestevalnik(a, b):\n",
    "    return a+b\n",
    "\n",
    "\n",
    "moja_spremenljivka = 100"
   ]
  },
  {
   "cell_type": "markdown",
   "metadata": {},
   "source": [
    "### skripta.py"
   ]
  },
  {
   "cell_type": "code",
   "execution_count": null,
   "metadata": {},
   "outputs": [],
   "source": [
    "import moj_modul\n",
    "\n",
    "print(dir())\n",
    "\n",
    "fido = moj_modul.Pes(\"fido\")\n",
    "print(fido.ime)\n",
    "\n",
    "print(moj_modul.sestevalnik(5, 6))\n",
    "\n",
    "print(moj_modul.moja_spremenljivka)"
   ]
  },
  {
   "cell_type": "markdown",
   "metadata": {},
   "source": [
    "# Načini importiranja"
   ]
  },
  {
   "cell_type": "markdown",
   "metadata": {},
   "source": [
    "Importiramo lahko celotno kodo ali pa samo specifične funkcije, spremenljivke, objekte, itd."
   ]
  },
  {
   "cell_type": "markdown",
   "metadata": {},
   "source": [
    "Celotno kodo importiramo na sledeči način:\n",
    "\n",
    "```python\n",
    "import moj_modul\n",
    "```"
   ]
  },
  {
   "cell_type": "code",
   "execution_count": null,
   "metadata": {},
   "outputs": [],
   "source": [
    "import moj_modul\n",
    "\n",
    "print(dir())\n",
    "\n",
    "fido = moj_modul.Pes(\"fido\")\n",
    "print(fido.ime)\n",
    "\n",
    "print(moj_modul.sestevalnik(5, 6))\n",
    "\n",
    "print(moj_modul.moja_spremenljivka)"
   ]
  },
  {
   "cell_type": "markdown",
   "metadata": {},
   "source": [
    "Specifične zadeve importiramo na sledeč način:\n",
    "\n",
    "```python\n",
    "from moj_modul import moja_spremenljivka\n",
    "```"
   ]
  },
  {
   "cell_type": "code",
   "execution_count": null,
   "metadata": {},
   "outputs": [],
   "source": [
    "from moj_modul import moja_spremenljivka\n",
    "\n",
    "print(dir())\n",
    "print(moja_spremenljivka)"
   ]
  },
  {
   "cell_type": "code",
   "execution_count": null,
   "metadata": {},
   "outputs": [],
   "source": [
    "from moj_modul import sestevalnik\n",
    "\n",
    "print(dir())\n",
    "print(sestevalnik(5,6))"
   ]
  },
  {
   "cell_type": "code",
   "execution_count": null,
   "metadata": {},
   "outputs": [],
   "source": [
    "from moj_modul import Pes\n",
    "\n",
    "print(dir())\n",
    "fido = Pes(\"fido\")\n",
    "print(fido.ime)"
   ]
  },
  {
   "cell_type": "markdown",
   "metadata": {},
   "source": [
    "-------"
   ]
  },
  {
   "cell_type": "markdown",
   "metadata": {},
   "source": [
    "Importirane zadeve se lahko shrani tudi pod drugim imenom\n",
    "\n",
    "```python\n",
    "import moj_modul as mm\n",
    "```"
   ]
  },
  {
   "cell_type": "code",
   "execution_count": null,
   "metadata": {},
   "outputs": [],
   "source": [
    "import moj_modul as mm\n",
    "\n",
    "print(dir())\n",
    "\n",
    "fido = mm.Pes(\"fido\")\n",
    "print(fido.ime)\n",
    "\n",
    "print(mm.sestevalnik(5, 6))\n",
    "\n",
    "print(mm.moja_spremenljivka)"
   ]
  },
  {
   "cell_type": "code",
   "execution_count": null,
   "metadata": {},
   "outputs": [],
   "source": [
    "from moj_modul import sestevalnik as sum_\n",
    "\n",
    "print(dir())\n",
    "print(sum_(5,6))"
   ]
  },
  {
   "cell_type": "markdown",
   "metadata": {},
   "source": [
    "Za premikanje med direktoriji med importiranjem se uporabja \" **.** \" .\n",
    "\n",
    "```python\n",
    "from package1.module1 import function1\n",
    "```"
   ]
  },
  {
   "cell_type": "markdown",
   "metadata": {},
   "source": [
    "<pre>\n",
    "├── _python_tecaj/\n",
    "    ├── moj_modul.py\n",
    "    ├── skripta.py\n",
    "    └── _moj_package/\n",
    "        ├── modul2.py\n",
    "\n",
    "</pre>"
   ]
  },
  {
   "cell_type": "markdown",
   "metadata": {},
   "source": [
    "### modul2.py"
   ]
  },
  {
   "cell_type": "code",
   "execution_count": null,
   "metadata": {},
   "outputs": [],
   "source": [
    "def potenciranje(x, y):\n",
    "    return x**y\n",
    "\n",
    "spremenljivka2 = 200"
   ]
  },
  {
   "cell_type": "markdown",
   "metadata": {},
   "source": [
    "### skripty.py"
   ]
  },
  {
   "cell_type": "code",
   "execution_count": null,
   "metadata": {},
   "outputs": [],
   "source": [
    "from moj_package import modul2\n",
    "\n",
    "print(dir())\n",
    "\n",
    "print(modul2.potenciranje(2,3))"
   ]
  },
  {
   "cell_type": "code",
   "execution_count": null,
   "metadata": {},
   "outputs": [],
   "source": [
    "from moj_package.modul2 import potenciranje\n",
    "\n",
    "print(dir())\n",
    "\n",
    "print(potenciranje(2,3))"
   ]
  },
  {
   "cell_type": "markdown",
   "metadata": {},
   "source": [
    "<div class=\"alert alert-block alert-info\">\n",
    "<h1><b>Naloga: </b></h1>\n",
    "Ustvarite nov modul imenovan <b>naloga1.py</b>. Znotraj modula napišite funkcijo <b>pretvornik(x, mode)</b>, ki spreminja radiane v stopinje in obratno.\n",
    "    \n",
    "Funkcija naj sprejme 2 argumenta. Prvi argument je vrednost, katero želimo pretvoriti. Drugi argument, imenovan <b>mode</b> pa nam pove v katero enoto spreminjamo.\n",
    "    \n",
    "    mode = \"deg2rad\" pomeni, da spreminjamo iz stopinj v radiane\n",
    "    mode = \"rad2deg\" pomeni, da spreminjamo iz radianov v stopinje\n",
    "    \n",
    "Za pomoč pri pretvarjanju uporabite <b>math</b> modul.\n",
    "    \n",
    "Zravn modula prilepite podano skripto <b>test.py</b> in to skripto zaženite.\n",
    "</div>"
   ]
  },
  {
   "cell_type": "code",
   "execution_count": null,
   "metadata": {},
   "outputs": [],
   "source": [
    "# test.py\n",
    "import naloga1\n",
    "\n",
    "\n",
    "r1 = naloga1.pretvornik(180, mode=\"deg2rad\")\n",
    "if float(str(r1)[:4]) == 3.14:\n",
    "    print(\"Rešitev pravilna.\")\n",
    "else:\n",
    "    print(\"Nekaj je narobe.\")\n",
    "\n",
    "r2 = naloga1.pretvornik(360, mode=\"deg2rad\")\n",
    "if float(str(r2)[:4]) == 6.28:\n",
    "    print(\"Rešitev pravilna.\")\n",
    "else:\n",
    "    print(\"Nekaj je narobe.\")\n",
    "\n",
    "r3 = naloga1.pretvornik(1.5707963267948966, mode=\"rad2deg\")\n",
    "if r3 == 90:\n",
    "    print(\"Rešitev pravilna.\")\n",
    "else:\n",
    "    print(\"Nekaj je narobe.\")\n",
    "\n",
    "r3 = naloga1.pretvornik(4.71238898038469, mode=\"rad2deg\")\n",
    "if r3 == 270:\n",
    "    print(\"Rešitev pravilna.\")\n",
    "else:\n",
    "    print(\"Nekaj je narobe.\")"
   ]
  },
  {
   "cell_type": "code",
   "execution_count": 1,
   "metadata": {},
   "outputs": [],
   "source": [
    "# Rešitev\n"
   ]
  },
  {
   "cell_type": "code",
   "execution_count": null,
   "metadata": {},
   "outputs": [],
   "source": []
  },
  {
   "cell_type": "markdown",
   "metadata": {},
   "source": [
    "Importiramo lahko tudi vse naenkrat z uporabo \" \\* \" vendar se to odsvetuje, saj nevem kaj vse smo importirali in lahko na tak način ponesreči kaj spremenimo."
   ]
  },
  {
   "cell_type": "code",
   "execution_count": null,
   "metadata": {},
   "outputs": [],
   "source": [
    "from math import *\n",
    "\n",
    "print(dir())\n",
    "print(pi)\n",
    "\n",
    "pi = 3\n",
    "print(pi)"
   ]
  },
  {
   "cell_type": "markdown",
   "metadata": {},
   "source": [
    "### \\_\\_name\\_\\_ variable\n",
    "\n",
    "Python ima posebno spremenljivko \\_\\_name\\_\\_. Spremenljivka dobi vrednost, glede na to kako smo zagnali naš modul."
   ]
  },
  {
   "cell_type": "markdown",
   "metadata": {},
   "source": [
    "Če zaženemo naš modul direktno, bo spremenljivka enaka \\_\\_main\\_\\_."
   ]
  },
  {
   "cell_type": "markdown",
   "metadata": {},
   "source": [
    "**m1.py**"
   ]
  },
  {
   "cell_type": "code",
   "execution_count": null,
   "metadata": {},
   "outputs": [],
   "source": [
    "def my_name():\n",
    "    print(__name__)\n",
    "    \n",
    "my_name()"
   ]
  },
  {
   "cell_type": "markdown",
   "metadata": {},
   "source": [
    "To bi delovalo v primeru, ko smo ustvarili svoj modul in vanj sproti zapisali kakšen preprost test naše kode."
   ]
  },
  {
   "cell_type": "markdown",
   "metadata": {},
   "source": [
    "Problem se pojavi, ko moj_modul importiramo, sam se ob importiranju celotna koda v modulu izvede."
   ]
  },
  {
   "cell_type": "code",
   "execution_count": null,
   "metadata": {},
   "outputs": [],
   "source": [
    "import m1\n",
    "\n",
    "print(__name__)\n",
    "print(m1.__name__)"
   ]
  },
  {
   "cell_type": "markdown",
   "metadata": {},
   "source": [
    "Da preprečimo nepotrebno izvajanje funkcij lahko uporabimo \\_\\_name\\_\\_spremenljivko.\n",
    "\n",
    "Naš modul bi sedaj izgledal sledeče:\n",
    "\n",
    "**m1.py**"
   ]
  },
  {
   "cell_type": "code",
   "execution_count": null,
   "metadata": {},
   "outputs": [],
   "source": [
    "def my_name():\n",
    "    print(__name__)\n",
    "    \n",
    "if __name__ == \"__main__\":\n",
    "    my_name()"
   ]
  },
  {
   "cell_type": "markdown",
   "metadata": {},
   "source": [
    "**skripta.py**"
   ]
  },
  {
   "cell_type": "code",
   "execution_count": null,
   "metadata": {},
   "outputs": [],
   "source": [
    "import m1\n",
    "\n",
    "print(__name__)\n",
    "print(m1.__name__)"
   ]
  },
  {
   "cell_type": "code",
   "execution_count": null,
   "metadata": {},
   "outputs": [],
   "source": []
  },
  {
   "cell_type": "code",
   "execution_count": null,
   "metadata": {},
   "outputs": [],
   "source": []
  },
  {
   "cell_type": "code",
   "execution_count": null,
   "metadata": {},
   "outputs": [],
   "source": []
  },
  {
   "cell_type": "markdown",
   "metadata": {},
   "source": [
    "# Delo z datotekami\n"
   ]
  },
  {
   "cell_type": "markdown",
   "metadata": {},
   "source": [
    "## What is a file?\n",
    "\n",
    "\n",
    "Datoteke uporabljamo, da v njih trajno shranimo podatke.\n",
    "\n",
    "V splošnem delo z datotekami poteka na sledeč način:\n",
    "- Odpremo datoteko\n",
    "- Izvedemo operacijo (pisanje podatkov v datoteko, branje podatkov, itd..)\n",
    "- Zapremo datoteko (ter tako sprostimo vire, ki so vezani na upravljanje z datoteko -> spomin, procesorska moč, itd..)\n"
   ]
  },
  {
   "cell_type": "markdown",
   "metadata": {},
   "source": [
    "### Odpiranje datotek\n",
    "\n",
    "Python ima že vgrajeno funkcijo ```open()``` za odpiranje datotek.\n",
    "\n",
    "Funkcija nam vrne ```file object```, imenovan tudi **handle** , s katerim lahko izvajamo operacije nad datoteko."
   ]
  },
  {
   "cell_type": "code",
   "execution_count": 82,
   "metadata": {},
   "outputs": [],
   "source": [
    "f = open(\"test.txt\")    # open file in current directory\n",
    "#f = open(\"C:/Python33/README.txt\")  # specifying full path"
   ]
  },
  {
   "cell_type": "markdown",
   "metadata": {},
   "source": [
    "Dodatno lahko specificiramo v kakšnem načinu želimo odpreti datoteko.\n",
    "\n",
    "Lahko jo odpremo v **text mode**. Ko beremo podatke v tem načinu, dobivamo *strings*. To je *default mode*. Lahko pa datoteko odpremo v **binary mode**, kjer podatke beremo kot *bytes*. Takšen način se uporablja pri branju non-text datotek, kot so slike, itd..\n",
    "\n",
    "Datoteke lahko odpremo v načinu:\n",
    "- **r** - Podatke lahko samo beremo. (default način)\n",
    "- **w** - Podatke lahko pišemo v datoteko. Če datoteka ne obstaja jo ustvarimo. Če datoteka obstaja jo prepišemo (če so bli noter podatki jih izgubimo)\n",
    "- **x** - Ustvarimo datoteko. Če datoteka že obstaja operacija fail-a\n",
    "- **a** - Odpremo datoteko z namenom dodajanja novih podatkov. Če datoteka ne obstaja jo ustvarimo.\n",
    "- **t** - odpremo v \"text mode\" (dafult mode)\n",
    "- **b** - odpremo v \"binary mode\""
   ]
  },
  {
   "cell_type": "code",
   "execution_count": 83,
   "metadata": {},
   "outputs": [],
   "source": [
    "f = open(\"test.txt\")      # equivalent to 'r' or 'rt'"
   ]
  },
  {
   "cell_type": "code",
   "execution_count": 84,
   "metadata": {},
   "outputs": [
    {
     "name": "stdout",
     "output_type": "stream",
     "text": [
      "<class '_io.TextIOWrapper'>\n",
      "<_io.TextIOWrapper name='test.txt' mode='r' encoding='UTF-8'>\n"
     ]
    }
   ],
   "source": [
    "f = open(\"test.txt\",'r')  # read in text mode\n",
    "print(type(f))\n",
    "print(f)"
   ]
  },
  {
   "cell_type": "code",
   "execution_count": 85,
   "metadata": {},
   "outputs": [],
   "source": [
    "f = open(\"test.txt\",'w')  # write in text mode"
   ]
  },
  {
   "cell_type": "markdown",
   "metadata": {},
   "source": [
    "Dodatni lahko specificiramo kateri encoding želimo uporabiti:"
   ]
  },
  {
   "cell_type": "code",
   "execution_count": 97,
   "metadata": {},
   "outputs": [],
   "source": [
    "f = open(\"test.txt\",mode = 'w',encoding = 'utf-8')"
   ]
  },
  {
   "cell_type": "markdown",
   "metadata": {},
   "source": [
    "### Zapiranje datotek\n",
    "\n",
    "Ko končamo z našo operacijo moramo datoteko zapreti, ker tako sprostimo vire, ki so vezani na uporabo datoteke (spomin, procesorska moč, itd..)."
   ]
  },
  {
   "cell_type": "code",
   "execution_count": 95,
   "metadata": {},
   "outputs": [],
   "source": [
    "f = open(\"test.txt\", \"w\")\n",
    "# perform file operations\n",
    "\n",
    "f.close()\n",
    "# če f.close() zakomentiramo, lahko vidimo, da datoteke ne moremo spreminjati, ker jo uporablja nek drug program. (na jupyter to dela)\n",
    "# deluje na Windowsih"
   ]
  },
  {
   "cell_type": "markdown",
   "metadata": {},
   "source": [
    "Tak način upravljanja z datotekami ni najbolj varen. Če smo odprli datoteko in potem med izvajanjem operacije nad datoteko pride do napake, datoteke ne bomo zaprli.\n",
    "\n",
    "Varnejši način bi bil z uporabo **try-finally**."
   ]
  },
  {
   "cell_type": "code",
   "execution_count": 88,
   "metadata": {},
   "outputs": [
    {
     "ename": "ValueError",
     "evalue": "",
     "output_type": "error",
     "traceback": [
      "\u001b[0;31m---------------------------------------------------------------------------\u001b[0m",
      "\u001b[0;31mValueError\u001b[0m                                Traceback (most recent call last)",
      "\u001b[0;32m<ipython-input-88-8a5f5e6cd439>\u001b[0m in \u001b[0;36m<module>\u001b[0;34m\u001b[0m\n\u001b[1;32m      2\u001b[0m     \u001b[0mf\u001b[0m \u001b[0;34m=\u001b[0m \u001b[0mopen\u001b[0m\u001b[0;34m(\u001b[0m\u001b[0;34m\"test.txt\"\u001b[0m\u001b[0;34m,\u001b[0m \u001b[0;34m\"a\"\u001b[0m\u001b[0;34m)\u001b[0m\u001b[0;34m\u001b[0m\u001b[0;34m\u001b[0m\u001b[0m\n\u001b[1;32m      3\u001b[0m     \u001b[0;31m# perform file operations\u001b[0m\u001b[0;34m\u001b[0m\u001b[0;34m\u001b[0m\u001b[0;34m\u001b[0m\u001b[0m\n\u001b[0;32m----> 4\u001b[0;31m     \u001b[0;32mraise\u001b[0m \u001b[0mValueError\u001b[0m\u001b[0;34m\u001b[0m\u001b[0;34m\u001b[0m\u001b[0m\n\u001b[0m\u001b[1;32m      5\u001b[0m \u001b[0;32mfinally\u001b[0m\u001b[0;34m:\u001b[0m\u001b[0;34m\u001b[0m\u001b[0;34m\u001b[0m\u001b[0m\n\u001b[1;32m      6\u001b[0m     \u001b[0mf\u001b[0m\u001b[0;34m.\u001b[0m\u001b[0mclose\u001b[0m\u001b[0;34m(\u001b[0m\u001b[0;34m)\u001b[0m\u001b[0;34m\u001b[0m\u001b[0;34m\u001b[0m\u001b[0m\n",
      "\u001b[0;31mValueError\u001b[0m: "
     ]
    }
   ],
   "source": [
    "try:\n",
    "    f = open(\"test.txt\", \"a\")\n",
    "    # perform file operations\n",
    "    raise ValueError\n",
    "finally:\n",
    "    f.close()\n",
    "    \n",
    "# če ta koda deluje, potem bi morali biti zmožni spreminjati datoteko tudi potem, ko dobimo error."
   ]
  },
  {
   "cell_type": "markdown",
   "metadata": {},
   "source": [
    "[Python with Context Managers](https://jeffknupp.com/blog/2016/03/07/python-with-context-managers/)\n",
    "\n",
    "Isto stvar dosežemo z uporabo ```with statement```."
   ]
  },
  {
   "cell_type": "code",
   "execution_count": 27,
   "metadata": {},
   "outputs": [],
   "source": [
    "with open(\"test.txt\", \"a\") as f:\n",
    "    pass\n",
    "    # perform file operations"
   ]
  },
  {
   "cell_type": "markdown",
   "metadata": {},
   "source": [
    "### Branje datotek\n",
    "\n",
    "Za branje, datoteko odpremo v *read* (**r**) načinu.\n",
    "\n",
    "(Imamo datoteko katere vsebina je: *Hello World!\\nThis is my file.* )"
   ]
  },
  {
   "cell_type": "code",
   "execution_count": 98,
   "metadata": {},
   "outputs": [
    {
     "name": "stdout",
     "output_type": "stream",
     "text": [
      "Hello world!\n",
      "This is my file.\n"
     ]
    }
   ],
   "source": [
    "with open(\"test2.txt\",'r') as f:\n",
    "    file_data = f.read()    # read all data\n",
    "    print(file_data)\n",
    "    \n",
    "#print(file_data)\n",
    "#file_data"
   ]
  },
  {
   "cell_type": "code",
   "execution_count": 99,
   "metadata": {},
   "outputs": [
    {
     "name": "stdout",
     "output_type": "stream",
     "text": [
      "He\n",
      "llo wo\n",
      "rld!\n",
      "This is my file.\n",
      "\n"
     ]
    }
   ],
   "source": [
    "with open(\"test2.txt\", \"r\") as f:\n",
    "    file_data = f.read(2) # read the first 2 data\n",
    "    print(file_data)\n",
    "    file_data = f.read(6) # read the next 6 data\n",
    "    print(file_data)\n",
    "    file_data = f.read() # reads till the end of the file\n",
    "    print(file_data)\n",
    "    file_data = f.read() # further reading returns empty string\n",
    "    print(file_data)"
   ]
  },
  {
   "cell_type": "markdown",
   "metadata": {},
   "source": [
    "> We can see that, the read() method returns newline as '\\n'. Once the end of file is reached, we get empty string on further reading.\n",
    "\n",
    "Po datoteki se lahko tudi premikamo z uporabo ```seek()``` in ```tell()``` metode."
   ]
  },
  {
   "cell_type": "code",
   "execution_count": 105,
   "metadata": {},
   "outputs": [
    {
     "name": "stdout",
     "output_type": "stream",
     "text": [
      "0\n",
      "Hell\n",
      "4\n"
     ]
    }
   ],
   "source": [
    "with open(\"test2.txt\", \"r\") as f:\n",
    "    print(f.tell()) # get current position of file cursor in bytes\n",
    "    print(f.read(4)) # read 4 bytes\n",
    "    print(f.tell()) \n",
    "    #print(f.read())\n",
    "    #print(f.tell())"
   ]
  },
  {
   "cell_type": "code",
   "execution_count": 103,
   "metadata": {},
   "outputs": [
    {
     "name": "stdout",
     "output_type": "stream",
     "text": [
      "0\n",
      "Hello \n",
      "6\n",
      "0\n",
      "Hello \n"
     ]
    }
   ],
   "source": [
    "with open(\"test2.txt\", \"r\") as f:\n",
    "    print(f.tell()) # get position in bytes\n",
    "    \n",
    "    reading = f.read(6) # read 6 bytes\n",
    "    print(reading)\n",
    "    print(f.tell()) # get new position in bytes\n",
    "    \n",
    "    f.seek(0) # move cursor to position 0\n",
    "    print(f.tell())\n",
    "    \n",
    "    reading = f.read(6)\n",
    "    print(reading)"
   ]
  },
  {
   "cell_type": "markdown",
   "metadata": {},
   "source": [
    "Datoteko lahko hitro in učinkovito preberemo vrstico po vrstico, z uporabo ```for loop```."
   ]
  },
  {
   "cell_type": "code",
   "execution_count": 106,
   "metadata": {},
   "outputs": [
    {
     "name": "stdout",
     "output_type": "stream",
     "text": [
      "Hello world!\n",
      "\n",
      "This is my file.\n"
     ]
    }
   ],
   "source": [
    "with open(\"test2.txt\", \"r\") as f:\n",
    "    for line in f:\n",
    "        print(line) # The lines in file itself has a newline character '\\n'."
   ]
  },
  {
   "cell_type": "markdown",
   "metadata": {},
   "source": [
    "Alternativno lahko uporabljamo ```readline()``` metodo za branje individualnih vrstic.\n",
    "\n",
    "Metoda prebere podatke iz datoteke do ```newline (\\n) ```."
   ]
  },
  {
   "cell_type": "code",
   "execution_count": 107,
   "metadata": {},
   "outputs": [
    {
     "name": "stdout",
     "output_type": "stream",
     "text": [
      "Hello world!\n",
      "\n",
      "This is my file.\n",
      "\n"
     ]
    }
   ],
   "source": [
    "with open(\"test2.txt\", \"r\") as f:\n",
    "    print(f.readline())\n",
    "    print(f.readline())\n",
    "    print(f.readline())"
   ]
  },
  {
   "cell_type": "markdown",
   "metadata": {},
   "source": [
    "```readlines()``` nam vrne listo preostalih linij v datoteki.\n",
    "\n",
    "(če prov vidm ```readlines()``` prebere vrstice in postavi cursor na konc)"
   ]
  },
  {
   "cell_type": "code",
   "execution_count": 108,
   "metadata": {},
   "outputs": [
    {
     "name": "stdout",
     "output_type": "stream",
     "text": [
      "['Hello world!\\n', 'This is my file.']\n",
      "This is my file.\n"
     ]
    }
   ],
   "source": [
    "with open(\"test2.txt\",\"r\") as f:\n",
    "    list_of_lines = f.readlines()\n",
    "    print(list_of_lines)\n",
    "    print(list_of_lines[1])"
   ]
  },
  {
   "cell_type": "code",
   "execution_count": null,
   "metadata": {},
   "outputs": [],
   "source": []
  },
  {
   "cell_type": "markdown",
   "metadata": {},
   "source": [
    "<div class=\"alert alert-block alert-info\">\n",
    "<h1><b>Naloga: </b></h1>\n",
    "Napišite funkcijo, ki kot parameter <b>x</b> premje neko celo število.\n",
    "Funkcija naj izpiše zadnjih x vrstic v datoteki <i>naloga2.txt</i>.\n",
    "</div>\n",
    "\n",
    "\n",
    "```python\n",
    "INPUT:\n",
    "funkcija(3)\n",
    "\n",
    "OUTPUT:\n",
    "line 7\n",
    "line 8\n",
    "line 9\n",
    "```"
   ]
  },
  {
   "cell_type": "code",
   "execution_count": null,
   "metadata": {},
   "outputs": [],
   "source": []
  },
  {
   "cell_type": "markdown",
   "metadata": {},
   "source": [
    "### Pisanje datotek"
   ]
  },
  {
   "cell_type": "markdown",
   "metadata": {},
   "source": [
    "Za pisanje v datoteko jo odpremo v načinu za pisanje:\n",
    "- **w** (ta način bo prepisal vse podatke že shranjene v datoteki)\n",
    "- **a** (s tem načinom bomo dodajali podatke na konec datoteke)\n",
    "- **x** (s tem ustvarimo datoteko in lahko začnemo v njo pisati)\n",
    "\n",
    "> Writing a string or sequence of bytes (for binary files) is done using write() method. This method returns the number of characters written to the file."
   ]
  },
  {
   "cell_type": "code",
   "execution_count": 117,
   "metadata": {},
   "outputs": [],
   "source": [
    "with open(\"test3.txt\",'w') as f:\n",
    "    f.write(\"my first file\\n\")\n",
    "    f.write(\"This file\\n\\n\")\n",
    "    f.write(\"contains four lines\")\n",
    "    \n",
    "# This program will create a new file named 'test.txt' if it does not exist. If it does exist, it is overwritten.\n",
    "# We must include the newline characters ourselves to distinguish different lines."
   ]
  },
  {
   "cell_type": "code",
   "execution_count": 114,
   "metadata": {},
   "outputs": [],
   "source": [
    "with open(\"test3.txt\",'a') as f:\n",
    "    f.write(\"We are adding another line.\")\n",
    "    x = f.write(\"And another one\")\n",
    "    #print(x) write() returns number of bytes we wrote\n",
    "    \n",
    "# this program will open a file and append what we want to the end"
   ]
  },
  {
   "cell_type": "code",
   "execution_count": 118,
   "metadata": {},
   "outputs": [
    {
     "ename": "FileExistsError",
     "evalue": "[Errno 17] File exists: 'test4.txt'",
     "output_type": "error",
     "traceback": [
      "\u001b[0;31m---------------------------------------------------------------------------\u001b[0m",
      "\u001b[0;31mFileExistsError\u001b[0m                           Traceback (most recent call last)",
      "\u001b[0;32m<ipython-input-118-227e0b7d8d73>\u001b[0m in \u001b[0;36m<module>\u001b[0;34m\u001b[0m\n\u001b[0;32m----> 1\u001b[0;31m \u001b[0;32mwith\u001b[0m \u001b[0mopen\u001b[0m\u001b[0;34m(\u001b[0m\u001b[0;34m\"test4.txt\"\u001b[0m\u001b[0;34m,\u001b[0m \u001b[0;34m\"x\"\u001b[0m\u001b[0;34m)\u001b[0m \u001b[0;32mas\u001b[0m \u001b[0mf\u001b[0m\u001b[0;34m:\u001b[0m\u001b[0;34m\u001b[0m\u001b[0;34m\u001b[0m\u001b[0m\n\u001b[0m\u001b[1;32m      2\u001b[0m     \u001b[0mf\u001b[0m\u001b[0;34m.\u001b[0m\u001b[0mwrite\u001b[0m\u001b[0;34m(\u001b[0m\u001b[0;34m\"New .txt\"\u001b[0m\u001b[0;34m)\u001b[0m\u001b[0;34m\u001b[0m\u001b[0;34m\u001b[0m\u001b[0m\n\u001b[1;32m      3\u001b[0m \u001b[0;34m\u001b[0m\u001b[0m\n\u001b[1;32m      4\u001b[0m \u001b[0;31m# this program will create a new file 'test2.txt' if it doesn't exist and write into it.\u001b[0m\u001b[0;34m\u001b[0m\u001b[0;34m\u001b[0m\u001b[0;34m\u001b[0m\u001b[0m\n\u001b[1;32m      5\u001b[0m \u001b[0;31m# if the file exists it will trow an error\u001b[0m\u001b[0;34m\u001b[0m\u001b[0;34m\u001b[0m\u001b[0;34m\u001b[0m\u001b[0m\n",
      "\u001b[0;31mFileExistsError\u001b[0m: [Errno 17] File exists: 'test4.txt'"
     ]
    }
   ],
   "source": [
    "with open(\"test4.txt\", \"x\") as f:\n",
    "    f.write(\"New .txt\")\n",
    "    \n",
    "# this program will create a new file 'test2.txt' if it doesn't exist and write into it.\n",
    "# if the file exists it will trow an error"
   ]
  },
  {
   "cell_type": "markdown",
   "metadata": {},
   "source": [
    "<div class=\"alert alert-block alert-info\">\n",
    "<h1><b>Naloga: </b></h1>\n",
    "Napišite funkcijo, ki v datoteko <i>naloga5.txt</i> zapiše vse datume, ki so <b>petek 13.</b> v letih od 2020 do 2030.\n",
    "    \n",
    "Da najdete datume si lahko pomagate s knjižnjico datetime.\n",
    "</div>\n",
    "\n",
    "\n",
    "```python\n",
    "INPUT:\n",
    "print(fakulteta())\n",
    "\n",
    "OUTPUT:\n",
    "Vnesi cifro: a\n",
    "To ni bila številka.\n",
    "Vnesi cifro: b\n",
    "To ni bila številka.\n",
    "Vnesi cifro: 3\n",
    "6\n",
    "```"
   ]
  },
  {
   "cell_type": "code",
   "execution_count": null,
   "metadata": {},
   "outputs": [],
   "source": []
  },
  {
   "cell_type": "code",
   "execution_count": null,
   "metadata": {},
   "outputs": [],
   "source": []
  },
  {
   "cell_type": "markdown",
   "metadata": {},
   "source": [
    "# JSON\n",
    "\n",
    "\n",
    "JSON - JavaScript Object Notation, je način zapisa informacij v organizirano in preprosto strukturo, ki je lahko berljiva tako za ljudi kot tudi za računalnike."
   ]
  },
  {
   "cell_type": "markdown",
   "metadata": {},
   "source": [
    "``` python\n",
    "{\n",
    "    \"firstName\": \"Jane\",\n",
    "    \"lastName\": \"Doe\",\n",
    "    \"hobbies\": [\"running\", \"sky diving\", \"singing\"],\n",
    "    \"age\": 35,\n",
    "    \"children\": [\n",
    "        {\n",
    "            \"firstName\": \"Alice\",\n",
    "            \"age\": 6\n",
    "        },\n",
    "        {\n",
    "            \"firstName\": \"Bob\",\n",
    "            \"age\": 8\n",
    "        }\n",
    "    ]\n",
    "}\n",
    "```"
   ]
  },
  {
   "cell_type": "markdown",
   "metadata": {},
   "source": [
    "Za manipuliranje z JSPON podatki v Pythonu uporabljamo ```import json``` modul."
   ]
  },
  {
   "cell_type": "markdown",
   "metadata": {},
   "source": [
    "## Python object translated into JSON objects\n",
    "\n",
    "<table class=\"table table-hover\">\n",
    "<thead>\n",
    "<tr>\n",
    "<th>Python</th>\n",
    "<th>JSON</th>\n",
    "</tr>\n",
    "</thead>\n",
    "<tbody>\n",
    "<tr>\n",
    "<td><code>dict</code></td>\n",
    "<td><code>object</code></td>\n",
    "</tr>\n",
    "<tr>\n",
    "<td><code>list</code>, <code>tuple</code></td>\n",
    "<td><code>array</code></td>\n",
    "</tr>\n",
    "<tr>\n",
    "<td><code>str</code></td>\n",
    "<td><code>string</code></td>\n",
    "</tr>\n",
    "<tr>\n",
    "<td><code>int</code>, <code>long</code>, <code>float</code></td>\n",
    "<td><code>number</code></td>\n",
    "</tr>\n",
    "<tr>\n",
    "<td><code>True</code></td>\n",
    "<td><code>true</code></td>\n",
    "</tr>\n",
    "<tr>\n",
    "<td><code>False</code></td>\n",
    "<td><code>false</code></td>\n",
    "</tr>\n",
    "<tr>\n",
    "<td><code>None</code></td>\n",
    "<td><code>null</code></td>\n",
    "</tr>\n",
    "</tbody>\n",
    "</table>"
   ]
  },
  {
   "cell_type": "markdown",
   "metadata": {},
   "source": [
    "Primer shranjevanja JSON podatkov."
   ]
  },
  {
   "cell_type": "code",
   "execution_count": 126,
   "metadata": {},
   "outputs": [],
   "source": [
    "import json"
   ]
  },
  {
   "cell_type": "code",
   "execution_count": 127,
   "metadata": {},
   "outputs": [],
   "source": [
    "data = {\n",
    "    \"firstName\": \"Jane\",\n",
    "    \"lastName\": \"Doe\",\n",
    "    \"hobbies\": [\"running\", \"sky diving\", \"singing\"],\n",
    "    \"age\": 35,\n",
    "    \"children\": [\n",
    "        {\n",
    "            \"firstName\": \"Alice\",\n",
    "            \"age\": 6\n",
    "        },\n",
    "        {\n",
    "            \"firstName\": \"Bob\",\n",
    "            \"age\": 8\n",
    "        }\n",
    "    ]\n",
    "}"
   ]
  },
  {
   "cell_type": "code",
   "execution_count": 128,
   "metadata": {},
   "outputs": [],
   "source": [
    "with open(\"data_file.json\", \"w\") as write_file:\n",
    "    json.dump(data, write_file)\n",
    "# Note that dump() takes two positional arguments: \n",
    "#(1) the data object to be serialized, \n",
    "#and (2) the file-like object to which the bytes will be written."
   ]
  },
  {
   "cell_type": "markdown",
   "metadata": {},
   "source": [
    "## Branje JSON podatkov\n",
    "\n",
    "<table class=\"table table-hover\">\n",
    "<thead>\n",
    "<tr>\n",
    "<th>JSON</th>\n",
    "<th>Python</th>\n",
    "</tr>\n",
    "</thead>\n",
    "<tbody>\n",
    "<tr>\n",
    "<td><code>object</code></td>\n",
    "<td><code>dict</code></td>\n",
    "</tr>\n",
    "<tr>\n",
    "<td><code>array</code></td>\n",
    "<td><code>list</code></td>\n",
    "</tr>\n",
    "<tr>\n",
    "<td><code>string</code></td>\n",
    "<td><code>str</code></td>\n",
    "</tr>\n",
    "<tr>\n",
    "<td><code>number</code> (int)</td>\n",
    "<td><code>int</code></td>\n",
    "</tr>\n",
    "<tr>\n",
    "<td><code>number</code> (real)</td>\n",
    "<td><code>float</code></td>\n",
    "</tr>\n",
    "<tr>\n",
    "<td><code>true</code></td>\n",
    "<td><code>True</code></td>\n",
    "</tr>\n",
    "<tr>\n",
    "<td><code>false</code></td>\n",
    "<td><code>False</code></td>\n",
    "</tr>\n",
    "<tr>\n",
    "<td><code>null</code></td>\n",
    "<td><code>None</code></td>\n",
    "</tr>\n",
    "</tbody>\n",
    "</table>"
   ]
  },
  {
   "cell_type": "markdown",
   "metadata": {},
   "source": [
    "Technically, this conversion isn’t a perfect inverse to the serialization table. That basically means that if you encode an object now and then decode it again later, you may not get exactly the same object back. \n",
    "\n",
    "In reality, the simplest example would be encoding a tuple and getting back a list after decoding."
   ]
  },
  {
   "cell_type": "code",
   "execution_count": 129,
   "metadata": {},
   "outputs": [
    {
     "name": "stdout",
     "output_type": "stream",
     "text": [
      "{'firstName': 'Jane', 'lastName': 'Doe', 'hobbies': ['running', 'sky diving', 'singing'], 'age': 35, 'children': [{'firstName': 'Alice', 'age': 6}, {'firstName': 'Bob', 'age': 8}]}\n",
      "<class 'dict'>\n"
     ]
    }
   ],
   "source": [
    "with open(\"data_file.json\", \"r\") as read_file:\n",
    "    data = json.load(read_file) # use loads() if the JSON data is in \"python string\" type\n",
    "    print(data)\n",
    "    print(type(data))"
   ]
  },
  {
   "cell_type": "markdown",
   "metadata": {},
   "source": [
    "<div class=\"alert alert-block alert-info\">\n",
    "<h1><b>Naloga: </b></h1>\n",
    "Napišite funkcijo <b>dictionary</b>, ki vpraša uporabnika naj vnese določen string in nato vrne vse besede, ki vsebujejo podani string.\n",
    "    \n",
    "Vse angleške besede najdete znotraj datoteke words_alpha.txt\n",
    "    \n",
    "https://raw.githubusercontent.com/dwyl/english-words/master/words_alpha.txt\n",
    "</div>\n",
    "\n",
    "\n",
    "```python\n",
    "INPUT:\n",
    "dictionary()\n",
    "\n",
    "OUTPUT:\n",
    "Vnesi besedo: meow\n",
    "homeown\n",
    "homeowner\n",
    "homeowners\n",
    "meow\n",
    "meowed\n",
    "meowing\n",
    "meows\n",
    "```"
   ]
  },
  {
   "cell_type": "code",
   "execution_count": null,
   "metadata": {},
   "outputs": [],
   "source": []
  },
  {
   "cell_type": "code",
   "execution_count": null,
   "metadata": {},
   "outputs": [],
   "source": []
  },
  {
   "cell_type": "code",
   "execution_count": null,
   "metadata": {},
   "outputs": [],
   "source": []
  },
  {
   "cell_type": "code",
   "execution_count": null,
   "metadata": {},
   "outputs": [],
   "source": []
  },
  {
   "cell_type": "markdown",
   "metadata": {},
   "source": [
    "# Naloga\n",
    "\n",
    "Ustvarite razred `Polica`.\n",
    "* Vsaka instanca razreda naj ima:\n",
    "* * unikatno id številko, da bomo lahko identificirali različne police\n",
    "* * list naslovov knjig, ki se nahajajo na polici\n",
    "* * integer vrednost, ki pove koliko knjig, gre maximalno na polico\n",
    "* Ko ustvarimo instanco razreda vanj posredujemo številko maximalnih knjig na polici.\n",
    "* Ko ustvarimo instanco razreda vanj posredujemo lahko tudi list naslovov knjig, ki se že nahajajo na polici. Če takega seznama ne posredujemo naj ima polica prazen seznam.\n",
    "* Razred naj ima metodo `kaj_je_na_polici`, ki naj vrne list naslovov knjig\n",
    "* Razred naj ima metodo `dodaj_knjigo`, ki kot argument prejme string naslov knjige. To knjigo naj doda v list naslovov knjig\n",
    "* Razred naj ima metodo `uredi_knjige`, ki kot argument prejme boolean vrednost, ki nam pove ali naj bodo knjige urejene (glede na prvo črko) v A->Z oziroma Z->A. Če ta vrednost ni bila posredovana naj bo default vrstni red A->Z. Metoda naj uredi list naslovov knjig in tega nato vrne\n",
    "* Razred naj ima metodo `shrani_knjige`, ki v datoteko **polica_\\<id_num\\>.txt** shrani naslove knjig. Vsak naslov v svojo vrstico.\n",
    "\n",
    "```python\n",
    "polica = Polica(7, [\"The Witcher\", \"Dune\", \"Harry Potter\", \"Hamlet\", \"Tintin\", \"SSKJ\"])\n",
    "print(polica.kaj_je_na_polici())\n",
    "==> ['The Witcher', 'Dune', 'Harry Potter', 'Hamlet', 'Tintin', 'SSKJ']\n",
    "\n",
    "print(polica.uredi_knjige())\n",
    "==> ['Dune', 'Hamlet', 'Harry Potter', 'SSKJ', 'The Witcher', 'Tintin']\n",
    "\n",
    "polica.dodaj_knjigo(\"Romeo in Julija\")\n",
    "print(polica.kaj_je_na_polici())\n",
    "==> ['Dune', 'Hamlet', 'Harry Potter', 'SSKJ', 'The Witcher', 'Tintin', 'Romeo in Julija']\n",
    "\n",
    "polica.dodaj_knjigo(\"Game of Thrones\")\n",
    "print(polica.kaj_je_na_polici())\n",
    "==> ['Dune', 'Hamlet', 'Harry Potter', 'SSKJ', 'The Witcher', 'Tintin', 'Romeo in Julija']\n",
    "\n",
    "print(polica.uredi_knjige(False))\n",
    "==> ['Tintin', 'The Witcher', 'SSKJ', 'Romeo in Julija', 'Harry Potter', 'Hamlet', 'Dune']\n",
    "\n",
    "polica.shrani_knjige()\n",
    "\n",
    "polica2 = Polica(2, [\"English dictionary\"])\n",
    "polica2.shrani_knjige()\n",
    "```"
   ]
  },
  {
   "cell_type": "code",
   "execution_count": 142,
   "metadata": {},
   "outputs": [
    {
     "name": "stdout",
     "output_type": "stream",
     "text": [
      "['The Witcher', 'Dune', 'Harry Potter', 'Hamlet', 'Tintin', 'SSKJ']\n",
      "['Dune', 'Hamlet', 'Harry Potter', 'SSKJ', 'The Witcher', 'Tintin']\n",
      "['Dune', 'Hamlet', 'Harry Potter', 'SSKJ', 'The Witcher', 'Tintin', 'Romeo in Julija']\n",
      "['Dune', 'Hamlet', 'Harry Potter', 'SSKJ', 'The Witcher', 'Tintin', 'Romeo in Julija']\n",
      "['Tintin', 'The Witcher', 'SSKJ', 'Romeo in Julija', 'Harry Potter', 'Hamlet', 'Dune']\n"
     ]
    }
   ],
   "source": [
    "class Polica:\n",
    "    id_num = 0\n",
    "    \n",
    "    def __init__(self, max_knjig, knjige=list()):\n",
    "        self.id_num = Polica.id_num\n",
    "        Polica.id_num += 1\n",
    "        self.max_knjig = max_knjig\n",
    "        self.knjige = knjige\n",
    "    \n",
    "    def kaj_je_na_polici(self):\n",
    "        return self.knjige\n",
    "        \n",
    "    def dodaj_knjigo(self, knjiga):\n",
    "        if len(self.knjige) < self.max_knjig:\n",
    "            self.knjige.append(knjiga)\n",
    "    \n",
    "    def uredi_knjige(self, ascending = True):\n",
    "        if ascending:\n",
    "            self.knjige.sort()\n",
    "        else:\n",
    "            self.knjige.sort(reverse=True)\n",
    "        return self.kaj_je_na_polici()\n",
    "    \n",
    "    def shrani_knjige(self):\n",
    "        with open(f\"polica_{self.id_num}.txt\", \"w\") as f:\n",
    "            for knjiga in self.knjige:\n",
    "                f.write(knjiga)\n",
    "                f.write(\"\\n\")\n",
    "    \n",
    "    \n",
    "polica = Polica(7, [\"The Witcher\", \"Dune\", \"Harry Potter\", \"Hamlet\", \"Tintin\", \"SSKJ\"])\n",
    "print(polica.kaj_je_na_polici())\n",
    "print(polica.uredi_knjige())\n",
    "\n",
    "polica.dodaj_knjigo(\"Romeo in Julija\")\n",
    "print(polica.kaj_je_na_polici())\n",
    "\n",
    "polica.dodaj_knjigo(\"Game of Thrones\")\n",
    "print(polica.kaj_je_na_polici())\n",
    "print(polica.uredi_knjige(False))\n",
    "\n",
    "polica.shrani_knjige()\n",
    "\n",
    "polica2 = Polica(2, [\"English dictionary\"])\n",
    "polica2.shrani_knjige()"
   ]
  },
  {
   "cell_type": "code",
   "execution_count": null,
   "metadata": {},
   "outputs": [],
   "source": []
  },
  {
   "cell_type": "code",
   "execution_count": null,
   "metadata": {},
   "outputs": [],
   "source": []
  }
 ],
 "metadata": {
  "kernelspec": {
   "display_name": "Python 3",
   "language": "python",
   "name": "python3"
  },
  "language_info": {
   "codemirror_mode": {
    "name": "ipython",
    "version": 3
   },
   "file_extension": ".py",
   "mimetype": "text/x-python",
   "name": "python",
   "nbconvert_exporter": "python",
   "pygments_lexer": "ipython3",
   "version": "3.8.8"
  },
  "toc": {
   "base_numbering": 1,
   "nav_menu": {},
   "number_sections": true,
   "sideBar": true,
   "skip_h1_title": false,
   "title_cell": "Table of Contents",
   "title_sidebar": "Contents",
   "toc_cell": false,
   "toc_position": {},
   "toc_section_display": true,
   "toc_window_display": false
  }
 },
 "nbformat": 4,
 "nbformat_minor": 2
}
