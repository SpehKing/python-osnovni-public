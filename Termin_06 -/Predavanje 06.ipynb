{
 "cells": [
  {
   "cell_type": "markdown",
   "id": "d2580d9a",
   "metadata": {},
   "source": [
    "# Errors"
   ]
  },
  {
   "cell_type": "code",
   "execution_count": 1,
   "id": "6f502248",
   "metadata": {},
   "outputs": [
    {
     "ename": "SyntaxError",
     "evalue": "invalid syntax (<ipython-input-1-f85a75309909>, line 1)",
     "output_type": "error",
     "traceback": [
      "\u001b[0;36m  File \u001b[0;32m\"<ipython-input-1-f85a75309909>\"\u001b[0;36m, line \u001b[0;32m1\u001b[0m\n\u001b[0;31m    myFunction(x, y):\u001b[0m\n\u001b[0m                     ^\u001b[0m\n\u001b[0;31mSyntaxError\u001b[0m\u001b[0;31m:\u001b[0m invalid syntax\n"
     ]
    }
   ],
   "source": [
    "myFunction(x, y):\n",
    "    return x+y"
   ]
  },
  {
   "cell_type": "code",
   "execution_count": 2,
   "id": "378d0fe2",
   "metadata": {},
   "outputs": [
    {
     "ename": "SyntaxError",
     "evalue": "invalid syntax (<ipython-input-2-83125fc36a46>, line 1)",
     "output_type": "error",
     "traceback": [
      "\u001b[0;36m  File \u001b[0;32m\"<ipython-input-2-83125fc36a46>\"\u001b[0;36m, line \u001b[0;32m1\u001b[0m\n\u001b[0;31m    def function(x, y)\u001b[0m\n\u001b[0m                      ^\u001b[0m\n\u001b[0;31mSyntaxError\u001b[0m\u001b[0;31m:\u001b[0m invalid syntax\n"
     ]
    }
   ],
   "source": [
    "def function(x, y)\n",
    "    return x +y"
   ]
  },
  {
   "cell_type": "code",
   "execution_count": 3,
   "id": "6ed1f394",
   "metadata": {},
   "outputs": [
    {
     "ename": "IndentationError",
     "evalue": "expected an indented block (<ipython-input-3-58501097a457>, line 2)",
     "output_type": "error",
     "traceback": [
      "\u001b[0;36m  File \u001b[0;32m\"<ipython-input-3-58501097a457>\"\u001b[0;36m, line \u001b[0;32m2\u001b[0m\n\u001b[0;31m    return x+y\u001b[0m\n\u001b[0m    ^\u001b[0m\n\u001b[0;31mIndentationError\u001b[0m\u001b[0;31m:\u001b[0m expected an indented block\n"
     ]
    }
   ],
   "source": [
    "def myfunction(x, y):\n",
    "return x+y"
   ]
  },
  {
   "cell_type": "code",
   "execution_count": 4,
   "id": "97d467e1",
   "metadata": {},
   "outputs": [
    {
     "ename": "ZeroDivisionError",
     "evalue": "division by zero",
     "output_type": "error",
     "traceback": [
      "\u001b[0;31m---------------------------------------------------------------------------\u001b[0m",
      "\u001b[0;31mZeroDivisionError\u001b[0m                         Traceback (most recent call last)",
      "\u001b[0;32m<ipython-input-4-6eaf55e94be3>\u001b[0m in \u001b[0;36m<module>\u001b[0;34m\u001b[0m\n\u001b[0;32m----> 1\u001b[0;31m \u001b[0mrezultat\u001b[0m \u001b[0;34m=\u001b[0m \u001b[0;36m1\u001b[0m\u001b[0;34m/\u001b[0m\u001b[0;36m0\u001b[0m\u001b[0;34m\u001b[0m\u001b[0;34m\u001b[0m\u001b[0m\n\u001b[0m",
      "\u001b[0;31mZeroDivisionError\u001b[0m: division by zero"
     ]
    }
   ],
   "source": [
    "rezultat = 1/0"
   ]
  },
  {
   "cell_type": "markdown",
   "id": "fe7b68f5",
   "metadata": {},
   "source": [
    "# Try-except"
   ]
  },
  {
   "cell_type": "code",
   "execution_count": 6,
   "id": "65ef41e6",
   "metadata": {},
   "outputs": [
    {
     "name": "stdout",
     "output_type": "stream",
     "text": [
      "Vnesi prvo številko: 2\n",
      "Vnesi drugo številko: 5\n",
      "2 / 5 = 0.4\n",
      "\n",
      "Vnesi prvo številko: 2\n",
      "Vnesi drugo številko: 0\n",
      "Prišlo je do napake.\n",
      "\n",
      "Vnesi prvo številko: 4\n",
      "Vnesi drugo številko: 10\n",
      "4 / 10 = 0.4\n",
      "\n"
     ]
    }
   ],
   "source": [
    "for _ in range(3):\n",
    "    try:\n",
    "        x = int(input(\"Vnesi prvo številko: \"))\n",
    "        y = int(input(\"Vnesi drugo številko: \"))\n",
    "        rezultat = x/y\n",
    "        print(f\"{x} / {y} = {rezultat}\")\n",
    "    except:\n",
    "        print(\"Prišlo je do napake.\")\n",
    "    print()"
   ]
  },
  {
   "cell_type": "code",
   "execution_count": 9,
   "id": "2c6c8112",
   "metadata": {},
   "outputs": [
    {
     "name": "stdout",
     "output_type": "stream",
     "text": [
      "Vnesi prvo številko: 1\n",
      "Vnesi drugo številko: 0\n",
      "Prišlo je do napake\n",
      "\n",
      "Vnesi prvo številko: 1\n",
      "Vnesi drugo številko: 1\n",
      "1 / 1 = 1.0\n",
      "\n",
      "Vnesi prvo številko: 1\n",
      "Vnesi drugo številko: 1\n",
      "1 / 1 = 1.0\n",
      "\n"
     ]
    }
   ],
   "source": [
    "def delilnik():\n",
    "    try:\n",
    "        x = int(input(\"Vnesi prvo številko: \"))\n",
    "        y = int(input(\"Vnesi drugo številko: \"))\n",
    "        rezultat = x/y\n",
    "        print(f\"{x} / {y} = {rezultat}\")\n",
    "    except:\n",
    "        print(\"Prišlo je do napake\")\n",
    "    \n",
    "    \n",
    "for _ in range(3):\n",
    "    delilnik()\n",
    "    print()"
   ]
  },
  {
   "cell_type": "code",
   "execution_count": 10,
   "id": "13b26ed3",
   "metadata": {},
   "outputs": [
    {
     "name": "stdout",
     "output_type": "stream",
     "text": [
      "Vnesi prvo številko: 1\n",
      "Vnesi drugo številko: 2\n",
      "1 / 2 = 0.5\n",
      "\n",
      "Vnesi prvo številko: 1\n",
      "Vnesi drugo številko: 0\n",
      "Prišlo je do napake\n",
      "\n",
      "Vnesi prvo številko: 2\n",
      "Vnesi drugo številko: 2\n",
      "2 / 2 = 1.0\n",
      "\n"
     ]
    }
   ],
   "source": [
    "def delilnik():\n",
    "    x = int(input(\"Vnesi prvo številko: \"))\n",
    "    y = int(input(\"Vnesi drugo številko: \"))\n",
    "    rezultat = x/y\n",
    "    print(f\"{x} / {y} = {rezultat}\")\n",
    "    \n",
    "    \n",
    "for _ in range(3):\n",
    "    try:\n",
    "        delilnik()\n",
    "    except:\n",
    "        print(\"Prišlo je do napake\")\n",
    "    print()"
   ]
  },
  {
   "cell_type": "markdown",
   "id": "878c9faf",
   "metadata": {},
   "source": [
    "<div class=\"alert alert-block alert-info\">\n",
    "<h1><b>Naloga: </b></h1>\n",
    "Napišite funkcion <b>fakulteta</b>, ki uporabnika vpraša naj vnese cifro in izračuna fakulteto te cifre.\n",
    "    Fakulteta se izračuna: 3! = 3*2*1 = 6\n",
    "\n",
    "Funkcija naj vrne rezultat. Oziroma, če uporabik ni vnesel številke naj funkcija ponovno zahteva od uporabnika vnos cifre.\n",
    "</div>\n",
    "\n",
    "\n",
    "```python\n",
    "INPUT:\n",
    "print(fakulteta())\n",
    "\n",
    "OUTPUT:\n",
    "Vnesi cifro: a\n",
    "To ni bila številka.\n",
    "Vnesi cifro: b\n",
    "To ni bila številka.\n",
    "Vnesi cifro: 3\n",
    "6\n",
    "```"
   ]
  },
  {
   "cell_type": "code",
   "execution_count": 16,
   "id": "fbd1f79a",
   "metadata": {},
   "outputs": [
    {
     "name": "stdout",
     "output_type": "stream",
     "text": [
      "Vnesi številko: a\n",
      "Prišlo je do napake\n",
      "Vnesi številko: a\n",
      "Prišlo je do napake\n",
      "Vnesi številko: a\n",
      "Prišlo je do napake\n",
      "Vnesi številko: a\n",
      "Prišlo je do napake\n",
      "Vnesi številko: a\n",
      "Prišlo je do napake\n",
      "Vnesi številko: a\n",
      "Prišlo je do napake\n",
      "Vnesi številko: a\n",
      "Prišlo je do napake\n",
      "Vnesi številko: a\n",
      "Prišlo je do napake\n",
      "Vnesi številko: a\n",
      "Prišlo je do napake\n",
      "Vnesi številko: a\n",
      "Prišlo je do napake\n",
      "Vnesi številko: 10\n"
     ]
    },
    {
     "data": {
      "text/plain": [
       "3628800"
      ]
     },
     "execution_count": 16,
     "metadata": {},
     "output_type": "execute_result"
    }
   ],
   "source": [
    "def fakulteta():\n",
    "    while True:\n",
    "        try:\n",
    "            num = int(input(\"Vnesi številko: \"))\n",
    "            rezultat = 1\n",
    "\n",
    "            for i in range(1, num+1):\n",
    "                rezultat *= i\n",
    "\n",
    "            return rezultat\n",
    "        except:\n",
    "            print(\"Prišlo je do napake\")\n",
    "\n",
    "fakulteta()"
   ]
  },
  {
   "cell_type": "code",
   "execution_count": null,
   "id": "3359ac2d",
   "metadata": {},
   "outputs": [],
   "source": []
  },
  {
   "cell_type": "code",
   "execution_count": 23,
   "id": "06ad8d6a",
   "metadata": {},
   "outputs": [
    {
     "name": "stdout",
     "output_type": "stream",
     "text": [
      "Vnesi prvo številko: 1\n",
      "Vnesi drugo številko: 0\n",
      "Druga številka ne sme biti 0!\n",
      "division by zero\n",
      "<class 'ZeroDivisionError'>\n",
      "\n",
      "Vnesi prvo številko: a7\n",
      "Vnesi številko!\n",
      "invalid literal for int() with base 10: 'a7'\n",
      "<class 'ValueError'>\n",
      "\n",
      "Vnesi prvo številko: 1\n",
      "Vnesi drugo številko: 1\n",
      "1/1 = 1.0\n",
      "\n"
     ]
    }
   ],
   "source": [
    "def delilnik():\n",
    "    try:\n",
    "        x = int(input(\"Vnesi prvo številko: \"))\n",
    "        y = int(input(\"Vnesi drugo številko: \"))\n",
    "        rezultat = x/y\n",
    "        print(f\"{x}/{y} = {rezultat}\")\n",
    "    except ZeroDivisionError as e:\n",
    "        print(\"Druga številka ne sme biti 0!\")\n",
    "        print(e)\n",
    "        print(type(e))\n",
    "    except ValueError as e:\n",
    "        print(\"Vnesi številko!\")\n",
    "        print(e)\n",
    "        print(type(e))\n",
    "    except Exception as e:\n",
    "        print(\"Nekaj je narobe\")\n",
    "        \n",
    "for _ in range(3):\n",
    "    delilnik()\n",
    "    print()"
   ]
  },
  {
   "cell_type": "code",
   "execution_count": null,
   "id": "211f37e7",
   "metadata": {},
   "outputs": [],
   "source": []
  },
  {
   "cell_type": "code",
   "execution_count": 27,
   "id": "736321da",
   "metadata": {},
   "outputs": [
    {
     "name": "stdout",
     "output_type": "stream",
     "text": [
      "Vnesi prvo pozitivno številko: -2\n",
      "Vnešeno mora biti pozitivno število\n",
      "\n",
      "Vnesi prvo pozitivno številko: 2\n",
      "Vnesi drugo pozitivno številko: -4\n",
      "Vnešeno mora biti pozitivno število\n",
      "\n",
      "Vnesi prvo pozitivno številko: 1\n",
      "Vnesi drugo pozitivno številko: 1\n",
      "1 / 1 = 1.0\n",
      "\n"
     ]
    }
   ],
   "source": [
    "def delilnik_pozitivnih_st():\n",
    "    try:\n",
    "        x = int(input(\"Vnesi prvo pozitivno številko: \"))\n",
    "        if x < 0:\n",
    "            raise ValueError(\"Vnešeno mora biti pozitivno število\")\n",
    "\n",
    "        y = int(input(\"Vnesi drugo pozitivno številko: \"))\n",
    "        if y < 0:\n",
    "            raise ValueError(\"Vnešeno mora biti pozitivno število\")\n",
    "\n",
    "        rezultat = x / y\n",
    "        print(f\"{x} / {y} = {rezultat}\")\n",
    "    except ValueError as e:\n",
    "        print(e)\n",
    "    \n",
    "for _ in range(3):\n",
    "    delilnik_pozitivnih_st()\n",
    "    print()"
   ]
  },
  {
   "cell_type": "markdown",
   "id": "c2030c5b",
   "metadata": {},
   "source": [
    "<div class=\"alert alert-block alert-info\">\n",
    "<h1><b>Naloga: </b></h1>\n",
    "Napišite funkcijo <b>is_palindrom</b>, ki od uporabnika zahteva naj vnese besedo. Funkcija naj vrne True, če je beseda palindrom, v nasprotnem primeru False.\n",
    "    \n",
    "Če uporabnik vnese samo številke naj funkcija rais-a ValueError.\n",
    "    \n",
    "Program naj 3x zažene funkcijo. V kolikor pride do ValueError naj se izpiše sporočilo in izvajanje programa nadaljuje.\n",
    "    \n",
    "Za pomoč uporabite \"string\".isnumeric()\n",
    "</div>\n",
    "\n",
    "\n",
    "```python\n",
    "OUTPUT:\n",
    "Vnesi besedo: Ananas\n",
    "The word is NOT palindrom.\n",
    "\n",
    "Vnesi besedo: 1234\n",
    "Vnešene so bile samo številke.\n",
    "\n",
    "Vnesi besedo: racecar\n",
    "The word is PALINDROM\n",
    "```"
   ]
  },
  {
   "cell_type": "code",
   "execution_count": 34,
   "id": "dbde5549",
   "metadata": {},
   "outputs": [
    {
     "name": "stdout",
     "output_type": "stream",
     "text": [
      "Vnesi besedo: 12345\n",
      "Vneše so bile samo številke.\n",
      "\n",
      "Vnesi besedo: ananas\n",
      "a s\n",
      "Beseda NI palindrom\n",
      "\n",
      "Vnesi besedo: racecar\n",
      "r r\n",
      "a a\n",
      "c c\n",
      "e e\n",
      "c c\n",
      "a a\n",
      "r r\n",
      "Beseda JE palindrom\n",
      "\n"
     ]
    }
   ],
   "source": [
    "def is_palindrom():\n",
    "    beseda = input(\"Vnesi besedo: \")\n",
    "    if beseda.isnumeric():\n",
    "        raise ValueError(\"Vneše so bile samo številke.\")\n",
    "        \n",
    "    st_crk = len(beseda)\n",
    "    for i in range(st_crk):\n",
    "        print(beseda[i], beseda[-1*i -1])\n",
    "        if not(beseda[i] == beseda[-1*i -1]):\n",
    "            return False\n",
    "        \n",
    "    return True\n",
    "\n",
    "\n",
    "for _ in range(3):\n",
    "    try:\n",
    "        if is_palindrom():\n",
    "            print(\"Beseda JE palindrom\")\n",
    "        else:\n",
    "            print(\"Beseda NI palindrom\")\n",
    "    except ValueError as e:\n",
    "        print(e)\n",
    "    print()"
   ]
  },
  {
   "cell_type": "markdown",
   "id": "6eef7be6",
   "metadata": {},
   "source": [
    "# Else and finally statement"
   ]
  },
  {
   "cell_type": "code",
   "execution_count": 36,
   "id": "0585fb6d",
   "metadata": {},
   "outputs": [
    {
     "name": "stdout",
     "output_type": "stream",
     "text": [
      "Vnesi številko: 2\n",
      "This is else statement\n",
      "End...\n"
     ]
    }
   ],
   "source": [
    "try:\n",
    "    x = int(input(\"Vnesi številko: \"))\n",
    "except ValueError:\n",
    "    print(\"To ni številka\")\n",
    "else:\n",
    "    print(\"This is else statement\")\n",
    "    \n",
    "print(\"End...\")"
   ]
  },
  {
   "cell_type": "code",
   "execution_count": 40,
   "id": "f6cfa0b6",
   "metadata": {},
   "outputs": [
    {
     "name": "stdout",
     "output_type": "stream",
     "text": [
      "Vnesi številko: 0\n",
      "0\n",
      "Finally statement\n"
     ]
    },
    {
     "ename": "ZeroDivisionError",
     "evalue": "division by zero",
     "output_type": "error",
     "traceback": [
      "\u001b[0;31m---------------------------------------------------------------------------\u001b[0m",
      "\u001b[0;31mZeroDivisionError\u001b[0m                         Traceback (most recent call last)",
      "\u001b[0;32m<ipython-input-40-f422ca6c540b>\u001b[0m in \u001b[0;36m<module>\u001b[0;34m\u001b[0m\n\u001b[1;32m      2\u001b[0m     \u001b[0mx\u001b[0m \u001b[0;34m=\u001b[0m \u001b[0mint\u001b[0m\u001b[0;34m(\u001b[0m\u001b[0minput\u001b[0m\u001b[0;34m(\u001b[0m\u001b[0;34m\"Vnesi številko: \"\u001b[0m\u001b[0;34m)\u001b[0m\u001b[0;34m)\u001b[0m\u001b[0;34m\u001b[0m\u001b[0;34m\u001b[0m\u001b[0m\n\u001b[1;32m      3\u001b[0m     \u001b[0mprint\u001b[0m\u001b[0;34m(\u001b[0m\u001b[0mx\u001b[0m\u001b[0;34m)\u001b[0m\u001b[0;34m\u001b[0m\u001b[0;34m\u001b[0m\u001b[0m\n\u001b[0;32m----> 4\u001b[0;31m     \u001b[0;36m4\u001b[0m\u001b[0;34m/\u001b[0m\u001b[0mx\u001b[0m\u001b[0;34m\u001b[0m\u001b[0;34m\u001b[0m\u001b[0m\n\u001b[0m\u001b[1;32m      5\u001b[0m \u001b[0;32mexcept\u001b[0m \u001b[0mValueError\u001b[0m\u001b[0;34m:\u001b[0m\u001b[0;34m\u001b[0m\u001b[0;34m\u001b[0m\u001b[0m\n\u001b[1;32m      6\u001b[0m     \u001b[0mprint\u001b[0m\u001b[0;34m(\u001b[0m\u001b[0;34m\"To ni številka\"\u001b[0m\u001b[0;34m)\u001b[0m\u001b[0;34m\u001b[0m\u001b[0;34m\u001b[0m\u001b[0m\n",
      "\u001b[0;31mZeroDivisionError\u001b[0m: division by zero"
     ]
    }
   ],
   "source": [
    "try:\n",
    "    x = int(input(\"Vnesi številko: \"))\n",
    "    print(x)\n",
    "    4/x\n",
    "except ValueError:\n",
    "    print(\"To ni številka\")\n",
    "finally:\n",
    "    print(\"Finally statement\")\n",
    "    \n",
    "print(\"Nadaljevanje programa\")"
   ]
  },
  {
   "cell_type": "markdown",
   "id": "a9c3c7f5",
   "metadata": {},
   "source": [
    "# Writing our own exception"
   ]
  },
  {
   "cell_type": "code",
   "execution_count": 41,
   "id": "35f41ba4",
   "metadata": {},
   "outputs": [
    {
     "name": "stdout",
     "output_type": "stream",
     "text": [
      "We raised MojError\n"
     ]
    }
   ],
   "source": [
    "class MojError(Exception):\n",
    "    pass\n",
    "\n",
    "try:\n",
    "    raise MojError(\"We raised MojError\")\n",
    "except MojError as e:\n",
    "    print(e)"
   ]
  },
  {
   "cell_type": "code",
   "execution_count": null,
   "id": "397faff6",
   "metadata": {},
   "outputs": [],
   "source": []
  },
  {
   "cell_type": "code",
   "execution_count": 42,
   "id": "95ab814c",
   "metadata": {},
   "outputs": [
    {
     "name": "stdout",
     "output_type": "stream",
     "text": [
      "Enter a number: 1\n",
      "Ugibana vrednost je premajhna!\n",
      "Enter a number: 20\n",
      "Ugibana vrednost je previsoka!\n",
      "Enter a number: 15\n",
      "Ugibana vrednost je previsoka!\n",
      "Enter a number: 7\n",
      "Ugibana vrednost je premajhna!\n",
      "Enter a number: 9\n",
      "Ugibana vrednost je premajhna!\n",
      "Enter a number: 10\n",
      "Pravilno\n"
     ]
    }
   ],
   "source": [
    "class VrednostPremajhna(Exception):\n",
    "    pass\n",
    "\n",
    "class VrednostPrevisoka(Exception):\n",
    "    pass\n",
    "\n",
    "\n",
    "number = 10\n",
    "\n",
    "while True:\n",
    "    try:\n",
    "        i_num = int(input(\"Enter a number: \"))\n",
    "        if i_num < number:\n",
    "            raise VrednostPremajhna\n",
    "        elif i_num > number:\n",
    "            raise VrednostPrevisoka\n",
    "        elif i_num == number:\n",
    "            print(\"Pravilno\")\n",
    "            break\n",
    "    except VrednostPremajhna:\n",
    "        print(\"Ugibana vrednost je premajhna!\")\n",
    "    except VrednostPrevisoka:\n",
    "        print(\"Ugibana vrednost je previsoka!\")"
   ]
  },
  {
   "cell_type": "code",
   "execution_count": null,
   "id": "aa1f6d36",
   "metadata": {},
   "outputs": [],
   "source": []
  },
  {
   "cell_type": "markdown",
   "id": "222ba6c4",
   "metadata": {},
   "source": [
    "<div class=\"alert alert-block alert-info\">\n",
    "<h1><b>Naloga: </b></h1>\n",
    "S pomočjo <b>math</b> modula izračunajte logaritem 144 z osnovo 12.\n",
    "    \n",
    "https://docs.python.org/3/library/math.html\n",
    "</div>"
   ]
  },
  {
   "cell_type": "code",
   "execution_count": 43,
   "id": "0c686c8f",
   "metadata": {},
   "outputs": [
    {
     "name": "stdout",
     "output_type": "stream",
     "text": [
      "2.0\n"
     ]
    }
   ],
   "source": [
    "import math\n",
    "\n",
    "print(math.log(144, 12))"
   ]
  },
  {
   "cell_type": "markdown",
   "id": "a74ff946",
   "metadata": {},
   "source": [
    "<div class=\"alert alert-block alert-info\">\n",
    "<h1><b>Naloga: </b></h1>\n",
    "Ustvarite nov modul imenovan <b>naloga1.py</b>. Znotraj modula napišite funkcijo <b>pretvornik(x, mode)</b>, ki spreminja radiane v stopinje in obratno.\n",
    "    \n",
    "Funkcija naj sprejme 2 argumenta. Prvi argument je vrednost, katero želimo pretvoriti. Drugi argument, imenovan <b>mode</b> pa nam pove v katero enoto spreminjamo.\n",
    "    \n",
    "    mode = \"deg2rad\" pomeni, da spreminjamo iz stopinj v radiane\n",
    "    mode = \"rad2deg\" pomeni, da spreminjamo iz radianov v stopinje\n",
    "    \n",
    "Za pomoč pri pretvarjanju uporabite <b>math</b> modul.\n",
    "    \n",
    "Zravn modula prilepite podano skripto <b>test.py</b> in to skripto zaženite.\n",
    "</div>"
   ]
  },
  {
   "cell_type": "markdown",
   "id": "62071960",
   "metadata": {},
   "source": [
    "# http://collabedit.com/72677"
   ]
  },
  {
   "cell_type": "code",
   "execution_count": null,
   "id": "c73ed6f3",
   "metadata": {},
   "outputs": [],
   "source": []
  },
  {
   "cell_type": "code",
   "execution_count": null,
   "id": "e718ac2e",
   "metadata": {},
   "outputs": [],
   "source": []
  },
  {
   "cell_type": "markdown",
   "id": "1bb04d1f",
   "metadata": {},
   "source": [
    "# Delo z datotekam"
   ]
  },
  {
   "cell_type": "code",
   "execution_count": 45,
   "id": "bc92cba9",
   "metadata": {},
   "outputs": [],
   "source": [
    "try:\n",
    "    f = open(\"test.txt\", \"rt\")\n",
    "    # file operation\n",
    "finally:\n",
    "    f.close()"
   ]
  },
  {
   "cell_type": "code",
   "execution_count": null,
   "id": "91862261",
   "metadata": {},
   "outputs": [],
   "source": [
    "with open(\"test.txt\", \"r\") as f:\n",
    "    # file operations\n",
    "    pass"
   ]
  },
  {
   "cell_type": "markdown",
   "id": "9328cc6a",
   "metadata": {},
   "source": [
    "# Branje datotek"
   ]
  },
  {
   "cell_type": "code",
   "execution_count": 47,
   "id": "8560bbc9",
   "metadata": {},
   "outputs": [
    {
     "name": "stdout",
     "output_type": "stream",
     "text": [
      "Hello world!\n",
      "This is my file.\n",
      "<class 'str'>\n"
     ]
    }
   ],
   "source": [
    "with open(\"test2.txt\", \"r\") as f:\n",
    "    file_data = f.read()\n",
    "    print(file_data)\n",
    "    print(type(file_data))"
   ]
  },
  {
   "cell_type": "code",
   "execution_count": 51,
   "id": "49195c40",
   "metadata": {},
   "outputs": [
    {
     "name": "stdout",
     "output_type": "stream",
     "text": [
      "He\n",
      "llo wo\n",
      "rld!\n",
      "This is my file.\n",
      "\n"
     ]
    }
   ],
   "source": [
    "with open(\"test2.txt\", \"r\") as f:\n",
    "    file_data = f.read(2)\n",
    "    print(file_data)\n",
    "    file_data = f.read(6)\n",
    "    print(file_data)\n",
    "    file_data = f.read()\n",
    "    print(file_data)\n",
    "    file_data = f.read()\n",
    "    print(file_data)"
   ]
  },
  {
   "cell_type": "code",
   "execution_count": 56,
   "id": "df1b7efc",
   "metadata": {},
   "outputs": [
    {
     "name": "stdout",
     "output_type": "stream",
     "text": [
      "0\n",
      "Hell\n",
      "4\n",
      "Hell\n"
     ]
    }
   ],
   "source": [
    "with open(\"test2.txt\", \"r\") as f:\n",
    "    print(f.tell())\n",
    "    print(f.read(4))\n",
    "    print(f.tell())\n",
    "    f.seek(0)\n",
    "    print(f.read(4))"
   ]
  },
  {
   "cell_type": "code",
   "execution_count": 61,
   "id": "658e55d7",
   "metadata": {},
   "outputs": [
    {
     "name": "stdout",
     "output_type": "stream",
     "text": [
      "Hello world!\n",
      "This is my file."
     ]
    }
   ],
   "source": [
    "with open(\"test2.txt\", \"r\") as f:\n",
    "    for line in f:\n",
    "        print(line, end=\"\")"
   ]
  },
  {
   "cell_type": "code",
   "execution_count": 63,
   "id": "bb3636d1",
   "metadata": {},
   "outputs": [
    {
     "name": "stdout",
     "output_type": "stream",
     "text": [
      "Hello world!\n",
      "\n",
      "This is my file.\n"
     ]
    }
   ],
   "source": [
    "with open(\"test2.txt\", \"r\") as f:\n",
    "    print(f.readline())\n",
    "    print(f.readline())"
   ]
  },
  {
   "cell_type": "code",
   "execution_count": 65,
   "id": "5b3e3769",
   "metadata": {},
   "outputs": [
    {
     "name": "stdout",
     "output_type": "stream",
     "text": [
      "['Hello world!\\n', 'This is my file.']\n",
      "This is my file.\n"
     ]
    }
   ],
   "source": [
    "with open(\"test2.txt\", \"r\") as f:\n",
    "    list_of_lines = f.readlines()\n",
    "    print(list_of_lines)\n",
    "    print(list_of_lines[-1])"
   ]
  },
  {
   "cell_type": "markdown",
   "id": "67f9cf51",
   "metadata": {},
   "source": [
    "<div class=\"alert alert-block alert-info\">\n",
    "<h1><b>Naloga: </b></h1>\n",
    "Napišite funkcijo, ki kot parameter <b>x</b> premje neko celo število.\n",
    "Funkcija naj izpiše zadnjih x vrstic v datoteki <i>naloga2.txt</i>.\n",
    "</div>\n",
    "\n",
    "\n",
    "```python\n",
    "INPUT:\n",
    "funkcija(3)\n",
    "\n",
    "OUTPUT:\n",
    "line 7\n",
    "line 8\n",
    "line 9\n",
    "```"
   ]
  },
  {
   "cell_type": "markdown",
   "id": "d184078d",
   "metadata": {},
   "source": [
    "# http://collabedit.com/72677"
   ]
  },
  {
   "cell_type": "code",
   "execution_count": 70,
   "id": "a1ada7d7",
   "metadata": {},
   "outputs": [
    {
     "name": "stdout",
     "output_type": "stream",
     "text": [
      "['line 6\\n', 'line 7\\n', 'line 8\\n', 'line 9']\n",
      "line 6\n",
      "line 7\n",
      "line 8\n",
      "line 9\n"
     ]
    }
   ],
   "source": [
    "def funkcija(x):\n",
    "    with open(\"naloga2.txt\", \"r\") as f:\n",
    "        data = f.readlines()\n",
    "        print(data[-1*x:])\n",
    "        for line in data[-x:]:\n",
    "            print(line.strip())\n",
    "        \n",
    "funkcija(4)"
   ]
  },
  {
   "cell_type": "code",
   "execution_count": null,
   "id": "1708a33d",
   "metadata": {},
   "outputs": [],
   "source": []
  },
  {
   "cell_type": "markdown",
   "id": "9d840872",
   "metadata": {},
   "source": [
    "## pisanje v datoteko"
   ]
  },
  {
   "cell_type": "code",
   "execution_count": 74,
   "id": "7b1bf872",
   "metadata": {},
   "outputs": [],
   "source": [
    "with open(\"test3.txt\", \"w\") as f:\n",
    "    f.write(\"my first line\\n\")\n",
    "    f.write(\"my second line\")"
   ]
  },
  {
   "cell_type": "code",
   "execution_count": 75,
   "id": "f6db2ee0",
   "metadata": {},
   "outputs": [],
   "source": [
    "with open(\"test3.txt\", \"a\") as f:\n",
    "    f.write(\"\\nWe are adding another line\")"
   ]
  },
  {
   "cell_type": "code",
   "execution_count": 76,
   "id": "5564a976",
   "metadata": {},
   "outputs": [
    {
     "ename": "FileExistsError",
     "evalue": "[Errno 17] File exists: 'test3.txt'",
     "output_type": "error",
     "traceback": [
      "\u001b[0;31m---------------------------------------------------------------------------\u001b[0m",
      "\u001b[0;31mFileExistsError\u001b[0m                           Traceback (most recent call last)",
      "\u001b[0;32m<ipython-input-76-0d6f2d330585>\u001b[0m in \u001b[0;36m<module>\u001b[0;34m\u001b[0m\n\u001b[0;32m----> 1\u001b[0;31m \u001b[0;32mwith\u001b[0m \u001b[0mopen\u001b[0m\u001b[0;34m(\u001b[0m\u001b[0;34m\"test3.txt\"\u001b[0m\u001b[0;34m,\u001b[0m \u001b[0;34m\"x\"\u001b[0m\u001b[0;34m)\u001b[0m \u001b[0;32mas\u001b[0m \u001b[0mf\u001b[0m\u001b[0;34m:\u001b[0m\u001b[0;34m\u001b[0m\u001b[0;34m\u001b[0m\u001b[0m\n\u001b[0m\u001b[1;32m      2\u001b[0m     \u001b[0;32mpass\u001b[0m\u001b[0;34m\u001b[0m\u001b[0;34m\u001b[0m\u001b[0m\n",
      "\u001b[0;31mFileExistsError\u001b[0m: [Errno 17] File exists: 'test3.txt'"
     ]
    }
   ],
   "source": [
    "with open(\"test3.txt\", \"x\") as f:\n",
    "    pass"
   ]
  },
  {
   "cell_type": "code",
   "execution_count": null,
   "id": "6b1e174f",
   "metadata": {},
   "outputs": [],
   "source": []
  },
  {
   "cell_type": "markdown",
   "id": "bbbbbcb0",
   "metadata": {},
   "source": [
    "```\n",
    "{\n",
    "    \"firstName\": \"Jane\",\n",
    "    \"lastName\": \"Doe\",\n",
    "    \"hobbies\": [\"running\", \"sky diving\", \"singing\"],\n",
    "    \"age\": 35,\n",
    "    \"children\": [\n",
    "        {\n",
    "            \"firstName\": \"Alice\",\n",
    "            \"age\": 6\n",
    "        },\n",
    "        {\n",
    "            \"firstName\": \"Bob\",\n",
    "            \"age\": 8\n",
    "        }\n",
    "    ]\n",
    "}\n",
    "```"
   ]
  },
  {
   "cell_type": "code",
   "execution_count": 77,
   "id": "90b2a849",
   "metadata": {},
   "outputs": [],
   "source": [
    "import json\n",
    "\n",
    "data = {\n",
    "    \"firstName\": \"Jane\",\n",
    "    \"lastName\": \"Doe\",\n",
    "    \"hobbies\": [\"running\", \"sky diving\", \"singing\"],\n",
    "    \"age\": 35,\n",
    "    \"children\": [\n",
    "        {\n",
    "            \"firstName\": \"Alice\",\n",
    "            \"age\": 6\n",
    "        },\n",
    "        {\n",
    "            \"firstName\": \"Bob\",\n",
    "            \"age\": 8\n",
    "        }\n",
    "    ]\n",
    "}\n",
    "\n",
    "with open(\"data_file.json\", \"w\") as f:\n",
    "    json.dump(data, f)"
   ]
  },
  {
   "cell_type": "code",
   "execution_count": 79,
   "id": "a91d533a",
   "metadata": {},
   "outputs": [
    {
     "name": "stdout",
     "output_type": "stream",
     "text": [
      "{'firstName': 'Jane', 'lastName': 'Doe', 'hobbies': ['running', 'sky diving', 'singing'], 'age': 35, 'children': [{'firstName': 'Alice', 'age': 6}, {'firstName': 'Bob', 'age': 8}]}\n",
      "Jane\n"
     ]
    }
   ],
   "source": [
    "import json\n",
    "\n",
    "with open(\"data_file.json\", \"r\") as f:\n",
    "    data = json.load(f)\n",
    "    print(data)\n",
    "    print(data[\"firstName\"])"
   ]
  },
  {
   "cell_type": "markdown",
   "id": "9e7588bd",
   "metadata": {},
   "source": [
    "<div class=\"alert alert-block alert-info\">\n",
    "<h1><b>Naloga: </b></h1>\n",
    "Napišite funkcijo <b>dictionary</b>, ki vpraša uporabnika naj vnese določen string in nato vrne vse besede, ki vsebujejo podani string.\n",
    "</div>\n",
    "\n",
    "\n",
    "```python\n",
    "INPUT:\n",
    "dictionary()\n",
    "\n",
    "OUTPUT:\n",
    "Vnesi besedo: meow\n",
    "homeown\n",
    "homeowner\n",
    "homeowners\n",
    "meow\n",
    "meowed\n",
    "meowing\n",
    "meows\n",
    "```"
   ]
  },
  {
   "cell_type": "markdown",
   "id": "8f0c9aef",
   "metadata": {},
   "source": [
    "# https://raw.githubusercontent.com/dwyl/english-words/master/words_alpha.txt"
   ]
  },
  {
   "cell_type": "code",
   "execution_count": 80,
   "id": "d72c2149",
   "metadata": {},
   "outputs": [
    {
     "name": "stdout",
     "output_type": "stream",
     "text": [
      "Vnesi besedo: meow\n",
      "homeown\n",
      "homeowner\n",
      "homeowners\n",
      "meow\n",
      "meowed\n",
      "meowing\n",
      "meows\n"
     ]
    }
   ],
   "source": [
    "def dictionary():\n",
    "    beseda = input(\"Vnesi besedo: \")\n",
    "    \n",
    "    with open(\"words_alpha.txt\") as f:\n",
    "        for line in f.readlines():\n",
    "            if beseda in line:\n",
    "                print(line, end=\"\")\n",
    "                \n",
    "dictionary()"
   ]
  }
 ],
 "metadata": {
  "kernelspec": {
   "display_name": "Python 3",
   "language": "python",
   "name": "python3"
  },
  "language_info": {
   "codemirror_mode": {
    "name": "ipython",
    "version": 3
   },
   "file_extension": ".py",
   "mimetype": "text/x-python",
   "name": "python",
   "nbconvert_exporter": "python",
   "pygments_lexer": "ipython3",
   "version": "3.8.8"
  }
 },
 "nbformat": 4,
 "nbformat_minor": 5
}
