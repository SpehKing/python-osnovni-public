{
 "cells": [
  {
   "cell_type": "code",
   "execution_count": null,
   "metadata": {},
   "outputs": [],
   "source": []
  },
  {
   "cell_type": "markdown",
   "metadata": {},
   "source": [
    "* def in pravilno poimenovanje funkcije. 1 točka\n",
    "* Sprejetje argumenta pravilno. 1 točke\n",
    "* Logika pravilno implementirana. 2 točka\n",
    "* Pravilno vrne rezultat. 1 točka"
   ]
  },
  {
   "cell_type": "markdown",
   "metadata": {},
   "source": [
    "# Izpit\n",
    "\n",
    "Tekom primera izpita boste napisali svoj modul. Poimenujte ga **Ime_Priimek**. Ko končate z izpitom ga pošljite na leon.stefanic@ltfe.org, gregor.balkovec@ltfe.org\n"
   ]
  },
  {
   "cell_type": "markdown",
   "metadata": {},
   "source": [
    "# Naloga 01\n",
    "\n",
    "**Točka: / 5**\n",
    "\n",
    "Napišite funkcijo `funkcija01`, ki sprejme pozitivno integer vrednost kot argument. Funkcija naj vrne \"Sodo\" oziroma \"Liho\", če je podana številka soda oziroma liha.\n",
    "\n",
    "```python\n",
    "print(funkcija01(95)) ==> 'Liho'\n",
    "print(funkcija01(24)) ==> 'Sodo'\n",
    "print(funkcija01(4)) ==> 'Sodo'\n",
    "print(funkcija01(65)) ==> 'Liho'\n",
    "print(funkcija01(25)) ==> 'Liho'\n",
    "```"
   ]
  },
  {
   "cell_type": "code",
   "execution_count": null,
   "metadata": {},
   "outputs": [],
   "source": [
    "# Test\n",
    "if funkcija01(95) == \"Liho\":\n",
    "    print(\"Primer 95 vredu.\")\n",
    "else:\n",
    "    print(\"Primer ni vredu!!! Kot argument smo poslali vrednost 95\")\n",
    "    \n",
    "if funkcija01(24) == \"Sodo\":\n",
    "    print(\"Primer 24 vredu.\")\n",
    "else:\n",
    "    print(\"Primer ni vredu!!! Kot argument smo poslali vrednost 24\")\n",
    "    \n",
    "if funkcija01(4) == \"Sodo\":\n",
    "    print(\"Primer 4 vredu.\")\n",
    "else:\n",
    "    print(\"Primer ni vredu!!! Kot argument smo poslali vrednost 4\")\n",
    "    \n",
    "if funkcija01(65) == \"Liho\":\n",
    "    print(\"Primer 65 vredu.\")\n",
    "else:\n",
    "    print(\"Primer ni vredu!!! Kot argument smo poslali vrednost 65\")\n",
    "    \n",
    "if funkcija01(23) == \"Liho\":\n",
    "    print(\"Primer 23 vredu.\")\n",
    "else:\n",
    "    print(\"Primer ni vredu!!! Kot argument smo poslali vrednost 23\")"
   ]
  },
  {
   "cell_type": "code",
   "execution_count": null,
   "metadata": {},
   "outputs": [],
   "source": [
    "# Rešitev\n"
   ]
  },
  {
   "cell_type": "code",
   "execution_count": null,
   "metadata": {},
   "outputs": [],
   "source": []
  },
  {
   "cell_type": "markdown",
   "metadata": {},
   "source": [
    "# Naloga 02\n",
    "\n",
    "**Točke: / 5**\n",
    "\n",
    "Napišite funkcijo `funkcija02`, ki sprejme 2D list. Elementi znotraj lista so float oziroma integer vrednosti. Funkcija naj najde minimalno vrednost v vsaki vrstici in te vrednosti sešteje. Rezultat vrnite vedno v obliki float.\n",
    "\n",
    "```python\n",
    "x = [\n",
    "  [1.2, 2.0, 3, 4.1, 5],       # minimum value of row is 1.2\n",
    "  [5.3, 6.3, 7, 8, 9.5],       # minimum value of row is 5.3\n",
    "  [25.1, 21.4, 34, 56.5, 100]  # minimum value of row is 21.4\n",
    "]\n",
    "\n",
    "rezultat = funkcija02(x)\n",
    "print(rezultat) ==> 27.9\n",
    "print(type(rezultat)) ==> <class 'float'>\n",
    "```"
   ]
  },
  {
   "cell_type": "code",
   "execution_count": null,
   "metadata": {},
   "outputs": [],
   "source": [
    "# Test\n",
    "import math\n",
    "\n",
    "x = [\n",
    "      [1.2, 2.0, 3, 4.1, 5],     \n",
    "      [5.3, 6.3, 7, 8, 9.5],     \n",
    "      [25.1, 21.4, 34, 56.5, 100]\n",
    "    ]\n",
    "\n",
    "rezultat = funkcija02(x)\n",
    "if type(rezultat) is float:\n",
    "    if math.isclose(rezultat, 27.9, abs_tol=0.001):\n",
    "        print(\"Primer je vredu.\")\n",
    "    else:\n",
    "        print(f\"Primer ni vredu!!! Kot argument smo poslali {x}. Nazaj smo dobili vrednost {funkcija02(x)}, pričakovana pa je bila 27.9\")\n",
    "else:\n",
    "    print(f\"Primer ni vredu!!! Rezultat mora biti tipa float, vendar je tipa {type(rezultat)}.\")"
   ]
  },
  {
   "cell_type": "code",
   "execution_count": null,
   "metadata": {},
   "outputs": [],
   "source": [
    "# Rešitev\n"
   ]
  },
  {
   "cell_type": "code",
   "execution_count": null,
   "metadata": {},
   "outputs": [],
   "source": []
  },
  {
   "cell_type": "markdown",
   "metadata": {},
   "source": [
    "# Naloga 03\n",
    "**Točke: /5**\n",
    "\n",
    "Napiši funkcijo `funkcija03`, ki prejme 2 argumenta: besedo in črko. Funkcija naj vrne list indeksov, na katerih se črka pojavi v besedi.\n",
    "\n",
    "```python\n",
    "print(funkcija03(\"ponudnik\", \"n\")) ==> [2, 5]\n",
    "print(funkcija03(\"rabarbara\", \"r\")) ==> [0, 4, 7]\n",
    "print(funkcija03(\"amfiteater\", \"o\")) ==> []\n",
    "```"
   ]
  },
  {
   "cell_type": "code",
   "execution_count": null,
   "metadata": {},
   "outputs": [],
   "source": [
    "# Test\n",
    "\n",
    "if funkcija03(\"ponudnik\", \"n\") == [2, 5]:\n",
    "    print(\"Primer je vredu.\")\n",
    "else:\n",
    "    print(\"Primer ni vredu!!! Kot argument smo poslali 'ponudnik' in 'n'. Kot rezultat se je pričakovalo [2,5]\")\n",
    "    \n",
    "if funkcija03(\"rabarbara\", \"r\") == [0, 4, 7]:\n",
    "    print(\"Primer je vredu.\")\n",
    "else:\n",
    "    print(\"Primer ni vredu!!! Kot argument smo poslali 'rabarbara' in 'r'. Kot rezultat se je pričakovalo [0, 4, 7]\")\n",
    "    \n",
    "if funkcija03(\"amfiteater\", \"o\") == []:\n",
    "    print(\"Primer je vredu.\")\n",
    "else:\n",
    "    print(\"Primer ni vredu!!! Kot argument smo poslali 'amfiteater' in 'o'. Kot rezultat se je pričakovalo []\")"
   ]
  },
  {
   "cell_type": "code",
   "execution_count": null,
   "metadata": {},
   "outputs": [],
   "source": [
    "# Rešitev\n"
   ]
  },
  {
   "cell_type": "code",
   "execution_count": null,
   "metadata": {},
   "outputs": [],
   "source": []
  },
  {
   "cell_type": "markdown",
   "metadata": {},
   "source": [
    "# Naloga 04\n",
    "**Točke: /5**\n",
    "\n",
    "Napišite funkcijo `funkcija04`, ki kot argument prejme tupel. Funkcija naj izloči vse podvojene elemente in vrne nazaj očiščen tuple.\n",
    "\n",
    "```python\n",
    "x = (1,2,3,1,6,5,7,3,4,7,5,4,3,5,3,10,11,10,3,10)\n",
    "print(funkcija04(x)) ==> (1, 2, 3, 4, 5, 6, 7, 10, 11)\n",
    "\n",
    "```"
   ]
  },
  {
   "cell_type": "code",
   "execution_count": null,
   "metadata": {},
   "outputs": [],
   "source": [
    "# Test\n",
    "\n",
    "rezultat = funkcija04((1,2,3,1,6,5,7,3,4,7,5,4,3,5,3,10,11,10,3,10))\n",
    "if type(rezultat) == tuple:\n",
    "    if rezultat == (1, 2, 3, 4, 5, 6, 7, 10, 11):\n",
    "        print(\"Primer je vredu.\")\n",
    "    else:\n",
    "        print(f\"Primer ni vredu!!! Dobili smo rezultat {rezultat}, vendar se je pričakovalo (1, 2, 3, 4, 5, 6, 7, 10, 11).\")\n",
    "else:\n",
    "    print(f\"Primer ni vredu!!! Rezultat bi moral biti tipa tuple, vendar je tipa {type(rezultat)}\")\n"
   ]
  },
  {
   "cell_type": "code",
   "execution_count": null,
   "metadata": {},
   "outputs": [],
   "source": [
    "# Rešitev\n",
    "\n"
   ]
  },
  {
   "cell_type": "code",
   "execution_count": null,
   "metadata": {},
   "outputs": [],
   "source": []
  },
  {
   "cell_type": "markdown",
   "metadata": {},
   "source": [
    "# Naloga 05\n",
    "**Točke: /5**\n",
    "\n",
    "Napišite funkcijo `funkcija05`, ki prejme kot argument dictionary. \\<Ključ\\>:\\<vrednost\\> sta oblike \\<integer\\>:\\<list\\>. Vaša naloga je, da iz vsakega lista pričnete izločati maximalne vrednosti, dokler celotni seštevek lista ni manjši od njegovega ključa. Posodobljeni dictionary vrnite.\n",
    "\n",
    "Če v listu obstajata 2 ali več maximalnih vrednosti, prvo izločite tisto, ki je bolj na začetku.\n",
    "\n",
    "```python\n",
    "x = {\n",
    "    12: [1,5,12,46,3,24,9],\n",
    "    45: [3,43,23,67,12,3,5],\n",
    "    23: [64,12,34,46,86,21,3,6,8]\n",
    "}\n",
    "funkcija05(x)\n",
    "\n",
    "Naj vrne dictionary v obliki:\n",
    "{\n",
    "    12: [1, 5, 3], \n",
    "    45: [3, 12, 3, 5], \n",
    "    23: [3, 6, 8]\n",
    "}\n",
    "```"
   ]
  },
  {
   "cell_type": "code",
   "execution_count": null,
   "metadata": {},
   "outputs": [],
   "source": [
    "# Test\n",
    "x = {\n",
    "    12: [1,5,12,46,3,24,9],\n",
    "    45: [3,43,23,67,12,3,5],\n",
    "    23: [64,12,34,46,86,21,3,6,8]\n",
    "}\n",
    "\n",
    "rezultat = funkcija05(x)\n",
    "correct = True\n",
    "if len(rezultat.keys()) != 3:\n",
    "    print(f\"Primer ni vredu!!! Rezultat ima preveč ključev {len(rezultat.keys())}: {rezultat.keys()}. Pričakuje se, da ima 3: 12, 45 in 23.\")\n",
    "    correct = False\n",
    "if rezultat[12] != [1, 5, 3]:\n",
    "    print(f\"Primer ni vredu!!! Za rezultat se je dobilo {rezultat[12]}. Pričakovalo se je [1, 5, 3]\")\n",
    "    correct = False\n",
    "if rezultat[45] != [3, 12, 3, 5]:\n",
    "    print(f\"Primer ni vredu!!! Za rezultat se je dobilo {rezultat[45]}. Pričakovalo se je [3, 12, 3, 5]\")\n",
    "    correct = False\n",
    "if rezultat[23] != [3, 6, 8]:\n",
    "    print(f\"Primer ni vredu!!! Za rezultat se je dobilo {rezultat[23]}. Pričakovalo se je [3, 6, 8]\")\n",
    "    correct = False\n",
    "\n",
    "if correct:\n",
    "    print(\"Primer je vredu.\")"
   ]
  },
  {
   "cell_type": "code",
   "execution_count": null,
   "metadata": {},
   "outputs": [],
   "source": [
    "# Rešitev\n"
   ]
  },
  {
   "cell_type": "code",
   "execution_count": null,
   "metadata": {},
   "outputs": [],
   "source": []
  },
  {
   "cell_type": "markdown",
   "metadata": {},
   "source": [
    "# Naloga 06\n"
   ]
  },
  {
   "cell_type": "markdown",
   "metadata": {},
   "source": [
    "**Točke: / 10**"
   ]
  },
  {
   "cell_type": "markdown",
   "metadata": {},
   "source": [
    "Ustvarite razred `Polica`.\n",
    "* Vsaka instanca razreda naj ima:\n",
    "* * **knjige** -> list naslovov knjig, ki se nahajajo na polici\n",
    "* * **max_knjig** -> integer vrednost, ki pove koliko knjig, gre maximalno na polico\n",
    "* Ko ustvarimo instanco razreda vanj posredujemo številko maximalnih knjig na polici.\n",
    "* Ko ustvarimo instanco razreda vanj posredujemo lahko tudi list naslovov knjig, ki se že nahajajo na polici. Če takega seznama ne posredujemo naj ima polica prazen seznam.\n",
    "* Razred naj ima metodo `kaj_je_na_polici`, ki naj vrne list naslovov knjig\n",
    "* Razred naj ima metodo `dodaj_knjigo`, ki kot argument prejme string naslova knjige. To knjigo naj doda v list naslovov knjig, če s tem ne presežemo maximalno število knjig. Če bi presegli to število knjige ne dodamo.\n",
    "* Razred naj ima metodo `uredi_knjige`, ki kot argument **ascending** prejme boolean vrednost, ki nam pove ali naj bodo knjige urejene (glede na prvo črko) v A->Z (vrednost True) oziroma Z->A (vrednost False). Če ta vrednost ni bila posredovana naj bo default vrstni red A->Z. Metoda naj uredi list naslovov knjig in tega nato vrne\n",
    "* Razred naj ima metodo `shrani_knjige`, ki v datoteko \"Knjige.txt\" shrani naslove knjig. Vsak naslov v svojo vrstico.\n",
    "\n",
    "```python\n",
    "polica = Polica(7, [\"The Witcher\", \"Dune\", \"Harry Potter\", \"Hamlet\", \"Krautov Strojniški Priročnik\", \"SSKJ\"])\n",
    "print(polica.kaj_je_na_polici())\n",
    "==> ['The Witcher', 'Dune', 'Harry Potter', 'Hamlet', 'Krautov Strojniški Priročnik', 'SSKJ']\n",
    "\n",
    "print(polica.uredi_knjige())\n",
    "==> ['Dune', 'Hamlet', 'Harry Potter', 'Krautov Strojniški Priročnik', 'SSKJ', 'The Witcher']\n",
    "\n",
    "polica.dodaj_knjigo(\"Romeo in Julija\")\n",
    "print(polica.kaj_je_na_polici())\n",
    "==> ['Dune', 'Hamlet', 'Harry Potter', 'Krautov Strojniški Priročnik', 'SSKJ', 'The Witcher', 'Romeo in Julija']\n",
    "\n",
    "polica.dodaj_knjigo(\"Game of Thrones\")\n",
    "print(polica.kaj_je_na_polici())\n",
    "==> ['Dune', 'Hamlet', 'Harry Potter', 'Krautov Strojniški Priročnik', 'SSKJ', 'The Witcher', 'Romeo in Julija']\n",
    "\n",
    "print(polica.uredi_knjige(False))\n",
    "==> ['The Witcher', 'SSKJ', 'Romeo in Julija', 'Krautov Strojniški Priročnik', 'Harry Potter', 'Hamlet', 'Dune']\n",
    "\n",
    "polica.shrani_knjige()\n",
    "```"
   ]
  },
  {
   "cell_type": "code",
   "execution_count": null,
   "metadata": {},
   "outputs": [],
   "source": [
    "# Test\n",
    "\n",
    "polica1 = Polica(5)\n",
    "if polica1.max_knjig == 5:\n",
    "    print(\"Primer je vredu.\")\n",
    "else:\n",
    "    print(f\"Primer ni vredu!!! Max število knjig bi moralo biti 5, vendar je {polica1.max_knjig}\")\n",
    "    \n",
    "if polica1.knjige == list():\n",
    "    print(\"Primer je vredu.\")\n",
    "else:\n",
    "    print(f\"Primer ni vredu!!! Ko smo ustvarili instanco razreda Polica vanj nismo posredovali začetnih knjig. Torej na polici ne bi smelo biti knjig, vendar imamo {polica1.knjige}.\")\n",
    "    \n",
    "\n",
    "polica2 = Polica(7, [\"The Witcher\", \"Dune\", \"Harry Potter\", \"Hamlet\", \"Krautov Strojniški Priročnik\", \"SSKJ\"])\n",
    "rezultat2 = polica2.kaj_je_na_polici()\n",
    "if type(rezultat2) is not list:\n",
    "    print(f\"Primer ni vredu!!! Klicali smo polica2.kaj_je_na_polici(). Vrnjena vrednost bi morala biti tipa list vendar je {type(rezultat2)}.\")\n",
    "else:\n",
    "    correct = True\n",
    "    for knjiga in rezultat2:\n",
    "        if knjiga not in ['The Witcher', 'Dune', 'Harry Potter', 'Hamlet', 'Krautov Strojniški Priročnik', 'SSKJ']:\n",
    "            print(f\"Primer ni vredu!!! Knjiga {knjiga} se ne bi smela nahajati na naši polici.\")\n",
    "            correct = False\n",
    "            break\n",
    "    if correct:\n",
    "        print(\"Primer je vredu.\")\n",
    "        \n",
    "polica2.dodaj_knjigo(\"Romeo in Julija\")\n",
    "if \"Romeo in Julija\" in polica2.kaj_je_na_polici():\n",
    "    print(\"Primer je vredu.\")\n",
    "else:\n",
    "    print(f\"Primer ni vredu!!! Dodali smo 'Romeo in Julija' vendar se knjiga ne nahaja na polici {polica2.kaj_je_na_polici()}.\")\n",
    "    \n",
    "rezultat3 = polica2.uredi_knjige()\n",
    "if rezultat3:\n",
    "    if rezultat3 == ['Dune', 'Hamlet', 'Harry Potter', 'Krautov Strojniški Priročnik', 'Romeo in Julija', 'SSKJ', 'The Witcher']:\n",
    "        print(\"Primer je vredu.\")\n",
    "    else:\n",
    "        print(f\"Primer ni vredu!!! Knjige niso razvrščene po abecedi A->Z.\")\n",
    "else:\n",
    "    print(f\"Primer ni vredu!!! Če kličemo metodo polica.uredi_knjige() želimo dobiti vrnjen list pravilno razporejenih knjig. Dobili pa smo {rezultat3}\")\n",
    "\n",
    "\n",
    "rezultat4 = polica2.uredi_knjige(ascending=False)\n",
    "if rezultat4 == ['The Witcher', 'SSKJ', 'Romeo in Julija', 'Krautov Strojniški Priročnik', 'Harry Potter', 'Hamlet', 'Dune']:\n",
    "    print(\"Primer je vredu.\")\n",
    "else:\n",
    "    print(f\"Primer ni vredu!!! Knjige niso razvrščene po abecedi Z->A.\")\n",
    "    "
   ]
  },
  {
   "cell_type": "code",
   "execution_count": null,
   "metadata": {},
   "outputs": [],
   "source": [
    "# Rešitev\n",
    "\n"
   ]
  },
  {
   "cell_type": "code",
   "execution_count": null,
   "metadata": {},
   "outputs": [],
   "source": []
  }
 ],
 "metadata": {
  "kernelspec": {
   "display_name": "Python 3",
   "language": "python",
   "name": "python3"
  },
  "language_info": {
   "codemirror_mode": {
    "name": "ipython",
    "version": 3
   },
   "file_extension": ".py",
   "mimetype": "text/x-python",
   "name": "python",
   "nbconvert_exporter": "python",
   "pygments_lexer": "ipython3",
   "version": "3.9.5"
  },
  "toc": {
   "base_numbering": 1,
   "nav_menu": {},
   "number_sections": true,
   "sideBar": true,
   "skip_h1_title": false,
   "title_cell": "Table of Contents",
   "title_sidebar": "Contents",
   "toc_cell": false,
   "toc_position": {},
   "toc_section_display": true,
   "toc_window_display": false
  }
 },
 "nbformat": 4,
 "nbformat_minor": 4
}
