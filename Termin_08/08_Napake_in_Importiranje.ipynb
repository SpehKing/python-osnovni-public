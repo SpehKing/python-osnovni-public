{
 "cells": [
  {
   "cell_type": "markdown",
   "metadata": {},
   "source": [
    "# Try and except statements\n",
    "\n",
    "Če za neki del kode predvidimo da bi lahko prišlo do napake, uporabimo try-except.\n",
    "\n",
    "Ko se zgodi napaka Python preveri, če je del kode, ki je vrgel napako znotraj try-except. Če je, Python pogleda, če kateri od exceptov poskrbi za to napako. Če najde pravilen except se izvede njegov del kode s katero poskrbimo za napako in program se nadaljuje od konca try-except.\n",
    "\n",
    "Če Python ne najde pravilnega except-a oziroma vrstica, ki je vrgla napako ni znotraj try-excepta, gre Python 1 nivo višje v kodi. Se pravi, če je bila napaka storjena znotraj funkcije in za napako nismo poskrbeli, gre Python nazaj na vrstico, ki je klicala to funkcijo, in ta vrstica bo tretirana, kot da je ona vrgla napako.\n"
   ]
  },
  {
   "cell_type": "markdown",
   "metadata": {},
   "source": [
    "Kaj so prednosti exception handling:\n",
    "* Exception se lahko preprosto posreduje naprej, dokler ne naletimo na del kode, ki lahko poskrbi za ta exception\n",
    "* Exceptions imajo veliko built-in uporabnih error informacij (lahko dobimo traceback, ki nam pomaga pri debuggiranju)\n",
    "\n",
    "> Here are a few other advantages of exception handling:\n",
    "* It separates normal code from code that handles errors.\n",
    "* Exceptions can easily be passed along functions in the stack until they reach a function which knows how to handle them.\n",
    "* The intermediate functions don’t need to have any error-handling code.\n",
    "* Exceptions come with lots of useful error information built in – for example, they can print a traceback which helps us to see exactly where the error occurred."
   ]
  },
  {
   "cell_type": "code",
   "execution_count": 1,
   "metadata": {},
   "outputs": [
    {
     "ename": "ZeroDivisionError",
     "evalue": "division by zero",
     "output_type": "error",
     "traceback": [
      "\u001b[1;31m---------------------------------------------------------------------------\u001b[0m",
      "\u001b[1;31mZeroDivisionError\u001b[0m                         Traceback (most recent call last)",
      "\u001b[1;32mC:\\Users\\FAKULT~1\\AppData\\Local\\Temp/ipykernel_9412/202410779.py\u001b[0m in \u001b[0;36m<module>\u001b[1;34m\u001b[0m\n\u001b[0;32m      4\u001b[0m     \u001b[1;32mreturn\u001b[0m \u001b[0mfun1\u001b[0m\u001b[1;33m(\u001b[0m\u001b[0ma\u001b[0m\u001b[1;33m,\u001b[0m\u001b[0mb\u001b[0m\u001b[1;33m)\u001b[0m\u001b[1;33m\u001b[0m\u001b[1;33m\u001b[0m\u001b[0m\n\u001b[0;32m      5\u001b[0m \u001b[1;33m\u001b[0m\u001b[0m\n\u001b[1;32m----> 6\u001b[1;33m \u001b[0mprint\u001b[0m\u001b[1;33m(\u001b[0m\u001b[0mfun2\u001b[0m\u001b[1;33m(\u001b[0m\u001b[1;36m1\u001b[0m\u001b[1;33m,\u001b[0m\u001b[1;36m0\u001b[0m\u001b[1;33m)\u001b[0m\u001b[1;33m)\u001b[0m\u001b[1;33m\u001b[0m\u001b[1;33m\u001b[0m\u001b[0m\n\u001b[0m",
      "\u001b[1;32mC:\\Users\\FAKULT~1\\AppData\\Local\\Temp/ipykernel_9412/202410779.py\u001b[0m in \u001b[0;36mfun2\u001b[1;34m(a, b)\u001b[0m\n\u001b[0;32m      2\u001b[0m     \u001b[1;32mreturn\u001b[0m \u001b[0ma\u001b[0m\u001b[1;33m/\u001b[0m\u001b[0mb\u001b[0m\u001b[1;33m\u001b[0m\u001b[1;33m\u001b[0m\u001b[0m\n\u001b[0;32m      3\u001b[0m \u001b[1;32mdef\u001b[0m \u001b[0mfun2\u001b[0m\u001b[1;33m(\u001b[0m\u001b[0ma\u001b[0m\u001b[1;33m,\u001b[0m\u001b[0mb\u001b[0m\u001b[1;33m)\u001b[0m\u001b[1;33m:\u001b[0m\u001b[1;33m\u001b[0m\u001b[1;33m\u001b[0m\u001b[0m\n\u001b[1;32m----> 4\u001b[1;33m     \u001b[1;32mreturn\u001b[0m \u001b[0mfun1\u001b[0m\u001b[1;33m(\u001b[0m\u001b[0ma\u001b[0m\u001b[1;33m,\u001b[0m\u001b[0mb\u001b[0m\u001b[1;33m)\u001b[0m\u001b[1;33m\u001b[0m\u001b[1;33m\u001b[0m\u001b[0m\n\u001b[0m\u001b[0;32m      5\u001b[0m \u001b[1;33m\u001b[0m\u001b[0m\n\u001b[0;32m      6\u001b[0m \u001b[0mprint\u001b[0m\u001b[1;33m(\u001b[0m\u001b[0mfun2\u001b[0m\u001b[1;33m(\u001b[0m\u001b[1;36m1\u001b[0m\u001b[1;33m,\u001b[0m\u001b[1;36m0\u001b[0m\u001b[1;33m)\u001b[0m\u001b[1;33m)\u001b[0m\u001b[1;33m\u001b[0m\u001b[1;33m\u001b[0m\u001b[0m\n",
      "\u001b[1;32mC:\\Users\\FAKULT~1\\AppData\\Local\\Temp/ipykernel_9412/202410779.py\u001b[0m in \u001b[0;36mfun1\u001b[1;34m(a, b)\u001b[0m\n\u001b[0;32m      1\u001b[0m \u001b[1;32mdef\u001b[0m \u001b[0mfun1\u001b[0m\u001b[1;33m(\u001b[0m\u001b[0ma\u001b[0m\u001b[1;33m,\u001b[0m\u001b[0mb\u001b[0m\u001b[1;33m)\u001b[0m\u001b[1;33m:\u001b[0m\u001b[1;33m\u001b[0m\u001b[1;33m\u001b[0m\u001b[0m\n\u001b[1;32m----> 2\u001b[1;33m     \u001b[1;32mreturn\u001b[0m \u001b[0ma\u001b[0m\u001b[1;33m/\u001b[0m\u001b[0mb\u001b[0m\u001b[1;33m\u001b[0m\u001b[1;33m\u001b[0m\u001b[0m\n\u001b[0m\u001b[0;32m      3\u001b[0m \u001b[1;32mdef\u001b[0m \u001b[0mfun2\u001b[0m\u001b[1;33m(\u001b[0m\u001b[0ma\u001b[0m\u001b[1;33m,\u001b[0m\u001b[0mb\u001b[0m\u001b[1;33m)\u001b[0m\u001b[1;33m:\u001b[0m\u001b[1;33m\u001b[0m\u001b[1;33m\u001b[0m\u001b[0m\n\u001b[0;32m      4\u001b[0m     \u001b[1;32mreturn\u001b[0m \u001b[0mfun1\u001b[0m\u001b[1;33m(\u001b[0m\u001b[0ma\u001b[0m\u001b[1;33m,\u001b[0m\u001b[0mb\u001b[0m\u001b[1;33m)\u001b[0m\u001b[1;33m\u001b[0m\u001b[1;33m\u001b[0m\u001b[0m\n\u001b[0;32m      5\u001b[0m \u001b[1;33m\u001b[0m\u001b[0m\n",
      "\u001b[1;31mZeroDivisionError\u001b[0m: division by zero"
     ]
    }
   ],
   "source": [
    "def fun1(a,b):\n",
    "    return a/b\n",
    "def fun2(a,b):\n",
    "    return fun1(a,b)\n",
    "\n",
    "print(fun2(1,0))"
   ]
  },
  {
   "cell_type": "code",
   "execution_count": 2,
   "metadata": {},
   "outputs": [
    {
     "name": "stdout",
     "output_type": "stream",
     "text": [
      "Izvedi ta print\n"
     ]
    }
   ],
   "source": [
    "try:\n",
    "    print(\"Izvedi ta print\")\n",
    "except:\n",
    "    print(\"Prišlo je do napake\")"
   ]
  },
  {
   "cell_type": "code",
   "execution_count": 3,
   "metadata": {},
   "outputs": [
    {
     "name": "stdout",
     "output_type": "stream",
     "text": [
      "Nekaj posebnega\n",
      "Prišlo je do NameError-ja <name 'neka_spremenljivka' is not defined>\n",
      "Dodatni print\n"
     ]
    }
   ],
   "source": [
    "try:\n",
    "    print(\"Nekaj posebnega\")\n",
    "    #a = 1/0\n",
    "    b = neka_spremenljivka\n",
    "    print(\"Po napaki\")\n",
    "except ZeroDivisionError as err:\n",
    "    print(\"Ne smeš deljiti z 0!\")\n",
    "    print(type(err))\n",
    "    print(f\"Prišlo je do napake: {err}\")\n",
    "except NameError as er:\n",
    "    print(f\"Prišlo je do NameError-ja <{er}>\")\n",
    "\n",
    "    \n",
    "print(\"Dodatni print\")"
   ]
  },
  {
   "cell_type": "markdown",
   "metadata": {},
   "source": [
    "Dodamo lahko tudi `else:` in pa `finally:`, vendar sta opcijska (ju lahko izpustimo). Uporabimo po potrebi.\n",
    "\n",
    "Ponavadi se `finally` uporabi za čiščenje kode."
   ]
  },
  {
   "cell_type": "code",
   "execution_count": 4,
   "metadata": {},
   "outputs": [],
   "source": [
    "try:\n",
    "    pass\n",
    "except:\n",
    "    pass\n",
    "else:\n",
    "    pass\n",
    "finally:\n",
    "    pass"
   ]
  },
  {
   "cell_type": "code",
   "execution_count": 5,
   "metadata": {},
   "outputs": [
    {
     "name": "stdout",
     "output_type": "stream",
     "text": [
      "Čiščenje kode!!!!\n"
     ]
    },
    {
     "ename": "ZeroDivisionError",
     "evalue": "division by zero",
     "output_type": "error",
     "traceback": [
      "\u001b[1;31m---------------------------------------------------------------------------\u001b[0m",
      "\u001b[1;31mZeroDivisionError\u001b[0m                         Traceback (most recent call last)",
      "\u001b[1;32mC:\\Users\\FAKULT~1\\AppData\\Local\\Temp/ipykernel_9412/2766774547.py\u001b[0m in \u001b[0;36m<module>\u001b[1;34m\u001b[0m\n\u001b[0;32m      1\u001b[0m \u001b[1;32mtry\u001b[0m\u001b[1;33m:\u001b[0m\u001b[1;33m\u001b[0m\u001b[1;33m\u001b[0m\u001b[0m\n\u001b[1;32m----> 2\u001b[1;33m     \u001b[0ma\u001b[0m \u001b[1;33m=\u001b[0m \u001b[1;36m1\u001b[0m\u001b[1;33m/\u001b[0m\u001b[1;36m0\u001b[0m\u001b[1;33m\u001b[0m\u001b[1;33m\u001b[0m\u001b[0m\n\u001b[0m\u001b[0;32m      3\u001b[0m \u001b[1;32mexcept\u001b[0m \u001b[0mValueError\u001b[0m \u001b[1;32mas\u001b[0m \u001b[0me\u001b[0m\u001b[1;33m:\u001b[0m\u001b[1;33m\u001b[0m\u001b[1;33m\u001b[0m\u001b[0m\n\u001b[0;32m      4\u001b[0m     \u001b[0mprint\u001b[0m\u001b[1;33m(\u001b[0m\u001b[1;34mf\"ValueError: {e}\"\u001b[0m\u001b[1;33m)\u001b[0m\u001b[1;33m\u001b[0m\u001b[1;33m\u001b[0m\u001b[0m\n\u001b[0;32m      5\u001b[0m \u001b[1;31m#except ZeroDivisionError as e:\u001b[0m\u001b[1;33m\u001b[0m\u001b[1;33m\u001b[0m\u001b[1;33m\u001b[0m\u001b[0m\n",
      "\u001b[1;31mZeroDivisionError\u001b[0m: division by zero"
     ]
    }
   ],
   "source": [
    "try:\n",
    "    a = 1/0\n",
    "except ValueError as e:\n",
    "    print(f\"ValueError: {e}\")\n",
    "#except ZeroDivisionError as e:\n",
    "#    print(f\"ZeroDivisionError: {e}\")\n",
    "else:\n",
    "    print(\"Vse se je izvedlo pravilno!\")\n",
    "finally:\n",
    "    print(\"Čiščenje kode!!!!\")\n",
    "print(\"sdfsdgffd\")"
   ]
  },
  {
   "cell_type": "markdown",
   "metadata": {},
   "source": [
    "![try-exception-image.png](try-exception-image.png)"
   ]
  },
  {
   "cell_type": "markdown",
   "metadata": {},
   "source": [
    "![try-exception-else-finaly-image.png](try-exception-else-finaly-image.png)"
   ]
  },
  {
   "cell_type": "markdown",
   "metadata": {},
   "source": [
    "### Minimalna uporaba\n",
    "\n",
    "Poleg <code>try</code> je potrbno uporabiti vsaj <code>except</code> ali pa <code>finally</code>!!! "
   ]
  },
  {
   "cell_type": "code",
   "execution_count": 6,
   "metadata": {},
   "outputs": [
    {
     "name": "stdout",
     "output_type": "stream",
     "text": [
      "Prišlo je do napake\n"
     ]
    }
   ],
   "source": [
    "try:\n",
    "    a = 1/0\n",
    "except:\n",
    "    print(\"Prišlo je do napake\")"
   ]
  },
  {
   "cell_type": "code",
   "execution_count": 7,
   "metadata": {},
   "outputs": [
    {
     "name": "stdout",
     "output_type": "stream",
     "text": [
      "Izvede se finally\n"
     ]
    },
    {
     "ename": "ZeroDivisionError",
     "evalue": "division by zero",
     "output_type": "error",
     "traceback": [
      "\u001b[1;31m---------------------------------------------------------------------------\u001b[0m",
      "\u001b[1;31mZeroDivisionError\u001b[0m                         Traceback (most recent call last)",
      "\u001b[1;32mC:\\Users\\FAKULT~1\\AppData\\Local\\Temp/ipykernel_9412/2598489934.py\u001b[0m in \u001b[0;36m<module>\u001b[1;34m\u001b[0m\n\u001b[0;32m      1\u001b[0m \u001b[1;32mtry\u001b[0m\u001b[1;33m:\u001b[0m\u001b[1;33m\u001b[0m\u001b[1;33m\u001b[0m\u001b[0m\n\u001b[1;32m----> 2\u001b[1;33m     \u001b[0ma\u001b[0m \u001b[1;33m=\u001b[0m \u001b[1;36m1\u001b[0m\u001b[1;33m/\u001b[0m\u001b[1;36m0\u001b[0m\u001b[1;33m\u001b[0m\u001b[1;33m\u001b[0m\u001b[0m\n\u001b[0m\u001b[0;32m      3\u001b[0m \u001b[1;32mfinally\u001b[0m\u001b[1;33m:\u001b[0m\u001b[1;33m\u001b[0m\u001b[1;33m\u001b[0m\u001b[0m\n\u001b[0;32m      4\u001b[0m     \u001b[0mprint\u001b[0m\u001b[1;33m(\u001b[0m\u001b[1;34m\"Izvede se finally\"\u001b[0m\u001b[1;33m)\u001b[0m\u001b[1;33m\u001b[0m\u001b[1;33m\u001b[0m\u001b[0m\n",
      "\u001b[1;31mZeroDivisionError\u001b[0m: division by zero"
     ]
    }
   ],
   "source": [
    "try:\n",
    "    a = 1/0\n",
    "finally:\n",
    "    print(\"Izvede se finally\")"
   ]
  },
  {
   "cell_type": "code",
   "execution_count": 8,
   "metadata": {},
   "outputs": [
    {
     "name": "stdout",
     "output_type": "stream",
     "text": [
      "try\n",
      "exception\n"
     ]
    }
   ],
   "source": [
    "try:\n",
    "    print(\"try\")\n",
    "    print(1/0)\n",
    "except:\n",
    "    print(\"exception\")\n",
    "#else:\n",
    "#    print(\"else\")\n",
    "#finally:\n",
    "#    print(\"finally\")"
   ]
  },
  {
   "cell_type": "markdown",
   "metadata": {},
   "source": [
    "### Napake znotraj `except`/`else`/`finally`"
   ]
  },
  {
   "cell_type": "code",
   "execution_count": 9,
   "metadata": {},
   "outputs": [
    {
     "name": "stdout",
     "output_type": "stream",
     "text": [
      "Deljenje z 0 ni dovoljeno.\n",
      "Pravilno/Napačno, vseeno?\n"
     ]
    },
    {
     "ename": "NameError",
     "evalue": "name 'g' is not defined",
     "output_type": "error",
     "traceback": [
      "\u001b[1;31m---------------------------------------------------------------------------\u001b[0m",
      "\u001b[1;31mNameError\u001b[0m                                 Traceback (most recent call last)",
      "\u001b[1;32mC:\\Users\\FAKULT~1\\AppData\\Local\\Temp/ipykernel_9412/1774436082.py\u001b[0m in \u001b[0;36m<module>\u001b[1;34m\u001b[0m\n\u001b[0;32m      8\u001b[0m \u001b[1;32mfinally\u001b[0m\u001b[1;33m:\u001b[0m\u001b[1;33m\u001b[0m\u001b[1;33m\u001b[0m\u001b[0m\n\u001b[0;32m      9\u001b[0m     \u001b[0mprint\u001b[0m\u001b[1;33m(\u001b[0m\u001b[1;34m\"Pravilno/Napačno, vseeno?\"\u001b[0m\u001b[1;33m)\u001b[0m\u001b[1;33m\u001b[0m\u001b[1;33m\u001b[0m\u001b[0m\n\u001b[1;32m---> 10\u001b[1;33m     \u001b[0mprint\u001b[0m\u001b[1;33m(\u001b[0m\u001b[0mg\u001b[0m\u001b[1;33m)\u001b[0m\u001b[1;33m\u001b[0m\u001b[1;33m\u001b[0m\u001b[0m\n\u001b[0m\u001b[0;32m     11\u001b[0m \u001b[0mprint\u001b[0m\u001b[1;33m(\u001b[0m\u001b[1;34m\"Try-except je deloval perfektno!\"\u001b[0m\u001b[1;33m)\u001b[0m\u001b[1;33m\u001b[0m\u001b[1;33m\u001b[0m\u001b[0m\n",
      "\u001b[1;31mNameError\u001b[0m: name 'g' is not defined"
     ]
    }
   ],
   "source": [
    "# error znotraj finally statementa\n",
    "try:\n",
    "    g = 1/0\n",
    "except ZeroDivisionError:\n",
    "    print(\"Deljenje z 0 ni dovoljeno.\")\n",
    "else:\n",
    "    print(\"Nič ni bilo narobe.\")\n",
    "finally:\n",
    "    print(\"Pravilno/Napačno, vseeno?\")\n",
    "    print(g)\n",
    "print(\"Try-except je deloval perfektno!\")"
   ]
  },
  {
   "cell_type": "markdown",
   "metadata": {},
   "source": [
    "### Uporaba Except objekta\n",
    "\n",
    "Python Exceptions imajo tudi ostale informacije, kot je sporočilo, ki pove zakaj je prišlo do napake. \n",
    "\n",
    "Do teh podatkov lahko dostopamo na sledeč način:"
   ]
  },
  {
   "cell_type": "code",
   "execution_count": 10,
   "metadata": {},
   "outputs": [
    {
     "name": "stdin",
     "output_type": "stream",
     "text": [
      "a:  1\n",
      "b:  0\n"
     ]
    },
    {
     "name": "stdout",
     "output_type": "stream",
     "text": [
      "Neuporabni Exceptdivision by zero\n",
      "Pravilno/nepravilno, vseeno!\n"
     ]
    }
   ],
   "source": [
    "try:\n",
    "    a = int(input(\"a: \"))\n",
    "    b = int(input(\"b: \"))\n",
    "    print(a/b)\n",
    "except Exception as e:\n",
    "    print(\"Neuporabni Except\" + str(e))\n",
    "except ZeroDivisionError as e:\n",
    "    print(f\"Prišlo je do napake: {e}\")\n",
    "except ValueError as e:\n",
    "    print(f\"Prišlo je do napake: {e}\")\n",
    "else:\n",
    "    print(\"Pravilno izvedena try koda.\")\n",
    "finally:\n",
    "    print(\"Pravilno/nepravilno, vseeno!\")"
   ]
  },
  {
   "cell_type": "code",
   "execution_count": 11,
   "metadata": {},
   "outputs": [
    {
     "name": "stdout",
     "output_type": "stream",
     "text": [
      "Napaka division by zero\n",
      "<class 'ZeroDivisionError'>\n",
      "End\n"
     ]
    }
   ],
   "source": [
    "def funkcija(n):\n",
    "    return 1/n\n",
    "\n",
    "try:\n",
    "    funkcija(0)\n",
    "except ArithmeticError as e:\n",
    "    print('Napaka '+str(e))# pokaži da \"e\" ni string\n",
    "    print(type(e))\n",
    "print('End')"
   ]
  },
  {
   "cell_type": "markdown",
   "metadata": {},
   "source": [
    "V našem except delu smo specificirali, da bomo pohendlali specifično `ArithmeticError`, če nastane. Lahko bi rekli, da bomo pohendlali kakoršenkoli error ampak potem ne vemo kakšna napaka se je zgodila. Oziroma, mogoče hočemo drugačen error pohendlati na drugačen način."
   ]
  },
  {
   "cell_type": "code",
   "execution_count": 12,
   "metadata": {},
   "outputs": [
    {
     "name": "stdin",
     "output_type": "stream",
     "text": [
      "Vnesi x:  safsafd\n"
     ]
    },
    {
     "name": "stdout",
     "output_type": "stream",
     "text": [
      "Nekaj ni vredu.\n",
      "invalid literal for int() with base 10: 'safsafd'\n"
     ]
    }
   ],
   "source": [
    "try:\n",
    "    x = int(input(\"Vnesi x: \"))\n",
    "    y = int(input(\"Vnesi y: \"))\n",
    "    print(f'{x} / {y} = {x/y}')\n",
    "except(ValueError, ZeroDivisionError) as e:\n",
    "    print(\"Nekaj ni vredu.\")\n",
    "    print(e)"
   ]
  },
  {
   "cell_type": "code",
   "execution_count": 13,
   "metadata": {},
   "outputs": [
    {
     "name": "stdin",
     "output_type": "stream",
     "text": [
      "Vnesi x:  5\n",
      "Vnesi y:  0\n"
     ]
    },
    {
     "name": "stdout",
     "output_type": "stream",
     "text": [
      "Deljitelj ne sme biti 0.\n"
     ]
    }
   ],
   "source": [
    "try:\n",
    "    x = int(input(\"Vnesi x: \"))\n",
    "    y = int(input(\"Vnesi y: \"))\n",
    "    print(f'{x} / {y} = {x/y}')\n",
    "except ValueError:\n",
    "    print(\"Obe spremeljivki morata biti številki.\")\n",
    "except ZeroDivisionError:\n",
    "    print(\"Deljitelj ne sme biti 0.\")"
   ]
  },
  {
   "cell_type": "markdown",
   "metadata": {},
   "source": [
    "V primeru napake bo Python preveril vsak `except` od vrha navzdol, če se tipa napaki ujemata. Če se napaka ne ujema z nobenim `except` potem se bo program ustavil z napako.\n",
    "\n",
    "Če se ujemata bo pa `except` obravnaval error. `Except` sprejme errorje tega razreda in vse, ki dedujejo iz tega razreda."
   ]
  },
  {
   "cell_type": "markdown",
   "metadata": {},
   "source": [
    "(https://docs.python.org/3/library/exceptions.html)\n",
    "\n",
    "Se pravi, če damo kot prvi `except` `except Exception` bomo z njim prestregl vse, ker vsi dedujejo iz tega classa.\n",
    "\n",
    "BaseException\n",
    "* SystemExit\n",
    "* KeyboardInterrupt\n",
    "* GeneratorExit\n",
    "* Exception\n",
    "* * StopIteration\n",
    "* * StopAsyncIteration\n",
    "* * ArithmeticError\n",
    "* * * FloatingPointError\n",
    "* * * OverflowError\n",
    "* * * ZeroDivisionError\n",
    "* * AssertionError\n",
    "* * AttributeError\n",
    "* * BufferError\n",
    "* * EOFError\n",
    "* * ImportError\n",
    "* * * ModuleNotFoundError\n",
    "* * LookupError\n",
    "* * * IndexError\n",
    "* * * KeyError\n",
    "* * MemoryError\n",
    "* * NameError\n",
    "* * * UnboundLocalError\n",
    "* * OSError\n",
    "* * * BlockingIOError\n",
    "* * * ChildProcessError\n",
    "* * * ConnectionError\n",
    "* * * * BrokenPipeError\n",
    "* * * * ConnectionAbortedError\n",
    "* * * * ConnectionRefusedError\n",
    "* * * * ConnectionResetError\n",
    "* * * FileExistsError\n",
    "* * * FileNotFoundError\n",
    "* * * InterruptedError\n",
    "* * * IsADirectoryError\n",
    "* * * NotADirectoryError\n",
    "* * * PermissionError\n",
    "* * * ProcessLookupError\n",
    "* * * TimeoutError\n",
    "* * ReferenceError\n",
    "* * RuntimeError\n",
    "* * * NotImplementedError\n",
    "* * * RecursionError\n",
    "* * SyntaxError\n",
    "* * * IndentationError\n",
    "* * * * TabError\n",
    "* * SystemError\n",
    "* * TypeError\n",
    "* * ValueError\n",
    "* * * UnicodeError\n",
    "* * * * UnicodeDecodeError\n",
    "* * * * UnicodeEncodeError\n",
    "* * * * UnicodeTranslateError\n",
    "* * Warning\n",
    "* * * DeprecationWarning\n",
    "* * * PendingDeprecationWarning\n",
    "* * * RuntimeWarning\n",
    "* * * SyntaxWarning\n",
    "* * * UserWarning\n",
    "* * * FutureWarning\n",
    "* * * ImportWarning\n",
    "* * * UnicodeWarning\n",
    "* * * BytesWarning\n",
    "* * * ResourceWarning"
   ]
  },
  {
   "cell_type": "code",
   "execution_count": 14,
   "metadata": {},
   "outputs": [
    {
     "name": "stdin",
     "output_type": "stream",
     "text": [
      "Vnesi x:  10\n",
      "Vnesi y:  0\n"
     ]
    },
    {
     "name": "stdout",
     "output_type": "stream",
     "text": [
      "Zmeraj ta prestreže.\n",
      "(<class 'Exception'>, <class 'BaseException'>, <class 'object'>)\n",
      "(<class 'ValueError'>, <class 'Exception'>, <class 'BaseException'>, <class 'object'>)\n",
      "(<class 'ZeroDivisionError'>, <class 'ArithmeticError'>, <class 'Exception'>, <class 'BaseException'>, <class 'object'>)\n"
     ]
    }
   ],
   "source": [
    "import inspect\n",
    "\n",
    "# Primer: Različno hendlanje različnih errorjev.\n",
    "try:\n",
    "    x = int(input(\"Vnesi x: \"))\n",
    "    y = int(input(\"Vnesi y: \"))\n",
    "    print(f'{x} / {y} = {x/y}')\n",
    "except Exception:\n",
    "    print(\"Zmeraj ta prestreže.\")\n",
    "except ValueError:\n",
    "    print(\"Obe spremeljivki morata biti številki.\")\n",
    "except ZeroDivisionError:\n",
    "    print(\"Deljitelj ne sme biti 0.\")\n",
    "    \n",
    "    \n",
    "print(inspect.getmro(Exception))\n",
    "print(inspect.getmro(ValueError))\n",
    "print(inspect.getmro(ZeroDivisionError))"
   ]
  },
  {
   "cell_type": "markdown",
   "metadata": {},
   "source": [
    "# NALOGA\n",
    "\n",
    "Aplikacija ki sprejme ime + starost `input()` in izpiše nek stavek.\n",
    "\n",
    "Na koncu vpraša ali se program ponovi! [y/n] `input()`"
   ]
  },
  {
   "cell_type": "code",
   "execution_count": 15,
   "metadata": {},
   "outputs": [
    {
     "name": "stdout",
     "output_type": "stream",
     "text": [
      "Uporabniku je ime aanze in star je sdfsdf let.\n"
     ]
    }
   ],
   "source": [
    "ime = \"aanze\"\n",
    "starost = \"sdfsdf\"\n",
    "print(f\"Uporabniku je ime {ime} in star je {starost} let.\")"
   ]
  },
  {
   "cell_type": "code",
   "execution_count": 16,
   "metadata": {},
   "outputs": [
    {
     "name": "stdin",
     "output_type": "stream",
     "text": [
      "Ime assaf\n",
      "Vnesi starost:  asdsad\n"
     ]
    },
    {
     "name": "stdout",
     "output_type": "stream",
     "text": [
      "Pozor, iz vnosa {starost} starosti nisem mogel dolociti. Uporabil sem privzeto vrednost.\n",
      "Uporabniku je ime assaf in star je 25 let.\n"
     ]
    }
   ],
   "source": [
    "try:\n",
    "    ime = input('Ime')\n",
    "    starost = int(input('Vnesi starost: '))\n",
    "except ValueError as e:\n",
    "    print('Pozor, iz vnosa {starost} starosti nisem mogel dolociti. Uporabil sem privzeto vrednost.')\n",
    "    starost = 25\n",
    "finally:    \n",
    "    print(f\"Uporabniku je ime {ime} in star je {starost} let.\")"
   ]
  },
  {
   "cell_type": "code",
   "execution_count": 17,
   "metadata": {},
   "outputs": [
    {
     "name": "stdin",
     "output_type": "stream",
     "text": [
      "Vpiši ime uporabnika:  \n",
      "Vpiši starost uporabnika:  -8\n"
     ]
    },
    {
     "name": "stdout",
     "output_type": "stream",
     "text": [
      "Uporabniku je ime  in star je -8 let.\n"
     ]
    },
    {
     "name": "stdin",
     "output_type": "stream",
     "text": [
      "Želiš vnesti novega uporabnika [y/n]?  y\n",
      "Vpiši ime uporabnika:  anze\n",
      "Vpiši starost uporabnika:  2\n"
     ]
    },
    {
     "name": "stdout",
     "output_type": "stream",
     "text": [
      "Uporabniku je ime anze in star je 2 let.\n"
     ]
    },
    {
     "name": "stdin",
     "output_type": "stream",
     "text": [
      "Želiš vnesti novega uporabnika [y/n]?  n\n"
     ]
    },
    {
     "name": "stdout",
     "output_type": "stream",
     "text": [
      "Program se zaključuje.\n"
     ]
    }
   ],
   "source": [
    "while True:\n",
    "    try:\n",
    "        ime = str(input(\"Vpiši ime uporabnika: \"))\n",
    "        starost = int(input(\"Vpiši starost uporabnika: \"))\n",
    "    except ValueError as e:\n",
    "        print(\"Starost ni bila podana v pravilni obliki. Ponovi vnos ...\")\n",
    "    else:\n",
    "        print(f\"Uporabniku je ime {ime} in star je {starost} let.\")\n",
    "    finally:\n",
    "        nadaljevanje = input(\"Želiš vnesti novega uporabnika [y/n]? \")\n",
    "        if nadaljevanje == \"y\":\n",
    "            pass\n",
    "        elif nadaljevanje == \"n\":\n",
    "            print(\"Program se zaključuje.\")\n",
    "            break\n",
    "        else:\n",
    "            print(\"Tvoja odločitev ni jasno izražena. Poskusi znova.\")"
   ]
  },
  {
   "cell_type": "code",
   "execution_count": 18,
   "metadata": {},
   "outputs": [
    {
     "name": "stdin",
     "output_type": "stream",
     "text": [
      "Vnesi ime:  sandslovn\n",
      "Vnesi starost: -9\n"
     ]
    },
    {
     "name": "stdout",
     "output_type": "stream",
     "text": [
      "Uporabniku je ime sandslovn in star je -9 let.\n"
     ]
    },
    {
     "name": "stdin",
     "output_type": "stream",
     "text": [
      "Ali naj se program ponovi ( y / n ) ?  y\n",
      "Vnesi ime:  8\n",
      "Vnesi starost: 8\n"
     ]
    },
    {
     "name": "stdout",
     "output_type": "stream",
     "text": [
      "Uporabniku je ime 8 in star je 8 let.\n"
     ]
    },
    {
     "name": "stdin",
     "output_type": "stream",
     "text": [
      "Ali naj se program ponovi ( y / n ) ?  n\n"
     ]
    }
   ],
   "source": [
    "try:\n",
    "    while True:\n",
    "        ime = input(\"Vnesi ime: \")\n",
    "        starost = int(input(\"Vnesi starost:\"))\n",
    "        print(f\"Uporabniku je ime {ime} in star je {starost} let.\")\n",
    "\n",
    "        ponovitev = input(\"Ali naj se program ponovi ( y / n ) ? \")\n",
    "        \n",
    "        if ponovitev == \"n\":\n",
    "            break\n",
    "\n",
    "\n",
    "except ValueError as e:\n",
    "    print(f\"Napačno starost {e}\")"
   ]
  },
  {
   "cell_type": "markdown",
   "metadata": {},
   "source": [
    "### Raise\n",
    "\n",
    "`Raise` se uporabljamo, da lahko tudi sami pokličemo napako."
   ]
  },
  {
   "cell_type": "code",
   "execution_count": 21,
   "metadata": {},
   "outputs": [],
   "source": [
    "class ImeNiPravilno(Exception): # custom Exception\n",
    "    pass"
   ]
  },
  {
   "cell_type": "code",
   "execution_count": 22,
   "metadata": {},
   "outputs": [
    {
     "name": "stdin",
     "output_type": "stream",
     "text": [
      "Vpiši ime uporabnika:  \n",
      "Želiš vnesti novega uporabnika [y/n]?  \n"
     ]
    },
    {
     "name": "stdout",
     "output_type": "stream",
     "text": [
      "Tvoja odločitev ni jasno izražena. Poskusi znova.\n"
     ]
    },
    {
     "ename": "IndexError",
     "evalue": "string index out of range",
     "output_type": "error",
     "traceback": [
      "\u001b[1;31m---------------------------------------------------------------------------\u001b[0m",
      "\u001b[1;31mIndexError\u001b[0m                                Traceback (most recent call last)",
      "\u001b[1;32mC:\\Users\\FAKULT~1\\AppData\\Local\\Temp/ipykernel_9412/1712204161.py\u001b[0m in \u001b[0;36m<module>\u001b[1;34m\u001b[0m\n\u001b[0;32m      2\u001b[0m     \u001b[1;32mtry\u001b[0m\u001b[1;33m:\u001b[0m\u001b[1;33m\u001b[0m\u001b[1;33m\u001b[0m\u001b[0m\n\u001b[0;32m      3\u001b[0m         \u001b[0mime\u001b[0m \u001b[1;33m=\u001b[0m \u001b[0mstr\u001b[0m\u001b[1;33m(\u001b[0m\u001b[0minput\u001b[0m\u001b[1;33m(\u001b[0m\u001b[1;34m\"Vpiši ime uporabnika: \"\u001b[0m\u001b[1;33m)\u001b[0m\u001b[1;33m)\u001b[0m\u001b[1;33m\u001b[0m\u001b[1;33m\u001b[0m\u001b[0m\n\u001b[1;32m----> 4\u001b[1;33m         \u001b[1;32mif\u001b[0m \u001b[0mime\u001b[0m\u001b[1;33m[\u001b[0m\u001b[1;36m0\u001b[0m\u001b[1;33m]\u001b[0m\u001b[1;33m:\u001b[0m\u001b[1;33m\u001b[0m\u001b[1;33m\u001b[0m\u001b[0m\n\u001b[0m\u001b[0;32m      5\u001b[0m             \u001b[1;32mraise\u001b[0m \u001b[0mImeNiPravilno\u001b[0m\u001b[1;33m(\u001b[0m\u001b[1;34m\"Ime ni bilo vnešeno pravilno!\"\u001b[0m\u001b[1;33m)\u001b[0m\u001b[1;33m\u001b[0m\u001b[1;33m\u001b[0m\u001b[0m\n\u001b[0;32m      6\u001b[0m         \u001b[0mstarost\u001b[0m \u001b[1;33m=\u001b[0m \u001b[0mint\u001b[0m\u001b[1;33m(\u001b[0m\u001b[0minput\u001b[0m\u001b[1;33m(\u001b[0m\u001b[1;34m\"Vpiši starost uporabnika: \"\u001b[0m\u001b[1;33m)\u001b[0m\u001b[1;33m)\u001b[0m\u001b[1;33m\u001b[0m\u001b[1;33m\u001b[0m\u001b[0m\n",
      "\u001b[1;31mIndexError\u001b[0m: string index out of range"
     ]
    }
   ],
   "source": [
    "while True:\n",
    "    try:\n",
    "        ime = str(input(\"Vpiši ime uporabnika: \"))\n",
    "        if ime[0]:\n",
    "            raise ImeNiPravilno(\"Ime ni bilo vnešeno pravilno!\")\n",
    "        starost = int(input(\"Vpiši starost uporabnika: \"))\n",
    "        if starost < 0:\n",
    "            raise ValueError(\"Starost ne sme biti negativna!!!\")\n",
    "    except ValueError as e:\n",
    "        print(\"Starost ni bila podana v pravilni obliki. Ponovi vnos ...\")\n",
    "        print(f\"ValueError: {e}\")\n",
    "    \n",
    "    except ImeNiPravilno as e:\n",
    "        print(f\"Napaka: {e}\")\n",
    "    \n",
    "    else:\n",
    "        print(f\"Uporabniku je ime {ime} in star je {starost} let.\")\n",
    "    finally:\n",
    "        nadaljevanje = input(\"Želiš vnesti novega uporabnika [y/n]? \")\n",
    "        if nadaljevanje == \"y\":\n",
    "            pass\n",
    "        elif nadaljevanje == \"n\":\n",
    "            print(\"Program se zaključuje.\")\n",
    "            break\n",
    "        else:\n",
    "            print(\"Tvoja odločitev ni jasno izražena. Poskusi znova.\")"
   ]
  },
  {
   "cell_type": "markdown",
   "metadata": {},
   "source": [
    "V tem primeru smo sami `raise`-ali `ValueError` v primeru, ko je bil `input()` pravilen ampak je bil negativen.\n",
    "\n",
    "Uporabili smo `ValueError` z našim sporočilom. Lahko bi uporabili tudi katerokoli drugo napako."
   ]
  },
  {
   "cell_type": "markdown",
   "metadata": {},
   "source": [
    "### Pisanje svojih Exceptionov"
   ]
  },
  {
   "cell_type": "code",
   "execution_count": 23,
   "metadata": {},
   "outputs": [
    {
     "name": "stdout",
     "output_type": "stream",
     "text": [
      "D\n",
      "D\n",
      "C\n",
      "B\n"
     ]
    }
   ],
   "source": [
    "class B(Exception):\n",
    "    pass\n",
    "\n",
    "class C(B):\n",
    "    pass\n",
    "\n",
    "class D(B):\n",
    "    pass\n",
    "\n",
    "class E(D):\n",
    "    pass\n",
    "\n",
    "for error in [E, D, C, B]:\n",
    "    try:\n",
    "        raise error\n",
    "    except D: # treba pazt zaporedje exceptov!\n",
    "        print(\"D\")\n",
    "    except C:\n",
    "        print(\"C\")\n",
    "    except B:\n",
    "        print(\"B\")"
   ]
  },
  {
   "cell_type": "code",
   "execution_count": 24,
   "metadata": {},
   "outputs": [],
   "source": [
    "class ImeNiPravilno(Exception):\n",
    "    pass"
   ]
  },
  {
   "cell_type": "code",
   "execution_count": 25,
   "metadata": {},
   "outputs": [
    {
     "name": "stdin",
     "output_type": "stream",
     "text": [
      "Vpiši ime uporabnika:  a\n",
      "Vpiši starost uporabnika:  a\n"
     ]
    },
    {
     "name": "stdout",
     "output_type": "stream",
     "text": [
      "Starost ni bila podana v pravilni obliki. Ponovi vnos ...\n",
      "ValueError: invalid literal for int() with base 10: 'a'\n"
     ]
    },
    {
     "name": "stdin",
     "output_type": "stream",
     "text": [
      "Želiš vnesti novega uporabnika [y/n]?  y\n",
      "Vpiši ime uporabnika:  sasadf\n",
      "Vpiši starost uporabnika:  -9\n"
     ]
    },
    {
     "name": "stdout",
     "output_type": "stream",
     "text": [
      "Starost ni bila podana v pravilni obliki. Ponovi vnos ...\n",
      "ValueError: Starost ne sme biti negativna!!!\n"
     ]
    },
    {
     "name": "stdin",
     "output_type": "stream",
     "text": [
      "Želiš vnesti novega uporabnika [y/n]?  y\n",
      "Vpiši ime uporabnika:  anze\n",
      "Vpiši starost uporabnika:  8\n"
     ]
    },
    {
     "name": "stdout",
     "output_type": "stream",
     "text": [
      "Uporabniku je ime anze in star je 8 let.\n"
     ]
    },
    {
     "name": "stdin",
     "output_type": "stream",
     "text": [
      "Želiš vnesti novega uporabnika [y/n]?  n\n"
     ]
    },
    {
     "name": "stdout",
     "output_type": "stream",
     "text": [
      "Program se zaključuje.\n"
     ]
    }
   ],
   "source": [
    "while True:\n",
    "    try:\n",
    "        ime = str(input(\"Vpiši ime uporabnika: \"))\n",
    "        if len(ime) < 1:\n",
    "            raise ImeNiPravilno(\"Ime ni bilo vnešeno pravilno!\")\n",
    "        starost = int(input(\"Vpiši starost uporabnika: \"))\n",
    "        if starost < 0:\n",
    "            raise ValueError(\"Starost ne sme biti negativna!!!\")\n",
    "    except ValueError as e:\n",
    "        print(\"Starost ni bila podana v pravilni obliki. Ponovi vnos ...\")\n",
    "        print(f\"ValueError: {e}\")\n",
    "    \n",
    "    except ImeNiPravilno as e:\n",
    "        print(f\"Napaka: {e}\")\n",
    "    \n",
    "    else:\n",
    "        print(f\"Uporabniku je ime {ime} in star je {starost} let.\")\n",
    "    finally:\n",
    "        nadaljevanje = input(\"Želiš vnesti novega uporabnika [y/n]? \")\n",
    "        if nadaljevanje == \"y\":\n",
    "            pass\n",
    "        elif nadaljevanje == \"n\":\n",
    "            print(\"Program se zaključuje.\")\n",
    "            break\n",
    "        else:\n",
    "            print(\"Tvoja odločitev ni jasno izražena. Poskusi znova.\")"
   ]
  },
  {
   "cell_type": "markdown",
   "metadata": {},
   "source": [
    "### Assertion\n",
    "`assert Expression[, Arguments]`\n",
    "\n",
    "`assert` se uporablja za preverbo vrednosti programa oziroma, da je neka vrednost programa v skladu s pričakovanji.\n",
    "\n",
    "..deluje podobno kot `raise`, vendar s tem da preveri neko vrednost in raise-a `AssertionError`\n",
    "\n",
    "Načeloma se uporablja kot pomoč pri hitremu debug-iranju programa."
   ]
  },
  {
   "cell_type": "code",
   "execution_count": 26,
   "metadata": {},
   "outputs": [
    {
     "ename": "AssertionError",
     "evalue": "Spremenljivka <a> naj bi bila manjša od 10 !!!",
     "output_type": "error",
     "traceback": [
      "\u001b[1;31m---------------------------------------------------------------------------\u001b[0m",
      "\u001b[1;31mAssertionError\u001b[0m                            Traceback (most recent call last)",
      "\u001b[1;32mC:\\Users\\FAKULT~1\\AppData\\Local\\Temp/ipykernel_9412/825020590.py\u001b[0m in \u001b[0;36m<module>\u001b[1;34m\u001b[0m\n\u001b[0;32m      1\u001b[0m \u001b[0ma\u001b[0m \u001b[1;33m=\u001b[0m \u001b[1;36m20\u001b[0m\u001b[1;33m\u001b[0m\u001b[1;33m\u001b[0m\u001b[0m\n\u001b[1;32m----> 2\u001b[1;33m \u001b[1;32massert\u001b[0m \u001b[0ma\u001b[0m \u001b[1;33m<\u001b[0m \u001b[1;36m10\u001b[0m\u001b[1;33m,\u001b[0m \u001b[1;34m\"Spremenljivka <a> naj bi bila manjša od 10 !!!\"\u001b[0m\u001b[1;33m\u001b[0m\u001b[1;33m\u001b[0m\u001b[0m\n\u001b[0m\u001b[0;32m      3\u001b[0m \u001b[0mprint\u001b[0m\u001b[1;33m(\u001b[0m\u001b[1;34m\"sdfdsf\"\u001b[0m\u001b[1;33m)\u001b[0m\u001b[1;33m\u001b[0m\u001b[1;33m\u001b[0m\u001b[0m\n",
      "\u001b[1;31mAssertionError\u001b[0m: Spremenljivka <a> naj bi bila manjša od 10 !!!"
     ]
    }
   ],
   "source": [
    "a = 20\n",
    "assert a < 10, \"Spremenljivka <a> naj bi bila manjša od 10 !!!\"\n",
    "print(\"sdfdsf\")"
   ]
  },
  {
   "cell_type": "code",
   "execution_count": null,
   "metadata": {},
   "outputs": [],
   "source": []
  },
  {
   "cell_type": "markdown",
   "metadata": {},
   "source": [
    "# Importing"
   ]
  },
  {
   "cell_type": "markdown",
   "metadata": {},
   "source": [
    "`Importing` je način, kako lahko kodo iz ene datoteke/modula/package uporabimo v drugi datoteki/modulu.\n",
    "* **module** je datoteka, ki ima končnico *.py*\n",
    "* **package** je direktorij, ki vsebuje vsaj en modul"
   ]
  },
  {
   "cell_type": "markdown",
   "metadata": {},
   "source": [
    "Da importiramo modul uporabimo besedo `import`.\n",
    "\n",
    "```python\n",
    "import moj_modul\n",
    "```"
   ]
  },
  {
   "cell_type": "markdown",
   "metadata": {},
   "source": [
    "Python sedaj prvo preveri ali se *moj_modul* nahaja v **sys.modules** - to je dictionary, ki hrani imena vseh importiranih modulov.\n",
    "\n",
    "Če ne najde imena, bo nadaljeval iskanje v `built-in` modulih. To so moduli, ki pridejo skupaj z inštalacijo Pythona. Najdemo jih lahko v Python Standardni Knjižnjici - https://docs.python.org/3/library/ .\n",
    "\n",
    "Če ponovno ne najde našega modula, Python nadaljuje iskanje v **sys.path** - to je list direktorijev med katerimi je tudi naša mapa.\n",
    "\n",
    "Če Python ne najde imena vrže **ModuleNotFoundError**. V primeru, da najde ime, lahko modul sedaj uporabljamo v naši datoteki.\n"
   ]
  },
  {
   "cell_type": "markdown",
   "metadata": {},
   "source": [
    "--------"
   ]
  },
  {
   "cell_type": "markdown",
   "metadata": {},
   "source": [
    "Za začetek bomo importiral **math** built-in modul, ki nam omogoča naprednejše matematične operacije, kot je uporaba korenjenja.\n",
    "\n",
    "math documentation - https://docs.python.org/3/library/math.html\n",
    "\n",
    "Da pogledamo katere spremenljivke / funkcije / objekti / itd. so dostopni v naši kodi lahko uporabimo **dir()** funkcijo.\n",
    "\n",
    "dir documentation - https://docs.python.org/3/library/functions.html#dir"
   ]
  },
  {
   "cell_type": "code",
   "execution_count": 27,
   "metadata": {},
   "outputs": [
    {
     "name": "stdout",
     "output_type": "stream",
     "text": [
      "['B', 'C', 'D', 'E', 'ImeNiPravilno', 'In', 'Out', '_', '__', '___', '__builtin__', '__builtins__', '__doc__', '__loader__', '__name__', '__package__', '__spec__', '_dh', '_i', '_i1', '_i10', '_i11', '_i12', '_i13', '_i14', '_i15', '_i16', '_i17', '_i18', '_i19', '_i2', '_i20', '_i21', '_i22', '_i23', '_i24', '_i25', '_i26', '_i27', '_i3', '_i4', '_i5', '_i6', '_i7', '_i8', '_i9', '_ih', '_ii', '_iii', '_oh', 'a', 'b', 'error', 'exit', 'fun1', 'fun2', 'funkcija', 'get_ipython', 'ime', 'inspect', 'math', 'moja_spremenljivka', 'nadaljevanje', 'ponovitev', 'quit', 'starost', 'x', 'y']\n",
      "5\n",
      "<module 'math' (built-in)>\n"
     ]
    }
   ],
   "source": [
    "import math\n",
    "\n",
    "moja_spremenljivka = 5\n",
    "print(dir())\n",
    "\n",
    "print(moja_spremenljivka)\n",
    "print(math)"
   ]
  },
  {
   "cell_type": "markdown",
   "metadata": {},
   "source": [
    "S pomočjo **dir(...)** lahko tudi preverimo katere spremenljivke, funkcije, itd. se nahajajo v importiranih modulih."
   ]
  },
  {
   "cell_type": "code",
   "execution_count": 28,
   "metadata": {},
   "outputs": [
    {
     "name": "stdout",
     "output_type": "stream",
     "text": [
      "['__doc__', '__loader__', '__name__', '__package__', '__spec__', 'acos', 'acosh', 'asin', 'asinh', 'atan', 'atan2', 'atanh', 'ceil', 'comb', 'copysign', 'cos', 'cosh', 'degrees', 'dist', 'e', 'erf', 'erfc', 'exp', 'expm1', 'fabs', 'factorial', 'floor', 'fmod', 'frexp', 'fsum', 'gamma', 'gcd', 'hypot', 'inf', 'isclose', 'isfinite', 'isinf', 'isnan', 'isqrt', 'lcm', 'ldexp', 'lgamma', 'log', 'log10', 'log1p', 'log2', 'modf', 'nan', 'nextafter', 'perm', 'pi', 'pow', 'prod', 'radians', 'remainder', 'sin', 'sinh', 'sqrt', 'tan', 'tanh', 'tau', 'trunc', 'ulp']\n"
     ]
    }
   ],
   "source": [
    "import math\n",
    "\n",
    "moja_spremenljivka = 5\n",
    "print(dir(math))"
   ]
  },
  {
   "cell_type": "markdown",
   "metadata": {},
   "source": [
    "Funkcijo, spremenljivko, atribut v math modulu uporabimo na sledeč način:"
   ]
  },
  {
   "cell_type": "code",
   "execution_count": 29,
   "metadata": {},
   "outputs": [
    {
     "name": "stdout",
     "output_type": "stream",
     "text": [
      "6.0\n"
     ]
    }
   ],
   "source": [
    "import math\n",
    "\n",
    "print(math.sqrt(36))"
   ]
  },
  {
   "cell_type": "markdown",
   "metadata": {},
   "source": [
    "<div class=\"alert alert-block alert-info\">\n",
    "<h1><b>Naloga: </b></h1>\n",
    "S pomočjo <b>math</b> modula izračunajte logaritem 144 z osnovo 12.\n",
    "    \n",
    "https://docs.python.org/3/library/math.html\n",
    "</div>"
   ]
  },
  {
   "cell_type": "code",
   "execution_count": 30,
   "metadata": {},
   "outputs": [
    {
     "data": {
      "text/plain": [
       "2.0"
      ]
     },
     "execution_count": 30,
     "metadata": {},
     "output_type": "execute_result"
    }
   ],
   "source": [
    "# Rešitev\n",
    "import math\n",
    "\n",
    "math.log(144, 12)"
   ]
  },
  {
   "cell_type": "code",
   "execution_count": null,
   "metadata": {},
   "outputs": [],
   "source": []
  },
  {
   "cell_type": "markdown",
   "metadata": {},
   "source": [
    "# Importing our own module"
   ]
  },
  {
   "cell_type": "markdown",
   "metadata": {},
   "source": [
    "Ustvarimo novo datoteko **moj_modul.py** zraven naše datoteke s kodo.\n",
    "\n",
    "<pre>\n",
    "├── _python_tecaj/\n",
    "    ├── moj_modul.py\n",
    "    └── skripta.py\n",
    "\n",
    "</pre>"
   ]
  },
  {
   "cell_type": "markdown",
   "metadata": {},
   "source": [
    "### moj_modul.py"
   ]
  },
  {
   "cell_type": "code",
   "execution_count": 31,
   "metadata": {},
   "outputs": [],
   "source": [
    "class Pes():\n",
    "    def __init__(self, ime):\n",
    "        self.ime = ime\n",
    "\n",
    "\n",
    "def sestevalnik(a, b):\n",
    "    return a+b\n",
    "\n",
    "\n",
    "moja_spremenljivka = 100"
   ]
  },
  {
   "cell_type": "markdown",
   "metadata": {},
   "source": [
    "### skripta.py"
   ]
  },
  {
   "cell_type": "code",
   "execution_count": null,
   "metadata": {},
   "outputs": [],
   "source": [
    "import moj_modul\n",
    "\n",
    "print(dir())\n",
    "\n",
    "fido = moj_modul.Pes(\"fido\")\n",
    "print(fido.ime)\n",
    "\n",
    "print(moj_modul.sestevalnik(5, 6))\n",
    "\n",
    "print(moj_modul.moja_spremenljivka)"
   ]
  },
  {
   "cell_type": "markdown",
   "metadata": {},
   "source": [
    "# Načini importiranja"
   ]
  },
  {
   "cell_type": "markdown",
   "metadata": {},
   "source": [
    "Importiramo lahko celotno kodo ali pa samo specifične funkcije, spremenljivke, objekte, itd."
   ]
  },
  {
   "cell_type": "markdown",
   "metadata": {},
   "source": [
    "Celotno kodo importiramo na sledeči način:\n",
    "\n",
    "```python\n",
    "import moj_modul\n",
    "```"
   ]
  },
  {
   "cell_type": "code",
   "execution_count": null,
   "metadata": {},
   "outputs": [],
   "source": [
    "import moj_modul\n",
    "\n",
    "print(dir())\n",
    "\n",
    "fido = moj_modul.Pes(\"fido\")\n",
    "print(fido.ime)\n",
    "\n",
    "print(moj_modul.sestevalnik(5, 6))\n",
    "\n",
    "print(moj_modul.moja_spremenljivka)"
   ]
  },
  {
   "cell_type": "markdown",
   "metadata": {},
   "source": [
    "Specifične zadeve importiramo na sledeč način:\n",
    "\n",
    "```python\n",
    "from moj_modul import moja_spremenljivka\n",
    "```"
   ]
  },
  {
   "cell_type": "code",
   "execution_count": null,
   "metadata": {},
   "outputs": [],
   "source": [
    "from moj_modul import moja_spremenljivka\n",
    "\n",
    "print(dir())\n",
    "print(moja_spremenljivka)"
   ]
  },
  {
   "cell_type": "code",
   "execution_count": null,
   "metadata": {},
   "outputs": [],
   "source": [
    "from moj_modul import sestevalnik\n",
    "\n",
    "print(dir())\n",
    "print(sestevalnik(5,6))"
   ]
  },
  {
   "cell_type": "code",
   "execution_count": null,
   "metadata": {},
   "outputs": [],
   "source": [
    "from moj_modul import Pes\n",
    "\n",
    "print(dir())\n",
    "fido = Pes(\"fido\")\n",
    "print(fido.ime)"
   ]
  },
  {
   "cell_type": "markdown",
   "metadata": {},
   "source": [
    "-------"
   ]
  },
  {
   "cell_type": "markdown",
   "metadata": {},
   "source": [
    "Importirane zadeve se lahko shrani tudi pod drugim imenom\n",
    "\n",
    "```python\n",
    "import moj_modul as mm\n",
    "```"
   ]
  },
  {
   "cell_type": "code",
   "execution_count": null,
   "metadata": {},
   "outputs": [],
   "source": [
    "import moj_modul as mm\n",
    "\n",
    "print(dir())\n",
    "\n",
    "fido = mm.Pes(\"fido\")\n",
    "print(fido.ime)\n",
    "\n",
    "print(mm.sestevalnik(5, 6))\n",
    "\n",
    "print(mm.moja_spremenljivka)"
   ]
  },
  {
   "cell_type": "code",
   "execution_count": null,
   "metadata": {},
   "outputs": [],
   "source": [
    "from moj_modul import sestevalnik as sum_\n",
    "\n",
    "print(dir())\n",
    "print(sum_(5,6))"
   ]
  },
  {
   "cell_type": "markdown",
   "metadata": {},
   "source": [
    "Za premikanje med direktoriji med importiranjem se uporabja \" **.** \" .\n",
    "\n",
    "```python\n",
    "from package1.module1 import function1\n",
    "```"
   ]
  },
  {
   "cell_type": "markdown",
   "metadata": {},
   "source": [
    "<pre>\n",
    "├── _python_tecaj/\n",
    "    ├── moj_modul.py\n",
    "    ├── skripta.py\n",
    "    └── _moj_package/\n",
    "        ├── modul2.py\n",
    "\n",
    "</pre>"
   ]
  },
  {
   "cell_type": "markdown",
   "metadata": {},
   "source": [
    "### modul2.py"
   ]
  },
  {
   "cell_type": "code",
   "execution_count": null,
   "metadata": {},
   "outputs": [],
   "source": [
    "def potenciranje(x, y):\n",
    "    return x**y\n",
    "\n",
    "spremenljivka2 = 200"
   ]
  },
  {
   "cell_type": "markdown",
   "metadata": {},
   "source": [
    "### skripty.py"
   ]
  },
  {
   "cell_type": "code",
   "execution_count": null,
   "metadata": {},
   "outputs": [],
   "source": [
    "from moj_package import modul2\n",
    "\n",
    "print(dir())\n",
    "\n",
    "print(modul2.potenciranje(2,3))"
   ]
  },
  {
   "cell_type": "code",
   "execution_count": null,
   "metadata": {},
   "outputs": [],
   "source": [
    "from moj_package.modul2 import potenciranje\n",
    "\n",
    "print(dir())\n",
    "\n",
    "print(potenciranje(2,3))"
   ]
  },
  {
   "cell_type": "markdown",
   "metadata": {},
   "source": [
    "<div class=\"alert alert-block alert-info\">\n",
    "<h1><b>Naloga: </b></h1>\n",
    "Ustvarite nov modul imenovan <b>naloga1.py</b>. Znotraj modula napišite funkcijo <b>pretvornik(x, mode)</b>, ki spreminja radiane v stopinje in obratno.\n",
    "    \n",
    "Funkcija naj sprejme 2 argumenta. Prvi argument je vrednost, katero želimo pretvoriti. Drugi argument, imenovan <b>mode</b> pa nam pove v katero enoto spreminjamo.\n",
    "    \n",
    "    mode = \"deg2rad\" pomeni, da spreminjamo iz stopinj v radiane\n",
    "    mode = \"rad2deg\" pomeni, da spreminjamo iz radianov v stopinje\n",
    "    \n",
    "Za pomoč pri pretvarjanju uporabite <b>math</b> modul.\n",
    "    \n",
    "Zravn modula prilepite podano skripto <b>test.py</b> in to skripto zaženite.\n",
    "</div>"
   ]
  },
  {
   "cell_type": "code",
   "execution_count": null,
   "metadata": {},
   "outputs": [],
   "source": [
    "# test.py\n",
    "import naloga1\n",
    "\n",
    "\n",
    "r1 = naloga1.pretvornik(180, mode=\"deg2rad\")\n",
    "if float(str(r1)[:4]) == 3.14:\n",
    "    print(\"Rešitev pravilna.\")\n",
    "else:\n",
    "    print(\"Nekaj je narobe.\")\n",
    "\n",
    "r2 = naloga1.pretvornik(360, mode=\"deg2rad\")\n",
    "if float(str(r2)[:4]) == 6.28:\n",
    "    print(\"Rešitev pravilna.\")\n",
    "else:\n",
    "    print(\"Nekaj je narobe.\")\n",
    "\n",
    "r3 = naloga1.pretvornik(1.5707963267948966, mode=\"rad2deg\")\n",
    "if r3 == 90:\n",
    "    print(\"Rešitev pravilna.\")\n",
    "else:\n",
    "    print(\"Nekaj je narobe.\")\n",
    "\n",
    "r3 = naloga1.pretvornik(4.71238898038469, mode=\"rad2deg\")\n",
    "if r3 == 270:\n",
    "    print(\"Rešitev pravilna.\")\n",
    "else:\n",
    "    print(\"Nekaj je narobe.\")"
   ]
  },
  {
   "cell_type": "code",
   "execution_count": 1,
   "metadata": {},
   "outputs": [],
   "source": [
    "# Rešitev\n",
    "import math\n",
    "\n",
    "def pretvornik(x ,mode=\"deg2rad\"):\n",
    "    if mode == \"deg2rad\":\n",
    "        return math.radians(x)\n",
    "    elif mode == \"rad2deg\":\n",
    "        return math.degrees(x)"
   ]
  },
  {
   "cell_type": "code",
   "execution_count": null,
   "metadata": {},
   "outputs": [],
   "source": []
  },
  {
   "cell_type": "markdown",
   "metadata": {},
   "source": [
    "Importiramo lahko tudi vse naenkrat z uporabo \" \\* \" vendar se to odsvetuje, saj nevem kaj vse smo importirali in lahko na tak način ponesreči kaj spremenimo."
   ]
  },
  {
   "cell_type": "code",
   "execution_count": null,
   "metadata": {},
   "outputs": [],
   "source": [
    "from math import *\n",
    "\n",
    "print(dir())\n",
    "print(pi)\n",
    "\n",
    "pi = 3\n",
    "print(pi)"
   ]
  },
  {
   "cell_type": "markdown",
   "metadata": {},
   "source": [
    "### \\_\\_name\\_\\_ variable\n",
    "\n",
    "Python ima posebno spremenljivko \\_\\_name\\_\\_. Spremenljivka dobi vrednost, glede na to kako smo zagnali naš modul."
   ]
  },
  {
   "cell_type": "markdown",
   "metadata": {},
   "source": [
    "Če zaženemo naš modul direktno, bo spremenljivka enaka \\_\\_main\\_\\_."
   ]
  },
  {
   "cell_type": "markdown",
   "metadata": {},
   "source": [
    "**m1.py**"
   ]
  },
  {
   "cell_type": "code",
   "execution_count": null,
   "metadata": {},
   "outputs": [],
   "source": [
    "def my_name():\n",
    "    print(__name__)\n",
    "    \n",
    "my_name()"
   ]
  },
  {
   "cell_type": "markdown",
   "metadata": {},
   "source": [
    "To bi delovalo v primeru, ko smo ustvarili svoj modul in vanj sproti zapisali kakšen preprost test naše kode."
   ]
  },
  {
   "cell_type": "markdown",
   "metadata": {},
   "source": [
    "Problem se pojavi, ko moj_modul importiramo, sam se ob importiranju celotna koda v modulu izvede."
   ]
  },
  {
   "cell_type": "code",
   "execution_count": 2,
   "metadata": {},
   "outputs": [
    {
     "name": "stdout",
     "output_type": "stream",
     "text": [
      "__main__\n",
      "m1\n"
     ]
    }
   ],
   "source": [
    "import m1\n",
    "\n",
    "print(__name__)\n",
    "print(m1.__name__)"
   ]
  },
  {
   "cell_type": "markdown",
   "metadata": {},
   "source": [
    "Da preprečimo nepotrebno izvajanje funkcij lahko uporabimo \\_\\_name\\_\\_spremenljivko.\n",
    "\n",
    "Naš modul bi sedaj izgledal sledeče:\n",
    "\n",
    "**m1.py**"
   ]
  },
  {
   "cell_type": "code",
   "execution_count": null,
   "metadata": {},
   "outputs": [],
   "source": [
    "def my_name():\n",
    "    print(__name__)\n",
    "    \n",
    "if __name__ == \"__main__\":\n",
    "    my_name()"
   ]
  },
  {
   "cell_type": "markdown",
   "metadata": {},
   "source": [
    "**skripta.py**"
   ]
  },
  {
   "cell_type": "code",
   "execution_count": null,
   "metadata": {},
   "outputs": [],
   "source": [
    "import m1\n",
    "\n",
    "print(__name__)\n",
    "print(m1.__name__)"
   ]
  },
  {
   "cell_type": "code",
   "execution_count": null,
   "metadata": {},
   "outputs": [],
   "source": []
  }
 ],
 "metadata": {
  "kernelspec": {
   "display_name": "Python 3 (ipykernel)",
   "language": "python",
   "name": "python3"
  },
  "language_info": {
   "codemirror_mode": {
    "name": "ipython",
    "version": 3
   },
   "file_extension": ".py",
   "mimetype": "text/x-python",
   "name": "python",
   "nbconvert_exporter": "python",
   "pygments_lexer": "ipython3",
   "version": "3.9.4"
  }
 },
 "nbformat": 4,
 "nbformat_minor": 4
}
