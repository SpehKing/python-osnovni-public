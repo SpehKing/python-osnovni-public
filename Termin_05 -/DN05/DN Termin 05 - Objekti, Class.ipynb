{
 "cells": [
  {
   "cell_type": "markdown",
   "metadata": {},
   "source": [
    "<div class=\"alert alert-block alert-info\">\n",
    "<h1><b>Naloga: </b></h1>\n",
    "    Napiši razred <b>Zaposlena_oseba</b>, ki ima v sebi shranjene parametre <i>ime</i>, <i>priimek</i> in <i>placa</i>, ki jih prejme ob inicializaciji. Vsebuje naj tudi funkcijo <b>razlika_v_placi</b> ki kot parameter prejme objekt tipa Zaposlena_oseba ki predstavlja neko drugo osebo. Funkcija naj vrne absolutno razliko med plačama osebe v kateri se funkcija kliče ter pa osebe, ki je bila podana kot parameter. \n",
    "    <br>Ne pozabite na parameter \"self\". Uporabite ga tam kjer je potrebno.\n",
    "</div>\n",
    "\n",
    "Primeri:\n",
    "```python\n",
    "Input:\n",
    "    zaposleni = [Zaposlena_oseba(\"Luka\", \"Novak\", 1500.0),\n",
    "                 Zaposlena_oseba(\"Živa\", \"Groza\", 2100.0),\n",
    "                 Zaposlena_oseba(\"Anže\", \"Jaklin\", 1436.50),\n",
    "                 Zaposlena_oseba(\"Luka\", \"Bogataj\", 1790.0),\n",
    "                 Zaposlena_oseba(\"Sara\", \"Ljubljen\", 3600.0)]\n",
    "\n",
    "    print(\"Razlika med plačami zaposlenih:\")\n",
    "    for i in range(len(zaposleni)):\n",
    "        for j in range(i+1, len(zaposleni)):\n",
    "            ime1 = zaposleni[i].ime\n",
    "            priimek1 = zaposleni[i].priimek\n",
    "            razlika = zaposleni[i].razlika_v_placi(zaposleni[j])\n",
    "            ime2 = zaposleni[j].ime\n",
    "            priimek2 = zaposleni[j].priimek\n",
    "            print(f\"\\t{ime1} {priimek1} <--- {razlika} € ---> {ime2} {priimek2}\")\n",
    "\n",
    "Output:\n",
    "    Razlika med plačami zaposlenih:\n",
    "        Luka Novak <--- 600.0 € ---> Živa Groza\n",
    "        Luka Novak <--- 63.5 € ---> Anže Jaklin\n",
    "        Luka Novak <--- 290.0 € ---> Luka Bogataj\n",
    "        Luka Novak <--- 2100.0 € ---> Sara Ljubljen\n",
    "        Živa Groza <--- 663.5 € ---> Anže Jaklin\n",
    "        Živa Groza <--- 310.0 € ---> Luka Bogataj\n",
    "        Živa Groza <--- 1500.0 € ---> Sara Ljubljen\n",
    "        Anže Jaklin <--- 353.5 € ---> Luka Bogataj\n",
    "        Anže Jaklin <--- 2163.5 € ---> Sara Ljubljen\n",
    "        Luka Bogataj <--- 1810.0 € ---> Sara Ljubljen\n",
    "\n",
    "```"
   ]
  },
  {
   "cell_type": "code",
   "execution_count": null,
   "metadata": {},
   "outputs": [],
   "source": []
  }
 ],
 "metadata": {
  "kernelspec": {
   "display_name": "Python 3",
   "language": "python",
   "name": "python3"
  },
  "language_info": {
   "codemirror_mode": {
    "name": "ipython",
    "version": 3
   },
   "file_extension": ".py",
   "mimetype": "text/x-python",
   "name": "python",
   "nbconvert_exporter": "python",
   "pygments_lexer": "ipython3",
   "version": "3.8.8"
  }
 },
 "nbformat": 4,
 "nbformat_minor": 4
}
