{
 "cells": [
  {
   "cell_type": "markdown",
   "id": "fec56a02",
   "metadata": {},
   "source": [
    "# Classes"
   ]
  },
  {
   "cell_type": "code",
   "execution_count": 2,
   "id": "957262a7",
   "metadata": {},
   "outputs": [
    {
     "ename": "SyntaxError",
     "evalue": "invalid syntax (<ipython-input-2-230cdf2eaf65>, line 4)",
     "output_type": "error",
     "traceback": [
      "\u001b[0;36m  File \u001b[0;32m\"<ipython-input-2-230cdf2eaf65>\"\u001b[0;36m, line \u001b[0;32m4\u001b[0m\n\u001b[0;31m    \"opis\": pass # funkcijo .. print(ime je star starost)\u001b[0m\n\u001b[0m            ^\u001b[0m\n\u001b[0;31mSyntaxError\u001b[0m\u001b[0;31m:\u001b[0m invalid syntax\n"
     ]
    }
   ],
   "source": [
    "pes = {\n",
    "    \"ime\": \"Fido\",\n",
    "    \"starost\": 9,\n",
    "    \"opis\": pass # funkcijo .. print(ime je star starost)\n",
    "}"
   ]
  },
  {
   "cell_type": "code",
   "execution_count": 3,
   "id": "e65bef9f",
   "metadata": {},
   "outputs": [],
   "source": [
    "class ImeRazreda:\n",
    "    pass"
   ]
  },
  {
   "cell_type": "code",
   "execution_count": null,
   "id": "09c30199",
   "metadata": {},
   "outputs": [],
   "source": []
  },
  {
   "cell_type": "code",
   "execution_count": 5,
   "id": "2a1c602b",
   "metadata": {},
   "outputs": [
    {
     "name": "stdout",
     "output_type": "stream",
     "text": [
      "<__main__.Pes object at 0x7fea557d10a0>\n",
      "<class '__main__.Pes'>\n"
     ]
    }
   ],
   "source": [
    "class Pes:\n",
    "    pass\n",
    "\n",
    "fido = Pes()\n",
    "print(fido)\n",
    "print(type(fido))"
   ]
  },
  {
   "cell_type": "code",
   "execution_count": 6,
   "id": "3e9d1b67",
   "metadata": {},
   "outputs": [
    {
     "name": "stdout",
     "output_type": "stream",
     "text": [
      "Ustvarili smo novega psa\n",
      "<__main__.Pes object at 0x7fea557d1130>\n",
      "<class '__main__.Pes'>\n",
      "Ustvarili smo novega psa\n",
      "<__main__.Pes object at 0x7fea557d1160>\n",
      "<class '__main__.Pes'>\n"
     ]
    }
   ],
   "source": [
    "class Pes:\n",
    "    def __init__(self):\n",
    "        print(\"Ustvarili smo novega psa\")\n",
    "        \n",
    "        \n",
    "fido = Pes()\n",
    "print(fido)\n",
    "print(type(fido))\n",
    "\n",
    "rex = Pes()\n",
    "print(rex)\n",
    "print(type(rex))"
   ]
  },
  {
   "cell_type": "code",
   "execution_count": 14,
   "id": "42d5bac2",
   "metadata": {},
   "outputs": [
    {
     "name": "stdout",
     "output_type": "stream",
     "text": [
      "Ustvarili smo novega psa\n",
      "<__main__.Pes object at 0x7fea5c0365e0>\n",
      "<__main__.Pes object at 0x7fea5c0365e0>\n",
      "Fido\n",
      "9\n",
      "Ustvarili smo novega psa\n",
      "<__main__.Pes object at 0x7fea5574b460>\n",
      "<__main__.Pes object at 0x7fea5574b460>\n",
      "Rex\n",
      "12\n"
     ]
    }
   ],
   "source": [
    "class Pes:\n",
    "    def __init__(self, name, age):\n",
    "        print(\"Ustvarili smo novega psa\")\n",
    "        print(self)\n",
    "        self.ime = name\n",
    "        self.starost = age\n",
    "        \n",
    "fido = Pes(\"Fido\", 9)\n",
    "print(fido)\n",
    "print(fido.ime)\n",
    "print(fido.starost)\n",
    "\n",
    "rex = Pes(\"Rex\", 12)\n",
    "print(rex)\n",
    "print(rex.ime)\n",
    "print(rex.starost)"
   ]
  },
  {
   "cell_type": "markdown",
   "id": "c8164e11",
   "metadata": {},
   "source": [
    "# https://bit.ly/3CZnjBj"
   ]
  },
  {
   "cell_type": "markdown",
   "id": "8eac5bac",
   "metadata": {},
   "source": [
    "<div class=\"alert alert-block alert-info\">\n",
    "<h1><b>Naloga: </b></h1>\n",
    "\n",
    "Ustvarite razred Vozilo. Vsaka instanca naj ima svojo specifično hitrost in kilometrino.\n",
    "    \n",
    "Izpišite njegove lastnosti na sledeč način:\n",
    "\n",
    "\"Max hitrost -vozila-: -hitrost-. Prevozenih je -kilometrina- km.\"\n",
    "</div>\n",
    "\n",
    "Primeri:\n",
    "```python\n",
    "Input:\n",
    "avto = Vozilo(\"avto\", 300, 80)\n",
    "\n",
    "Output:\n",
    "Max hitrost avta: 300. Prevozenih je 80 km.\n",
    "\n",
    "Input:\n",
    "kamion = Vozilo(\"kamion\" ,90, 33)\n",
    "\n",
    "Output:\n",
    "Max hitrost kamion: 90. Prevozenih je 33 km.\n",
    "\n",
    "```\n"
   ]
  },
  {
   "cell_type": "code",
   "execution_count": 17,
   "id": "416f86d0",
   "metadata": {},
   "outputs": [
    {
     "name": "stdout",
     "output_type": "stream",
     "text": [
      "Max hitrost avto: 300. Prevozenih je 80 km.\n",
      "Max hitrost kamnion: 90. Prevozenih je 33 km.\n"
     ]
    }
   ],
   "source": [
    "class Vozilo:\n",
    "    def __init__(self, vozilo, hitrost, kilometrina):\n",
    "        self.vozilo = vozilo\n",
    "        self.hitrost = hitrost\n",
    "        self.kilometrina = kilometrina\n",
    "        \n",
    "    \n",
    "avto = Vozilo(\"avto\", 300, 80)\n",
    "print(f\"Max hitrost {avto.vozilo}: {avto.hitrost}. Prevozenih je {avto.kilometrina} km.\")\n",
    "\n",
    "kamion = Vozilo(\"kamnion\", 90, 33)\n",
    "print(f\"Max hitrost {kamion.vozilo}: {kamion.hitrost}. Prevozenih je {kamion.kilometrina} km.\")"
   ]
  },
  {
   "cell_type": "code",
   "execution_count": null,
   "id": "56d3c52c",
   "metadata": {},
   "outputs": [],
   "source": []
  },
  {
   "cell_type": "markdown",
   "id": "1ced102b",
   "metadata": {},
   "source": [
    "## Class methods"
   ]
  },
  {
   "cell_type": "code",
   "execution_count": 23,
   "id": "95e90198",
   "metadata": {},
   "outputs": [
    {
     "name": "stdout",
     "output_type": "stream",
     "text": [
      "Fido je star 9 let.\n",
      "Rex je star 12 let.\n"
     ]
    }
   ],
   "source": [
    "class Pes:\n",
    "    def __init__(self, ime, starost):\n",
    "        self.ime = ime\n",
    "        self.starost = starost\n",
    "        \n",
    "    def opis(self):\n",
    "        print(f\"{self.ime} je star {self.starost} let.\")\n",
    "        \n",
    "fido = Pes(\"Fido\", 9)\n",
    "rex = Pes(\"Rex\", 12)\n",
    "\n",
    "fido.opis()\n",
    "rex.opis()"
   ]
  },
  {
   "cell_type": "code",
   "execution_count": 25,
   "id": "d4197710",
   "metadata": {},
   "outputs": [
    {
     "name": "stdout",
     "output_type": "stream",
     "text": [
      "Fido je star 9 let.\n",
      "Fido je star 9 let.\n"
     ]
    }
   ],
   "source": [
    "fido.opis()\n",
    "\n",
    "Pes.opis(fido)"
   ]
  },
  {
   "cell_type": "code",
   "execution_count": 28,
   "id": "f32ef919",
   "metadata": {},
   "outputs": [
    {
     "name": "stdout",
     "output_type": "stream",
     "text": [
      "Fido je star 9 let.\n",
      "63\n",
      "Rex je star 12 let.\n",
      "84\n"
     ]
    }
   ],
   "source": [
    "class Pes:\n",
    "    def __init__(sself, ime, starost):\n",
    "        sself.ime = ime\n",
    "        sself.starost = starost\n",
    "        \n",
    "    def opis(self):\n",
    "        print(f\"{self.ime} je star {self.starost} let.\")\n",
    "        \n",
    "    def vrni_starost_v_cloveskih_letih(self):\n",
    "        return self.starost * 7\n",
    "    \n",
    "    \n",
    "fido = Pes(\"Fido\", 9)\n",
    "fido.opis()\n",
    "fido_human_age = fido.vrni_starost_v_cloveskih_letih()\n",
    "print(fido_human_age)\n",
    "\n",
    "rex = Pes(\"Rex\", 12)\n",
    "rex.opis()\n",
    "rex_human_age = rex.vrni_starost_v_cloveskih_letih()\n",
    "print(rex_human_age)"
   ]
  },
  {
   "cell_type": "markdown",
   "id": "d671a471",
   "metadata": {},
   "source": [
    "<div class=\"alert alert-block alert-info\">\n",
    "<h1><b>Naloga: </b></h1>\n",
    "    \n",
    "Ustvarite razred Vozilo. Vsaka instanca naj ima svojo specifično hitrost in kilometrino <i>in koliko goriva je bilo porabljenega do sedaj</i>.\n",
    "    \n",
    "<i>Razred Vozilo naj ima funkcija <b>poraba()</b>, ki vrne koliko je povprečna poraba tega vozila.</i>\n",
    "</div>\n",
    "\n",
    "Primeri:\n",
    "```python\n",
    "Input:\n",
    "    \n",
    "avto = Vozilo(\"avto\", 300, 80, 100)\n",
    "print(avto.poraba())\n",
    "\n",
    "Output:\n",
    "Vozilo porabi 6.25l/km\n",
    "\n",
    "Input:\n",
    "kamion = Vozilo(\"kamion\", 90, 5500, 125000)\n",
    "print(f\"Vozilo porabi {kamion.poraba()}l/km\")\n",
    "\n",
    "Output:\n",
    "Vozilo porabi 22.73l/km\n",
    "\n",
    "\n",
    "```\n"
   ]
  },
  {
   "cell_type": "code",
   "execution_count": 32,
   "id": "a86db0b3",
   "metadata": {},
   "outputs": [
    {
     "name": "stdout",
     "output_type": "stream",
     "text": [
      "Vozilo porabi 1.25 l/km\n",
      "Vozilo porabi 22.73 l/km\n"
     ]
    }
   ],
   "source": [
    "class Vozilo:\n",
    "    def __init__(self, vozilo, hitrost, kilometrina, gorivo):\n",
    "        self.vozilo = vozilo\n",
    "        self.hitrost = hitrost\n",
    "        self.kilometrina = kilometrina\n",
    "        self.gorivo = gorivo\n",
    "        \n",
    "    def poraba(self):\n",
    "        return self.gorivo / self.kilometrina\n",
    "    \n",
    "avto = Vozilo(\"avto\", 300, 80, 100)\n",
    "print(f\"Vozilo porabi {avto.poraba()} l/km\")\n",
    "\n",
    "kamion = Vozilo(\"kamion\", 90, 5500, 125_000)\n",
    "print(f\"Vozilo porabi {kamion.poraba():.2f} l/km\")\n"
   ]
  },
  {
   "cell_type": "markdown",
   "id": "abb2ea00",
   "metadata": {},
   "source": [
    "## Class variable"
   ]
  },
  {
   "cell_type": "code",
   "execution_count": 41,
   "id": "e5c4a5a4",
   "metadata": {},
   "outputs": [
    {
     "name": "stdout",
     "output_type": "stream",
     "text": [
      "['svinjina']\n",
      "Fido je star 9 let. Najraje ima ['svinjina']\n",
      "Rex je star 12 let. Najraje ima ['svinjina']\n",
      "['svinjina']\n",
      "['svinjina']\n"
     ]
    }
   ],
   "source": [
    "class Pes:\n",
    "    hrana = [\"svinjina\"]\n",
    "    \n",
    "    def __init__(self, ime, starost):\n",
    "        self.ime = ime\n",
    "        self.starost = starost\n",
    "        \n",
    "    def opis(self):\n",
    "        print(f\"{self.ime} je star {self.starost} let. Najraje ima {self.hrana}\")\n",
    "        \n",
    "        \n",
    "print(Pes.hrana)\n",
    "\n",
    "fido = Pes(\"Fido\", 9)\n",
    "rex = Pes(\"Rex\", 12)\n",
    "\n",
    "fido.opis()\n",
    "rex.opis()\n",
    "\n",
    "print(fido.hrana)\n",
    "print(rex.hrana)"
   ]
  },
  {
   "cell_type": "code",
   "execution_count": null,
   "id": "07808cc6",
   "metadata": {},
   "outputs": [],
   "source": []
  },
  {
   "cell_type": "code",
   "execution_count": 43,
   "id": "5796a963",
   "metadata": {},
   "outputs": [
    {
     "name": "stdout",
     "output_type": "stream",
     "text": [
      "Fido je star 9 let. Najraje ima ['svinjina']\n",
      "Rex je star 12 let. Najraje ima ['svinjina']\n",
      "Fido je star 9 let. Najraje ima ['teletina']\n",
      "Rex je star 12 let. Najraje ima ['teletina']\n"
     ]
    }
   ],
   "source": [
    "class Pes:\n",
    "    hrana = [\"svinjina\"]\n",
    "    \n",
    "    def __init__(self, ime, starost):\n",
    "        self.ime = ime\n",
    "        self.starost = starost\n",
    "        \n",
    "    def opis(self):\n",
    "        print(f\"{self.ime} je star {self.starost} let. Najraje ima {self.hrana}\")\n",
    "        \n",
    "\n",
    "fido = Pes(\"Fido\", 9)\n",
    "rex = Pes(\"Rex\", 12)\n",
    "\n",
    "fido.opis()\n",
    "rex.opis()\n",
    "\n",
    "Pes.hrana = [\"teletina\"]\n",
    "\n",
    "fido.opis()\n",
    "rex.opis()"
   ]
  },
  {
   "cell_type": "code",
   "execution_count": 46,
   "id": "dcdf461a",
   "metadata": {},
   "outputs": [
    {
     "name": "stdout",
     "output_type": "stream",
     "text": [
      "Fido je star 9. Najraje je ['svinjina']\n",
      "Rex je star 12. Najraje je ['svinjina']\n",
      "Ace je star 3. Najraje je ['svinjina']\n",
      "Fido je star 9. Najraje je ['svinjina', 'teletina']\n",
      "Rex je star 12. Najraje je ['svinjina', 'teletina']\n",
      "Ace je star 3. Najraje je ['svinjina', 'teletina']\n"
     ]
    }
   ],
   "source": [
    "class Pes:\n",
    "    hrana = [\"svinjina\"]\n",
    "    \n",
    "    def __init__(self, ime, starost):\n",
    "        self.ime = ime\n",
    "        self.starost = starost\n",
    "        \n",
    "    def opis(self):\n",
    "        print(f\"{self.ime} je star {self.starost}. Najraje je {self.hrana}\")\n",
    "        \n",
    "    def dodaj_hrano(self, hrana):\n",
    "        self.hrana.append(hrana)\n",
    "\n",
    "        \n",
    "fido = Pes(\"Fido\", 9)\n",
    "rex = Pes(\"Rex\", 12)\n",
    "ace = Pes(\"Ace\", 3)\n",
    "\n",
    "fido.opis()\n",
    "rex.opis()\n",
    "ace.opis()\n",
    "\n",
    "rex.dodaj_hrano(\"teletina\")\n",
    "\n",
    "fido.opis()\n",
    "rex.opis()\n",
    "ace.opis()"
   ]
  },
  {
   "cell_type": "code",
   "execution_count": 52,
   "id": "21bec8e0",
   "metadata": {},
   "outputs": [
    {
     "name": "stdout",
     "output_type": "stream",
     "text": [
      "Fido je star 9. Najraje je ['svinjina']\n",
      "Rex je star 12. Najraje je ['svinjina']\n",
      "Ace je star 3. Najraje je ['svinjina']\n",
      "Fido je star 9. Najraje je ['svinjina', 'teletina']\n",
      "Rex je star 12. Najraje je ['svinjina', 'teletina']\n",
      "Ace je star 3. Najraje je ['piščanec']\n"
     ]
    }
   ],
   "source": [
    "class Pes:\n",
    "    hrana = [\"svinjina\"]\n",
    "    \n",
    "    def __init__(self, ime, starost):\n",
    "        self.ime = ime\n",
    "        self.starost = starost\n",
    "        \n",
    "    def opis(self):\n",
    "        print(f\"{self.ime} je star {self.starost}. Najraje je {self.hrana}\")\n",
    "        \n",
    "    def dodaj_hrano(self, nova_hrana):\n",
    "        self.hrana.append(nova_hrana)\n",
    "        \n",
    "    def spremeni_hrano(self, nova_hrana):\n",
    "        self.hrana = [nova_hrana]\n",
    "        \n",
    "fido = Pes(\"Fido\", 9)\n",
    "rex = Pes(\"Rex\", 12)\n",
    "ace = Pes(\"Ace\", 3)\n",
    "\n",
    "fido.opis()\n",
    "rex.opis()\n",
    "ace.opis()\n",
    "\n",
    "rex.dodaj_hrano(\"teletina\")\n",
    "ace.spremeni_hrano(\"piščanec\")\n",
    "\n",
    "fido.opis()\n",
    "rex.opis()\n",
    "ace.opis()"
   ]
  },
  {
   "cell_type": "markdown",
   "id": "9a509cae",
   "metadata": {},
   "source": [
    "<div class=\"alert alert-block alert-info\">\n",
    "<h1><b>Naloga: </b></h1>\n",
    "    \n",
    "Ustvarite razred Vozilo. Vsaka instanca naj ima svojo specifično hitrost in kilometrino in koliko goriva je bilo porabljenega do sedaj.\n",
    "   \n",
    "Razred Vozilo naj ima funkcija <b>poraba()</b>, ki vrne koliko je povprečna poraba tega vozila.\n",
    "    \n",
    "<i>Dodajte <b>class variable</b> razredu Vozilo. Spremenljivki naj bo ime <b>st_gum</b> in njena vrednost naj bo <b>4</b>.</i>\n",
    "    \n",
    "<i>Dodajte metodo <b>opis()</b>, ki naj izpiše opis vozila.</i>\n",
    "</div>\n",
    "\n",
    "Primeri:\n",
    "```python\n",
    "Input:\n",
    "    \n",
    "avto = Vozilo(\"avto\", 300, 80, 500)\n",
    "avto.opis()\n",
    "\n",
    "Output:\n",
    "Max hitrost avto: 300. Prevozenih je 80 km. Poraba vozila je 6.25. Vozilo ima 4 gum. \n",
    "\n",
    "Input:\n",
    "kamion = Vozilo(\"kamion\", 90, 5500, 125000)\n",
    "kamion.opis()\n",
    "\n",
    "Output:\n",
    "Max hitrost kamion: 180. Prevozenih je 5500 km. Poraba vozila je 22.73. Vozilo ima 4 gum.\n",
    "\n",
    "\n",
    "```\n"
   ]
  },
  {
   "cell_type": "code",
   "execution_count": 55,
   "id": "1b2fea19",
   "metadata": {},
   "outputs": [
    {
     "name": "stdout",
     "output_type": "stream",
     "text": [
      "Max hitrost avto: 300. Prevozenih je 80 km. Poraba vozila je 6.25. Ima 4 gume.\n",
      "Max hitrost kamion: 90. Prevozenih je 5500 km. Poraba vozila je 22.73. Ima 4 gume.\n"
     ]
    }
   ],
   "source": [
    "class Vozilo:\n",
    "    st_gum = 4\n",
    "    \n",
    "    def __init__(self, vozilo, hitrost, kilometrina, gorivo):\n",
    "        self.vozilo = vozilo\n",
    "        self.hitrost = hitrost\n",
    "        self.kilometrina = kilometrina\n",
    "        self.gorivo = gorivo\n",
    "        \n",
    "    def poraba(self):\n",
    "        return self.gorivo / self.kilometrina\n",
    "    \n",
    "    def opis(self):\n",
    "        print(f\"Max hitrost {self.vozilo}: {self.hitrost}. Prevozenih je {self.kilometrina} km. Poraba vozila je {self.poraba():.2f}. Ima {self.st_gum} gume.\")\n",
    "        \n",
    "        \n",
    "avto = Vozilo(\"avto\", 300, 80, 500)\n",
    "avto.opis()\n",
    "\n",
    "kamion = Vozilo(\"kamion\", 90, 5500, 125_000)\n",
    "kamion.opis()"
   ]
  },
  {
   "cell_type": "code",
   "execution_count": null,
   "id": "33cfb76c",
   "metadata": {},
   "outputs": [],
   "source": []
  },
  {
   "cell_type": "markdown",
   "id": "69c66ef9",
   "metadata": {},
   "source": [
    "# Decorators"
   ]
  },
  {
   "cell_type": "code",
   "execution_count": 58,
   "id": "b7e64eb1",
   "metadata": {},
   "outputs": [
    {
     "name": "stdout",
     "output_type": "stream",
     "text": [
      "Fido je star 9. Najraje je ['svinjina']. Je vrste Pes\n",
      "Rex je star 12. Najraje je ['svinjina']. Je vrste Pes\n",
      "<__main__.Pes object at 0x7fea43bc3700>\n",
      "Fido je star 9. Najraje je ['svinjina']. Je vrste kuščar\n",
      "Rex je star 12. Najraje je ['svinjina']. Je vrste Pes\n"
     ]
    }
   ],
   "source": [
    "class Pes:\n",
    "    vrsta = \"Pes\"\n",
    "    hrana = [\"svinjina\"]\n",
    "    \n",
    "    def __init__(self, ime, starost):\n",
    "        self.ime = ime\n",
    "        self.starost = starost\n",
    "    \n",
    "    def opis(self):\n",
    "        return f\"{self.ime} je star {self.starost}. Najraje je {self.hrana}. Je vrste {self.vrsta}\"\n",
    "    \n",
    "    def spremeni_vrsto(self, vrsta):\n",
    "        print(self)\n",
    "        self.vrsta = vrsta\n",
    "        \n",
    "fido = Pes(\"Fido\", 9)\n",
    "rex = Pes(\"Rex\", 12)\n",
    "\n",
    "print(fido.opis())\n",
    "print(rex.opis())\n",
    "\n",
    "fido.spremeni_vrsto(\"kuščar\")\n",
    "\n",
    "print(fido.opis())\n",
    "print(rex.opis())"
   ]
  },
  {
   "cell_type": "code",
   "execution_count": null,
   "id": "6780cc28",
   "metadata": {},
   "outputs": [],
   "source": []
  },
  {
   "cell_type": "code",
   "execution_count": null,
   "id": "f8715335",
   "metadata": {},
   "outputs": [],
   "source": []
  },
  {
   "cell_type": "code",
   "execution_count": null,
   "id": "ca3d4399",
   "metadata": {},
   "outputs": [],
   "source": []
  },
  {
   "cell_type": "code",
   "execution_count": null,
   "id": "7bb516ba",
   "metadata": {},
   "outputs": [],
   "source": []
  },
  {
   "cell_type": "code",
   "execution_count": null,
   "id": "42b0aac8",
   "metadata": {},
   "outputs": [],
   "source": []
  },
  {
   "cell_type": "code",
   "execution_count": null,
   "id": "0648689b",
   "metadata": {},
   "outputs": [],
   "source": []
  },
  {
   "cell_type": "code",
   "execution_count": null,
   "id": "25eb458d",
   "metadata": {},
   "outputs": [],
   "source": []
  },
  {
   "cell_type": "code",
   "execution_count": null,
   "id": "c62a3610",
   "metadata": {},
   "outputs": [],
   "source": []
  },
  {
   "cell_type": "code",
   "execution_count": null,
   "id": "667d5fad",
   "metadata": {},
   "outputs": [],
   "source": []
  }
 ],
 "metadata": {
  "kernelspec": {
   "display_name": "Python 3",
   "language": "python",
   "name": "python3"
  },
  "language_info": {
   "codemirror_mode": {
    "name": "ipython",
    "version": 3
   },
   "file_extension": ".py",
   "mimetype": "text/x-python",
   "name": "python",
   "nbconvert_exporter": "python",
   "pygments_lexer": "ipython3",
   "version": "3.8.8"
  }
 },
 "nbformat": 4,
 "nbformat_minor": 5
}
