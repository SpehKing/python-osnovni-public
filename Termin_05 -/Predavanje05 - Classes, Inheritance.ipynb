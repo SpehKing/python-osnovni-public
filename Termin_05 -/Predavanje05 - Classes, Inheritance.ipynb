{
 "cells": [
  {
   "cell_type": "markdown",
   "metadata": {},
   "source": [
    "# Objektno programiranje\n",
    "\n",
    "Objektno programiranje je način kako mi združimo medseboj povezane podatke in funkcije, ki delujejo na te podatke."
   ]
  },
  {
   "cell_type": "markdown",
   "metadata": {},
   "source": [
    "Primer:\n",
    "\n",
    "Želimo napisat program \"pes\".\n",
    "* Za psa imamo nekja podatkov. Imamo njegovo ime in starost.\n",
    "* Za psa imamo tudi funkcijo, ki nam ga opiše: f\"{ime} je star {starost}\"\n",
    "* Vse to bi radi združili v en objekt"
   ]
  },
  {
   "cell_type": "markdown",
   "metadata": {},
   "source": [
    "# CLASS"
   ]
  },
  {
   "cell_type": "markdown",
   "metadata": {},
   "source": [
    "Z zadevami, ki so nam znane do sedaj, bi to lahko poizkusili zapakirati v dictionary."
   ]
  },
  {
   "cell_type": "code",
   "execution_count": 1,
   "metadata": {},
   "outputs": [],
   "source": [
    "pes = {\n",
    "    \"ime\": \"Fido\",\n",
    "    \"starost\": 9,\n",
    "    \"opis\": \"\" # radi bi, da nam kle pove opis psa\n",
    "}"
   ]
  },
  {
   "cell_type": "markdown",
   "metadata": {},
   "source": [
    "Vendar to ne gre."
   ]
  },
  {
   "cell_type": "markdown",
   "metadata": {},
   "source": [
    "Vse to lahko združimo s pomočjo Class."
   ]
  },
  {
   "cell_type": "markdown",
   "metadata": {},
   "source": [
    "## Defining a Class\n",
    "\n",
    "Začnemo z keyword `class` in nato ime razreda (uporablja se CamelCase način poimenovanja).\n",
    "\n",
    "```python\n",
    "class ImeRazreda:\n",
    "    pass\n",
    "```\n",
    "\n",
    "Ta razred sedaj predstavlja objekt \"Pes\". S pomočjo tega razreda lahko sedaj ustvarjamo specifične pse (kjer ima vsak svoje specifično ime, starost, itd.)\n",
    "\n",
    "Da sedaj ustvarimo našega psa, lahko pokličemo razred in ga shranimo v spremenljivko.\n",
    "\n",
    "```python\n",
    "fido = ImeRazreda()\n",
    "```\n",
    "\n",
    "fido je sedaj **instanca razreda**."
   ]
  },
  {
   "cell_type": "code",
   "execution_count": 1,
   "metadata": {},
   "outputs": [],
   "source": [
    "class Pes:\n",
    "    pass"
   ]
  },
  {
   "cell_type": "code",
   "execution_count": 2,
   "metadata": {},
   "outputs": [
    {
     "name": "stdout",
     "output_type": "stream",
     "text": [
      "<__main__.Pes object at 0x7f3c94527250>\n",
      "<class '__main__.Pes'>\n"
     ]
    }
   ],
   "source": [
    "fido = Pes()\n",
    "print(fido)\n",
    "print(type(fido))"
   ]
  },
  {
   "cell_type": "markdown",
   "metadata": {},
   "source": [
    "Znotraj našega Class-a definiramo metodo `__init__()`.\n",
    "\n",
    "Ko ustvarimo novo instanco našega Class-a (novega specifičnega psa), se pokliče ta metoda.\n",
    "> `__init__()` se uporablja podobno kot \"konstruktor\" (iz drugih jezikov), čeprov ni točno konstruktor."
   ]
  },
  {
   "cell_type": "code",
   "execution_count": 3,
   "metadata": {},
   "outputs": [
    {
     "name": "stdout",
     "output_type": "stream",
     "text": [
      "Ustvarili smo novega psa\n",
      "<__main__.Pes object at 0x7f3c944e0310>\n",
      "<class '__main__.Pes'>\n",
      "\n",
      "Ustvarili smo novega psa\n",
      "<__main__.Pes object at 0x7f3c944e0640>\n",
      "<class '__main__.Pes'>\n"
     ]
    }
   ],
   "source": [
    "class Pes:\n",
    "    def __init__(self):\n",
    "        print(\"Ustvarili smo novega psa\")\n",
    "        \n",
    "fido = Pes()\n",
    "print(fido)\n",
    "print(type(fido))\n",
    "\n",
    "print()\n",
    "\n",
    "rex = Pes()\n",
    "print(rex)\n",
    "print(type(rex))"
   ]
  },
  {
   "cell_type": "markdown",
   "metadata": {},
   "source": [
    "Znotraj našega razreda lahko ustvarimo spremenljivke, specifične posamezni instanci razreda.\n",
    "\n",
    "Da ustvarimo spremenljivko specifično instanci razreda se uporabi sledeča sintaksa:\n",
    "```python\n",
    "self.ime = \"Fido\"\n",
    "```\n",
    "\n",
    "Do spremenljivke dostopamo na sledeč način:\n",
    "```python\n",
    "print(moj_pes.ime)\n",
    "Output: Fido\n",
    "```\n",
    "\n",
    "V našem primeru bomo vsakemu specifičnemu psu pripisali njegovo ime. Psu bomo ime določili takoj, ko ga ustvarimo. Zato bomo njegovo ime posredovali \\_\\_init\\_\\_ metodi."
   ]
  },
  {
   "cell_type": "code",
   "execution_count": 4,
   "metadata": {},
   "outputs": [],
   "source": [
    "class Pes: #defines the class\n",
    "    def __init__(self, ime, starost): #ime, starost so argumenti, k jih posredujemo, ko ustvarimo novo instanco tega razreda\n",
    "        self.ime = ime #creating new variable called name inside our blank object\n",
    "        self.starost = starost"
   ]
  },
  {
   "cell_type": "code",
   "execution_count": 5,
   "metadata": {},
   "outputs": [
    {
     "name": "stdout",
     "output_type": "stream",
     "text": [
      "Fido\n",
      "9\n",
      "\n",
      "Rex\n",
      "12\n"
     ]
    }
   ],
   "source": [
    "fido = Pes(\"Fido\", 9)\n",
    "print(fido.ime)\n",
    "print(fido.starost)\n",
    "print()\n",
    "\n",
    "rex = Pes(\"Rex\", 12)\n",
    "print(rex.ime)\n",
    "print(rex.starost)"
   ]
  },
  {
   "cell_type": "markdown",
   "metadata": {},
   "source": [
    "`self` parameter je instanca razreda in je avtomatično posredovana kot prvi parameter vsaki metodi našega Class-a.\n",
    "\n",
    "`self.ime = ime` v naši kodi tako pomeni, da naši instanci pripišemo to spremenljivko.\n",
    "Če bi za razliko napisali `Pes.ime = ime` pa bi spremenljivko name spremenili za celoten Class (ker pa vsi psi nimajo enakega imena ostanemo pri `self.ime = ime`).\n",
    "\n",
    "> method definitions have self as the first parameter, and we use this variable inside the method bodies – but we don’t appear to pass this parameter in. This is because whenever we call a method on an object, the object itself is automatically passed in as the first parameter. This gives us a way to access the object’s properties from inside the object’s methods.\n",
    "\n",
    ">In some languages this parameter is implicit – that is, it is not visible in the function signature – and we access it with a special keyword. In Python it is explicitly exposed. It doesn’t have to be called self, but this is a very strongly followed convention."
   ]
  },
  {
   "cell_type": "code",
   "execution_count": 6,
   "metadata": {},
   "outputs": [
    {
     "name": "stdout",
     "output_type": "stream",
     "text": [
      "<__main__.Pes object at 0x7f3c944e07c0>\n",
      "<class '__main__.Pes'>\n",
      "139898162907072\n",
      "Fido\n",
      "9\n",
      "\n",
      "<__main__.Pes object at 0x7f3c944e07c0>\n",
      "<class '__main__.Pes'>\n",
      "139898162907072\n"
     ]
    }
   ],
   "source": [
    "class Pes: #defines the class\n",
    "    def __init__(self, ime, starost): #ime, starost so argumenti, k jih posredujemo, ko ustvarimo novo instanco tega razreda\n",
    "        print(self) # dobiš isto, k če daš print(fido)\n",
    "        print(type(self))\n",
    "        print(id(self))\n",
    "        self.ime = ime #creating new variable called name inside our blank object\n",
    "        self.starost = starost\n",
    "        \n",
    "fido = Pes(\"Fido\", 9)\n",
    "print(fido.ime)\n",
    "print(fido.starost)\n",
    "print()\n",
    "\n",
    "print(fido)\n",
    "print(type(fido))\n",
    "print(id(fido))"
   ]
  },
  {
   "cell_type": "code",
   "execution_count": null,
   "metadata": {},
   "outputs": [],
   "source": []
  },
  {
   "cell_type": "markdown",
   "metadata": {},
   "source": [
    "<div class=\"alert alert-block alert-info\">\n",
    "<h1><b>Naloga: </b></h1>\n",
    "\n",
    "Ustvarite razred Vozilo. Vsaka instanca naj ima svojo specifično hitrost in kilometrino.\n",
    "    \n",
    "Izpišite njegove lastnosti na sledeč način:\n",
    "\n",
    "\"Max hitrost -vozila-: -hitrost-. Prevozenih je -kilometrina- km.\"\n",
    "</div>\n",
    "\n",
    "Primeri:\n",
    "```python\n",
    "Input:\n",
    "avto = Vozilo(\"avto\", 300, 80)\n",
    "\n",
    "Output:\n",
    "Max hitrost avta: 300. Prevozenih je 80 km.\n",
    "\n",
    "Input:\n",
    "kamion = Vozilo(\"kamion\" ,90, 33)\n",
    "\n",
    "Output:\n",
    "Max hitrost kamion: 90. Prevozenih je 33 km.\n",
    "\n",
    "```\n"
   ]
  },
  {
   "cell_type": "code",
   "execution_count": null,
   "metadata": {},
   "outputs": [],
   "source": []
  },
  {
   "cell_type": "markdown",
   "metadata": {},
   "source": [
    "## Class methods"
   ]
  },
  {
   "cell_type": "markdown",
   "metadata": {},
   "source": [
    "Znotraj razreda lahko definiramo tudi naše metode s katerimi lahko dostopamo in obdelujemo podatke naših instanc.\n",
    "\n",
    "Vsaka funkcija/metoda ima najmanj 1 parameter in to je `self`, ki predstavlja instanco razreda in je avtomatično posredovana kot prvi parameter vsaki metodi našega Class-a."
   ]
  },
  {
   "cell_type": "code",
   "execution_count": 7,
   "metadata": {},
   "outputs": [],
   "source": [
    "class Pes:\n",
    "    def __init__(self, ime, starost):\n",
    "        self.ime = ime\n",
    "        self.starost = starost\n",
    "        \n",
    "    def opis(self):\n",
    "        print(\"Metoda razreda Pes\")"
   ]
  },
  {
   "cell_type": "code",
   "execution_count": 8,
   "metadata": {},
   "outputs": [
    {
     "name": "stdout",
     "output_type": "stream",
     "text": [
      "Metoda razreda Pes\n",
      "Metoda razreda Pes\n"
     ]
    }
   ],
   "source": [
    "fido = Pes(\"Fido\", 9)\n",
    "rex = Pes(\"Rex\", 12)\n",
    "\n",
    "fido.opis()\n",
    "rex.opis()"
   ]
  },
  {
   "cell_type": "code",
   "execution_count": 9,
   "metadata": {},
   "outputs": [
    {
     "name": "stdout",
     "output_type": "stream",
     "text": [
      "Fido je star 9\n",
      "Rex je star 12\n"
     ]
    }
   ],
   "source": [
    "class Pes:\n",
    "    def __init__(self, ime, starost):\n",
    "        self.ime = ime\n",
    "        self.starost = starost\n",
    "        \n",
    "    def opis(self):\n",
    "        print(f\"{self.ime} je star {self.starost}\")\n",
    "        \n",
    "fido = Pes(\"Fido\", 9)\n",
    "rex = Pes(\"Rex\", 12)\n",
    "\n",
    "fido.opis()\n",
    "rex.opis()"
   ]
  },
  {
   "cell_type": "code",
   "execution_count": 10,
   "metadata": {},
   "outputs": [
    {
     "name": "stdout",
     "output_type": "stream",
     "text": [
      "Fido je star 9\n",
      "\n",
      "Fido je star 9\n"
     ]
    }
   ],
   "source": [
    "# Se prav mi lahko uporabmo našo instanco objekta in kličemo njeno metodo na sledeč način:\n",
    "fido.opis()\n",
    "\n",
    "print()\n",
    "\n",
    "# Oziroma, lahko kličemo direktno Class metodo opis() in sami posredujemo \"self\" parameter\n",
    "Pes.opis(fido)"
   ]
  },
  {
   "cell_type": "markdown",
   "metadata": {},
   "source": [
    "Metoda lahko tudi vrne vrednost."
   ]
  },
  {
   "cell_type": "code",
   "execution_count": 12,
   "metadata": {},
   "outputs": [
    {
     "name": "stdout",
     "output_type": "stream",
     "text": [
      "63\n",
      "70\n"
     ]
    }
   ],
   "source": [
    "class Pes:\n",
    "    def __init__(self, ime, starost):\n",
    "        self.ime = ime\n",
    "        self.starost = starost\n",
    "        \n",
    "    def opis(self):\n",
    "        print(f\"{self.ime} je star {self.starost}\")\n",
    "        \n",
    "    def vrni_starost_v_cloveskih_letiih(self):\n",
    "        return self.starost * 7\n",
    "    \n",
    "fido = Pes(\"Fido\", 9)\n",
    "rex = Pes(\"Rex\", 10)\n",
    "\n",
    "print(fido.vrni_starost_v_cloveskih_letiih())\n",
    "print(rex.vrni_starost_v_cloveskih_letiih())"
   ]
  },
  {
   "cell_type": "code",
   "execution_count": null,
   "metadata": {},
   "outputs": [],
   "source": []
  },
  {
   "cell_type": "markdown",
   "metadata": {},
   "source": [
    "<div class=\"alert alert-block alert-info\">\n",
    "<h1><b>Naloga: </b></h1>\n",
    "    \n",
    "Ustvarite razred Vozilo. Vsaka instanca naj ima svojo specifično hitrost in kilometrino <i>in koliko goriva je bilo porabljenega do sedaj</i>.\n",
    "    \n",
    "<i>Razred Vozilo naj ima funkcija <b>poraba()</b>, ki vrne koliko je povprečna poraba tega vozila.</i>\n",
    "</div>\n",
    "\n",
    "Primeri:\n",
    "```python\n",
    "Input:\n",
    "    \n",
    "avto = Vozilo(\"avto\", 300, 80, 100)\n",
    "print(avto.poraba())\n",
    "\n",
    "Output:\n",
    "Vozilo porabi 6.25l/km\n",
    "\n",
    "Input:\n",
    "kamion = Vozilo(\"kamion\", 90, 5500, 125000)\n",
    "print(f\"Vozilo porabi {kamion.poraba()}l/km\")\n",
    "\n",
    "Output:\n",
    "Vozilo porabi 22.73l/km\n",
    "\n",
    "\n",
    "```\n"
   ]
  },
  {
   "cell_type": "code",
   "execution_count": null,
   "metadata": {},
   "outputs": [],
   "source": []
  },
  {
   "cell_type": "code",
   "execution_count": null,
   "metadata": {},
   "outputs": [],
   "source": []
  },
  {
   "cell_type": "markdown",
   "metadata": {},
   "source": [
    "## Class variables"
   ]
  },
  {
   "cell_type": "markdown",
   "metadata": {},
   "source": [
    "Razredi imajo lahko tudi skupne spremenljivke - spremenljivke, ki so enake vsaki instanci.\n",
    "> Vsak pes ima 4 noge. Vsak pes ima rad svinjino.\n",
    "\n",
    "Če želimo, da je spremenljivka enotna celotnemu razredu:"
   ]
  },
  {
   "cell_type": "code",
   "execution_count": 19,
   "metadata": {},
   "outputs": [],
   "source": [
    "class Pes:\n",
    "    hrana = [\"svinjina\"]\n",
    "    \n",
    "    def __init__(self, ime, starost):\n",
    "        self.ime = ime \n",
    "        self.starost = starost\n",
    "        #self.vrsta += \"X\"\n",
    "        \n",
    "    def opis(self):\n",
    "        print(f'{self.ime} je star {self.starost}')"
   ]
  },
  {
   "cell_type": "markdown",
   "metadata": {},
   "source": [
    "Do spremenljivke lahko sedaj dostopamo preko razreda samege:"
   ]
  },
  {
   "cell_type": "code",
   "execution_count": 20,
   "metadata": {},
   "outputs": [
    {
     "name": "stdout",
     "output_type": "stream",
     "text": [
      "Psi najraje jejo ['svinjina']\n"
     ]
    }
   ],
   "source": [
    "print(f\"Psi najraje jejo {Pes.hrana}\")"
   ]
  },
  {
   "cell_type": "markdown",
   "metadata": {},
   "source": [
    "Oziroma, spremenljivka je dostopna preko vsake instance."
   ]
  },
  {
   "cell_type": "code",
   "execution_count": 21,
   "metadata": {},
   "outputs": [
    {
     "name": "stdout",
     "output_type": "stream",
     "text": [
      "Fido najraje je ['svinjina'].\n",
      "Rex najraje je ['svinjina'].\n"
     ]
    }
   ],
   "source": [
    "fido = Pes(\"Fido\", 9)\n",
    "rex = Pes(\"Rex\", 10)\n",
    "\n",
    "print(f'{fido.ime} najraje je {fido.hrana}.')\n",
    "print(f'{rex.ime} najraje je {rex.hrana}.')"
   ]
  },
  {
   "cell_type": "code",
   "execution_count": null,
   "metadata": {},
   "outputs": [],
   "source": []
  },
  {
   "cell_type": "markdown",
   "metadata": {},
   "source": [
    "Spremenljivko lahko tudi spremenimo in jo tako spremenimo tudi za vse instance razreda."
   ]
  },
  {
   "cell_type": "code",
   "execution_count": 22,
   "metadata": {},
   "outputs": [
    {
     "name": "stdout",
     "output_type": "stream",
     "text": [
      "Fido najraje je ['svinjina'].\n",
      "Rex najraje je ['svinjina'].\n",
      "Fido najraje je ['teletina'].\n",
      "Rex najraje je ['teletina'].\n"
     ]
    }
   ],
   "source": [
    "class Pes:\n",
    "    hrana = [\"svinjina\"]\n",
    "    \n",
    "    def __init__(self, ime, starost):\n",
    "        self.ime = ime \n",
    "        self.starost = starost\n",
    "        \n",
    "    def opis(self):\n",
    "        print(f'{self.ime} je star {self.starost}')\n",
    "        \n",
    "fido = Pes(\"Fido\", 9)\n",
    "rex = Pes(\"Rex\", 10)\n",
    "\n",
    "print(f'{fido.ime} najraje je {fido.hrana}.')\n",
    "print(f'{rex.ime} najraje je {rex.hrana}.')\n",
    "\n",
    "Pes.hrana = [\"teletina\"]\n",
    "\n",
    "print(f'{fido.ime} najraje je {fido.hrana}.')\n",
    "print(f'{rex.ime} najraje je {rex.hrana}.')"
   ]
  },
  {
   "cell_type": "code",
   "execution_count": null,
   "metadata": {},
   "outputs": [],
   "source": []
  },
  {
   "cell_type": "markdown",
   "metadata": {},
   "source": [
    "Oziroma, lahko ustvarimo class method, ki bo spremenila našo class spremenljivko."
   ]
  },
  {
   "cell_type": "code",
   "execution_count": 23,
   "metadata": {},
   "outputs": [
    {
     "name": "stdout",
     "output_type": "stream",
     "text": [
      "Fido je 9 let star. Najraje je ['svinjina'].\n",
      "Rex je 10 let star. Najraje je ['svinjina'].\n",
      "Ace je 3 let star. Najraje je ['svinjina'].\n",
      "******************************\n",
      "Fido je 9 let star. Najraje je ['svinjina', 'teletina'].\n",
      "Rex je 10 let star. Najraje je ['svinjina', 'teletina'].\n",
      "Ace je 3 let star. Najraje je ['svinjina', 'teletina'].\n"
     ]
    }
   ],
   "source": [
    "class Pes:\n",
    "    hrana = [\"svinjina\"]\n",
    "    \n",
    "    def __init__(self, ime, starost):\n",
    "        self.ime = ime \n",
    "        self.starost = starost\n",
    "        \n",
    "    def opis(self):\n",
    "        print(f'{self.ime} je star {self.starost}')\n",
    "   \n",
    "    def dodaj_hrano(self, hrana):\n",
    "        self.hrana.append(hrana) # to modify-a variable. In ker je list mutable to vpliva na vse instance razreda\n",
    "\n",
    "        \n",
    "fido = Pes(\"Fido\", 9)\n",
    "rex = Pes(\"Rex\", 10)\n",
    "ace = Pes(\"Ace\", 3)\n",
    "\n",
    "print(f'{fido.ime} je {fido.starost} let star. Najraje je {fido.hrana}.')\n",
    "print(f'{rex.ime} je {rex.starost} let star. Najraje je {rex.hrana}.')\n",
    "print(f'{ace.ime} je {ace.starost} let star. Najraje je {ace.hrana}.')\n",
    "\n",
    "print(30*\"*\")\n",
    "\n",
    "rex.dodaj_hrano(\"teletina\")\n",
    "\n",
    "print(f'{fido.ime} je {fido.starost} let star. Najraje je {fido.hrana}.')\n",
    "print(f'{rex.ime} je {rex.starost} let star. Najraje je {rex.hrana}.')\n",
    "print(f'{ace.ime} je {ace.starost} let star. Najraje je {ace.hrana}.')"
   ]
  },
  {
   "cell_type": "code",
   "execution_count": null,
   "metadata": {},
   "outputs": [],
   "source": []
  },
  {
   "cell_type": "markdown",
   "metadata": {},
   "source": [
    "Treba bit pozoren, če za spremenljivko instance uporabimo enako ime kot za spremenljivko razreda. Potem bo spremenljivka instance prepisala class spremenljivko.\n",
    "\n",
    "Če je spremenljivka mutable (list, itd..) in jo **modify-amo** (dodajamo elemente, odvzemamo, itd..) potem jo spremenimo za celoten razred.\n",
    "\n",
    "> When we set an attribute on an instance which has the same name as a class attribute, we are overriding the class attribute with an instance attribute, which will take precedence over it. We should, however, be careful when a class attribute is of a mutable type – because if we modify it in-place, we will affect all objects of that class at the same time. Remember that all instances share the same class attributes:"
   ]
  },
  {
   "cell_type": "code",
   "execution_count": 27,
   "metadata": {},
   "outputs": [
    {
     "name": "stdout",
     "output_type": "stream",
     "text": [
      "Fido je 9 let star. Najraje je ['svinjina'].\n",
      "Rex je 10 let star. Najraje je ['svinjina'].\n",
      "Ace je 3 let star. Najraje je ['svinjina'].\n",
      "******************************\n",
      "Fido je 9 let star. Najraje je ['svinjina', 'teletina'].\n",
      "Rex je 10 let star. Najraje je ['svinjina', 'teletina'].\n",
      "Ace je 3 let star. Najraje je ['piščanec'].\n"
     ]
    }
   ],
   "source": [
    "class Pes:\n",
    "    hrana = [\"svinjina\"]\n",
    "    \n",
    "    def __init__(self, ime, starost):\n",
    "        self.ime = ime \n",
    "        self.starost = starost\n",
    "        \n",
    "    def opis(self):\n",
    "        print(f'{self.ime} je star {self.starost}')\n",
    "   \n",
    "    def dodaj_hrano(self, hrana):\n",
    "        self.hrana.append(hrana) # to modify-a variable. In ker je list mutable to vpliva na vse instance razreda\n",
    "\n",
    "    def spremeni_hrano(self, hrana):\n",
    "        self.hrana = hrana\n",
    "        \n",
    "fido = Pes(\"Fido\", 9)\n",
    "rex = Pes(\"Rex\", 10)\n",
    "ace = Pes(\"Ace\", 3)\n",
    "\n",
    "print(f'{fido.ime} je {fido.starost} let star. Najraje je {fido.hrana}.')\n",
    "print(f'{rex.ime} je {rex.starost} let star. Najraje je {rex.hrana}.')\n",
    "print(f'{ace.ime} je {ace.starost} let star. Najraje je {ace.hrana}.')\n",
    "\n",
    "print(30*\"*\")\n",
    "\n",
    "rex.dodaj_hrano(\"teletina\")\n",
    "ace.spremeni_hrano([\"piščanec\"])\n",
    "\n",
    "print(f'{fido.ime} je {fido.starost} let star. Najraje je {fido.hrana}.')\n",
    "print(f'{rex.ime} je {rex.starost} let star. Najraje je {rex.hrana}.')\n",
    "print(f'{ace.ime} je {ace.starost} let star. Najraje je {ace.hrana}.')"
   ]
  },
  {
   "cell_type": "code",
   "execution_count": null,
   "metadata": {},
   "outputs": [],
   "source": []
  },
  {
   "cell_type": "code",
   "execution_count": null,
   "metadata": {},
   "outputs": [],
   "source": []
  },
  {
   "cell_type": "markdown",
   "metadata": {},
   "source": [
    "<div class=\"alert alert-block alert-info\">\n",
    "<h1><b>Naloga: </b></h1>\n",
    "    \n",
    "Ustvarite razred Vozilo. Vsaka instanca naj ima svojo specifično hitrost in kilometrino in koliko goriva je bilo porabljenega do sedaj.\n",
    "   \n",
    "Razred Vozilo naj ima funkcija <b>poraba()</b>, ki vrne koliko je povprečna poraba tega vozila.\n",
    "    \n",
    "<i>Dodajte <b>class variable</b> razredu Vozilo. Spremenljivki naj bo ime <b>st_gum</b> in njena vrednost naj bo <b>4</b>.</i>\n",
    "    \n",
    "<i>Dodajte metodo <b>opis()</b>, ki naj izpiše opis vozila.</i>\n",
    "</div>\n",
    "\n",
    "Primeri:\n",
    "```python\n",
    "Input:\n",
    "    \n",
    "avto = Vozilo(\"avto\", 300, 80, 500)\n",
    "avto.opis()\n",
    "\n",
    "Output:\n",
    "Max hitrost avto: 300. Prevozenih je 80 km. Poraba vozila je 6.25. Vozilo ima 4 gum. \n",
    "\n",
    "Input:\n",
    "kamion = Vozilo(\"kamion\", 90, 5500, 125000)\n",
    "print(f\"Vozilo porabi {kamion.poraba()}l/km\")\n",
    "\n",
    "Output:\n",
    "Max hitrost kamion: 180. Prevozenih je 5500 km. Poraba vozila je 22.73. Vozilo ima 4 gum.\n",
    "\n",
    "\n",
    "```\n"
   ]
  },
  {
   "cell_type": "code",
   "execution_count": null,
   "metadata": {},
   "outputs": [],
   "source": []
  },
  {
   "cell_type": "code",
   "execution_count": null,
   "metadata": {},
   "outputs": [],
   "source": []
  },
  {
   "cell_type": "markdown",
   "metadata": {},
   "source": [
    "### Decorators\n",
    "\n",
    "S pomočjo dekoratorjev lahko vplivamo na atribute našega razreda.\n",
    "\n",
    "S pomočjo `@classmethod` lahko definiramo class method. Ko kličemo metodo je `self` parameter dejanski razred. Tako lahko urejamo spremenljivke razreda.\n",
    "Praksa je, da parameter poimenujemo `cls` namesto `self`. Koda ne bo delovala nič drugače.\n",
    "\n",
    ">What are class methods good for? Sometimes there are tasks associated with a class which we can perform using constants and other class attributes, without needing to create any class instances. If we had to use instance methods for these tasks, we would need to create an instance for no reason, which would be wasteful. Sometimes we write classes purely to group related constants together with functions which act on them – we may never instantiate these classes at all."
   ]
  },
  {
   "cell_type": "code",
   "execution_count": 10,
   "metadata": {},
   "outputs": [
    {
     "name": "stdout",
     "output_type": "stream",
     "text": [
      "<class '__main__.Pes'>\n",
      "Fido je 9 let star in je opica. Najraje je ['svinjina'].\n",
      "Rex je 10 let star in je opica. Najraje je ['svinjina'].\n",
      "Ace je 3 let star in je opica. Najraje je ['svinjina'].\n"
     ]
    }
   ],
   "source": [
    "class Pes:\n",
    "    vrsta = \"pes\"\n",
    "    hrana = [\"svinjina\"]\n",
    "    \n",
    "    def __init__(self, ime, starost):\n",
    "        self.ime = ime \n",
    "        self.starost = starost\n",
    "        self.neki = 1\n",
    "        \n",
    "    def opis(self):\n",
    "        return (f'{self.ime} je star {self.starost}')\n",
    "    \n",
    "    @classmethod\n",
    "    def spremeni_vrsto(cls, vrsta):\n",
    "        print(cls)\n",
    "        cls.vrsta = vrsta # to nrdi instance variable, ki overwrida Class variable. Od kle naprej ni važn, če spreminjaš \"Pes.vrsta = xxx\", ta instanca bo ohranla svojo vrednost\n",
    "\n",
    "    def dodaj_hrano(self, hrana):\n",
    "        self.hrana.append(\"teletina\") # to modify-a variable. In ker je list mutable to vpliva na vse instance razreda\n",
    "    \n",
    "        \n",
    "fido = Pes(\"Fido\", 9)\n",
    "rex = Pes(\"Rex\", 10)\n",
    "ace = Pes(\"Ace\", 3)\n",
    "\n",
    "#Pes.spremeni_vrsto(\"opica\") # obe metodi delujeta, obe pošljeta razred kot prvi argument, ne instanco\n",
    "fido.spremeni_vrsto(\"opica\")\n",
    "\n",
    "print(f'{fido.ime} je {fido.starost} let star in je {fido.vrsta}. Najraje je {fido.hrana}.')\n",
    "print(f'{rex.ime} je {rex.starost} let star in je {rex.vrsta}. Najraje je {rex.hrana}.')\n",
    "print(f'{ace.ime} je {ace.starost} let star in je {ace.vrsta}. Najraje je {ace.hrana}.')"
   ]
  },
  {
   "cell_type": "markdown",
   "metadata": {},
   "source": [
    "`@staticmethod`\n",
    "Statična metoda nima `self` oziroma `cls` parametra, kar pomeni, da nima dostopa do spremenljivk. Ponavadi je uporabljena za  kakšno helper al pa utility funkcijo razreda.\n",
    "> The advantage of using static methods is that we eliminate unnecessary cls or self parameters from our method definitions. The disadvantage is that if we do occasionally want to refer to another class method or attribute inside a static method we have to write the class name out in full, which can be much more verbose than using the cls variable which is available to us inside a class method."
   ]
  },
  {
   "cell_type": "code",
   "execution_count": 11,
   "metadata": {},
   "outputs": [
    {
     "name": "stdout",
     "output_type": "stream",
     "text": [
      "Dolzina Rex je 3.\n"
     ]
    }
   ],
   "source": [
    "class Pes:\n",
    "    vrsta = \"pes\"\n",
    "    hrana = [\"svinjina\"]\n",
    "    \n",
    "    def __init__(self, ime, starost):\n",
    "        self.ime = ime \n",
    "        self.starost = starost\n",
    "        self.neki = 1\n",
    "        \n",
    "    def opis(self):\n",
    "        return (f'{self.ime} je star {self.starost}')\n",
    "    \n",
    "    def spremeni_vrsto(self, vrsta):\n",
    "        self.vrsta = vrsta # to nrdi instance variable, ki overwrida Class variable. Od kle naprej ni važn, če spreminjaš \"Pes.vrsta = xxx\", ta instanca bo ohranla svojo vrednost\n",
    "\n",
    "    def dodaj_hrano(self, hrana):\n",
    "        self.hrana.append(\"teletina\") # to modify-a variable. In ker je list mutable to vpliva na vse instance razreda\n",
    "        \n",
    "    @staticmethod\n",
    "    def dolzina_imena(string):\n",
    "        return f'Dolzina {string} je {len(string)}.'\n",
    "    \n",
    "        \n",
    "fido = Pes(\"Fido\", 9)\n",
    "rex = Pes(\"Rex\", 10)\n",
    "ace = Pes(\"Ace\", 3)\n",
    "\n",
    "#print(f'{fido.ime} je {fido.starost} let star in je {fido.vrsta}. Najraje je {fido.hrana}.')\n",
    "#print(f'{rex.ime} je {rex.starost} let star in je {rex.vrsta}. Najraje je {rex.hrana}.')\n",
    "#print(f'{ace.ime} je {ace.starost} let star in je {ace.vrsta}. Najraje je {ace.hrana}.')\n",
    "\n",
    "print(Pes.dolzina_imena(\"Rex\"))\n",
    "#print(rex.dolzina_imena(\"Rex\")) #oboje isto dela."
   ]
  },
  {
   "cell_type": "markdown",
   "metadata": {},
   "source": [
    "`@property` dekorator nam omogoča, da se metoda obnaša kot atribut.\n",
    "\n",
    "> Something which is often considered an advantage of setters and getters is that we can change the way that an attribute is generated inside the object without affecting any code which uses the object. For example, suppose that we initially created a Person class which has a fullname attribute, but later we want to change the class to have separate name and surname attributes which we combine to create a full name. If we always access the fullname attribute through a setter, we can just rewrite the setter – none of the code which calls the setter will have to be changed.\n",
    "\n",
    "> But what if our code accesses the fullname attribute directly? We can write a fullname method which returns the right value, but a method has to be called. Fortunately, the @property decorator lets us make a method behave like an attribute:"
   ]
  },
  {
   "cell_type": "code",
   "execution_count": 27,
   "metadata": {},
   "outputs": [
    {
     "name": "stdout",
     "output_type": "stream",
     "text": [
      "Fido je star 9.\n"
     ]
    }
   ],
   "source": [
    "class Pes:\n",
    "    vrsta = \"pes\"\n",
    "    hrana = [\"svinjina\"]\n",
    "    \n",
    "    def __init__(self, ime, starost):\n",
    "        self.ime = ime \n",
    "        self.starost = starost\n",
    "        self.neki = 1\n",
    "        \n",
    "    @property\n",
    "    def opis(self):\n",
    "        return (f'{self.ime} je star {self.starost}')\n",
    "    \n",
    "    def spremeni_vrsto(self, vrsta):\n",
    "        self.vrsta = vrsta # to nrdi instance variable, ki overwrida Class variable. Od kle naprej ni važn, če spreminjaš \"Pes.vrsta = xxx\", ta instanca bo ohranla svojo vrednost\n",
    "\n",
    "    def dodaj_hrano(self, hrana):\n",
    "        self.hrana.append(\"teletina\") # to modify-a variable. In ker je list mutable to vpliva na vse instance razreda\n",
    "        \n",
    "fido = Pes(\"Fido\", 9)\n",
    "\n",
    "print(f'{fido.opis}.')"
   ]
  },
  {
   "cell_type": "code",
   "execution_count": 28,
   "metadata": {},
   "outputs": [
    {
     "name": "stdout",
     "output_type": "stream",
     "text": [
      "Fido je star 9\n"
     ]
    }
   ],
   "source": [
    "print(fido.opis)"
   ]
  },
  {
   "cell_type": "code",
   "execution_count": null,
   "metadata": {},
   "outputs": [],
   "source": []
  },
  {
   "cell_type": "markdown",
   "metadata": {},
   "source": [
    "## Python Object Inheritance\n",
    "\n",
    "S pomočjo dedovanja (inheritance) lahko iz že obstoječih razredov ustvarimo nove, bolj specifične razrede.\n",
    "\n",
    "Tako novo ustvarjeni razredi so imenovani \"child classes\" in so izpeljani iz \"parent classes\".\n",
    "\n",
    "Child-classes podedujejo vse attribute in metode parent-class-a, katere lahko tudi prepišemo (override) ali pa dodamo nove, bolj specifične attribute in metode."
   ]
  },
  {
   "cell_type": "code",
   "execution_count": 46,
   "metadata": {},
   "outputs": [
    {
     "name": "stdout",
     "output_type": "stream",
     "text": [
      "Fido je star 9\n"
     ]
    }
   ],
   "source": [
    "class Pes:\n",
    "    vrsta = \"pes\"\n",
    "    hrana = [\"svinjina\"]\n",
    "    \n",
    "    def __init__(self, ime, starost):\n",
    "        self.ime = ime \n",
    "        self.starost = starost\n",
    "        \n",
    "    def opis(self):\n",
    "        return (f'{self.ime} je star {self.starost}')\n",
    "    \n",
    "    def spremeni_vrsto(self, vrsta):\n",
    "        self.vrsta = vrsta \n",
    "        \n",
    "    def dodaj_hrano(self, hrana):\n",
    "        self.hrana.append(\"teletina\") \n",
    "        \n",
    "        \n",
    "fido = Pes(\"Fido\", 9)\n",
    "print(fido.opis())"
   ]
  },
  {
   "cell_type": "code",
   "execution_count": 47,
   "metadata": {},
   "outputs": [
    {
     "name": "stdout",
     "output_type": "stream",
     "text": [
      "<class '__main__.Bulldog'>\n",
      "<__main__.Bulldog object at 0x7f3c9447e070>\n",
      "Spencer je star 15\n"
     ]
    }
   ],
   "source": [
    "# Sedaj ustvarimo child class, ki bo dedoval iz class Pes\n",
    "\n",
    "class Bulldog(Pes):\n",
    "    pass\n",
    "\n",
    "spencer = Bulldog(\"Spencer\", 15) # ustvarimo novo instanco class Bulldog, ki deduje od class Pes\n",
    "print(type(spencer)) # vidimo, da je instanca class Bulldog\n",
    "print(spencer)\n",
    "print(spencer.opis()) # vidimo, da smo dedovali metodo opis() iz class Pes\n",
    "# če deluje metoda opis pol mamo tud .ime in .starost spremenljivko"
   ]
  },
  {
   "cell_type": "markdown",
   "metadata": {},
   "source": [
    "## Extending child class\n",
    "\n",
    "Child class lahko tudi naprej razvijemo z novimi metodami."
   ]
  },
  {
   "cell_type": "code",
   "execution_count": 48,
   "metadata": {},
   "outputs": [],
   "source": [
    "class Bulldog(Pes):\n",
    "    def bark(self): # dodali smo metodo, ki jo ima samo Bulldog class, ne pa Pes class\n",
    "        return(f'Woof, woof.')"
   ]
  },
  {
   "cell_type": "code",
   "execution_count": 49,
   "metadata": {},
   "outputs": [
    {
     "name": "stdout",
     "output_type": "stream",
     "text": [
      "Woof, woof.\n"
     ]
    },
    {
     "ename": "AttributeError",
     "evalue": "'Pes' object has no attribute 'bark'",
     "output_type": "error",
     "traceback": [
      "\u001b[0;31m---------------------------------------------------------------------------\u001b[0m",
      "\u001b[0;31mAttributeError\u001b[0m                            Traceback (most recent call last)",
      "\u001b[0;32m<ipython-input-49-27c093936b16>\u001b[0m in \u001b[0;36m<module>\u001b[0;34m\u001b[0m\n\u001b[1;32m      3\u001b[0m \u001b[0;34m\u001b[0m\u001b[0m\n\u001b[1;32m      4\u001b[0m \u001b[0mfido\u001b[0m \u001b[0;34m=\u001b[0m \u001b[0mPes\u001b[0m\u001b[0;34m(\u001b[0m\u001b[0;34m\"Fido\"\u001b[0m\u001b[0;34m,\u001b[0m \u001b[0;36m9\u001b[0m\u001b[0;34m)\u001b[0m\u001b[0;34m\u001b[0m\u001b[0;34m\u001b[0m\u001b[0m\n\u001b[0;32m----> 5\u001b[0;31m \u001b[0mprint\u001b[0m\u001b[0;34m(\u001b[0m\u001b[0mfido\u001b[0m\u001b[0;34m.\u001b[0m\u001b[0mbark\u001b[0m\u001b[0;34m(\u001b[0m\u001b[0;34m)\u001b[0m\u001b[0;34m)\u001b[0m\u001b[0;34m\u001b[0m\u001b[0;34m\u001b[0m\u001b[0m\n\u001b[0m",
      "\u001b[0;31mAttributeError\u001b[0m: 'Pes' object has no attribute 'bark'"
     ]
    }
   ],
   "source": [
    "spencer = Bulldog(\"Spencer\", 15)\n",
    "print(spencer.bark())\n",
    "\n",
    "fido = Pes(\"Fido\", 9)\n",
    "print(fido.bark())"
   ]
  },
  {
   "cell_type": "markdown",
   "metadata": {},
   "source": [
    "## Overriding methods and attributes\n",
    "\n",
    "Metode in attribute parentclass-a lahko tudi prepišemo."
   ]
  },
  {
   "cell_type": "code",
   "execution_count": 51,
   "metadata": {},
   "outputs": [
    {
     "name": "stdout",
     "output_type": "stream",
     "text": [
      "Fido je star 9\n"
     ]
    }
   ],
   "source": [
    "class Pes:\n",
    "    vrsta = \"pes\"\n",
    "    hrana = [\"svinjina\"]\n",
    "    \n",
    "    def __init__(self, ime, starost):\n",
    "        self.ime = ime \n",
    "        self.starost = starost\n",
    "        \n",
    "    def opis(self):\n",
    "        return (f'{self.ime} je star {self.starost}')\n",
    "    \n",
    "    def spremeni_vrsto(self, vrsta):\n",
    "        self.vrsta = vrsta \n",
    "        \n",
    "    def dodaj_hrano(self, hrana):\n",
    "        self.hrana.append(\"teletina\") \n",
    "        \n",
    "        \n",
    "fido = Pes(\"Fido\", 9)\n",
    "print(fido.opis())"
   ]
  },
  {
   "cell_type": "code",
   "execution_count": 52,
   "metadata": {},
   "outputs": [
    {
     "name": "stdout",
     "output_type": "stream",
     "text": [
      "Bulldog\n",
      "Woof, woof.\n",
      "Spencer je star 15 in je Bulldog.\n",
      "\n",
      "pes\n",
      "Fido je star 9\n"
     ]
    }
   ],
   "source": [
    "class Bulldog(Pes):\n",
    "    vrsta = \"Bulldog\"\n",
    "    \n",
    "    def opis(self):\n",
    "        return (f'{self.ime} je star {self.starost} in je Bulldog.')\n",
    "    \n",
    "    def bark(self): # dodali smo metodo, ki jo ima samo Bulldog class, ne pa Pes class\n",
    "        return(f'Woof, woof.')\n",
    "    \n",
    "spencer = Bulldog(\"Spencer\", 15)\n",
    "print(spencer.vrsta)  # prepisali smo vrsto in sedaj so vsi Bulldogi, vrste Bulldog\n",
    "print(spencer.bark()) # še vedno imamo to metodo, ki je specifična za Bulldog class\n",
    "print(spencer.opis()) # prepisali smo metodo opis. Sedaj je ta drugačna za class Bulldog\n",
    "\n",
    "print()\n",
    "\n",
    "fido = Pes(\"Fido\", 9)\n",
    "print(fido.vrsta)\n",
    "print(fido.opis())"
   ]
  },
  {
   "cell_type": "markdown",
   "metadata": {},
   "source": [
    "## Uporaba metod parent class-a"
   ]
  },
  {
   "cell_type": "markdown",
   "metadata": {},
   "source": [
    "Sedaj želimo dodati najljubši hrano vsakega Bulldoga."
   ]
  },
  {
   "cell_type": "code",
   "execution_count": 60,
   "metadata": {},
   "outputs": [
    {
     "name": "stdout",
     "output_type": "stream",
     "text": [
      "Fido je star 9\n"
     ]
    }
   ],
   "source": [
    "class Pes:\n",
    "    vrsta = \"pes\"\n",
    "    hrana = [\"svinjina\"]\n",
    "    \n",
    "    def __init__(self, ime, starost):\n",
    "        self.ime = ime \n",
    "        self.starost = starost\n",
    "        \n",
    "    def opis(self):\n",
    "        return (f'{self.ime} je star {self.starost}')\n",
    "    \n",
    "    def spremeni_vrsto(self, vrsta):\n",
    "        self.vrsta = vrsta\n",
    "        \n",
    "    def dodaj_hrano(self, hrana):\n",
    "        self.hrana.append(\"teletina\") \n",
    "        \n",
    "        \n",
    "fido = Pes(\"Fido\", 9)\n",
    "print(fido.opis())"
   ]
  },
  {
   "cell_type": "markdown",
   "metadata": {},
   "source": [
    "TO lahko dosežemo tako, da prepišemo \\_\\_init\\_\\_ metodo Bulldog class-a:"
   ]
  },
  {
   "cell_type": "code",
   "execution_count": 61,
   "metadata": {},
   "outputs": [
    {
     "name": "stdout",
     "output_type": "stream",
     "text": [
      "Bulldog\n",
      "Woof, woof.\n",
      "Spencer je star 15 in je Bulldog. Najraje je čevapi\n",
      "\n",
      "pes\n",
      "Fido je star 9\n"
     ]
    }
   ],
   "source": [
    "class Bulldog(Pes):\n",
    "    vrsta = \"Bulldog\"\n",
    "    \n",
    "    def __init__(self, ime, starost, najljubsa_hrana):\n",
    "        self.ime = ime \n",
    "        self.starost = starost\n",
    "        self.najljubsa_hrana = najljubsa_hrana\n",
    "    \n",
    "    def opis(self):\n",
    "        return (f'{self.ime} je star {self.starost} in je {self.vrsta}. Najraje je {self.najljubsa_hrana}')\n",
    "    \n",
    "    def bark(self): # dodali smo metodo, ki jo ima samo Bulldog class, ne pa Pes class\n",
    "        return(f'Woof, woof.')\n",
    "    \n",
    "spencer = Bulldog(\"Spencer\", 15, \"čevapi\")\n",
    "print(spencer.vrsta)  # prepisali smo vrsto in sedaj so vsi Bulldogi, vrste Bulldog\n",
    "print(spencer.bark()) # še vedno imamo to metodo, ki je specifična za Bulldog class\n",
    "print(spencer.opis()) # prepisali smo metodo opis. Sedaj je ta drugačna za class Bulldog\n",
    "\n",
    "print()\n",
    "\n",
    "fido = Pes(\"Fido\", 9)\n",
    "print(fido.vrsta)\n",
    "print(fido.opis())"
   ]
  },
  {
   "cell_type": "markdown",
   "metadata": {},
   "source": [
    "Vendar tako ponavljamo določeno kodo:\n",
    "\n",
    "```python\n",
    "self.ime = ime \n",
    "self.starost = starost\n",
    "```    "
   ]
  },
  {
   "cell_type": "markdown",
   "metadata": {},
   "source": [
    "Namesto tega lahko uporabimo *super()* funkcijo s katero dostopamo do metod razreda iz katerega smo dedovali."
   ]
  },
  {
   "cell_type": "code",
   "execution_count": 73,
   "metadata": {},
   "outputs": [
    {
     "name": "stdout",
     "output_type": "stream",
     "text": [
      "Bulldog\n",
      "Woof, woof.\n",
      "Spencer je star 15 in je Bulldog. Najraje je čevapi\n",
      "\n",
      "pes\n",
      "Fido je star 9\n"
     ]
    }
   ],
   "source": [
    "class Bulldog(Pes):\n",
    "    vrsta = \"Bulldog\"\n",
    "    \n",
    "    def __init__(self, ime, starost, najljubsa_hrana):\n",
    "        super().__init__(ime, starost)\n",
    "        self.najljubsa_hrana = najljubsa_hrana\n",
    "    \n",
    "    def opis(self):\n",
    "        return (f'{self.ime} je star {self.starost} in je {self.vrsta}. Najraje je {self.najljubsa_hrana}')\n",
    "    \n",
    "    def bark(self): # dodali smo metodo, ki jo ima samo Bulldog class, ne pa Pes class\n",
    "        return(f'Woof, woof.')\n",
    "    \n",
    "spencer = Bulldog(\"Spencer\", 15, \"čevapi\")\n",
    "print(spencer.vrsta)  # prepisali smo vrsto in sedaj so vsi Bulldogi, vrste Bulldog\n",
    "print(spencer.bark()) # še vedno imamo to metodo, ki je specifična za Bulldog class\n",
    "print(spencer.opis()) # prepisali smo metodo opis. Sedaj je ta drugačna za class Bulldog\n",
    "\n",
    "print()\n",
    "\n",
    "fido = Pes(\"Fido\", 9)\n",
    "print(fido.vrsta)\n",
    "print(fido.opis())"
   ]
  },
  {
   "cell_type": "code",
   "execution_count": null,
   "metadata": {},
   "outputs": [],
   "source": []
  },
  {
   "cell_type": "markdown",
   "metadata": {},
   "source": [
    "<div class=\"alert alert-block alert-info\">\n",
    "<h1><b>Naloga: </b></h1>\n",
    "    \n",
    "Ustvarite razred Vozilo. Vsaka instanca naj ima svojo specifično hitrost in kilometrino in koliko goriva je bilo porabljenega do sedaj.\n",
    "   \n",
    "Razred Vozilo naj ima funkcija <b>poraba()</b>, ki vrne koliko je povprečna poraba tega vozila.\n",
    "    \n",
    "Dodajte <b>class variable</b> razredu Vozilo. Spremenljivki naj bo ime <b>st_gum</b> in njena vrednost naj bo <b>4</b>.\n",
    "Dodajte metodo <b>opis()</b>, ki naj izpiše opis vozila.\n",
    "    \n",
    "    \n",
    "<i>Ustvarite podrazreda <b>Avto</b> in <b>Motor</b>. Razreda naj dedujete od razreda Vozila. Motor razred naj prepiše spremenljivko <b>st_gum</b> v <b>2</b>. Oba razreda naj \n",
    "</div>\n",
    "\n",
    "Primeri:\n",
    "```python\n",
    "Input:\n",
    "    \n",
    "avto = Avto(300, 80, 500)\n",
    "avto.opis()\n",
    "\n",
    "\n",
    "Output:\n",
    "Max hitrost avto: 300. Prevozenih je 80 km. Poraba vozila je 6.25 l/km. Vozilo ima 4 gum.\n",
    "\n",
    "\n",
    "Input:\n",
    "motor = Motor(90, 220, 520)\n",
    "motor.opis()\n",
    "\n",
    "Output:\n",
    "Max hitrost motor: 90. Prevozenih je 220 km. Poraba vozila je 2.36 l/km. Vozilo ima 2 gum.\n",
    "\n",
    "\n",
    "```\n"
   ]
  },
  {
   "cell_type": "code",
   "execution_count": null,
   "metadata": {},
   "outputs": [],
   "source": []
  },
  {
   "cell_type": "code",
   "execution_count": null,
   "metadata": {},
   "outputs": [],
   "source": []
  },
  {
   "cell_type": "code",
   "execution_count": null,
   "metadata": {},
   "outputs": [],
   "source": []
  },
  {
   "cell_type": "markdown",
   "metadata": {},
   "source": [
    "## Multiple inheritance"
   ]
  },
  {
   "cell_type": "code",
   "execution_count": 37,
   "metadata": {},
   "outputs": [
    {
     "name": "stdout",
     "output_type": "stream",
     "text": [
      "10 11\n",
      "20 21\n"
     ]
    }
   ],
   "source": [
    "# Multiple inheritance\n",
    "class SuperA:\n",
    "    VarA = 10\n",
    "    def funa(self):\n",
    "        return 11\n",
    "\n",
    "class SuperB:\n",
    "    VarB = 20\n",
    "    def funb(self):\n",
    "        return 21\n",
    "\n",
    "class Sub(SuperA,SuperB):\n",
    "    pass\n",
    "\n",
    "object_ = Sub() # podeduje metode in atribute razreda A in razreda B\n",
    "\n",
    "print(object_.VarA, object_.funa())\n",
    "print(object_.VarB, object_.funb())\n",
    "# kle ni problem, ker se nobena stvar ne prekriva (ne instance, ne metode)"
   ]
  },
  {
   "cell_type": "code",
   "execution_count": 40,
   "metadata": {},
   "outputs": [
    {
     "name": "stdout",
     "output_type": "stream",
     "text": [
      "b\n"
     ]
    }
   ],
   "source": [
    "# Left to right\n",
    "class A:\n",
    "    def fun(self):\n",
    "        print('a')\n",
    "\n",
    "class B:\n",
    "    def fun(self):\n",
    "        print('b')\n",
    "\n",
    "\n",
    "class C(B,A):\n",
    "    pass\n",
    "object_ = C()\n",
    "object_.fun() # prvo dedujemo iz najbl desnega, pol proti levi in prepisujemo stvari"
   ]
  },
  {
   "cell_type": "code",
   "execution_count": 41,
   "metadata": {},
   "outputs": [
    {
     "name": "stdout",
     "output_type": "stream",
     "text": [
      "100 101\n"
     ]
    }
   ],
   "source": [
    "# override the entities of the same names\n",
    "class Level0:\n",
    "    Var = 0\n",
    "    def fun(self):\n",
    "        return 0\n",
    "\n",
    "class Level1(Level0):\n",
    "    Var = 100\n",
    "    def fun(self):\n",
    "        return 101\n",
    "\n",
    "class Level2(Level1):\n",
    "    pass\n",
    "\n",
    "object_ = Level2() # razred Level0 je parent. Level1 deduje iz Level0 in \"overrida\" stvari. Level2 deduje iz Level1 in \"overrida\" stvari (sam mi sam passamo).\n",
    "print(object_.Var, object_.fun())"
   ]
  },
  {
   "cell_type": "markdown",
   "metadata": {},
   "source": [
    "### isinstance() function\n",
    "\n",
    "s pomočjo funkcijo ```python isinstance() ``` lahko preverimo, če je naša instanca res instanca določenega razreda oziroma razreda, ki od njega deduje."
   ]
  },
  {
   "cell_type": "code",
   "execution_count": 7,
   "metadata": {},
   "outputs": [
    {
     "name": "stdout",
     "output_type": "stream",
     "text": [
      "True\n",
      "True\n",
      "True\n",
      "\n"
     ]
    }
   ],
   "source": [
    "# override the entities of the same names\n",
    "class Level0:\n",
    "    Var = 0\n",
    "    def fun(self):\n",
    "        return 0\n",
    "\n",
    "class Level1(Level0):\n",
    "    Var = 100\n",
    "    def fun(self):\n",
    "        return 101\n",
    "\n",
    "class Level2(Level1):\n",
    "    pass\n",
    "\n",
    "l0 = Level0()\n",
    "l1 = Level1()\n",
    "l2 = Level2()\n",
    "\n",
    "print(isinstance(l2, Level2)) #ali je instanca level2 del razreda Level2\n",
    "print(isinstance(l2, Level1))\n",
    "print(isinstance(l2, Level0))\n",
    "print()"
   ]
  },
  {
   "cell_type": "markdown",
   "metadata": {},
   "source": [
    "### inspect.getmro(class_name)\n",
    "\n",
    "S pomočjo te funkcije lahko izpiše strukturo dedovanja."
   ]
  },
  {
   "cell_type": "code",
   "execution_count": 79,
   "metadata": {},
   "outputs": [
    {
     "data": {
      "text/plain": [
       "(__main__.Level2, __main__.Level1, __main__.Level0, object)"
      ]
     },
     "execution_count": 79,
     "metadata": {},
     "output_type": "execute_result"
    }
   ],
   "source": [
    "import inspect\n",
    "# override the entities of the same names\n",
    "class Level0:\n",
    "    Var = 0\n",
    "    def fun(self):\n",
    "        return 0\n",
    "\n",
    "class Level1(Level0):\n",
    "    Var = 100\n",
    "    def fun(self):\n",
    "        return 101\n",
    "\n",
    "class Level2(Level1):\n",
    "    pass\n",
    "\n",
    "inspect.getmro(Level2)"
   ]
  },
  {
   "cell_type": "code",
   "execution_count": null,
   "metadata": {},
   "outputs": [],
   "source": []
  }
 ],
 "metadata": {
  "kernelspec": {
   "display_name": "Python 3",
   "language": "python",
   "name": "python3"
  },
  "language_info": {
   "codemirror_mode": {
    "name": "ipython",
    "version": 3
   },
   "file_extension": ".py",
   "mimetype": "text/x-python",
   "name": "python",
   "nbconvert_exporter": "python",
   "pygments_lexer": "ipython3",
   "version": "3.8.8"
  },
  "toc": {
   "base_numbering": 1,
   "nav_menu": {},
   "number_sections": true,
   "sideBar": true,
   "skip_h1_title": false,
   "title_cell": "Table of Contents",
   "title_sidebar": "Contents",
   "toc_cell": false,
   "toc_position": {},
   "toc_section_display": true,
   "toc_window_display": false
  }
 },
 "nbformat": 4,
 "nbformat_minor": 2
}
