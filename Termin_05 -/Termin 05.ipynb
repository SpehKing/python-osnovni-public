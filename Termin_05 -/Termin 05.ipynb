{
 "cells": [
  {
   "cell_type": "markdown",
   "id": "222c907b",
   "metadata": {},
   "source": [
    "# Classes"
   ]
  },
  {
   "cell_type": "code",
   "execution_count": 2,
   "id": "2d6d3b50",
   "metadata": {},
   "outputs": [
    {
     "ename": "SyntaxError",
     "evalue": "invalid syntax (<ipython-input-2-230cdf2eaf65>, line 4)",
     "output_type": "error",
     "traceback": [
      "\u001b[0;36m  File \u001b[0;32m\"<ipython-input-2-230cdf2eaf65>\"\u001b[0;36m, line \u001b[0;32m4\u001b[0m\n\u001b[0;31m    \"opis\": pass # funkcijo .. print(ime je star starost)\u001b[0m\n\u001b[0m            ^\u001b[0m\n\u001b[0;31mSyntaxError\u001b[0m\u001b[0;31m:\u001b[0m invalid syntax\n"
     ]
    }
   ],
   "source": [
    "pes = {\n",
    "    \"ime\": \"Fido\",\n",
    "    \"starost\": 9,\n",
    "    \"opis\": pass # funkcijo .. print(ime je star starost)\n",
    "}"
   ]
  },
  {
   "cell_type": "code",
   "execution_count": 3,
   "id": "97da303a",
   "metadata": {},
   "outputs": [],
   "source": [
    "class ImeRazreda:\n",
    "    pass"
   ]
  },
  {
   "cell_type": "code",
   "execution_count": null,
   "id": "2d0abbfa",
   "metadata": {},
   "outputs": [],
   "source": []
  },
  {
   "cell_type": "code",
   "execution_count": 5,
   "id": "1133e6c8",
   "metadata": {},
   "outputs": [
    {
     "name": "stdout",
     "output_type": "stream",
     "text": [
      "<__main__.Pes object at 0x7fea557d10a0>\n",
      "<class '__main__.Pes'>\n"
     ]
    }
   ],
   "source": [
    "class Pes:\n",
    "    pass\n",
    "\n",
    "fido = Pes()\n",
    "print(fido)\n",
    "print(type(fido))"
   ]
  },
  {
   "cell_type": "code",
   "execution_count": 6,
   "id": "83a66b93",
   "metadata": {},
   "outputs": [
    {
     "name": "stdout",
     "output_type": "stream",
     "text": [
      "Ustvarili smo novega psa\n",
      "<__main__.Pes object at 0x7fea557d1130>\n",
      "<class '__main__.Pes'>\n",
      "Ustvarili smo novega psa\n",
      "<__main__.Pes object at 0x7fea557d1160>\n",
      "<class '__main__.Pes'>\n"
     ]
    }
   ],
   "source": [
    "class Pes:\n",
    "    def __init__(self):\n",
    "        print(\"Ustvarili smo novega psa\")\n",
    "        \n",
    "        \n",
    "fido = Pes()\n",
    "print(fido)\n",
    "print(type(fido))\n",
    "\n",
    "rex = Pes()\n",
    "print(rex)\n",
    "print(type(rex))"
   ]
  },
  {
   "cell_type": "code",
   "execution_count": 14,
   "id": "088f9578",
   "metadata": {},
   "outputs": [
    {
     "name": "stdout",
     "output_type": "stream",
     "text": [
      "Ustvarili smo novega psa\n",
      "<__main__.Pes object at 0x7fea5c0365e0>\n",
      "<__main__.Pes object at 0x7fea5c0365e0>\n",
      "Fido\n",
      "9\n",
      "Ustvarili smo novega psa\n",
      "<__main__.Pes object at 0x7fea5574b460>\n",
      "<__main__.Pes object at 0x7fea5574b460>\n",
      "Rex\n",
      "12\n"
     ]
    }
   ],
   "source": [
    "class Pes:\n",
    "    def __init__(self, name, age):\n",
    "        print(\"Ustvarili smo novega psa\")\n",
    "        print(self)\n",
    "        self.ime = name\n",
    "        self.starost = age\n",
    "        \n",
    "fido = Pes(\"Fido\", 9)\n",
    "print(fido)\n",
    "print(fido.ime)\n",
    "print(fido.starost)\n",
    "\n",
    "rex = Pes(\"Rex\", 12)\n",
    "print(rex)\n",
    "print(rex.ime)\n",
    "print(rex.starost)"
   ]
  },
  {
   "cell_type": "markdown",
   "id": "f2455fc2",
   "metadata": {},
   "source": [
    "# https://bit.ly/3CZnjBj"
   ]
  },
  {
   "cell_type": "markdown",
   "id": "13ad1bd8",
   "metadata": {},
   "source": [
    "<div class=\"alert alert-block alert-info\">\n",
    "<h1><b>Naloga: </b></h1>\n",
    "\n",
    "Ustvarite razred Vozilo. Vsaka instanca naj ima svojo specifično hitrost in kilometrino.\n",
    "    \n",
    "Izpišite njegove lastnosti na sledeč način:\n",
    "\n",
    "\"Max hitrost -vozila-: -hitrost-. Prevozenih je -kilometrina- km.\"\n",
    "</div>\n",
    "\n",
    "Primeri:\n",
    "```python\n",
    "Input:\n",
    "avto = Vozilo(\"avto\", 300, 80)\n",
    "\n",
    "Output:\n",
    "Max hitrost avta: 300. Prevozenih je 80 km.\n",
    "\n",
    "Input:\n",
    "kamion = Vozilo(\"kamion\" ,90, 33)\n",
    "\n",
    "Output:\n",
    "Max hitrost kamion: 90. Prevozenih je 33 km.\n",
    "\n",
    "```\n"
   ]
  },
  {
   "cell_type": "code",
   "execution_count": 17,
   "id": "2b739981",
   "metadata": {},
   "outputs": [
    {
     "name": "stdout",
     "output_type": "stream",
     "text": [
      "Max hitrost avto: 300. Prevozenih je 80 km.\n",
      "Max hitrost kamnion: 90. Prevozenih je 33 km.\n"
     ]
    }
   ],
   "source": [
    "class Vozilo:\n",
    "    def __init__(self, vozilo, hitrost, kilometrina):\n",
    "        self.vozilo = vozilo\n",
    "        self.hitrost = hitrost\n",
    "        self.kilometrina = kilometrina\n",
    "        \n",
    "    \n",
    "avto = Vozilo(\"avto\", 300, 80)\n",
    "print(f\"Max hitrost {avto.vozilo}: {avto.hitrost}. Prevozenih je {avto.kilometrina} km.\")\n",
    "\n",
    "kamion = Vozilo(\"kamnion\", 90, 33)\n",
    "print(f\"Max hitrost {kamion.vozilo}: {kamion.hitrost}. Prevozenih je {kamion.kilometrina} km.\")"
   ]
  },
  {
   "cell_type": "code",
   "execution_count": null,
   "id": "1a98e749",
   "metadata": {},
   "outputs": [],
   "source": []
  },
  {
   "cell_type": "markdown",
   "id": "a143ff4e",
   "metadata": {},
   "source": [
    "## Class methods"
   ]
  },
  {
   "cell_type": "code",
   "execution_count": 23,
   "id": "bb1885bf",
   "metadata": {},
   "outputs": [
    {
     "name": "stdout",
     "output_type": "stream",
     "text": [
      "Fido je star 9 let.\n",
      "Rex je star 12 let.\n"
     ]
    }
   ],
   "source": [
    "class Pes:\n",
    "    def __init__(self, ime, starost):\n",
    "        self.ime = ime\n",
    "        self.starost = starost\n",
    "        \n",
    "    def opis(self):\n",
    "        print(f\"{self.ime} je star {self.starost} let.\")\n",
    "        \n",
    "fido = Pes(\"Fido\", 9)\n",
    "rex = Pes(\"Rex\", 12)\n",
    "\n",
    "fido.opis()\n",
    "rex.opis()"
   ]
  },
  {
   "cell_type": "code",
   "execution_count": 25,
   "id": "add5528d",
   "metadata": {},
   "outputs": [
    {
     "name": "stdout",
     "output_type": "stream",
     "text": [
      "Fido je star 9 let.\n",
      "Fido je star 9 let.\n"
     ]
    }
   ],
   "source": [
    "fido.opis()\n",
    "\n",
    "Pes.opis(fido)"
   ]
  },
  {
   "cell_type": "code",
   "execution_count": 28,
   "id": "86ad1b00",
   "metadata": {},
   "outputs": [
    {
     "name": "stdout",
     "output_type": "stream",
     "text": [
      "Fido je star 9 let.\n",
      "63\n",
      "Rex je star 12 let.\n",
      "84\n"
     ]
    }
   ],
   "source": [
    "class Pes:\n",
    "    def __init__(sself, ime, starost):\n",
    "        sself.ime = ime\n",
    "        sself.starost = starost\n",
    "        \n",
    "    def opis(self):\n",
    "        print(f\"{self.ime} je star {self.starost} let.\")\n",
    "        \n",
    "    def vrni_starost_v_cloveskih_letih(self):\n",
    "        return self.starost * 7\n",
    "    \n",
    "    \n",
    "fido = Pes(\"Fido\", 9)\n",
    "fido.opis()\n",
    "fido_human_age = fido.vrni_starost_v_cloveskih_letih()\n",
    "print(fido_human_age)\n",
    "\n",
    "rex = Pes(\"Rex\", 12)\n",
    "rex.opis()\n",
    "rex_human_age = rex.vrni_starost_v_cloveskih_letih()\n",
    "print(rex_human_age)"
   ]
  },
  {
   "cell_type": "markdown",
   "id": "2741e20c",
   "metadata": {},
   "source": [
    "<div class=\"alert alert-block alert-info\">\n",
    "<h1><b>Naloga: </b></h1>\n",
    "    \n",
    "Ustvarite razred Vozilo. Vsaka instanca naj ima svojo specifično hitrost in kilometrino <i>in koliko goriva je bilo porabljenega do sedaj</i>.\n",
    "    \n",
    "<i>Razred Vozilo naj ima funkcija <b>poraba()</b>, ki vrne koliko je povprečna poraba tega vozila.</i>\n",
    "</div>\n",
    "\n",
    "Primeri:\n",
    "```python\n",
    "Input:\n",
    "    \n",
    "avto = Vozilo(\"avto\", 300, 80, 100)\n",
    "print(avto.poraba())\n",
    "\n",
    "Output:\n",
    "Vozilo porabi 6.25l/km\n",
    "\n",
    "Input:\n",
    "kamion = Vozilo(\"kamion\", 90, 5500, 125000)\n",
    "print(f\"Vozilo porabi {kamion.poraba()}l/km\")\n",
    "\n",
    "Output:\n",
    "Vozilo porabi 22.73l/km\n",
    "\n",
    "\n",
    "```\n"
   ]
  },
  {
   "cell_type": "code",
   "execution_count": 32,
   "id": "f355bc20",
   "metadata": {},
   "outputs": [
    {
     "name": "stdout",
     "output_type": "stream",
     "text": [
      "Vozilo porabi 1.25 l/km\n",
      "Vozilo porabi 22.73 l/km\n"
     ]
    }
   ],
   "source": [
    "class Vozilo:\n",
    "    def __init__(self, vozilo, hitrost, kilometrina, gorivo):\n",
    "        self.vozilo = vozilo\n",
    "        self.hitrost = hitrost\n",
    "        self.kilometrina = kilometrina\n",
    "        self.gorivo = gorivo\n",
    "        \n",
    "    def poraba(self):\n",
    "        return self.gorivo / self.kilometrina\n",
    "    \n",
    "avto = Vozilo(\"avto\", 300, 80, 100)\n",
    "print(f\"Vozilo porabi {avto.poraba()} l/km\")\n",
    "\n",
    "kamion = Vozilo(\"kamion\", 90, 5500, 125_000)\n",
    "print(f\"Vozilo porabi {kamion.poraba():.2f} l/km\")\n"
   ]
  },
  {
   "cell_type": "markdown",
   "id": "6f3ae0c8",
   "metadata": {},
   "source": [
    "## Class variable"
   ]
  },
  {
   "cell_type": "code",
   "execution_count": 41,
   "id": "c3fe5e3c",
   "metadata": {},
   "outputs": [
    {
     "name": "stdout",
     "output_type": "stream",
     "text": [
      "['svinjina']\n",
      "Fido je star 9 let. Najraje ima ['svinjina']\n",
      "Rex je star 12 let. Najraje ima ['svinjina']\n",
      "['svinjina']\n",
      "['svinjina']\n"
     ]
    }
   ],
   "source": [
    "class Pes:\n",
    "    hrana = [\"svinjina\"]\n",
    "    \n",
    "    def __init__(self, ime, starost):\n",
    "        self.ime = ime\n",
    "        self.starost = starost\n",
    "        \n",
    "    def opis(self):\n",
    "        print(f\"{self.ime} je star {self.starost} let. Najraje ima {self.hrana}\")\n",
    "        \n",
    "        \n",
    "print(Pes.hrana)\n",
    "\n",
    "fido = Pes(\"Fido\", 9)\n",
    "rex = Pes(\"Rex\", 12)\n",
    "\n",
    "fido.opis()\n",
    "rex.opis()\n",
    "\n",
    "print(fido.hrana)\n",
    "print(rex.hrana)"
   ]
  },
  {
   "cell_type": "code",
   "execution_count": null,
   "id": "a1c2dacf",
   "metadata": {},
   "outputs": [],
   "source": []
  },
  {
   "cell_type": "code",
   "execution_count": 43,
   "id": "f17398af",
   "metadata": {},
   "outputs": [
    {
     "name": "stdout",
     "output_type": "stream",
     "text": [
      "Fido je star 9 let. Najraje ima ['svinjina']\n",
      "Rex je star 12 let. Najraje ima ['svinjina']\n",
      "Fido je star 9 let. Najraje ima ['teletina']\n",
      "Rex je star 12 let. Najraje ima ['teletina']\n"
     ]
    }
   ],
   "source": [
    "class Pes:\n",
    "    hrana = [\"svinjina\"]\n",
    "    \n",
    "    def __init__(self, ime, starost):\n",
    "        self.ime = ime\n",
    "        self.starost = starost\n",
    "        \n",
    "    def opis(self):\n",
    "        print(f\"{self.ime} je star {self.starost} let. Najraje ima {self.hrana}\")\n",
    "        \n",
    "\n",
    "fido = Pes(\"Fido\", 9)\n",
    "rex = Pes(\"Rex\", 12)\n",
    "\n",
    "fido.opis()\n",
    "rex.opis()\n",
    "\n",
    "Pes.hrana = [\"teletina\"]\n",
    "\n",
    "fido.opis()\n",
    "rex.opis()"
   ]
  },
  {
   "cell_type": "code",
   "execution_count": 46,
   "id": "5d97cdef",
   "metadata": {},
   "outputs": [
    {
     "name": "stdout",
     "output_type": "stream",
     "text": [
      "Fido je star 9. Najraje je ['svinjina']\n",
      "Rex je star 12. Najraje je ['svinjina']\n",
      "Ace je star 3. Najraje je ['svinjina']\n",
      "Fido je star 9. Najraje je ['svinjina', 'teletina']\n",
      "Rex je star 12. Najraje je ['svinjina', 'teletina']\n",
      "Ace je star 3. Najraje je ['svinjina', 'teletina']\n"
     ]
    }
   ],
   "source": [
    "class Pes:\n",
    "    hrana = [\"svinjina\"]\n",
    "    \n",
    "    def __init__(self, ime, starost):\n",
    "        self.ime = ime\n",
    "        self.starost = starost\n",
    "        \n",
    "    def opis(self):\n",
    "        print(f\"{self.ime} je star {self.starost}. Najraje je {self.hrana}\")\n",
    "        \n",
    "    def dodaj_hrano(self, hrana):\n",
    "        self.hrana.append(hrana)\n",
    "\n",
    "        \n",
    "fido = Pes(\"Fido\", 9)\n",
    "rex = Pes(\"Rex\", 12)\n",
    "ace = Pes(\"Ace\", 3)\n",
    "\n",
    "fido.opis()\n",
    "rex.opis()\n",
    "ace.opis()\n",
    "\n",
    "rex.dodaj_hrano(\"teletina\")\n",
    "\n",
    "fido.opis()\n",
    "rex.opis()\n",
    "ace.opis()"
   ]
  },
  {
   "cell_type": "code",
   "execution_count": 52,
   "id": "e3f3d7b4",
   "metadata": {},
   "outputs": [
    {
     "name": "stdout",
     "output_type": "stream",
     "text": [
      "Fido je star 9. Najraje je ['svinjina']\n",
      "Rex je star 12. Najraje je ['svinjina']\n",
      "Ace je star 3. Najraje je ['svinjina']\n",
      "Fido je star 9. Najraje je ['svinjina', 'teletina']\n",
      "Rex je star 12. Najraje je ['svinjina', 'teletina']\n",
      "Ace je star 3. Najraje je ['piščanec']\n"
     ]
    }
   ],
   "source": [
    "class Pes:\n",
    "    hrana = [\"svinjina\"]\n",
    "    \n",
    "    def __init__(self, ime, starost):\n",
    "        self.ime = ime\n",
    "        self.starost = starost\n",
    "        \n",
    "    def opis(self):\n",
    "        print(f\"{self.ime} je star {self.starost}. Najraje je {self.hrana}\")\n",
    "        \n",
    "    def dodaj_hrano(self, nova_hrana):\n",
    "        self.hrana.append(nova_hrana)\n",
    "        \n",
    "    def spremeni_hrano(self, nova_hrana):\n",
    "        self.hrana = [nova_hrana]\n",
    "        \n",
    "fido = Pes(\"Fido\", 9)\n",
    "rex = Pes(\"Rex\", 12)\n",
    "ace = Pes(\"Ace\", 3)\n",
    "\n",
    "fido.opis()\n",
    "rex.opis()\n",
    "ace.opis()\n",
    "\n",
    "rex.dodaj_hrano(\"teletina\")\n",
    "ace.spremeni_hrano(\"piščanec\")\n",
    "\n",
    "fido.opis()\n",
    "rex.opis()\n",
    "ace.opis()"
   ]
  },
  {
   "cell_type": "markdown",
   "id": "158b06d4",
   "metadata": {},
   "source": [
    "<div class=\"alert alert-block alert-info\">\n",
    "<h1><b>Naloga: </b></h1>\n",
    "    \n",
    "Ustvarite razred Vozilo. Vsaka instanca naj ima svojo specifično hitrost in kilometrino in koliko goriva je bilo porabljenega do sedaj.\n",
    "   \n",
    "Razred Vozilo naj ima funkcija <b>poraba()</b>, ki vrne koliko je povprečna poraba tega vozila.\n",
    "    \n",
    "<i>Dodajte <b>class variable</b> razredu Vozilo. Spremenljivki naj bo ime <b>st_gum</b> in njena vrednost naj bo <b>4</b>.</i>\n",
    "    \n",
    "<i>Dodajte metodo <b>opis()</b>, ki naj izpiše opis vozila.</i>\n",
    "</div>\n",
    "\n",
    "Primeri:\n",
    "```python\n",
    "Input:\n",
    "    \n",
    "avto = Vozilo(\"avto\", 300, 80, 500)\n",
    "avto.opis()\n",
    "\n",
    "Output:\n",
    "Max hitrost avto: 300. Prevozenih je 80 km. Poraba vozila je 6.25. Vozilo ima 4 gum. \n",
    "\n",
    "Input:\n",
    "kamion = Vozilo(\"kamion\", 90, 5500, 125000)\n",
    "kamion.opis()\n",
    "\n",
    "Output:\n",
    "Max hitrost kamion: 180. Prevozenih je 5500 km. Poraba vozila je 22.73. Vozilo ima 4 gum.\n",
    "\n",
    "\n",
    "```\n"
   ]
  },
  {
   "cell_type": "code",
   "execution_count": 55,
   "id": "c181cffe",
   "metadata": {},
   "outputs": [
    {
     "name": "stdout",
     "output_type": "stream",
     "text": [
      "Max hitrost avto: 300. Prevozenih je 80 km. Poraba vozila je 6.25. Ima 4 gume.\n",
      "Max hitrost kamion: 90. Prevozenih je 5500 km. Poraba vozila je 22.73. Ima 4 gume.\n"
     ]
    }
   ],
   "source": [
    "class Vozilo:\n",
    "    st_gum = 4\n",
    "    \n",
    "    def __init__(self, vozilo, hitrost, kilometrina, gorivo):\n",
    "        self.vozilo = vozilo\n",
    "        self.hitrost = hitrost\n",
    "        self.kilometrina = kilometrina\n",
    "        self.gorivo = gorivo\n",
    "        \n",
    "    def poraba(self):\n",
    "        return self.gorivo / self.kilometrina\n",
    "    \n",
    "    def opis(self):\n",
    "        print(f\"Max hitrost {self.vozilo}: {self.hitrost}. Prevozenih je {self.kilometrina} km. Poraba vozila je {self.poraba():.2f}. Ima {self.st_gum} gume.\")\n",
    "        \n",
    "        \n",
    "avto = Vozilo(\"avto\", 300, 80, 500)\n",
    "avto.opis()\n",
    "\n",
    "kamion = Vozilo(\"kamion\", 90, 5500, 125_000)\n",
    "kamion.opis()"
   ]
  },
  {
   "cell_type": "code",
   "execution_count": null,
   "id": "cc8161f6",
   "metadata": {},
   "outputs": [],
   "source": []
  },
  {
   "cell_type": "markdown",
   "id": "a09f012a",
   "metadata": {},
   "source": [
    "# Decorators"
   ]
  },
  {
   "cell_type": "code",
   "execution_count": 60,
   "id": "e1994d64",
   "metadata": {},
   "outputs": [
    {
     "name": "stdout",
     "output_type": "stream",
     "text": [
      "Fido je star 9. Najraje je ['svinjina']. Je vrste Pes\n",
      "Rex je star 12. Najraje je ['svinjina']. Je vrste Pes\n",
      "<class '__main__.Pes'>\n",
      "Fido je star 9. Najraje je ['svinjina']. Je vrste kuščar\n",
      "Rex je star 12. Najraje je ['svinjina']. Je vrste kuščar\n"
     ]
    }
   ],
   "source": [
    "class Pes:\n",
    "    vrsta = \"Pes\"\n",
    "    hrana = [\"svinjina\"]\n",
    "    \n",
    "    def __init__(self, ime, starost):\n",
    "        self.ime = ime\n",
    "        self.starost = starost\n",
    "    \n",
    "    def opis(self):\n",
    "        return f\"{self.ime} je star {self.starost}. Najraje je {self.hrana}. Je vrste {self.vrsta}\"\n",
    "    \n",
    "    @classmethod\n",
    "    def spremeni_vrsto(csl, vrsta):\n",
    "        print(csl)\n",
    "        csl.vrsta = vrsta\n",
    "        \n",
    "fido = Pes(\"Fido\", 9)\n",
    "rex = Pes(\"Rex\", 12)\n",
    "\n",
    "print(fido.opis())\n",
    "print(rex.opis())\n",
    "\n",
    "fido.spremeni_vrsto(\"kuščar\")\n",
    "\n",
    "print(fido.opis())\n",
    "print(rex.opis())"
   ]
  },
  {
   "cell_type": "code",
   "execution_count": 63,
   "id": "e2893241",
   "metadata": {},
   "outputs": [
    {
     "name": "stdout",
     "output_type": "stream",
     "text": [
      "Fido je star 9. Najraje je ['svinjina']. Je vrste Pes\n",
      "Rex je star 12. Najraje je ['svinjina']. Je vrste Pes\n",
      "4\n"
     ]
    }
   ],
   "source": [
    "class Pes:\n",
    "    vrsta = \"Pes\"\n",
    "    hrana = [\"svinjina\"]\n",
    "    \n",
    "    def __init__(self, ime, starost):\n",
    "        self.ime = ime\n",
    "        self.starost = starost\n",
    "        \n",
    "    def opis(self):\n",
    "        return f\"{self.ime} je star {self.starost}. Najraje je {self.hrana}. Je vrste {self.vrsta}\"\n",
    "    \n",
    "    @staticmethod\n",
    "    def dolzina_ime(ime):\n",
    "        return len(ime)\n",
    "    \n",
    "fido = Pes(\"Fido\", 9)\n",
    "rex = Pes(\"Rex\", 12)\n",
    "\n",
    "print(fido.opis())\n",
    "print(rex.opis())\n",
    "\n",
    "print(fido.dolzina_ime(fido.ime))"
   ]
  },
  {
   "cell_type": "markdown",
   "id": "c7cffd08",
   "metadata": {},
   "source": [
    "# Class inheritance"
   ]
  },
  {
   "cell_type": "code",
   "execution_count": 65,
   "id": "22dcb7ad",
   "metadata": {},
   "outputs": [
    {
     "name": "stdout",
     "output_type": "stream",
     "text": [
      "Fido je star 9. Najraje je ['svinjina'] in je vrste Pes\n"
     ]
    }
   ],
   "source": [
    "class Pes:\n",
    "    vrsta = \"Pes\"\n",
    "    hrana = [\"svinjina\"]\n",
    "    \n",
    "    def __init__(self, ime, starost):\n",
    "        self.ime = ime\n",
    "        self.starost = starost\n",
    "        \n",
    "    def opis(self):\n",
    "        print(f\"{self.ime} je star {self.starost}. Najraje je {self.hrana} in je vrste {self.vrsta}\")\n",
    "        \n",
    "fido = Pes(\"Fido\", 9)\n",
    "fido.opis()"
   ]
  },
  {
   "cell_type": "code",
   "execution_count": 66,
   "id": "d3313b01",
   "metadata": {},
   "outputs": [
    {
     "name": "stdout",
     "output_type": "stream",
     "text": [
      "<class '__main__.Bulldog'>\n",
      "<__main__.Bulldog object at 0x7fea43bfa5b0>\n",
      "Spencer je star 15. Najraje je ['svinjina'] in je vrste Pes\n"
     ]
    }
   ],
   "source": [
    "class Bulldog(Pes):\n",
    "    pass\n",
    "\n",
    "spencer = Bulldog(\"Spencer\", 15)\n",
    "print(type(spencer))\n",
    "print(spencer)\n",
    "spencer.opis()"
   ]
  },
  {
   "cell_type": "code",
   "execution_count": null,
   "id": "3f7ea15f",
   "metadata": {},
   "outputs": [],
   "source": []
  },
  {
   "cell_type": "code",
   "execution_count": 70,
   "id": "37e18652",
   "metadata": {},
   "outputs": [
    {
     "name": "stdout",
     "output_type": "stream",
     "text": [
      "Spencer je star 15. Najraje je ['svinjina'] in je vrste Pes\n",
      "Fido je star 9. Najraje je ['svinjina'] in je vrste Pes\n",
      "Woof woof\n"
     ]
    },
    {
     "ename": "AttributeError",
     "evalue": "'Pes' object has no attribute 'bark'",
     "output_type": "error",
     "traceback": [
      "\u001b[0;31m---------------------------------------------------------------------------\u001b[0m",
      "\u001b[0;31mAttributeError\u001b[0m                            Traceback (most recent call last)",
      "\u001b[0;32m<ipython-input-70-10044d1881d4>\u001b[0m in \u001b[0;36m<module>\u001b[0;34m\u001b[0m\n\u001b[1;32m     22\u001b[0m \u001b[0;34m\u001b[0m\u001b[0m\n\u001b[1;32m     23\u001b[0m \u001b[0mspencer\u001b[0m\u001b[0;34m.\u001b[0m\u001b[0mbark\u001b[0m\u001b[0;34m(\u001b[0m\u001b[0;34m)\u001b[0m\u001b[0;34m\u001b[0m\u001b[0;34m\u001b[0m\u001b[0m\n\u001b[0;32m---> 24\u001b[0;31m \u001b[0mfido\u001b[0m\u001b[0;34m.\u001b[0m\u001b[0mbark\u001b[0m\u001b[0;34m(\u001b[0m\u001b[0;34m)\u001b[0m\u001b[0;34m\u001b[0m\u001b[0;34m\u001b[0m\u001b[0m\n\u001b[0m",
      "\u001b[0;31mAttributeError\u001b[0m: 'Pes' object has no attribute 'bark'"
     ]
    }
   ],
   "source": [
    "class Pes:\n",
    "    vrsta = \"Pes\"\n",
    "    hrana = [\"svinjina\"]\n",
    "    \n",
    "    def __init__(self, ime, starost):\n",
    "        self.ime = ime\n",
    "        self.starost = starost\n",
    "        \n",
    "    def opis(self):\n",
    "        print(f\"{self.ime} je star {self.starost}. Najraje je {self.hrana} in je vrste {self.vrsta}\")\n",
    "        \n",
    "\n",
    "class Bulldog(Pes):\n",
    "    def bark(self):\n",
    "        print(\"Woof woof\")\n",
    "\n",
    "spencer = Bulldog(\"Spencer\", 15)\n",
    "fido = Pes(\"Fido\", 9)\n",
    "\n",
    "spencer.opis()\n",
    "fido.opis()\n",
    "\n",
    "spencer.bark()\n",
    "fido.bark()"
   ]
  },
  {
   "cell_type": "code",
   "execution_count": 71,
   "id": "cdf1730d",
   "metadata": {},
   "outputs": [
    {
     "name": "stdout",
     "output_type": "stream",
     "text": [
      "Fido je star 9. Najraje je ['svinjina'] in je vrste Pes\n",
      "Spencer je star 12. Najraje je ['svinjina'] in je vrste Bulldog\n"
     ]
    }
   ],
   "source": [
    "class Pes:\n",
    "    vrsta = \"Pes\"\n",
    "    hrana = [\"svinjina\"]\n",
    "    \n",
    "    def __init__(self, ime, starost):\n",
    "        self.ime = ime\n",
    "        self.starost = starost\n",
    "        \n",
    "    def opis(self):\n",
    "        print(f\"{self.ime} je star {self.starost}. Najraje je {self.hrana} in je vrste {self.vrsta}\")\n",
    "        \n",
    "\n",
    "class Bulldog(Pes):\n",
    "    vrsta = \"Bulldog\"\n",
    "    \n",
    "    def bark(self):\n",
    "        print(\"Woof woof\")\n",
    "        \n",
    "fido = Pes(\"Fido\", 9)\n",
    "spencer = Bulldog(\"Spencer\", 12)\n",
    "\n",
    "fido.opis()\n",
    "spencer.opis()"
   ]
  },
  {
   "cell_type": "code",
   "execution_count": 74,
   "id": "81b3cdb3",
   "metadata": {},
   "outputs": [
    {
     "name": "stdout",
     "output_type": "stream",
     "text": [
      "Fido je star 9. Je ['svinjina'] in je vrste Pes\n",
      "Spencer je star 12. Je ['svinjina'] ampak najraje čevapi in je vrste Bulldog\n"
     ]
    }
   ],
   "source": [
    "class Pes:\n",
    "    vrsta = \"Pes\"\n",
    "    hrana = [\"svinjina\"]\n",
    "    \n",
    "    def __init__(self, ime, starost):\n",
    "        self.ime = ime\n",
    "        self.starost = starost\n",
    "        \n",
    "    def opis(self):\n",
    "        print(f\"{self.ime} je star {self.starost}. Je {self.hrana} in je vrste {self.vrsta}\")\n",
    "\n",
    "\n",
    "class Bulldog(Pes):\n",
    "    vrsta = \"Bulldog\"\n",
    "    def __init__(self, ime, starost, najljubsa_hrana):\n",
    "        #self.ime = ime\n",
    "        #self.starost = starost\n",
    "        super().__init__(ime, starost)\n",
    "        self.najljubsa_hrana = najljubsa_hrana\n",
    "        \n",
    "    def opis(self):\n",
    "        print(f\"{self.ime} je star {self.starost}. Je {self.hrana} ampak najraje {self.najljubsa_hrana} in je vrste {self.vrsta}\")\n",
    "\n",
    "\n",
    "fido = Pes(\"Fido\", 9)\n",
    "spencer = Bulldog(\"Spencer\", 12, \"čevapi\")\n",
    "\n",
    "fido.opis()\n",
    "spencer.opis()"
   ]
  },
  {
   "cell_type": "markdown",
   "id": "990fe059",
   "metadata": {},
   "source": [
    "<div class=\"alert alert-block alert-info\">\n",
    "<h1><b>Naloga: </b></h1>\n",
    "    \n",
    "Ustvarite razred Vozilo. Vsaka instanca naj ima svojo specifično hitrost in kilometrino in koliko goriva je bilo porabljenega do sedaj.\n",
    "   \n",
    "Razred Vozilo naj ima funkcija <b>poraba()</b>, ki vrne koliko je povprečna poraba tega vozila.\n",
    "    \n",
    "Dodajte <b>class variable</b> razredu Vozilo. Spremenljivki naj bo ime <b>st_gum</b> in njena vrednost naj bo <b>4</b>.\n",
    "Dodajte metodo <b>opis()</b>, ki naj izpiše opis vozila.\n",
    "    \n",
    "    \n",
    "<i>Ustvarite podrazreda <b>Avto</b> in <b>Motor</b>. Razreda naj dedujete od razreda Vozila. Motor razred naj prepiše spremenljivko <b>st_gum</b> v <b>2</b>. Vsak razred naj pravilno shrani ime vozila, ko ustvarimo novo instanco.</i></div>\n",
    "\n",
    "Primeri:\n",
    "```python\n",
    "Input:\n",
    "avto = Avto(300, 80, 500)\n",
    "avto.opis()\n",
    "Output:\n",
    "Max hitrost avto: 300. Prevozenih je 80 km. Poraba vozila je 6.25 l/km. Vozilo ima 4 gum.\n",
    "Input:\n",
    "motor = Motor(90, 220, 520)\n",
    "motor.opis()\n",
    "Output:\n",
    "Max hitrost motor: 90. Prevozenih je 220 km. Poraba vozila je 2.36 l/km. Vozilo ima 2 gum.\n",
    "```\n"
   ]
  },
  {
   "cell_type": "code",
   "execution_count": 83,
   "id": "16a07311",
   "metadata": {},
   "outputs": [
    {
     "name": "stdout",
     "output_type": "stream",
     "text": [
      "Max hitrost avto: 300. Prevozenih je 80 km. Poraba je 6.25 l/km. Vozilo ima 4 gum.\n",
      "Max hitrost motor: 90. Prevozenih je 220 km. Poraba je 2.36 l/km. Vozilo ima 2 gum.\n"
     ]
    }
   ],
   "source": [
    "class Vozilo:\n",
    "    st_gum = 4\n",
    "    \n",
    "    def __init__(self, vozilo, hitrost, kilometrina, gorivo):\n",
    "        self.vozilo = vozilo\n",
    "        self.hitrost = hitrost\n",
    "        self.kilometrina = kilometrina\n",
    "        self.gorivo = gorivo\n",
    "        \n",
    "    def poraba(self):\n",
    "        return self.gorivo/self.kilometrina\n",
    "    \n",
    "    def opis(self):\n",
    "        print(f\"Max hitrost {self.vozilo}: {self.hitrost}. Prevozenih je {self.kilometrina} km. Poraba je {self.poraba():.2f} l/km. Vozilo ima {self.st_gum} gum.\")\n",
    "        \n",
    "        \n",
    "class Avto(Vozilo):\n",
    "    def __init__(self, hitrost, kilometrina, gorivo):\n",
    "        super().__init__(\"avto\", hitrost, kilometrina, gorivo)\n",
    "        \n",
    "class Motor(Vozilo):\n",
    "    st_gum = 2\n",
    "    \n",
    "    def __init__(self, hitrost, kilometrina, gorivo):\n",
    "        super().__init__(\"motor\", hitrost, kilometrina, gorivo)\n",
    "\n",
    "#avto = Vozilo(\"avto\", 300, 80, 500)\n",
    "avto = Avto(300, 80, 500)\n",
    "avto.opis()\n",
    "\n",
    "#motor = Vozilo(\"motor\", 90, 220, 520)\n",
    "motor = Motor(90, 220, 520)\n",
    "motor.opis()"
   ]
  },
  {
   "cell_type": "code",
   "execution_count": null,
   "id": "4e80717c",
   "metadata": {},
   "outputs": [],
   "source": []
  },
  {
   "cell_type": "markdown",
   "id": "88183055",
   "metadata": {},
   "source": [
    "# Multiple inheritance"
   ]
  },
  {
   "cell_type": "code",
   "execution_count": 89,
   "id": "d01e1c90",
   "metadata": {},
   "outputs": [
    {
     "name": "stdout",
     "output_type": "stream",
     "text": [
      "10\n",
      "11\n",
      "20\n",
      "21\n"
     ]
    }
   ],
   "source": [
    "class SuperA:\n",
    "    varA = 10\n",
    "    def funa(self):\n",
    "        return 11\n",
    "    \n",
    "class SuperB:\n",
    "    varB = 20\n",
    "    def funb(self):\n",
    "        return 21\n",
    "    \n",
    "class Sub(SuperA, SuperB):\n",
    "    pass\n",
    "\n",
    "obj_ = Sub()\n",
    "\n",
    "print(obj_.varA)\n",
    "print(obj_.funa())\n",
    "print(obj_.varB)\n",
    "print(obj_.funb())"
   ]
  },
  {
   "cell_type": "code",
   "execution_count": 94,
   "id": "48cc830d",
   "metadata": {},
   "outputs": [
    {
     "name": "stdout",
     "output_type": "stream",
     "text": [
      "100\n",
      "200\n",
      "a\n"
     ]
    }
   ],
   "source": [
    "class A:\n",
    "    varA = 100\n",
    "    def fun(self):\n",
    "        print(\"a\")\n",
    "        \n",
    "class B:\n",
    "    varB = 200\n",
    "    def fun(self):\n",
    "        print(\"b\")\n",
    "        \n",
    "class C(A, B):\n",
    "    pass\n",
    "\n",
    "obj_ = C()\n",
    "print(obj_.varA)\n",
    "print(obj_.varB)\n",
    "obj_.fun()"
   ]
  },
  {
   "cell_type": "code",
   "execution_count": 95,
   "id": "58739cef",
   "metadata": {},
   "outputs": [
    {
     "name": "stdout",
     "output_type": "stream",
     "text": [
      "100\n",
      "101\n"
     ]
    }
   ],
   "source": [
    "class Level0:\n",
    "    var = 0\n",
    "    def fun(self):\n",
    "        return 0\n",
    "    \n",
    "class Level1(Level0):\n",
    "    var = 100\n",
    "    def fun(self):\n",
    "        return 101\n",
    "    \n",
    "class Level2(Level1):\n",
    "    pass\n",
    "\n",
    "obj_ = Level2()\n",
    "print(obj_.var)\n",
    "print(obj_.fun())"
   ]
  },
  {
   "cell_type": "code",
   "execution_count": 101,
   "id": "f854db31",
   "metadata": {},
   "outputs": [
    {
     "name": "stdout",
     "output_type": "stream",
     "text": [
      "True\n",
      "True\n",
      "True\n",
      "-------\n",
      "True\n",
      "True\n",
      "False\n"
     ]
    }
   ],
   "source": [
    "class Level0:\n",
    "    var = 0\n",
    "    def fun(self):\n",
    "        return 0\n",
    "    \n",
    "class Level1(Level0):\n",
    "    var = 1\n",
    "    def fun(self):\n",
    "        return 101\n",
    "    \n",
    "class Level2(Level1):\n",
    "    pass\n",
    "\n",
    "\n",
    "l0 = Level0()\n",
    "l1 = Level1()\n",
    "l2 = Level2()\n",
    "\n",
    "print(isinstance(l2, Level2))\n",
    "print(isinstance(l2, Level1))\n",
    "print(isinstance(l2, Level0))\n",
    "print(\"-------\")\n",
    "print(isinstance(l1, Level0))\n",
    "print(isinstance(l1, Level1))\n",
    "print(isinstance(l1, Level2))"
   ]
  },
  {
   "cell_type": "code",
   "execution_count": 102,
   "id": "bb599288",
   "metadata": {},
   "outputs": [
    {
     "data": {
      "text/plain": [
       "(__main__.Level2, __main__.Level1, __main__.Level0, object)"
      ]
     },
     "execution_count": 102,
     "metadata": {},
     "output_type": "execute_result"
    }
   ],
   "source": [
    "import inspect\n",
    "\n",
    "class Level0:\n",
    "    var = 0\n",
    "    def fun(self):\n",
    "        return 0\n",
    "    \n",
    "class Level1(Level0):\n",
    "    var = 100\n",
    "    def fun(self):\n",
    "        return 101\n",
    "    \n",
    "class Level2(Level1):\n",
    "    pass\n",
    "\n",
    "\n",
    "inspect.getmro(Level2)"
   ]
  },
  {
   "cell_type": "code",
   "execution_count": null,
   "id": "c8014134",
   "metadata": {},
   "outputs": [],
   "source": []
  },
  {
   "cell_type": "markdown",
   "id": "ee36d86c",
   "metadata": {},
   "source": [
    "## Banka\n",
    "\n",
    "Napišite program:\n",
    "\n",
    "```python\n",
    "class Oseba():\n",
    "    def __init__(self, ime, priimek):\n",
    "        # za to instanco naj ustvari spremenljivki ime in priimek\n",
    "    def __str__(self):\n",
    "        # vrne naj string, znotraj katerega imamo ime in priimek\n",
    "        \n",
    "        \n",
    "class Stranka(): # class naj deduje od razreda Oseba()\n",
    "    def nastavi_stanje(self, stanje):\n",
    "        # metoda naj ustvari spremenljivko samo za to instaco razreda. Vrednost naj bo \"stanje\" oziroma default vrednost naj bo 0. Metoda naj nato vrne vrednost spremenljivke stanje\n",
    "    def dvig(self, znesek):\n",
    "        # Od stanja naj se odšteje znesek.\n",
    "        # V kolikor ni dovolj denarja na računu naj se dvigne z banke celotno stanje\n",
    "        # Na koncu naj metoda vrne dvignjen znesek\n",
    "    def polog(self, znesek):\n",
    "        # metoda naj doda velikost zneska stanju\n",
    "        # nato naj metoda vrne novo stanje\n",
    "        \n",
    "INPUT:\n",
    "objekt = Stranka(\"Gregor\", \"Balkovec\")\n",
    "print(objekt)\n",
    "print(objekt.nastavi_stanje())\n",
    "print(objekt.polog(5000))\n",
    "print(objekt.dvig(2000))\n",
    "print(objekt.dvig(4000))\n",
    "\n",
    "OUTPUT:\n",
    "Gregor Balkovec\n",
    "0.0\n",
    "5000.0\n",
    "2000\n",
    "Dal ti bom samo 3000.0\n",
    "3000.0\n",
    "\n",
    "```"
   ]
  },
  {
   "cell_type": "code",
   "execution_count": 106,
   "id": "b7f2672c",
   "metadata": {},
   "outputs": [
    {
     "name": "stdout",
     "output_type": "stream",
     "text": [
      "Gregor Balkovec\n",
      "0\n",
      "5000\n",
      "2000\n",
      "Dal ti bom samo 3000\n",
      "3000\n"
     ]
    }
   ],
   "source": [
    "class Oseba():\n",
    "    def __init__(self, ime, priimek):\n",
    "        # za to instanco naj ustvari spremenljivki ime in priimek\n",
    "        self.ime = ime\n",
    "        self.priimek = priimek\n",
    "        \n",
    "    def __str__(self):\n",
    "        # vrne naj string, znotraj katerega imamo ime in priimek\n",
    "        return f\"{self.ime} {self.priimek}\"\n",
    "\n",
    "class Stranka(Oseba): # class naj deduje od razreda Oseba()\n",
    "    def nastavi_stanje(self, stanje=0):\n",
    "        # metoda naj ustvari spremenljivko samo za to instaco razreda. Vrednost naj bo \"stanje\" oziroma default vrednost naj bo 0. Metoda naj nato vrne vrednost spremenljivke stanje\n",
    "        self.stanje = stanje\n",
    "        return self.stanje\n",
    "        \n",
    "    def dvig(self, znesek):\n",
    "        # Od stanja naj se odšteje znesek.\n",
    "        # V kolikor ni dovolj denarja na računu naj se dvigne z banke celotno stanje\n",
    "        # Na koncu naj metoda vrne dvignjen znesek\n",
    "        dvign = 0\n",
    "        if znesek > self.stanje:\n",
    "            print(\"Dal ti bom samo\", self.stanje)\n",
    "            dvig = self.stanje\n",
    "            self.stanje = 0\n",
    "        else:\n",
    "            self.stanje -= znesek\n",
    "            dvig = znesek\n",
    "        return dvig\n",
    "    \n",
    "    def polog(self, znesek):\n",
    "        # metoda naj doda velikost zneska stanju\n",
    "        # nato naj metoda vrne novo stanje\n",
    "        self.stanje += znesek\n",
    "        return self.stanje\n",
    "        \n",
    "objekt = Stranka(\"Gregor\", \"Balkovec\")\n",
    "print(objekt)\n",
    "print(objekt.nastavi_stanje())\n",
    "print(objekt.polog(5000))\n",
    "print(objekt.dvig(2000))\n",
    "print(objekt.dvig(4000))"
   ]
  },
  {
   "cell_type": "markdown",
   "id": "695df135",
   "metadata": {},
   "source": [
    "# Class - Pismo in Posta\n",
    "\n",
    "```python\n",
    "\n",
    "    \n",
    "class Posta:    \n",
    "    def __init__(self, stevilka, naziv):\n",
    "        # Vsaka instanca razreda Posta naj vsebuje: \n",
    "        # - :string: naziv poste (Primer: Ljubljana) \n",
    "        # - :integer: stevilka poste (Primer: 1000)\n",
    "        pass\n",
    "    def vrni_stevilko(self, ...):\n",
    "        # vrne naj :integer: stevilko\n",
    "        pass\n",
    "    def vrni_naziv(self):\n",
    "        # vrne naj :string: naziv poste\n",
    "        pass\n",
    "    def to_string(self):\n",
    "        # vrne naj string v sledeči obliki: stevilka naziv (Primer: 1000 Ljubljana)\n",
    "        pass\n",
    "    \n",
    "class Pismo:\n",
    "    def __init__(self, izvorna_posta, ciljna_posta, vrsta_pisma):\n",
    "        # Vsaka instanca razreda naj vsebuje:\n",
    "        # - :posta: izvorna_posta (Primer: 1000 Ljubljana)\n",
    "        # - :posta: ciljna_posta (Primer: 2000 Maribor)\n",
    "        # - :string: vrsta_pisma (priporočeno ali navadno)\n",
    "        pass\n",
    "    def to_string(self, ...):\n",
    "        # vrne naj :string: ki opisuje pismo (Primer: 1000 Ljubljana -> 2000 Maribor [P])\n",
    "            # [P] če je pismo priporočeno, [N] če je pismo navadno\n",
    "        pass\n",
    "    def sta_izvor_in_cilj_ista(self, ...):\n",
    "        # Vrne True če sta stevilke izvorne in ciljne poste isti\n",
    "        pass\n",
    "        \n",
    "TESTIRANJE:\n",
    "posta_ljubljana = Posta(1000, \"Ljubljana\")\n",
    "posta_maribor = Posta(2000, \"Maribor\")\n",
    "pismo1 = Pismo(posta_ljubljana, posta_maribor, \"priporočeno\")\n",
    "pismo2 = Pismo(posta_maribor, posta_maribor, \"navadno\")\n",
    "print(pismo1.to_string())\n",
    "print(pismo2.to_string())\n",
    "print(pismo2.sta_izvor_in_cilj_ista())\n",
    "\n",
    "VRNE NAJ:\n",
    "1000 Ljubljana -> 2000 Maribor [P]\n",
    "2000 Maribor -> 2000 Maribor [N]\n",
    "True\n",
    "```"
   ]
  },
  {
   "cell_type": "code",
   "execution_count": 124,
   "id": "bb94efa6",
   "metadata": {},
   "outputs": [
    {
     "name": "stdout",
     "output_type": "stream",
     "text": [
      "1000 Ljubljana\n",
      "1000 Ljubljana -> 2000 Maribor [P]\n",
      "2000 Maribor -> 2000 Maribor [N]\n",
      "True\n"
     ]
    }
   ],
   "source": [
    "class Posta:    \n",
    "    def __init__(self, stevilka, naziv):\n",
    "        # Vsaka instanca razreda Posta naj vsebuje: \n",
    "        # - :string: naziv poste (Primer: Ljubljana) \n",
    "        # - :integer: stevilka poste (Primer: 1000)\n",
    "        self.stevilka = stevilka\n",
    "        self.naziv = naziv\n",
    "\n",
    "    def vrni_stevilko(self):\n",
    "        # vrne naj :integer: stevilko\n",
    "        return self.stevilka\n",
    "    \n",
    "    def vrni_naziv(self):\n",
    "        # vrne naj :string: naziv poste\n",
    "        return self.naziv\n",
    "    \n",
    "    def to_string(self):\n",
    "        # vrne naj string v sledeči obliki: stevilka naziv (Primer: 1000 Ljubljana)\n",
    "        return f\"{self.stevilka} {self.naziv}\"\n",
    "\n",
    "class Pismo:\n",
    "    def __init__(self, izvorna_posta, ciljna_posta, vrsta_pisma):\n",
    "        # Vsaka instanca razreda naj vsebuje:\n",
    "        # - :posta: izvorna_posta (Primer: 1000 Ljubljana)\n",
    "        # - :posta: ciljna_posta (Primer: 2000 Maribor)\n",
    "        # - :string: vrsta_pisma (priporočeno ali navadno)\n",
    "        self.izvorna_posta = izvorna_posta\n",
    "        self.ciljna_posta = ciljna_posta\n",
    "        self.vrsta_pisma = vrsta_pisma\n",
    "        \n",
    "    def to_string(self):\n",
    "        # vrne naj :string: ki opisuje pismo (Primer: 1000 Ljubljana -> 2000 Maribor [P])\n",
    "            # [P] če je pismo priporočeno, [N] če je pismo navadno\n",
    "        string = f\"{self.izvorna_posta.to_string()} -> {self.ciljna_posta.to_string()}\"\n",
    "        if self.vrsta_pisma == \"priporočeno\":\n",
    "            string += \" [P]\"\n",
    "        else:\n",
    "            string += \" [N]\"\n",
    "        return string\n",
    "    def sta_izvor_in_cilj_ista(self):\n",
    "        # Vrne True če sta stevilke izvorne in ciljne poste isti\n",
    "        if self.izvorna_posta.stevilka == self.ciljna_posta.stevilka:\n",
    "            return True\n",
    "        else:\n",
    "            return False\n",
    "\n",
    "    \n",
    "posta_ljubljana = Posta(1000, \"Ljubljana\")\n",
    "posta_maribor = Posta(2000, \"Maribor\")\n",
    "print(posta_ljubljana.to_string())\n",
    "pismo1 = Pismo(posta_ljubljana, posta_maribor, \"priporočeno\")\n",
    "pismo2 = Pismo(posta_maribor, posta_maribor, \"navadno\")\n",
    "print(pismo1.to_string())\n",
    "print(pismo2.to_string())\n",
    "print(pismo2.sta_izvor_in_cilj_ista())"
   ]
  },
  {
   "cell_type": "code",
   "execution_count": null,
   "id": "f1469b99",
   "metadata": {},
   "outputs": [],
   "source": []
  },
  {
   "cell_type": "code",
   "execution_count": null,
   "id": "73d5b332",
   "metadata": {},
   "outputs": [],
   "source": []
  },
  {
   "cell_type": "code",
   "execution_count": null,
   "id": "6aa8250b",
   "metadata": {},
   "outputs": [],
   "source": []
  }
 ],
 "metadata": {
  "kernelspec": {
   "display_name": "Python 3",
   "language": "python",
   "name": "python3"
  },
  "language_info": {
   "codemirror_mode": {
    "name": "ipython",
    "version": 3
   },
   "file_extension": ".py",
   "mimetype": "text/x-python",
   "name": "python",
   "nbconvert_exporter": "python",
   "pygments_lexer": "ipython3",
   "version": "3.8.8"
  }
 },
 "nbformat": 4,
 "nbformat_minor": 5
}
